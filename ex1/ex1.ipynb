{
 "cells": [
  {
   "cell_type": "markdown",
   "id": "53274fb5",
   "metadata": {},
   "source": [
    "\n",
    "<div class=\"alert alert-block alert-info\">\n",
    "   <h2 align=\"center\"> <center><b> Reinforcement Learning Assignment 1 - The Reinforcement Learning Framework</b></center></h2>\n",
    "\n",
    "<br>\n",
    "<center><font size=\"3\">This notebook is a part of teaching material for ELEC-E8125</font></center>\n",
    "<center><font size=\"3\">Sep 4, 2023 - Nov 30, 2023</font></center>\n",
    "<center><font size=\"3\">Aalto University</font></center>\n",
    "</div>\n",
    "\n",
    "\n",
    "<a id='TOC'></a>\n",
    "\n",
    "<div class=\"alert alert-block alert-success\">\n",
    "    \n",
    "# Table of contents\n",
    "* <a href='#1.'> 1. Introduction </a>\n",
    "* <a href='#1.1'> 1.1 Learning Objectives </a>\n",
    "* <a href='#1.2'> 1.2 Code Structure & Files </a>\n",
    "* <a href='#2.'> 2. Cartpole</a>\n",
    "* <a href='#3.'> 3. Reacher</a>\n",
    "* <a href='#4.'> 4. Submitting </a>\n",
    "* <a href='#4.1'> 4.1 Feedback </a>\n",
    "* <a href='#5.'> References</a>\n",
    "\n",
    "<a href='#T1'><b>Student Task 1.</b> Training a Model for Simple Cartpole Environment (10 points)</a>\\\n",
    "<a href='#Q1'><b>Student Question 1.1</b> Learning (10 points)</a>\\\n",
    "<a href='#T2'><b>Student Task 2.</b> Investigating Training Performance (10 points) </a>\\\n",
    "<a href='#Q2'><b>Student Question 2.1</b> Analysis of Training Performance (15 points) </a>\\\n",
    "<a href='#Q3'><b>Student Question 2.2</b> Stochasticity (10 points) </a>\\\n",
    "<a href='#T3'><b>Student Task 3.</b> Reward Functions (20 points) </a>\\\n",
    "<a href='#T4'><b>Student Task 4.</b> Visualizing Behavior (10 points) </a>\\\n",
    "<a href='#Q4'><b>Student Question 4.1</b> Achieved Peformance (5 points)\\\n",
    "<a href='#Q5'><b>Student Question 4.2</b> Analysis of Behaviour (10 points)</a>\n",
    "    \n",
    "**Total Points:** 100"
   ]
  },
  {
   "cell_type": "markdown",
   "id": "44ab28e9",
   "metadata": {},
   "source": [
    "# 1. Introduction <a id='1.'></a>\n",
    "In this exercise we will take a first look at a reinforcement learning environment, its components and modify the reward function of a simple agent.\n",
    "\n",
    "In this notebook two environments are used: Cartpole and Reacher. The cartpole environment is taken from [OpenAI's Gym library](https://www.gymlibrary.dev/). The reacher environment is custom made (and defined in ```reacher.py```) but utilizes the Gym API.\n",
    "\n",
    "## 1.1 Learning Objectives: <a id='1.1'></a>\n",
    "- To become familiar with assignment structure and the agent-environment relationshp\n",
    "- To understand the effects of stochasticity\n",
    "- To understand and explore the effects of task definition\n",
    "\n",
    "## 1.2 Code Structure & Files <a id='1.2'></a>\n",
    "\n",
    "The ```train.py``` file instantiates the environment and the RL agent that acts in it. The ```agent.py``` file contains the implementation of a simple reinforcement learning agent; for the sake of this exercise, you can assume it to be a black box (you don’t need to understand how it works, although you are encouraged to study it in more detail). You don’t have to edit any other file other than ```ex1.ipynb``` to complete this exercise.\n",
    "```\n",
    "├───cfg                  # Config files for environments e.g. define the maximum number of steps in an episode.\n",
    "├───imgs                 # Images used in notebook\n",
    "├───results \n",
    "│   ├───logging          # Contains logged data\n",
    "│   ├───model            # Contains the policies learned\n",
    "│   └───video            # Contains videos for each environment\n",
    "│       └───CartPole-v0\n",
    "│       │  └───test      # Videos saved during testing\n",
    "│       │  └───train     # Videos saved during training\n",
    "│       └───SpinningReacher-v0\n",
    "│           └───test\n",
    "│           └───train\n",
    "├───wandb                # Data saved for wandb\n",
    "│   ex1.ipynb            # Main assignment file containing tasks <---------\n",
    "│   feedback.ipynb       # Please give feedback in here\n",
    "│   README.ipynb         # This file\n",
    "│   agent.py             # Contains functions that govern the policy\n",
    "│   reacher.py           # Defines the reacher environment\n",
    "│   train.py             # Contains training and testing functions\n",
    "│   utils.py             # Contains useful functions \n",
    "```"
   ]
  },
  {
   "cell_type": "markdown",
   "id": "100c1cfb",
   "metadata": {},
   "source": [
    "Please consult ```README.md``` for more details the assignments.\n",
    "\n",
    "The assignments use wandb to visualize data. You need to set Wandb up and login using the command below."
   ]
  },
  {
   "cell_type": "code",
   "execution_count": 1,
   "id": "5b418e8a",
   "metadata": {
    "tags": []
   },
   "outputs": [
    {
     "name": "stdout",
     "output_type": "stream",
     "text": [
      "\u001b[34m\u001b[1mwandb\u001b[0m: Logging into wandb.ai. (Learn how to deploy a W&B server locally: https://wandb.me/wandb-server)\n",
      "\u001b[34m\u001b[1mwandb\u001b[0m: You can find your API key in your browser here: https://wandb.ai/authorize\n",
      "\u001b[34m\u001b[1mwandb\u001b[0m: Paste an API key from your profile and hit enter, or press ctrl+c to quit: \n",
      "Aborted!\n"
     ]
    }
   ],
   "source": [
    "! wandb login # Insert API key here. You can get your API key from https://wandb.ai/authorize"
   ]
  },
  {
   "cell_type": "code",
   "execution_count": 8,
   "id": "7abc2b87-f074-4764-a043-b974a5f95f49",
   "metadata": {
    "tags": []
   },
   "outputs": [
    {
     "ename": "AttributeError",
     "evalue": "module 'wandb' has no attribute 'login'",
     "output_type": "error",
     "traceback": [
      "\u001b[0;31m---------------------------------------------------------------------------\u001b[0m",
      "\u001b[0;31mAttributeError\u001b[0m                            Traceback (most recent call last)",
      "Cell \u001b[0;32mIn[8], line 2\u001b[0m\n\u001b[1;32m      1\u001b[0m \u001b[38;5;28;01mimport\u001b[39;00m \u001b[38;5;21;01mwandb\u001b[39;00m\n\u001b[0;32m----> 2\u001b[0m \u001b[43mwandb\u001b[49m\u001b[38;5;241;43m.\u001b[39;49m\u001b[43mlogin\u001b[49m()\n",
      "\u001b[0;31mAttributeError\u001b[0m: module 'wandb' has no attribute 'login'"
     ]
    }
   ],
   "source": [
    "import wandb\n",
    "wandb.login()"
   ]
  },
  {
   "cell_type": "code",
   "execution_count": 5,
   "id": "c8cb8a88",
   "metadata": {
    "tags": []
   },
   "outputs": [],
   "source": [
    "from pathlib import Path # to find directory\n",
    "work_dir = Path().cwd()/'results'\n",
    "import os\n",
    "os.environ['WANDB_NOTEBOOK_NAME'] = str(Path().cwd()/'ex1.ipynb') # Detects notebook for wandb\n",
    "\n",
    "import train as t # for training\n",
    "import utils as u # helper functions\n",
    "\n",
    "import numpy as np # The numpy library can be used for math functions\n",
    "import torch # Used to manage policy and learning\n",
    "from IPython.display import Video, display # to display videos"
   ]
  },
  {
   "cell_type": "markdown",
   "id": "f5e36a57",
   "metadata": {},
   "source": [
    "# 2. Cartpole <a id='2.'></a>\n",
    "\n",
    "The Cartpole environment consists of a cart and a pole mounted on top of it, as shown in Figure 1. The cart can move either to the left or to the right. The goal is to balance the pole in a vertical position in order to prevent it from falling down. The cart should also stay within limited distance from the center (trying to move outside screen boundaries is considered a failure).\n",
    "\n",
    "<figure>\n",
    "<img src=\"imgs/cartpole.png\" width=\"400px\">\n",
    "<figcaption style=\"text-align: center\"> Figure 1: The Cartpole environment  </figcaption>\n",
    "</figure>\n",
    "\n",
    "The state and the observation are four element vectors:\n",
    "\n",
    "$$\n",
    "o=s=\\left(\\begin{array}{c}\n",
    "x \\\\\n",
    "\\dot{x} \\\\\n",
    "\\theta \\\\\n",
    "\\dot{\\theta}\n",
    "\\end{array}\\right) \\text {, }\n",
    "$$\n",
    "\n",
    "where $x$ is the position of the cart, $\\dot{x}$ is its velocity, $\\theta$ is the angle of the pole w.r.t. the vertical axis, and $\\dot{\\theta}$ is the angular velocity of the pole.\n",
    "\n",
    "In the standard formulation, a reward of 1 is given for every timestep the pole remains balanced. Upon failing (the pole falls) or completing the task, an episode is finished.\n",
    "\n",
    "The training script will record videos of the agent’s learning progress during training, and the recorded videos are saved to ```results/video/CartPole-v0/train```. By default, the training information is saved to ```results/logging/CartPole-v0_logging.pkl``` as well as on cloud via wandb. When the training is finished, the models are saved to ```results/model/Cartpole-v0_params.pt```. The models can be tested by setting ```testing=true``` in ```cfg_args```, and if the models are saved to a different path, you can use ```model_path=<YOUR MODEL PATH>``` to indicate it. Videos of the agent’s behaviour during testing are saved to ```results/video/CartPole-v0/test```."
   ]
  },
  {
   "cell_type": "markdown",
   "id": "6d5bb7ba",
   "metadata": {
    "tags": []
   },
   "source": [
    "<a id='T1'></a>\n",
    "<div class=\" alert alert-warning\">\n",
    "    <h3><b>Student Task 1.</b> Training a Model for Simple Cartpole Environment (10 points) </h3> \n",
    "\n",
    "This task requires you to train a model for the cartpole environment with 100 timesteps per episode and then report the training plot using 'Weights \\& Biases'. Then test the model for 1000 timesteps and report average reward. To do this, you can simply run the code in the cells below. \n",
    "\n",
    "To see a full list of options that can be passed through ```cfg_args``` consult the configuation file found in ```cfg/```.\n",
    "\n",
    "- **1st:** setup 'Weights \\& Biases', check the README for help. \n",
    "- **2nd:** Run training over 100 steps per episode by using ```t.train``` function. See the cell below. \n",
    "- **3rd:** Export the training plot ```episodesep_reward``` from wandb (see ```README.md```) and attach below.\n",
    "- **4th:** Run testing over 1000 steps by using ```t.test``` function. See the cell below. See the cell below. Notice ```max_episode_steps``` parameter. \n",
    "- **5th:** Report the average reward after testing the model.\n",
    "    \n",
    "🔝\t<a href='#TOC'><b>Table of Contents</b></a>\n",
    "</div>\n"
   ]
  },
  {
   "cell_type": "code",
   "execution_count": 3,
   "id": "e0481176",
   "metadata": {
    "scrolled": true,
    "tags": []
   },
   "outputs": [
    {
     "name": "stdout",
     "output_type": "stream",
     "text": [
      "Numpy/Torch/Random Seed:  1\n"
     ]
    },
    {
     "name": "stderr",
     "output_type": "stream",
     "text": [
      "\u001b[34m\u001b[1mwandb\u001b[0m: Currently logged in as: \u001b[33mbencer\u001b[0m (\u001b[33mr-l\u001b[0m). Use \u001b[1m`wandb login --relogin`\u001b[0m to force relogin\n"
     ]
    },
    {
     "data": {
      "text/html": [
       "wandb version 0.15.10 is available!  To upgrade, please run:\n",
       " $ pip install wandb --upgrade"
      ],
      "text/plain": [
       "<IPython.core.display.HTML object>"
      ]
     },
     "metadata": {},
     "output_type": "display_data"
    },
    {
     "data": {
      "text/html": [
       "Tracking run with wandb version 0.15.9"
      ],
      "text/plain": [
       "<IPython.core.display.HTML object>"
      ]
     },
     "metadata": {},
     "output_type": "display_data"
    },
    {
     "data": {
      "text/html": [
       "Run data is saved locally in <code>/notebooks/rl2023/ex1/wandb/run-20230914_074138-p3v8ov07</code>"
      ],
      "text/plain": [
       "<IPython.core.display.HTML object>"
      ]
     },
     "metadata": {},
     "output_type": "display_data"
    },
    {
     "data": {
      "text/html": [
       "Syncing run <strong><a href='https://wandb.ai/r-l/rl_aalto/runs/p3v8ov07' target=\"_blank\">ex1-CartPole-v1-1-1694666496</a></strong> to <a href='https://wandb.ai/r-l/rl_aalto' target=\"_blank\">Weights & Biases</a> (<a href='https://wandb.me/run' target=\"_blank\">docs</a>)<br/>"
      ],
      "text/plain": [
       "<IPython.core.display.HTML object>"
      ]
     },
     "metadata": {},
     "output_type": "display_data"
    },
    {
     "data": {
      "text/html": [
       " View project at <a href='https://wandb.ai/r-l/rl_aalto' target=\"_blank\">https://wandb.ai/r-l/rl_aalto</a>"
      ],
      "text/plain": [
       "<IPython.core.display.HTML object>"
      ]
     },
     "metadata": {},
     "output_type": "display_data"
    },
    {
     "data": {
      "text/html": [
       " View run at <a href='https://wandb.ai/r-l/rl_aalto/runs/p3v8ov07' target=\"_blank\">https://wandb.ai/r-l/rl_aalto/runs/p3v8ov07</a>"
      ],
      "text/plain": [
       "<IPython.core.display.HTML object>"
      ]
     },
     "metadata": {},
     "output_type": "display_data"
    },
    {
     "name": "stderr",
     "output_type": "stream",
     "text": [
      "/opt/software/lib/python3.10/site-packages/gymnasium/wrappers/record_video.py:94: UserWarning: \u001b[33mWARN: Overwriting existing videos at /notebooks/rl2023/ex1/results/video/CartPole-v1/train folder (try specifying a different `video_folder` for the `RecordVideo` wrapper if this is not desired)\u001b[0m\n",
      "  logger.warn(\n"
     ]
    },
    {
     "name": "stdout",
     "output_type": "stream",
     "text": [
      "Configuration Settings: {'exp_name': 'ex1', 'seed': 1, 'env_name': 'CartPole-v1', 'max_episode_steps': 100, 'train_episodes': 500, 'batch_size': 64, 'min_update_samples': 2000, 'testing': False, 'model_path': 'default', 'save_video': True, 'save_model': True, 'save_logging': True, 'silent': False, 'use_wandb': True, 'run_suffix': 0}\n",
      "Training device: cpu\n",
      "Observation space dimensions: 4\n",
      "Action space dimensions: 2\n",
      "\n",
      "Episode 0 finished. Total reward: 28.0 (28 timesteps)\n",
      "Episode 1 finished. Total reward: 34.0 (34 timesteps)\n",
      "Episode 2 finished. Total reward: 17.0 (17 timesteps)\n",
      "Episode 3 finished. Total reward: 11.0 (11 timesteps)\n",
      "Episode 4 finished. Total reward: 34.0 (34 timesteps)\n",
      "Episode 5 finished. Total reward: 18.0 (18 timesteps)\n",
      "Episode 6 finished. Total reward: 76.0 (76 timesteps)\n",
      "Episode 7 finished. Total reward: 12.0 (12 timesteps)\n",
      "Episode 8 finished. Total reward: 10.0 (10 timesteps)\n",
      "Episode 9 finished. Total reward: 41.0 (41 timesteps)\n",
      "Episode 10 finished. Total reward: 33.0 (33 timesteps)\n",
      "Episode 11 finished. Total reward: 20.0 (20 timesteps)\n",
      "Episode 12 finished. Total reward: 29.0 (29 timesteps)\n",
      "Episode 13 finished. Total reward: 11.0 (11 timesteps)\n",
      "Episode 14 finished. Total reward: 15.0 (15 timesteps)\n",
      "Episode 15 finished. Total reward: 14.0 (14 timesteps)\n",
      "Episode 16 finished. Total reward: 11.0 (11 timesteps)\n",
      "Episode 17 finished. Total reward: 14.0 (14 timesteps)\n",
      "Episode 18 finished. Total reward: 28.0 (28 timesteps)\n",
      "Episode 19 finished. Total reward: 15.0 (15 timesteps)\n",
      "Episode 20 finished. Total reward: 10.0 (10 timesteps)\n",
      "Episode 21 finished. Total reward: 17.0 (17 timesteps)\n",
      "Episode 22 finished. Total reward: 17.0 (17 timesteps)\n",
      "Episode 23 finished. Total reward: 44.0 (44 timesteps)\n",
      "Episode 24 finished. Total reward: 17.0 (17 timesteps)\n",
      "Episode 25 finished. Total reward: 17.0 (17 timesteps)\n",
      "Episode 26 finished. Total reward: 15.0 (15 timesteps)\n",
      "Episode 27 finished. Total reward: 23.0 (23 timesteps)\n",
      "Episode 28 finished. Total reward: 15.0 (15 timesteps)\n",
      "Episode 29 finished. Total reward: 17.0 (17 timesteps)\n",
      "Episode 30 finished. Total reward: 10.0 (10 timesteps)\n",
      "Episode 31 finished. Total reward: 31.0 (31 timesteps)\n",
      "Episode 32 finished. Total reward: 12.0 (12 timesteps)\n",
      "Episode 33 finished. Total reward: 14.0 (14 timesteps)\n",
      "Episode 34 finished. Total reward: 10.0 (10 timesteps)\n",
      "Episode 35 finished. Total reward: 11.0 (11 timesteps)\n",
      "Episode 36 finished. Total reward: 35.0 (35 timesteps)\n",
      "Episode 37 finished. Total reward: 19.0 (19 timesteps)\n",
      "Episode 38 finished. Total reward: 12.0 (12 timesteps)\n",
      "Episode 39 finished. Total reward: 9.0 (9 timesteps)\n",
      "Episode 40 finished. Total reward: 12.0 (12 timesteps)\n",
      "Episode 41 finished. Total reward: 14.0 (14 timesteps)\n",
      "Episode 42 finished. Total reward: 14.0 (14 timesteps)\n",
      "Episode 43 finished. Total reward: 20.0 (20 timesteps)\n",
      "Episode 44 finished. Total reward: 46.0 (46 timesteps)\n",
      "Episode 45 finished. Total reward: 25.0 (25 timesteps)\n",
      "Episode 46 finished. Total reward: 14.0 (14 timesteps)\n",
      "Episode 47 finished. Total reward: 13.0 (13 timesteps)\n",
      "Episode 48 finished. Total reward: 18.0 (18 timesteps)\n",
      "Episode 49 finished. Total reward: 17.0 (17 timesteps)\n",
      "Episode 50 finished. Total reward: 21.0 (21 timesteps)\n",
      "Episode 51 finished. Total reward: 23.0 (23 timesteps)\n",
      "Episode 52 finished. Total reward: 15.0 (15 timesteps)\n",
      "Episode 53 finished. Total reward: 62.0 (62 timesteps)\n",
      "Episode 54 finished. Total reward: 18.0 (18 timesteps)\n",
      "Episode 55 finished. Total reward: 21.0 (21 timesteps)\n",
      "Episode 56 finished. Total reward: 25.0 (25 timesteps)\n",
      "Episode 57 finished. Total reward: 14.0 (14 timesteps)\n",
      "Episode 58 finished. Total reward: 14.0 (14 timesteps)\n",
      "Episode 59 finished. Total reward: 25.0 (25 timesteps)\n",
      "Episode 60 finished. Total reward: 14.0 (14 timesteps)\n",
      "Episode 61 finished. Total reward: 19.0 (19 timesteps)\n",
      "Episode 62 finished. Total reward: 13.0 (13 timesteps)\n",
      "Episode 63 finished. Total reward: 11.0 (11 timesteps)\n",
      "Episode 64 finished. Total reward: 24.0 (24 timesteps)\n",
      "Episode 65 finished. Total reward: 21.0 (21 timesteps)\n",
      "Episode 66 finished. Total reward: 31.0 (31 timesteps)\n",
      "Episode 67 finished. Total reward: 83.0 (83 timesteps)\n",
      "Episode 68 finished. Total reward: 12.0 (12 timesteps)\n",
      "Episode 69 finished. Total reward: 17.0 (17 timesteps)\n",
      "Episode 70 finished. Total reward: 49.0 (49 timesteps)\n",
      "Episode 71 finished. Total reward: 18.0 (18 timesteps)\n",
      "Episode 72 finished. Total reward: 22.0 (22 timesteps)\n",
      "Episode 73 finished. Total reward: 23.0 (23 timesteps)\n",
      "Episode 74 finished. Total reward: 30.0 (30 timesteps)\n",
      "Episode 75 finished. Total reward: 15.0 (15 timesteps)\n",
      "Episode 76 finished. Total reward: 22.0 (22 timesteps)\n",
      "Episode 77 finished. Total reward: 55.0 (55 timesteps)\n",
      "Episode 78 finished. Total reward: 15.0 (15 timesteps)\n",
      "Episode 79 finished. Total reward: 12.0 (12 timesteps)\n",
      "Episode 80 finished. Total reward: 37.0 (37 timesteps)\n",
      "Episode 81 finished. Total reward: 9.0 (9 timesteps)\n",
      "Episode 82 finished. Total reward: 13.0 (13 timesteps)\n",
      "Episode 83 finished. Total reward: 16.0 (16 timesteps)\n",
      "Episode 84 finished. Total reward: 10.0 (10 timesteps)\n",
      "Episode 85 finished. Total reward: 27.0 (27 timesteps)\n",
      "Episode 86 finished. Total reward: 14.0 (14 timesteps)\n",
      "Episode 87 finished. Total reward: 20.0 (20 timesteps)\n",
      "Episode 88 finished. Total reward: 29.0 (29 timesteps)\n",
      "Episode 89 finished. Total reward: 9.0 (9 timesteps)\n",
      "Episode 90 finished. Total reward: 13.0 (13 timesteps)\n",
      "Episode 91 finished. Total reward: 13.0 (13 timesteps)\n",
      "Episode 92 finished. Total reward: 19.0 (19 timesteps)\n",
      "Updating the policy...\n",
      "Updating finished!\n",
      "Episode 93 finished. Total reward: 50.0 (50 timesteps)\n",
      "Episode 94 finished. Total reward: 24.0 (24 timesteps)\n",
      "Episode 95 finished. Total reward: 38.0 (38 timesteps)\n",
      "Episode 96 finished. Total reward: 19.0 (19 timesteps)\n",
      "Episode 97 finished. Total reward: 13.0 (13 timesteps)\n",
      "Episode 98 finished. Total reward: 20.0 (20 timesteps)\n",
      "Episode 99 finished. Total reward: 14.0 (14 timesteps)\n",
      "Episode 100 finished. Total reward: 50.0 (50 timesteps)\n",
      "Episode 101 finished. Total reward: 20.0 (20 timesteps)\n",
      "Episode 102 finished. Total reward: 49.0 (49 timesteps)\n",
      "Episode 103 finished. Total reward: 32.0 (32 timesteps)\n",
      "Episode 104 finished. Total reward: 21.0 (21 timesteps)\n",
      "Episode 105 finished. Total reward: 10.0 (10 timesteps)\n",
      "Episode 106 finished. Total reward: 26.0 (26 timesteps)\n",
      "Episode 107 finished. Total reward: 16.0 (16 timesteps)\n",
      "Episode 108 finished. Total reward: 12.0 (12 timesteps)\n",
      "Episode 109 finished. Total reward: 23.0 (23 timesteps)\n",
      "Episode 110 finished. Total reward: 23.0 (23 timesteps)\n",
      "Episode 111 finished. Total reward: 18.0 (18 timesteps)\n",
      "Episode 112 finished. Total reward: 50.0 (50 timesteps)\n",
      "Episode 113 finished. Total reward: 13.0 (13 timesteps)\n",
      "Episode 114 finished. Total reward: 56.0 (56 timesteps)\n",
      "Episode 115 finished. Total reward: 13.0 (13 timesteps)\n",
      "Episode 116 finished. Total reward: 96.0 (96 timesteps)\n",
      "Episode 117 finished. Total reward: 28.0 (28 timesteps)\n",
      "Episode 118 finished. Total reward: 60.0 (60 timesteps)\n",
      "Episode 119 finished. Total reward: 46.0 (46 timesteps)\n",
      "Episode 120 finished. Total reward: 23.0 (23 timesteps)\n",
      "Episode 121 finished. Total reward: 26.0 (26 timesteps)\n",
      "Episode 122 finished. Total reward: 26.0 (26 timesteps)\n",
      "Episode 123 finished. Total reward: 57.0 (57 timesteps)\n",
      "Episode 124 finished. Total reward: 20.0 (20 timesteps)\n",
      "Episode 125 finished. Total reward: 15.0 (15 timesteps)\n",
      "Episode 126 finished. Total reward: 18.0 (18 timesteps)\n",
      "Episode 127 finished. Total reward: 25.0 (25 timesteps)\n",
      "Episode 128 finished. Total reward: 30.0 (30 timesteps)\n",
      "Episode 129 finished. Total reward: 46.0 (46 timesteps)\n",
      "Episode 130 finished. Total reward: 20.0 (20 timesteps)\n",
      "Episode 131 finished. Total reward: 64.0 (64 timesteps)\n",
      "Episode 132 finished. Total reward: 42.0 (42 timesteps)\n",
      "Episode 133 finished. Total reward: 19.0 (19 timesteps)\n",
      "Episode 134 finished. Total reward: 28.0 (28 timesteps)\n",
      "Episode 135 finished. Total reward: 28.0 (28 timesteps)\n",
      "Episode 136 finished. Total reward: 40.0 (40 timesteps)\n",
      "Episode 137 finished. Total reward: 23.0 (23 timesteps)\n",
      "Episode 138 finished. Total reward: 15.0 (15 timesteps)\n",
      "Episode 139 finished. Total reward: 22.0 (22 timesteps)\n",
      "Episode 140 finished. Total reward: 42.0 (42 timesteps)\n",
      "Episode 141 finished. Total reward: 40.0 (40 timesteps)\n",
      "Episode 142 finished. Total reward: 34.0 (34 timesteps)\n",
      "Episode 143 finished. Total reward: 64.0 (64 timesteps)\n",
      "Episode 144 finished. Total reward: 14.0 (14 timesteps)\n",
      "Episode 145 finished. Total reward: 32.0 (32 timesteps)\n",
      "Episode 146 finished. Total reward: 21.0 (21 timesteps)\n",
      "Episode 147 finished. Total reward: 17.0 (17 timesteps)\n",
      "Episode 148 finished. Total reward: 24.0 (24 timesteps)\n",
      "Episode 149 finished. Total reward: 9.0 (9 timesteps)\n",
      "Episode 150 finished. Total reward: 100.0 (100 timesteps)\n",
      "Episode 151 finished. Total reward: 54.0 (54 timesteps)\n",
      "Episode 152 finished. Total reward: 14.0 (14 timesteps)\n",
      "Episode 153 finished. Total reward: 26.0 (26 timesteps)\n",
      "Episode 154 finished. Total reward: 72.0 (72 timesteps)\n",
      "Episode 155 finished. Total reward: 10.0 (10 timesteps)\n",
      "Updating the policy...\n",
      "Updating finished!\n",
      "Episode 156 finished. Total reward: 57.0 (57 timesteps)\n",
      "Episode 157 finished. Total reward: 16.0 (16 timesteps)\n",
      "Episode 158 finished. Total reward: 30.0 (30 timesteps)\n",
      "Episode 159 finished. Total reward: 35.0 (35 timesteps)\n",
      "Episode 160 finished. Total reward: 23.0 (23 timesteps)\n",
      "Episode 161 finished. Total reward: 41.0 (41 timesteps)\n",
      "Episode 162 finished. Total reward: 64.0 (64 timesteps)\n",
      "Episode 163 finished. Total reward: 18.0 (18 timesteps)\n",
      "Episode 164 finished. Total reward: 14.0 (14 timesteps)\n",
      "Episode 165 finished. Total reward: 22.0 (22 timesteps)\n",
      "Episode 166 finished. Total reward: 32.0 (32 timesteps)\n",
      "Episode 167 finished. Total reward: 100.0 (100 timesteps)\n",
      "Episode 168 finished. Total reward: 47.0 (47 timesteps)\n",
      "Episode 169 finished. Total reward: 12.0 (12 timesteps)\n",
      "Episode 170 finished. Total reward: 31.0 (31 timesteps)\n",
      "Episode 171 finished. Total reward: 25.0 (25 timesteps)\n",
      "Episode 172 finished. Total reward: 17.0 (17 timesteps)\n",
      "Episode 173 finished. Total reward: 100.0 (100 timesteps)\n",
      "Episode 174 finished. Total reward: 24.0 (24 timesteps)\n",
      "Episode 175 finished. Total reward: 13.0 (13 timesteps)\n",
      "Episode 176 finished. Total reward: 48.0 (48 timesteps)\n",
      "Episode 177 finished. Total reward: 21.0 (21 timesteps)\n",
      "Episode 178 finished. Total reward: 42.0 (42 timesteps)\n",
      "Episode 179 finished. Total reward: 39.0 (39 timesteps)\n",
      "Episode 180 finished. Total reward: 15.0 (15 timesteps)\n",
      "Episode 181 finished. Total reward: 25.0 (25 timesteps)\n",
      "Episode 182 finished. Total reward: 52.0 (52 timesteps)\n",
      "Episode 183 finished. Total reward: 27.0 (27 timesteps)\n",
      "Episode 184 finished. Total reward: 100.0 (100 timesteps)\n",
      "Episode 185 finished. Total reward: 36.0 (36 timesteps)\n",
      "Episode 186 finished. Total reward: 83.0 (83 timesteps)\n",
      "Episode 187 finished. Total reward: 74.0 (74 timesteps)\n",
      "Episode 188 finished. Total reward: 13.0 (13 timesteps)\n",
      "Episode 189 finished. Total reward: 33.0 (33 timesteps)\n",
      "Episode 190 finished. Total reward: 100.0 (100 timesteps)\n",
      "Episode 191 finished. Total reward: 10.0 (10 timesteps)\n",
      "Episode 192 finished. Total reward: 31.0 (31 timesteps)\n",
      "Episode 193 finished. Total reward: 100.0 (100 timesteps)\n",
      "Episode 194 finished. Total reward: 43.0 (43 timesteps)\n",
      "Episode 195 finished. Total reward: 74.0 (74 timesteps)\n",
      "Episode 196 finished. Total reward: 19.0 (19 timesteps)\n",
      "Episode 197 finished. Total reward: 13.0 (13 timesteps)\n",
      "Episode 198 finished. Total reward: 16.0 (16 timesteps)\n",
      "Episode 199 finished. Total reward: 100.0 (100 timesteps)\n",
      "Episode 200 finished. Total reward: 46.0 (46 timesteps)\n",
      "Episode 201 finished. Total reward: 33.0 (33 timesteps)\n",
      "Episode 202 finished. Total reward: 51.0 (51 timesteps)\n",
      "Episode 203 finished. Total reward: 16.0 (16 timesteps)\n",
      "Updating the policy...\n",
      "Updating finished!\n",
      "Episode 204 finished. Total reward: 90.0 (90 timesteps)\n",
      "Episode 205 finished. Total reward: 100.0 (100 timesteps)\n",
      "Episode 206 finished. Total reward: 18.0 (18 timesteps)\n",
      "Episode 207 finished. Total reward: 48.0 (48 timesteps)\n",
      "Episode 208 finished. Total reward: 31.0 (31 timesteps)\n",
      "Episode 209 finished. Total reward: 63.0 (63 timesteps)\n",
      "Episode 210 finished. Total reward: 19.0 (19 timesteps)\n",
      "Episode 211 finished. Total reward: 32.0 (32 timesteps)\n",
      "Episode 212 finished. Total reward: 100.0 (100 timesteps)\n",
      "Episode 213 finished. Total reward: 100.0 (100 timesteps)\n",
      "Episode 214 finished. Total reward: 61.0 (61 timesteps)\n",
      "Episode 215 finished. Total reward: 100.0 (100 timesteps)\n",
      "Episode 216 finished. Total reward: 17.0 (17 timesteps)\n",
      "Episode 217 finished. Total reward: 84.0 (84 timesteps)\n",
      "Episode 218 finished. Total reward: 100.0 (100 timesteps)\n",
      "Episode 219 finished. Total reward: 100.0 (100 timesteps)\n",
      "Episode 220 finished. Total reward: 98.0 (98 timesteps)\n",
      "Episode 221 finished. Total reward: 100.0 (100 timesteps)\n",
      "Episode 222 finished. Total reward: 100.0 (100 timesteps)\n",
      "Episode 223 finished. Total reward: 22.0 (22 timesteps)\n",
      "Episode 224 finished. Total reward: 99.0 (99 timesteps)\n",
      "Episode 225 finished. Total reward: 100.0 (100 timesteps)\n",
      "Episode 226 finished. Total reward: 46.0 (46 timesteps)\n",
      "Episode 227 finished. Total reward: 74.0 (74 timesteps)\n",
      "Episode 228 finished. Total reward: 100.0 (100 timesteps)\n",
      "Episode 229 finished. Total reward: 59.0 (59 timesteps)\n",
      "Episode 230 finished. Total reward: 100.0 (100 timesteps)\n",
      "Updating the policy...\n",
      "Updating finished!\n",
      "Episode 231 finished. Total reward: 100.0 (100 timesteps)\n",
      "Episode 232 finished. Total reward: 100.0 (100 timesteps)\n",
      "Episode 233 finished. Total reward: 100.0 (100 timesteps)\n",
      "Episode 234 finished. Total reward: 100.0 (100 timesteps)\n",
      "Episode 235 finished. Total reward: 100.0 (100 timesteps)\n",
      "Episode 236 finished. Total reward: 100.0 (100 timesteps)\n",
      "Episode 237 finished. Total reward: 36.0 (36 timesteps)\n",
      "Episode 238 finished. Total reward: 100.0 (100 timesteps)\n",
      "Episode 239 finished. Total reward: 100.0 (100 timesteps)\n",
      "Episode 240 finished. Total reward: 100.0 (100 timesteps)\n",
      "Episode 241 finished. Total reward: 100.0 (100 timesteps)\n",
      "Episode 242 finished. Total reward: 100.0 (100 timesteps)\n",
      "Episode 243 finished. Total reward: 100.0 (100 timesteps)\n",
      "Episode 244 finished. Total reward: 52.0 (52 timesteps)\n",
      "Episode 245 finished. Total reward: 100.0 (100 timesteps)\n",
      "Episode 246 finished. Total reward: 14.0 (14 timesteps)\n",
      "Episode 247 finished. Total reward: 55.0 (55 timesteps)\n",
      "Episode 248 finished. Total reward: 100.0 (100 timesteps)\n",
      "Episode 249 finished. Total reward: 100.0 (100 timesteps)\n",
      "Episode 250 finished. Total reward: 100.0 (100 timesteps)\n",
      "Episode 251 finished. Total reward: 52.0 (52 timesteps)\n",
      "Episode 252 finished. Total reward: 100.0 (100 timesteps)\n",
      "Episode 253 finished. Total reward: 100.0 (100 timesteps)\n",
      "Updating the policy...\n",
      "Updating finished!\n",
      "Episode 254 finished. Total reward: 100.0 (100 timesteps)\n",
      "Episode 255 finished. Total reward: 100.0 (100 timesteps)\n",
      "Episode 256 finished. Total reward: 100.0 (100 timesteps)\n",
      "Episode 257 finished. Total reward: 100.0 (100 timesteps)\n",
      "Episode 258 finished. Total reward: 54.0 (54 timesteps)\n",
      "Episode 259 finished. Total reward: 100.0 (100 timesteps)\n",
      "Episode 260 finished. Total reward: 100.0 (100 timesteps)\n",
      "Episode 261 finished. Total reward: 100.0 (100 timesteps)\n",
      "Episode 262 finished. Total reward: 100.0 (100 timesteps)\n",
      "Episode 263 finished. Total reward: 100.0 (100 timesteps)\n",
      "Episode 264 finished. Total reward: 100.0 (100 timesteps)\n",
      "Episode 265 finished. Total reward: 100.0 (100 timesteps)\n",
      "Episode 266 finished. Total reward: 100.0 (100 timesteps)\n",
      "Episode 267 finished. Total reward: 100.0 (100 timesteps)\n",
      "Episode 268 finished. Total reward: 100.0 (100 timesteps)\n",
      "Episode 269 finished. Total reward: 100.0 (100 timesteps)\n",
      "Episode 270 finished. Total reward: 20.0 (20 timesteps)\n",
      "Episode 271 finished. Total reward: 100.0 (100 timesteps)\n",
      "Episode 272 finished. Total reward: 19.0 (19 timesteps)\n",
      "Episode 273 finished. Total reward: 100.0 (100 timesteps)\n",
      "Episode 274 finished. Total reward: 100.0 (100 timesteps)\n",
      "Episode 275 finished. Total reward: 100.0 (100 timesteps)\n",
      "Updating the policy...\n",
      "Updating finished!\n",
      "Episode 276 finished. Total reward: 95.0 (95 timesteps)\n",
      "Episode 277 finished. Total reward: 100.0 (100 timesteps)\n",
      "Episode 278 finished. Total reward: 100.0 (100 timesteps)\n",
      "Episode 279 finished. Total reward: 100.0 (100 timesteps)\n",
      "Episode 280 finished. Total reward: 100.0 (100 timesteps)\n",
      "Episode 281 finished. Total reward: 100.0 (100 timesteps)\n",
      "Episode 282 finished. Total reward: 91.0 (91 timesteps)\n",
      "Episode 283 finished. Total reward: 100.0 (100 timesteps)\n",
      "Episode 284 finished. Total reward: 79.0 (79 timesteps)\n",
      "Episode 285 finished. Total reward: 100.0 (100 timesteps)\n",
      "Episode 286 finished. Total reward: 100.0 (100 timesteps)\n",
      "Episode 287 finished. Total reward: 100.0 (100 timesteps)\n",
      "Episode 288 finished. Total reward: 100.0 (100 timesteps)\n",
      "Episode 289 finished. Total reward: 100.0 (100 timesteps)\n",
      "Episode 290 finished. Total reward: 100.0 (100 timesteps)\n",
      "Episode 291 finished. Total reward: 100.0 (100 timesteps)\n",
      "Episode 292 finished. Total reward: 100.0 (100 timesteps)\n",
      "Episode 293 finished. Total reward: 90.0 (90 timesteps)\n",
      "Episode 294 finished. Total reward: 100.0 (100 timesteps)\n",
      "Episode 295 finished. Total reward: 100.0 (100 timesteps)\n",
      "Episode 296 finished. Total reward: 100.0 (100 timesteps)\n",
      "Updating the policy...\n",
      "Updating finished!\n",
      "Episode 297 finished. Total reward: 100.0 (100 timesteps)\n",
      "Episode 298 finished. Total reward: 100.0 (100 timesteps)\n",
      "Episode 299 finished. Total reward: 100.0 (100 timesteps)\n",
      "Episode 300 finished. Total reward: 100.0 (100 timesteps)\n",
      "Episode 301 finished. Total reward: 68.0 (68 timesteps)\n",
      "Episode 302 finished. Total reward: 100.0 (100 timesteps)\n",
      "Episode 303 finished. Total reward: 100.0 (100 timesteps)\n",
      "Episode 304 finished. Total reward: 100.0 (100 timesteps)\n",
      "Episode 305 finished. Total reward: 100.0 (100 timesteps)\n",
      "Episode 306 finished. Total reward: 100.0 (100 timesteps)\n",
      "Episode 307 finished. Total reward: 100.0 (100 timesteps)\n",
      "Episode 308 finished. Total reward: 100.0 (100 timesteps)\n",
      "Episode 309 finished. Total reward: 100.0 (100 timesteps)\n",
      "Episode 310 finished. Total reward: 100.0 (100 timesteps)\n",
      "Episode 311 finished. Total reward: 100.0 (100 timesteps)\n",
      "Episode 312 finished. Total reward: 100.0 (100 timesteps)\n",
      "Episode 313 finished. Total reward: 100.0 (100 timesteps)\n",
      "Episode 314 finished. Total reward: 100.0 (100 timesteps)\n",
      "Episode 315 finished. Total reward: 100.0 (100 timesteps)\n",
      "Episode 316 finished. Total reward: 100.0 (100 timesteps)\n",
      "Updating the policy...\n",
      "Updating finished!\n",
      "Episode 317 finished. Total reward: 100.0 (100 timesteps)\n",
      "Episode 318 finished. Total reward: 100.0 (100 timesteps)\n",
      "Episode 319 finished. Total reward: 100.0 (100 timesteps)\n",
      "Episode 320 finished. Total reward: 100.0 (100 timesteps)\n",
      "Episode 321 finished. Total reward: 100.0 (100 timesteps)\n",
      "Episode 322 finished. Total reward: 100.0 (100 timesteps)\n",
      "Episode 323 finished. Total reward: 100.0 (100 timesteps)\n",
      "Episode 324 finished. Total reward: 100.0 (100 timesteps)\n",
      "Episode 325 finished. Total reward: 100.0 (100 timesteps)\n",
      "Episode 326 finished. Total reward: 100.0 (100 timesteps)\n",
      "Episode 327 finished. Total reward: 100.0 (100 timesteps)\n",
      "Episode 328 finished. Total reward: 100.0 (100 timesteps)\n",
      "Episode 329 finished. Total reward: 100.0 (100 timesteps)\n",
      "Episode 330 finished. Total reward: 100.0 (100 timesteps)\n",
      "Episode 331 finished. Total reward: 100.0 (100 timesteps)\n",
      "Episode 332 finished. Total reward: 100.0 (100 timesteps)\n",
      "Episode 333 finished. Total reward: 100.0 (100 timesteps)\n",
      "Episode 334 finished. Total reward: 100.0 (100 timesteps)\n",
      "Episode 335 finished. Total reward: 100.0 (100 timesteps)\n",
      "Episode 336 finished. Total reward: 100.0 (100 timesteps)\n",
      "Updating the policy...\n",
      "Updating finished!\n",
      "Episode 337 finished. Total reward: 100.0 (100 timesteps)\n",
      "Episode 338 finished. Total reward: 100.0 (100 timesteps)\n",
      "Episode 339 finished. Total reward: 100.0 (100 timesteps)\n",
      "Episode 340 finished. Total reward: 100.0 (100 timesteps)\n",
      "Episode 341 finished. Total reward: 100.0 (100 timesteps)\n",
      "Episode 342 finished. Total reward: 100.0 (100 timesteps)\n",
      "Episode 343 finished. Total reward: 100.0 (100 timesteps)\n",
      "Episode 344 finished. Total reward: 84.0 (84 timesteps)\n",
      "Episode 345 finished. Total reward: 100.0 (100 timesteps)\n",
      "Episode 346 finished. Total reward: 100.0 (100 timesteps)\n",
      "Episode 347 finished. Total reward: 100.0 (100 timesteps)\n",
      "Episode 348 finished. Total reward: 17.0 (17 timesteps)\n",
      "Episode 349 finished. Total reward: 100.0 (100 timesteps)\n",
      "Episode 350 finished. Total reward: 100.0 (100 timesteps)\n",
      "Episode 351 finished. Total reward: 100.0 (100 timesteps)\n",
      "Episode 352 finished. Total reward: 100.0 (100 timesteps)\n",
      "Episode 353 finished. Total reward: 100.0 (100 timesteps)\n",
      "Episode 354 finished. Total reward: 100.0 (100 timesteps)\n",
      "Episode 355 finished. Total reward: 100.0 (100 timesteps)\n",
      "Episode 356 finished. Total reward: 100.0 (100 timesteps)\n",
      "Episode 357 finished. Total reward: 100.0 (100 timesteps)\n",
      "Updating the policy...\n",
      "Updating finished!\n",
      "Episode 358 finished. Total reward: 100.0 (100 timesteps)\n",
      "Episode 359 finished. Total reward: 100.0 (100 timesteps)\n",
      "Episode 360 finished. Total reward: 100.0 (100 timesteps)\n",
      "Episode 361 finished. Total reward: 100.0 (100 timesteps)\n",
      "Episode 362 finished. Total reward: 100.0 (100 timesteps)\n",
      "Episode 363 finished. Total reward: 100.0 (100 timesteps)\n",
      "Episode 364 finished. Total reward: 100.0 (100 timesteps)\n",
      "Episode 365 finished. Total reward: 100.0 (100 timesteps)\n",
      "Episode 366 finished. Total reward: 100.0 (100 timesteps)\n",
      "Episode 367 finished. Total reward: 100.0 (100 timesteps)\n",
      "Episode 368 finished. Total reward: 100.0 (100 timesteps)\n",
      "Episode 369 finished. Total reward: 100.0 (100 timesteps)\n",
      "Episode 370 finished. Total reward: 100.0 (100 timesteps)\n",
      "Episode 371 finished. Total reward: 100.0 (100 timesteps)\n",
      "Episode 372 finished. Total reward: 100.0 (100 timesteps)\n",
      "Episode 373 finished. Total reward: 100.0 (100 timesteps)\n",
      "Episode 374 finished. Total reward: 100.0 (100 timesteps)\n",
      "Episode 375 finished. Total reward: 100.0 (100 timesteps)\n",
      "Episode 376 finished. Total reward: 100.0 (100 timesteps)\n",
      "Episode 377 finished. Total reward: 100.0 (100 timesteps)\n",
      "Updating the policy...\n",
      "Updating finished!\n",
      "Episode 378 finished. Total reward: 100.0 (100 timesteps)\n",
      "Episode 379 finished. Total reward: 44.0 (44 timesteps)\n",
      "Episode 380 finished. Total reward: 100.0 (100 timesteps)\n",
      "Episode 381 finished. Total reward: 100.0 (100 timesteps)\n",
      "Episode 382 finished. Total reward: 100.0 (100 timesteps)\n",
      "Episode 383 finished. Total reward: 100.0 (100 timesteps)\n",
      "Episode 384 finished. Total reward: 100.0 (100 timesteps)\n",
      "Episode 385 finished. Total reward: 100.0 (100 timesteps)\n",
      "Episode 386 finished. Total reward: 100.0 (100 timesteps)\n",
      "Episode 387 finished. Total reward: 100.0 (100 timesteps)\n",
      "Episode 388 finished. Total reward: 100.0 (100 timesteps)\n",
      "Episode 389 finished. Total reward: 100.0 (100 timesteps)\n",
      "Episode 390 finished. Total reward: 100.0 (100 timesteps)\n",
      "Episode 391 finished. Total reward: 69.0 (69 timesteps)\n",
      "Episode 392 finished. Total reward: 100.0 (100 timesteps)\n",
      "Episode 393 finished. Total reward: 100.0 (100 timesteps)\n",
      "Episode 394 finished. Total reward: 100.0 (100 timesteps)\n",
      "Episode 395 finished. Total reward: 100.0 (100 timesteps)\n",
      "Episode 396 finished. Total reward: 100.0 (100 timesteps)\n",
      "Episode 397 finished. Total reward: 83.0 (83 timesteps)\n",
      "Episode 398 finished. Total reward: 100.0 (100 timesteps)\n",
      "Updating the policy...\n",
      "Updating finished!\n",
      "Episode 399 finished. Total reward: 100.0 (100 timesteps)\n",
      "Episode 400 finished. Total reward: 100.0 (100 timesteps)\n",
      "Episode 401 finished. Total reward: 100.0 (100 timesteps)\n",
      "Episode 402 finished. Total reward: 100.0 (100 timesteps)\n",
      "Episode 403 finished. Total reward: 100.0 (100 timesteps)\n",
      "Episode 404 finished. Total reward: 100.0 (100 timesteps)\n",
      "Episode 405 finished. Total reward: 100.0 (100 timesteps)\n",
      "Episode 406 finished. Total reward: 100.0 (100 timesteps)\n",
      "Episode 407 finished. Total reward: 68.0 (68 timesteps)\n",
      "Episode 408 finished. Total reward: 100.0 (100 timesteps)\n",
      "Episode 409 finished. Total reward: 100.0 (100 timesteps)\n",
      "Episode 410 finished. Total reward: 100.0 (100 timesteps)\n",
      "Episode 411 finished. Total reward: 100.0 (100 timesteps)\n",
      "Episode 412 finished. Total reward: 100.0 (100 timesteps)\n",
      "Episode 413 finished. Total reward: 100.0 (100 timesteps)\n",
      "Episode 414 finished. Total reward: 100.0 (100 timesteps)\n",
      "Episode 415 finished. Total reward: 100.0 (100 timesteps)\n",
      "Episode 416 finished. Total reward: 100.0 (100 timesteps)\n",
      "Episode 417 finished. Total reward: 100.0 (100 timesteps)\n",
      "Episode 418 finished. Total reward: 100.0 (100 timesteps)\n",
      "Updating the policy...\n",
      "Updating finished!\n",
      "Episode 419 finished. Total reward: 100.0 (100 timesteps)\n",
      "Episode 420 finished. Total reward: 100.0 (100 timesteps)\n",
      "Episode 421 finished. Total reward: 100.0 (100 timesteps)\n",
      "Episode 422 finished. Total reward: 100.0 (100 timesteps)\n",
      "Episode 423 finished. Total reward: 100.0 (100 timesteps)\n",
      "Episode 424 finished. Total reward: 100.0 (100 timesteps)\n",
      "Episode 425 finished. Total reward: 100.0 (100 timesteps)\n",
      "Episode 426 finished. Total reward: 100.0 (100 timesteps)\n",
      "Episode 427 finished. Total reward: 100.0 (100 timesteps)\n",
      "Episode 428 finished. Total reward: 100.0 (100 timesteps)\n",
      "Episode 429 finished. Total reward: 100.0 (100 timesteps)\n",
      "Episode 430 finished. Total reward: 100.0 (100 timesteps)\n",
      "Episode 431 finished. Total reward: 27.0 (27 timesteps)\n",
      "Episode 432 finished. Total reward: 100.0 (100 timesteps)\n",
      "Episode 433 finished. Total reward: 20.0 (20 timesteps)\n",
      "Episode 434 finished. Total reward: 100.0 (100 timesteps)\n",
      "Episode 435 finished. Total reward: 100.0 (100 timesteps)\n",
      "Episode 436 finished. Total reward: 100.0 (100 timesteps)\n",
      "Episode 437 finished. Total reward: 100.0 (100 timesteps)\n",
      "Episode 438 finished. Total reward: 100.0 (100 timesteps)\n",
      "Episode 439 finished. Total reward: 100.0 (100 timesteps)\n",
      "Episode 440 finished. Total reward: 100.0 (100 timesteps)\n",
      "Updating the policy...\n",
      "Updating finished!\n",
      "Episode 441 finished. Total reward: 100.0 (100 timesteps)\n",
      "Episode 442 finished. Total reward: 44.0 (44 timesteps)\n",
      "Episode 443 finished. Total reward: 77.0 (77 timesteps)\n",
      "Episode 444 finished. Total reward: 100.0 (100 timesteps)\n",
      "Episode 445 finished. Total reward: 100.0 (100 timesteps)\n",
      "Episode 446 finished. Total reward: 100.0 (100 timesteps)\n",
      "Episode 447 finished. Total reward: 100.0 (100 timesteps)\n",
      "Episode 448 finished. Total reward: 100.0 (100 timesteps)\n",
      "Episode 449 finished. Total reward: 100.0 (100 timesteps)\n",
      "Episode 450 finished. Total reward: 100.0 (100 timesteps)\n",
      "Episode 451 finished. Total reward: 100.0 (100 timesteps)\n",
      "Episode 452 finished. Total reward: 100.0 (100 timesteps)\n",
      "Episode 453 finished. Total reward: 100.0 (100 timesteps)\n",
      "Episode 454 finished. Total reward: 100.0 (100 timesteps)\n",
      "Episode 455 finished. Total reward: 100.0 (100 timesteps)\n",
      "Episode 456 finished. Total reward: 100.0 (100 timesteps)\n",
      "Episode 457 finished. Total reward: 100.0 (100 timesteps)\n",
      "Episode 458 finished. Total reward: 100.0 (100 timesteps)\n",
      "Episode 459 finished. Total reward: 100.0 (100 timesteps)\n",
      "Episode 460 finished. Total reward: 100.0 (100 timesteps)\n",
      "Episode 461 finished. Total reward: 100.0 (100 timesteps)\n",
      "Updating the policy...\n",
      "Updating finished!\n",
      "Episode 462 finished. Total reward: 100.0 (100 timesteps)\n",
      "Episode 463 finished. Total reward: 100.0 (100 timesteps)\n",
      "Episode 464 finished. Total reward: 100.0 (100 timesteps)\n",
      "Episode 465 finished. Total reward: 100.0 (100 timesteps)\n",
      "Episode 466 finished. Total reward: 19.0 (19 timesteps)\n",
      "Episode 467 finished. Total reward: 100.0 (100 timesteps)\n",
      "Episode 468 finished. Total reward: 100.0 (100 timesteps)\n",
      "Episode 469 finished. Total reward: 100.0 (100 timesteps)\n",
      "Episode 470 finished. Total reward: 100.0 (100 timesteps)\n",
      "Episode 471 finished. Total reward: 100.0 (100 timesteps)\n",
      "Episode 472 finished. Total reward: 100.0 (100 timesteps)\n",
      "Episode 473 finished. Total reward: 100.0 (100 timesteps)\n",
      "Episode 474 finished. Total reward: 100.0 (100 timesteps)\n",
      "Episode 475 finished. Total reward: 100.0 (100 timesteps)\n",
      "Episode 476 finished. Total reward: 100.0 (100 timesteps)\n",
      "Episode 477 finished. Total reward: 100.0 (100 timesteps)\n",
      "Episode 478 finished. Total reward: 100.0 (100 timesteps)\n",
      "Episode 479 finished. Total reward: 100.0 (100 timesteps)\n",
      "Episode 480 finished. Total reward: 100.0 (100 timesteps)\n",
      "Episode 481 finished. Total reward: 100.0 (100 timesteps)\n",
      "Episode 482 finished. Total reward: 100.0 (100 timesteps)\n",
      "Updating the policy...\n",
      "Updating finished!\n",
      "Episode 483 finished. Total reward: 100.0 (100 timesteps)\n",
      "Episode 484 finished. Total reward: 100.0 (100 timesteps)\n",
      "Episode 485 finished. Total reward: 100.0 (100 timesteps)\n",
      "Episode 486 finished. Total reward: 100.0 (100 timesteps)\n",
      "Episode 487 finished. Total reward: 100.0 (100 timesteps)\n",
      "Episode 488 finished. Total reward: 100.0 (100 timesteps)\n",
      "Episode 489 finished. Total reward: 100.0 (100 timesteps)\n",
      "Episode 490 finished. Total reward: 100.0 (100 timesteps)\n",
      "Episode 491 finished. Total reward: 100.0 (100 timesteps)\n",
      "Episode 492 finished. Total reward: 100.0 (100 timesteps)\n",
      "Episode 493 finished. Total reward: 100.0 (100 timesteps)\n",
      "Episode 494 finished. Total reward: 100.0 (100 timesteps)\n",
      "Episode 495 finished. Total reward: 100.0 (100 timesteps)\n",
      "Episode 496 finished. Total reward: 100.0 (100 timesteps)\n",
      "Episode 497 finished. Total reward: 100.0 (100 timesteps)\n",
      "Episode 498 finished. Total reward: 100.0 (100 timesteps)\n",
      "Episode 499 finished. Total reward: 100.0 (100 timesteps)\n",
      "Episode 500 finished. Total reward: 100.0 (100 timesteps)\n",
      "Model saved to /notebooks/rl2023/ex1/results/model/CartPole-v1_params.pt\n",
      "------Training finished.------\n"
     ]
    }
   ],
   "source": [
    "t.train(cfg_path=Path().cwd()/'cfg'/'cartpole_v1.yaml', \n",
    "        cfg_args=dict(seed=1, max_episode_steps=100)) # < 5 mins"
   ]
  },
  {
   "cell_type": "markdown",
   "id": "1d967ec4",
   "metadata": {},
   "source": [
    "<figure>\n",
    "<img src=\"imgs/cartpole-reward.png\" width=\"400px\">\n",
    "<figcaption style=\"text-align: center\"> Figure x: Rewards for Cartpole  </figcaption>\n",
    "</figure>"
   ]
  },
  {
   "cell_type": "markdown",
   "id": "b0230ba0",
   "metadata": {},
   "source": [
    "The command below will evaluate the trained model in 10 episodes and report the average reward (and episode length) for these 10 episodes."
   ]
  },
  {
   "cell_type": "code",
   "execution_count": 4,
   "id": "95418d8d",
   "metadata": {
    "tags": []
   },
   "outputs": [
    {
     "name": "stdout",
     "output_type": "stream",
     "text": [
      "Numpy/Torch/Random Seed:  501\n",
      "Loading model from /notebooks/rl2023/ex1/results/model/CartPole-v1_params.pt ...\n",
      "Testing...\n"
     ]
    },
    {
     "name": "stderr",
     "output_type": "stream",
     "text": [
      "/opt/software/lib/python3.10/site-packages/gymnasium/wrappers/record_video.py:94: UserWarning: \u001b[33mWARN: Overwriting existing videos at /notebooks/rl2023/ex1/results/video/CartPole-v1/test folder (try specifying a different `video_folder` for the `RecordVideo` wrapper if this is not desired)\u001b[0m\n",
      "  logger.warn(\n"
     ]
    },
    {
     "name": "stdout",
     "output_type": "stream",
     "text": [
      "Test ep reward: 137.0 seed: 88\n",
      "Test ep reward: 127.0 seed: 672\n",
      "Test ep reward: 131.0 seed: 680\n",
      "Test ep reward: 127.0 seed: 592\n",
      "Test ep reward: 135.0 seed: 481\n",
      "Test ep reward: 137.0 seed: 78\n",
      "Test ep reward: 147.0 seed: 735\n",
      "Test ep reward: 156.0 seed: 852\n",
      "Test ep reward: 132.0 seed: 694\n",
      "Test ep reward: 126.0 seed: 965\n",
      "Average test reward: 135.5 episode length: 135.5\n"
     ]
    }
   ],
   "source": [
    "t.test(episodes=10, \n",
    "       cfg_path=Path().cwd()/'cfg'/'cartpole_v1.yaml', \n",
    "       cfg_args=dict(testing=True, seed=None, max_episode_steps=1000, use_wandb=False))"
   ]
  },
  {
   "cell_type": "markdown",
   "id": "18da8596",
   "metadata": {},
   "source": [
    "Average test reward: 135.5"
   ]
  },
  {
   "cell_type": "markdown",
   "id": "65a689b7",
   "metadata": {},
   "source": [
    "The agent acting in the environment can be seen using the following command. Change the ```path``` to pick the episode you want to visualize. Bear in mind by default video saving for training is taken every 50 episodes."
   ]
  },
  {
   "cell_type": "code",
   "execution_count": 2,
   "id": "d41d0186-5ac9-4240-ada4-2f15286c13da",
   "metadata": {
    "tags": []
   },
   "outputs": [],
   "source": [
    "#! pip install html\n",
    "from IPython.display import Video, display, HTML"
   ]
  },
  {
   "cell_type": "code",
   "execution_count": 31,
   "id": "ee7bc0ff",
   "metadata": {
    "tags": []
   },
   "outputs": [
    {
     "name": "stdout",
     "output_type": "stream",
     "text": [
      "test/ ex1-episode-0.mp4\n"
     ]
    },
    {
     "data": {
      "text/html": [
       "<div style=\"width: 200px; height: 100px;; border: 1px solid #FF5733;\"><video loop autoplay  width=\"200\"  height=\"100\">\n",
       " <source src=\"data:video/mp4;base64,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\" type=\"video/mp4\">\n",
       " Your browser does not support the video tag.\n",
       " </video></div>"
      ],
      "text/plain": [
       "<IPython.core.display.HTML object>"
      ]
     },
     "metadata": {},
     "output_type": "display_data"
    },
    {
     "name": "stdout",
     "output_type": "stream",
     "text": [
      "test/ ex1-episode-50.mp4\n"
     ]
    },
    {
     "data": {
      "text/html": [
       "<div style=\"width: 200px; height: 100px;; border: 1px solid #FF5733;\"><video loop autoplay  width=\"200\"  height=\"100\">\n",
       " <source src=\"data:video/mp4;base64,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\" type=\"video/mp4\">\n",
       " Your browser does not support the video tag.\n",
       " </video></div>"
      ],
      "text/plain": [
       "<IPython.core.display.HTML object>"
      ]
     },
     "metadata": {},
     "output_type": "display_data"
    },
    {
     "name": "stdout",
     "output_type": "stream",
     "text": [
      "test/ ex1-episode-100.mp4\n"
     ]
    },
    {
     "data": {
      "text/html": [
       "<div style=\"width: 200px; height: 100px;; border: 1px solid #FF5733;\"><video loop autoplay  width=\"200\"  height=\"100\">\n",
       " <source src=\"data:video/mp4;base64,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\" type=\"video/mp4\">\n",
       " Your browser does not support the video tag.\n",
       " </video></div>"
      ],
      "text/plain": [
       "<IPython.core.display.HTML object>"
      ]
     },
     "metadata": {},
     "output_type": "display_data"
    },
    {
     "name": "stdout",
     "output_type": "stream",
     "text": [
      "test/ ex1-episode-150.mp4\n"
     ]
    },
    {
     "data": {
      "text/html": [
       "<div style=\"width: 200px; height: 100px;; border: 1px solid #FF5733;\"><video loop autoplay  width=\"200\"  height=\"100\">\n",
       " <source src=\"data:video/mp4;base64,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\" type=\"video/mp4\">\n",
       " Your browser does not support the video tag.\n",
       " </video></div>"
      ],
      "text/plain": [
       "<IPython.core.display.HTML object>"
      ]
     },
     "metadata": {},
     "output_type": "display_data"
    },
    {
     "name": "stdout",
     "output_type": "stream",
     "text": [
      "test/ ex1-episode-200.mp4\n"
     ]
    },
    {
     "data": {
      "text/html": [
       "<div style=\"width: 200px; height: 100px;; border: 1px solid #FF5733;\"><video loop autoplay  width=\"200\"  height=\"100\">\n",
       " <source src=\"data:video/mp4;base64,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\" type=\"video/mp4\">\n",
       " Your browser does not support the video tag.\n",
       " </video></div>"
      ],
      "text/plain": [
       "<IPython.core.display.HTML object>"
      ]
     },
     "metadata": {},
     "output_type": "display_data"
    },
    {
     "name": "stdout",
     "output_type": "stream",
     "text": [
      "test/ ex1-episode-250.mp4\n"
     ]
    },
    {
     "data": {
      "text/html": [
       "<div style=\"width: 200px; height: 100px;; border: 1px solid #FF5733;\"><video loop autoplay  width=\"200\"  height=\"100\">\n",
       " <source src=\"data:video/mp4;base64,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\" type=\"video/mp4\">\n",
       " Your browser does not support the video tag.\n",
       " </video></div>"
      ],
      "text/plain": [
       "<IPython.core.display.HTML object>"
      ]
     },
     "metadata": {},
     "output_type": "display_data"
    },
    {
     "name": "stdout",
     "output_type": "stream",
     "text": [
      "test/ ex1-episode-300.mp4\n"
     ]
    },
    {
     "data": {
      "text/html": [
       "<div style=\"width: 200px; height: 100px;; border: 1px solid #FF5733;\"><video loop autoplay  width=\"200\"  height=\"100\">\n",
       " <source src=\"data:video/mp4;base64,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\" type=\"video/mp4\">\n",
       " Your browser does not support the video tag.\n",
       " </video></div>"
      ],
      "text/plain": [
       "<IPython.core.display.HTML object>"
      ]
     },
     "metadata": {},
     "output_type": "display_data"
    },
    {
     "name": "stdout",
     "output_type": "stream",
     "text": [
      "test/ ex1-episode-350.mp4\n"
     ]
    },
    {
     "data": {
      "text/html": [
       "<div style=\"width: 200px; height: 100px;; border: 1px solid #FF5733;\"><video loop autoplay  width=\"200\"  height=\"100\">\n",
       " <source src=\"data:video/mp4;base64,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\" type=\"video/mp4\">\n",
       " Your browser does not support the video tag.\n",
       " </video></div>"
      ],
      "text/plain": [
       "<IPython.core.display.HTML object>"
      ]
     },
     "metadata": {},
     "output_type": "display_data"
    },
    {
     "name": "stdout",
     "output_type": "stream",
     "text": [
      "test/ ex1-episode-400.mp4\n"
     ]
    },
    {
     "data": {
      "text/html": [
       "<div style=\"width: 200px; height: 100px;; border: 1px solid #FF5733;\"><video loop autoplay  width=\"200\"  height=\"100\">\n",
       " <source src=\"data:video/mp4;base64,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\" type=\"video/mp4\">\n",
       " Your browser does not support the video tag.\n",
       " </video></div>"
      ],
      "text/plain": [
       "<IPython.core.display.HTML object>"
      ]
     },
     "metadata": {},
     "output_type": "display_data"
    },
    {
     "name": "stdout",
     "output_type": "stream",
     "text": [
      "test/ ex1-episode-450.mp4\n"
     ]
    },
    {
     "data": {
      "text/html": [
       "<div style=\"width: 200px; height: 100px;; border: 1px solid #FF5733;\"><video loop autoplay  width=\"200\"  height=\"100\">\n",
       " <source src=\"data:video/mp4;base64,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\" type=\"video/mp4\">\n",
       " Your browser does not support the video tag.\n",
       " </video></div>"
      ],
      "text/plain": [
       "<IPython.core.display.HTML object>"
      ]
     },
     "metadata": {},
     "output_type": "display_data"
    },
    {
     "name": "stdout",
     "output_type": "stream",
     "text": [
      "test/ ex1-episode-500.mp4\n"
     ]
    },
    {
     "data": {
      "text/html": [
       "<div style=\"width: 200px; height: 100px;; border: 1px solid #FF5733;\"><video loop autoplay  width=\"200\"  height=\"100\">\n",
       " <source src=\"data:video/mp4;base64,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\" type=\"video/mp4\">\n",
       " Your browser does not support the video tag.\n",
       " </video></div>"
      ],
      "text/plain": [
       "<IPython.core.display.HTML object>"
      ]
     },
     "metadata": {},
     "output_type": "display_data"
    }
   ],
   "source": [
    "# Train Result\n",
    "video_dir = work_dir/'video'/'CartPole-v1'/'train'\n",
    "\n",
    "# List all MP4 files in the directory\n",
    "mp4_files = [file for file in os.listdir(video_dir) if file.endswith(\".mp4\")]\n",
    "frame_colors = ['#FF5733', '#33FF57', '#5733FF', '#FFFF33', '#33FFFF', '#FF33FF']\n",
    "# Display each MP4 file\n",
    "for i, mp4_file in enumerate(mp4_files):\n",
    "    video_path = os.path.join(video_dir, mp4_file)\n",
    "    video = Video(video_path, embed=True, html_attributes=\"loop autoplay\", width=200, height=100)\n",
    "    frame_color = frame_colors[i % len(frame_colors)]\n",
    "    video_frame = HTML(f'<div style=\"width: 200px; height: 100px;; border: 1px solid #FF5733;\">{video._repr_html_()}</div>')\n",
    "    print(\"test/\",mp4_file)\n",
    "    display(video_frame)"
   ]
  },
  {
   "cell_type": "code",
   "execution_count": 6,
   "id": "47f0e835-79ad-47c7-9984-bfc705927d7b",
   "metadata": {
    "tags": []
   },
   "outputs": [
    {
     "ename": "NameError",
     "evalue": "name 'HTML' is not defined",
     "output_type": "error",
     "traceback": [
      "\u001b[0;31m---------------------------------------------------------------------------\u001b[0m",
      "\u001b[0;31mNameError\u001b[0m                                 Traceback (most recent call last)",
      "Cell \u001b[0;32mIn[6], line 13\u001b[0m\n\u001b[1;32m     11\u001b[0m video \u001b[38;5;241m=\u001b[39m Video(video_path, embed\u001b[38;5;241m=\u001b[39m\u001b[38;5;28;01mTrue\u001b[39;00m, html_attributes\u001b[38;5;241m=\u001b[39m\u001b[38;5;124m\"\u001b[39m\u001b[38;5;124mloop autoplay\u001b[39m\u001b[38;5;124m\"\u001b[39m, width\u001b[38;5;241m=\u001b[39m\u001b[38;5;241m200\u001b[39m, height\u001b[38;5;241m=\u001b[39m\u001b[38;5;241m100\u001b[39m)\n\u001b[1;32m     12\u001b[0m frame_color \u001b[38;5;241m=\u001b[39m frame_colors[i \u001b[38;5;241m%\u001b[39m \u001b[38;5;28mlen\u001b[39m(frame_colors)]\n\u001b[0;32m---> 13\u001b[0m video_frame \u001b[38;5;241m=\u001b[39m \u001b[43mHTML\u001b[49m(\u001b[38;5;124mf\u001b[39m\u001b[38;5;124m'\u001b[39m\u001b[38;5;124m<div style=\u001b[39m\u001b[38;5;124m\"\u001b[39m\u001b[38;5;124mwidth: 200px; height: 100px;; border: 1px solid #5733FF;\u001b[39m\u001b[38;5;124m\"\u001b[39m\u001b[38;5;124m>\u001b[39m\u001b[38;5;132;01m{\u001b[39;00mvideo\u001b[38;5;241m.\u001b[39m_repr_html_()\u001b[38;5;132;01m}\u001b[39;00m\u001b[38;5;124m</div>\u001b[39m\u001b[38;5;124m'\u001b[39m)\n\u001b[1;32m     14\u001b[0m \u001b[38;5;28mprint\u001b[39m(\u001b[38;5;124m\"\u001b[39m\u001b[38;5;124mtest/\u001b[39m\u001b[38;5;124m\"\u001b[39m,mp4_file)\n\u001b[1;32m     15\u001b[0m display(video_frame)\n",
      "\u001b[0;31mNameError\u001b[0m: name 'HTML' is not defined"
     ]
    }
   ],
   "source": [
    "# Test Result\n",
    "\n",
    "video_dir = work_dir/'video'/'CartPole-v1'/'test'\n",
    "\n",
    "# List all MP4 files in the directory\n",
    "mp4_files = [file for file in os.listdir(video_dir) if file.endswith(\".mp4\")]\n",
    "frame_colors = ['#FF5733', '#33FF57', '#5733FF', '#FFFF33', '#33FFFF', '#FF33FF']\n",
    "# Display each MP4 file\n",
    "for i, mp4_file in enumerate(mp4_files):\n",
    "    video_path = os.path.join(video_dir, mp4_file)\n",
    "    video = Video(video_path, embed=True, html_attributes=\"loop autoplay\", width=200, height=100)\n",
    "    frame_color = frame_colors[i % len(frame_colors)]\n",
    "    video_frame = HTML(f'<div style=\"width: 200px; height: 100px;; border: 1px solid #5733FF;\">{video._repr_html_()}</div>')\n",
    "    print(\"test/\",mp4_file)\n",
    "    display(video_frame)"
   ]
  },
  {
   "cell_type": "markdown",
   "id": "b9298a34",
   "metadata": {
    "tags": []
   },
   "source": [
    "<a id='Q1'></a>\n",
    "<div class=\" alert alert-warning\">\n",
    "    <h3><b>Student Question 1.1</b> Learning (10 points) </h3> \n",
    "\n",
    "Test the trained model from Task 1 five times with different random seeds. Did the same model, trained to balance for 100 timesteps, learn to always balance the pole for 1000 timesteps? Why/why not?\n",
    "    \n",
    "🔝\t<a href='#TOC'><b>Table of Contents</b></a>\n",
    "</div>\n"
   ]
  },
  {
   "cell_type": "code",
   "execution_count": 4,
   "id": "c5678a7d",
   "metadata": {},
   "outputs": [
    {
     "name": "stdout",
     "output_type": "stream",
     "text": [
      "Numpy/Torch/Random Seed:  693\n",
      "Loading model from /notebooks/rl2023/ex1/results/model/CartPole-v1_params.pt ...\n",
      "Testing...\n"
     ]
    },
    {
     "name": "stderr",
     "output_type": "stream",
     "text": [
      "/opt/software/lib/python3.10/site-packages/gymnasium/wrappers/record_video.py:94: UserWarning: \u001b[33mWARN: Overwriting existing videos at /notebooks/rl2023/ex1/results/video/CartPole-v1/test folder (try specifying a different `video_folder` for the `RecordVideo` wrapper if this is not desired)\u001b[0m\n",
      "  logger.warn(\n"
     ]
    },
    {
     "name": "stdout",
     "output_type": "stream",
     "text": [
      "Test ep reward: 143.0 seed: 243\n",
      "Test ep reward: 138.0 seed: 273\n",
      "Test ep reward: 144.0 seed: 438\n",
      "Test ep reward: 125.0 seed: 962\n",
      "Test ep reward: 127.0 seed: 461\n",
      "Test ep reward: 129.0 seed: 242\n",
      "Test ep reward: 131.0 seed: 756\n",
      "Test ep reward: 123.0 seed: 926\n",
      "Test ep reward: 141.0 seed: 165\n",
      "Test ep reward: 146.0 seed: 565\n",
      "Average test reward: 134.7 episode length: 134.7\n"
     ]
    }
   ],
   "source": [
    "t.test(episodes=10, \n",
    "       cfg_path=Path().cwd()/'cfg'/'cartpole_v1.yaml', \n",
    "       cfg_args=dict(testing=True, seed=None, max_episode_steps=1000, use_wandb=False))"
   ]
  },
  {
   "cell_type": "code",
   "execution_count": 5,
   "id": "690c1270-e056-4272-8a9f-0f3a6f917ad8",
   "metadata": {},
   "outputs": [
    {
     "name": "stdout",
     "output_type": "stream",
     "text": [
      "Numpy/Torch/Random Seed:  762\n",
      "Loading model from /notebooks/rl2023/ex1/results/model/CartPole-v1_params.pt ...\n",
      "Testing...\n"
     ]
    },
    {
     "name": "stderr",
     "output_type": "stream",
     "text": [
      "/opt/software/lib/python3.10/site-packages/gymnasium/wrappers/record_video.py:94: UserWarning: \u001b[33mWARN: Overwriting existing videos at /notebooks/rl2023/ex1/results/video/CartPole-v1/test folder (try specifying a different `video_folder` for the `RecordVideo` wrapper if this is not desired)\u001b[0m\n",
      "  logger.warn(\n"
     ]
    },
    {
     "name": "stdout",
     "output_type": "stream",
     "text": [
      "Test ep reward: 131.0 seed: 55\n",
      "Test ep reward: 134.0 seed: 649\n",
      "Test ep reward: 125.0 seed: 470\n",
      "Test ep reward: 127.0 seed: 351\n",
      "Test ep reward: 125.0 seed: 874\n",
      "Test ep reward: 137.0 seed: 929\n",
      "Test ep reward: 143.0 seed: 225\n",
      "Test ep reward: 140.0 seed: 495\n",
      "Test ep reward: 134.0 seed: 337\n",
      "Test ep reward: 134.0 seed: 397\n",
      "Average test reward: 133.0 episode length: 133.0\n"
     ]
    }
   ],
   "source": [
    "t.test(episodes=10, \n",
    "       cfg_path=Path().cwd()/'cfg'/'cartpole_v1.yaml', \n",
    "       cfg_args=dict(testing=True, seed=None, max_episode_steps=1000, use_wandb=False))"
   ]
  },
  {
   "cell_type": "code",
   "execution_count": 6,
   "id": "ea23484e-fa4e-4024-88cb-55f086199e8c",
   "metadata": {},
   "outputs": [
    {
     "name": "stdout",
     "output_type": "stream",
     "text": [
      "Numpy/Torch/Random Seed:  757\n",
      "Loading model from /notebooks/rl2023/ex1/results/model/CartPole-v1_params.pt ...\n",
      "Testing...\n",
      "Test ep reward: 136.0 seed: 291\n",
      "Test ep reward: 124.0 seed: 796\n",
      "Test ep reward: 133.0 seed: 535\n",
      "Test ep reward: 138.0 seed: 398\n",
      "Test ep reward: 127.0 seed: 970\n",
      "Test ep reward: 126.0 seed: 127\n",
      "Test ep reward: 127.0 seed: 519\n",
      "Test ep reward: 147.0 seed: 768\n",
      "Test ep reward: 122.0 seed: 730\n",
      "Test ep reward: 131.0 seed: 332\n",
      "Average test reward: 131.1 episode length: 131.1\n"
     ]
    }
   ],
   "source": [
    "t.test(episodes=10, \n",
    "       cfg_path=Path().cwd()/'cfg'/'cartpole_v1.yaml', \n",
    "       cfg_args=dict(testing=True, seed=None, max_episode_steps=1000, use_wandb=False))"
   ]
  },
  {
   "cell_type": "code",
   "execution_count": 7,
   "id": "dadbcbb3-160a-4730-b110-00e4fb9ce438",
   "metadata": {},
   "outputs": [
    {
     "name": "stdout",
     "output_type": "stream",
     "text": [
      "Numpy/Torch/Random Seed:  912\n",
      "Loading model from /notebooks/rl2023/ex1/results/model/CartPole-v1_params.pt ...\n",
      "Testing...\n",
      "Test ep reward: 130.0 seed: 854\n",
      "Test ep reward: 138.0 seed: 641\n",
      "Test ep reward: 129.0 seed: 77\n",
      "Test ep reward: 137.0 seed: 600\n",
      "Test ep reward: 137.0 seed: 392\n",
      "Test ep reward: 135.0 seed: 181\n",
      "Test ep reward: 126.0 seed: 844\n",
      "Test ep reward: 135.0 seed: 443\n",
      "Test ep reward: 137.0 seed: 715\n",
      "Test ep reward: 149.0 seed: 262\n",
      "Average test reward: 135.3 episode length: 135.3\n"
     ]
    }
   ],
   "source": [
    "t.test(episodes=10, \n",
    "       cfg_path=Path().cwd()/'cfg'/'cartpole_v1.yaml', \n",
    "       cfg_args=dict(testing=True, seed=None, max_episode_steps=1000, use_wandb=False))"
   ]
  },
  {
   "cell_type": "code",
   "execution_count": 8,
   "id": "633fe708-9004-4607-8ec2-43b40c78e669",
   "metadata": {},
   "outputs": [
    {
     "name": "stdout",
     "output_type": "stream",
     "text": [
      "Numpy/Torch/Random Seed:  612\n",
      "Loading model from /notebooks/rl2023/ex1/results/model/CartPole-v1_params.pt ...\n",
      "Testing...\n",
      "Test ep reward: 121.0 seed: 646\n",
      "Test ep reward: 137.0 seed: 906\n",
      "Test ep reward: 143.0 seed: 243\n",
      "Test ep reward: 125.0 seed: 248\n",
      "Test ep reward: 128.0 seed: 570\n",
      "Test ep reward: 132.0 seed: 694\n",
      "Test ep reward: 136.0 seed: 2\n",
      "Test ep reward: 142.0 seed: 390\n",
      "Test ep reward: 130.0 seed: 391\n",
      "Test ep reward: 127.0 seed: 505\n",
      "Average test reward: 132.1 episode length: 132.1\n"
     ]
    }
   ],
   "source": [
    "t.test(episodes=10, \n",
    "       cfg_path=Path().cwd()/'cfg'/'cartpole_v1.yaml', \n",
    "       cfg_args=dict(testing=True, seed=None, max_episode_steps=1000, use_wandb=False))"
   ]
  },
  {
   "cell_type": "markdown",
   "id": "5d817076",
   "metadata": {},
   "source": [
    "Tested with random seeds 693, 762, 757, 912, 612, the model always fail to balance in 1000 timesteps. It seems the policy only tries to maximize rewards until around 100 timesteps. Also, the agents may adopt policies will not work in logner timespan. For example, the cart may head strait towards one direction indefinitely in 100 timesteps. In 1000 timesteps, it will just hit the boundary."
   ]
  },
  {
   "cell_type": "markdown",
   "id": "9f3b5ed9",
   "metadata": {
    "tags": []
   },
   "source": [
    "<a id='T2'></a>\n",
    "<div class=\" alert alert-warning\">\n",
    "    <h3><b>Student Task 2.</b> Investigating Training Performance (10 points) </h3> \n",
    "\n",
    "Repeat the experiment in Task 1 five times, each time training the model from scratch with 100 timesteps and testing it for 1000 timesteps. Use a different seed number for each training/testing cycle. You can use the box below to write a small script to do this. Use the result textbox below to report the average test reward for each repeat. \n",
    "    \n",
    "🔝\t<a href='#TOC'><b>Table of Contents</b></a>\n",
    "</div>\n"
   ]
  },
  {
   "cell_type": "code",
   "execution_count": 12,
   "id": "453e1980-f2ed-4f5f-a4bb-8bed249bb2d7",
   "metadata": {},
   "outputs": [
    {
     "name": "stdout",
     "output_type": "stream",
     "text": [
      "[42.85313597 36.96944454 94.75821371  9.29509878 66.03556487]\n"
     ]
    }
   ],
   "source": [
    "seeds = np.random.rand(5,) * 100\n",
    "print(seeds)"
   ]
  },
  {
   "cell_type": "code",
   "execution_count": 17,
   "id": "cac44ae3-4926-4f96-8e00-51e96bd027f7",
   "metadata": {
    "scrolled": true,
    "tags": []
   },
   "outputs": [
    {
     "name": "stdout",
     "output_type": "stream",
     "text": [
      "Numpy/Torch/Random Seed:  42\n"
     ]
    },
    {
     "data": {
      "text/html": [
       "Changes to your `wandb` environment variables will be ignored because your `wandb` session has already started. For more information on how to modify your settings with `wandb.init()` arguments, please refer to <a href='https://wandb.me/wandb-init' target=\"_blank\">the W&B docs</a>."
      ],
      "text/plain": [
       "<IPython.core.display.HTML object>"
      ]
     },
     "metadata": {},
     "output_type": "display_data"
    },
    {
     "data": {
      "text/html": [
       "Finishing last run (ID:g4as84as) before initializing another..."
      ],
      "text/plain": [
       "<IPython.core.display.HTML object>"
      ]
     },
     "metadata": {},
     "output_type": "display_data"
    },
    {
     "data": {
      "text/html": [
       "Waiting for W&B process to finish... <strong style=\"color:green\">(success).</strong>"
      ],
      "text/plain": [
       "<IPython.core.display.HTML object>"
      ]
     },
     "metadata": {},
     "output_type": "display_data"
    },
    {
     "data": {
      "application/vnd.jupyter.widget-view+json": {
       "model_id": "a37fc1f19798487ea1772727118def20",
       "version_major": 2,
       "version_minor": 0
      },
      "text/plain": [
       "VBox(children=(Label(value='0.002 MB of 0.002 MB uploaded (0.000 MB deduped)\\r'), FloatProgress(value=1.0, max…"
      ]
     },
     "metadata": {},
     "output_type": "display_data"
    },
    {
     "data": {
      "text/html": [
       "<style>\n",
       "    table.wandb td:nth-child(1) { padding: 0 10px; text-align: left ; width: auto;} td:nth-child(2) {text-align: left ; width: 100%}\n",
       "    .wandb-row { display: flex; flex-direction: row; flex-wrap: wrap; justify-content: flex-start; width: 100% }\n",
       "    .wandb-col { display: flex; flex-direction: column; flex-basis: 100%; flex: 1; padding: 10px; }\n",
       "    </style>\n",
       "<div class=\"wandb-row\"><div class=\"wandb-col\"><h3>Run history:</h3><br/><table class=\"wandb\"><tr><td>ep_reward</td><td>▂▃▂▂▂▁▄▂▁▄▄▁▃▃▁▂▁▇▃▁▇▄▂▁▄▁▆▄▂▂▆▁▂▂▂▄▅▂█▁</td></tr><tr><td>episodes</td><td>▁▁▁▁▂▂▂▂▂▃▃▃▃▃▃▄▄▄▄▄▅▅▅▅▅▅▆▆▆▆▆▇▇▇▇▇▇███</td></tr><tr><td>num_updates</td><td>▁▁▁▁▁▁▁▁▁▁▁▁▁▁▁▁▁▁█▁▁▁▁▁▁▁▁▁▁▁▁▁▁▁▁▁▁▁▁▁</td></tr><tr><td>timesteps</td><td>▂▃▂▂▂▁▄▂▁▄▄▁▃▃▁▂▁▇▃▁▇▄▂▁▄▁▆▄▂▂▆▁▂▂▂▄▅▂█▁</td></tr></table><br/></div><div class=\"wandb-col\"><h3>Run summary:</h3><br/><table class=\"wandb\"><tr><td>ep_reward</td><td>30.0</td></tr><tr><td>episodes</td><td>200</td></tr><tr><td>num_updates</td><td>0</td></tr><tr><td>timesteps</td><td>30</td></tr></table><br/></div></div>"
      ],
      "text/plain": [
       "<IPython.core.display.HTML object>"
      ]
     },
     "metadata": {},
     "output_type": "display_data"
    },
    {
     "data": {
      "text/html": [
       " View run <strong style=\"color:#cdcd00\">ex1-CartPole-v1-42-1694670381</strong> at: <a href='https://wandb.ai/r-l/rl_aalto/runs/g4as84as' target=\"_blank\">https://wandb.ai/r-l/rl_aalto/runs/g4as84as</a><br/>Synced 6 W&B file(s), 0 media file(s), 0 artifact file(s) and 0 other file(s)"
      ],
      "text/plain": [
       "<IPython.core.display.HTML object>"
      ]
     },
     "metadata": {},
     "output_type": "display_data"
    },
    {
     "data": {
      "text/html": [
       "Find logs at: <code>./wandb/run-20230914_084621-g4as84as/logs</code>"
      ],
      "text/plain": [
       "<IPython.core.display.HTML object>"
      ]
     },
     "metadata": {},
     "output_type": "display_data"
    },
    {
     "data": {
      "text/html": [
       "Successfully finished last run (ID:g4as84as). Initializing new run:<br/>"
      ],
      "text/plain": [
       "<IPython.core.display.HTML object>"
      ]
     },
     "metadata": {},
     "output_type": "display_data"
    },
    {
     "data": {
      "application/vnd.jupyter.widget-view+json": {
       "model_id": "4064dee96fc94d6da473a0997331cb4f",
       "version_major": 2,
       "version_minor": 0
      },
      "text/plain": [
       "VBox(children=(Label(value='Waiting for wandb.init()...\\r'), FloatProgress(value=0.016669614737232528, max=1.0…"
      ]
     },
     "metadata": {},
     "output_type": "display_data"
    },
    {
     "data": {
      "text/html": [
       "wandb version 0.15.10 is available!  To upgrade, please run:\n",
       " $ pip install wandb --upgrade"
      ],
      "text/plain": [
       "<IPython.core.display.HTML object>"
      ]
     },
     "metadata": {},
     "output_type": "display_data"
    },
    {
     "data": {
      "text/html": [
       "Tracking run with wandb version 0.15.9"
      ],
      "text/plain": [
       "<IPython.core.display.HTML object>"
      ]
     },
     "metadata": {},
     "output_type": "display_data"
    },
    {
     "data": {
      "text/html": [
       "Run data is saved locally in <code>/notebooks/rl2023/ex1/wandb/run-20230914_084741-tk7mx9cv</code>"
      ],
      "text/plain": [
       "<IPython.core.display.HTML object>"
      ]
     },
     "metadata": {},
     "output_type": "display_data"
    },
    {
     "data": {
      "text/html": [
       "Syncing run <strong><a href='https://wandb.ai/r-l/rl_aalto/runs/tk7mx9cv' target=\"_blank\">ex1-CartPole-v1-42-1694670461</a></strong> to <a href='https://wandb.ai/r-l/rl_aalto' target=\"_blank\">Weights & Biases</a> (<a href='https://wandb.me/run' target=\"_blank\">docs</a>)<br/>"
      ],
      "text/plain": [
       "<IPython.core.display.HTML object>"
      ]
     },
     "metadata": {},
     "output_type": "display_data"
    },
    {
     "data": {
      "text/html": [
       " View project at <a href='https://wandb.ai/r-l/rl_aalto' target=\"_blank\">https://wandb.ai/r-l/rl_aalto</a>"
      ],
      "text/plain": [
       "<IPython.core.display.HTML object>"
      ]
     },
     "metadata": {},
     "output_type": "display_data"
    },
    {
     "data": {
      "text/html": [
       " View run at <a href='https://wandb.ai/r-l/rl_aalto/runs/tk7mx9cv' target=\"_blank\">https://wandb.ai/r-l/rl_aalto/runs/tk7mx9cv</a>"
      ],
      "text/plain": [
       "<IPython.core.display.HTML object>"
      ]
     },
     "metadata": {},
     "output_type": "display_data"
    },
    {
     "name": "stdout",
     "output_type": "stream",
     "text": [
      "Configuration Settings: {'exp_name': 'ex1', 'seed': 42, 'env_name': 'CartPole-v1', 'max_episode_steps': 100, 'train_episodes': 500, 'batch_size': 64, 'min_update_samples': 2000, 'testing': False, 'model_path': 'default', 'save_video': True, 'save_model': True, 'save_logging': True, 'silent': False, 'use_wandb': True, 'run_suffix': 0}\n",
      "Training device: cpu\n",
      "Observation space dimensions: 4\n",
      "Action space dimensions: 2\n",
      "\n",
      "Episode 0 finished. Total reward: 23.0 (23 timesteps)\n",
      "Episode 1 finished. Total reward: 25.0 (25 timesteps)\n",
      "Episode 2 finished. Total reward: 19.0 (19 timesteps)\n",
      "Episode 3 finished. Total reward: 15.0 (15 timesteps)\n",
      "Episode 4 finished. Total reward: 26.0 (26 timesteps)\n",
      "Episode 5 finished. Total reward: 26.0 (26 timesteps)\n",
      "Episode 6 finished. Total reward: 16.0 (16 timesteps)\n",
      "Episode 7 finished. Total reward: 26.0 (26 timesteps)\n",
      "Episode 8 finished. Total reward: 29.0 (29 timesteps)\n",
      "Episode 9 finished. Total reward: 20.0 (20 timesteps)\n",
      "Episode 10 finished. Total reward: 21.0 (21 timesteps)\n",
      "Episode 11 finished. Total reward: 22.0 (22 timesteps)\n",
      "Episode 12 finished. Total reward: 17.0 (17 timesteps)\n",
      "Episode 13 finished. Total reward: 11.0 (11 timesteps)\n",
      "Episode 14 finished. Total reward: 19.0 (19 timesteps)\n",
      "Episode 15 finished. Total reward: 25.0 (25 timesteps)\n",
      "Episode 16 finished. Total reward: 13.0 (13 timesteps)\n",
      "Episode 17 finished. Total reward: 22.0 (22 timesteps)\n",
      "Episode 18 finished. Total reward: 36.0 (36 timesteps)\n",
      "Episode 19 finished. Total reward: 54.0 (54 timesteps)\n",
      "Episode 20 finished. Total reward: 16.0 (16 timesteps)\n",
      "Episode 21 finished. Total reward: 18.0 (18 timesteps)\n",
      "Episode 22 finished. Total reward: 14.0 (14 timesteps)\n",
      "Episode 23 finished. Total reward: 12.0 (12 timesteps)\n",
      "Episode 24 finished. Total reward: 28.0 (28 timesteps)\n",
      "Episode 25 finished. Total reward: 15.0 (15 timesteps)\n",
      "Episode 26 finished. Total reward: 17.0 (17 timesteps)\n",
      "Episode 27 finished. Total reward: 41.0 (41 timesteps)\n",
      "Episode 28 finished. Total reward: 12.0 (12 timesteps)\n",
      "Episode 29 finished. Total reward: 23.0 (23 timesteps)\n",
      "Episode 30 finished. Total reward: 10.0 (10 timesteps)\n",
      "Episode 31 finished. Total reward: 36.0 (36 timesteps)\n",
      "Episode 32 finished. Total reward: 17.0 (17 timesteps)\n",
      "Episode 33 finished. Total reward: 28.0 (28 timesteps)\n",
      "Episode 34 finished. Total reward: 11.0 (11 timesteps)\n",
      "Episode 35 finished. Total reward: 21.0 (21 timesteps)\n",
      "Episode 36 finished. Total reward: 11.0 (11 timesteps)\n",
      "Episode 37 finished. Total reward: 35.0 (35 timesteps)\n",
      "Episode 38 finished. Total reward: 34.0 (34 timesteps)\n",
      "Episode 39 finished. Total reward: 15.0 (15 timesteps)\n",
      "Episode 40 finished. Total reward: 10.0 (10 timesteps)\n",
      "Episode 41 finished. Total reward: 13.0 (13 timesteps)\n",
      "Episode 42 finished. Total reward: 18.0 (18 timesteps)\n",
      "Episode 43 finished. Total reward: 11.0 (11 timesteps)\n",
      "Episode 44 finished. Total reward: 22.0 (22 timesteps)\n",
      "Episode 45 finished. Total reward: 35.0 (35 timesteps)\n",
      "Episode 46 finished. Total reward: 14.0 (14 timesteps)\n",
      "Episode 47 finished. Total reward: 21.0 (21 timesteps)\n",
      "Episode 48 finished. Total reward: 17.0 (17 timesteps)\n",
      "Episode 49 finished. Total reward: 12.0 (12 timesteps)\n",
      "Episode 50 finished. Total reward: 11.0 (11 timesteps)\n",
      "Episode 51 finished. Total reward: 41.0 (41 timesteps)\n",
      "Episode 52 finished. Total reward: 22.0 (22 timesteps)\n",
      "Episode 53 finished. Total reward: 14.0 (14 timesteps)\n",
      "Episode 54 finished. Total reward: 20.0 (20 timesteps)\n",
      "Episode 55 finished. Total reward: 15.0 (15 timesteps)\n",
      "Episode 56 finished. Total reward: 28.0 (28 timesteps)\n",
      "Episode 57 finished. Total reward: 19.0 (19 timesteps)\n",
      "Episode 58 finished. Total reward: 18.0 (18 timesteps)\n",
      "Episode 59 finished. Total reward: 26.0 (26 timesteps)\n",
      "Episode 60 finished. Total reward: 14.0 (14 timesteps)\n",
      "Episode 61 finished. Total reward: 33.0 (33 timesteps)\n",
      "Episode 62 finished. Total reward: 15.0 (15 timesteps)\n",
      "Episode 63 finished. Total reward: 17.0 (17 timesteps)\n",
      "Episode 64 finished. Total reward: 13.0 (13 timesteps)\n",
      "Episode 65 finished. Total reward: 11.0 (11 timesteps)\n",
      "Episode 66 finished. Total reward: 30.0 (30 timesteps)\n",
      "Episode 67 finished. Total reward: 26.0 (26 timesteps)\n",
      "Episode 68 finished. Total reward: 15.0 (15 timesteps)\n",
      "Episode 69 finished. Total reward: 23.0 (23 timesteps)\n",
      "Episode 70 finished. Total reward: 17.0 (17 timesteps)\n",
      "Episode 71 finished. Total reward: 16.0 (16 timesteps)\n",
      "Episode 72 finished. Total reward: 43.0 (43 timesteps)\n",
      "Episode 73 finished. Total reward: 37.0 (37 timesteps)\n",
      "Episode 74 finished. Total reward: 14.0 (14 timesteps)\n",
      "Episode 75 finished. Total reward: 68.0 (68 timesteps)\n",
      "Episode 76 finished. Total reward: 25.0 (25 timesteps)\n",
      "Episode 77 finished. Total reward: 18.0 (18 timesteps)\n",
      "Episode 78 finished. Total reward: 14.0 (14 timesteps)\n",
      "Episode 79 finished. Total reward: 29.0 (29 timesteps)\n",
      "Episode 80 finished. Total reward: 15.0 (15 timesteps)\n",
      "Episode 81 finished. Total reward: 12.0 (12 timesteps)\n",
      "Episode 82 finished. Total reward: 34.0 (34 timesteps)\n",
      "Episode 83 finished. Total reward: 9.0 (9 timesteps)\n",
      "Episode 84 finished. Total reward: 21.0 (21 timesteps)\n",
      "Episode 85 finished. Total reward: 17.0 (17 timesteps)\n",
      "Episode 86 finished. Total reward: 29.0 (29 timesteps)\n",
      "Episode 87 finished. Total reward: 64.0 (64 timesteps)\n",
      "Episode 88 finished. Total reward: 15.0 (15 timesteps)\n",
      "Episode 89 finished. Total reward: 14.0 (14 timesteps)\n",
      "Episode 90 finished. Total reward: 22.0 (22 timesteps)\n",
      "Updating the policy...\n",
      "Updating finished!\n",
      "Episode 91 finished. Total reward: 26.0 (26 timesteps)\n",
      "Episode 92 finished. Total reward: 53.0 (53 timesteps)\n",
      "Episode 93 finished. Total reward: 14.0 (14 timesteps)\n",
      "Episode 94 finished. Total reward: 31.0 (31 timesteps)\n",
      "Episode 95 finished. Total reward: 14.0 (14 timesteps)\n",
      "Episode 96 finished. Total reward: 19.0 (19 timesteps)\n",
      "Episode 97 finished. Total reward: 16.0 (16 timesteps)\n",
      "Episode 98 finished. Total reward: 15.0 (15 timesteps)\n",
      "Episode 99 finished. Total reward: 21.0 (21 timesteps)\n",
      "Episode 100 finished. Total reward: 51.0 (51 timesteps)\n",
      "Episode 101 finished. Total reward: 67.0 (67 timesteps)\n",
      "Episode 102 finished. Total reward: 22.0 (22 timesteps)\n",
      "Episode 103 finished. Total reward: 66.0 (66 timesteps)\n",
      "Episode 104 finished. Total reward: 20.0 (20 timesteps)\n",
      "Episode 105 finished. Total reward: 59.0 (59 timesteps)\n",
      "Episode 106 finished. Total reward: 29.0 (29 timesteps)\n",
      "Episode 107 finished. Total reward: 37.0 (37 timesteps)\n",
      "Episode 108 finished. Total reward: 29.0 (29 timesteps)\n",
      "Episode 109 finished. Total reward: 25.0 (25 timesteps)\n",
      "Episode 110 finished. Total reward: 50.0 (50 timesteps)\n",
      "Episode 111 finished. Total reward: 19.0 (19 timesteps)\n",
      "Episode 112 finished. Total reward: 37.0 (37 timesteps)\n",
      "Episode 113 finished. Total reward: 11.0 (11 timesteps)\n",
      "Episode 114 finished. Total reward: 11.0 (11 timesteps)\n",
      "Episode 115 finished. Total reward: 28.0 (28 timesteps)\n",
      "Episode 116 finished. Total reward: 62.0 (62 timesteps)\n",
      "Episode 117 finished. Total reward: 15.0 (15 timesteps)\n",
      "Episode 118 finished. Total reward: 21.0 (21 timesteps)\n",
      "Episode 119 finished. Total reward: 14.0 (14 timesteps)\n",
      "Episode 120 finished. Total reward: 12.0 (12 timesteps)\n",
      "Episode 121 finished. Total reward: 37.0 (37 timesteps)\n",
      "Episode 122 finished. Total reward: 29.0 (29 timesteps)\n",
      "Episode 123 finished. Total reward: 43.0 (43 timesteps)\n",
      "Episode 124 finished. Total reward: 15.0 (15 timesteps)\n",
      "Episode 125 finished. Total reward: 13.0 (13 timesteps)\n",
      "Episode 126 finished. Total reward: 26.0 (26 timesteps)\n",
      "Episode 127 finished. Total reward: 14.0 (14 timesteps)\n",
      "Episode 128 finished. Total reward: 29.0 (29 timesteps)\n",
      "Episode 129 finished. Total reward: 17.0 (17 timesteps)\n",
      "Episode 130 finished. Total reward: 22.0 (22 timesteps)\n",
      "Episode 131 finished. Total reward: 42.0 (42 timesteps)\n",
      "Episode 132 finished. Total reward: 21.0 (21 timesteps)\n",
      "Episode 133 finished. Total reward: 58.0 (58 timesteps)\n",
      "Episode 134 finished. Total reward: 57.0 (57 timesteps)\n",
      "Episode 135 finished. Total reward: 28.0 (28 timesteps)\n",
      "Episode 136 finished. Total reward: 45.0 (45 timesteps)\n",
      "Episode 137 finished. Total reward: 41.0 (41 timesteps)\n",
      "Episode 138 finished. Total reward: 21.0 (21 timesteps)\n",
      "Episode 139 finished. Total reward: 45.0 (45 timesteps)\n",
      "Episode 140 finished. Total reward: 10.0 (10 timesteps)\n",
      "Episode 141 finished. Total reward: 15.0 (15 timesteps)\n",
      "Episode 142 finished. Total reward: 31.0 (31 timesteps)\n",
      "Episode 143 finished. Total reward: 19.0 (19 timesteps)\n",
      "Episode 144 finished. Total reward: 14.0 (14 timesteps)\n",
      "Episode 145 finished. Total reward: 40.0 (40 timesteps)\n",
      "Episode 146 finished. Total reward: 33.0 (33 timesteps)\n",
      "Episode 147 finished. Total reward: 23.0 (23 timesteps)\n",
      "Episode 148 finished. Total reward: 38.0 (38 timesteps)\n",
      "Episode 149 finished. Total reward: 34.0 (34 timesteps)\n",
      "Episode 150 finished. Total reward: 15.0 (15 timesteps)\n",
      "Episode 151 finished. Total reward: 36.0 (36 timesteps)\n",
      "Episode 152 finished. Total reward: 17.0 (17 timesteps)\n",
      "Episode 153 finished. Total reward: 60.0 (60 timesteps)\n",
      "Episode 154 finished. Total reward: 19.0 (19 timesteps)\n",
      "Episode 155 finished. Total reward: 34.0 (34 timesteps)\n",
      "Episode 156 finished. Total reward: 12.0 (12 timesteps)\n",
      "Episode 157 finished. Total reward: 12.0 (12 timesteps)\n",
      "Updating the policy...\n",
      "Updating finished!\n",
      "Episode 158 finished. Total reward: 54.0 (54 timesteps)\n",
      "Episode 159 finished. Total reward: 27.0 (27 timesteps)\n",
      "Episode 160 finished. Total reward: 56.0 (56 timesteps)\n",
      "Episode 161 finished. Total reward: 22.0 (22 timesteps)\n",
      "Episode 162 finished. Total reward: 81.0 (81 timesteps)\n",
      "Episode 163 finished. Total reward: 24.0 (24 timesteps)\n",
      "Episode 164 finished. Total reward: 100.0 (100 timesteps)\n",
      "Episode 165 finished. Total reward: 50.0 (50 timesteps)\n",
      "Episode 166 finished. Total reward: 25.0 (25 timesteps)\n",
      "Episode 167 finished. Total reward: 25.0 (25 timesteps)\n",
      "Episode 168 finished. Total reward: 48.0 (48 timesteps)\n",
      "Episode 169 finished. Total reward: 27.0 (27 timesteps)\n",
      "Episode 170 finished. Total reward: 10.0 (10 timesteps)\n",
      "Episode 171 finished. Total reward: 15.0 (15 timesteps)\n",
      "Episode 172 finished. Total reward: 63.0 (63 timesteps)\n",
      "Episode 173 finished. Total reward: 24.0 (24 timesteps)\n",
      "Episode 174 finished. Total reward: 100.0 (100 timesteps)\n",
      "Episode 175 finished. Total reward: 46.0 (46 timesteps)\n",
      "Episode 176 finished. Total reward: 85.0 (85 timesteps)\n",
      "Episode 177 finished. Total reward: 41.0 (41 timesteps)\n",
      "Episode 178 finished. Total reward: 23.0 (23 timesteps)\n",
      "Episode 179 finished. Total reward: 100.0 (100 timesteps)\n",
      "Episode 180 finished. Total reward: 82.0 (82 timesteps)\n",
      "Episode 181 finished. Total reward: 34.0 (34 timesteps)\n",
      "Episode 182 finished. Total reward: 13.0 (13 timesteps)\n",
      "Episode 183 finished. Total reward: 46.0 (46 timesteps)\n",
      "Episode 184 finished. Total reward: 11.0 (11 timesteps)\n",
      "Episode 185 finished. Total reward: 69.0 (69 timesteps)\n",
      "Episode 186 finished. Total reward: 100.0 (100 timesteps)\n",
      "Episode 187 finished. Total reward: 18.0 (18 timesteps)\n",
      "Episode 188 finished. Total reward: 63.0 (63 timesteps)\n",
      "Episode 189 finished. Total reward: 17.0 (17 timesteps)\n",
      "Episode 190 finished. Total reward: 42.0 (42 timesteps)\n",
      "Episode 191 finished. Total reward: 68.0 (68 timesteps)\n",
      "Episode 192 finished. Total reward: 61.0 (61 timesteps)\n",
      "Episode 193 finished. Total reward: 74.0 (74 timesteps)\n",
      "Episode 194 finished. Total reward: 25.0 (25 timesteps)\n",
      "Episode 195 finished. Total reward: 20.0 (20 timesteps)\n",
      "Episode 196 finished. Total reward: 68.0 (68 timesteps)\n",
      "Episode 197 finished. Total reward: 31.0 (31 timesteps)\n",
      "Episode 198 finished. Total reward: 100.0 (100 timesteps)\n",
      "Episode 199 finished. Total reward: 14.0 (14 timesteps)\n",
      "Episode 200 finished. Total reward: 30.0 (30 timesteps)\n",
      "Updating the policy...\n",
      "Updating finished!\n",
      "Episode 201 finished. Total reward: 86.0 (86 timesteps)\n",
      "Episode 202 finished. Total reward: 66.0 (66 timesteps)\n",
      "Episode 203 finished. Total reward: 100.0 (100 timesteps)\n",
      "Episode 204 finished. Total reward: 13.0 (13 timesteps)\n",
      "Episode 205 finished. Total reward: 59.0 (59 timesteps)\n",
      "Episode 206 finished. Total reward: 79.0 (79 timesteps)\n",
      "Episode 207 finished. Total reward: 100.0 (100 timesteps)\n",
      "Episode 208 finished. Total reward: 43.0 (43 timesteps)\n",
      "Episode 209 finished. Total reward: 21.0 (21 timesteps)\n",
      "Episode 210 finished. Total reward: 53.0 (53 timesteps)\n",
      "Episode 211 finished. Total reward: 100.0 (100 timesteps)\n",
      "Episode 212 finished. Total reward: 100.0 (100 timesteps)\n",
      "Episode 213 finished. Total reward: 61.0 (61 timesteps)\n",
      "Episode 214 finished. Total reward: 15.0 (15 timesteps)\n",
      "Episode 215 finished. Total reward: 76.0 (76 timesteps)\n",
      "Episode 216 finished. Total reward: 30.0 (30 timesteps)\n",
      "Episode 217 finished. Total reward: 20.0 (20 timesteps)\n",
      "Episode 218 finished. Total reward: 100.0 (100 timesteps)\n",
      "Episode 219 finished. Total reward: 50.0 (50 timesteps)\n",
      "Episode 220 finished. Total reward: 49.0 (49 timesteps)\n",
      "Episode 221 finished. Total reward: 71.0 (71 timesteps)\n",
      "Episode 222 finished. Total reward: 100.0 (100 timesteps)\n",
      "Episode 223 finished. Total reward: 13.0 (13 timesteps)\n",
      "Episode 224 finished. Total reward: 100.0 (100 timesteps)\n",
      "Episode 225 finished. Total reward: 73.0 (73 timesteps)\n",
      "Episode 226 finished. Total reward: 28.0 (28 timesteps)\n",
      "Episode 227 finished. Total reward: 34.0 (34 timesteps)\n",
      "Episode 228 finished. Total reward: 15.0 (15 timesteps)\n",
      "Episode 229 finished. Total reward: 40.0 (40 timesteps)\n",
      "Episode 230 finished. Total reward: 100.0 (100 timesteps)\n",
      "Episode 231 finished. Total reward: 45.0 (45 timesteps)\n",
      "Episode 232 finished. Total reward: 49.0 (49 timesteps)\n",
      "Episode 233 finished. Total reward: 19.0 (19 timesteps)\n",
      "Episode 234 finished. Total reward: 54.0 (54 timesteps)\n",
      "Episode 235 finished. Total reward: 12.0 (12 timesteps)\n",
      "Updating the policy...\n",
      "Updating finished!\n",
      "Episode 236 finished. Total reward: 100.0 (100 timesteps)\n",
      "Episode 237 finished. Total reward: 49.0 (49 timesteps)\n",
      "Episode 238 finished. Total reward: 100.0 (100 timesteps)\n",
      "Episode 239 finished. Total reward: 49.0 (49 timesteps)\n",
      "Episode 240 finished. Total reward: 99.0 (99 timesteps)\n",
      "Episode 241 finished. Total reward: 100.0 (100 timesteps)\n",
      "Episode 242 finished. Total reward: 100.0 (100 timesteps)\n",
      "Episode 243 finished. Total reward: 100.0 (100 timesteps)\n",
      "Episode 244 finished. Total reward: 70.0 (70 timesteps)\n",
      "Episode 245 finished. Total reward: 21.0 (21 timesteps)\n",
      "Episode 246 finished. Total reward: 100.0 (100 timesteps)\n",
      "Episode 247 finished. Total reward: 100.0 (100 timesteps)\n",
      "Episode 248 finished. Total reward: 41.0 (41 timesteps)\n",
      "Episode 249 finished. Total reward: 47.0 (47 timesteps)\n",
      "Episode 250 finished. Total reward: 50.0 (50 timesteps)\n",
      "Episode 251 finished. Total reward: 79.0 (79 timesteps)\n",
      "Episode 252 finished. Total reward: 100.0 (100 timesteps)\n",
      "Episode 253 finished. Total reward: 100.0 (100 timesteps)\n",
      "Episode 254 finished. Total reward: 68.0 (68 timesteps)\n",
      "Episode 255 finished. Total reward: 75.0 (75 timesteps)\n",
      "Episode 256 finished. Total reward: 100.0 (100 timesteps)\n",
      "Episode 257 finished. Total reward: 100.0 (100 timesteps)\n",
      "Episode 258 finished. Total reward: 63.0 (63 timesteps)\n",
      "Episode 259 finished. Total reward: 100.0 (100 timesteps)\n",
      "Episode 260 finished. Total reward: 100.0 (100 timesteps)\n",
      "Updating the policy...\n",
      "Updating finished!\n",
      "Episode 261 finished. Total reward: 100.0 (100 timesteps)\n",
      "Episode 262 finished. Total reward: 42.0 (42 timesteps)\n",
      "Episode 263 finished. Total reward: 100.0 (100 timesteps)\n",
      "Episode 264 finished. Total reward: 100.0 (100 timesteps)\n",
      "Episode 265 finished. Total reward: 100.0 (100 timesteps)\n",
      "Episode 266 finished. Total reward: 100.0 (100 timesteps)\n",
      "Episode 267 finished. Total reward: 100.0 (100 timesteps)\n",
      "Episode 268 finished. Total reward: 100.0 (100 timesteps)\n",
      "Episode 269 finished. Total reward: 74.0 (74 timesteps)\n",
      "Episode 270 finished. Total reward: 34.0 (34 timesteps)\n",
      "Episode 271 finished. Total reward: 47.0 (47 timesteps)\n",
      "Episode 272 finished. Total reward: 100.0 (100 timesteps)\n",
      "Episode 273 finished. Total reward: 53.0 (53 timesteps)\n",
      "Episode 274 finished. Total reward: 100.0 (100 timesteps)\n",
      "Episode 275 finished. Total reward: 100.0 (100 timesteps)\n",
      "Episode 276 finished. Total reward: 100.0 (100 timesteps)\n",
      "Episode 277 finished. Total reward: 57.0 (57 timesteps)\n",
      "Episode 278 finished. Total reward: 100.0 (100 timesteps)\n",
      "Episode 279 finished. Total reward: 100.0 (100 timesteps)\n",
      "Episode 280 finished. Total reward: 100.0 (100 timesteps)\n",
      "Episode 281 finished. Total reward: 100.0 (100 timesteps)\n",
      "Episode 282 finished. Total reward: 38.0 (38 timesteps)\n",
      "Episode 283 finished. Total reward: 100.0 (100 timesteps)\n",
      "Updating the policy...\n",
      "Updating finished!\n",
      "Episode 284 finished. Total reward: 100.0 (100 timesteps)\n",
      "Episode 285 finished. Total reward: 32.0 (32 timesteps)\n",
      "Episode 286 finished. Total reward: 92.0 (92 timesteps)\n",
      "Episode 287 finished. Total reward: 87.0 (87 timesteps)\n",
      "Episode 288 finished. Total reward: 100.0 (100 timesteps)\n",
      "Episode 289 finished. Total reward: 100.0 (100 timesteps)\n",
      "Episode 290 finished. Total reward: 81.0 (81 timesteps)\n",
      "Episode 291 finished. Total reward: 100.0 (100 timesteps)\n",
      "Episode 292 finished. Total reward: 91.0 (91 timesteps)\n",
      "Episode 293 finished. Total reward: 100.0 (100 timesteps)\n",
      "Episode 294 finished. Total reward: 86.0 (86 timesteps)\n",
      "Episode 295 finished. Total reward: 100.0 (100 timesteps)\n",
      "Episode 296 finished. Total reward: 100.0 (100 timesteps)\n",
      "Episode 297 finished. Total reward: 100.0 (100 timesteps)\n",
      "Episode 298 finished. Total reward: 100.0 (100 timesteps)\n",
      "Episode 299 finished. Total reward: 100.0 (100 timesteps)\n",
      "Episode 300 finished. Total reward: 64.0 (64 timesteps)\n",
      "Episode 301 finished. Total reward: 100.0 (100 timesteps)\n",
      "Episode 302 finished. Total reward: 100.0 (100 timesteps)\n",
      "Episode 303 finished. Total reward: 100.0 (100 timesteps)\n",
      "Episode 304 finished. Total reward: 100.0 (100 timesteps)\n",
      "Episode 305 finished. Total reward: 100.0 (100 timesteps)\n",
      "Updating the policy...\n",
      "Updating finished!\n",
      "Episode 306 finished. Total reward: 100.0 (100 timesteps)\n",
      "Episode 307 finished. Total reward: 100.0 (100 timesteps)\n",
      "Episode 308 finished. Total reward: 100.0 (100 timesteps)\n",
      "Episode 309 finished. Total reward: 100.0 (100 timesteps)\n",
      "Episode 310 finished. Total reward: 100.0 (100 timesteps)\n",
      "Episode 311 finished. Total reward: 100.0 (100 timesteps)\n",
      "Episode 312 finished. Total reward: 100.0 (100 timesteps)\n",
      "Episode 313 finished. Total reward: 100.0 (100 timesteps)\n",
      "Episode 314 finished. Total reward: 100.0 (100 timesteps)\n",
      "Episode 315 finished. Total reward: 100.0 (100 timesteps)\n",
      "Episode 316 finished. Total reward: 100.0 (100 timesteps)\n",
      "Episode 317 finished. Total reward: 100.0 (100 timesteps)\n",
      "Episode 318 finished. Total reward: 100.0 (100 timesteps)\n",
      "Episode 319 finished. Total reward: 100.0 (100 timesteps)\n",
      "Episode 320 finished. Total reward: 100.0 (100 timesteps)\n",
      "Episode 321 finished. Total reward: 100.0 (100 timesteps)\n",
      "Episode 322 finished. Total reward: 100.0 (100 timesteps)\n",
      "Episode 323 finished. Total reward: 96.0 (96 timesteps)\n",
      "Episode 324 finished. Total reward: 100.0 (100 timesteps)\n",
      "Episode 325 finished. Total reward: 100.0 (100 timesteps)\n",
      "Updating the policy...\n",
      "Updating finished!\n",
      "Episode 326 finished. Total reward: 100.0 (100 timesteps)\n",
      "Episode 327 finished. Total reward: 100.0 (100 timesteps)\n",
      "Episode 328 finished. Total reward: 100.0 (100 timesteps)\n",
      "Episode 329 finished. Total reward: 100.0 (100 timesteps)\n",
      "Episode 330 finished. Total reward: 100.0 (100 timesteps)\n",
      "Episode 331 finished. Total reward: 100.0 (100 timesteps)\n",
      "Episode 332 finished. Total reward: 100.0 (100 timesteps)\n",
      "Episode 333 finished. Total reward: 100.0 (100 timesteps)\n",
      "Episode 334 finished. Total reward: 100.0 (100 timesteps)\n",
      "Episode 335 finished. Total reward: 100.0 (100 timesteps)\n",
      "Episode 336 finished. Total reward: 100.0 (100 timesteps)\n",
      "Episode 337 finished. Total reward: 100.0 (100 timesteps)\n",
      "Episode 338 finished. Total reward: 100.0 (100 timesteps)\n",
      "Episode 339 finished. Total reward: 100.0 (100 timesteps)\n",
      "Episode 340 finished. Total reward: 100.0 (100 timesteps)\n",
      "Episode 341 finished. Total reward: 100.0 (100 timesteps)\n",
      "Episode 342 finished. Total reward: 100.0 (100 timesteps)\n",
      "Episode 343 finished. Total reward: 100.0 (100 timesteps)\n",
      "Episode 344 finished. Total reward: 100.0 (100 timesteps)\n",
      "Episode 345 finished. Total reward: 100.0 (100 timesteps)\n",
      "Updating the policy...\n",
      "Updating finished!\n",
      "Episode 346 finished. Total reward: 100.0 (100 timesteps)\n",
      "Episode 347 finished. Total reward: 100.0 (100 timesteps)\n",
      "Episode 348 finished. Total reward: 100.0 (100 timesteps)\n",
      "Episode 349 finished. Total reward: 100.0 (100 timesteps)\n",
      "Episode 350 finished. Total reward: 69.0 (69 timesteps)\n",
      "Episode 351 finished. Total reward: 93.0 (93 timesteps)\n",
      "Episode 352 finished. Total reward: 16.0 (16 timesteps)\n",
      "Episode 353 finished. Total reward: 100.0 (100 timesteps)\n",
      "Episode 354 finished. Total reward: 33.0 (33 timesteps)\n",
      "Episode 355 finished. Total reward: 100.0 (100 timesteps)\n",
      "Episode 356 finished. Total reward: 75.0 (75 timesteps)\n",
      "Episode 357 finished. Total reward: 64.0 (64 timesteps)\n",
      "Episode 358 finished. Total reward: 15.0 (15 timesteps)\n",
      "Episode 359 finished. Total reward: 100.0 (100 timesteps)\n",
      "Episode 360 finished. Total reward: 38.0 (38 timesteps)\n",
      "Episode 361 finished. Total reward: 100.0 (100 timesteps)\n",
      "Episode 362 finished. Total reward: 26.0 (26 timesteps)\n",
      "Episode 363 finished. Total reward: 100.0 (100 timesteps)\n",
      "Episode 364 finished. Total reward: 93.0 (93 timesteps)\n",
      "Episode 365 finished. Total reward: 68.0 (68 timesteps)\n",
      "Episode 366 finished. Total reward: 99.0 (99 timesteps)\n",
      "Episode 367 finished. Total reward: 70.0 (70 timesteps)\n",
      "Episode 368 finished. Total reward: 100.0 (100 timesteps)\n",
      "Episode 369 finished. Total reward: 100.0 (100 timesteps)\n",
      "Episode 370 finished. Total reward: 82.0 (82 timesteps)\n",
      "Episode 371 finished. Total reward: 100.0 (100 timesteps)\n",
      "Episode 372 finished. Total reward: 13.0 (13 timesteps)\n",
      "Updating the policy...\n",
      "Updating finished!\n",
      "Episode 373 finished. Total reward: 100.0 (100 timesteps)\n",
      "Episode 374 finished. Total reward: 100.0 (100 timesteps)\n",
      "Episode 375 finished. Total reward: 100.0 (100 timesteps)\n",
      "Episode 376 finished. Total reward: 100.0 (100 timesteps)\n",
      "Episode 377 finished. Total reward: 100.0 (100 timesteps)\n",
      "Episode 378 finished. Total reward: 100.0 (100 timesteps)\n",
      "Episode 379 finished. Total reward: 100.0 (100 timesteps)\n",
      "Episode 380 finished. Total reward: 75.0 (75 timesteps)\n",
      "Episode 381 finished. Total reward: 100.0 (100 timesteps)\n",
      "Episode 382 finished. Total reward: 100.0 (100 timesteps)\n",
      "Episode 383 finished. Total reward: 100.0 (100 timesteps)\n",
      "Episode 384 finished. Total reward: 100.0 (100 timesteps)\n",
      "Episode 385 finished. Total reward: 100.0 (100 timesteps)\n",
      "Episode 386 finished. Total reward: 100.0 (100 timesteps)\n",
      "Episode 387 finished. Total reward: 65.0 (65 timesteps)\n",
      "Episode 388 finished. Total reward: 100.0 (100 timesteps)\n",
      "Episode 389 finished. Total reward: 100.0 (100 timesteps)\n",
      "Episode 390 finished. Total reward: 100.0 (100 timesteps)\n",
      "Episode 391 finished. Total reward: 100.0 (100 timesteps)\n",
      "Episode 392 finished. Total reward: 100.0 (100 timesteps)\n",
      "Updating the policy...\n",
      "Updating finished!\n",
      "Episode 393 finished. Total reward: 100.0 (100 timesteps)\n",
      "Episode 394 finished. Total reward: 42.0 (42 timesteps)\n",
      "Episode 395 finished. Total reward: 100.0 (100 timesteps)\n",
      "Episode 396 finished. Total reward: 100.0 (100 timesteps)\n",
      "Episode 397 finished. Total reward: 100.0 (100 timesteps)\n",
      "Episode 398 finished. Total reward: 100.0 (100 timesteps)\n",
      "Episode 399 finished. Total reward: 100.0 (100 timesteps)\n",
      "Episode 400 finished. Total reward: 100.0 (100 timesteps)\n",
      "Episode 401 finished. Total reward: 100.0 (100 timesteps)\n",
      "Episode 402 finished. Total reward: 100.0 (100 timesteps)\n",
      "Episode 403 finished. Total reward: 90.0 (90 timesteps)\n",
      "Episode 404 finished. Total reward: 100.0 (100 timesteps)\n",
      "Episode 405 finished. Total reward: 100.0 (100 timesteps)\n",
      "Episode 406 finished. Total reward: 65.0 (65 timesteps)\n",
      "Episode 407 finished. Total reward: 100.0 (100 timesteps)\n",
      "Episode 408 finished. Total reward: 100.0 (100 timesteps)\n",
      "Episode 409 finished. Total reward: 100.0 (100 timesteps)\n",
      "Episode 410 finished. Total reward: 100.0 (100 timesteps)\n",
      "Episode 411 finished. Total reward: 100.0 (100 timesteps)\n",
      "Episode 412 finished. Total reward: 100.0 (100 timesteps)\n",
      "Episode 413 finished. Total reward: 100.0 (100 timesteps)\n",
      "Updating the policy...\n",
      "Updating finished!\n",
      "Episode 414 finished. Total reward: 100.0 (100 timesteps)\n",
      "Episode 415 finished. Total reward: 100.0 (100 timesteps)\n",
      "Episode 416 finished. Total reward: 100.0 (100 timesteps)\n",
      "Episode 417 finished. Total reward: 100.0 (100 timesteps)\n",
      "Episode 418 finished. Total reward: 99.0 (99 timesteps)\n",
      "Episode 419 finished. Total reward: 100.0 (100 timesteps)\n",
      "Episode 420 finished. Total reward: 100.0 (100 timesteps)\n",
      "Episode 421 finished. Total reward: 100.0 (100 timesteps)\n",
      "Episode 422 finished. Total reward: 100.0 (100 timesteps)\n",
      "Episode 423 finished. Total reward: 100.0 (100 timesteps)\n",
      "Episode 424 finished. Total reward: 100.0 (100 timesteps)\n",
      "Episode 425 finished. Total reward: 100.0 (100 timesteps)\n",
      "Episode 426 finished. Total reward: 100.0 (100 timesteps)\n",
      "Episode 427 finished. Total reward: 100.0 (100 timesteps)\n",
      "Episode 428 finished. Total reward: 100.0 (100 timesteps)\n",
      "Episode 429 finished. Total reward: 100.0 (100 timesteps)\n",
      "Episode 430 finished. Total reward: 78.0 (78 timesteps)\n",
      "Episode 431 finished. Total reward: 100.0 (100 timesteps)\n",
      "Episode 432 finished. Total reward: 34.0 (34 timesteps)\n",
      "Episode 433 finished. Total reward: 100.0 (100 timesteps)\n",
      "Episode 434 finished. Total reward: 100.0 (100 timesteps)\n",
      "Updating the policy...\n",
      "Updating finished!\n",
      "Episode 435 finished. Total reward: 100.0 (100 timesteps)\n",
      "Episode 436 finished. Total reward: 100.0 (100 timesteps)\n",
      "Episode 437 finished. Total reward: 100.0 (100 timesteps)\n",
      "Episode 438 finished. Total reward: 100.0 (100 timesteps)\n",
      "Episode 439 finished. Total reward: 100.0 (100 timesteps)\n",
      "Episode 440 finished. Total reward: 100.0 (100 timesteps)\n",
      "Episode 441 finished. Total reward: 100.0 (100 timesteps)\n",
      "Episode 442 finished. Total reward: 100.0 (100 timesteps)\n",
      "Episode 443 finished. Total reward: 100.0 (100 timesteps)\n",
      "Episode 444 finished. Total reward: 100.0 (100 timesteps)\n",
      "Episode 445 finished. Total reward: 100.0 (100 timesteps)\n",
      "Episode 446 finished. Total reward: 100.0 (100 timesteps)\n",
      "Episode 447 finished. Total reward: 100.0 (100 timesteps)\n",
      "Episode 448 finished. Total reward: 100.0 (100 timesteps)\n",
      "Episode 449 finished. Total reward: 100.0 (100 timesteps)\n",
      "Episode 450 finished. Total reward: 100.0 (100 timesteps)\n",
      "Episode 451 finished. Total reward: 100.0 (100 timesteps)\n",
      "Episode 452 finished. Total reward: 100.0 (100 timesteps)\n",
      "Episode 453 finished. Total reward: 100.0 (100 timesteps)\n",
      "Episode 454 finished. Total reward: 22.0 (22 timesteps)\n",
      "Episode 455 finished. Total reward: 100.0 (100 timesteps)\n",
      "Updating the policy...\n",
      "Updating finished!\n",
      "Episode 456 finished. Total reward: 100.0 (100 timesteps)\n",
      "Episode 457 finished. Total reward: 100.0 (100 timesteps)\n",
      "Episode 458 finished. Total reward: 100.0 (100 timesteps)\n",
      "Episode 459 finished. Total reward: 100.0 (100 timesteps)\n",
      "Episode 460 finished. Total reward: 100.0 (100 timesteps)\n",
      "Episode 461 finished. Total reward: 100.0 (100 timesteps)\n",
      "Episode 462 finished. Total reward: 100.0 (100 timesteps)\n",
      "Episode 463 finished. Total reward: 83.0 (83 timesteps)\n",
      "Episode 464 finished. Total reward: 100.0 (100 timesteps)\n",
      "Episode 465 finished. Total reward: 100.0 (100 timesteps)\n",
      "Episode 466 finished. Total reward: 35.0 (35 timesteps)\n",
      "Episode 467 finished. Total reward: 100.0 (100 timesteps)\n",
      "Episode 468 finished. Total reward: 100.0 (100 timesteps)\n",
      "Episode 469 finished. Total reward: 100.0 (100 timesteps)\n",
      "Episode 470 finished. Total reward: 100.0 (100 timesteps)\n",
      "Episode 471 finished. Total reward: 100.0 (100 timesteps)\n",
      "Episode 472 finished. Total reward: 100.0 (100 timesteps)\n",
      "Episode 473 finished. Total reward: 100.0 (100 timesteps)\n",
      "Episode 474 finished. Total reward: 100.0 (100 timesteps)\n",
      "Episode 475 finished. Total reward: 100.0 (100 timesteps)\n",
      "Episode 476 finished. Total reward: 100.0 (100 timesteps)\n",
      "Updating the policy...\n",
      "Updating finished!\n",
      "Episode 477 finished. Total reward: 100.0 (100 timesteps)\n",
      "Episode 478 finished. Total reward: 100.0 (100 timesteps)\n",
      "Episode 479 finished. Total reward: 100.0 (100 timesteps)\n",
      "Episode 480 finished. Total reward: 100.0 (100 timesteps)\n",
      "Episode 481 finished. Total reward: 100.0 (100 timesteps)\n",
      "Episode 482 finished. Total reward: 100.0 (100 timesteps)\n",
      "Episode 483 finished. Total reward: 100.0 (100 timesteps)\n",
      "Episode 484 finished. Total reward: 100.0 (100 timesteps)\n",
      "Episode 485 finished. Total reward: 100.0 (100 timesteps)\n",
      "Episode 486 finished. Total reward: 100.0 (100 timesteps)\n",
      "Episode 487 finished. Total reward: 100.0 (100 timesteps)\n",
      "Episode 488 finished. Total reward: 100.0 (100 timesteps)\n",
      "Episode 489 finished. Total reward: 100.0 (100 timesteps)\n",
      "Episode 490 finished. Total reward: 100.0 (100 timesteps)\n",
      "Episode 491 finished. Total reward: 100.0 (100 timesteps)\n",
      "Episode 492 finished. Total reward: 100.0 (100 timesteps)\n",
      "Episode 493 finished. Total reward: 100.0 (100 timesteps)\n",
      "Episode 494 finished. Total reward: 100.0 (100 timesteps)\n",
      "Episode 495 finished. Total reward: 100.0 (100 timesteps)\n",
      "Episode 496 finished. Total reward: 100.0 (100 timesteps)\n",
      "Updating the policy...\n",
      "Updating finished!\n",
      "Episode 497 finished. Total reward: 100.0 (100 timesteps)\n",
      "Episode 498 finished. Total reward: 100.0 (100 timesteps)\n",
      "Episode 499 finished. Total reward: 100.0 (100 timesteps)\n",
      "Episode 500 finished. Total reward: 98.0 (98 timesteps)\n",
      "Model saved to /notebooks/rl2023/ex1/results/model/CartPole-v1_params.pt\n",
      "------Training finished.------\n",
      "Numpy/Torch/Random Seed:  658\n",
      "Loading model from /notebooks/rl2023/ex1/results/model/CartPole-v1_params.pt ...\n",
      "Testing...\n",
      "Test ep reward: 144.0 seed: 455\n",
      "Test ep reward: 131.0 seed: 397\n",
      "Test ep reward: 137.0 seed: 698\n",
      "Test ep reward: 123.0 seed: 450\n",
      "Test ep reward: 124.0 seed: 661\n",
      "Test ep reward: 137.0 seed: 58\n",
      "Test ep reward: 140.0 seed: 924\n",
      "Test ep reward: 121.0 seed: 74\n",
      "Test ep reward: 144.0 seed: 636\n",
      "Test ep reward: 114.0 seed: 174\n",
      "Average test reward: 131.5 episode length: 131.5\n",
      "Numpy/Torch/Random Seed:  36\n"
     ]
    },
    {
     "data": {
      "text/html": [
       "Changes to your `wandb` environment variables will be ignored because your `wandb` session has already started. For more information on how to modify your settings with `wandb.init()` arguments, please refer to <a href='https://wandb.me/wandb-init' target=\"_blank\">the W&B docs</a>."
      ],
      "text/plain": [
       "<IPython.core.display.HTML object>"
      ]
     },
     "metadata": {},
     "output_type": "display_data"
    },
    {
     "data": {
      "text/html": [
       "Finishing last run (ID:tk7mx9cv) before initializing another..."
      ],
      "text/plain": [
       "<IPython.core.display.HTML object>"
      ]
     },
     "metadata": {},
     "output_type": "display_data"
    },
    {
     "data": {
      "text/html": [
       "Waiting for W&B process to finish... <strong style=\"color:green\">(success).</strong>"
      ],
      "text/plain": [
       "<IPython.core.display.HTML object>"
      ]
     },
     "metadata": {},
     "output_type": "display_data"
    },
    {
     "data": {
      "application/vnd.jupyter.widget-view+json": {
       "model_id": "d79342238c80428ba0c14f830da2962c",
       "version_major": 2,
       "version_minor": 0
      },
      "text/plain": [
       "VBox(children=(Label(value='0.002 MB of 0.002 MB uploaded (0.000 MB deduped)\\r'), FloatProgress(value=1.0, max…"
      ]
     },
     "metadata": {},
     "output_type": "display_data"
    },
    {
     "data": {
      "text/html": [
       "<style>\n",
       "    table.wandb td:nth-child(1) { padding: 0 10px; text-align: left ; width: auto;} td:nth-child(2) {text-align: left ; width: 100%}\n",
       "    .wandb-row { display: flex; flex-direction: row; flex-wrap: wrap; justify-content: flex-start; width: 100% }\n",
       "    .wandb-col { display: flex; flex-direction: column; flex-basis: 100%; flex: 1; padding: 10px; }\n",
       "    </style>\n",
       "<div class=\"wandb-row\"><div class=\"wandb-col\"><h3>Run history:</h3><br/><table class=\"wandb\"><tr><td>ep_reward</td><td>▁▂▃▁▃▁▂▂▅▂▁▄▃▂█▅█▄▄█▆███████████████████</td></tr><tr><td>episodes</td><td>▁▁▁▂▂▂▂▂▂▃▃▃▃▃▄▄▄▄▄▄▅▅▅▅▅▅▆▆▆▆▆▇▇▇▇▇▇███</td></tr><tr><td>num_updates</td><td>▁▁▁▁▁▁▁█▁▁▁▁▁▁▁▁▁▁▁▁▁▁▁▁▁▁▁▁▁▁▁▁▁▁█▁▁▁▁▁</td></tr><tr><td>timesteps</td><td>▁▂▃▁▃▁▂▂▅▂▁▄▃▂█▅█▄▄█▆███████████████████</td></tr></table><br/></div><div class=\"wandb-col\"><h3>Run summary:</h3><br/><table class=\"wandb\"><tr><td>ep_reward</td><td>98.0</td></tr><tr><td>episodes</td><td>500</td></tr><tr><td>num_updates</td><td>0</td></tr><tr><td>timesteps</td><td>98</td></tr></table><br/></div></div>"
      ],
      "text/plain": [
       "<IPython.core.display.HTML object>"
      ]
     },
     "metadata": {},
     "output_type": "display_data"
    },
    {
     "data": {
      "text/html": [
       " View run <strong style=\"color:#cdcd00\">ex1-CartPole-v1-42-1694670461</strong> at: <a href='https://wandb.ai/r-l/rl_aalto/runs/tk7mx9cv' target=\"_blank\">https://wandb.ai/r-l/rl_aalto/runs/tk7mx9cv</a><br/>Synced 6 W&B file(s), 0 media file(s), 0 artifact file(s) and 0 other file(s)"
      ],
      "text/plain": [
       "<IPython.core.display.HTML object>"
      ]
     },
     "metadata": {},
     "output_type": "display_data"
    },
    {
     "data": {
      "text/html": [
       "Find logs at: <code>./wandb/run-20230914_084741-tk7mx9cv/logs</code>"
      ],
      "text/plain": [
       "<IPython.core.display.HTML object>"
      ]
     },
     "metadata": {},
     "output_type": "display_data"
    },
    {
     "data": {
      "text/html": [
       "Successfully finished last run (ID:tk7mx9cv). Initializing new run:<br/>"
      ],
      "text/plain": [
       "<IPython.core.display.HTML object>"
      ]
     },
     "metadata": {},
     "output_type": "display_data"
    },
    {
     "data": {
      "application/vnd.jupyter.widget-view+json": {
       "model_id": "0485451ae8054f328fd4296d40df689d",
       "version_major": 2,
       "version_minor": 0
      },
      "text/plain": [
       "VBox(children=(Label(value='Waiting for wandb.init()...\\r'), FloatProgress(value=0.016669374549140532, max=1.0…"
      ]
     },
     "metadata": {},
     "output_type": "display_data"
    },
    {
     "data": {
      "text/html": [
       "wandb version 0.15.10 is available!  To upgrade, please run:\n",
       " $ pip install wandb --upgrade"
      ],
      "text/plain": [
       "<IPython.core.display.HTML object>"
      ]
     },
     "metadata": {},
     "output_type": "display_data"
    },
    {
     "data": {
      "text/html": [
       "Tracking run with wandb version 0.15.9"
      ],
      "text/plain": [
       "<IPython.core.display.HTML object>"
      ]
     },
     "metadata": {},
     "output_type": "display_data"
    },
    {
     "data": {
      "text/html": [
       "Run data is saved locally in <code>/notebooks/rl2023/ex1/wandb/run-20230914_085125-ma6439by</code>"
      ],
      "text/plain": [
       "<IPython.core.display.HTML object>"
      ]
     },
     "metadata": {},
     "output_type": "display_data"
    },
    {
     "data": {
      "text/html": [
       "Syncing run <strong><a href='https://wandb.ai/r-l/rl_aalto/runs/ma6439by' target=\"_blank\">ex1-CartPole-v1-36-1694670685</a></strong> to <a href='https://wandb.ai/r-l/rl_aalto' target=\"_blank\">Weights & Biases</a> (<a href='https://wandb.me/run' target=\"_blank\">docs</a>)<br/>"
      ],
      "text/plain": [
       "<IPython.core.display.HTML object>"
      ]
     },
     "metadata": {},
     "output_type": "display_data"
    },
    {
     "data": {
      "text/html": [
       " View project at <a href='https://wandb.ai/r-l/rl_aalto' target=\"_blank\">https://wandb.ai/r-l/rl_aalto</a>"
      ],
      "text/plain": [
       "<IPython.core.display.HTML object>"
      ]
     },
     "metadata": {},
     "output_type": "display_data"
    },
    {
     "data": {
      "text/html": [
       " View run at <a href='https://wandb.ai/r-l/rl_aalto/runs/ma6439by' target=\"_blank\">https://wandb.ai/r-l/rl_aalto/runs/ma6439by</a>"
      ],
      "text/plain": [
       "<IPython.core.display.HTML object>"
      ]
     },
     "metadata": {},
     "output_type": "display_data"
    },
    {
     "name": "stdout",
     "output_type": "stream",
     "text": [
      "Configuration Settings: {'exp_name': 'ex1', 'seed': 36, 'env_name': 'CartPole-v1', 'max_episode_steps': 100, 'train_episodes': 500, 'batch_size': 64, 'min_update_samples': 2000, 'testing': False, 'model_path': 'default', 'save_video': True, 'save_model': True, 'save_logging': True, 'silent': False, 'use_wandb': True, 'run_suffix': 0}\n",
      "Training device: cpu\n",
      "Observation space dimensions: 4\n",
      "Action space dimensions: 2\n",
      "\n",
      "Episode 0 finished. Total reward: 23.0 (23 timesteps)\n",
      "Episode 1 finished. Total reward: 24.0 (24 timesteps)\n",
      "Episode 2 finished. Total reward: 14.0 (14 timesteps)\n",
      "Episode 3 finished. Total reward: 19.0 (19 timesteps)\n",
      "Episode 4 finished. Total reward: 19.0 (19 timesteps)\n",
      "Episode 5 finished. Total reward: 21.0 (21 timesteps)\n",
      "Episode 6 finished. Total reward: 19.0 (19 timesteps)\n",
      "Episode 7 finished. Total reward: 31.0 (31 timesteps)\n",
      "Episode 8 finished. Total reward: 12.0 (12 timesteps)\n",
      "Episode 9 finished. Total reward: 9.0 (9 timesteps)\n",
      "Episode 10 finished. Total reward: 30.0 (30 timesteps)\n",
      "Episode 11 finished. Total reward: 13.0 (13 timesteps)\n",
      "Episode 12 finished. Total reward: 16.0 (16 timesteps)\n",
      "Episode 13 finished. Total reward: 23.0 (23 timesteps)\n",
      "Episode 14 finished. Total reward: 10.0 (10 timesteps)\n",
      "Episode 15 finished. Total reward: 11.0 (11 timesteps)\n",
      "Episode 16 finished. Total reward: 18.0 (18 timesteps)\n",
      "Episode 17 finished. Total reward: 26.0 (26 timesteps)\n",
      "Episode 18 finished. Total reward: 14.0 (14 timesteps)\n",
      "Episode 19 finished. Total reward: 11.0 (11 timesteps)\n",
      "Episode 20 finished. Total reward: 23.0 (23 timesteps)\n",
      "Episode 21 finished. Total reward: 10.0 (10 timesteps)\n",
      "Episode 22 finished. Total reward: 19.0 (19 timesteps)\n",
      "Episode 23 finished. Total reward: 13.0 (13 timesteps)\n",
      "Episode 24 finished. Total reward: 21.0 (21 timesteps)\n",
      "Episode 25 finished. Total reward: 16.0 (16 timesteps)\n",
      "Episode 26 finished. Total reward: 37.0 (37 timesteps)\n",
      "Episode 27 finished. Total reward: 20.0 (20 timesteps)\n",
      "Episode 28 finished. Total reward: 32.0 (32 timesteps)\n",
      "Episode 29 finished. Total reward: 19.0 (19 timesteps)\n",
      "Episode 30 finished. Total reward: 15.0 (15 timesteps)\n",
      "Episode 31 finished. Total reward: 16.0 (16 timesteps)\n",
      "Episode 32 finished. Total reward: 18.0 (18 timesteps)\n",
      "Episode 33 finished. Total reward: 11.0 (11 timesteps)\n",
      "Episode 34 finished. Total reward: 11.0 (11 timesteps)\n",
      "Episode 35 finished. Total reward: 17.0 (17 timesteps)\n",
      "Episode 36 finished. Total reward: 32.0 (32 timesteps)\n",
      "Episode 37 finished. Total reward: 11.0 (11 timesteps)\n",
      "Episode 38 finished. Total reward: 27.0 (27 timesteps)\n",
      "Episode 39 finished. Total reward: 67.0 (67 timesteps)\n",
      "Episode 40 finished. Total reward: 10.0 (10 timesteps)\n",
      "Episode 41 finished. Total reward: 16.0 (16 timesteps)\n",
      "Episode 42 finished. Total reward: 19.0 (19 timesteps)\n",
      "Episode 43 finished. Total reward: 18.0 (18 timesteps)\n",
      "Episode 44 finished. Total reward: 21.0 (21 timesteps)\n",
      "Episode 45 finished. Total reward: 30.0 (30 timesteps)\n",
      "Episode 46 finished. Total reward: 22.0 (22 timesteps)\n",
      "Episode 47 finished. Total reward: 23.0 (23 timesteps)\n",
      "Episode 48 finished. Total reward: 13.0 (13 timesteps)\n",
      "Episode 49 finished. Total reward: 20.0 (20 timesteps)\n",
      "Episode 50 finished. Total reward: 54.0 (54 timesteps)\n",
      "Episode 51 finished. Total reward: 17.0 (17 timesteps)\n",
      "Episode 52 finished. Total reward: 18.0 (18 timesteps)\n",
      "Episode 53 finished. Total reward: 39.0 (39 timesteps)\n",
      "Episode 54 finished. Total reward: 25.0 (25 timesteps)\n",
      "Episode 55 finished. Total reward: 14.0 (14 timesteps)\n",
      "Episode 56 finished. Total reward: 14.0 (14 timesteps)\n",
      "Episode 57 finished. Total reward: 23.0 (23 timesteps)\n",
      "Episode 58 finished. Total reward: 14.0 (14 timesteps)\n",
      "Episode 59 finished. Total reward: 38.0 (38 timesteps)\n",
      "Episode 60 finished. Total reward: 25.0 (25 timesteps)\n",
      "Episode 61 finished. Total reward: 9.0 (9 timesteps)\n",
      "Episode 62 finished. Total reward: 16.0 (16 timesteps)\n",
      "Episode 63 finished. Total reward: 22.0 (22 timesteps)\n",
      "Episode 64 finished. Total reward: 20.0 (20 timesteps)\n",
      "Episode 65 finished. Total reward: 37.0 (37 timesteps)\n",
      "Episode 66 finished. Total reward: 23.0 (23 timesteps)\n",
      "Episode 67 finished. Total reward: 45.0 (45 timesteps)\n",
      "Episode 68 finished. Total reward: 21.0 (21 timesteps)\n",
      "Episode 69 finished. Total reward: 35.0 (35 timesteps)\n",
      "Episode 70 finished. Total reward: 18.0 (18 timesteps)\n",
      "Episode 71 finished. Total reward: 29.0 (29 timesteps)\n",
      "Episode 72 finished. Total reward: 21.0 (21 timesteps)\n",
      "Episode 73 finished. Total reward: 39.0 (39 timesteps)\n",
      "Episode 74 finished. Total reward: 50.0 (50 timesteps)\n",
      "Episode 75 finished. Total reward: 29.0 (29 timesteps)\n",
      "Episode 76 finished. Total reward: 17.0 (17 timesteps)\n",
      "Episode 77 finished. Total reward: 11.0 (11 timesteps)\n",
      "Episode 78 finished. Total reward: 19.0 (19 timesteps)\n",
      "Episode 79 finished. Total reward: 11.0 (11 timesteps)\n",
      "Episode 80 finished. Total reward: 12.0 (12 timesteps)\n",
      "Episode 81 finished. Total reward: 13.0 (13 timesteps)\n",
      "Episode 82 finished. Total reward: 18.0 (18 timesteps)\n",
      "Episode 83 finished. Total reward: 13.0 (13 timesteps)\n",
      "Episode 84 finished. Total reward: 11.0 (11 timesteps)\n",
      "Episode 85 finished. Total reward: 16.0 (16 timesteps)\n",
      "Episode 86 finished. Total reward: 17.0 (17 timesteps)\n",
      "Episode 87 finished. Total reward: 33.0 (33 timesteps)\n",
      "Episode 88 finished. Total reward: 21.0 (21 timesteps)\n",
      "Episode 89 finished. Total reward: 17.0 (17 timesteps)\n",
      "Episode 90 finished. Total reward: 20.0 (20 timesteps)\n",
      "Episode 91 finished. Total reward: 11.0 (11 timesteps)\n",
      "Episode 92 finished. Total reward: 17.0 (17 timesteps)\n",
      "Episode 93 finished. Total reward: 11.0 (11 timesteps)\n",
      "Episode 94 finished. Total reward: 21.0 (21 timesteps)\n",
      "Updating the policy...\n",
      "Updating finished!\n",
      "Episode 95 finished. Total reward: 12.0 (12 timesteps)\n",
      "Episode 96 finished. Total reward: 13.0 (13 timesteps)\n",
      "Episode 97 finished. Total reward: 19.0 (19 timesteps)\n",
      "Episode 98 finished. Total reward: 26.0 (26 timesteps)\n",
      "Episode 99 finished. Total reward: 15.0 (15 timesteps)\n",
      "Episode 100 finished. Total reward: 16.0 (16 timesteps)\n",
      "Episode 101 finished. Total reward: 16.0 (16 timesteps)\n",
      "Episode 102 finished. Total reward: 19.0 (19 timesteps)\n",
      "Episode 103 finished. Total reward: 26.0 (26 timesteps)\n",
      "Episode 104 finished. Total reward: 17.0 (17 timesteps)\n",
      "Episode 105 finished. Total reward: 24.0 (24 timesteps)\n",
      "Episode 106 finished. Total reward: 15.0 (15 timesteps)\n",
      "Episode 107 finished. Total reward: 34.0 (34 timesteps)\n",
      "Episode 108 finished. Total reward: 57.0 (57 timesteps)\n",
      "Episode 109 finished. Total reward: 31.0 (31 timesteps)\n",
      "Episode 110 finished. Total reward: 23.0 (23 timesteps)\n",
      "Episode 111 finished. Total reward: 11.0 (11 timesteps)\n",
      "Episode 112 finished. Total reward: 37.0 (37 timesteps)\n",
      "Episode 113 finished. Total reward: 18.0 (18 timesteps)\n",
      "Episode 114 finished. Total reward: 31.0 (31 timesteps)\n",
      "Episode 115 finished. Total reward: 22.0 (22 timesteps)\n",
      "Episode 116 finished. Total reward: 14.0 (14 timesteps)\n",
      "Episode 117 finished. Total reward: 24.0 (24 timesteps)\n",
      "Episode 118 finished. Total reward: 13.0 (13 timesteps)\n",
      "Episode 119 finished. Total reward: 26.0 (26 timesteps)\n",
      "Episode 120 finished. Total reward: 15.0 (15 timesteps)\n",
      "Episode 121 finished. Total reward: 74.0 (74 timesteps)\n",
      "Episode 122 finished. Total reward: 27.0 (27 timesteps)\n",
      "Episode 123 finished. Total reward: 25.0 (25 timesteps)\n",
      "Episode 124 finished. Total reward: 43.0 (43 timesteps)\n",
      "Episode 125 finished. Total reward: 29.0 (29 timesteps)\n",
      "Episode 126 finished. Total reward: 15.0 (15 timesteps)\n",
      "Episode 127 finished. Total reward: 11.0 (11 timesteps)\n",
      "Episode 128 finished. Total reward: 20.0 (20 timesteps)\n",
      "Episode 129 finished. Total reward: 14.0 (14 timesteps)\n",
      "Episode 130 finished. Total reward: 19.0 (19 timesteps)\n",
      "Episode 131 finished. Total reward: 16.0 (16 timesteps)\n",
      "Episode 132 finished. Total reward: 32.0 (32 timesteps)\n",
      "Episode 133 finished. Total reward: 15.0 (15 timesteps)\n",
      "Episode 134 finished. Total reward: 22.0 (22 timesteps)\n",
      "Episode 135 finished. Total reward: 26.0 (26 timesteps)\n",
      "Episode 136 finished. Total reward: 15.0 (15 timesteps)\n",
      "Episode 137 finished. Total reward: 28.0 (28 timesteps)\n",
      "Episode 138 finished. Total reward: 16.0 (16 timesteps)\n",
      "Episode 139 finished. Total reward: 25.0 (25 timesteps)\n",
      "Episode 140 finished. Total reward: 13.0 (13 timesteps)\n",
      "Episode 141 finished. Total reward: 16.0 (16 timesteps)\n",
      "Episode 142 finished. Total reward: 32.0 (32 timesteps)\n",
      "Episode 143 finished. Total reward: 33.0 (33 timesteps)\n",
      "Episode 144 finished. Total reward: 68.0 (68 timesteps)\n",
      "Episode 145 finished. Total reward: 41.0 (41 timesteps)\n",
      "Episode 146 finished. Total reward: 10.0 (10 timesteps)\n",
      "Episode 147 finished. Total reward: 67.0 (67 timesteps)\n",
      "Episode 148 finished. Total reward: 19.0 (19 timesteps)\n",
      "Episode 149 finished. Total reward: 28.0 (28 timesteps)\n",
      "Episode 150 finished. Total reward: 66.0 (66 timesteps)\n",
      "Episode 151 finished. Total reward: 52.0 (52 timesteps)\n",
      "Episode 152 finished. Total reward: 31.0 (31 timesteps)\n",
      "Episode 153 finished. Total reward: 23.0 (23 timesteps)\n",
      "Episode 154 finished. Total reward: 25.0 (25 timesteps)\n",
      "Episode 155 finished. Total reward: 65.0 (65 timesteps)\n",
      "Episode 156 finished. Total reward: 31.0 (31 timesteps)\n",
      "Episode 157 finished. Total reward: 39.0 (39 timesteps)\n",
      "Episode 158 finished. Total reward: 16.0 (16 timesteps)\n",
      "Episode 159 finished. Total reward: 40.0 (40 timesteps)\n",
      "Episode 160 finished. Total reward: 16.0 (16 timesteps)\n",
      "Episode 161 finished. Total reward: 28.0 (28 timesteps)\n",
      "Episode 162 finished. Total reward: 42.0 (42 timesteps)\n",
      "Episode 163 finished. Total reward: 27.0 (27 timesteps)\n",
      "Episode 164 finished. Total reward: 37.0 (37 timesteps)\n",
      "Episode 165 finished. Total reward: 45.0 (45 timesteps)\n",
      "Episode 166 finished. Total reward: 18.0 (18 timesteps)\n",
      "Episode 167 finished. Total reward: 22.0 (22 timesteps)\n",
      "Updating the policy...\n",
      "Updating finished!\n",
      "Episode 168 finished. Total reward: 46.0 (46 timesteps)\n",
      "Episode 169 finished. Total reward: 72.0 (72 timesteps)\n",
      "Episode 170 finished. Total reward: 56.0 (56 timesteps)\n",
      "Episode 171 finished. Total reward: 32.0 (32 timesteps)\n",
      "Episode 172 finished. Total reward: 55.0 (55 timesteps)\n",
      "Episode 173 finished. Total reward: 35.0 (35 timesteps)\n",
      "Episode 174 finished. Total reward: 13.0 (13 timesteps)\n",
      "Episode 175 finished. Total reward: 63.0 (63 timesteps)\n",
      "Episode 176 finished. Total reward: 36.0 (36 timesteps)\n",
      "Episode 177 finished. Total reward: 28.0 (28 timesteps)\n",
      "Episode 178 finished. Total reward: 16.0 (16 timesteps)\n",
      "Episode 179 finished. Total reward: 11.0 (11 timesteps)\n",
      "Episode 180 finished. Total reward: 46.0 (46 timesteps)\n",
      "Episode 181 finished. Total reward: 46.0 (46 timesteps)\n",
      "Episode 182 finished. Total reward: 34.0 (34 timesteps)\n",
      "Episode 183 finished. Total reward: 18.0 (18 timesteps)\n",
      "Episode 184 finished. Total reward: 52.0 (52 timesteps)\n",
      "Episode 185 finished. Total reward: 24.0 (24 timesteps)\n",
      "Episode 186 finished. Total reward: 19.0 (19 timesteps)\n",
      "Episode 187 finished. Total reward: 34.0 (34 timesteps)\n",
      "Episode 188 finished. Total reward: 41.0 (41 timesteps)\n",
      "Episode 189 finished. Total reward: 100.0 (100 timesteps)\n",
      "Episode 190 finished. Total reward: 44.0 (44 timesteps)\n",
      "Episode 191 finished. Total reward: 15.0 (15 timesteps)\n",
      "Episode 192 finished. Total reward: 39.0 (39 timesteps)\n",
      "Episode 193 finished. Total reward: 22.0 (22 timesteps)\n",
      "Episode 194 finished. Total reward: 68.0 (68 timesteps)\n",
      "Episode 195 finished. Total reward: 67.0 (67 timesteps)\n",
      "Episode 196 finished. Total reward: 22.0 (22 timesteps)\n",
      "Episode 197 finished. Total reward: 33.0 (33 timesteps)\n",
      "Episode 198 finished. Total reward: 40.0 (40 timesteps)\n",
      "Episode 199 finished. Total reward: 33.0 (33 timesteps)\n",
      "Episode 200 finished. Total reward: 10.0 (10 timesteps)\n",
      "Episode 201 finished. Total reward: 24.0 (24 timesteps)\n",
      "Episode 202 finished. Total reward: 40.0 (40 timesteps)\n",
      "Episode 203 finished. Total reward: 77.0 (77 timesteps)\n",
      "Episode 204 finished. Total reward: 100.0 (100 timesteps)\n",
      "Episode 205 finished. Total reward: 66.0 (66 timesteps)\n",
      "Episode 206 finished. Total reward: 69.0 (69 timesteps)\n",
      "Episode 207 finished. Total reward: 20.0 (20 timesteps)\n",
      "Episode 208 finished. Total reward: 48.0 (48 timesteps)\n",
      "Episode 209 finished. Total reward: 52.0 (52 timesteps)\n",
      "Episode 210 finished. Total reward: 12.0 (12 timesteps)\n",
      "Episode 211 finished. Total reward: 60.0 (60 timesteps)\n",
      "Episode 212 finished. Total reward: 51.0 (51 timesteps)\n",
      "Episode 213 finished. Total reward: 20.0 (20 timesteps)\n",
      "Episode 214 finished. Total reward: 18.0 (18 timesteps)\n",
      "Episode 215 finished. Total reward: 30.0 (30 timesteps)\n",
      "Episode 216 finished. Total reward: 33.0 (33 timesteps)\n",
      "Updating the policy...\n",
      "Updating finished!\n",
      "Episode 217 finished. Total reward: 66.0 (66 timesteps)\n",
      "Episode 218 finished. Total reward: 49.0 (49 timesteps)\n",
      "Episode 219 finished. Total reward: 38.0 (38 timesteps)\n",
      "Episode 220 finished. Total reward: 83.0 (83 timesteps)\n",
      "Episode 221 finished. Total reward: 88.0 (88 timesteps)\n",
      "Episode 222 finished. Total reward: 23.0 (23 timesteps)\n",
      "Episode 223 finished. Total reward: 33.0 (33 timesteps)\n",
      "Episode 224 finished. Total reward: 49.0 (49 timesteps)\n",
      "Episode 225 finished. Total reward: 50.0 (50 timesteps)\n",
      "Episode 226 finished. Total reward: 48.0 (48 timesteps)\n",
      "Episode 227 finished. Total reward: 100.0 (100 timesteps)\n",
      "Episode 228 finished. Total reward: 31.0 (31 timesteps)\n",
      "Episode 229 finished. Total reward: 67.0 (67 timesteps)\n",
      "Episode 230 finished. Total reward: 100.0 (100 timesteps)\n",
      "Episode 231 finished. Total reward: 72.0 (72 timesteps)\n",
      "Episode 232 finished. Total reward: 74.0 (74 timesteps)\n",
      "Episode 233 finished. Total reward: 26.0 (26 timesteps)\n",
      "Episode 234 finished. Total reward: 28.0 (28 timesteps)\n",
      "Episode 235 finished. Total reward: 31.0 (31 timesteps)\n",
      "Episode 236 finished. Total reward: 100.0 (100 timesteps)\n",
      "Episode 237 finished. Total reward: 88.0 (88 timesteps)\n",
      "Episode 238 finished. Total reward: 90.0 (90 timesteps)\n",
      "Episode 239 finished. Total reward: 76.0 (76 timesteps)\n",
      "Episode 240 finished. Total reward: 100.0 (100 timesteps)\n",
      "Episode 241 finished. Total reward: 44.0 (44 timesteps)\n",
      "Episode 242 finished. Total reward: 17.0 (17 timesteps)\n",
      "Episode 243 finished. Total reward: 77.0 (77 timesteps)\n",
      "Episode 244 finished. Total reward: 39.0 (39 timesteps)\n",
      "Episode 245 finished. Total reward: 54.0 (54 timesteps)\n",
      "Episode 246 finished. Total reward: 25.0 (25 timesteps)\n",
      "Episode 247 finished. Total reward: 20.0 (20 timesteps)\n",
      "Episode 248 finished. Total reward: 19.0 (19 timesteps)\n",
      "Episode 249 finished. Total reward: 96.0 (96 timesteps)\n",
      "Episode 250 finished. Total reward: 100.0 (100 timesteps)\n",
      "Updating the policy...\n",
      "Updating finished!\n",
      "Episode 251 finished. Total reward: 93.0 (93 timesteps)\n",
      "Episode 252 finished. Total reward: 100.0 (100 timesteps)\n",
      "Episode 253 finished. Total reward: 100.0 (100 timesteps)\n",
      "Episode 254 finished. Total reward: 54.0 (54 timesteps)\n",
      "Episode 255 finished. Total reward: 100.0 (100 timesteps)\n",
      "Episode 256 finished. Total reward: 100.0 (100 timesteps)\n",
      "Episode 257 finished. Total reward: 73.0 (73 timesteps)\n",
      "Episode 258 finished. Total reward: 100.0 (100 timesteps)\n",
      "Episode 259 finished. Total reward: 86.0 (86 timesteps)\n",
      "Episode 260 finished. Total reward: 28.0 (28 timesteps)\n",
      "Episode 261 finished. Total reward: 100.0 (100 timesteps)\n",
      "Episode 262 finished. Total reward: 100.0 (100 timesteps)\n",
      "Episode 263 finished. Total reward: 99.0 (99 timesteps)\n",
      "Episode 264 finished. Total reward: 100.0 (100 timesteps)\n",
      "Episode 265 finished. Total reward: 76.0 (76 timesteps)\n",
      "Episode 266 finished. Total reward: 62.0 (62 timesteps)\n",
      "Episode 267 finished. Total reward: 100.0 (100 timesteps)\n",
      "Episode 268 finished. Total reward: 76.0 (76 timesteps)\n",
      "Episode 269 finished. Total reward: 100.0 (100 timesteps)\n",
      "Episode 270 finished. Total reward: 53.0 (53 timesteps)\n",
      "Episode 271 finished. Total reward: 100.0 (100 timesteps)\n",
      "Episode 272 finished. Total reward: 30.0 (30 timesteps)\n",
      "Episode 273 finished. Total reward: 64.0 (64 timesteps)\n",
      "Episode 274 finished. Total reward: 100.0 (100 timesteps)\n",
      "Episode 275 finished. Total reward: 27.0 (27 timesteps)\n",
      "Updating the policy...\n",
      "Updating finished!\n",
      "Episode 276 finished. Total reward: 100.0 (100 timesteps)\n",
      "Episode 277 finished. Total reward: 100.0 (100 timesteps)\n",
      "Episode 278 finished. Total reward: 100.0 (100 timesteps)\n",
      "Episode 279 finished. Total reward: 90.0 (90 timesteps)\n",
      "Episode 280 finished. Total reward: 100.0 (100 timesteps)\n",
      "Episode 281 finished. Total reward: 95.0 (95 timesteps)\n",
      "Episode 282 finished. Total reward: 100.0 (100 timesteps)\n",
      "Episode 283 finished. Total reward: 100.0 (100 timesteps)\n",
      "Episode 284 finished. Total reward: 100.0 (100 timesteps)\n",
      "Episode 285 finished. Total reward: 100.0 (100 timesteps)\n",
      "Episode 286 finished. Total reward: 100.0 (100 timesteps)\n",
      "Episode 287 finished. Total reward: 43.0 (43 timesteps)\n",
      "Episode 288 finished. Total reward: 100.0 (100 timesteps)\n",
      "Episode 289 finished. Total reward: 100.0 (100 timesteps)\n",
      "Episode 290 finished. Total reward: 100.0 (100 timesteps)\n",
      "Episode 291 finished. Total reward: 100.0 (100 timesteps)\n",
      "Episode 292 finished. Total reward: 84.0 (84 timesteps)\n",
      "Episode 293 finished. Total reward: 100.0 (100 timesteps)\n",
      "Episode 294 finished. Total reward: 100.0 (100 timesteps)\n",
      "Episode 295 finished. Total reward: 79.0 (79 timesteps)\n",
      "Episode 296 finished. Total reward: 100.0 (100 timesteps)\n",
      "Updating the policy...\n",
      "Updating finished!\n",
      "Episode 297 finished. Total reward: 100.0 (100 timesteps)\n",
      "Episode 298 finished. Total reward: 100.0 (100 timesteps)\n",
      "Episode 299 finished. Total reward: 100.0 (100 timesteps)\n",
      "Episode 300 finished. Total reward: 100.0 (100 timesteps)\n",
      "Episode 301 finished. Total reward: 100.0 (100 timesteps)\n",
      "Episode 302 finished. Total reward: 96.0 (96 timesteps)\n",
      "Episode 303 finished. Total reward: 100.0 (100 timesteps)\n",
      "Episode 304 finished. Total reward: 100.0 (100 timesteps)\n",
      "Episode 305 finished. Total reward: 100.0 (100 timesteps)\n",
      "Episode 306 finished. Total reward: 93.0 (93 timesteps)\n",
      "Episode 307 finished. Total reward: 100.0 (100 timesteps)\n",
      "Episode 308 finished. Total reward: 100.0 (100 timesteps)\n",
      "Episode 309 finished. Total reward: 100.0 (100 timesteps)\n",
      "Episode 310 finished. Total reward: 100.0 (100 timesteps)\n",
      "Episode 311 finished. Total reward: 100.0 (100 timesteps)\n",
      "Episode 312 finished. Total reward: 100.0 (100 timesteps)\n",
      "Episode 313 finished. Total reward: 100.0 (100 timesteps)\n",
      "Episode 314 finished. Total reward: 100.0 (100 timesteps)\n",
      "Episode 315 finished. Total reward: 100.0 (100 timesteps)\n",
      "Episode 316 finished. Total reward: 100.0 (100 timesteps)\n",
      "Updating the policy...\n",
      "Updating finished!\n",
      "Episode 317 finished. Total reward: 100.0 (100 timesteps)\n",
      "Episode 318 finished. Total reward: 100.0 (100 timesteps)\n",
      "Episode 319 finished. Total reward: 100.0 (100 timesteps)\n",
      "Episode 320 finished. Total reward: 100.0 (100 timesteps)\n",
      "Episode 321 finished. Total reward: 100.0 (100 timesteps)\n",
      "Episode 322 finished. Total reward: 100.0 (100 timesteps)\n",
      "Episode 323 finished. Total reward: 81.0 (81 timesteps)\n",
      "Episode 324 finished. Total reward: 100.0 (100 timesteps)\n",
      "Episode 325 finished. Total reward: 100.0 (100 timesteps)\n",
      "Episode 326 finished. Total reward: 100.0 (100 timesteps)\n",
      "Episode 327 finished. Total reward: 100.0 (100 timesteps)\n",
      "Episode 328 finished. Total reward: 100.0 (100 timesteps)\n",
      "Episode 329 finished. Total reward: 100.0 (100 timesteps)\n",
      "Episode 330 finished. Total reward: 100.0 (100 timesteps)\n",
      "Episode 331 finished. Total reward: 77.0 (77 timesteps)\n",
      "Episode 332 finished. Total reward: 100.0 (100 timesteps)\n",
      "Episode 333 finished. Total reward: 36.0 (36 timesteps)\n",
      "Episode 334 finished. Total reward: 100.0 (100 timesteps)\n",
      "Episode 335 finished. Total reward: 100.0 (100 timesteps)\n",
      "Episode 336 finished. Total reward: 100.0 (100 timesteps)\n",
      "Episode 337 finished. Total reward: 100.0 (100 timesteps)\n",
      "Updating the policy...\n",
      "Updating finished!\n",
      "Episode 338 finished. Total reward: 100.0 (100 timesteps)\n",
      "Episode 339 finished. Total reward: 100.0 (100 timesteps)\n",
      "Episode 340 finished. Total reward: 100.0 (100 timesteps)\n",
      "Episode 341 finished. Total reward: 100.0 (100 timesteps)\n",
      "Episode 342 finished. Total reward: 100.0 (100 timesteps)\n",
      "Episode 343 finished. Total reward: 100.0 (100 timesteps)\n",
      "Episode 344 finished. Total reward: 100.0 (100 timesteps)\n",
      "Episode 345 finished. Total reward: 100.0 (100 timesteps)\n",
      "Episode 346 finished. Total reward: 100.0 (100 timesteps)\n",
      "Episode 347 finished. Total reward: 100.0 (100 timesteps)\n",
      "Episode 348 finished. Total reward: 100.0 (100 timesteps)\n",
      "Episode 349 finished. Total reward: 100.0 (100 timesteps)\n",
      "Episode 350 finished. Total reward: 100.0 (100 timesteps)\n",
      "Episode 351 finished. Total reward: 49.0 (49 timesteps)\n",
      "Episode 352 finished. Total reward: 74.0 (74 timesteps)\n",
      "Episode 353 finished. Total reward: 100.0 (100 timesteps)\n",
      "Episode 354 finished. Total reward: 100.0 (100 timesteps)\n",
      "Episode 355 finished. Total reward: 90.0 (90 timesteps)\n",
      "Episode 356 finished. Total reward: 100.0 (100 timesteps)\n",
      "Episode 357 finished. Total reward: 100.0 (100 timesteps)\n",
      "Episode 358 finished. Total reward: 100.0 (100 timesteps)\n",
      "Updating the policy...\n",
      "Updating finished!\n",
      "Episode 359 finished. Total reward: 100.0 (100 timesteps)\n",
      "Episode 360 finished. Total reward: 100.0 (100 timesteps)\n",
      "Episode 361 finished. Total reward: 100.0 (100 timesteps)\n",
      "Episode 362 finished. Total reward: 100.0 (100 timesteps)\n",
      "Episode 363 finished. Total reward: 100.0 (100 timesteps)\n",
      "Episode 364 finished. Total reward: 100.0 (100 timesteps)\n",
      "Episode 365 finished. Total reward: 100.0 (100 timesteps)\n",
      "Episode 366 finished. Total reward: 100.0 (100 timesteps)\n",
      "Episode 367 finished. Total reward: 100.0 (100 timesteps)\n",
      "Episode 368 finished. Total reward: 100.0 (100 timesteps)\n",
      "Episode 369 finished. Total reward: 100.0 (100 timesteps)\n",
      "Episode 370 finished. Total reward: 100.0 (100 timesteps)\n",
      "Episode 371 finished. Total reward: 100.0 (100 timesteps)\n",
      "Episode 372 finished. Total reward: 100.0 (100 timesteps)\n",
      "Episode 373 finished. Total reward: 100.0 (100 timesteps)\n",
      "Episode 374 finished. Total reward: 100.0 (100 timesteps)\n",
      "Episode 375 finished. Total reward: 100.0 (100 timesteps)\n",
      "Episode 376 finished. Total reward: 100.0 (100 timesteps)\n",
      "Episode 377 finished. Total reward: 100.0 (100 timesteps)\n",
      "Episode 378 finished. Total reward: 100.0 (100 timesteps)\n",
      "Updating the policy...\n",
      "Updating finished!\n",
      "Episode 379 finished. Total reward: 100.0 (100 timesteps)\n",
      "Episode 380 finished. Total reward: 100.0 (100 timesteps)\n",
      "Episode 381 finished. Total reward: 100.0 (100 timesteps)\n",
      "Episode 382 finished. Total reward: 100.0 (100 timesteps)\n",
      "Episode 383 finished. Total reward: 100.0 (100 timesteps)\n",
      "Episode 384 finished. Total reward: 100.0 (100 timesteps)\n",
      "Episode 385 finished. Total reward: 100.0 (100 timesteps)\n",
      "Episode 386 finished. Total reward: 100.0 (100 timesteps)\n",
      "Episode 387 finished. Total reward: 100.0 (100 timesteps)\n",
      "Episode 388 finished. Total reward: 100.0 (100 timesteps)\n",
      "Episode 389 finished. Total reward: 100.0 (100 timesteps)\n",
      "Episode 390 finished. Total reward: 100.0 (100 timesteps)\n",
      "Episode 391 finished. Total reward: 100.0 (100 timesteps)\n",
      "Episode 392 finished. Total reward: 100.0 (100 timesteps)\n",
      "Episode 393 finished. Total reward: 100.0 (100 timesteps)\n",
      "Episode 394 finished. Total reward: 100.0 (100 timesteps)\n",
      "Episode 395 finished. Total reward: 100.0 (100 timesteps)\n",
      "Episode 396 finished. Total reward: 40.0 (40 timesteps)\n",
      "Episode 397 finished. Total reward: 100.0 (100 timesteps)\n",
      "Episode 398 finished. Total reward: 100.0 (100 timesteps)\n",
      "Updating the policy...\n",
      "Updating finished!\n",
      "Episode 399 finished. Total reward: 100.0 (100 timesteps)\n",
      "Episode 400 finished. Total reward: 48.0 (48 timesteps)\n",
      "Episode 401 finished. Total reward: 100.0 (100 timesteps)\n",
      "Episode 402 finished. Total reward: 100.0 (100 timesteps)\n",
      "Episode 403 finished. Total reward: 100.0 (100 timesteps)\n",
      "Episode 404 finished. Total reward: 100.0 (100 timesteps)\n",
      "Episode 405 finished. Total reward: 100.0 (100 timesteps)\n",
      "Episode 406 finished. Total reward: 100.0 (100 timesteps)\n",
      "Episode 407 finished. Total reward: 100.0 (100 timesteps)\n",
      "Episode 408 finished. Total reward: 100.0 (100 timesteps)\n",
      "Episode 409 finished. Total reward: 100.0 (100 timesteps)\n",
      "Episode 410 finished. Total reward: 100.0 (100 timesteps)\n",
      "Episode 411 finished. Total reward: 100.0 (100 timesteps)\n",
      "Episode 412 finished. Total reward: 100.0 (100 timesteps)\n",
      "Episode 413 finished. Total reward: 100.0 (100 timesteps)\n",
      "Episode 414 finished. Total reward: 100.0 (100 timesteps)\n",
      "Episode 415 finished. Total reward: 100.0 (100 timesteps)\n",
      "Episode 416 finished. Total reward: 100.0 (100 timesteps)\n",
      "Episode 417 finished. Total reward: 100.0 (100 timesteps)\n",
      "Episode 418 finished. Total reward: 100.0 (100 timesteps)\n",
      "Episode 419 finished. Total reward: 100.0 (100 timesteps)\n",
      "Updating the policy...\n",
      "Updating finished!\n",
      "Episode 420 finished. Total reward: 100.0 (100 timesteps)\n",
      "Episode 421 finished. Total reward: 100.0 (100 timesteps)\n",
      "Episode 422 finished. Total reward: 100.0 (100 timesteps)\n",
      "Episode 423 finished. Total reward: 100.0 (100 timesteps)\n",
      "Episode 424 finished. Total reward: 100.0 (100 timesteps)\n",
      "Episode 425 finished. Total reward: 100.0 (100 timesteps)\n",
      "Episode 426 finished. Total reward: 100.0 (100 timesteps)\n",
      "Episode 427 finished. Total reward: 100.0 (100 timesteps)\n",
      "Episode 428 finished. Total reward: 100.0 (100 timesteps)\n",
      "Episode 429 finished. Total reward: 100.0 (100 timesteps)\n",
      "Episode 430 finished. Total reward: 63.0 (63 timesteps)\n",
      "Episode 431 finished. Total reward: 100.0 (100 timesteps)\n",
      "Episode 432 finished. Total reward: 100.0 (100 timesteps)\n",
      "Episode 433 finished. Total reward: 100.0 (100 timesteps)\n",
      "Episode 434 finished. Total reward: 100.0 (100 timesteps)\n",
      "Episode 435 finished. Total reward: 100.0 (100 timesteps)\n",
      "Episode 436 finished. Total reward: 100.0 (100 timesteps)\n",
      "Episode 437 finished. Total reward: 100.0 (100 timesteps)\n",
      "Episode 438 finished. Total reward: 100.0 (100 timesteps)\n",
      "Episode 439 finished. Total reward: 100.0 (100 timesteps)\n",
      "Updating the policy...\n",
      "Updating finished!\n",
      "Episode 440 finished. Total reward: 100.0 (100 timesteps)\n",
      "Episode 441 finished. Total reward: 58.0 (58 timesteps)\n",
      "Episode 442 finished. Total reward: 100.0 (100 timesteps)\n",
      "Episode 443 finished. Total reward: 100.0 (100 timesteps)\n",
      "Episode 444 finished. Total reward: 100.0 (100 timesteps)\n",
      "Episode 445 finished. Total reward: 100.0 (100 timesteps)\n",
      "Episode 446 finished. Total reward: 100.0 (100 timesteps)\n",
      "Episode 447 finished. Total reward: 99.0 (99 timesteps)\n",
      "Episode 448 finished. Total reward: 79.0 (79 timesteps)\n",
      "Episode 449 finished. Total reward: 100.0 (100 timesteps)\n",
      "Episode 450 finished. Total reward: 100.0 (100 timesteps)\n",
      "Episode 451 finished. Total reward: 100.0 (100 timesteps)\n",
      "Episode 452 finished. Total reward: 80.0 (80 timesteps)\n",
      "Episode 453 finished. Total reward: 100.0 (100 timesteps)\n",
      "Episode 454 finished. Total reward: 100.0 (100 timesteps)\n",
      "Episode 455 finished. Total reward: 93.0 (93 timesteps)\n",
      "Episode 456 finished. Total reward: 100.0 (100 timesteps)\n",
      "Episode 457 finished. Total reward: 94.0 (94 timesteps)\n",
      "Episode 458 finished. Total reward: 100.0 (100 timesteps)\n",
      "Episode 459 finished. Total reward: 100.0 (100 timesteps)\n",
      "Episode 460 finished. Total reward: 100.0 (100 timesteps)\n",
      "Episode 461 finished. Total reward: 65.0 (65 timesteps)\n",
      "Updating the policy...\n",
      "Updating finished!\n",
      "Episode 462 finished. Total reward: 100.0 (100 timesteps)\n",
      "Episode 463 finished. Total reward: 100.0 (100 timesteps)\n",
      "Episode 464 finished. Total reward: 100.0 (100 timesteps)\n",
      "Episode 465 finished. Total reward: 100.0 (100 timesteps)\n",
      "Episode 466 finished. Total reward: 100.0 (100 timesteps)\n",
      "Episode 467 finished. Total reward: 100.0 (100 timesteps)\n",
      "Episode 468 finished. Total reward: 100.0 (100 timesteps)\n",
      "Episode 469 finished. Total reward: 100.0 (100 timesteps)\n",
      "Episode 470 finished. Total reward: 100.0 (100 timesteps)\n",
      "Episode 471 finished. Total reward: 100.0 (100 timesteps)\n",
      "Episode 472 finished. Total reward: 100.0 (100 timesteps)\n",
      "Episode 473 finished. Total reward: 86.0 (86 timesteps)\n",
      "Episode 474 finished. Total reward: 100.0 (100 timesteps)\n",
      "Episode 475 finished. Total reward: 100.0 (100 timesteps)\n",
      "Episode 476 finished. Total reward: 100.0 (100 timesteps)\n",
      "Episode 477 finished. Total reward: 100.0 (100 timesteps)\n",
      "Episode 478 finished. Total reward: 79.0 (79 timesteps)\n",
      "Episode 479 finished. Total reward: 100.0 (100 timesteps)\n",
      "Episode 480 finished. Total reward: 100.0 (100 timesteps)\n",
      "Episode 481 finished. Total reward: 100.0 (100 timesteps)\n",
      "Updating the policy...\n",
      "Updating finished!\n",
      "Episode 482 finished. Total reward: 100.0 (100 timesteps)\n",
      "Episode 483 finished. Total reward: 100.0 (100 timesteps)\n",
      "Episode 484 finished. Total reward: 100.0 (100 timesteps)\n",
      "Episode 485 finished. Total reward: 100.0 (100 timesteps)\n",
      "Episode 486 finished. Total reward: 100.0 (100 timesteps)\n",
      "Episode 487 finished. Total reward: 100.0 (100 timesteps)\n",
      "Episode 488 finished. Total reward: 100.0 (100 timesteps)\n",
      "Episode 489 finished. Total reward: 100.0 (100 timesteps)\n",
      "Episode 490 finished. Total reward: 100.0 (100 timesteps)\n",
      "Episode 491 finished. Total reward: 100.0 (100 timesteps)\n",
      "Episode 492 finished. Total reward: 100.0 (100 timesteps)\n",
      "Episode 493 finished. Total reward: 100.0 (100 timesteps)\n",
      "Episode 494 finished. Total reward: 100.0 (100 timesteps)\n",
      "Episode 495 finished. Total reward: 100.0 (100 timesteps)\n",
      "Episode 496 finished. Total reward: 100.0 (100 timesteps)\n",
      "Episode 497 finished. Total reward: 100.0 (100 timesteps)\n",
      "Episode 498 finished. Total reward: 100.0 (100 timesteps)\n",
      "Episode 499 finished. Total reward: 100.0 (100 timesteps)\n",
      "Episode 500 finished. Total reward: 100.0 (100 timesteps)\n",
      "Model saved to /notebooks/rl2023/ex1/results/model/CartPole-v1_params.pt\n",
      "------Training finished.------\n",
      "Numpy/Torch/Random Seed:  421\n",
      "Loading model from /notebooks/rl2023/ex1/results/model/CartPole-v1_params.pt ...\n",
      "Testing...\n",
      "Test ep reward: 130.0 seed: 344\n",
      "Test ep reward: 168.0 seed: 566\n",
      "Test ep reward: 136.0 seed: 493\n",
      "Test ep reward: 197.0 seed: 20\n",
      "Test ep reward: 138.0 seed: 978\n",
      "Test ep reward: 173.0 seed: 592\n",
      "Test ep reward: 138.0 seed: 799\n",
      "Test ep reward: 139.0 seed: 821\n",
      "Test ep reward: 173.0 seed: 935\n",
      "Test ep reward: 154.0 seed: 466\n",
      "Average test reward: 154.6 episode length: 154.6\n",
      "Numpy/Torch/Random Seed:  94\n"
     ]
    },
    {
     "data": {
      "text/html": [
       "Changes to your `wandb` environment variables will be ignored because your `wandb` session has already started. For more information on how to modify your settings with `wandb.init()` arguments, please refer to <a href='https://wandb.me/wandb-init' target=\"_blank\">the W&B docs</a>."
      ],
      "text/plain": [
       "<IPython.core.display.HTML object>"
      ]
     },
     "metadata": {},
     "output_type": "display_data"
    },
    {
     "data": {
      "text/html": [
       "Finishing last run (ID:ma6439by) before initializing another..."
      ],
      "text/plain": [
       "<IPython.core.display.HTML object>"
      ]
     },
     "metadata": {},
     "output_type": "display_data"
    },
    {
     "data": {
      "text/html": [
       "Waiting for W&B process to finish... <strong style=\"color:green\">(success).</strong>"
      ],
      "text/plain": [
       "<IPython.core.display.HTML object>"
      ]
     },
     "metadata": {},
     "output_type": "display_data"
    },
    {
     "data": {
      "application/vnd.jupyter.widget-view+json": {
       "model_id": "f0ec7daa54b7439fa2d4bbb5fa19bbd8",
       "version_major": 2,
       "version_minor": 0
      },
      "text/plain": [
       "VBox(children=(Label(value='0.002 MB of 0.037 MB uploaded (0.000 MB deduped)\\r'), FloatProgress(value=0.063605…"
      ]
     },
     "metadata": {},
     "output_type": "display_data"
    },
    {
     "data": {
      "text/html": [
       "<style>\n",
       "    table.wandb td:nth-child(1) { padding: 0 10px; text-align: left ; width: auto;} td:nth-child(2) {text-align: left ; width: 100%}\n",
       "    .wandb-row { display: flex; flex-direction: row; flex-wrap: wrap; justify-content: flex-start; width: 100% }\n",
       "    .wandb-col { display: flex; flex-direction: column; flex-basis: 100%; flex: 1; padding: 10px; }\n",
       "    </style>\n",
       "<div class=\"wandb-row\"><div class=\"wandb-col\"><h3>Run history:</h3><br/><table class=\"wandb\"><tr><td>ep_reward</td><td>▂▁▂▅▁▂▁▁▂▂▁▂▅▂▁▁▆▃▆▆██▇▆██▆█████████████</td></tr><tr><td>episodes</td><td>▁▁▁▂▂▂▂▂▂▃▃▃▃▃▄▄▄▄▄▄▅▅▅▅▅▅▆▆▆▆▆▇▇▇▇▇▇███</td></tr><tr><td>num_updates</td><td>▁▁▁▁▁▁▁▁▁▁▁▁▁▁▁▁▁▁▁▁▁▁▁▁▁▁▁▁█▁▁▁▁▁▁▁▁▁▁▁</td></tr><tr><td>timesteps</td><td>▂▁▂▅▁▂▁▁▂▂▁▂▅▂▁▁▆▃▆▆██▇▆██▆█████████████</td></tr></table><br/></div><div class=\"wandb-col\"><h3>Run summary:</h3><br/><table class=\"wandb\"><tr><td>ep_reward</td><td>100.0</td></tr><tr><td>episodes</td><td>500</td></tr><tr><td>num_updates</td><td>0</td></tr><tr><td>timesteps</td><td>100</td></tr></table><br/></div></div>"
      ],
      "text/plain": [
       "<IPython.core.display.HTML object>"
      ]
     },
     "metadata": {},
     "output_type": "display_data"
    },
    {
     "data": {
      "text/html": [
       " View run <strong style=\"color:#cdcd00\">ex1-CartPole-v1-36-1694670685</strong> at: <a href='https://wandb.ai/r-l/rl_aalto/runs/ma6439by' target=\"_blank\">https://wandb.ai/r-l/rl_aalto/runs/ma6439by</a><br/>Synced 6 W&B file(s), 0 media file(s), 0 artifact file(s) and 0 other file(s)"
      ],
      "text/plain": [
       "<IPython.core.display.HTML object>"
      ]
     },
     "metadata": {},
     "output_type": "display_data"
    },
    {
     "data": {
      "text/html": [
       "Find logs at: <code>./wandb/run-20230914_085125-ma6439by/logs</code>"
      ],
      "text/plain": [
       "<IPython.core.display.HTML object>"
      ]
     },
     "metadata": {},
     "output_type": "display_data"
    },
    {
     "data": {
      "text/html": [
       "Successfully finished last run (ID:ma6439by). Initializing new run:<br/>"
      ],
      "text/plain": [
       "<IPython.core.display.HTML object>"
      ]
     },
     "metadata": {},
     "output_type": "display_data"
    },
    {
     "data": {
      "application/vnd.jupyter.widget-view+json": {
       "model_id": "aa181422e6db41a5847d2a473ddbff12",
       "version_major": 2,
       "version_minor": 0
      },
      "text/plain": [
       "VBox(children=(Label(value='Waiting for wandb.init()...\\r'), FloatProgress(value=0.016669603809714318, max=1.0…"
      ]
     },
     "metadata": {},
     "output_type": "display_data"
    },
    {
     "data": {
      "text/html": [
       "wandb version 0.15.10 is available!  To upgrade, please run:\n",
       " $ pip install wandb --upgrade"
      ],
      "text/plain": [
       "<IPython.core.display.HTML object>"
      ]
     },
     "metadata": {},
     "output_type": "display_data"
    },
    {
     "data": {
      "text/html": [
       "Tracking run with wandb version 0.15.9"
      ],
      "text/plain": [
       "<IPython.core.display.HTML object>"
      ]
     },
     "metadata": {},
     "output_type": "display_data"
    },
    {
     "data": {
      "text/html": [
       "Run data is saved locally in <code>/notebooks/rl2023/ex1/wandb/run-20230914_085504-tede0wyu</code>"
      ],
      "text/plain": [
       "<IPython.core.display.HTML object>"
      ]
     },
     "metadata": {},
     "output_type": "display_data"
    },
    {
     "data": {
      "text/html": [
       "Syncing run <strong><a href='https://wandb.ai/r-l/rl_aalto/runs/tede0wyu' target=\"_blank\">ex1-CartPole-v1-94-1694670904</a></strong> to <a href='https://wandb.ai/r-l/rl_aalto' target=\"_blank\">Weights & Biases</a> (<a href='https://wandb.me/run' target=\"_blank\">docs</a>)<br/>"
      ],
      "text/plain": [
       "<IPython.core.display.HTML object>"
      ]
     },
     "metadata": {},
     "output_type": "display_data"
    },
    {
     "data": {
      "text/html": [
       " View project at <a href='https://wandb.ai/r-l/rl_aalto' target=\"_blank\">https://wandb.ai/r-l/rl_aalto</a>"
      ],
      "text/plain": [
       "<IPython.core.display.HTML object>"
      ]
     },
     "metadata": {},
     "output_type": "display_data"
    },
    {
     "data": {
      "text/html": [
       " View run at <a href='https://wandb.ai/r-l/rl_aalto/runs/tede0wyu' target=\"_blank\">https://wandb.ai/r-l/rl_aalto/runs/tede0wyu</a>"
      ],
      "text/plain": [
       "<IPython.core.display.HTML object>"
      ]
     },
     "metadata": {},
     "output_type": "display_data"
    },
    {
     "name": "stdout",
     "output_type": "stream",
     "text": [
      "Configuration Settings: {'exp_name': 'ex1', 'seed': 94, 'env_name': 'CartPole-v1', 'max_episode_steps': 100, 'train_episodes': 500, 'batch_size': 64, 'min_update_samples': 2000, 'testing': False, 'model_path': 'default', 'save_video': True, 'save_model': True, 'save_logging': True, 'silent': False, 'use_wandb': True, 'run_suffix': 0}\n",
      "Training device: cpu\n",
      "Observation space dimensions: 4\n",
      "Action space dimensions: 2\n",
      "\n",
      "Episode 0 finished. Total reward: 30.0 (30 timesteps)\n",
      "Episode 1 finished. Total reward: 27.0 (27 timesteps)\n",
      "Episode 2 finished. Total reward: 20.0 (20 timesteps)\n",
      "Episode 3 finished. Total reward: 23.0 (23 timesteps)\n",
      "Episode 4 finished. Total reward: 27.0 (27 timesteps)\n",
      "Episode 5 finished. Total reward: 19.0 (19 timesteps)\n",
      "Episode 6 finished. Total reward: 16.0 (16 timesteps)\n",
      "Episode 7 finished. Total reward: 11.0 (11 timesteps)\n",
      "Episode 8 finished. Total reward: 40.0 (40 timesteps)\n",
      "Episode 9 finished. Total reward: 41.0 (41 timesteps)\n",
      "Episode 10 finished. Total reward: 70.0 (70 timesteps)\n",
      "Episode 11 finished. Total reward: 17.0 (17 timesteps)\n",
      "Episode 12 finished. Total reward: 25.0 (25 timesteps)\n",
      "Episode 13 finished. Total reward: 15.0 (15 timesteps)\n",
      "Episode 14 finished. Total reward: 46.0 (46 timesteps)\n",
      "Episode 15 finished. Total reward: 19.0 (19 timesteps)\n",
      "Episode 16 finished. Total reward: 17.0 (17 timesteps)\n",
      "Episode 17 finished. Total reward: 25.0 (25 timesteps)\n",
      "Episode 18 finished. Total reward: 36.0 (36 timesteps)\n",
      "Episode 19 finished. Total reward: 36.0 (36 timesteps)\n",
      "Episode 20 finished. Total reward: 32.0 (32 timesteps)\n",
      "Episode 21 finished. Total reward: 11.0 (11 timesteps)\n",
      "Episode 22 finished. Total reward: 17.0 (17 timesteps)\n",
      "Episode 23 finished. Total reward: 20.0 (20 timesteps)\n",
      "Episode 24 finished. Total reward: 15.0 (15 timesteps)\n",
      "Episode 25 finished. Total reward: 34.0 (34 timesteps)\n",
      "Episode 26 finished. Total reward: 17.0 (17 timesteps)\n",
      "Episode 27 finished. Total reward: 16.0 (16 timesteps)\n",
      "Episode 28 finished. Total reward: 16.0 (16 timesteps)\n",
      "Episode 29 finished. Total reward: 17.0 (17 timesteps)\n",
      "Episode 30 finished. Total reward: 9.0 (9 timesteps)\n",
      "Episode 31 finished. Total reward: 11.0 (11 timesteps)\n",
      "Episode 32 finished. Total reward: 29.0 (29 timesteps)\n",
      "Episode 33 finished. Total reward: 40.0 (40 timesteps)\n",
      "Episode 34 finished. Total reward: 14.0 (14 timesteps)\n",
      "Episode 35 finished. Total reward: 14.0 (14 timesteps)\n",
      "Episode 36 finished. Total reward: 48.0 (48 timesteps)\n",
      "Episode 37 finished. Total reward: 24.0 (24 timesteps)\n",
      "Episode 38 finished. Total reward: 46.0 (46 timesteps)\n",
      "Episode 39 finished. Total reward: 22.0 (22 timesteps)\n",
      "Episode 40 finished. Total reward: 12.0 (12 timesteps)\n",
      "Episode 41 finished. Total reward: 14.0 (14 timesteps)\n",
      "Episode 42 finished. Total reward: 18.0 (18 timesteps)\n",
      "Episode 43 finished. Total reward: 27.0 (27 timesteps)\n",
      "Episode 44 finished. Total reward: 12.0 (12 timesteps)\n",
      "Episode 45 finished. Total reward: 17.0 (17 timesteps)\n",
      "Episode 46 finished. Total reward: 39.0 (39 timesteps)\n",
      "Episode 47 finished. Total reward: 12.0 (12 timesteps)\n",
      "Episode 48 finished. Total reward: 40.0 (40 timesteps)\n",
      "Episode 49 finished. Total reward: 32.0 (32 timesteps)\n",
      "Episode 50 finished. Total reward: 13.0 (13 timesteps)\n",
      "Episode 51 finished. Total reward: 18.0 (18 timesteps)\n",
      "Episode 52 finished. Total reward: 49.0 (49 timesteps)\n",
      "Episode 53 finished. Total reward: 14.0 (14 timesteps)\n",
      "Episode 54 finished. Total reward: 14.0 (14 timesteps)\n",
      "Episode 55 finished. Total reward: 30.0 (30 timesteps)\n",
      "Episode 56 finished. Total reward: 18.0 (18 timesteps)\n",
      "Episode 57 finished. Total reward: 18.0 (18 timesteps)\n",
      "Episode 58 finished. Total reward: 22.0 (22 timesteps)\n",
      "Episode 59 finished. Total reward: 15.0 (15 timesteps)\n",
      "Episode 60 finished. Total reward: 13.0 (13 timesteps)\n",
      "Episode 61 finished. Total reward: 11.0 (11 timesteps)\n",
      "Episode 62 finished. Total reward: 17.0 (17 timesteps)\n",
      "Episode 63 finished. Total reward: 18.0 (18 timesteps)\n",
      "Episode 64 finished. Total reward: 18.0 (18 timesteps)\n",
      "Episode 65 finished. Total reward: 13.0 (13 timesteps)\n",
      "Episode 66 finished. Total reward: 31.0 (31 timesteps)\n",
      "Episode 67 finished. Total reward: 39.0 (39 timesteps)\n",
      "Episode 68 finished. Total reward: 20.0 (20 timesteps)\n",
      "Episode 69 finished. Total reward: 14.0 (14 timesteps)\n",
      "Episode 70 finished. Total reward: 18.0 (18 timesteps)\n",
      "Episode 71 finished. Total reward: 14.0 (14 timesteps)\n",
      "Episode 72 finished. Total reward: 37.0 (37 timesteps)\n",
      "Episode 73 finished. Total reward: 28.0 (28 timesteps)\n",
      "Episode 74 finished. Total reward: 19.0 (19 timesteps)\n",
      "Episode 75 finished. Total reward: 18.0 (18 timesteps)\n",
      "Episode 76 finished. Total reward: 14.0 (14 timesteps)\n",
      "Episode 77 finished. Total reward: 16.0 (16 timesteps)\n",
      "Episode 78 finished. Total reward: 17.0 (17 timesteps)\n",
      "Episode 79 finished. Total reward: 24.0 (24 timesteps)\n",
      "Episode 80 finished. Total reward: 13.0 (13 timesteps)\n",
      "Episode 81 finished. Total reward: 23.0 (23 timesteps)\n",
      "Episode 82 finished. Total reward: 29.0 (29 timesteps)\n",
      "Episode 83 finished. Total reward: 22.0 (22 timesteps)\n",
      "Episode 84 finished. Total reward: 13.0 (13 timesteps)\n",
      "Episode 85 finished. Total reward: 21.0 (21 timesteps)\n",
      "Episode 86 finished. Total reward: 20.0 (20 timesteps)\n",
      "Updating the policy...\n",
      "Updating finished!\n",
      "Episode 87 finished. Total reward: 24.0 (24 timesteps)\n",
      "Episode 88 finished. Total reward: 12.0 (12 timesteps)\n",
      "Episode 89 finished. Total reward: 16.0 (16 timesteps)\n",
      "Episode 90 finished. Total reward: 23.0 (23 timesteps)\n",
      "Episode 91 finished. Total reward: 15.0 (15 timesteps)\n",
      "Episode 92 finished. Total reward: 15.0 (15 timesteps)\n",
      "Episode 93 finished. Total reward: 12.0 (12 timesteps)\n",
      "Episode 94 finished. Total reward: 41.0 (41 timesteps)\n",
      "Episode 95 finished. Total reward: 22.0 (22 timesteps)\n",
      "Episode 96 finished. Total reward: 17.0 (17 timesteps)\n",
      "Episode 97 finished. Total reward: 16.0 (16 timesteps)\n",
      "Episode 98 finished. Total reward: 32.0 (32 timesteps)\n",
      "Episode 99 finished. Total reward: 14.0 (14 timesteps)\n",
      "Episode 100 finished. Total reward: 19.0 (19 timesteps)\n",
      "Episode 101 finished. Total reward: 37.0 (37 timesteps)\n",
      "Episode 102 finished. Total reward: 14.0 (14 timesteps)\n",
      "Episode 103 finished. Total reward: 13.0 (13 timesteps)\n",
      "Episode 104 finished. Total reward: 39.0 (39 timesteps)\n",
      "Episode 105 finished. Total reward: 9.0 (9 timesteps)\n",
      "Episode 106 finished. Total reward: 24.0 (24 timesteps)\n",
      "Episode 107 finished. Total reward: 25.0 (25 timesteps)\n",
      "Episode 108 finished. Total reward: 22.0 (22 timesteps)\n",
      "Episode 109 finished. Total reward: 49.0 (49 timesteps)\n",
      "Episode 110 finished. Total reward: 21.0 (21 timesteps)\n",
      "Episode 111 finished. Total reward: 100.0 (100 timesteps)\n",
      "Episode 112 finished. Total reward: 73.0 (73 timesteps)\n",
      "Episode 113 finished. Total reward: 28.0 (28 timesteps)\n",
      "Episode 114 finished. Total reward: 21.0 (21 timesteps)\n",
      "Episode 115 finished. Total reward: 37.0 (37 timesteps)\n",
      "Episode 116 finished. Total reward: 78.0 (78 timesteps)\n",
      "Episode 117 finished. Total reward: 12.0 (12 timesteps)\n",
      "Episode 118 finished. Total reward: 35.0 (35 timesteps)\n",
      "Episode 119 finished. Total reward: 44.0 (44 timesteps)\n",
      "Episode 120 finished. Total reward: 16.0 (16 timesteps)\n",
      "Episode 121 finished. Total reward: 37.0 (37 timesteps)\n",
      "Episode 122 finished. Total reward: 26.0 (26 timesteps)\n",
      "Episode 123 finished. Total reward: 18.0 (18 timesteps)\n",
      "Episode 124 finished. Total reward: 45.0 (45 timesteps)\n",
      "Episode 125 finished. Total reward: 52.0 (52 timesteps)\n",
      "Episode 126 finished. Total reward: 15.0 (15 timesteps)\n",
      "Episode 127 finished. Total reward: 44.0 (44 timesteps)\n",
      "Episode 128 finished. Total reward: 15.0 (15 timesteps)\n",
      "Episode 129 finished. Total reward: 20.0 (20 timesteps)\n",
      "Episode 130 finished. Total reward: 17.0 (17 timesteps)\n",
      "Episode 131 finished. Total reward: 14.0 (14 timesteps)\n",
      "Episode 132 finished. Total reward: 21.0 (21 timesteps)\n",
      "Episode 133 finished. Total reward: 30.0 (30 timesteps)\n",
      "Episode 134 finished. Total reward: 36.0 (36 timesteps)\n",
      "Episode 135 finished. Total reward: 12.0 (12 timesteps)\n",
      "Episode 136 finished. Total reward: 24.0 (24 timesteps)\n",
      "Episode 137 finished. Total reward: 44.0 (44 timesteps)\n",
      "Episode 138 finished. Total reward: 24.0 (24 timesteps)\n",
      "Episode 139 finished. Total reward: 12.0 (12 timesteps)\n",
      "Episode 140 finished. Total reward: 56.0 (56 timesteps)\n",
      "Episode 141 finished. Total reward: 14.0 (14 timesteps)\n",
      "Episode 142 finished. Total reward: 44.0 (44 timesteps)\n",
      "Episode 143 finished. Total reward: 31.0 (31 timesteps)\n",
      "Episode 144 finished. Total reward: 14.0 (14 timesteps)\n",
      "Episode 145 finished. Total reward: 12.0 (12 timesteps)\n",
      "Episode 146 finished. Total reward: 24.0 (24 timesteps)\n",
      "Episode 147 finished. Total reward: 17.0 (17 timesteps)\n",
      "Episode 148 finished. Total reward: 18.0 (18 timesteps)\n",
      "Episode 149 finished. Total reward: 38.0 (38 timesteps)\n",
      "Episode 150 finished. Total reward: 47.0 (47 timesteps)\n",
      "Episode 151 finished. Total reward: 39.0 (39 timesteps)\n",
      "Episode 152 finished. Total reward: 24.0 (24 timesteps)\n",
      "Episode 153 finished. Total reward: 32.0 (32 timesteps)\n",
      "Episode 154 finished. Total reward: 19.0 (19 timesteps)\n",
      "Episode 155 finished. Total reward: 86.0 (86 timesteps)\n",
      "Episode 156 finished. Total reward: 19.0 (19 timesteps)\n",
      "Updating the policy...\n",
      "Updating finished!\n",
      "Episode 157 finished. Total reward: 52.0 (52 timesteps)\n",
      "Episode 158 finished. Total reward: 20.0 (20 timesteps)\n",
      "Episode 159 finished. Total reward: 23.0 (23 timesteps)\n",
      "Episode 160 finished. Total reward: 22.0 (22 timesteps)\n",
      "Episode 161 finished. Total reward: 32.0 (32 timesteps)\n",
      "Episode 162 finished. Total reward: 25.0 (25 timesteps)\n",
      "Episode 163 finished. Total reward: 30.0 (30 timesteps)\n",
      "Episode 164 finished. Total reward: 47.0 (47 timesteps)\n",
      "Episode 165 finished. Total reward: 66.0 (66 timesteps)\n",
      "Episode 166 finished. Total reward: 97.0 (97 timesteps)\n",
      "Episode 167 finished. Total reward: 100.0 (100 timesteps)\n",
      "Episode 168 finished. Total reward: 19.0 (19 timesteps)\n",
      "Episode 169 finished. Total reward: 61.0 (61 timesteps)\n",
      "Episode 170 finished. Total reward: 21.0 (21 timesteps)\n",
      "Episode 171 finished. Total reward: 36.0 (36 timesteps)\n",
      "Episode 172 finished. Total reward: 87.0 (87 timesteps)\n",
      "Episode 173 finished. Total reward: 12.0 (12 timesteps)\n",
      "Episode 174 finished. Total reward: 29.0 (29 timesteps)\n",
      "Episode 175 finished. Total reward: 57.0 (57 timesteps)\n",
      "Episode 176 finished. Total reward: 65.0 (65 timesteps)\n",
      "Episode 177 finished. Total reward: 28.0 (28 timesteps)\n",
      "Episode 178 finished. Total reward: 19.0 (19 timesteps)\n",
      "Episode 179 finished. Total reward: 25.0 (25 timesteps)\n",
      "Episode 180 finished. Total reward: 27.0 (27 timesteps)\n",
      "Episode 181 finished. Total reward: 33.0 (33 timesteps)\n",
      "Episode 182 finished. Total reward: 20.0 (20 timesteps)\n",
      "Episode 183 finished. Total reward: 21.0 (21 timesteps)\n",
      "Episode 184 finished. Total reward: 79.0 (79 timesteps)\n",
      "Episode 185 finished. Total reward: 39.0 (39 timesteps)\n",
      "Episode 186 finished. Total reward: 12.0 (12 timesteps)\n",
      "Episode 187 finished. Total reward: 22.0 (22 timesteps)\n",
      "Episode 188 finished. Total reward: 28.0 (28 timesteps)\n",
      "Episode 189 finished. Total reward: 81.0 (81 timesteps)\n",
      "Episode 190 finished. Total reward: 27.0 (27 timesteps)\n",
      "Episode 191 finished. Total reward: 13.0 (13 timesteps)\n",
      "Episode 192 finished. Total reward: 19.0 (19 timesteps)\n",
      "Episode 193 finished. Total reward: 26.0 (26 timesteps)\n",
      "Episode 194 finished. Total reward: 41.0 (41 timesteps)\n",
      "Episode 195 finished. Total reward: 20.0 (20 timesteps)\n",
      "Episode 196 finished. Total reward: 23.0 (23 timesteps)\n",
      "Episode 197 finished. Total reward: 50.0 (50 timesteps)\n",
      "Episode 198 finished. Total reward: 11.0 (11 timesteps)\n",
      "Episode 199 finished. Total reward: 28.0 (28 timesteps)\n",
      "Episode 200 finished. Total reward: 54.0 (54 timesteps)\n",
      "Episode 201 finished. Total reward: 25.0 (25 timesteps)\n",
      "Episode 202 finished. Total reward: 34.0 (34 timesteps)\n",
      "Episode 203 finished. Total reward: 27.0 (27 timesteps)\n",
      "Episode 204 finished. Total reward: 34.0 (34 timesteps)\n",
      "Episode 205 finished. Total reward: 60.0 (60 timesteps)\n",
      "Episode 206 finished. Total reward: 33.0 (33 timesteps)\n",
      "Episode 207 finished. Total reward: 89.0 (89 timesteps)\n",
      "Episode 208 finished. Total reward: 32.0 (32 timesteps)\n",
      "Updating the policy...\n",
      "Updating finished!\n",
      "Episode 209 finished. Total reward: 58.0 (58 timesteps)\n",
      "Episode 210 finished. Total reward: 46.0 (46 timesteps)\n",
      "Episode 211 finished. Total reward: 100.0 (100 timesteps)\n",
      "Episode 212 finished. Total reward: 100.0 (100 timesteps)\n",
      "Episode 213 finished. Total reward: 57.0 (57 timesteps)\n",
      "Episode 214 finished. Total reward: 38.0 (38 timesteps)\n",
      "Episode 215 finished. Total reward: 72.0 (72 timesteps)\n",
      "Episode 216 finished. Total reward: 52.0 (52 timesteps)\n",
      "Episode 217 finished. Total reward: 100.0 (100 timesteps)\n",
      "Episode 218 finished. Total reward: 23.0 (23 timesteps)\n",
      "Episode 219 finished. Total reward: 77.0 (77 timesteps)\n",
      "Episode 220 finished. Total reward: 100.0 (100 timesteps)\n",
      "Episode 221 finished. Total reward: 17.0 (17 timesteps)\n",
      "Episode 222 finished. Total reward: 94.0 (94 timesteps)\n",
      "Episode 223 finished. Total reward: 87.0 (87 timesteps)\n",
      "Episode 224 finished. Total reward: 100.0 (100 timesteps)\n",
      "Episode 225 finished. Total reward: 100.0 (100 timesteps)\n",
      "Episode 226 finished. Total reward: 47.0 (47 timesteps)\n",
      "Episode 227 finished. Total reward: 97.0 (97 timesteps)\n",
      "Episode 228 finished. Total reward: 100.0 (100 timesteps)\n",
      "Episode 229 finished. Total reward: 55.0 (55 timesteps)\n",
      "Episode 230 finished. Total reward: 25.0 (25 timesteps)\n",
      "Episode 231 finished. Total reward: 15.0 (15 timesteps)\n",
      "Episode 232 finished. Total reward: 61.0 (61 timesteps)\n",
      "Episode 233 finished. Total reward: 25.0 (25 timesteps)\n",
      "Episode 234 finished. Total reward: 89.0 (89 timesteps)\n",
      "Episode 235 finished. Total reward: 45.0 (45 timesteps)\n",
      "Episode 236 finished. Total reward: 24.0 (24 timesteps)\n",
      "Episode 237 finished. Total reward: 86.0 (86 timesteps)\n",
      "Episode 238 finished. Total reward: 19.0 (19 timesteps)\n",
      "Episode 239 finished. Total reward: 65.0 (65 timesteps)\n",
      "Updating the policy...\n",
      "Updating finished!\n",
      "Episode 240 finished. Total reward: 100.0 (100 timesteps)\n",
      "Episode 241 finished. Total reward: 51.0 (51 timesteps)\n",
      "Episode 242 finished. Total reward: 83.0 (83 timesteps)\n",
      "Episode 243 finished. Total reward: 100.0 (100 timesteps)\n",
      "Episode 244 finished. Total reward: 74.0 (74 timesteps)\n",
      "Episode 245 finished. Total reward: 100.0 (100 timesteps)\n",
      "Episode 246 finished. Total reward: 100.0 (100 timesteps)\n",
      "Episode 247 finished. Total reward: 27.0 (27 timesteps)\n",
      "Episode 248 finished. Total reward: 85.0 (85 timesteps)\n",
      "Episode 249 finished. Total reward: 27.0 (27 timesteps)\n",
      "Episode 250 finished. Total reward: 100.0 (100 timesteps)\n",
      "Episode 251 finished. Total reward: 100.0 (100 timesteps)\n",
      "Episode 252 finished. Total reward: 100.0 (100 timesteps)\n",
      "Episode 253 finished. Total reward: 13.0 (13 timesteps)\n",
      "Episode 254 finished. Total reward: 100.0 (100 timesteps)\n",
      "Episode 255 finished. Total reward: 100.0 (100 timesteps)\n",
      "Episode 256 finished. Total reward: 100.0 (100 timesteps)\n",
      "Episode 257 finished. Total reward: 51.0 (51 timesteps)\n",
      "Episode 258 finished. Total reward: 38.0 (38 timesteps)\n",
      "Episode 259 finished. Total reward: 100.0 (100 timesteps)\n",
      "Episode 260 finished. Total reward: 100.0 (100 timesteps)\n",
      "Episode 261 finished. Total reward: 100.0 (100 timesteps)\n",
      "Episode 262 finished. Total reward: 100.0 (100 timesteps)\n",
      "Episode 263 finished. Total reward: 100.0 (100 timesteps)\n",
      "Episode 264 finished. Total reward: 39.0 (39 timesteps)\n",
      "Updating the policy...\n",
      "Updating finished!\n",
      "Episode 265 finished. Total reward: 100.0 (100 timesteps)\n",
      "Episode 266 finished. Total reward: 100.0 (100 timesteps)\n",
      "Episode 267 finished. Total reward: 63.0 (63 timesteps)\n",
      "Episode 268 finished. Total reward: 100.0 (100 timesteps)\n",
      "Episode 269 finished. Total reward: 100.0 (100 timesteps)\n",
      "Episode 270 finished. Total reward: 65.0 (65 timesteps)\n",
      "Episode 271 finished. Total reward: 100.0 (100 timesteps)\n",
      "Episode 272 finished. Total reward: 78.0 (78 timesteps)\n",
      "Episode 273 finished. Total reward: 100.0 (100 timesteps)\n",
      "Episode 274 finished. Total reward: 100.0 (100 timesteps)\n",
      "Episode 275 finished. Total reward: 100.0 (100 timesteps)\n",
      "Episode 276 finished. Total reward: 59.0 (59 timesteps)\n",
      "Episode 277 finished. Total reward: 100.0 (100 timesteps)\n",
      "Episode 278 finished. Total reward: 100.0 (100 timesteps)\n",
      "Episode 279 finished. Total reward: 70.0 (70 timesteps)\n",
      "Episode 280 finished. Total reward: 100.0 (100 timesteps)\n",
      "Episode 281 finished. Total reward: 100.0 (100 timesteps)\n",
      "Episode 282 finished. Total reward: 100.0 (100 timesteps)\n",
      "Episode 283 finished. Total reward: 100.0 (100 timesteps)\n",
      "Episode 284 finished. Total reward: 100.0 (100 timesteps)\n",
      "Episode 285 finished. Total reward: 100.0 (100 timesteps)\n",
      "Episode 286 finished. Total reward: 100.0 (100 timesteps)\n",
      "Updating the policy...\n",
      "Updating finished!\n",
      "Episode 287 finished. Total reward: 100.0 (100 timesteps)\n",
      "Episode 288 finished. Total reward: 100.0 (100 timesteps)\n",
      "Episode 289 finished. Total reward: 100.0 (100 timesteps)\n",
      "Episode 290 finished. Total reward: 100.0 (100 timesteps)\n",
      "Episode 291 finished. Total reward: 100.0 (100 timesteps)\n",
      "Episode 292 finished. Total reward: 100.0 (100 timesteps)\n",
      "Episode 293 finished. Total reward: 76.0 (76 timesteps)\n",
      "Episode 294 finished. Total reward: 100.0 (100 timesteps)\n",
      "Episode 295 finished. Total reward: 100.0 (100 timesteps)\n",
      "Episode 296 finished. Total reward: 100.0 (100 timesteps)\n",
      "Episode 297 finished. Total reward: 87.0 (87 timesteps)\n",
      "Episode 298 finished. Total reward: 52.0 (52 timesteps)\n",
      "Episode 299 finished. Total reward: 100.0 (100 timesteps)\n",
      "Episode 300 finished. Total reward: 100.0 (100 timesteps)\n",
      "Episode 301 finished. Total reward: 100.0 (100 timesteps)\n",
      "Episode 302 finished. Total reward: 100.0 (100 timesteps)\n",
      "Episode 303 finished. Total reward: 100.0 (100 timesteps)\n",
      "Episode 304 finished. Total reward: 100.0 (100 timesteps)\n",
      "Episode 305 finished. Total reward: 81.0 (81 timesteps)\n",
      "Episode 306 finished. Total reward: 100.0 (100 timesteps)\n",
      "Episode 307 finished. Total reward: 42.0 (42 timesteps)\n",
      "Updating the policy...\n",
      "Updating finished!\n",
      "Episode 308 finished. Total reward: 100.0 (100 timesteps)\n",
      "Episode 309 finished. Total reward: 100.0 (100 timesteps)\n",
      "Episode 310 finished. Total reward: 100.0 (100 timesteps)\n",
      "Episode 311 finished. Total reward: 100.0 (100 timesteps)\n",
      "Episode 312 finished. Total reward: 100.0 (100 timesteps)\n",
      "Episode 313 finished. Total reward: 100.0 (100 timesteps)\n",
      "Episode 314 finished. Total reward: 100.0 (100 timesteps)\n",
      "Episode 315 finished. Total reward: 100.0 (100 timesteps)\n",
      "Episode 316 finished. Total reward: 100.0 (100 timesteps)\n",
      "Episode 317 finished. Total reward: 100.0 (100 timesteps)\n",
      "Episode 318 finished. Total reward: 100.0 (100 timesteps)\n",
      "Episode 319 finished. Total reward: 100.0 (100 timesteps)\n",
      "Episode 320 finished. Total reward: 100.0 (100 timesteps)\n",
      "Episode 321 finished. Total reward: 100.0 (100 timesteps)\n",
      "Episode 322 finished. Total reward: 81.0 (81 timesteps)\n",
      "Episode 323 finished. Total reward: 100.0 (100 timesteps)\n",
      "Episode 324 finished. Total reward: 100.0 (100 timesteps)\n",
      "Episode 325 finished. Total reward: 100.0 (100 timesteps)\n",
      "Episode 326 finished. Total reward: 100.0 (100 timesteps)\n",
      "Episode 327 finished. Total reward: 100.0 (100 timesteps)\n",
      "Episode 328 finished. Total reward: 100.0 (100 timesteps)\n",
      "Updating the policy...\n",
      "Updating finished!\n",
      "Episode 329 finished. Total reward: 100.0 (100 timesteps)\n",
      "Episode 330 finished. Total reward: 100.0 (100 timesteps)\n",
      "Episode 331 finished. Total reward: 100.0 (100 timesteps)\n",
      "Episode 332 finished. Total reward: 100.0 (100 timesteps)\n",
      "Episode 333 finished. Total reward: 100.0 (100 timesteps)\n",
      "Episode 334 finished. Total reward: 100.0 (100 timesteps)\n",
      "Episode 335 finished. Total reward: 100.0 (100 timesteps)\n",
      "Episode 336 finished. Total reward: 100.0 (100 timesteps)\n",
      "Episode 337 finished. Total reward: 100.0 (100 timesteps)\n",
      "Episode 338 finished. Total reward: 100.0 (100 timesteps)\n",
      "Episode 339 finished. Total reward: 100.0 (100 timesteps)\n",
      "Episode 340 finished. Total reward: 100.0 (100 timesteps)\n",
      "Episode 341 finished. Total reward: 100.0 (100 timesteps)\n",
      "Episode 342 finished. Total reward: 100.0 (100 timesteps)\n",
      "Episode 343 finished. Total reward: 100.0 (100 timesteps)\n",
      "Episode 344 finished. Total reward: 100.0 (100 timesteps)\n",
      "Episode 345 finished. Total reward: 100.0 (100 timesteps)\n",
      "Episode 346 finished. Total reward: 100.0 (100 timesteps)\n",
      "Episode 347 finished. Total reward: 100.0 (100 timesteps)\n",
      "Episode 348 finished. Total reward: 100.0 (100 timesteps)\n",
      "Updating the policy...\n",
      "Updating finished!\n",
      "Episode 349 finished. Total reward: 100.0 (100 timesteps)\n",
      "Episode 350 finished. Total reward: 53.0 (53 timesteps)\n",
      "Episode 351 finished. Total reward: 56.0 (56 timesteps)\n",
      "Episode 352 finished. Total reward: 100.0 (100 timesteps)\n",
      "Episode 353 finished. Total reward: 60.0 (60 timesteps)\n",
      "Episode 354 finished. Total reward: 100.0 (100 timesteps)\n",
      "Episode 355 finished. Total reward: 100.0 (100 timesteps)\n",
      "Episode 356 finished. Total reward: 100.0 (100 timesteps)\n",
      "Episode 357 finished. Total reward: 21.0 (21 timesteps)\n",
      "Episode 358 finished. Total reward: 100.0 (100 timesteps)\n",
      "Episode 359 finished. Total reward: 100.0 (100 timesteps)\n",
      "Episode 360 finished. Total reward: 100.0 (100 timesteps)\n",
      "Episode 361 finished. Total reward: 100.0 (100 timesteps)\n",
      "Episode 362 finished. Total reward: 100.0 (100 timesteps)\n",
      "Episode 363 finished. Total reward: 100.0 (100 timesteps)\n",
      "Episode 364 finished. Total reward: 100.0 (100 timesteps)\n",
      "Episode 365 finished. Total reward: 100.0 (100 timesteps)\n",
      "Episode 366 finished. Total reward: 59.0 (59 timesteps)\n",
      "Episode 367 finished. Total reward: 100.0 (100 timesteps)\n",
      "Episode 368 finished. Total reward: 88.0 (88 timesteps)\n",
      "Episode 369 finished. Total reward: 47.0 (47 timesteps)\n",
      "Episode 370 finished. Total reward: 100.0 (100 timesteps)\n",
      "Episode 371 finished. Total reward: 100.0 (100 timesteps)\n",
      "Updating the policy...\n",
      "Updating finished!\n",
      "Episode 372 finished. Total reward: 100.0 (100 timesteps)\n",
      "Episode 373 finished. Total reward: 86.0 (86 timesteps)\n",
      "Episode 374 finished. Total reward: 100.0 (100 timesteps)\n",
      "Episode 375 finished. Total reward: 100.0 (100 timesteps)\n",
      "Episode 376 finished. Total reward: 100.0 (100 timesteps)\n",
      "Episode 377 finished. Total reward: 100.0 (100 timesteps)\n",
      "Episode 378 finished. Total reward: 100.0 (100 timesteps)\n",
      "Episode 379 finished. Total reward: 100.0 (100 timesteps)\n",
      "Episode 380 finished. Total reward: 100.0 (100 timesteps)\n",
      "Episode 381 finished. Total reward: 100.0 (100 timesteps)\n",
      "Episode 382 finished. Total reward: 100.0 (100 timesteps)\n",
      "Episode 383 finished. Total reward: 100.0 (100 timesteps)\n",
      "Episode 384 finished. Total reward: 100.0 (100 timesteps)\n",
      "Episode 385 finished. Total reward: 100.0 (100 timesteps)\n",
      "Episode 386 finished. Total reward: 100.0 (100 timesteps)\n",
      "Episode 387 finished. Total reward: 100.0 (100 timesteps)\n",
      "Episode 388 finished. Total reward: 100.0 (100 timesteps)\n",
      "Episode 389 finished. Total reward: 100.0 (100 timesteps)\n",
      "Episode 390 finished. Total reward: 100.0 (100 timesteps)\n",
      "Episode 391 finished. Total reward: 100.0 (100 timesteps)\n",
      "Updating the policy...\n",
      "Updating finished!\n",
      "Episode 392 finished. Total reward: 100.0 (100 timesteps)\n",
      "Episode 393 finished. Total reward: 57.0 (57 timesteps)\n",
      "Episode 394 finished. Total reward: 100.0 (100 timesteps)\n",
      "Episode 395 finished. Total reward: 100.0 (100 timesteps)\n",
      "Episode 396 finished. Total reward: 100.0 (100 timesteps)\n",
      "Episode 397 finished. Total reward: 100.0 (100 timesteps)\n",
      "Episode 398 finished. Total reward: 100.0 (100 timesteps)\n",
      "Episode 399 finished. Total reward: 63.0 (63 timesteps)\n",
      "Episode 400 finished. Total reward: 100.0 (100 timesteps)\n",
      "Episode 401 finished. Total reward: 100.0 (100 timesteps)\n",
      "Episode 402 finished. Total reward: 100.0 (100 timesteps)\n",
      "Episode 403 finished. Total reward: 100.0 (100 timesteps)\n",
      "Episode 404 finished. Total reward: 100.0 (100 timesteps)\n",
      "Episode 405 finished. Total reward: 100.0 (100 timesteps)\n",
      "Episode 406 finished. Total reward: 100.0 (100 timesteps)\n",
      "Episode 407 finished. Total reward: 100.0 (100 timesteps)\n",
      "Episode 408 finished. Total reward: 100.0 (100 timesteps)\n",
      "Episode 409 finished. Total reward: 100.0 (100 timesteps)\n",
      "Episode 410 finished. Total reward: 100.0 (100 timesteps)\n",
      "Episode 411 finished. Total reward: 100.0 (100 timesteps)\n",
      "Episode 412 finished. Total reward: 100.0 (100 timesteps)\n",
      "Updating the policy...\n",
      "Updating finished!\n",
      "Episode 413 finished. Total reward: 100.0 (100 timesteps)\n",
      "Episode 414 finished. Total reward: 100.0 (100 timesteps)\n",
      "Episode 415 finished. Total reward: 100.0 (100 timesteps)\n",
      "Episode 416 finished. Total reward: 100.0 (100 timesteps)\n",
      "Episode 417 finished. Total reward: 100.0 (100 timesteps)\n",
      "Episode 418 finished. Total reward: 100.0 (100 timesteps)\n",
      "Episode 419 finished. Total reward: 100.0 (100 timesteps)\n",
      "Episode 420 finished. Total reward: 100.0 (100 timesteps)\n",
      "Episode 421 finished. Total reward: 100.0 (100 timesteps)\n",
      "Episode 422 finished. Total reward: 100.0 (100 timesteps)\n",
      "Episode 423 finished. Total reward: 100.0 (100 timesteps)\n",
      "Episode 424 finished. Total reward: 100.0 (100 timesteps)\n",
      "Episode 425 finished. Total reward: 100.0 (100 timesteps)\n",
      "Episode 426 finished. Total reward: 100.0 (100 timesteps)\n",
      "Episode 427 finished. Total reward: 100.0 (100 timesteps)\n",
      "Episode 428 finished. Total reward: 100.0 (100 timesteps)\n",
      "Episode 429 finished. Total reward: 100.0 (100 timesteps)\n",
      "Episode 430 finished. Total reward: 100.0 (100 timesteps)\n",
      "Episode 431 finished. Total reward: 100.0 (100 timesteps)\n",
      "Episode 432 finished. Total reward: 100.0 (100 timesteps)\n",
      "Updating the policy...\n",
      "Updating finished!\n",
      "Episode 433 finished. Total reward: 68.0 (68 timesteps)\n",
      "Episode 434 finished. Total reward: 100.0 (100 timesteps)\n",
      "Episode 435 finished. Total reward: 100.0 (100 timesteps)\n",
      "Episode 436 finished. Total reward: 100.0 (100 timesteps)\n",
      "Episode 437 finished. Total reward: 100.0 (100 timesteps)\n",
      "Episode 438 finished. Total reward: 100.0 (100 timesteps)\n",
      "Episode 439 finished. Total reward: 82.0 (82 timesteps)\n",
      "Episode 440 finished. Total reward: 100.0 (100 timesteps)\n",
      "Episode 441 finished. Total reward: 29.0 (29 timesteps)\n",
      "Episode 442 finished. Total reward: 100.0 (100 timesteps)\n",
      "Episode 443 finished. Total reward: 83.0 (83 timesteps)\n",
      "Episode 444 finished. Total reward: 94.0 (94 timesteps)\n",
      "Episode 445 finished. Total reward: 95.0 (95 timesteps)\n",
      "Episode 446 finished. Total reward: 100.0 (100 timesteps)\n",
      "Episode 447 finished. Total reward: 84.0 (84 timesteps)\n",
      "Episode 448 finished. Total reward: 100.0 (100 timesteps)\n",
      "Episode 449 finished. Total reward: 100.0 (100 timesteps)\n",
      "Episode 450 finished. Total reward: 92.0 (92 timesteps)\n",
      "Episode 451 finished. Total reward: 100.0 (100 timesteps)\n",
      "Episode 452 finished. Total reward: 88.0 (88 timesteps)\n",
      "Episode 453 finished. Total reward: 48.0 (48 timesteps)\n",
      "Episode 454 finished. Total reward: 57.0 (57 timesteps)\n",
      "Episode 455 finished. Total reward: 100.0 (100 timesteps)\n",
      "Updating the policy...\n",
      "Updating finished!\n",
      "Episode 456 finished. Total reward: 100.0 (100 timesteps)\n",
      "Episode 457 finished. Total reward: 100.0 (100 timesteps)\n",
      "Episode 458 finished. Total reward: 100.0 (100 timesteps)\n",
      "Episode 459 finished. Total reward: 100.0 (100 timesteps)\n",
      "Episode 460 finished. Total reward: 100.0 (100 timesteps)\n",
      "Episode 461 finished. Total reward: 100.0 (100 timesteps)\n",
      "Episode 462 finished. Total reward: 100.0 (100 timesteps)\n",
      "Episode 463 finished. Total reward: 100.0 (100 timesteps)\n",
      "Episode 464 finished. Total reward: 100.0 (100 timesteps)\n",
      "Episode 465 finished. Total reward: 100.0 (100 timesteps)\n",
      "Episode 466 finished. Total reward: 100.0 (100 timesteps)\n",
      "Episode 467 finished. Total reward: 93.0 (93 timesteps)\n",
      "Episode 468 finished. Total reward: 100.0 (100 timesteps)\n",
      "Episode 469 finished. Total reward: 100.0 (100 timesteps)\n",
      "Episode 470 finished. Total reward: 100.0 (100 timesteps)\n",
      "Episode 471 finished. Total reward: 100.0 (100 timesteps)\n",
      "Episode 472 finished. Total reward: 100.0 (100 timesteps)\n",
      "Episode 473 finished. Total reward: 100.0 (100 timesteps)\n",
      "Episode 474 finished. Total reward: 100.0 (100 timesteps)\n",
      "Episode 475 finished. Total reward: 100.0 (100 timesteps)\n",
      "Updating the policy...\n",
      "Updating finished!\n",
      "Episode 476 finished. Total reward: 100.0 (100 timesteps)\n",
      "Episode 477 finished. Total reward: 100.0 (100 timesteps)\n",
      "Episode 478 finished. Total reward: 30.0 (30 timesteps)\n",
      "Episode 479 finished. Total reward: 100.0 (100 timesteps)\n",
      "Episode 480 finished. Total reward: 100.0 (100 timesteps)\n",
      "Episode 481 finished. Total reward: 100.0 (100 timesteps)\n",
      "Episode 482 finished. Total reward: 100.0 (100 timesteps)\n",
      "Episode 483 finished. Total reward: 100.0 (100 timesteps)\n",
      "Episode 484 finished. Total reward: 100.0 (100 timesteps)\n",
      "Episode 485 finished. Total reward: 100.0 (100 timesteps)\n",
      "Episode 486 finished. Total reward: 100.0 (100 timesteps)\n",
      "Episode 487 finished. Total reward: 100.0 (100 timesteps)\n",
      "Episode 488 finished. Total reward: 100.0 (100 timesteps)\n",
      "Episode 489 finished. Total reward: 100.0 (100 timesteps)\n",
      "Episode 490 finished. Total reward: 44.0 (44 timesteps)\n",
      "Episode 491 finished. Total reward: 100.0 (100 timesteps)\n",
      "Episode 492 finished. Total reward: 69.0 (69 timesteps)\n",
      "Episode 493 finished. Total reward: 100.0 (100 timesteps)\n",
      "Episode 494 finished. Total reward: 100.0 (100 timesteps)\n",
      "Episode 495 finished. Total reward: 100.0 (100 timesteps)\n",
      "Episode 496 finished. Total reward: 100.0 (100 timesteps)\n",
      "Updating the policy...\n",
      "Updating finished!\n",
      "Episode 497 finished. Total reward: 100.0 (100 timesteps)\n",
      "Episode 498 finished. Total reward: 100.0 (100 timesteps)\n",
      "Episode 499 finished. Total reward: 100.0 (100 timesteps)\n",
      "Episode 500 finished. Total reward: 100.0 (100 timesteps)\n",
      "Model saved to /notebooks/rl2023/ex1/results/model/CartPole-v1_params.pt\n",
      "------Training finished.------\n",
      "Numpy/Torch/Random Seed:  405\n",
      "Loading model from /notebooks/rl2023/ex1/results/model/CartPole-v1_params.pt ...\n",
      "Testing...\n",
      "Test ep reward: 115.0 seed: 622\n",
      "Test ep reward: 143.0 seed: 420\n",
      "Test ep reward: 128.0 seed: 492\n",
      "Test ep reward: 130.0 seed: 647\n",
      "Test ep reward: 111.0 seed: 633\n",
      "Test ep reward: 117.0 seed: 130\n",
      "Test ep reward: 142.0 seed: 925\n",
      "Test ep reward: 124.0 seed: 761\n",
      "Test ep reward: 120.0 seed: 519\n",
      "Test ep reward: 131.0 seed: 601\n",
      "Average test reward: 126.1 episode length: 126.1\n",
      "Numpy/Torch/Random Seed:  9\n"
     ]
    },
    {
     "data": {
      "text/html": [
       "Changes to your `wandb` environment variables will be ignored because your `wandb` session has already started. For more information on how to modify your settings with `wandb.init()` arguments, please refer to <a href='https://wandb.me/wandb-init' target=\"_blank\">the W&B docs</a>."
      ],
      "text/plain": [
       "<IPython.core.display.HTML object>"
      ]
     },
     "metadata": {},
     "output_type": "display_data"
    },
    {
     "data": {
      "text/html": [
       "Finishing last run (ID:tede0wyu) before initializing another..."
      ],
      "text/plain": [
       "<IPython.core.display.HTML object>"
      ]
     },
     "metadata": {},
     "output_type": "display_data"
    },
    {
     "data": {
      "text/html": [
       "Waiting for W&B process to finish... <strong style=\"color:green\">(success).</strong>"
      ],
      "text/plain": [
       "<IPython.core.display.HTML object>"
      ]
     },
     "metadata": {},
     "output_type": "display_data"
    },
    {
     "data": {
      "application/vnd.jupyter.widget-view+json": {
       "model_id": "1373f8d8f89b476fb6d5f4628caf1bab",
       "version_major": 2,
       "version_minor": 0
      },
      "text/plain": [
       "VBox(children=(Label(value='0.002 MB of 0.037 MB uploaded (0.000 MB deduped)\\r'), FloatProgress(value=0.063850…"
      ]
     },
     "metadata": {},
     "output_type": "display_data"
    },
    {
     "data": {
      "text/html": [
       "<style>\n",
       "    table.wandb td:nth-child(1) { padding: 0 10px; text-align: left ; width: auto;} td:nth-child(2) {text-align: left ; width: 100%}\n",
       "    .wandb-row { display: flex; flex-direction: row; flex-wrap: wrap; justify-content: flex-start; width: 100% }\n",
       "    .wandb-col { display: flex; flex-direction: column; flex-basis: 100%; flex: 1; padding: 10px; }\n",
       "    </style>\n",
       "<div class=\"wandb-row\"><div class=\"wandb-col\"><h3>Run history:</h3><br/><table class=\"wandb\"><tr><td>ep_reward</td><td>▂▂▁▂▁▁▂▁▁▃▄▁▇█▂▁▂▆▁██▅▆█▃██████████▇████</td></tr><tr><td>episodes</td><td>▁▁▁▂▂▂▂▂▂▃▃▃▃▃▄▄▄▄▄▄▅▅▅▅▅▅▆▆▆▆▆▇▇▇▇▇▇███</td></tr><tr><td>num_updates</td><td>▁▁▁▁▁▁▁▁▁▁▁▁▁▁▁▁▁▁▁▁▁▁▁▁▁▁▁▁▁▁▁▁▁▁▁▁▁▁▁▁</td></tr><tr><td>timesteps</td><td>▂▂▁▂▁▁▂▁▁▃▄▁▇█▂▁▂▆▁██▅▆█▃██████████▇████</td></tr></table><br/></div><div class=\"wandb-col\"><h3>Run summary:</h3><br/><table class=\"wandb\"><tr><td>ep_reward</td><td>100.0</td></tr><tr><td>episodes</td><td>500</td></tr><tr><td>num_updates</td><td>0</td></tr><tr><td>timesteps</td><td>100</td></tr></table><br/></div></div>"
      ],
      "text/plain": [
       "<IPython.core.display.HTML object>"
      ]
     },
     "metadata": {},
     "output_type": "display_data"
    },
    {
     "data": {
      "text/html": [
       " View run <strong style=\"color:#cdcd00\">ex1-CartPole-v1-94-1694670904</strong> at: <a href='https://wandb.ai/r-l/rl_aalto/runs/tede0wyu' target=\"_blank\">https://wandb.ai/r-l/rl_aalto/runs/tede0wyu</a><br/>Synced 6 W&B file(s), 0 media file(s), 0 artifact file(s) and 0 other file(s)"
      ],
      "text/plain": [
       "<IPython.core.display.HTML object>"
      ]
     },
     "metadata": {},
     "output_type": "display_data"
    },
    {
     "data": {
      "text/html": [
       "Find logs at: <code>./wandb/run-20230914_085504-tede0wyu/logs</code>"
      ],
      "text/plain": [
       "<IPython.core.display.HTML object>"
      ]
     },
     "metadata": {},
     "output_type": "display_data"
    },
    {
     "data": {
      "text/html": [
       "Successfully finished last run (ID:tede0wyu). Initializing new run:<br/>"
      ],
      "text/plain": [
       "<IPython.core.display.HTML object>"
      ]
     },
     "metadata": {},
     "output_type": "display_data"
    },
    {
     "data": {
      "application/vnd.jupyter.widget-view+json": {
       "model_id": "14c31cb82b634c39a6ef0e9560ba75ec",
       "version_major": 2,
       "version_minor": 0
      },
      "text/plain": [
       "VBox(children=(Label(value='Waiting for wandb.init()...\\r'), FloatProgress(value=0.016669316310435535, max=1.0…"
      ]
     },
     "metadata": {},
     "output_type": "display_data"
    },
    {
     "data": {
      "text/html": [
       "wandb version 0.15.10 is available!  To upgrade, please run:\n",
       " $ pip install wandb --upgrade"
      ],
      "text/plain": [
       "<IPython.core.display.HTML object>"
      ]
     },
     "metadata": {},
     "output_type": "display_data"
    },
    {
     "data": {
      "text/html": [
       "Tracking run with wandb version 0.15.9"
      ],
      "text/plain": [
       "<IPython.core.display.HTML object>"
      ]
     },
     "metadata": {},
     "output_type": "display_data"
    },
    {
     "data": {
      "text/html": [
       "Run data is saved locally in <code>/notebooks/rl2023/ex1/wandb/run-20230914_085858-vkkhv3x2</code>"
      ],
      "text/plain": [
       "<IPython.core.display.HTML object>"
      ]
     },
     "metadata": {},
     "output_type": "display_data"
    },
    {
     "data": {
      "text/html": [
       "Syncing run <strong><a href='https://wandb.ai/r-l/rl_aalto/runs/vkkhv3x2' target=\"_blank\">ex1-CartPole-v1-9-1694671138</a></strong> to <a href='https://wandb.ai/r-l/rl_aalto' target=\"_blank\">Weights & Biases</a> (<a href='https://wandb.me/run' target=\"_blank\">docs</a>)<br/>"
      ],
      "text/plain": [
       "<IPython.core.display.HTML object>"
      ]
     },
     "metadata": {},
     "output_type": "display_data"
    },
    {
     "data": {
      "text/html": [
       " View project at <a href='https://wandb.ai/r-l/rl_aalto' target=\"_blank\">https://wandb.ai/r-l/rl_aalto</a>"
      ],
      "text/plain": [
       "<IPython.core.display.HTML object>"
      ]
     },
     "metadata": {},
     "output_type": "display_data"
    },
    {
     "data": {
      "text/html": [
       " View run at <a href='https://wandb.ai/r-l/rl_aalto/runs/vkkhv3x2' target=\"_blank\">https://wandb.ai/r-l/rl_aalto/runs/vkkhv3x2</a>"
      ],
      "text/plain": [
       "<IPython.core.display.HTML object>"
      ]
     },
     "metadata": {},
     "output_type": "display_data"
    },
    {
     "name": "stdout",
     "output_type": "stream",
     "text": [
      "Configuration Settings: {'exp_name': 'ex1', 'seed': 9, 'env_name': 'CartPole-v1', 'max_episode_steps': 100, 'train_episodes': 500, 'batch_size': 64, 'min_update_samples': 2000, 'testing': False, 'model_path': 'default', 'save_video': True, 'save_model': True, 'save_logging': True, 'silent': False, 'use_wandb': True, 'run_suffix': 0}\n",
      "Training device: cpu\n",
      "Observation space dimensions: 4\n",
      "Action space dimensions: 2\n",
      "\n",
      "Episode 0 finished. Total reward: 15.0 (15 timesteps)\n",
      "Episode 1 finished. Total reward: 21.0 (21 timesteps)\n",
      "Episode 2 finished. Total reward: 19.0 (19 timesteps)\n",
      "Episode 3 finished. Total reward: 11.0 (11 timesteps)\n",
      "Episode 4 finished. Total reward: 13.0 (13 timesteps)\n",
      "Episode 5 finished. Total reward: 14.0 (14 timesteps)\n",
      "Episode 6 finished. Total reward: 61.0 (61 timesteps)\n",
      "Episode 7 finished. Total reward: 13.0 (13 timesteps)\n",
      "Episode 8 finished. Total reward: 44.0 (44 timesteps)\n",
      "Episode 9 finished. Total reward: 14.0 (14 timesteps)\n",
      "Episode 10 finished. Total reward: 23.0 (23 timesteps)\n",
      "Episode 11 finished. Total reward: 41.0 (41 timesteps)\n",
      "Episode 12 finished. Total reward: 13.0 (13 timesteps)\n",
      "Episode 13 finished. Total reward: 15.0 (15 timesteps)\n",
      "Episode 14 finished. Total reward: 10.0 (10 timesteps)\n",
      "Episode 15 finished. Total reward: 14.0 (14 timesteps)\n",
      "Episode 16 finished. Total reward: 15.0 (15 timesteps)\n",
      "Episode 17 finished. Total reward: 46.0 (46 timesteps)\n",
      "Episode 18 finished. Total reward: 20.0 (20 timesteps)\n",
      "Episode 19 finished. Total reward: 27.0 (27 timesteps)\n",
      "Episode 20 finished. Total reward: 12.0 (12 timesteps)\n",
      "Episode 21 finished. Total reward: 24.0 (24 timesteps)\n",
      "Episode 22 finished. Total reward: 9.0 (9 timesteps)\n",
      "Episode 23 finished. Total reward: 19.0 (19 timesteps)\n",
      "Episode 24 finished. Total reward: 14.0 (14 timesteps)\n",
      "Episode 25 finished. Total reward: 43.0 (43 timesteps)\n",
      "Episode 26 finished. Total reward: 66.0 (66 timesteps)\n",
      "Episode 27 finished. Total reward: 21.0 (21 timesteps)\n",
      "Episode 28 finished. Total reward: 14.0 (14 timesteps)\n",
      "Episode 29 finished. Total reward: 28.0 (28 timesteps)\n",
      "Episode 30 finished. Total reward: 23.0 (23 timesteps)\n",
      "Episode 31 finished. Total reward: 13.0 (13 timesteps)\n",
      "Episode 32 finished. Total reward: 64.0 (64 timesteps)\n",
      "Episode 33 finished. Total reward: 14.0 (14 timesteps)\n",
      "Episode 34 finished. Total reward: 48.0 (48 timesteps)\n",
      "Episode 35 finished. Total reward: 17.0 (17 timesteps)\n",
      "Episode 36 finished. Total reward: 12.0 (12 timesteps)\n",
      "Episode 37 finished. Total reward: 56.0 (56 timesteps)\n",
      "Episode 38 finished. Total reward: 17.0 (17 timesteps)\n",
      "Episode 39 finished. Total reward: 12.0 (12 timesteps)\n",
      "Episode 40 finished. Total reward: 20.0 (20 timesteps)\n",
      "Episode 41 finished. Total reward: 18.0 (18 timesteps)\n",
      "Episode 42 finished. Total reward: 12.0 (12 timesteps)\n",
      "Episode 43 finished. Total reward: 17.0 (17 timesteps)\n",
      "Episode 44 finished. Total reward: 11.0 (11 timesteps)\n",
      "Episode 45 finished. Total reward: 28.0 (28 timesteps)\n",
      "Episode 46 finished. Total reward: 18.0 (18 timesteps)\n",
      "Episode 47 finished. Total reward: 18.0 (18 timesteps)\n",
      "Episode 48 finished. Total reward: 11.0 (11 timesteps)\n",
      "Episode 49 finished. Total reward: 10.0 (10 timesteps)\n",
      "Episode 50 finished. Total reward: 31.0 (31 timesteps)\n",
      "Episode 51 finished. Total reward: 12.0 (12 timesteps)\n",
      "Episode 52 finished. Total reward: 17.0 (17 timesteps)\n",
      "Episode 53 finished. Total reward: 13.0 (13 timesteps)\n",
      "Episode 54 finished. Total reward: 13.0 (13 timesteps)\n",
      "Episode 55 finished. Total reward: 19.0 (19 timesteps)\n",
      "Episode 56 finished. Total reward: 14.0 (14 timesteps)\n",
      "Episode 57 finished. Total reward: 14.0 (14 timesteps)\n",
      "Episode 58 finished. Total reward: 31.0 (31 timesteps)\n",
      "Episode 59 finished. Total reward: 22.0 (22 timesteps)\n",
      "Episode 60 finished. Total reward: 15.0 (15 timesteps)\n",
      "Episode 61 finished. Total reward: 22.0 (22 timesteps)\n",
      "Episode 62 finished. Total reward: 23.0 (23 timesteps)\n",
      "Episode 63 finished. Total reward: 15.0 (15 timesteps)\n",
      "Episode 64 finished. Total reward: 21.0 (21 timesteps)\n",
      "Episode 65 finished. Total reward: 11.0 (11 timesteps)\n",
      "Episode 66 finished. Total reward: 24.0 (24 timesteps)\n",
      "Episode 67 finished. Total reward: 22.0 (22 timesteps)\n",
      "Episode 68 finished. Total reward: 11.0 (11 timesteps)\n",
      "Episode 69 finished. Total reward: 30.0 (30 timesteps)\n",
      "Episode 70 finished. Total reward: 22.0 (22 timesteps)\n",
      "Episode 71 finished. Total reward: 10.0 (10 timesteps)\n",
      "Episode 72 finished. Total reward: 22.0 (22 timesteps)\n",
      "Episode 73 finished. Total reward: 13.0 (13 timesteps)\n",
      "Episode 74 finished. Total reward: 18.0 (18 timesteps)\n",
      "Episode 75 finished. Total reward: 54.0 (54 timesteps)\n",
      "Episode 76 finished. Total reward: 19.0 (19 timesteps)\n",
      "Episode 77 finished. Total reward: 12.0 (12 timesteps)\n",
      "Episode 78 finished. Total reward: 27.0 (27 timesteps)\n",
      "Episode 79 finished. Total reward: 31.0 (31 timesteps)\n",
      "Episode 80 finished. Total reward: 16.0 (16 timesteps)\n",
      "Episode 81 finished. Total reward: 16.0 (16 timesteps)\n",
      "Episode 82 finished. Total reward: 25.0 (25 timesteps)\n",
      "Episode 83 finished. Total reward: 36.0 (36 timesteps)\n",
      "Episode 84 finished. Total reward: 16.0 (16 timesteps)\n",
      "Episode 85 finished. Total reward: 10.0 (10 timesteps)\n",
      "Episode 86 finished. Total reward: 22.0 (22 timesteps)\n",
      "Episode 87 finished. Total reward: 12.0 (12 timesteps)\n",
      "Episode 88 finished. Total reward: 24.0 (24 timesteps)\n",
      "Episode 89 finished. Total reward: 12.0 (12 timesteps)\n",
      "Episode 90 finished. Total reward: 14.0 (14 timesteps)\n",
      "Episode 91 finished. Total reward: 27.0 (27 timesteps)\n",
      "Updating the policy...\n",
      "Updating finished!\n",
      "Episode 92 finished. Total reward: 35.0 (35 timesteps)\n",
      "Episode 93 finished. Total reward: 27.0 (27 timesteps)\n",
      "Episode 94 finished. Total reward: 43.0 (43 timesteps)\n",
      "Episode 95 finished. Total reward: 29.0 (29 timesteps)\n",
      "Episode 96 finished. Total reward: 31.0 (31 timesteps)\n",
      "Episode 97 finished. Total reward: 25.0 (25 timesteps)\n",
      "Episode 98 finished. Total reward: 40.0 (40 timesteps)\n",
      "Episode 99 finished. Total reward: 33.0 (33 timesteps)\n",
      "Episode 100 finished. Total reward: 17.0 (17 timesteps)\n",
      "Episode 101 finished. Total reward: 14.0 (14 timesteps)\n",
      "Episode 102 finished. Total reward: 65.0 (65 timesteps)\n",
      "Episode 103 finished. Total reward: 39.0 (39 timesteps)\n",
      "Episode 104 finished. Total reward: 34.0 (34 timesteps)\n",
      "Episode 105 finished. Total reward: 26.0 (26 timesteps)\n",
      "Episode 106 finished. Total reward: 33.0 (33 timesteps)\n",
      "Episode 107 finished. Total reward: 24.0 (24 timesteps)\n",
      "Episode 108 finished. Total reward: 49.0 (49 timesteps)\n",
      "Episode 109 finished. Total reward: 31.0 (31 timesteps)\n",
      "Episode 110 finished. Total reward: 38.0 (38 timesteps)\n",
      "Episode 111 finished. Total reward: 14.0 (14 timesteps)\n",
      "Episode 112 finished. Total reward: 23.0 (23 timesteps)\n",
      "Episode 113 finished. Total reward: 29.0 (29 timesteps)\n",
      "Episode 114 finished. Total reward: 23.0 (23 timesteps)\n",
      "Episode 115 finished. Total reward: 14.0 (14 timesteps)\n",
      "Episode 116 finished. Total reward: 14.0 (14 timesteps)\n",
      "Episode 117 finished. Total reward: 14.0 (14 timesteps)\n",
      "Episode 118 finished. Total reward: 18.0 (18 timesteps)\n",
      "Episode 119 finished. Total reward: 73.0 (73 timesteps)\n",
      "Episode 120 finished. Total reward: 18.0 (18 timesteps)\n",
      "Episode 121 finished. Total reward: 16.0 (16 timesteps)\n",
      "Episode 122 finished. Total reward: 48.0 (48 timesteps)\n",
      "Episode 123 finished. Total reward: 21.0 (21 timesteps)\n",
      "Episode 124 finished. Total reward: 18.0 (18 timesteps)\n",
      "Episode 125 finished. Total reward: 48.0 (48 timesteps)\n",
      "Episode 126 finished. Total reward: 13.0 (13 timesteps)\n",
      "Episode 127 finished. Total reward: 52.0 (52 timesteps)\n",
      "Episode 128 finished. Total reward: 14.0 (14 timesteps)\n",
      "Episode 129 finished. Total reward: 69.0 (69 timesteps)\n",
      "Episode 130 finished. Total reward: 13.0 (13 timesteps)\n",
      "Episode 131 finished. Total reward: 19.0 (19 timesteps)\n",
      "Episode 132 finished. Total reward: 12.0 (12 timesteps)\n",
      "Episode 133 finished. Total reward: 12.0 (12 timesteps)\n",
      "Episode 134 finished. Total reward: 45.0 (45 timesteps)\n",
      "Episode 135 finished. Total reward: 23.0 (23 timesteps)\n",
      "Episode 136 finished. Total reward: 15.0 (15 timesteps)\n",
      "Episode 137 finished. Total reward: 13.0 (13 timesteps)\n",
      "Episode 138 finished. Total reward: 23.0 (23 timesteps)\n",
      "Episode 139 finished. Total reward: 22.0 (22 timesteps)\n",
      "Episode 140 finished. Total reward: 13.0 (13 timesteps)\n",
      "Episode 141 finished. Total reward: 19.0 (19 timesteps)\n",
      "Episode 142 finished. Total reward: 22.0 (22 timesteps)\n",
      "Episode 143 finished. Total reward: 27.0 (27 timesteps)\n",
      "Episode 144 finished. Total reward: 28.0 (28 timesteps)\n",
      "Episode 145 finished. Total reward: 20.0 (20 timesteps)\n",
      "Episode 146 finished. Total reward: 12.0 (12 timesteps)\n",
      "Episode 147 finished. Total reward: 18.0 (18 timesteps)\n",
      "Episode 148 finished. Total reward: 17.0 (17 timesteps)\n",
      "Episode 149 finished. Total reward: 88.0 (88 timesteps)\n",
      "Episode 150 finished. Total reward: 78.0 (78 timesteps)\n",
      "Episode 151 finished. Total reward: 23.0 (23 timesteps)\n",
      "Episode 152 finished. Total reward: 42.0 (42 timesteps)\n",
      "Episode 153 finished. Total reward: 42.0 (42 timesteps)\n",
      "Episode 154 finished. Total reward: 21.0 (21 timesteps)\n",
      "Episode 155 finished. Total reward: 25.0 (25 timesteps)\n",
      "Episode 156 finished. Total reward: 13.0 (13 timesteps)\n",
      "Episode 157 finished. Total reward: 10.0 (10 timesteps)\n",
      "Episode 158 finished. Total reward: 100.0 (100 timesteps)\n",
      "Episode 159 finished. Total reward: 23.0 (23 timesteps)\n",
      "Episode 160 finished. Total reward: 14.0 (14 timesteps)\n",
      "Updating the policy...\n",
      "Updating finished!\n",
      "Episode 161 finished. Total reward: 19.0 (19 timesteps)\n",
      "Episode 162 finished. Total reward: 22.0 (22 timesteps)\n",
      "Episode 163 finished. Total reward: 80.0 (80 timesteps)\n",
      "Episode 164 finished. Total reward: 43.0 (43 timesteps)\n",
      "Episode 165 finished. Total reward: 93.0 (93 timesteps)\n",
      "Episode 166 finished. Total reward: 49.0 (49 timesteps)\n",
      "Episode 167 finished. Total reward: 21.0 (21 timesteps)\n",
      "Episode 168 finished. Total reward: 100.0 (100 timesteps)\n",
      "Episode 169 finished. Total reward: 61.0 (61 timesteps)\n",
      "Episode 170 finished. Total reward: 16.0 (16 timesteps)\n",
      "Episode 171 finished. Total reward: 65.0 (65 timesteps)\n",
      "Episode 172 finished. Total reward: 48.0 (48 timesteps)\n",
      "Episode 173 finished. Total reward: 19.0 (19 timesteps)\n",
      "Episode 174 finished. Total reward: 33.0 (33 timesteps)\n",
      "Episode 175 finished. Total reward: 40.0 (40 timesteps)\n",
      "Episode 176 finished. Total reward: 61.0 (61 timesteps)\n",
      "Episode 177 finished. Total reward: 15.0 (15 timesteps)\n",
      "Episode 178 finished. Total reward: 11.0 (11 timesteps)\n",
      "Episode 179 finished. Total reward: 56.0 (56 timesteps)\n",
      "Episode 180 finished. Total reward: 58.0 (58 timesteps)\n",
      "Episode 181 finished. Total reward: 17.0 (17 timesteps)\n",
      "Episode 182 finished. Total reward: 48.0 (48 timesteps)\n",
      "Episode 183 finished. Total reward: 75.0 (75 timesteps)\n",
      "Episode 184 finished. Total reward: 32.0 (32 timesteps)\n",
      "Episode 185 finished. Total reward: 22.0 (22 timesteps)\n",
      "Episode 186 finished. Total reward: 77.0 (77 timesteps)\n",
      "Episode 187 finished. Total reward: 86.0 (86 timesteps)\n",
      "Episode 188 finished. Total reward: 65.0 (65 timesteps)\n",
      "Episode 189 finished. Total reward: 28.0 (28 timesteps)\n",
      "Episode 190 finished. Total reward: 55.0 (55 timesteps)\n",
      "Episode 191 finished. Total reward: 15.0 (15 timesteps)\n",
      "Episode 192 finished. Total reward: 100.0 (100 timesteps)\n",
      "Episode 193 finished. Total reward: 77.0 (77 timesteps)\n",
      "Episode 194 finished. Total reward: 30.0 (30 timesteps)\n",
      "Episode 195 finished. Total reward: 13.0 (13 timesteps)\n",
      "Episode 196 finished. Total reward: 17.0 (17 timesteps)\n",
      "Episode 197 finished. Total reward: 72.0 (72 timesteps)\n",
      "Episode 198 finished. Total reward: 16.0 (16 timesteps)\n",
      "Episode 199 finished. Total reward: 39.0 (39 timesteps)\n",
      "Episode 200 finished. Total reward: 41.0 (41 timesteps)\n",
      "Episode 201 finished. Total reward: 30.0 (30 timesteps)\n",
      "Episode 202 finished. Total reward: 26.0 (26 timesteps)\n",
      "Episode 203 finished. Total reward: 21.0 (21 timesteps)\n",
      "Episode 204 finished. Total reward: 14.0 (14 timesteps)\n",
      "Updating the policy...\n",
      "Updating finished!\n",
      "Episode 205 finished. Total reward: 86.0 (86 timesteps)\n",
      "Episode 206 finished. Total reward: 100.0 (100 timesteps)\n",
      "Episode 207 finished. Total reward: 100.0 (100 timesteps)\n",
      "Episode 208 finished. Total reward: 22.0 (22 timesteps)\n",
      "Episode 209 finished. Total reward: 24.0 (24 timesteps)\n",
      "Episode 210 finished. Total reward: 100.0 (100 timesteps)\n",
      "Episode 211 finished. Total reward: 100.0 (100 timesteps)\n",
      "Episode 212 finished. Total reward: 27.0 (27 timesteps)\n",
      "Episode 213 finished. Total reward: 20.0 (20 timesteps)\n",
      "Episode 214 finished. Total reward: 30.0 (30 timesteps)\n",
      "Episode 215 finished. Total reward: 78.0 (78 timesteps)\n",
      "Episode 216 finished. Total reward: 29.0 (29 timesteps)\n",
      "Episode 217 finished. Total reward: 64.0 (64 timesteps)\n",
      "Episode 218 finished. Total reward: 56.0 (56 timesteps)\n",
      "Episode 219 finished. Total reward: 100.0 (100 timesteps)\n",
      "Episode 220 finished. Total reward: 89.0 (89 timesteps)\n",
      "Episode 221 finished. Total reward: 100.0 (100 timesteps)\n",
      "Episode 222 finished. Total reward: 76.0 (76 timesteps)\n",
      "Episode 223 finished. Total reward: 56.0 (56 timesteps)\n",
      "Episode 224 finished. Total reward: 74.0 (74 timesteps)\n",
      "Episode 225 finished. Total reward: 85.0 (85 timesteps)\n",
      "Episode 226 finished. Total reward: 12.0 (12 timesteps)\n",
      "Episode 227 finished. Total reward: 100.0 (100 timesteps)\n",
      "Episode 228 finished. Total reward: 20.0 (20 timesteps)\n",
      "Episode 229 finished. Total reward: 100.0 (100 timesteps)\n",
      "Episode 230 finished. Total reward: 100.0 (100 timesteps)\n",
      "Episode 231 finished. Total reward: 43.0 (43 timesteps)\n",
      "Episode 232 finished. Total reward: 85.0 (85 timesteps)\n",
      "Episode 233 finished. Total reward: 83.0 (83 timesteps)\n",
      "Episode 234 finished. Total reward: 100.0 (100 timesteps)\n",
      "Updating the policy...\n",
      "Updating finished!\n",
      "Episode 235 finished. Total reward: 100.0 (100 timesteps)\n",
      "Episode 236 finished. Total reward: 71.0 (71 timesteps)\n",
      "Episode 237 finished. Total reward: 100.0 (100 timesteps)\n",
      "Episode 238 finished. Total reward: 100.0 (100 timesteps)\n",
      "Episode 239 finished. Total reward: 59.0 (59 timesteps)\n",
      "Episode 240 finished. Total reward: 49.0 (49 timesteps)\n",
      "Episode 241 finished. Total reward: 100.0 (100 timesteps)\n",
      "Episode 242 finished. Total reward: 20.0 (20 timesteps)\n",
      "Episode 243 finished. Total reward: 59.0 (59 timesteps)\n",
      "Episode 244 finished. Total reward: 100.0 (100 timesteps)\n",
      "Episode 245 finished. Total reward: 100.0 (100 timesteps)\n",
      "Episode 246 finished. Total reward: 100.0 (100 timesteps)\n",
      "Episode 247 finished. Total reward: 100.0 (100 timesteps)\n",
      "Episode 248 finished. Total reward: 20.0 (20 timesteps)\n",
      "Episode 249 finished. Total reward: 100.0 (100 timesteps)\n",
      "Episode 250 finished. Total reward: 100.0 (100 timesteps)\n",
      "Episode 251 finished. Total reward: 100.0 (100 timesteps)\n",
      "Episode 252 finished. Total reward: 100.0 (100 timesteps)\n",
      "Episode 253 finished. Total reward: 100.0 (100 timesteps)\n",
      "Episode 254 finished. Total reward: 100.0 (100 timesteps)\n",
      "Episode 255 finished. Total reward: 34.0 (34 timesteps)\n",
      "Episode 256 finished. Total reward: 100.0 (100 timesteps)\n",
      "Episode 257 finished. Total reward: 95.0 (95 timesteps)\n",
      "Episode 258 finished. Total reward: 100.0 (100 timesteps)\n",
      "Updating the policy...\n",
      "Updating finished!\n",
      "Episode 259 finished. Total reward: 100.0 (100 timesteps)\n",
      "Episode 260 finished. Total reward: 97.0 (97 timesteps)\n",
      "Episode 261 finished. Total reward: 100.0 (100 timesteps)\n",
      "Episode 262 finished. Total reward: 100.0 (100 timesteps)\n",
      "Episode 263 finished. Total reward: 100.0 (100 timesteps)\n",
      "Episode 264 finished. Total reward: 100.0 (100 timesteps)\n",
      "Episode 265 finished. Total reward: 100.0 (100 timesteps)\n",
      "Episode 266 finished. Total reward: 100.0 (100 timesteps)\n",
      "Episode 267 finished. Total reward: 100.0 (100 timesteps)\n",
      "Episode 268 finished. Total reward: 100.0 (100 timesteps)\n",
      "Episode 269 finished. Total reward: 100.0 (100 timesteps)\n",
      "Episode 270 finished. Total reward: 100.0 (100 timesteps)\n",
      "Episode 271 finished. Total reward: 70.0 (70 timesteps)\n",
      "Episode 272 finished. Total reward: 23.0 (23 timesteps)\n",
      "Episode 273 finished. Total reward: 19.0 (19 timesteps)\n",
      "Episode 274 finished. Total reward: 100.0 (100 timesteps)\n",
      "Episode 275 finished. Total reward: 100.0 (100 timesteps)\n",
      "Episode 276 finished. Total reward: 100.0 (100 timesteps)\n",
      "Episode 277 finished. Total reward: 100.0 (100 timesteps)\n",
      "Episode 278 finished. Total reward: 100.0 (100 timesteps)\n",
      "Episode 279 finished. Total reward: 100.0 (100 timesteps)\n",
      "Episode 280 finished. Total reward: 100.0 (100 timesteps)\n",
      "Updating the policy...\n",
      "Updating finished!\n",
      "Episode 281 finished. Total reward: 100.0 (100 timesteps)\n",
      "Episode 282 finished. Total reward: 100.0 (100 timesteps)\n",
      "Episode 283 finished. Total reward: 100.0 (100 timesteps)\n",
      "Episode 284 finished. Total reward: 100.0 (100 timesteps)\n",
      "Episode 285 finished. Total reward: 100.0 (100 timesteps)\n",
      "Episode 286 finished. Total reward: 100.0 (100 timesteps)\n",
      "Episode 287 finished. Total reward: 100.0 (100 timesteps)\n",
      "Episode 288 finished. Total reward: 100.0 (100 timesteps)\n",
      "Episode 289 finished. Total reward: 77.0 (77 timesteps)\n",
      "Episode 290 finished. Total reward: 100.0 (100 timesteps)\n",
      "Episode 291 finished. Total reward: 94.0 (94 timesteps)\n",
      "Episode 292 finished. Total reward: 45.0 (45 timesteps)\n",
      "Episode 293 finished. Total reward: 100.0 (100 timesteps)\n",
      "Episode 294 finished. Total reward: 75.0 (75 timesteps)\n",
      "Episode 295 finished. Total reward: 83.0 (83 timesteps)\n",
      "Episode 296 finished. Total reward: 100.0 (100 timesteps)\n",
      "Episode 297 finished. Total reward: 100.0 (100 timesteps)\n",
      "Episode 298 finished. Total reward: 100.0 (100 timesteps)\n",
      "Episode 299 finished. Total reward: 100.0 (100 timesteps)\n",
      "Episode 300 finished. Total reward: 100.0 (100 timesteps)\n",
      "Episode 301 finished. Total reward: 100.0 (100 timesteps)\n",
      "Updating the policy...\n",
      "Updating finished!\n",
      "Episode 302 finished. Total reward: 100.0 (100 timesteps)\n",
      "Episode 303 finished. Total reward: 100.0 (100 timesteps)\n",
      "Episode 304 finished. Total reward: 100.0 (100 timesteps)\n",
      "Episode 305 finished. Total reward: 100.0 (100 timesteps)\n",
      "Episode 306 finished. Total reward: 100.0 (100 timesteps)\n",
      "Episode 307 finished. Total reward: 100.0 (100 timesteps)\n",
      "Episode 308 finished. Total reward: 100.0 (100 timesteps)\n",
      "Episode 309 finished. Total reward: 100.0 (100 timesteps)\n",
      "Episode 310 finished. Total reward: 100.0 (100 timesteps)\n",
      "Episode 311 finished. Total reward: 100.0 (100 timesteps)\n",
      "Episode 312 finished. Total reward: 100.0 (100 timesteps)\n",
      "Episode 313 finished. Total reward: 100.0 (100 timesteps)\n",
      "Episode 314 finished. Total reward: 100.0 (100 timesteps)\n",
      "Episode 315 finished. Total reward: 100.0 (100 timesteps)\n",
      "Episode 316 finished. Total reward: 100.0 (100 timesteps)\n",
      "Episode 317 finished. Total reward: 100.0 (100 timesteps)\n",
      "Episode 318 finished. Total reward: 100.0 (100 timesteps)\n",
      "Episode 319 finished. Total reward: 100.0 (100 timesteps)\n",
      "Episode 320 finished. Total reward: 100.0 (100 timesteps)\n",
      "Episode 321 finished. Total reward: 100.0 (100 timesteps)\n",
      "Updating the policy...\n",
      "Updating finished!\n",
      "Episode 322 finished. Total reward: 100.0 (100 timesteps)\n",
      "Episode 323 finished. Total reward: 100.0 (100 timesteps)\n",
      "Episode 324 finished. Total reward: 100.0 (100 timesteps)\n",
      "Episode 325 finished. Total reward: 100.0 (100 timesteps)\n",
      "Episode 326 finished. Total reward: 100.0 (100 timesteps)\n",
      "Episode 327 finished. Total reward: 100.0 (100 timesteps)\n",
      "Episode 328 finished. Total reward: 100.0 (100 timesteps)\n",
      "Episode 329 finished. Total reward: 100.0 (100 timesteps)\n",
      "Episode 330 finished. Total reward: 100.0 (100 timesteps)\n",
      "Episode 331 finished. Total reward: 100.0 (100 timesteps)\n",
      "Episode 332 finished. Total reward: 100.0 (100 timesteps)\n",
      "Episode 333 finished. Total reward: 100.0 (100 timesteps)\n",
      "Episode 334 finished. Total reward: 100.0 (100 timesteps)\n",
      "Episode 335 finished. Total reward: 100.0 (100 timesteps)\n",
      "Episode 336 finished. Total reward: 68.0 (68 timesteps)\n",
      "Episode 337 finished. Total reward: 100.0 (100 timesteps)\n",
      "Episode 338 finished. Total reward: 100.0 (100 timesteps)\n",
      "Episode 339 finished. Total reward: 64.0 (64 timesteps)\n",
      "Episode 340 finished. Total reward: 100.0 (100 timesteps)\n",
      "Episode 341 finished. Total reward: 100.0 (100 timesteps)\n",
      "Episode 342 finished. Total reward: 100.0 (100 timesteps)\n",
      "Updating the policy...\n",
      "Updating finished!\n",
      "Episode 343 finished. Total reward: 100.0 (100 timesteps)\n",
      "Episode 344 finished. Total reward: 100.0 (100 timesteps)\n",
      "Episode 345 finished. Total reward: 21.0 (21 timesteps)\n",
      "Episode 346 finished. Total reward: 100.0 (100 timesteps)\n",
      "Episode 347 finished. Total reward: 100.0 (100 timesteps)\n",
      "Episode 348 finished. Total reward: 100.0 (100 timesteps)\n",
      "Episode 349 finished. Total reward: 100.0 (100 timesteps)\n",
      "Episode 350 finished. Total reward: 100.0 (100 timesteps)\n",
      "Episode 351 finished. Total reward: 100.0 (100 timesteps)\n",
      "Episode 352 finished. Total reward: 52.0 (52 timesteps)\n",
      "Episode 353 finished. Total reward: 98.0 (98 timesteps)\n",
      "Episode 354 finished. Total reward: 100.0 (100 timesteps)\n",
      "Episode 355 finished. Total reward: 100.0 (100 timesteps)\n",
      "Episode 356 finished. Total reward: 100.0 (100 timesteps)\n",
      "Episode 357 finished. Total reward: 100.0 (100 timesteps)\n",
      "Episode 358 finished. Total reward: 100.0 (100 timesteps)\n",
      "Episode 359 finished. Total reward: 90.0 (90 timesteps)\n",
      "Episode 360 finished. Total reward: 100.0 (100 timesteps)\n",
      "Episode 361 finished. Total reward: 100.0 (100 timesteps)\n",
      "Episode 362 finished. Total reward: 100.0 (100 timesteps)\n",
      "Episode 363 finished. Total reward: 100.0 (100 timesteps)\n",
      "Updating the policy...\n",
      "Updating finished!\n",
      "Episode 364 finished. Total reward: 100.0 (100 timesteps)\n",
      "Episode 365 finished. Total reward: 100.0 (100 timesteps)\n",
      "Episode 366 finished. Total reward: 100.0 (100 timesteps)\n",
      "Episode 367 finished. Total reward: 100.0 (100 timesteps)\n",
      "Episode 368 finished. Total reward: 100.0 (100 timesteps)\n",
      "Episode 369 finished. Total reward: 100.0 (100 timesteps)\n",
      "Episode 370 finished. Total reward: 100.0 (100 timesteps)\n",
      "Episode 371 finished. Total reward: 100.0 (100 timesteps)\n",
      "Episode 372 finished. Total reward: 100.0 (100 timesteps)\n",
      "Episode 373 finished. Total reward: 100.0 (100 timesteps)\n",
      "Episode 374 finished. Total reward: 100.0 (100 timesteps)\n",
      "Episode 375 finished. Total reward: 100.0 (100 timesteps)\n",
      "Episode 376 finished. Total reward: 100.0 (100 timesteps)\n",
      "Episode 377 finished. Total reward: 100.0 (100 timesteps)\n",
      "Episode 378 finished. Total reward: 100.0 (100 timesteps)\n",
      "Episode 379 finished. Total reward: 100.0 (100 timesteps)\n",
      "Episode 380 finished. Total reward: 100.0 (100 timesteps)\n",
      "Episode 381 finished. Total reward: 100.0 (100 timesteps)\n",
      "Episode 382 finished. Total reward: 100.0 (100 timesteps)\n",
      "Episode 383 finished. Total reward: 100.0 (100 timesteps)\n",
      "Updating the policy...\n",
      "Updating finished!\n",
      "Episode 384 finished. Total reward: 100.0 (100 timesteps)\n",
      "Episode 385 finished. Total reward: 100.0 (100 timesteps)\n",
      "Episode 386 finished. Total reward: 55.0 (55 timesteps)\n",
      "Episode 387 finished. Total reward: 79.0 (79 timesteps)\n",
      "Episode 388 finished. Total reward: 100.0 (100 timesteps)\n",
      "Episode 389 finished. Total reward: 46.0 (46 timesteps)\n",
      "Episode 390 finished. Total reward: 27.0 (27 timesteps)\n",
      "Episode 391 finished. Total reward: 100.0 (100 timesteps)\n",
      "Episode 392 finished. Total reward: 32.0 (32 timesteps)\n",
      "Episode 393 finished. Total reward: 100.0 (100 timesteps)\n",
      "Episode 394 finished. Total reward: 100.0 (100 timesteps)\n",
      "Episode 395 finished. Total reward: 23.0 (23 timesteps)\n",
      "Episode 396 finished. Total reward: 92.0 (92 timesteps)\n",
      "Episode 397 finished. Total reward: 100.0 (100 timesteps)\n",
      "Episode 398 finished. Total reward: 100.0 (100 timesteps)\n",
      "Episode 399 finished. Total reward: 100.0 (100 timesteps)\n",
      "Episode 400 finished. Total reward: 100.0 (100 timesteps)\n",
      "Episode 401 finished. Total reward: 100.0 (100 timesteps)\n",
      "Episode 402 finished. Total reward: 100.0 (100 timesteps)\n",
      "Episode 403 finished. Total reward: 97.0 (97 timesteps)\n",
      "Episode 404 finished. Total reward: 100.0 (100 timesteps)\n",
      "Episode 405 finished. Total reward: 38.0 (38 timesteps)\n",
      "Episode 406 finished. Total reward: 59.0 (59 timesteps)\n",
      "Episode 407 finished. Total reward: 100.0 (100 timesteps)\n",
      "Updating the policy...\n",
      "Updating finished!\n",
      "Episode 408 finished. Total reward: 100.0 (100 timesteps)\n",
      "Episode 409 finished. Total reward: 100.0 (100 timesteps)\n",
      "Episode 410 finished. Total reward: 100.0 (100 timesteps)\n",
      "Episode 411 finished. Total reward: 100.0 (100 timesteps)\n",
      "Episode 412 finished. Total reward: 100.0 (100 timesteps)\n",
      "Episode 413 finished. Total reward: 100.0 (100 timesteps)\n",
      "Episode 414 finished. Total reward: 100.0 (100 timesteps)\n",
      "Episode 415 finished. Total reward: 100.0 (100 timesteps)\n",
      "Episode 416 finished. Total reward: 100.0 (100 timesteps)\n",
      "Episode 417 finished. Total reward: 100.0 (100 timesteps)\n",
      "Episode 418 finished. Total reward: 100.0 (100 timesteps)\n",
      "Episode 419 finished. Total reward: 100.0 (100 timesteps)\n",
      "Episode 420 finished. Total reward: 100.0 (100 timesteps)\n",
      "Episode 421 finished. Total reward: 100.0 (100 timesteps)\n",
      "Episode 422 finished. Total reward: 94.0 (94 timesteps)\n",
      "Episode 423 finished. Total reward: 100.0 (100 timesteps)\n",
      "Episode 424 finished. Total reward: 100.0 (100 timesteps)\n",
      "Episode 425 finished. Total reward: 100.0 (100 timesteps)\n",
      "Episode 426 finished. Total reward: 83.0 (83 timesteps)\n",
      "Episode 427 finished. Total reward: 100.0 (100 timesteps)\n",
      "Episode 428 finished. Total reward: 100.0 (100 timesteps)\n",
      "Updating the policy...\n",
      "Updating finished!\n",
      "Episode 429 finished. Total reward: 100.0 (100 timesteps)\n",
      "Episode 430 finished. Total reward: 100.0 (100 timesteps)\n",
      "Episode 431 finished. Total reward: 100.0 (100 timesteps)\n",
      "Episode 432 finished. Total reward: 100.0 (100 timesteps)\n",
      "Episode 433 finished. Total reward: 100.0 (100 timesteps)\n",
      "Episode 434 finished. Total reward: 100.0 (100 timesteps)\n",
      "Episode 435 finished. Total reward: 100.0 (100 timesteps)\n",
      "Episode 436 finished. Total reward: 100.0 (100 timesteps)\n",
      "Episode 437 finished. Total reward: 100.0 (100 timesteps)\n",
      "Episode 438 finished. Total reward: 100.0 (100 timesteps)\n",
      "Episode 439 finished. Total reward: 100.0 (100 timesteps)\n",
      "Episode 440 finished. Total reward: 100.0 (100 timesteps)\n",
      "Episode 441 finished. Total reward: 100.0 (100 timesteps)\n",
      "Episode 442 finished. Total reward: 100.0 (100 timesteps)\n",
      "Episode 443 finished. Total reward: 100.0 (100 timesteps)\n",
      "Episode 444 finished. Total reward: 100.0 (100 timesteps)\n",
      "Episode 445 finished. Total reward: 100.0 (100 timesteps)\n",
      "Episode 446 finished. Total reward: 100.0 (100 timesteps)\n",
      "Episode 447 finished. Total reward: 100.0 (100 timesteps)\n",
      "Episode 448 finished. Total reward: 100.0 (100 timesteps)\n",
      "Updating the policy...\n",
      "Updating finished!\n",
      "Episode 449 finished. Total reward: 100.0 (100 timesteps)\n",
      "Episode 450 finished. Total reward: 24.0 (24 timesteps)\n",
      "Episode 451 finished. Total reward: 100.0 (100 timesteps)\n",
      "Episode 452 finished. Total reward: 100.0 (100 timesteps)\n",
      "Episode 453 finished. Total reward: 26.0 (26 timesteps)\n",
      "Episode 454 finished. Total reward: 100.0 (100 timesteps)\n",
      "Episode 455 finished. Total reward: 100.0 (100 timesteps)\n",
      "Episode 456 finished. Total reward: 48.0 (48 timesteps)\n",
      "Episode 457 finished. Total reward: 22.0 (22 timesteps)\n",
      "Episode 458 finished. Total reward: 100.0 (100 timesteps)\n",
      "Episode 459 finished. Total reward: 100.0 (100 timesteps)\n",
      "Episode 460 finished. Total reward: 30.0 (30 timesteps)\n",
      "Episode 461 finished. Total reward: 100.0 (100 timesteps)\n",
      "Episode 462 finished. Total reward: 23.0 (23 timesteps)\n",
      "Episode 463 finished. Total reward: 100.0 (100 timesteps)\n",
      "Episode 464 finished. Total reward: 100.0 (100 timesteps)\n",
      "Episode 465 finished. Total reward: 100.0 (100 timesteps)\n",
      "Episode 466 finished. Total reward: 96.0 (96 timesteps)\n",
      "Episode 467 finished. Total reward: 100.0 (100 timesteps)\n",
      "Episode 468 finished. Total reward: 100.0 (100 timesteps)\n",
      "Episode 469 finished. Total reward: 100.0 (100 timesteps)\n",
      "Episode 470 finished. Total reward: 100.0 (100 timesteps)\n",
      "Episode 471 finished. Total reward: 100.0 (100 timesteps)\n",
      "Episode 472 finished. Total reward: 100.0 (100 timesteps)\n",
      "Episode 473 finished. Total reward: 37.0 (37 timesteps)\n",
      "Updating the policy...\n",
      "Updating finished!\n",
      "Episode 474 finished. Total reward: 100.0 (100 timesteps)\n",
      "Episode 475 finished. Total reward: 100.0 (100 timesteps)\n",
      "Episode 476 finished. Total reward: 100.0 (100 timesteps)\n",
      "Episode 477 finished. Total reward: 100.0 (100 timesteps)\n",
      "Episode 478 finished. Total reward: 100.0 (100 timesteps)\n",
      "Episode 479 finished. Total reward: 100.0 (100 timesteps)\n",
      "Episode 480 finished. Total reward: 33.0 (33 timesteps)\n",
      "Episode 481 finished. Total reward: 100.0 (100 timesteps)\n",
      "Episode 482 finished. Total reward: 100.0 (100 timesteps)\n",
      "Episode 483 finished. Total reward: 100.0 (100 timesteps)\n",
      "Episode 484 finished. Total reward: 100.0 (100 timesteps)\n",
      "Episode 485 finished. Total reward: 100.0 (100 timesteps)\n",
      "Episode 486 finished. Total reward: 23.0 (23 timesteps)\n",
      "Episode 487 finished. Total reward: 100.0 (100 timesteps)\n",
      "Episode 488 finished. Total reward: 100.0 (100 timesteps)\n",
      "Episode 489 finished. Total reward: 100.0 (100 timesteps)\n",
      "Episode 490 finished. Total reward: 100.0 (100 timesteps)\n",
      "Episode 491 finished. Total reward: 100.0 (100 timesteps)\n",
      "Episode 492 finished. Total reward: 100.0 (100 timesteps)\n",
      "Episode 493 finished. Total reward: 100.0 (100 timesteps)\n",
      "Episode 494 finished. Total reward: 100.0 (100 timesteps)\n",
      "Episode 495 finished. Total reward: 46.0 (46 timesteps)\n",
      "Updating the policy...\n",
      "Updating finished!\n",
      "Episode 496 finished. Total reward: 100.0 (100 timesteps)\n",
      "Episode 497 finished. Total reward: 100.0 (100 timesteps)\n",
      "Episode 498 finished. Total reward: 100.0 (100 timesteps)\n",
      "Episode 499 finished. Total reward: 100.0 (100 timesteps)\n",
      "Episode 500 finished. Total reward: 100.0 (100 timesteps)\n",
      "Model saved to /notebooks/rl2023/ex1/results/model/CartPole-v1_params.pt\n",
      "------Training finished.------\n",
      "Numpy/Torch/Random Seed:  367\n",
      "Loading model from /notebooks/rl2023/ex1/results/model/CartPole-v1_params.pt ...\n",
      "Testing...\n",
      "Test ep reward: 134.0 seed: 431\n",
      "Test ep reward: 131.0 seed: 752\n",
      "Test ep reward: 130.0 seed: 445\n",
      "Test ep reward: 149.0 seed: 156\n",
      "Test ep reward: 134.0 seed: 193\n",
      "Test ep reward: 126.0 seed: 747\n",
      "Test ep reward: 126.0 seed: 999\n",
      "Test ep reward: 135.0 seed: 6\n",
      "Test ep reward: 127.0 seed: 255\n",
      "Test ep reward: 123.0 seed: 708\n",
      "Average test reward: 131.5 episode length: 131.5\n",
      "Numpy/Torch/Random Seed:  66\n"
     ]
    },
    {
     "data": {
      "text/html": [
       "Changes to your `wandb` environment variables will be ignored because your `wandb` session has already started. For more information on how to modify your settings with `wandb.init()` arguments, please refer to <a href='https://wandb.me/wandb-init' target=\"_blank\">the W&B docs</a>."
      ],
      "text/plain": [
       "<IPython.core.display.HTML object>"
      ]
     },
     "metadata": {},
     "output_type": "display_data"
    },
    {
     "data": {
      "text/html": [
       "Finishing last run (ID:vkkhv3x2) before initializing another..."
      ],
      "text/plain": [
       "<IPython.core.display.HTML object>"
      ]
     },
     "metadata": {},
     "output_type": "display_data"
    },
    {
     "data": {
      "text/html": [
       "Waiting for W&B process to finish... <strong style=\"color:green\">(success).</strong>"
      ],
      "text/plain": [
       "<IPython.core.display.HTML object>"
      ]
     },
     "metadata": {},
     "output_type": "display_data"
    },
    {
     "data": {
      "application/vnd.jupyter.widget-view+json": {
       "model_id": "a156d77404634a41bbcffdbf6484ca67",
       "version_major": 2,
       "version_minor": 0
      },
      "text/plain": [
       "VBox(children=(Label(value='0.002 MB of 0.002 MB uploaded (0.000 MB deduped)\\r'), FloatProgress(value=1.0, max…"
      ]
     },
     "metadata": {},
     "output_type": "display_data"
    },
    {
     "data": {
      "text/html": [
       "<style>\n",
       "    table.wandb td:nth-child(1) { padding: 0 10px; text-align: left ; width: auto;} td:nth-child(2) {text-align: left ; width: 100%}\n",
       "    .wandb-row { display: flex; flex-direction: row; flex-wrap: wrap; justify-content: flex-start; width: 100% }\n",
       "    .wandb-col { display: flex; flex-direction: column; flex-basis: 100%; flex: 1; padding: 10px; }\n",
       "    </style>\n",
       "<div class=\"wandb-row\"><div class=\"wandb-col\"><h3>Run history:</h3><br/><table class=\"wandb\"><tr><td>ep_reward</td><td>▁▁▂▁▁▁▃▂▃▁▄▂▂▂▅▁▂█▄▅▃██▇████▇██▂███████▄</td></tr><tr><td>episodes</td><td>▁▁▁▂▂▂▂▂▂▃▃▃▃▃▄▄▄▄▄▄▅▅▅▅▅▅▆▆▆▆▆▇▇▇▇▇▇███</td></tr><tr><td>num_updates</td><td>▁▁▁▁▁▁▁▁▁▁▁▁▁▁▁▁▁▁▁▁▁▁▁▁▁▁▁█▁▁▁▁▁▁▁▁▁▁▁▁</td></tr><tr><td>timesteps</td><td>▁▁▂▁▁▁▃▂▃▁▄▂▂▂▅▁▂█▄▅▃██▇████▇██▂███████▄</td></tr></table><br/></div><div class=\"wandb-col\"><h3>Run summary:</h3><br/><table class=\"wandb\"><tr><td>ep_reward</td><td>100.0</td></tr><tr><td>episodes</td><td>500</td></tr><tr><td>num_updates</td><td>0</td></tr><tr><td>timesteps</td><td>100</td></tr></table><br/></div></div>"
      ],
      "text/plain": [
       "<IPython.core.display.HTML object>"
      ]
     },
     "metadata": {},
     "output_type": "display_data"
    },
    {
     "data": {
      "text/html": [
       " View run <strong style=\"color:#cdcd00\">ex1-CartPole-v1-9-1694671138</strong> at: <a href='https://wandb.ai/r-l/rl_aalto/runs/vkkhv3x2' target=\"_blank\">https://wandb.ai/r-l/rl_aalto/runs/vkkhv3x2</a><br/>Synced 6 W&B file(s), 0 media file(s), 0 artifact file(s) and 0 other file(s)"
      ],
      "text/plain": [
       "<IPython.core.display.HTML object>"
      ]
     },
     "metadata": {},
     "output_type": "display_data"
    },
    {
     "data": {
      "text/html": [
       "Find logs at: <code>./wandb/run-20230914_085858-vkkhv3x2/logs</code>"
      ],
      "text/plain": [
       "<IPython.core.display.HTML object>"
      ]
     },
     "metadata": {},
     "output_type": "display_data"
    },
    {
     "data": {
      "text/html": [
       "Successfully finished last run (ID:vkkhv3x2). Initializing new run:<br/>"
      ],
      "text/plain": [
       "<IPython.core.display.HTML object>"
      ]
     },
     "metadata": {},
     "output_type": "display_data"
    },
    {
     "data": {
      "application/vnd.jupyter.widget-view+json": {
       "model_id": "821685129a1a499791d94aedc5854dc6",
       "version_major": 2,
       "version_minor": 0
      },
      "text/plain": [
       "VBox(children=(Label(value='Waiting for wandb.init()...\\r'), FloatProgress(value=0.016669726154456537, max=1.0…"
      ]
     },
     "metadata": {},
     "output_type": "display_data"
    },
    {
     "data": {
      "text/html": [
       "wandb version 0.15.10 is available!  To upgrade, please run:\n",
       " $ pip install wandb --upgrade"
      ],
      "text/plain": [
       "<IPython.core.display.HTML object>"
      ]
     },
     "metadata": {},
     "output_type": "display_data"
    },
    {
     "data": {
      "text/html": [
       "Tracking run with wandb version 0.15.9"
      ],
      "text/plain": [
       "<IPython.core.display.HTML object>"
      ]
     },
     "metadata": {},
     "output_type": "display_data"
    },
    {
     "data": {
      "text/html": [
       "Run data is saved locally in <code>/notebooks/rl2023/ex1/wandb/run-20230914_090252-98myc4kd</code>"
      ],
      "text/plain": [
       "<IPython.core.display.HTML object>"
      ]
     },
     "metadata": {},
     "output_type": "display_data"
    },
    {
     "data": {
      "text/html": [
       "Syncing run <strong><a href='https://wandb.ai/r-l/rl_aalto/runs/98myc4kd' target=\"_blank\">ex1-CartPole-v1-66-1694671372</a></strong> to <a href='https://wandb.ai/r-l/rl_aalto' target=\"_blank\">Weights & Biases</a> (<a href='https://wandb.me/run' target=\"_blank\">docs</a>)<br/>"
      ],
      "text/plain": [
       "<IPython.core.display.HTML object>"
      ]
     },
     "metadata": {},
     "output_type": "display_data"
    },
    {
     "data": {
      "text/html": [
       " View project at <a href='https://wandb.ai/r-l/rl_aalto' target=\"_blank\">https://wandb.ai/r-l/rl_aalto</a>"
      ],
      "text/plain": [
       "<IPython.core.display.HTML object>"
      ]
     },
     "metadata": {},
     "output_type": "display_data"
    },
    {
     "data": {
      "text/html": [
       " View run at <a href='https://wandb.ai/r-l/rl_aalto/runs/98myc4kd' target=\"_blank\">https://wandb.ai/r-l/rl_aalto/runs/98myc4kd</a>"
      ],
      "text/plain": [
       "<IPython.core.display.HTML object>"
      ]
     },
     "metadata": {},
     "output_type": "display_data"
    },
    {
     "name": "stdout",
     "output_type": "stream",
     "text": [
      "Configuration Settings: {'exp_name': 'ex1', 'seed': 66, 'env_name': 'CartPole-v1', 'max_episode_steps': 100, 'train_episodes': 500, 'batch_size': 64, 'min_update_samples': 2000, 'testing': False, 'model_path': 'default', 'save_video': True, 'save_model': True, 'save_logging': True, 'silent': False, 'use_wandb': True, 'run_suffix': 0}\n",
      "Training device: cpu\n",
      "Observation space dimensions: 4\n",
      "Action space dimensions: 2\n",
      "\n",
      "Episode 0 finished. Total reward: 13.0 (13 timesteps)\n",
      "Episode 1 finished. Total reward: 18.0 (18 timesteps)\n",
      "Episode 2 finished. Total reward: 18.0 (18 timesteps)\n",
      "Episode 3 finished. Total reward: 32.0 (32 timesteps)\n",
      "Episode 4 finished. Total reward: 16.0 (16 timesteps)\n",
      "Episode 5 finished. Total reward: 10.0 (10 timesteps)\n",
      "Episode 6 finished. Total reward: 9.0 (9 timesteps)\n",
      "Episode 7 finished. Total reward: 17.0 (17 timesteps)\n",
      "Episode 8 finished. Total reward: 14.0 (14 timesteps)\n",
      "Episode 9 finished. Total reward: 20.0 (20 timesteps)\n",
      "Episode 10 finished. Total reward: 12.0 (12 timesteps)\n",
      "Episode 11 finished. Total reward: 15.0 (15 timesteps)\n",
      "Episode 12 finished. Total reward: 26.0 (26 timesteps)\n",
      "Episode 13 finished. Total reward: 9.0 (9 timesteps)\n",
      "Episode 14 finished. Total reward: 27.0 (27 timesteps)\n",
      "Episode 15 finished. Total reward: 14.0 (14 timesteps)\n",
      "Episode 16 finished. Total reward: 29.0 (29 timesteps)\n",
      "Episode 17 finished. Total reward: 18.0 (18 timesteps)\n",
      "Episode 18 finished. Total reward: 38.0 (38 timesteps)\n",
      "Episode 19 finished. Total reward: 49.0 (49 timesteps)\n",
      "Episode 20 finished. Total reward: 17.0 (17 timesteps)\n",
      "Episode 21 finished. Total reward: 67.0 (67 timesteps)\n",
      "Episode 22 finished. Total reward: 16.0 (16 timesteps)\n",
      "Episode 23 finished. Total reward: 20.0 (20 timesteps)\n",
      "Episode 24 finished. Total reward: 12.0 (12 timesteps)\n",
      "Episode 25 finished. Total reward: 18.0 (18 timesteps)\n",
      "Episode 26 finished. Total reward: 31.0 (31 timesteps)\n",
      "Episode 27 finished. Total reward: 14.0 (14 timesteps)\n",
      "Episode 28 finished. Total reward: 9.0 (9 timesteps)\n",
      "Episode 29 finished. Total reward: 16.0 (16 timesteps)\n",
      "Episode 30 finished. Total reward: 42.0 (42 timesteps)\n",
      "Episode 31 finished. Total reward: 9.0 (9 timesteps)\n",
      "Episode 32 finished. Total reward: 17.0 (17 timesteps)\n",
      "Episode 33 finished. Total reward: 27.0 (27 timesteps)\n",
      "Episode 34 finished. Total reward: 17.0 (17 timesteps)\n",
      "Episode 35 finished. Total reward: 10.0 (10 timesteps)\n",
      "Episode 36 finished. Total reward: 26.0 (26 timesteps)\n",
      "Episode 37 finished. Total reward: 14.0 (14 timesteps)\n",
      "Episode 38 finished. Total reward: 30.0 (30 timesteps)\n",
      "Episode 39 finished. Total reward: 37.0 (37 timesteps)\n",
      "Episode 40 finished. Total reward: 24.0 (24 timesteps)\n",
      "Episode 41 finished. Total reward: 24.0 (24 timesteps)\n",
      "Episode 42 finished. Total reward: 18.0 (18 timesteps)\n",
      "Episode 43 finished. Total reward: 13.0 (13 timesteps)\n",
      "Episode 44 finished. Total reward: 17.0 (17 timesteps)\n",
      "Episode 45 finished. Total reward: 14.0 (14 timesteps)\n",
      "Episode 46 finished. Total reward: 23.0 (23 timesteps)\n",
      "Episode 47 finished. Total reward: 34.0 (34 timesteps)\n",
      "Episode 48 finished. Total reward: 49.0 (49 timesteps)\n",
      "Episode 49 finished. Total reward: 21.0 (21 timesteps)\n",
      "Episode 50 finished. Total reward: 15.0 (15 timesteps)\n",
      "Episode 51 finished. Total reward: 17.0 (17 timesteps)\n",
      "Episode 52 finished. Total reward: 23.0 (23 timesteps)\n",
      "Episode 53 finished. Total reward: 29.0 (29 timesteps)\n",
      "Episode 54 finished. Total reward: 25.0 (25 timesteps)\n",
      "Episode 55 finished. Total reward: 11.0 (11 timesteps)\n",
      "Episode 56 finished. Total reward: 12.0 (12 timesteps)\n",
      "Episode 57 finished. Total reward: 26.0 (26 timesteps)\n",
      "Episode 58 finished. Total reward: 9.0 (9 timesteps)\n",
      "Episode 59 finished. Total reward: 10.0 (10 timesteps)\n",
      "Episode 60 finished. Total reward: 27.0 (27 timesteps)\n",
      "Episode 61 finished. Total reward: 36.0 (36 timesteps)\n",
      "Episode 62 finished. Total reward: 17.0 (17 timesteps)\n",
      "Episode 63 finished. Total reward: 19.0 (19 timesteps)\n",
      "Episode 64 finished. Total reward: 24.0 (24 timesteps)\n",
      "Episode 65 finished. Total reward: 16.0 (16 timesteps)\n",
      "Episode 66 finished. Total reward: 32.0 (32 timesteps)\n",
      "Episode 67 finished. Total reward: 16.0 (16 timesteps)\n",
      "Episode 68 finished. Total reward: 16.0 (16 timesteps)\n",
      "Episode 69 finished. Total reward: 14.0 (14 timesteps)\n",
      "Episode 70 finished. Total reward: 17.0 (17 timesteps)\n",
      "Episode 71 finished. Total reward: 13.0 (13 timesteps)\n",
      "Episode 72 finished. Total reward: 32.0 (32 timesteps)\n",
      "Episode 73 finished. Total reward: 16.0 (16 timesteps)\n",
      "Episode 74 finished. Total reward: 18.0 (18 timesteps)\n",
      "Episode 75 finished. Total reward: 25.0 (25 timesteps)\n",
      "Episode 76 finished. Total reward: 26.0 (26 timesteps)\n",
      "Episode 77 finished. Total reward: 21.0 (21 timesteps)\n",
      "Episode 78 finished. Total reward: 19.0 (19 timesteps)\n",
      "Episode 79 finished. Total reward: 18.0 (18 timesteps)\n",
      "Episode 80 finished. Total reward: 11.0 (11 timesteps)\n",
      "Episode 81 finished. Total reward: 28.0 (28 timesteps)\n",
      "Episode 82 finished. Total reward: 15.0 (15 timesteps)\n",
      "Episode 83 finished. Total reward: 38.0 (38 timesteps)\n",
      "Episode 84 finished. Total reward: 13.0 (13 timesteps)\n",
      "Episode 85 finished. Total reward: 20.0 (20 timesteps)\n",
      "Episode 86 finished. Total reward: 26.0 (26 timesteps)\n",
      "Episode 87 finished. Total reward: 22.0 (22 timesteps)\n",
      "Episode 88 finished. Total reward: 22.0 (22 timesteps)\n",
      "Episode 89 finished. Total reward: 16.0 (16 timesteps)\n",
      "Episode 90 finished. Total reward: 23.0 (23 timesteps)\n",
      "Episode 91 finished. Total reward: 22.0 (22 timesteps)\n",
      "Episode 92 finished. Total reward: 15.0 (15 timesteps)\n",
      "Episode 93 finished. Total reward: 13.0 (13 timesteps)\n",
      "Updating the policy...\n",
      "Updating finished!\n",
      "Episode 94 finished. Total reward: 28.0 (28 timesteps)\n",
      "Episode 95 finished. Total reward: 17.0 (17 timesteps)\n",
      "Episode 96 finished. Total reward: 32.0 (32 timesteps)\n",
      "Episode 97 finished. Total reward: 19.0 (19 timesteps)\n",
      "Episode 98 finished. Total reward: 13.0 (13 timesteps)\n",
      "Episode 99 finished. Total reward: 16.0 (16 timesteps)\n",
      "Episode 100 finished. Total reward: 25.0 (25 timesteps)\n",
      "Episode 101 finished. Total reward: 29.0 (29 timesteps)\n",
      "Episode 102 finished. Total reward: 22.0 (22 timesteps)\n",
      "Episode 103 finished. Total reward: 12.0 (12 timesteps)\n",
      "Episode 104 finished. Total reward: 23.0 (23 timesteps)\n",
      "Episode 105 finished. Total reward: 24.0 (24 timesteps)\n",
      "Episode 106 finished. Total reward: 50.0 (50 timesteps)\n",
      "Episode 107 finished. Total reward: 52.0 (52 timesteps)\n",
      "Episode 108 finished. Total reward: 19.0 (19 timesteps)\n",
      "Episode 109 finished. Total reward: 12.0 (12 timesteps)\n",
      "Episode 110 finished. Total reward: 27.0 (27 timesteps)\n",
      "Episode 111 finished. Total reward: 18.0 (18 timesteps)\n",
      "Episode 112 finished. Total reward: 28.0 (28 timesteps)\n",
      "Episode 113 finished. Total reward: 77.0 (77 timesteps)\n",
      "Episode 114 finished. Total reward: 20.0 (20 timesteps)\n",
      "Episode 115 finished. Total reward: 32.0 (32 timesteps)\n",
      "Episode 116 finished. Total reward: 20.0 (20 timesteps)\n",
      "Episode 117 finished. Total reward: 21.0 (21 timesteps)\n",
      "Episode 118 finished. Total reward: 14.0 (14 timesteps)\n",
      "Episode 119 finished. Total reward: 33.0 (33 timesteps)\n",
      "Episode 120 finished. Total reward: 31.0 (31 timesteps)\n",
      "Episode 121 finished. Total reward: 19.0 (19 timesteps)\n",
      "Episode 122 finished. Total reward: 28.0 (28 timesteps)\n",
      "Episode 123 finished. Total reward: 26.0 (26 timesteps)\n",
      "Episode 124 finished. Total reward: 82.0 (82 timesteps)\n",
      "Episode 125 finished. Total reward: 25.0 (25 timesteps)\n",
      "Episode 126 finished. Total reward: 30.0 (30 timesteps)\n",
      "Episode 127 finished. Total reward: 19.0 (19 timesteps)\n",
      "Episode 128 finished. Total reward: 12.0 (12 timesteps)\n",
      "Episode 129 finished. Total reward: 47.0 (47 timesteps)\n",
      "Episode 130 finished. Total reward: 39.0 (39 timesteps)\n",
      "Episode 131 finished. Total reward: 19.0 (19 timesteps)\n",
      "Episode 132 finished. Total reward: 20.0 (20 timesteps)\n",
      "Episode 133 finished. Total reward: 37.0 (37 timesteps)\n",
      "Episode 134 finished. Total reward: 46.0 (46 timesteps)\n",
      "Episode 135 finished. Total reward: 52.0 (52 timesteps)\n",
      "Episode 136 finished. Total reward: 12.0 (12 timesteps)\n",
      "Episode 137 finished. Total reward: 17.0 (17 timesteps)\n",
      "Episode 138 finished. Total reward: 15.0 (15 timesteps)\n",
      "Episode 139 finished. Total reward: 25.0 (25 timesteps)\n",
      "Episode 140 finished. Total reward: 11.0 (11 timesteps)\n",
      "Episode 141 finished. Total reward: 18.0 (18 timesteps)\n",
      "Episode 142 finished. Total reward: 10.0 (10 timesteps)\n",
      "Episode 143 finished. Total reward: 13.0 (13 timesteps)\n",
      "Episode 144 finished. Total reward: 45.0 (45 timesteps)\n",
      "Episode 145 finished. Total reward: 41.0 (41 timesteps)\n",
      "Episode 146 finished. Total reward: 18.0 (18 timesteps)\n",
      "Episode 147 finished. Total reward: 10.0 (10 timesteps)\n",
      "Episode 148 finished. Total reward: 16.0 (16 timesteps)\n",
      "Episode 149 finished. Total reward: 75.0 (75 timesteps)\n",
      "Episode 150 finished. Total reward: 49.0 (49 timesteps)\n",
      "Episode 151 finished. Total reward: 39.0 (39 timesteps)\n",
      "Episode 152 finished. Total reward: 16.0 (16 timesteps)\n",
      "Episode 153 finished. Total reward: 16.0 (16 timesteps)\n",
      "Episode 154 finished. Total reward: 19.0 (19 timesteps)\n",
      "Episode 155 finished. Total reward: 45.0 (45 timesteps)\n",
      "Episode 156 finished. Total reward: 17.0 (17 timesteps)\n",
      "Episode 157 finished. Total reward: 19.0 (19 timesteps)\n",
      "Episode 158 finished. Total reward: 20.0 (20 timesteps)\n",
      "Episode 159 finished. Total reward: 23.0 (23 timesteps)\n",
      "Episode 160 finished. Total reward: 32.0 (32 timesteps)\n",
      "Episode 161 finished. Total reward: 11.0 (11 timesteps)\n",
      "Episode 162 finished. Total reward: 44.0 (44 timesteps)\n",
      "Episode 163 finished. Total reward: 14.0 (14 timesteps)\n",
      "Episode 164 finished. Total reward: 17.0 (17 timesteps)\n",
      "Episode 165 finished. Total reward: 12.0 (12 timesteps)\n",
      "Episode 166 finished. Total reward: 15.0 (15 timesteps)\n",
      "Episode 167 finished. Total reward: 25.0 (25 timesteps)\n",
      "Episode 168 finished. Total reward: 18.0 (18 timesteps)\n",
      "Episode 169 finished. Total reward: 22.0 (22 timesteps)\n",
      "Updating the policy...\n",
      "Updating finished!\n",
      "Episode 170 finished. Total reward: 19.0 (19 timesteps)\n",
      "Episode 171 finished. Total reward: 25.0 (25 timesteps)\n",
      "Episode 172 finished. Total reward: 15.0 (15 timesteps)\n",
      "Episode 173 finished. Total reward: 23.0 (23 timesteps)\n",
      "Episode 174 finished. Total reward: 80.0 (80 timesteps)\n",
      "Episode 175 finished. Total reward: 33.0 (33 timesteps)\n",
      "Episode 176 finished. Total reward: 53.0 (53 timesteps)\n",
      "Episode 177 finished. Total reward: 16.0 (16 timesteps)\n",
      "Episode 178 finished. Total reward: 15.0 (15 timesteps)\n",
      "Episode 179 finished. Total reward: 44.0 (44 timesteps)\n",
      "Episode 180 finished. Total reward: 56.0 (56 timesteps)\n",
      "Episode 181 finished. Total reward: 20.0 (20 timesteps)\n",
      "Episode 182 finished. Total reward: 37.0 (37 timesteps)\n",
      "Episode 183 finished. Total reward: 51.0 (51 timesteps)\n",
      "Episode 184 finished. Total reward: 14.0 (14 timesteps)\n",
      "Episode 185 finished. Total reward: 29.0 (29 timesteps)\n",
      "Episode 186 finished. Total reward: 28.0 (28 timesteps)\n",
      "Episode 187 finished. Total reward: 56.0 (56 timesteps)\n",
      "Episode 188 finished. Total reward: 44.0 (44 timesteps)\n",
      "Episode 189 finished. Total reward: 17.0 (17 timesteps)\n",
      "Episode 190 finished. Total reward: 42.0 (42 timesteps)\n",
      "Episode 191 finished. Total reward: 18.0 (18 timesteps)\n",
      "Episode 192 finished. Total reward: 52.0 (52 timesteps)\n",
      "Episode 193 finished. Total reward: 46.0 (46 timesteps)\n",
      "Episode 194 finished. Total reward: 25.0 (25 timesteps)\n",
      "Episode 195 finished. Total reward: 11.0 (11 timesteps)\n",
      "Episode 196 finished. Total reward: 41.0 (41 timesteps)\n",
      "Episode 197 finished. Total reward: 51.0 (51 timesteps)\n",
      "Episode 198 finished. Total reward: 16.0 (16 timesteps)\n",
      "Episode 199 finished. Total reward: 61.0 (61 timesteps)\n",
      "Episode 200 finished. Total reward: 29.0 (29 timesteps)\n",
      "Episode 201 finished. Total reward: 44.0 (44 timesteps)\n",
      "Episode 202 finished. Total reward: 70.0 (70 timesteps)\n",
      "Episode 203 finished. Total reward: 39.0 (39 timesteps)\n",
      "Episode 204 finished. Total reward: 42.0 (42 timesteps)\n",
      "Episode 205 finished. Total reward: 10.0 (10 timesteps)\n",
      "Episode 206 finished. Total reward: 41.0 (41 timesteps)\n",
      "Episode 207 finished. Total reward: 34.0 (34 timesteps)\n",
      "Episode 208 finished. Total reward: 41.0 (41 timesteps)\n",
      "Episode 209 finished. Total reward: 42.0 (42 timesteps)\n",
      "Episode 210 finished. Total reward: 45.0 (45 timesteps)\n",
      "Episode 211 finished. Total reward: 21.0 (21 timesteps)\n",
      "Episode 212 finished. Total reward: 11.0 (11 timesteps)\n",
      "Episode 213 finished. Total reward: 14.0 (14 timesteps)\n",
      "Episode 214 finished. Total reward: 38.0 (38 timesteps)\n",
      "Episode 215 finished. Total reward: 29.0 (29 timesteps)\n",
      "Episode 216 finished. Total reward: 47.0 (47 timesteps)\n",
      "Episode 217 finished. Total reward: 45.0 (45 timesteps)\n",
      "Episode 218 finished. Total reward: 48.0 (48 timesteps)\n",
      "Episode 219 finished. Total reward: 80.0 (80 timesteps)\n",
      "Episode 220 finished. Total reward: 15.0 (15 timesteps)\n",
      "Episode 221 finished. Total reward: 22.0 (22 timesteps)\n",
      "Episode 222 finished. Total reward: 87.0 (87 timesteps)\n",
      "Episode 223 finished. Total reward: 27.0 (27 timesteps)\n",
      "Episode 224 finished. Total reward: 33.0 (33 timesteps)\n",
      "Episode 225 finished. Total reward: 16.0 (16 timesteps)\n",
      "Updating the policy...\n",
      "Updating finished!\n",
      "Episode 226 finished. Total reward: 27.0 (27 timesteps)\n",
      "Episode 227 finished. Total reward: 100.0 (100 timesteps)\n",
      "Episode 228 finished. Total reward: 29.0 (29 timesteps)\n",
      "Episode 229 finished. Total reward: 58.0 (58 timesteps)\n",
      "Episode 230 finished. Total reward: 100.0 (100 timesteps)\n",
      "Episode 231 finished. Total reward: 41.0 (41 timesteps)\n",
      "Episode 232 finished. Total reward: 28.0 (28 timesteps)\n",
      "Episode 233 finished. Total reward: 100.0 (100 timesteps)\n",
      "Episode 234 finished. Total reward: 49.0 (49 timesteps)\n",
      "Episode 235 finished. Total reward: 100.0 (100 timesteps)\n",
      "Episode 236 finished. Total reward: 63.0 (63 timesteps)\n",
      "Episode 237 finished. Total reward: 34.0 (34 timesteps)\n",
      "Episode 238 finished. Total reward: 42.0 (42 timesteps)\n",
      "Episode 239 finished. Total reward: 27.0 (27 timesteps)\n",
      "Episode 240 finished. Total reward: 97.0 (97 timesteps)\n",
      "Episode 241 finished. Total reward: 100.0 (100 timesteps)\n",
      "Episode 242 finished. Total reward: 35.0 (35 timesteps)\n",
      "Episode 243 finished. Total reward: 100.0 (100 timesteps)\n",
      "Episode 244 finished. Total reward: 86.0 (86 timesteps)\n",
      "Episode 245 finished. Total reward: 100.0 (100 timesteps)\n",
      "Episode 246 finished. Total reward: 64.0 (64 timesteps)\n",
      "Episode 247 finished. Total reward: 62.0 (62 timesteps)\n",
      "Episode 248 finished. Total reward: 45.0 (45 timesteps)\n",
      "Episode 249 finished. Total reward: 43.0 (43 timesteps)\n",
      "Episode 250 finished. Total reward: 48.0 (48 timesteps)\n",
      "Episode 251 finished. Total reward: 100.0 (100 timesteps)\n",
      "Episode 252 finished. Total reward: 100.0 (100 timesteps)\n",
      "Episode 253 finished. Total reward: 100.0 (100 timesteps)\n",
      "Episode 254 finished. Total reward: 27.0 (27 timesteps)\n",
      "Episode 255 finished. Total reward: 82.0 (82 timesteps)\n",
      "Updating the policy...\n",
      "Updating finished!\n",
      "Episode 256 finished. Total reward: 100.0 (100 timesteps)\n",
      "Episode 257 finished. Total reward: 72.0 (72 timesteps)\n",
      "Episode 258 finished. Total reward: 24.0 (24 timesteps)\n",
      "Episode 259 finished. Total reward: 45.0 (45 timesteps)\n",
      "Episode 260 finished. Total reward: 100.0 (100 timesteps)\n",
      "Episode 261 finished. Total reward: 84.0 (84 timesteps)\n",
      "Episode 262 finished. Total reward: 64.0 (64 timesteps)\n",
      "Episode 263 finished. Total reward: 85.0 (85 timesteps)\n",
      "Episode 264 finished. Total reward: 66.0 (66 timesteps)\n",
      "Episode 265 finished. Total reward: 47.0 (47 timesteps)\n",
      "Episode 266 finished. Total reward: 58.0 (58 timesteps)\n",
      "Episode 267 finished. Total reward: 100.0 (100 timesteps)\n",
      "Episode 268 finished. Total reward: 65.0 (65 timesteps)\n",
      "Episode 269 finished. Total reward: 53.0 (53 timesteps)\n",
      "Episode 270 finished. Total reward: 27.0 (27 timesteps)\n",
      "Episode 271 finished. Total reward: 100.0 (100 timesteps)\n",
      "Episode 272 finished. Total reward: 94.0 (94 timesteps)\n",
      "Episode 273 finished. Total reward: 62.0 (62 timesteps)\n",
      "Episode 274 finished. Total reward: 68.0 (68 timesteps)\n",
      "Episode 275 finished. Total reward: 72.0 (72 timesteps)\n",
      "Episode 276 finished. Total reward: 35.0 (35 timesteps)\n",
      "Episode 277 finished. Total reward: 22.0 (22 timesteps)\n",
      "Episode 278 finished. Total reward: 50.0 (50 timesteps)\n",
      "Episode 279 finished. Total reward: 29.0 (29 timesteps)\n",
      "Episode 280 finished. Total reward: 100.0 (100 timesteps)\n",
      "Episode 281 finished. Total reward: 62.0 (62 timesteps)\n",
      "Episode 282 finished. Total reward: 42.0 (42 timesteps)\n",
      "Episode 283 finished. Total reward: 23.0 (23 timesteps)\n",
      "Episode 284 finished. Total reward: 83.0 (83 timesteps)\n",
      "Episode 285 finished. Total reward: 67.0 (67 timesteps)\n",
      "Episode 286 finished. Total reward: 100.0 (100 timesteps)\n",
      "Updating the policy...\n",
      "Updating finished!\n",
      "Episode 287 finished. Total reward: 100.0 (100 timesteps)\n",
      "Episode 288 finished. Total reward: 100.0 (100 timesteps)\n",
      "Episode 289 finished. Total reward: 100.0 (100 timesteps)\n",
      "Episode 290 finished. Total reward: 100.0 (100 timesteps)\n",
      "Episode 291 finished. Total reward: 56.0 (56 timesteps)\n",
      "Episode 292 finished. Total reward: 100.0 (100 timesteps)\n",
      "Episode 293 finished. Total reward: 100.0 (100 timesteps)\n",
      "Episode 294 finished. Total reward: 100.0 (100 timesteps)\n",
      "Episode 295 finished. Total reward: 100.0 (100 timesteps)\n",
      "Episode 296 finished. Total reward: 100.0 (100 timesteps)\n",
      "Episode 297 finished. Total reward: 96.0 (96 timesteps)\n",
      "Episode 298 finished. Total reward: 100.0 (100 timesteps)\n",
      "Episode 299 finished. Total reward: 100.0 (100 timesteps)\n",
      "Episode 300 finished. Total reward: 72.0 (72 timesteps)\n",
      "Episode 301 finished. Total reward: 51.0 (51 timesteps)\n",
      "Episode 302 finished. Total reward: 100.0 (100 timesteps)\n",
      "Episode 303 finished. Total reward: 87.0 (87 timesteps)\n",
      "Episode 304 finished. Total reward: 100.0 (100 timesteps)\n",
      "Episode 305 finished. Total reward: 74.0 (74 timesteps)\n",
      "Episode 306 finished. Total reward: 75.0 (75 timesteps)\n",
      "Episode 307 finished. Total reward: 100.0 (100 timesteps)\n",
      "Episode 308 finished. Total reward: 100.0 (100 timesteps)\n",
      "Updating the policy...\n",
      "Updating finished!\n",
      "Episode 309 finished. Total reward: 100.0 (100 timesteps)\n",
      "Episode 310 finished. Total reward: 100.0 (100 timesteps)\n",
      "Episode 311 finished. Total reward: 100.0 (100 timesteps)\n",
      "Episode 312 finished. Total reward: 100.0 (100 timesteps)\n",
      "Episode 313 finished. Total reward: 100.0 (100 timesteps)\n",
      "Episode 314 finished. Total reward: 100.0 (100 timesteps)\n",
      "Episode 315 finished. Total reward: 100.0 (100 timesteps)\n",
      "Episode 316 finished. Total reward: 99.0 (99 timesteps)\n",
      "Episode 317 finished. Total reward: 100.0 (100 timesteps)\n",
      "Episode 318 finished. Total reward: 100.0 (100 timesteps)\n",
      "Episode 319 finished. Total reward: 100.0 (100 timesteps)\n",
      "Episode 320 finished. Total reward: 100.0 (100 timesteps)\n",
      "Episode 321 finished. Total reward: 100.0 (100 timesteps)\n",
      "Episode 322 finished. Total reward: 100.0 (100 timesteps)\n",
      "Episode 323 finished. Total reward: 100.0 (100 timesteps)\n",
      "Episode 324 finished. Total reward: 100.0 (100 timesteps)\n",
      "Episode 325 finished. Total reward: 100.0 (100 timesteps)\n",
      "Episode 326 finished. Total reward: 100.0 (100 timesteps)\n",
      "Episode 327 finished. Total reward: 100.0 (100 timesteps)\n",
      "Episode 328 finished. Total reward: 100.0 (100 timesteps)\n",
      "Updating the policy...\n",
      "Updating finished!\n",
      "Episode 329 finished. Total reward: 47.0 (47 timesteps)\n",
      "Episode 330 finished. Total reward: 100.0 (100 timesteps)\n",
      "Episode 331 finished. Total reward: 97.0 (97 timesteps)\n",
      "Episode 332 finished. Total reward: 49.0 (49 timesteps)\n",
      "Episode 333 finished. Total reward: 75.0 (75 timesteps)\n",
      "Episode 334 finished. Total reward: 81.0 (81 timesteps)\n",
      "Episode 335 finished. Total reward: 64.0 (64 timesteps)\n",
      "Episode 336 finished. Total reward: 100.0 (100 timesteps)\n",
      "Episode 337 finished. Total reward: 100.0 (100 timesteps)\n",
      "Episode 338 finished. Total reward: 100.0 (100 timesteps)\n",
      "Episode 339 finished. Total reward: 100.0 (100 timesteps)\n",
      "Episode 340 finished. Total reward: 100.0 (100 timesteps)\n",
      "Episode 341 finished. Total reward: 22.0 (22 timesteps)\n",
      "Episode 342 finished. Total reward: 91.0 (91 timesteps)\n",
      "Episode 343 finished. Total reward: 100.0 (100 timesteps)\n",
      "Episode 344 finished. Total reward: 100.0 (100 timesteps)\n",
      "Episode 345 finished. Total reward: 52.0 (52 timesteps)\n",
      "Episode 346 finished. Total reward: 100.0 (100 timesteps)\n",
      "Episode 347 finished. Total reward: 50.0 (50 timesteps)\n",
      "Episode 348 finished. Total reward: 100.0 (100 timesteps)\n",
      "Episode 349 finished. Total reward: 100.0 (100 timesteps)\n",
      "Episode 350 finished. Total reward: 73.0 (73 timesteps)\n",
      "Episode 351 finished. Total reward: 100.0 (100 timesteps)\n",
      "Episode 352 finished. Total reward: 59.0 (59 timesteps)\n",
      "Updating the policy...\n",
      "Updating finished!\n",
      "Episode 353 finished. Total reward: 100.0 (100 timesteps)\n",
      "Episode 354 finished. Total reward: 92.0 (92 timesteps)\n",
      "Episode 355 finished. Total reward: 100.0 (100 timesteps)\n",
      "Episode 356 finished. Total reward: 100.0 (100 timesteps)\n",
      "Episode 357 finished. Total reward: 100.0 (100 timesteps)\n",
      "Episode 358 finished. Total reward: 100.0 (100 timesteps)\n",
      "Episode 359 finished. Total reward: 100.0 (100 timesteps)\n",
      "Episode 360 finished. Total reward: 84.0 (84 timesteps)\n",
      "Episode 361 finished. Total reward: 100.0 (100 timesteps)\n",
      "Episode 362 finished. Total reward: 100.0 (100 timesteps)\n",
      "Episode 363 finished. Total reward: 91.0 (91 timesteps)\n",
      "Episode 364 finished. Total reward: 85.0 (85 timesteps)\n",
      "Episode 365 finished. Total reward: 100.0 (100 timesteps)\n",
      "Episode 366 finished. Total reward: 100.0 (100 timesteps)\n",
      "Episode 367 finished. Total reward: 100.0 (100 timesteps)\n",
      "Episode 368 finished. Total reward: 100.0 (100 timesteps)\n",
      "Episode 369 finished. Total reward: 100.0 (100 timesteps)\n",
      "Episode 370 finished. Total reward: 100.0 (100 timesteps)\n",
      "Episode 371 finished. Total reward: 100.0 (100 timesteps)\n",
      "Episode 372 finished. Total reward: 100.0 (100 timesteps)\n",
      "Episode 373 finished. Total reward: 100.0 (100 timesteps)\n",
      "Updating the policy...\n",
      "Updating finished!\n",
      "Episode 374 finished. Total reward: 100.0 (100 timesteps)\n",
      "Episode 375 finished. Total reward: 100.0 (100 timesteps)\n",
      "Episode 376 finished. Total reward: 100.0 (100 timesteps)\n",
      "Episode 377 finished. Total reward: 100.0 (100 timesteps)\n",
      "Episode 378 finished. Total reward: 100.0 (100 timesteps)\n",
      "Episode 379 finished. Total reward: 100.0 (100 timesteps)\n",
      "Episode 380 finished. Total reward: 100.0 (100 timesteps)\n",
      "Episode 381 finished. Total reward: 100.0 (100 timesteps)\n",
      "Episode 382 finished. Total reward: 100.0 (100 timesteps)\n",
      "Episode 383 finished. Total reward: 100.0 (100 timesteps)\n",
      "Episode 384 finished. Total reward: 100.0 (100 timesteps)\n",
      "Episode 385 finished. Total reward: 100.0 (100 timesteps)\n",
      "Episode 386 finished. Total reward: 98.0 (98 timesteps)\n",
      "Episode 387 finished. Total reward: 100.0 (100 timesteps)\n",
      "Episode 388 finished. Total reward: 100.0 (100 timesteps)\n",
      "Episode 389 finished. Total reward: 100.0 (100 timesteps)\n",
      "Episode 390 finished. Total reward: 100.0 (100 timesteps)\n",
      "Episode 391 finished. Total reward: 100.0 (100 timesteps)\n",
      "Episode 392 finished. Total reward: 100.0 (100 timesteps)\n",
      "Episode 393 finished. Total reward: 100.0 (100 timesteps)\n",
      "Updating the policy...\n",
      "Updating finished!\n",
      "Episode 394 finished. Total reward: 100.0 (100 timesteps)\n",
      "Episode 395 finished. Total reward: 100.0 (100 timesteps)\n",
      "Episode 396 finished. Total reward: 100.0 (100 timesteps)\n",
      "Episode 397 finished. Total reward: 100.0 (100 timesteps)\n",
      "Episode 398 finished. Total reward: 100.0 (100 timesteps)\n",
      "Episode 399 finished. Total reward: 100.0 (100 timesteps)\n",
      "Episode 400 finished. Total reward: 100.0 (100 timesteps)\n",
      "Episode 401 finished. Total reward: 100.0 (100 timesteps)\n",
      "Episode 402 finished. Total reward: 100.0 (100 timesteps)\n",
      "Episode 403 finished. Total reward: 69.0 (69 timesteps)\n",
      "Episode 404 finished. Total reward: 100.0 (100 timesteps)\n",
      "Episode 405 finished. Total reward: 100.0 (100 timesteps)\n",
      "Episode 406 finished. Total reward: 100.0 (100 timesteps)\n",
      "Episode 407 finished. Total reward: 100.0 (100 timesteps)\n",
      "Episode 408 finished. Total reward: 100.0 (100 timesteps)\n",
      "Episode 409 finished. Total reward: 45.0 (45 timesteps)\n",
      "Episode 410 finished. Total reward: 100.0 (100 timesteps)\n",
      "Episode 411 finished. Total reward: 100.0 (100 timesteps)\n",
      "Episode 412 finished. Total reward: 100.0 (100 timesteps)\n",
      "Episode 413 finished. Total reward: 100.0 (100 timesteps)\n",
      "Updating the policy...\n",
      "Updating finished!\n",
      "Episode 414 finished. Total reward: 100.0 (100 timesteps)\n",
      "Episode 415 finished. Total reward: 100.0 (100 timesteps)\n",
      "Episode 416 finished. Total reward: 100.0 (100 timesteps)\n",
      "Episode 417 finished. Total reward: 100.0 (100 timesteps)\n",
      "Episode 418 finished. Total reward: 100.0 (100 timesteps)\n",
      "Episode 419 finished. Total reward: 100.0 (100 timesteps)\n",
      "Episode 420 finished. Total reward: 100.0 (100 timesteps)\n",
      "Episode 421 finished. Total reward: 100.0 (100 timesteps)\n",
      "Episode 422 finished. Total reward: 100.0 (100 timesteps)\n",
      "Episode 423 finished. Total reward: 100.0 (100 timesteps)\n",
      "Episode 424 finished. Total reward: 81.0 (81 timesteps)\n",
      "Episode 425 finished. Total reward: 100.0 (100 timesteps)\n",
      "Episode 426 finished. Total reward: 100.0 (100 timesteps)\n",
      "Episode 427 finished. Total reward: 100.0 (100 timesteps)\n",
      "Episode 428 finished. Total reward: 100.0 (100 timesteps)\n",
      "Episode 429 finished. Total reward: 100.0 (100 timesteps)\n",
      "Episode 430 finished. Total reward: 100.0 (100 timesteps)\n",
      "Episode 431 finished. Total reward: 100.0 (100 timesteps)\n",
      "Episode 432 finished. Total reward: 100.0 (100 timesteps)\n",
      "Episode 433 finished. Total reward: 100.0 (100 timesteps)\n",
      "Episode 434 finished. Total reward: 100.0 (100 timesteps)\n",
      "Updating the policy...\n",
      "Updating finished!\n",
      "Episode 435 finished. Total reward: 100.0 (100 timesteps)\n",
      "Episode 436 finished. Total reward: 100.0 (100 timesteps)\n",
      "Episode 437 finished. Total reward: 100.0 (100 timesteps)\n",
      "Episode 438 finished. Total reward: 81.0 (81 timesteps)\n",
      "Episode 439 finished. Total reward: 100.0 (100 timesteps)\n",
      "Episode 440 finished. Total reward: 100.0 (100 timesteps)\n",
      "Episode 441 finished. Total reward: 100.0 (100 timesteps)\n",
      "Episode 442 finished. Total reward: 100.0 (100 timesteps)\n",
      "Episode 443 finished. Total reward: 79.0 (79 timesteps)\n",
      "Episode 444 finished. Total reward: 100.0 (100 timesteps)\n",
      "Episode 445 finished. Total reward: 100.0 (100 timesteps)\n",
      "Episode 446 finished. Total reward: 82.0 (82 timesteps)\n",
      "Episode 447 finished. Total reward: 100.0 (100 timesteps)\n",
      "Episode 448 finished. Total reward: 100.0 (100 timesteps)\n",
      "Episode 449 finished. Total reward: 100.0 (100 timesteps)\n",
      "Episode 450 finished. Total reward: 100.0 (100 timesteps)\n",
      "Episode 451 finished. Total reward: 100.0 (100 timesteps)\n",
      "Episode 452 finished. Total reward: 100.0 (100 timesteps)\n",
      "Episode 453 finished. Total reward: 100.0 (100 timesteps)\n",
      "Episode 454 finished. Total reward: 100.0 (100 timesteps)\n",
      "Episode 455 finished. Total reward: 64.0 (64 timesteps)\n",
      "Updating the policy...\n",
      "Updating finished!\n",
      "Episode 456 finished. Total reward: 100.0 (100 timesteps)\n",
      "Episode 457 finished. Total reward: 100.0 (100 timesteps)\n",
      "Episode 458 finished. Total reward: 37.0 (37 timesteps)\n",
      "Episode 459 finished. Total reward: 100.0 (100 timesteps)\n",
      "Episode 460 finished. Total reward: 100.0 (100 timesteps)\n",
      "Episode 461 finished. Total reward: 78.0 (78 timesteps)\n",
      "Episode 462 finished. Total reward: 100.0 (100 timesteps)\n",
      "Episode 463 finished. Total reward: 45.0 (45 timesteps)\n",
      "Episode 464 finished. Total reward: 100.0 (100 timesteps)\n",
      "Episode 465 finished. Total reward: 100.0 (100 timesteps)\n",
      "Episode 466 finished. Total reward: 100.0 (100 timesteps)\n",
      "Episode 467 finished. Total reward: 100.0 (100 timesteps)\n",
      "Episode 468 finished. Total reward: 100.0 (100 timesteps)\n",
      "Episode 469 finished. Total reward: 100.0 (100 timesteps)\n",
      "Episode 470 finished. Total reward: 100.0 (100 timesteps)\n",
      "Episode 471 finished. Total reward: 100.0 (100 timesteps)\n",
      "Episode 472 finished. Total reward: 100.0 (100 timesteps)\n",
      "Episode 473 finished. Total reward: 100.0 (100 timesteps)\n",
      "Episode 474 finished. Total reward: 100.0 (100 timesteps)\n",
      "Episode 475 finished. Total reward: 100.0 (100 timesteps)\n",
      "Episode 476 finished. Total reward: 25.0 (25 timesteps)\n",
      "Episode 477 finished. Total reward: 100.0 (100 timesteps)\n",
      "Updating the policy...\n",
      "Updating finished!\n",
      "Episode 478 finished. Total reward: 100.0 (100 timesteps)\n",
      "Episode 479 finished. Total reward: 100.0 (100 timesteps)\n",
      "Episode 480 finished. Total reward: 100.0 (100 timesteps)\n",
      "Episode 481 finished. Total reward: 100.0 (100 timesteps)\n",
      "Episode 482 finished. Total reward: 87.0 (87 timesteps)\n",
      "Episode 483 finished. Total reward: 100.0 (100 timesteps)\n",
      "Episode 484 finished. Total reward: 100.0 (100 timesteps)\n",
      "Episode 485 finished. Total reward: 100.0 (100 timesteps)\n",
      "Episode 486 finished. Total reward: 100.0 (100 timesteps)\n",
      "Episode 487 finished. Total reward: 100.0 (100 timesteps)\n",
      "Episode 488 finished. Total reward: 100.0 (100 timesteps)\n",
      "Episode 489 finished. Total reward: 100.0 (100 timesteps)\n",
      "Episode 490 finished. Total reward: 100.0 (100 timesteps)\n",
      "Episode 491 finished. Total reward: 100.0 (100 timesteps)\n",
      "Episode 492 finished. Total reward: 100.0 (100 timesteps)\n",
      "Episode 493 finished. Total reward: 100.0 (100 timesteps)\n",
      "Episode 494 finished. Total reward: 100.0 (100 timesteps)\n",
      "Episode 495 finished. Total reward: 100.0 (100 timesteps)\n",
      "Episode 496 finished. Total reward: 100.0 (100 timesteps)\n",
      "Episode 497 finished. Total reward: 100.0 (100 timesteps)\n",
      "Updating the policy...\n",
      "Updating finished!\n",
      "Episode 498 finished. Total reward: 100.0 (100 timesteps)\n",
      "Episode 499 finished. Total reward: 100.0 (100 timesteps)\n",
      "Episode 500 finished. Total reward: 100.0 (100 timesteps)\n",
      "Model saved to /notebooks/rl2023/ex1/results/model/CartPole-v1_params.pt\n",
      "------Training finished.------\n",
      "Numpy/Torch/Random Seed:  468\n",
      "Loading model from /notebooks/rl2023/ex1/results/model/CartPole-v1_params.pt ...\n",
      "Testing...\n",
      "Test ep reward: 166.0 seed: 494\n",
      "Test ep reward: 183.0 seed: 181\n",
      "Test ep reward: 219.0 seed: 928\n",
      "Test ep reward: 251.0 seed: 778\n",
      "Test ep reward: 211.0 seed: 740\n",
      "Test ep reward: 177.0 seed: 210\n",
      "Test ep reward: 179.0 seed: 792\n",
      "Test ep reward: 195.0 seed: 706\n",
      "Test ep reward: 220.0 seed: 343\n",
      "Test ep reward: 176.0 seed: 503\n",
      "Average test reward: 197.7 episode length: 197.7\n"
     ]
    }
   ],
   "source": [
    "for seed in seeds:\n",
    "    t.train(cfg_path=Path().cwd()/'cfg'/'cartpole_v1.yaml', \n",
    "        cfg_args=dict(seed=int(seed), max_episode_steps=100)) # < 5 mins\n",
    "    t.test(episodes=10, \n",
    "           cfg_path=Path().cwd()/'cfg'/'cartpole_v1.yaml', \n",
    "           cfg_args=dict(testing=True, seed=None, max_episode_steps=1000, use_wandb=False))"
   ]
  },
  {
   "cell_type": "markdown",
   "id": "5f15cc05",
   "metadata": {},
   "source": [
    "Numpy/Torch/Random Seed: 42, Average test reward: 131.5 episode length: 131.5;\n",
    "Numpy/Torch/Random Seed: 36, Average test reward: 154.6 episode length: 154.6;\n",
    "Numpy/Torch/Random Seed:  94, Average test reward: 126.1 episode length: 126.1;\n",
    "Numpy/Torch/Random Seed:  9, Average test reward: 131.5 episode length: 131.5;\n",
    "Numpy/Torch/Random Seed:  66, Average test reward: 197.7 episode length: 197.7"
   ]
  },
  {
   "cell_type": "markdown",
   "id": "95ff4274",
   "metadata": {},
   "source": [
    "<a id='Q2'></a>\n",
    "<div class=\" alert alert-warning\">\n",
    "    <h3><b>Student Question 2.1</b> Analysis of Training Performance (15 points) </h3> \n",
    "\n",
    "Are the behavior and performance of the trained models the same every time? Why/why not? Analyze the causes briefly.\n",
    "    \n",
    "🔝\t<a href='#TOC'><b>Table of Contents</b></a>\n",
    "</div>\n"
   ]
  },
  {
   "cell_type": "markdown",
   "id": "eee2bcdb",
   "metadata": {},
   "source": [
    "The results are all different with small SD. With more episodes the results might converge."
   ]
  },
  {
   "cell_type": "markdown",
   "id": "8b248abf",
   "metadata": {},
   "source": [
    "<a id='Q3'></a>\n",
    "<div class=\" alert alert-warning\">\n",
    "    <h3><b>Student Question 2.2</b> Stochasticity (10 points) </h3> \n",
    "\n",
    "What are the implications of this stochasticity, when it comes to comparing reinforcement learning algorithms to each other? Please explain.\n",
    "    \n",
    "🔝\t<a href='#TOC'><b>Table of Contents</b></a>\n",
    "</div>\n"
   ]
  },
  {
   "cell_type": "markdown",
   "id": "1fa713da-b4ad-4290-87a0-dcb6f6bfd1a7",
   "metadata": {},
   "source": [
    "The outcome of each learning will be different since different seeds ultimately leads to different policies after training."
   ]
  },
  {
   "cell_type": "markdown",
   "id": "842afa68",
   "metadata": {},
   "source": [
    "# Reacher <a id='3.'></a>\n",
    "\n",
    "Now we will focus on designing a reward function for a different environment, the Reacher environment, where a two-joint manipulator needs to reach a goal (see Figure 2).\n",
    "\n",
    "<figure>\n",
    "<img src=\"imgs/reacher.png\" width=\"200px\">\n",
    "<figcaption style=\"text-align: center\"> Figure 2: The Reacher environment  </figcaption>\n",
    "</figure>\n",
    "\n",
    "The Cartesian ($x$, $y$) position of the end-effector of the manipulator can be determined following the equation:\n",
    "\n",
    "$$\n",
    " x = L_1 \\sin(\\theta_0)+L_2 \\sin(\\theta_0+\\theta_1)\\\\\n",
    " y = -L_1 \\cos(\\theta_0)-L_2 \\cos(\\theta_0+\\theta_1)\n",
    "$$\n",
    "\n",
    "where $L1 = 1$, $L2 = 1$ are the lengths, and $\\theta_0$, $\\theta_1$ the joint angles of the first and second links respectively. The state (and observation) in this environment is the two element vector:\n",
    "\n",
    "$$\n",
    "o=s=\\left(\\begin{array}{c}\n",
    "\\theta_0 \\\\\n",
    "\\theta_1 \\\\\n",
    "\\end{array}\\right) \\text {, }\n",
    "$$\n",
    "\n",
    "The action space now consists of 5 \"options\"; 4 correspond rotating the first/second joint left/right, and the final one performs no motion at all (the configuration doesn’t change). The episode terminates when the agent reaches the target position, marked in red. Now, let us design a custom reward function and use it for training the RL agent."
   ]
  },
  {
   "cell_type": "markdown",
   "id": "e138b75d",
   "metadata": {},
   "source": [
    "<a id='T3'></a>\n",
    "<div class=\" alert alert-warning\">\n",
    "    <h3><b>Student Task 3.</b> Reward Functions (20 points) </h3> \n",
    "\n",
    "Below two classes are shown that modify the reward function of the reacher function provided in ```reacher.py```. Edit the function ```get_reward``` _below_ (not in ```reacher.py```) in both classes. For each class, write a reward function to incentivise the agent to learn the following behaviors:\n",
    "\n",
    "Class 1) ```SpinningReacherEnv```: Keep the manipulator rotating clockwise continuously (w.r.t. angle θ_0). You can use a lower number of training episodes for this, e.g. train(cfg_args=dict(env_name='SpinningReacher-v0', train_episodes=200), overrides=['env=reacher_v1'])\n",
    "\n",
    "Class 2) ```TargetReacherEnv```: Reach the goal point located in x = [1.0,1.0] (marked in red). Use at least 500 training episodes.\n",
    "    \n",
    "Train one model for each behavior. \n",
    "\n",
    "**Hint:** Use the observation vector to get the quantities required to compute the new reward (such as the position of the manipulator). You can get the Cartesian position of the end-effector with ```self.get_cartesian_pos(state)```.\n",
    "            \n",
    "🔝\t<a href='#TOC'><b>Table of Contents</b></a>\n",
    "</div>\n"
   ]
  },
  {
   "cell_type": "markdown",
   "id": "4fa70b97",
   "metadata": {},
   "source": []
  },
  {
   "cell_type": "code",
   "execution_count": 6,
   "id": "32bf76fe",
   "metadata": {
    "tags": []
   },
   "outputs": [
    {
     "name": "stderr",
     "output_type": "stream",
     "text": [
      "/opt/software/lib/python3.10/site-packages/gymnasium/envs/registration.py:694: UserWarning: \u001b[33mWARN: Overriding environment SpinningReacher-v0 already in registry.\u001b[0m\n",
      "  logger.warn(f\"Overriding environment {new_spec.id} already in registry.\")\n",
      "/opt/software/lib/python3.10/site-packages/gymnasium/envs/registration.py:694: UserWarning: \u001b[33mWARN: Overriding environment TargetReacher-v0 already in registry.\u001b[0m\n",
      "  logger.warn(f\"Overriding environment {new_spec.id} already in registry.\")\n"
     ]
    }
   ],
   "source": [
    "from reacher import ReacherEnv\n",
    "from typing import Optional\n",
    "from gymnasium.envs.registration import register\n",
    "\n",
    "class SpinningReacherEnv(ReacherEnv):\n",
    "    def __init__(self, render_mode: Optional[str] = None, max_episode_steps=200):\n",
    "        super().__init__(render_mode=render_mode, max_episode_steps=max_episode_steps)\n",
    "        \n",
    "    def get_reward(self, prev_state, action, next_state):\n",
    "        # TODO: Task 3: Implement and test the first reward function\n",
    "        ########## Your code starts here ##########\n",
    "        if next_state[0] < prev_state[0]:\n",
    "            return 1\n",
    "        else:\n",
    "            return -1\n",
    "        ########## Your codes end here ########## \n",
    "        \n",
    "    \n",
    "register(\"SpinningReacher-v0\",\n",
    "        entry_point=\"%s:SpinningReacherEnv\"%__name__,\n",
    "        max_episode_steps=200)\n",
    "\n",
    "class TargetReacherEnv(ReacherEnv):\n",
    "    def __init__(self, render_mode: Optional[str] = None, max_episode_steps=200):\n",
    "        super().__init__(render_mode=render_mode, max_episode_steps=max_episode_steps)\n",
    "        \n",
    "    def get_reward(self, prev_state, action, next_state):\n",
    "        # TODO: Task 3: Implement and test the second reward function\n",
    "        ########## Your code starts here ##########\n",
    "        pos = self.get_cartesian_pos(prev_state)\n",
    "        nextPos = self.get_cartesian_pos(next_state)\n",
    "        distance = np.square(pos[0]-1) + np.square(pos[1]-1)\n",
    "        nextDistance = np.square(nextPos[0]-1) + np.square(nextPos[1]-1)\n",
    "        if nextDistance < distance:\n",
    "            return 1\n",
    "        else: \n",
    "            return -1\n",
    "        #return -sqrt(nextDistance)\n",
    "        ########## Your codes end here ########## \n",
    "        \n",
    "register(\"TargetReacher-v0\",\n",
    "        entry_point=\"%s:TargetReacherEnv\"%__name__,\n",
    "        max_episode_steps=200)"
   ]
  },
  {
   "cell_type": "code",
   "execution_count": 7,
   "id": "765ea45c",
   "metadata": {
    "scrolled": true,
    "tags": []
   },
   "outputs": [
    {
     "name": "stdout",
     "output_type": "stream",
     "text": [
      "Numpy/Torch/Random Seed:  932\n"
     ]
    },
    {
     "ename": "AttributeError",
     "evalue": "module 'wandb' has no attribute 'init'",
     "output_type": "error",
     "traceback": [
      "\u001b[0;31m---------------------------------------------------------------------------\u001b[0m",
      "\u001b[0;31mAttributeError\u001b[0m                            Traceback (most recent call last)",
      "Cell \u001b[0;32mIn[7], line 1\u001b[0m\n\u001b[0;32m----> 1\u001b[0m \u001b[43mt\u001b[49m\u001b[38;5;241;43m.\u001b[39;49m\u001b[43mtrain\u001b[49m\u001b[43m(\u001b[49m\u001b[43mcfg_path\u001b[49m\u001b[38;5;241;43m=\u001b[39;49m\u001b[43mPath\u001b[49m\u001b[43m(\u001b[49m\u001b[43m)\u001b[49m\u001b[38;5;241;43m.\u001b[39;49m\u001b[43mcwd\u001b[49m\u001b[43m(\u001b[49m\u001b[43m)\u001b[49m\u001b[38;5;241;43m/\u001b[39;49m\u001b[38;5;124;43m'\u001b[39;49m\u001b[38;5;124;43mcfg\u001b[39;49m\u001b[38;5;124;43m'\u001b[39;49m\u001b[38;5;241;43m/\u001b[39;49m\u001b[38;5;124;43m'\u001b[39;49m\u001b[38;5;124;43mreacher_v1.yaml\u001b[39;49m\u001b[38;5;124;43m'\u001b[39;49m\u001b[43m,\u001b[49m\u001b[43m \u001b[49m\n\u001b[1;32m      2\u001b[0m \u001b[43m      \u001b[49m\u001b[43mcfg_args\u001b[49m\u001b[38;5;241;43m=\u001b[39;49m\u001b[38;5;28;43mdict\u001b[39;49m\u001b[43m(\u001b[49m\u001b[43menv_name\u001b[49m\u001b[38;5;241;43m=\u001b[39;49m\u001b[38;5;124;43m'\u001b[39;49m\u001b[38;5;124;43mSpinningReacher-v0\u001b[39;49m\u001b[38;5;124;43m'\u001b[39;49m\u001b[43m,\u001b[49m\u001b[43m \u001b[49m\u001b[43mtrain_episodes\u001b[49m\u001b[38;5;241;43m=\u001b[39;49m\u001b[38;5;241;43m200\u001b[39;49m\u001b[43m)\u001b[49m\u001b[43m)\u001b[49m \u001b[38;5;66;03m# < 5 mins\u001b[39;00m\n",
      "File \u001b[0;32m/notebooks/rl2023/ex1/train.py:124\u001b[0m, in \u001b[0;36mtrain\u001b[0;34m(cfg_path, cfg_args)\u001b[0m\n\u001b[1;32m    122\u001b[0m \u001b[38;5;28;01mdef\u001b[39;00m \u001b[38;5;21mtrain\u001b[39m(cfg_path, cfg_args\u001b[38;5;241m=\u001b[39m{}):\n\u001b[0;32m--> 124\u001b[0m     env, policy, agent, cfg \u001b[38;5;241m=\u001b[39m \u001b[43msetup\u001b[49m\u001b[43m(\u001b[49m\u001b[43mcfg_path\u001b[49m\u001b[43m,\u001b[49m\u001b[43m \u001b[49m\u001b[43mcfg_args\u001b[49m\u001b[38;5;241;43m=\u001b[39;49m\u001b[43mcfg_args\u001b[49m\u001b[43m,\u001b[49m\u001b[43m \u001b[49m\u001b[43mprint_info\u001b[49m\u001b[38;5;241;43m=\u001b[39;49m\u001b[38;5;28;43;01mTrue\u001b[39;49;00m\u001b[43m)\u001b[49m\n\u001b[1;32m    126\u001b[0m     \u001b[38;5;28;01mif\u001b[39;00m cfg\u001b[38;5;241m.\u001b[39msave_logging: \n\u001b[1;32m    127\u001b[0m         L \u001b[38;5;241m=\u001b[39m u\u001b[38;5;241m.\u001b[39mLogger() \u001b[38;5;66;03m# create a simple logger to record stats\u001b[39;00m\n",
      "File \u001b[0;32m/notebooks/rl2023/ex1/train.py:45\u001b[0m, in \u001b[0;36msetup\u001b[0;34m(cfg_path, cfg_args, print_info)\u001b[0m\n\u001b[1;32m     42\u001b[0m \u001b[38;5;66;03m# use wandb to store stats; we aren't currently logging anything into wandb during testing (might be useful to\u001b[39;00m\n\u001b[1;32m     43\u001b[0m \u001b[38;5;66;03m# have the cfg.testing check here if someone forgets to set use_wandb=false)\u001b[39;00m\n\u001b[1;32m     44\u001b[0m \u001b[38;5;28;01mif\u001b[39;00m cfg\u001b[38;5;241m.\u001b[39muse_wandb \u001b[38;5;129;01mand\u001b[39;00m \u001b[38;5;129;01mnot\u001b[39;00m cfg\u001b[38;5;241m.\u001b[39mtesting:\n\u001b[0;32m---> 45\u001b[0m     \u001b[43mwandb\u001b[49m\u001b[38;5;241;43m.\u001b[39;49m\u001b[43minit\u001b[49m(project\u001b[38;5;241m=\u001b[39m\u001b[38;5;124m\"\u001b[39m\u001b[38;5;124mrl_aalto\u001b[39m\u001b[38;5;124m\"\u001b[39m,\n\u001b[1;32m     46\u001b[0m                 name\u001b[38;5;241m=\u001b[39m\u001b[38;5;124mf\u001b[39m\u001b[38;5;124m'\u001b[39m\u001b[38;5;132;01m{\u001b[39;00mcfg\u001b[38;5;241m.\u001b[39mexp_name\u001b[38;5;132;01m}\u001b[39;00m\u001b[38;5;124m-\u001b[39m\u001b[38;5;132;01m{\u001b[39;00mcfg\u001b[38;5;241m.\u001b[39menv_name\u001b[38;5;132;01m}\u001b[39;00m\u001b[38;5;124m-\u001b[39m\u001b[38;5;132;01m{\u001b[39;00m\u001b[38;5;28mstr\u001b[39m(cfg\u001b[38;5;241m.\u001b[39mseed)\u001b[38;5;132;01m}\u001b[39;00m\u001b[38;5;124m-\u001b[39m\u001b[38;5;132;01m{\u001b[39;00m\u001b[38;5;28mstr\u001b[39m(run_id)\u001b[38;5;132;01m}\u001b[39;00m\u001b[38;5;124m'\u001b[39m,\n\u001b[1;32m     47\u001b[0m                 group\u001b[38;5;241m=\u001b[39m\u001b[38;5;124mf\u001b[39m\u001b[38;5;124m'\u001b[39m\u001b[38;5;132;01m{\u001b[39;00mcfg\u001b[38;5;241m.\u001b[39mexp_name\u001b[38;5;132;01m}\u001b[39;00m\u001b[38;5;124m-\u001b[39m\u001b[38;5;132;01m{\u001b[39;00mcfg\u001b[38;5;241m.\u001b[39menv_name\u001b[38;5;132;01m}\u001b[39;00m\u001b[38;5;124m'\u001b[39m,\n\u001b[1;32m     48\u001b[0m                 config\u001b[38;5;241m=\u001b[39mcfg)\n\u001b[1;32m     50\u001b[0m \u001b[38;5;66;03m# create env\u001b[39;00m\n\u001b[1;32m     51\u001b[0m env \u001b[38;5;241m=\u001b[39m gym\u001b[38;5;241m.\u001b[39mmake(cfg\u001b[38;5;241m.\u001b[39menv_name, \n\u001b[1;32m     52\u001b[0m                 max_episode_steps\u001b[38;5;241m=\u001b[39mcfg\u001b[38;5;241m.\u001b[39mmax_episode_steps,\n\u001b[1;32m     53\u001b[0m                 render_mode\u001b[38;5;241m=\u001b[39m\u001b[38;5;124m'\u001b[39m\u001b[38;5;124mrgb_array\u001b[39m\u001b[38;5;124m'\u001b[39m)\n",
      "\u001b[0;31mAttributeError\u001b[0m: module 'wandb' has no attribute 'init'"
     ]
    }
   ],
   "source": [
    "t.train(cfg_path=Path().cwd()/'cfg'/'reacher_v1.yaml', \n",
    "      cfg_args=dict(env_name='SpinningReacher-v0', train_episodes=200)) # < 5 mins"
   ]
  },
  {
   "cell_type": "code",
   "execution_count": 41,
   "id": "2d4cb332",
   "metadata": {
    "tags": []
   },
   "outputs": [
    {
     "name": "stdout",
     "output_type": "stream",
     "text": [
      "Numpy/Torch/Random Seed:  831\n",
      "Loading model from /notebooks/rl2023/ex1/results/model/SpinningReacher-v0_params.pt ...\n",
      "Testing...\n",
      "Test ep reward: 200 seed: 91\n",
      "Test ep reward: 200 seed: 660\n",
      "Test ep reward: 200 seed: 10\n",
      "Test ep reward: 200 seed: 738\n",
      "Test ep reward: 200 seed: 548\n",
      "Test ep reward: 200 seed: 993\n",
      "Test ep reward: 200 seed: 713\n",
      "Test ep reward: 200 seed: 803\n",
      "Test ep reward: 200 seed: 833\n",
      "Test ep reward: 200 seed: 915\n",
      "Average test reward: 200.0 episode length: 200.0\n"
     ]
    }
   ],
   "source": [
    "t.test(episodes=10, cfg_path=Path().cwd()/'cfg'/'reacher_v1.yaml', \n",
    "       cfg_args=dict(env_name='SpinningReacher-v0', testing=True, use_wandb=False))"
   ]
  },
  {
   "cell_type": "markdown",
   "id": "383507bc",
   "metadata": {},
   "source": [
    "The agent acting in the environment can be seen using the following command. Change the ```path``` to pick the episode you want to visualize. Bear in mind by default video saving for training is taken every 50 episodes."
   ]
  },
  {
   "cell_type": "code",
   "execution_count": 5,
   "id": "555bc002",
   "metadata": {
    "tags": []
   },
   "outputs": [
    {
     "data": {
      "text/html": [
       "<video loop autoplay  >\n",
       " <source src=\"data:video/mp4;base64,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\" type=\"video/mp4\">\n",
       " Your browser does not support the video tag.\n",
       " </video>"
      ],
      "text/plain": [
       "<IPython.core.display.Video object>"
      ]
     },
     "execution_count": 5,
     "metadata": {},
     "output_type": "execute_result"
    }
   ],
   "source": [
    "Video(work_dir/'video'/'SpinningReacher-v0'/'test'/f'ex1-episode-7.mp4',\n",
    "      embed=True, html_attributes=\"loop autoplay\") # Set html_attributes=\"controls\" for video control"
   ]
  },
  {
   "cell_type": "code",
   "execution_count": null,
   "id": "663c258a",
   "metadata": {
    "scrolled": true,
    "tags": []
   },
   "outputs": [],
   "source": [
    "t.train(cfg_path=Path().cwd()/'cfg'/'reacher_v1.yaml', \n",
    "      cfg_args=dict(env_name='TargetReacher-v0', train_episodes=200)) # < 5 mins"
   ]
  },
  {
   "cell_type": "code",
   "execution_count": 50,
   "id": "4714194c",
   "metadata": {},
   "outputs": [
    {
     "name": "stdout",
     "output_type": "stream",
     "text": [
      "Numpy/Torch/Random Seed:  685\n",
      "Loading model from /notebooks/rl2023/ex1/results/model/TargetReacher-v0_params.pt ...\n",
      "Testing...\n",
      "Test ep reward: 15 seed: 978\n",
      "Test ep reward: 15 seed: 161\n",
      "Test ep reward: 15 seed: 709\n",
      "Test ep reward: 16 seed: 35\n",
      "Test ep reward: 15 seed: 746\n",
      "Test ep reward: 15 seed: 215\n",
      "Test ep reward: 15 seed: 553\n",
      "Test ep reward: 15 seed: 685\n",
      "Test ep reward: 10 seed: 615\n",
      "Test ep reward: 12 seed: 460\n",
      "Average test reward: 14.3 episode length: 52.1\n"
     ]
    }
   ],
   "source": [
    "t.test(episodes=10, cfg_path=Path().cwd()/'cfg'/'reacher_v1.yaml', \n",
    "       cfg_args=dict(env_name='TargetReacher-v0', seed=None, testing=True, use_wandb=False))"
   ]
  },
  {
   "cell_type": "code",
   "execution_count": 6,
   "id": "67152513",
   "metadata": {
    "tags": []
   },
   "outputs": [
    {
     "data": {
      "text/html": [
       "<video loop autoplay  >\n",
       " <source src=\"data:video/mp4;base64,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\" type=\"video/mp4\">\n",
       " Your browser does not support the video tag.\n",
       " </video>"
      ],
      "text/plain": [
       "<IPython.core.display.Video object>"
      ]
     },
     "execution_count": 6,
     "metadata": {},
     "output_type": "execute_result"
    }
   ],
   "source": [
    "Video(work_dir/'video'/'TargetReacher-v0'/'test'/f'ex1-episode-7.mp4',\n",
    "      embed=True, html_attributes=\"loop autoplay\") # Set html_attributes=\"controls\" for video control"
   ]
  },
  {
   "cell_type": "markdown",
   "id": "c384e863",
   "metadata": {},
   "source": [
    "<a id='T4'></a>\n",
    "<div class=\" alert alert-warning\">\n",
    "    <h3><b>Student Task 4.</b> Visualizing Behavior (10 points) </h3> \n",
    "\n",
    "Now, let us visualize the reward function for the second behavior (reaching the goal [1,1]). Plot the values of the second reward function from Task 3 and the learned best action as a function of the state (the joint positions). Use the code below as a starting point. After plotting, answer the questions below.\n",
    "            \n",
    "🔝\t<a href='#TOC'><b>Table of Contents</b></a>\n",
    "</div>\n"
   ]
  },
  {
   "cell_type": "markdown",
   "id": "867ce96c-d502-48ae-ab53-e3bec875ebdf",
   "metadata": {
    "tags": []
   },
   "source": [
    "## Notes on the difference between Task 3 and Task 4\n",
    "In Task 3, I employed a binary reward function which gives +1 reward if the agents gets closer to the target and -1 otherwise. In Task 4, since this reward function would get just a binary reward graph, I culculate the reward as the negative of the distance to the target. "
   ]
  },
  {
   "cell_type": "code",
   "execution_count": 1,
   "id": "139b3387",
   "metadata": {
    "tags": []
   },
   "outputs": [],
   "source": [
    "import matplotlib.pyplot as plt\n",
    "import seaborn as sns\n",
    "import gymnasium as gym\n",
    "from agent import Agent, Policy"
   ]
  },
  {
   "cell_type": "code",
   "execution_count": 2,
   "id": "0035a7f8",
   "metadata": {
    "tags": []
   },
   "outputs": [
    {
     "ename": "NameError",
     "evalue": "name 'Path' is not defined",
     "output_type": "error",
     "traceback": [
      "\u001b[0;31m---------------------------------------------------------------------------\u001b[0m",
      "\u001b[0;31mNameError\u001b[0m                                 Traceback (most recent call last)",
      "Cell \u001b[0;32mIn[2], line 5\u001b[0m\n\u001b[1;32m      2\u001b[0m resolution \u001b[38;5;241m=\u001b[39m \u001b[38;5;241m101\u001b[39m  \u001b[38;5;66;03m# Resolution of the policy/reward image\u001b[39;00m\n\u001b[1;32m      4\u001b[0m \u001b[38;5;66;03m# Load policy from default path to plot\u001b[39;00m\n\u001b[0;32m----> 5\u001b[0m policy_dir \u001b[38;5;241m=\u001b[39m \u001b[43mPath\u001b[49m()\u001b[38;5;241m.\u001b[39mcwd()\u001b[38;5;241m/\u001b[39m\u001b[38;5;124m'\u001b[39m\u001b[38;5;124mresults\u001b[39m\u001b[38;5;124m'\u001b[39m\u001b[38;5;241m/\u001b[39m\u001b[38;5;124m'\u001b[39m\u001b[38;5;124mmodel\u001b[39m\u001b[38;5;124m'\u001b[39m\u001b[38;5;241m/\u001b[39m\u001b[38;5;124mf\u001b[39m\u001b[38;5;124m'\u001b[39m\u001b[38;5;132;01m{\u001b[39;00menv_name\u001b[38;5;132;01m}\u001b[39;00m\u001b[38;5;124m_params.pt\u001b[39m\u001b[38;5;124m'\u001b[39m\n\u001b[1;32m      7\u001b[0m sns\u001b[38;5;241m.\u001b[39mset()\n\u001b[1;32m      9\u001b[0m \u001b[38;5;66;03m# Create a gym environment\u001b[39;00m\n",
      "\u001b[0;31mNameError\u001b[0m: name 'Path' is not defined"
     ]
    }
   ],
   "source": [
    "env_name = \"TargetReacher-v0\" \n",
    "resolution = 101  # Resolution of the policy/reward image\n",
    "\n",
    "# Load policy from default path to plot\n",
    "policy_dir = Path().cwd()/'results'/'model'/f'{env_name}_params.pt'\n",
    "\n",
    "sns.set()\n",
    "\n",
    "# Create a gym environment\n",
    "env = gym.make(env_name)\n",
    "\n",
    "action_space_dim = u.get_space_dim(env.action_space)\n",
    "observation_space_dim = u.get_space_dim(env.observation_space)\n",
    "policy = Policy(observation_space_dim, action_space_dim)\n",
    "\n",
    "if policy_dir:\n",
    "    policy.load_state_dict(torch.load(policy_dir))\n",
    "    print(\"Loading policy from\", policy_dir)\n",
    "else:\n",
    "    print(\"Plotting a random policy\")"
   ]
  },
  {
   "cell_type": "code",
   "execution_count": 16,
   "id": "170a06be",
   "metadata": {
    "scrolled": true,
    "tags": []
   },
   "outputs": [],
   "source": [
    "# Create a grid and initialize arrays to store rewards and actions\n",
    "npoints = resolution\n",
    "state_range = np.linspace(-np.pi, np.pi, npoints)\n",
    "rewards = np.zeros((npoints, npoints))\n",
    "actions = np.zeros((npoints, npoints), dtype=np.int32)\n",
    "\n",
    "# Loop through state[0] and state[1]\n",
    "for i,th1 in enumerate(state_range):\n",
    "    for j,th2 in enumerate(state_range):\n",
    "        # Create the state vector from th1, th2\n",
    "        state = np.array([th1, th2])\n",
    "        #print(i, j, th1, th2)\n",
    "\n",
    "        # Query the policy and find the most probable action\n",
    "        with torch.no_grad():\n",
    "            action_dist, _ = policy(torch.from_numpy(state).float().unsqueeze(0))\n",
    "        action_probs = action_dist.probs.numpy()\n",
    "        # if i == 1 & j == 1:\n",
    "        #     print(action_probs)\n",
    "\n",
    "        # TODO: Task 4: 1. What's the best action, according to the policy?\n",
    "        # .             2. Compute the reward given state\n",
    "        ########## Your code starts here ##########\n",
    "        # Use the action probabilities in the action_probs vector\n",
    "        # (it's a numpy array)\n",
    "        actions[i, j] = action_probs.argmax()\n",
    "        x = np.sin(th1) + np.sin(th1+th2)\n",
    "        y = -np.cos(th1) - np.cos(th1+th2)\n",
    "        x2 = np.square(x-1)\n",
    "        y2 = np.square(y-1)\n",
    "        rewards[i, j] = -np.sqrt(x2+y2)\n",
    "        ########## Your code ends here ##########\n"
   ]
  },
  {
   "cell_type": "code",
   "execution_count": 66,
   "id": "741474e8-8e6c-4257-808f-e3633e8d6e96",
   "metadata": {
    "tags": []
   },
   "outputs": [
    {
     "name": "stdout",
     "output_type": "stream",
     "text": [
      "[[0 0 0 ... 0 0 0]\n",
      " [0 0 0 ... 0 0 0]\n",
      " [0 0 0 ... 0 0 0]\n",
      " ...\n",
      " [2 2 2 ... 2 2 2]\n",
      " [2 2 2 ... 2 2 2]\n",
      " [2 2 2 ... 2 2 2]]\n"
     ]
    }
   ],
   "source": [
    "print(actions)"
   ]
  },
  {
   "cell_type": "code",
   "execution_count": 17,
   "id": "ea36aa9a",
   "metadata": {
    "tags": []
   },
   "outputs": [
    {
     "data": {
      "image/png": "[encoded data removed]",
      "text/plain": [
       "<Figure size 640x480 with 2 Axes>"
      ]
     },
     "metadata": {},
     "output_type": "display_data"
    }
   ],
   "source": [
    "# Create the reward plot\n",
    "num_ticks = 10\n",
    "tick_skip = max(1, npoints // num_ticks)\n",
    "tick_shift = 2*np.pi/npoints/2\n",
    "tick_points = np.arange(npoints)[::tick_skip] + tick_shift\n",
    "tick_labels = state_range.round(2)[::tick_skip]\n",
    "\n",
    "sns.heatmap(rewards)\n",
    "plt.xticks(tick_points, tick_labels, rotation=45)\n",
    "plt.yticks(tick_points, tick_labels, rotation=45)\n",
    "plt.xlabel(\"J2\")\n",
    "plt.ylabel(\"J1\")\n",
    "plt.title(\"Reward\")\n",
    "plt.suptitle(\"Rewards in %s\" % env_name)\n",
    "plt.show()\n"
   ]
  },
  {
   "cell_type": "code",
   "execution_count": 72,
   "id": "99f6c89a",
   "metadata": {},
   "outputs": [
    {
     "data": {
      "image/png": "[encoded data removed]",
      "text/plain": [
       "<Figure size 640x480 with 2 Axes>"
      ]
     },
     "metadata": {},
     "output_type": "display_data"
    }
   ],
   "source": [
    "# # Create the policy plot\n",
    "cmap = sns.color_palette(\"deep\", action_space_dim)\n",
    "sns.heatmap(actions, cmap=cmap, vmin=0, vmax=action_space_dim-1)\n",
    "plt.xticks(tick_points, tick_labels, rotation=45)\n",
    "plt.yticks(tick_points, tick_labels, rotation=45)\n",
    "colorbar = plt.gca().collections[0].colorbar\n",
    "ticks = np.array(range(action_space_dim))*((action_space_dim-1)/action_space_dim)+0.5\n",
    "colorbar.set_ticks(ticks)\n",
    "if env.spec.id == \"Reacher-v1\":\n",
    "    # In Reacher, we can replace 0..4 with more readable labels\n",
    "    labels = [\"J1+\", \"J1-\", \"J2+\", \"J2-\", \"Stop\"]\n",
    "else:\n",
    "    labels = list(map(str, range(action_space_dim)))\n",
    "colorbar.set_ticklabels(labels)\n",
    "plt.xlabel(\"J2\")\n",
    "plt.ylabel(\"J1\")\n",
    "plt.title(\"Best action\")\n",
    "plt.suptitle(\"Best action in %s\" % env_name)\n",
    "plt.show()"
   ]
  },
  {
   "cell_type": "markdown",
   "id": "c45dc911",
   "metadata": {},
   "source": [
    "<a id='3.2.1'></a>\n",
    "<div class=\" alert alert-warning\">\n",
    "    <h3><b>Student Question 4.1</b> Achieved Performance (5 points) </h3> \n",
    "\n",
    "Where are the highest and lowest reward achieved?\n",
    "            \n",
    "🔝\t<a href='#TOC'><b>Table of Contents</b></a>\n",
    "</div>\n"
   ]
  },
  {
   "cell_type": "code",
   "execution_count": 19,
   "id": "3bfcb44f-7369-48f9-b0f1-3242fdec3fd1",
   "metadata": {
    "tags": []
   },
   "outputs": [
    {
     "name": "stdout",
     "output_type": "stream",
     "text": [
      "lowest reward: -4.235768358395965, highest reward: -0.23759754940536468\n"
     ]
    }
   ],
   "source": [
    "print(f'lowest reward: {rewards.min()}, highest reward: {rewards.max()}')"
   ]
  },
  {
   "cell_type": "markdown",
   "id": "f77cbd95",
   "metadata": {},
   "source": [
    "<a id='Q5'></a>\n",
    "<div class=\" alert alert-warning\">\n",
    "    <h3><b>Student Question 4.2</b> Analysis of Behaviour (10 points) </h3> \n",
    "\n",
    "Did the policy learn to reach the goal from every possible state (manipulator configuration) in an optimal way (i.e. with lowest possible number of steps)? Why/why not?\n",
    "            \n",
    "🔝\t<a href='#TOC'><b>Table of Contents</b></a>\n",
    "</div>"
   ]
  },
  {
   "cell_type": "markdown",
   "id": "f5b2b7fd",
   "metadata": {},
   "source": [
    "The agent doesn't explore every possible state, so we can not be sure whether its policy is optimal. For the binary reward function, the agent also doesn't try to minimize the steps taken. For the negative distance reward, the agent will try to minimize the steps."
   ]
  },
  {
   "cell_type": "markdown",
   "id": "4c50da4d",
   "metadata": {},
   "source": [
    "# 4. Submitting <a id='4.'></a>\n",
    "Ensure all tasks and questions (in ```ex1.ipynb```) are answered and the relevant plots are recorded in the relevant places. Details about attaching images and figures can be found below. The relevant graphs to be included for this assignment are:\n",
    "- Task 1, WandB CartPole ```episodesep_reward``` plot\n",
    "- x2 Task 4 reward plots\n",
    "\n",
    "Ensure the correct model files are saved:\n",
    "- results/model/CartPole-v1_params.pt\n",
    "- results/model/SpinningReacher-v0_params.pt\n",
    "- results/model/TargetReacher-v0_params.pt"
   ]
  },
  {
   "cell_type": "markdown",
   "id": "ad098b5f",
   "metadata": {},
   "source": [
    "## 4.1 Feedback <a id='4.1'></a>\n",
    "In order to help the staff of the course as well as the forthcoming students, it would be great if you could\n",
    "answer feedback questionnaire in ```feedback.ipynb```"
   ]
  },
  {
   "cell_type": "markdown",
   "id": "e3f5f8d4",
   "metadata": {},
   "source": [
    "Please use the following section to record references.\n",
    "# References <a id='5.'></a>"
   ]
  },
  {
   "cell_type": "code",
   "execution_count": null,
   "id": "77d46fb7",
   "metadata": {},
   "outputs": [],
   "source": []
  }
 ],
 "metadata": {
  "kernelspec": {
   "display_name": "Python 3",
   "language": "python",
   "name": "python3"
  },
  "language_info": {
   "codemirror_mode": {
    "name": "ipython",
    "version": 3
   },
   "file_extension": ".py",
   "mimetype": "text/x-python",
   "name": "python",
   "nbconvert_exporter": "python",
   "pygments_lexer": "ipython3",
   "version": "3.10.8"
  }
 },
 "nbformat": 4,
 "nbformat_minor": 5
}
