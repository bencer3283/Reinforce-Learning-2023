{
 "cells": [
  {
   "cell_type": "markdown",
   "id": "53274fb5",
   "metadata": {},
   "source": [
    "\n",
    "<div class=\"alert alert-block alert-info\">\n",
    "   <h2 align=\"center\"> <center><b> Reinforcement Learning Assignment 1 - The Reinforcement Learning Framework</b></center></h2>\n",
    "\n",
    "<br>\n",
    "<center><font size=\"3\">This notebook is a part of teaching material for ELEC-E8125</font></center>\n",
    "<center><font size=\"3\">Sep 4, 2023 - Nov 30, 2023</font></center>\n",
    "<center><font size=\"3\">Aalto University</font></center>\n",
    "</div>\n",
    "\n",
    "\n",
    "<a id='TOC'></a>\n",
    "\n",
    "<div class=\"alert alert-block alert-success\">\n",
    "    \n",
    "# Table of contents\n",
    "* <a href='#1.'> 1. Introduction </a>\n",
    "* <a href='#1.1'> 1.1 Learning Objectives </a>\n",
    "* <a href='#1.2'> 1.2 Code Structure & Files </a>\n",
    "* <a href='#2.'> 2. Cartpole</a>\n",
    "* <a href='#3.'> 3. Reacher</a>\n",
    "* <a href='#4.'> 4. Submitting </a>\n",
    "* <a href='#4.1'> 4.1 Feedback </a>\n",
    "* <a href='#5.'> References</a>\n",
    "\n",
    "<a href='#T1'><b>Student Task 1.</b> Training a Model for Simple Cartpole Environment (10 points)</a>\\\n",
    "<a href='#Q1'><b>Student Question 1.1</b> Learning (10 points)</a>\\\n",
    "<a href='#T2'><b>Student Task 2.</b> Investigating Training Performance (10 points) </a>\\\n",
    "<a href='#Q2'><b>Student Question 2.1</b> Analysis of Training Performance (15 points) </a>\\\n",
    "<a href='#Q3'><b>Student Question 2.2</b> Stochasticity (10 points) </a>\\\n",
    "<a href='#T3'><b>Student Task 3.</b> Reward Functions (20 points) </a>\\\n",
    "<a href='#T4'><b>Student Task 4.</b> Visualizing Behavior (10 points) </a>\\\n",
    "<a href='#Q4'><b>Student Question 4.1</b> Achieved Peformance (5 points)\\\n",
    "<a href='#Q5'><b>Student Question 4.2</b> Analysis of Behaviour (10 points)</a>\n",
    "    \n",
    "**Total Points:** 100"
   ]
  },
  {
   "cell_type": "markdown",
   "id": "44ab28e9",
   "metadata": {},
   "source": [
    "# 1. Introduction <a id='1.'></a>\n",
    "In this exercise we will take a first look at a reinforcement learning environment, its components and modify the reward function of a simple agent.\n",
    "\n",
    "In this notebook two environments are used: Cartpole and Reacher. The cartpole environment is taken from [OpenAI's Gym library](https://www.gymlibrary.dev/). The reacher environment is custom made (and defined in ```reacher.py```) but utilizes the Gym API.\n",
    "\n",
    "## 1.1 Learning Objectives: <a id='1.1'></a>\n",
    "- To become familiar with assignment structure and the agent-environment relationshp\n",
    "- To understand the effects of stochasticity\n",
    "- To understand and explore the effects of task definition\n",
    "\n",
    "## 1.2 Code Structure & Files <a id='1.2'></a>\n",
    "\n",
    "The ```train.py``` file instantiates the environment and the RL agent that acts in it. The ```agent.py``` file contains the implementation of a simple reinforcement learning agent; for the sake of this exercise, you can assume it to be a black box (you don’t need to understand how it works, although you are encouraged to study it in more detail). You don’t have to edit any other file other than ```ex1.ipynb``` to complete this exercise.\n",
    "```\n",
    "├───cfg                  # Config files for environments e.g. define the maximum number of steps in an episode.\n",
    "├───imgs                 # Images used in notebook\n",
    "├───results \n",
    "│   ├───logging          # Contains logged data\n",
    "│   ├───model            # Contains the policies learned\n",
    "│   └───video            # Contains videos for each environment\n",
    "│       └───CartPole-v0\n",
    "│       │  └───test      # Videos saved during testing\n",
    "│       │  └───train     # Videos saved during training\n",
    "│       └───SpinningReacher-v0\n",
    "│           └───test\n",
    "│           └───train\n",
    "├───wandb                # Data saved for wandb\n",
    "│   ex1.ipynb            # Main assignment file containing tasks <---------\n",
    "│   feedback.ipynb       # Please give feedback in here\n",
    "│   README.ipynb         # This file\n",
    "│   agent.py             # Contains functions that govern the policy\n",
    "│   reacher.py           # Defines the reacher environment\n",
    "│   train.py             # Contains training and testing functions\n",
    "│   utils.py             # Contains useful functions \n",
    "```"
   ]
  },
  {
   "cell_type": "markdown",
   "id": "100c1cfb",
   "metadata": {},
   "source": [
    "Please consult ```README.md``` for more details the assignments.\n",
    "\n",
    "The assignments use wandb to visualize data. You need to set Wandb up and login using the command below."
   ]
  },
  {
   "cell_type": "code",
   "execution_count": 1,
   "id": "5b418e8a",
   "metadata": {
    "tags": []
   },
   "outputs": [
    {
     "name": "stdout",
     "output_type": "stream",
     "text": [
      "\u001b[34m\u001b[1mwandb\u001b[0m: Logging into wandb.ai. (Learn how to deploy a W&B server locally: https://wandb.me/wandb-server)\n",
      "\u001b[34m\u001b[1mwandb\u001b[0m: You can find your API key in your browser here: https://wandb.ai/authorize\n",
      "\u001b[34m\u001b[1mwandb\u001b[0m: Paste an API key from your profile and hit enter, or press ctrl+c to quit: \n",
      "Aborted!\n"
     ]
    }
   ],
   "source": [
    "! wandb login # Insert API key here. You can get your API key from https://wandb.ai/authorize"
   ]
  },
  {
   "cell_type": "code",
   "execution_count": 3,
   "id": "7abc2b87-f074-4764-a043-b974a5f95f49",
   "metadata": {
    "tags": []
   },
   "outputs": [
    {
     "name": "stderr",
     "output_type": "stream",
     "text": [
      "\u001b[34m\u001b[1mwandb\u001b[0m: Currently logged in as: \u001b[33mbencer\u001b[0m (\u001b[33mr-l\u001b[0m). Use \u001b[1m`wandb login --relogin`\u001b[0m to force relogin\n"
     ]
    },
    {
     "data": {
      "text/plain": [
       "True"
      ]
     },
     "execution_count": 3,
     "metadata": {},
     "output_type": "execute_result"
    }
   ],
   "source": [
    "import wandb\n",
    "wandb.login()"
   ]
  },
  {
   "cell_type": "code",
   "execution_count": 2,
   "id": "c8cb8a88",
   "metadata": {
    "tags": []
   },
   "outputs": [],
   "source": [
    "from pathlib import Path # to find directory\n",
    "work_dir = Path().cwd()/'results'\n",
    "import os\n",
    "os.environ['WANDB_NOTEBOOK_NAME'] = str(Path().cwd()/'ex1.ipynb') # Detects notebook for wandb\n",
    "\n",
    "import train as t # for training\n",
    "import utils as u # helper functions\n",
    "\n",
    "import numpy as np # The numpy library can be used for math functions\n",
    "import torch # Used to manage policy and learning\n",
    "from IPython.display import Video, display # to display videos"
   ]
  },
  {
   "cell_type": "markdown",
   "id": "f5e36a57",
   "metadata": {},
   "source": [
    "# 2. Cartpole <a id='2.'></a>\n",
    "\n",
    "The Cartpole environment consists of a cart and a pole mounted on top of it, as shown in Figure 1. The cart can move either to the left or to the right. The goal is to balance the pole in a vertical position in order to prevent it from falling down. The cart should also stay within limited distance from the center (trying to move outside screen boundaries is considered a failure).\n",
    "\n",
    "<figure>\n",
    "<img src=\"imgs/cartpole.png\" width=\"400px\">\n",
    "<figcaption style=\"text-align: center\"> Figure 1: The Cartpole environment  </figcaption>\n",
    "</figure>\n",
    "\n",
    "The state and the observation are four element vectors:\n",
    "\n",
    "$$\n",
    "o=s=\\left(\\begin{array}{c}\n",
    "x \\\\\n",
    "\\dot{x} \\\\\n",
    "\\theta \\\\\n",
    "\\dot{\\theta}\n",
    "\\end{array}\\right) \\text {, }\n",
    "$$\n",
    "\n",
    "where $x$ is the position of the cart, $\\dot{x}$ is its velocity, $\\theta$ is the angle of the pole w.r.t. the vertical axis, and $\\dot{\\theta}$ is the angular velocity of the pole.\n",
    "\n",
    "In the standard formulation, a reward of 1 is given for every timestep the pole remains balanced. Upon failing (the pole falls) or completing the task, an episode is finished.\n",
    "\n",
    "The training script will record videos of the agent’s learning progress during training, and the recorded videos are saved to ```results/video/CartPole-v0/train```. By default, the training information is saved to ```results/logging/CartPole-v0_logging.pkl``` as well as on cloud via wandb. When the training is finished, the models are saved to ```results/model/Cartpole-v0_params.pt```. The models can be tested by setting ```testing=true``` in ```cfg_args```, and if the models are saved to a different path, you can use ```model_path=<YOUR MODEL PATH>``` to indicate it. Videos of the agent’s behaviour during testing are saved to ```results/video/CartPole-v0/test```."
   ]
  },
  {
   "cell_type": "markdown",
   "id": "6d5bb7ba",
   "metadata": {
    "tags": []
   },
   "source": [
    "<a id='T1'></a>\n",
    "<div class=\" alert alert-warning\">\n",
    "    <h3><b>Student Task 1.</b> Training a Model for Simple Cartpole Environment (10 points) </h3> \n",
    "\n",
    "This task requires you to train a model for the cartpole environment with 100 timesteps per episode and then report the training plot using 'Weights \\& Biases'. Then test the model for 1000 timesteps and report average reward. To do this, you can simply run the code in the cells below. \n",
    "\n",
    "To see a full list of options that can be passed through ```cfg_args``` consult the configuation file found in ```cfg/```.\n",
    "\n",
    "- **1st:** setup 'Weights \\& Biases', check the README for help. \n",
    "- **2nd:** Run training over 100 steps per episode by using ```t.train``` function. See the cell below. \n",
    "- **3rd:** Export the training plot ```episodesep_reward``` from wandb (see ```README.md```) and attach below.\n",
    "- **4th:** Run testing over 1000 steps by using ```t.test``` function. See the cell below. See the cell below. Notice ```max_episode_steps``` parameter. \n",
    "- **5th:** Report the average reward after testing the model.\n",
    "    \n",
    "🔝\t<a href='#TOC'><b>Table of Contents</b></a>\n",
    "</div>\n"
   ]
  },
  {
   "cell_type": "code",
   "execution_count": 3,
   "id": "e0481176",
   "metadata": {
    "tags": []
   },
   "outputs": [
    {
     "name": "stdout",
     "output_type": "stream",
     "text": [
      "Numpy/Torch/Random Seed:  1\n"
     ]
    },
    {
     "name": "stderr",
     "output_type": "stream",
     "text": [
      "\u001b[34m\u001b[1mwandb\u001b[0m: Currently logged in as: \u001b[33mbencer\u001b[0m (\u001b[33mr-l\u001b[0m). Use \u001b[1m`wandb login --relogin`\u001b[0m to force relogin\n"
     ]
    },
    {
     "data": {
      "text/html": [
       "wandb version 0.15.10 is available!  To upgrade, please run:\n",
       " $ pip install wandb --upgrade"
      ],
      "text/plain": [
       "<IPython.core.display.HTML object>"
      ]
     },
     "metadata": {},
     "output_type": "display_data"
    },
    {
     "data": {
      "text/html": [
       "Tracking run with wandb version 0.15.9"
      ],
      "text/plain": [
       "<IPython.core.display.HTML object>"
      ]
     },
     "metadata": {},
     "output_type": "display_data"
    },
    {
     "data": {
      "text/html": [
       "Run data is saved locally in <code>/notebooks/rl2023/ex1/wandb/run-20230914_074138-p3v8ov07</code>"
      ],
      "text/plain": [
       "<IPython.core.display.HTML object>"
      ]
     },
     "metadata": {},
     "output_type": "display_data"
    },
    {
     "data": {
      "text/html": [
       "Syncing run <strong><a href='https://wandb.ai/r-l/rl_aalto/runs/p3v8ov07' target=\"_blank\">ex1-CartPole-v1-1-1694666496</a></strong> to <a href='https://wandb.ai/r-l/rl_aalto' target=\"_blank\">Weights & Biases</a> (<a href='https://wandb.me/run' target=\"_blank\">docs</a>)<br/>"
      ],
      "text/plain": [
       "<IPython.core.display.HTML object>"
      ]
     },
     "metadata": {},
     "output_type": "display_data"
    },
    {
     "data": {
      "text/html": [
       " View project at <a href='https://wandb.ai/r-l/rl_aalto' target=\"_blank\">https://wandb.ai/r-l/rl_aalto</a>"
      ],
      "text/plain": [
       "<IPython.core.display.HTML object>"
      ]
     },
     "metadata": {},
     "output_type": "display_data"
    },
    {
     "data": {
      "text/html": [
       " View run at <a href='https://wandb.ai/r-l/rl_aalto/runs/p3v8ov07' target=\"_blank\">https://wandb.ai/r-l/rl_aalto/runs/p3v8ov07</a>"
      ],
      "text/plain": [
       "<IPython.core.display.HTML object>"
      ]
     },
     "metadata": {},
     "output_type": "display_data"
    },
    {
     "name": "stderr",
     "output_type": "stream",
     "text": [
      "/opt/software/lib/python3.10/site-packages/gymnasium/wrappers/record_video.py:94: UserWarning: \u001b[33mWARN: Overwriting existing videos at /notebooks/rl2023/ex1/results/video/CartPole-v1/train folder (try specifying a different `video_folder` for the `RecordVideo` wrapper if this is not desired)\u001b[0m\n",
      "  logger.warn(\n"
     ]
    },
    {
     "name": "stdout",
     "output_type": "stream",
     "text": [
      "Configuration Settings: {'exp_name': 'ex1', 'seed': 1, 'env_name': 'CartPole-v1', 'max_episode_steps': 100, 'train_episodes': 500, 'batch_size': 64, 'min_update_samples': 2000, 'testing': False, 'model_path': 'default', 'save_video': True, 'save_model': True, 'save_logging': True, 'silent': False, 'use_wandb': True, 'run_suffix': 0}\n",
      "Training device: cpu\n",
      "Observation space dimensions: 4\n",
      "Action space dimensions: 2\n",
      "\n",
      "Episode 0 finished. Total reward: 28.0 (28 timesteps)\n",
      "Episode 1 finished. Total reward: 34.0 (34 timesteps)\n",
      "Episode 2 finished. Total reward: 17.0 (17 timesteps)\n",
      "Episode 3 finished. Total reward: 11.0 (11 timesteps)\n",
      "Episode 4 finished. Total reward: 34.0 (34 timesteps)\n",
      "Episode 5 finished. Total reward: 18.0 (18 timesteps)\n",
      "Episode 6 finished. Total reward: 76.0 (76 timesteps)\n",
      "Episode 7 finished. Total reward: 12.0 (12 timesteps)\n",
      "Episode 8 finished. Total reward: 10.0 (10 timesteps)\n",
      "Episode 9 finished. Total reward: 41.0 (41 timesteps)\n",
      "Episode 10 finished. Total reward: 33.0 (33 timesteps)\n",
      "Episode 11 finished. Total reward: 20.0 (20 timesteps)\n",
      "Episode 12 finished. Total reward: 29.0 (29 timesteps)\n",
      "Episode 13 finished. Total reward: 11.0 (11 timesteps)\n",
      "Episode 14 finished. Total reward: 15.0 (15 timesteps)\n",
      "Episode 15 finished. Total reward: 14.0 (14 timesteps)\n",
      "Episode 16 finished. Total reward: 11.0 (11 timesteps)\n",
      "Episode 17 finished. Total reward: 14.0 (14 timesteps)\n",
      "Episode 18 finished. Total reward: 28.0 (28 timesteps)\n",
      "Episode 19 finished. Total reward: 15.0 (15 timesteps)\n",
      "Episode 20 finished. Total reward: 10.0 (10 timesteps)\n",
      "Episode 21 finished. Total reward: 17.0 (17 timesteps)\n",
      "Episode 22 finished. Total reward: 17.0 (17 timesteps)\n",
      "Episode 23 finished. Total reward: 44.0 (44 timesteps)\n",
      "Episode 24 finished. Total reward: 17.0 (17 timesteps)\n",
      "Episode 25 finished. Total reward: 17.0 (17 timesteps)\n",
      "Episode 26 finished. Total reward: 15.0 (15 timesteps)\n",
      "Episode 27 finished. Total reward: 23.0 (23 timesteps)\n",
      "Episode 28 finished. Total reward: 15.0 (15 timesteps)\n",
      "Episode 29 finished. Total reward: 17.0 (17 timesteps)\n",
      "Episode 30 finished. Total reward: 10.0 (10 timesteps)\n",
      "Episode 31 finished. Total reward: 31.0 (31 timesteps)\n",
      "Episode 32 finished. Total reward: 12.0 (12 timesteps)\n",
      "Episode 33 finished. Total reward: 14.0 (14 timesteps)\n",
      "Episode 34 finished. Total reward: 10.0 (10 timesteps)\n",
      "Episode 35 finished. Total reward: 11.0 (11 timesteps)\n",
      "Episode 36 finished. Total reward: 35.0 (35 timesteps)\n",
      "Episode 37 finished. Total reward: 19.0 (19 timesteps)\n",
      "Episode 38 finished. Total reward: 12.0 (12 timesteps)\n",
      "Episode 39 finished. Total reward: 9.0 (9 timesteps)\n",
      "Episode 40 finished. Total reward: 12.0 (12 timesteps)\n",
      "Episode 41 finished. Total reward: 14.0 (14 timesteps)\n",
      "Episode 42 finished. Total reward: 14.0 (14 timesteps)\n",
      "Episode 43 finished. Total reward: 20.0 (20 timesteps)\n",
      "Episode 44 finished. Total reward: 46.0 (46 timesteps)\n",
      "Episode 45 finished. Total reward: 25.0 (25 timesteps)\n",
      "Episode 46 finished. Total reward: 14.0 (14 timesteps)\n",
      "Episode 47 finished. Total reward: 13.0 (13 timesteps)\n",
      "Episode 48 finished. Total reward: 18.0 (18 timesteps)\n",
      "Episode 49 finished. Total reward: 17.0 (17 timesteps)\n",
      "Episode 50 finished. Total reward: 21.0 (21 timesteps)\n",
      "Episode 51 finished. Total reward: 23.0 (23 timesteps)\n",
      "Episode 52 finished. Total reward: 15.0 (15 timesteps)\n",
      "Episode 53 finished. Total reward: 62.0 (62 timesteps)\n",
      "Episode 54 finished. Total reward: 18.0 (18 timesteps)\n",
      "Episode 55 finished. Total reward: 21.0 (21 timesteps)\n",
      "Episode 56 finished. Total reward: 25.0 (25 timesteps)\n",
      "Episode 57 finished. Total reward: 14.0 (14 timesteps)\n",
      "Episode 58 finished. Total reward: 14.0 (14 timesteps)\n",
      "Episode 59 finished. Total reward: 25.0 (25 timesteps)\n",
      "Episode 60 finished. Total reward: 14.0 (14 timesteps)\n",
      "Episode 61 finished. Total reward: 19.0 (19 timesteps)\n",
      "Episode 62 finished. Total reward: 13.0 (13 timesteps)\n",
      "Episode 63 finished. Total reward: 11.0 (11 timesteps)\n",
      "Episode 64 finished. Total reward: 24.0 (24 timesteps)\n",
      "Episode 65 finished. Total reward: 21.0 (21 timesteps)\n",
      "Episode 66 finished. Total reward: 31.0 (31 timesteps)\n",
      "Episode 67 finished. Total reward: 83.0 (83 timesteps)\n",
      "Episode 68 finished. Total reward: 12.0 (12 timesteps)\n",
      "Episode 69 finished. Total reward: 17.0 (17 timesteps)\n",
      "Episode 70 finished. Total reward: 49.0 (49 timesteps)\n",
      "Episode 71 finished. Total reward: 18.0 (18 timesteps)\n",
      "Episode 72 finished. Total reward: 22.0 (22 timesteps)\n",
      "Episode 73 finished. Total reward: 23.0 (23 timesteps)\n",
      "Episode 74 finished. Total reward: 30.0 (30 timesteps)\n",
      "Episode 75 finished. Total reward: 15.0 (15 timesteps)\n",
      "Episode 76 finished. Total reward: 22.0 (22 timesteps)\n",
      "Episode 77 finished. Total reward: 55.0 (55 timesteps)\n",
      "Episode 78 finished. Total reward: 15.0 (15 timesteps)\n",
      "Episode 79 finished. Total reward: 12.0 (12 timesteps)\n",
      "Episode 80 finished. Total reward: 37.0 (37 timesteps)\n",
      "Episode 81 finished. Total reward: 9.0 (9 timesteps)\n",
      "Episode 82 finished. Total reward: 13.0 (13 timesteps)\n",
      "Episode 83 finished. Total reward: 16.0 (16 timesteps)\n",
      "Episode 84 finished. Total reward: 10.0 (10 timesteps)\n",
      "Episode 85 finished. Total reward: 27.0 (27 timesteps)\n",
      "Episode 86 finished. Total reward: 14.0 (14 timesteps)\n",
      "Episode 87 finished. Total reward: 20.0 (20 timesteps)\n",
      "Episode 88 finished. Total reward: 29.0 (29 timesteps)\n",
      "Episode 89 finished. Total reward: 9.0 (9 timesteps)\n",
      "Episode 90 finished. Total reward: 13.0 (13 timesteps)\n",
      "Episode 91 finished. Total reward: 13.0 (13 timesteps)\n",
      "Episode 92 finished. Total reward: 19.0 (19 timesteps)\n",
      "Updating the policy...\n",
      "Updating finished!\n",
      "Episode 93 finished. Total reward: 50.0 (50 timesteps)\n",
      "Episode 94 finished. Total reward: 24.0 (24 timesteps)\n",
      "Episode 95 finished. Total reward: 38.0 (38 timesteps)\n",
      "Episode 96 finished. Total reward: 19.0 (19 timesteps)\n",
      "Episode 97 finished. Total reward: 13.0 (13 timesteps)\n",
      "Episode 98 finished. Total reward: 20.0 (20 timesteps)\n",
      "Episode 99 finished. Total reward: 14.0 (14 timesteps)\n",
      "Episode 100 finished. Total reward: 50.0 (50 timesteps)\n",
      "Episode 101 finished. Total reward: 20.0 (20 timesteps)\n",
      "Episode 102 finished. Total reward: 49.0 (49 timesteps)\n",
      "Episode 103 finished. Total reward: 32.0 (32 timesteps)\n",
      "Episode 104 finished. Total reward: 21.0 (21 timesteps)\n",
      "Episode 105 finished. Total reward: 10.0 (10 timesteps)\n",
      "Episode 106 finished. Total reward: 26.0 (26 timesteps)\n",
      "Episode 107 finished. Total reward: 16.0 (16 timesteps)\n",
      "Episode 108 finished. Total reward: 12.0 (12 timesteps)\n",
      "Episode 109 finished. Total reward: 23.0 (23 timesteps)\n",
      "Episode 110 finished. Total reward: 23.0 (23 timesteps)\n",
      "Episode 111 finished. Total reward: 18.0 (18 timesteps)\n",
      "Episode 112 finished. Total reward: 50.0 (50 timesteps)\n",
      "Episode 113 finished. Total reward: 13.0 (13 timesteps)\n",
      "Episode 114 finished. Total reward: 56.0 (56 timesteps)\n",
      "Episode 115 finished. Total reward: 13.0 (13 timesteps)\n",
      "Episode 116 finished. Total reward: 96.0 (96 timesteps)\n",
      "Episode 117 finished. Total reward: 28.0 (28 timesteps)\n",
      "Episode 118 finished. Total reward: 60.0 (60 timesteps)\n",
      "Episode 119 finished. Total reward: 46.0 (46 timesteps)\n",
      "Episode 120 finished. Total reward: 23.0 (23 timesteps)\n",
      "Episode 121 finished. Total reward: 26.0 (26 timesteps)\n",
      "Episode 122 finished. Total reward: 26.0 (26 timesteps)\n",
      "Episode 123 finished. Total reward: 57.0 (57 timesteps)\n",
      "Episode 124 finished. Total reward: 20.0 (20 timesteps)\n",
      "Episode 125 finished. Total reward: 15.0 (15 timesteps)\n",
      "Episode 126 finished. Total reward: 18.0 (18 timesteps)\n",
      "Episode 127 finished. Total reward: 25.0 (25 timesteps)\n",
      "Episode 128 finished. Total reward: 30.0 (30 timesteps)\n",
      "Episode 129 finished. Total reward: 46.0 (46 timesteps)\n",
      "Episode 130 finished. Total reward: 20.0 (20 timesteps)\n",
      "Episode 131 finished. Total reward: 64.0 (64 timesteps)\n",
      "Episode 132 finished. Total reward: 42.0 (42 timesteps)\n",
      "Episode 133 finished. Total reward: 19.0 (19 timesteps)\n",
      "Episode 134 finished. Total reward: 28.0 (28 timesteps)\n",
      "Episode 135 finished. Total reward: 28.0 (28 timesteps)\n",
      "Episode 136 finished. Total reward: 40.0 (40 timesteps)\n",
      "Episode 137 finished. Total reward: 23.0 (23 timesteps)\n",
      "Episode 138 finished. Total reward: 15.0 (15 timesteps)\n",
      "Episode 139 finished. Total reward: 22.0 (22 timesteps)\n",
      "Episode 140 finished. Total reward: 42.0 (42 timesteps)\n",
      "Episode 141 finished. Total reward: 40.0 (40 timesteps)\n",
      "Episode 142 finished. Total reward: 34.0 (34 timesteps)\n",
      "Episode 143 finished. Total reward: 64.0 (64 timesteps)\n",
      "Episode 144 finished. Total reward: 14.0 (14 timesteps)\n",
      "Episode 145 finished. Total reward: 32.0 (32 timesteps)\n",
      "Episode 146 finished. Total reward: 21.0 (21 timesteps)\n",
      "Episode 147 finished. Total reward: 17.0 (17 timesteps)\n",
      "Episode 148 finished. Total reward: 24.0 (24 timesteps)\n",
      "Episode 149 finished. Total reward: 9.0 (9 timesteps)\n",
      "Episode 150 finished. Total reward: 100.0 (100 timesteps)\n",
      "Episode 151 finished. Total reward: 54.0 (54 timesteps)\n",
      "Episode 152 finished. Total reward: 14.0 (14 timesteps)\n",
      "Episode 153 finished. Total reward: 26.0 (26 timesteps)\n",
      "Episode 154 finished. Total reward: 72.0 (72 timesteps)\n",
      "Episode 155 finished. Total reward: 10.0 (10 timesteps)\n",
      "Updating the policy...\n",
      "Updating finished!\n",
      "Episode 156 finished. Total reward: 57.0 (57 timesteps)\n",
      "Episode 157 finished. Total reward: 16.0 (16 timesteps)\n",
      "Episode 158 finished. Total reward: 30.0 (30 timesteps)\n",
      "Episode 159 finished. Total reward: 35.0 (35 timesteps)\n",
      "Episode 160 finished. Total reward: 23.0 (23 timesteps)\n",
      "Episode 161 finished. Total reward: 41.0 (41 timesteps)\n",
      "Episode 162 finished. Total reward: 64.0 (64 timesteps)\n",
      "Episode 163 finished. Total reward: 18.0 (18 timesteps)\n",
      "Episode 164 finished. Total reward: 14.0 (14 timesteps)\n",
      "Episode 165 finished. Total reward: 22.0 (22 timesteps)\n",
      "Episode 166 finished. Total reward: 32.0 (32 timesteps)\n",
      "Episode 167 finished. Total reward: 100.0 (100 timesteps)\n",
      "Episode 168 finished. Total reward: 47.0 (47 timesteps)\n",
      "Episode 169 finished. Total reward: 12.0 (12 timesteps)\n",
      "Episode 170 finished. Total reward: 31.0 (31 timesteps)\n",
      "Episode 171 finished. Total reward: 25.0 (25 timesteps)\n",
      "Episode 172 finished. Total reward: 17.0 (17 timesteps)\n",
      "Episode 173 finished. Total reward: 100.0 (100 timesteps)\n",
      "Episode 174 finished. Total reward: 24.0 (24 timesteps)\n",
      "Episode 175 finished. Total reward: 13.0 (13 timesteps)\n",
      "Episode 176 finished. Total reward: 48.0 (48 timesteps)\n",
      "Episode 177 finished. Total reward: 21.0 (21 timesteps)\n",
      "Episode 178 finished. Total reward: 42.0 (42 timesteps)\n",
      "Episode 179 finished. Total reward: 39.0 (39 timesteps)\n",
      "Episode 180 finished. Total reward: 15.0 (15 timesteps)\n",
      "Episode 181 finished. Total reward: 25.0 (25 timesteps)\n",
      "Episode 182 finished. Total reward: 52.0 (52 timesteps)\n",
      "Episode 183 finished. Total reward: 27.0 (27 timesteps)\n",
      "Episode 184 finished. Total reward: 100.0 (100 timesteps)\n",
      "Episode 185 finished. Total reward: 36.0 (36 timesteps)\n",
      "Episode 186 finished. Total reward: 83.0 (83 timesteps)\n",
      "Episode 187 finished. Total reward: 74.0 (74 timesteps)\n",
      "Episode 188 finished. Total reward: 13.0 (13 timesteps)\n",
      "Episode 189 finished. Total reward: 33.0 (33 timesteps)\n",
      "Episode 190 finished. Total reward: 100.0 (100 timesteps)\n",
      "Episode 191 finished. Total reward: 10.0 (10 timesteps)\n",
      "Episode 192 finished. Total reward: 31.0 (31 timesteps)\n",
      "Episode 193 finished. Total reward: 100.0 (100 timesteps)\n",
      "Episode 194 finished. Total reward: 43.0 (43 timesteps)\n",
      "Episode 195 finished. Total reward: 74.0 (74 timesteps)\n",
      "Episode 196 finished. Total reward: 19.0 (19 timesteps)\n",
      "Episode 197 finished. Total reward: 13.0 (13 timesteps)\n",
      "Episode 198 finished. Total reward: 16.0 (16 timesteps)\n",
      "Episode 199 finished. Total reward: 100.0 (100 timesteps)\n",
      "Episode 200 finished. Total reward: 46.0 (46 timesteps)\n",
      "Episode 201 finished. Total reward: 33.0 (33 timesteps)\n",
      "Episode 202 finished. Total reward: 51.0 (51 timesteps)\n",
      "Episode 203 finished. Total reward: 16.0 (16 timesteps)\n",
      "Updating the policy...\n",
      "Updating finished!\n",
      "Episode 204 finished. Total reward: 90.0 (90 timesteps)\n",
      "Episode 205 finished. Total reward: 100.0 (100 timesteps)\n",
      "Episode 206 finished. Total reward: 18.0 (18 timesteps)\n",
      "Episode 207 finished. Total reward: 48.0 (48 timesteps)\n",
      "Episode 208 finished. Total reward: 31.0 (31 timesteps)\n",
      "Episode 209 finished. Total reward: 63.0 (63 timesteps)\n",
      "Episode 210 finished. Total reward: 19.0 (19 timesteps)\n",
      "Episode 211 finished. Total reward: 32.0 (32 timesteps)\n",
      "Episode 212 finished. Total reward: 100.0 (100 timesteps)\n",
      "Episode 213 finished. Total reward: 100.0 (100 timesteps)\n",
      "Episode 214 finished. Total reward: 61.0 (61 timesteps)\n",
      "Episode 215 finished. Total reward: 100.0 (100 timesteps)\n",
      "Episode 216 finished. Total reward: 17.0 (17 timesteps)\n",
      "Episode 217 finished. Total reward: 84.0 (84 timesteps)\n",
      "Episode 218 finished. Total reward: 100.0 (100 timesteps)\n",
      "Episode 219 finished. Total reward: 100.0 (100 timesteps)\n",
      "Episode 220 finished. Total reward: 98.0 (98 timesteps)\n",
      "Episode 221 finished. Total reward: 100.0 (100 timesteps)\n",
      "Episode 222 finished. Total reward: 100.0 (100 timesteps)\n",
      "Episode 223 finished. Total reward: 22.0 (22 timesteps)\n",
      "Episode 224 finished. Total reward: 99.0 (99 timesteps)\n",
      "Episode 225 finished. Total reward: 100.0 (100 timesteps)\n",
      "Episode 226 finished. Total reward: 46.0 (46 timesteps)\n",
      "Episode 227 finished. Total reward: 74.0 (74 timesteps)\n",
      "Episode 228 finished. Total reward: 100.0 (100 timesteps)\n",
      "Episode 229 finished. Total reward: 59.0 (59 timesteps)\n",
      "Episode 230 finished. Total reward: 100.0 (100 timesteps)\n",
      "Updating the policy...\n",
      "Updating finished!\n",
      "Episode 231 finished. Total reward: 100.0 (100 timesteps)\n",
      "Episode 232 finished. Total reward: 100.0 (100 timesteps)\n",
      "Episode 233 finished. Total reward: 100.0 (100 timesteps)\n",
      "Episode 234 finished. Total reward: 100.0 (100 timesteps)\n",
      "Episode 235 finished. Total reward: 100.0 (100 timesteps)\n",
      "Episode 236 finished. Total reward: 100.0 (100 timesteps)\n",
      "Episode 237 finished. Total reward: 36.0 (36 timesteps)\n",
      "Episode 238 finished. Total reward: 100.0 (100 timesteps)\n",
      "Episode 239 finished. Total reward: 100.0 (100 timesteps)\n",
      "Episode 240 finished. Total reward: 100.0 (100 timesteps)\n",
      "Episode 241 finished. Total reward: 100.0 (100 timesteps)\n",
      "Episode 242 finished. Total reward: 100.0 (100 timesteps)\n",
      "Episode 243 finished. Total reward: 100.0 (100 timesteps)\n",
      "Episode 244 finished. Total reward: 52.0 (52 timesteps)\n",
      "Episode 245 finished. Total reward: 100.0 (100 timesteps)\n",
      "Episode 246 finished. Total reward: 14.0 (14 timesteps)\n",
      "Episode 247 finished. Total reward: 55.0 (55 timesteps)\n",
      "Episode 248 finished. Total reward: 100.0 (100 timesteps)\n",
      "Episode 249 finished. Total reward: 100.0 (100 timesteps)\n",
      "Episode 250 finished. Total reward: 100.0 (100 timesteps)\n",
      "Episode 251 finished. Total reward: 52.0 (52 timesteps)\n",
      "Episode 252 finished. Total reward: 100.0 (100 timesteps)\n",
      "Episode 253 finished. Total reward: 100.0 (100 timesteps)\n",
      "Updating the policy...\n",
      "Updating finished!\n",
      "Episode 254 finished. Total reward: 100.0 (100 timesteps)\n",
      "Episode 255 finished. Total reward: 100.0 (100 timesteps)\n",
      "Episode 256 finished. Total reward: 100.0 (100 timesteps)\n",
      "Episode 257 finished. Total reward: 100.0 (100 timesteps)\n",
      "Episode 258 finished. Total reward: 54.0 (54 timesteps)\n",
      "Episode 259 finished. Total reward: 100.0 (100 timesteps)\n",
      "Episode 260 finished. Total reward: 100.0 (100 timesteps)\n",
      "Episode 261 finished. Total reward: 100.0 (100 timesteps)\n",
      "Episode 262 finished. Total reward: 100.0 (100 timesteps)\n",
      "Episode 263 finished. Total reward: 100.0 (100 timesteps)\n",
      "Episode 264 finished. Total reward: 100.0 (100 timesteps)\n",
      "Episode 265 finished. Total reward: 100.0 (100 timesteps)\n",
      "Episode 266 finished. Total reward: 100.0 (100 timesteps)\n",
      "Episode 267 finished. Total reward: 100.0 (100 timesteps)\n",
      "Episode 268 finished. Total reward: 100.0 (100 timesteps)\n",
      "Episode 269 finished. Total reward: 100.0 (100 timesteps)\n",
      "Episode 270 finished. Total reward: 20.0 (20 timesteps)\n",
      "Episode 271 finished. Total reward: 100.0 (100 timesteps)\n",
      "Episode 272 finished. Total reward: 19.0 (19 timesteps)\n",
      "Episode 273 finished. Total reward: 100.0 (100 timesteps)\n",
      "Episode 274 finished. Total reward: 100.0 (100 timesteps)\n",
      "Episode 275 finished. Total reward: 100.0 (100 timesteps)\n",
      "Updating the policy...\n",
      "Updating finished!\n",
      "Episode 276 finished. Total reward: 95.0 (95 timesteps)\n",
      "Episode 277 finished. Total reward: 100.0 (100 timesteps)\n",
      "Episode 278 finished. Total reward: 100.0 (100 timesteps)\n",
      "Episode 279 finished. Total reward: 100.0 (100 timesteps)\n",
      "Episode 280 finished. Total reward: 100.0 (100 timesteps)\n",
      "Episode 281 finished. Total reward: 100.0 (100 timesteps)\n",
      "Episode 282 finished. Total reward: 91.0 (91 timesteps)\n",
      "Episode 283 finished. Total reward: 100.0 (100 timesteps)\n",
      "Episode 284 finished. Total reward: 79.0 (79 timesteps)\n",
      "Episode 285 finished. Total reward: 100.0 (100 timesteps)\n",
      "Episode 286 finished. Total reward: 100.0 (100 timesteps)\n",
      "Episode 287 finished. Total reward: 100.0 (100 timesteps)\n",
      "Episode 288 finished. Total reward: 100.0 (100 timesteps)\n",
      "Episode 289 finished. Total reward: 100.0 (100 timesteps)\n",
      "Episode 290 finished. Total reward: 100.0 (100 timesteps)\n",
      "Episode 291 finished. Total reward: 100.0 (100 timesteps)\n",
      "Episode 292 finished. Total reward: 100.0 (100 timesteps)\n",
      "Episode 293 finished. Total reward: 90.0 (90 timesteps)\n",
      "Episode 294 finished. Total reward: 100.0 (100 timesteps)\n",
      "Episode 295 finished. Total reward: 100.0 (100 timesteps)\n",
      "Episode 296 finished. Total reward: 100.0 (100 timesteps)\n",
      "Updating the policy...\n",
      "Updating finished!\n",
      "Episode 297 finished. Total reward: 100.0 (100 timesteps)\n",
      "Episode 298 finished. Total reward: 100.0 (100 timesteps)\n",
      "Episode 299 finished. Total reward: 100.0 (100 timesteps)\n",
      "Episode 300 finished. Total reward: 100.0 (100 timesteps)\n",
      "Episode 301 finished. Total reward: 68.0 (68 timesteps)\n",
      "Episode 302 finished. Total reward: 100.0 (100 timesteps)\n",
      "Episode 303 finished. Total reward: 100.0 (100 timesteps)\n",
      "Episode 304 finished. Total reward: 100.0 (100 timesteps)\n",
      "Episode 305 finished. Total reward: 100.0 (100 timesteps)\n",
      "Episode 306 finished. Total reward: 100.0 (100 timesteps)\n",
      "Episode 307 finished. Total reward: 100.0 (100 timesteps)\n",
      "Episode 308 finished. Total reward: 100.0 (100 timesteps)\n",
      "Episode 309 finished. Total reward: 100.0 (100 timesteps)\n",
      "Episode 310 finished. Total reward: 100.0 (100 timesteps)\n",
      "Episode 311 finished. Total reward: 100.0 (100 timesteps)\n",
      "Episode 312 finished. Total reward: 100.0 (100 timesteps)\n",
      "Episode 313 finished. Total reward: 100.0 (100 timesteps)\n",
      "Episode 314 finished. Total reward: 100.0 (100 timesteps)\n",
      "Episode 315 finished. Total reward: 100.0 (100 timesteps)\n",
      "Episode 316 finished. Total reward: 100.0 (100 timesteps)\n",
      "Updating the policy...\n",
      "Updating finished!\n",
      "Episode 317 finished. Total reward: 100.0 (100 timesteps)\n",
      "Episode 318 finished. Total reward: 100.0 (100 timesteps)\n",
      "Episode 319 finished. Total reward: 100.0 (100 timesteps)\n",
      "Episode 320 finished. Total reward: 100.0 (100 timesteps)\n",
      "Episode 321 finished. Total reward: 100.0 (100 timesteps)\n",
      "Episode 322 finished. Total reward: 100.0 (100 timesteps)\n",
      "Episode 323 finished. Total reward: 100.0 (100 timesteps)\n",
      "Episode 324 finished. Total reward: 100.0 (100 timesteps)\n",
      "Episode 325 finished. Total reward: 100.0 (100 timesteps)\n",
      "Episode 326 finished. Total reward: 100.0 (100 timesteps)\n",
      "Episode 327 finished. Total reward: 100.0 (100 timesteps)\n",
      "Episode 328 finished. Total reward: 100.0 (100 timesteps)\n",
      "Episode 329 finished. Total reward: 100.0 (100 timesteps)\n",
      "Episode 330 finished. Total reward: 100.0 (100 timesteps)\n",
      "Episode 331 finished. Total reward: 100.0 (100 timesteps)\n",
      "Episode 332 finished. Total reward: 100.0 (100 timesteps)\n",
      "Episode 333 finished. Total reward: 100.0 (100 timesteps)\n",
      "Episode 334 finished. Total reward: 100.0 (100 timesteps)\n",
      "Episode 335 finished. Total reward: 100.0 (100 timesteps)\n",
      "Episode 336 finished. Total reward: 100.0 (100 timesteps)\n",
      "Updating the policy...\n",
      "Updating finished!\n",
      "Episode 337 finished. Total reward: 100.0 (100 timesteps)\n",
      "Episode 338 finished. Total reward: 100.0 (100 timesteps)\n",
      "Episode 339 finished. Total reward: 100.0 (100 timesteps)\n",
      "Episode 340 finished. Total reward: 100.0 (100 timesteps)\n",
      "Episode 341 finished. Total reward: 100.0 (100 timesteps)\n",
      "Episode 342 finished. Total reward: 100.0 (100 timesteps)\n",
      "Episode 343 finished. Total reward: 100.0 (100 timesteps)\n",
      "Episode 344 finished. Total reward: 84.0 (84 timesteps)\n",
      "Episode 345 finished. Total reward: 100.0 (100 timesteps)\n",
      "Episode 346 finished. Total reward: 100.0 (100 timesteps)\n",
      "Episode 347 finished. Total reward: 100.0 (100 timesteps)\n",
      "Episode 348 finished. Total reward: 17.0 (17 timesteps)\n",
      "Episode 349 finished. Total reward: 100.0 (100 timesteps)\n",
      "Episode 350 finished. Total reward: 100.0 (100 timesteps)\n",
      "Episode 351 finished. Total reward: 100.0 (100 timesteps)\n",
      "Episode 352 finished. Total reward: 100.0 (100 timesteps)\n",
      "Episode 353 finished. Total reward: 100.0 (100 timesteps)\n",
      "Episode 354 finished. Total reward: 100.0 (100 timesteps)\n",
      "Episode 355 finished. Total reward: 100.0 (100 timesteps)\n",
      "Episode 356 finished. Total reward: 100.0 (100 timesteps)\n",
      "Episode 357 finished. Total reward: 100.0 (100 timesteps)\n",
      "Updating the policy...\n",
      "Updating finished!\n",
      "Episode 358 finished. Total reward: 100.0 (100 timesteps)\n",
      "Episode 359 finished. Total reward: 100.0 (100 timesteps)\n",
      "Episode 360 finished. Total reward: 100.0 (100 timesteps)\n",
      "Episode 361 finished. Total reward: 100.0 (100 timesteps)\n",
      "Episode 362 finished. Total reward: 100.0 (100 timesteps)\n",
      "Episode 363 finished. Total reward: 100.0 (100 timesteps)\n",
      "Episode 364 finished. Total reward: 100.0 (100 timesteps)\n",
      "Episode 365 finished. Total reward: 100.0 (100 timesteps)\n",
      "Episode 366 finished. Total reward: 100.0 (100 timesteps)\n",
      "Episode 367 finished. Total reward: 100.0 (100 timesteps)\n",
      "Episode 368 finished. Total reward: 100.0 (100 timesteps)\n",
      "Episode 369 finished. Total reward: 100.0 (100 timesteps)\n",
      "Episode 370 finished. Total reward: 100.0 (100 timesteps)\n",
      "Episode 371 finished. Total reward: 100.0 (100 timesteps)\n",
      "Episode 372 finished. Total reward: 100.0 (100 timesteps)\n",
      "Episode 373 finished. Total reward: 100.0 (100 timesteps)\n",
      "Episode 374 finished. Total reward: 100.0 (100 timesteps)\n",
      "Episode 375 finished. Total reward: 100.0 (100 timesteps)\n",
      "Episode 376 finished. Total reward: 100.0 (100 timesteps)\n",
      "Episode 377 finished. Total reward: 100.0 (100 timesteps)\n",
      "Updating the policy...\n",
      "Updating finished!\n",
      "Episode 378 finished. Total reward: 100.0 (100 timesteps)\n",
      "Episode 379 finished. Total reward: 44.0 (44 timesteps)\n",
      "Episode 380 finished. Total reward: 100.0 (100 timesteps)\n",
      "Episode 381 finished. Total reward: 100.0 (100 timesteps)\n",
      "Episode 382 finished. Total reward: 100.0 (100 timesteps)\n",
      "Episode 383 finished. Total reward: 100.0 (100 timesteps)\n",
      "Episode 384 finished. Total reward: 100.0 (100 timesteps)\n",
      "Episode 385 finished. Total reward: 100.0 (100 timesteps)\n",
      "Episode 386 finished. Total reward: 100.0 (100 timesteps)\n",
      "Episode 387 finished. Total reward: 100.0 (100 timesteps)\n",
      "Episode 388 finished. Total reward: 100.0 (100 timesteps)\n",
      "Episode 389 finished. Total reward: 100.0 (100 timesteps)\n",
      "Episode 390 finished. Total reward: 100.0 (100 timesteps)\n",
      "Episode 391 finished. Total reward: 69.0 (69 timesteps)\n",
      "Episode 392 finished. Total reward: 100.0 (100 timesteps)\n",
      "Episode 393 finished. Total reward: 100.0 (100 timesteps)\n",
      "Episode 394 finished. Total reward: 100.0 (100 timesteps)\n",
      "Episode 395 finished. Total reward: 100.0 (100 timesteps)\n",
      "Episode 396 finished. Total reward: 100.0 (100 timesteps)\n",
      "Episode 397 finished. Total reward: 83.0 (83 timesteps)\n",
      "Episode 398 finished. Total reward: 100.0 (100 timesteps)\n",
      "Updating the policy...\n",
      "Updating finished!\n",
      "Episode 399 finished. Total reward: 100.0 (100 timesteps)\n",
      "Episode 400 finished. Total reward: 100.0 (100 timesteps)\n",
      "Episode 401 finished. Total reward: 100.0 (100 timesteps)\n",
      "Episode 402 finished. Total reward: 100.0 (100 timesteps)\n",
      "Episode 403 finished. Total reward: 100.0 (100 timesteps)\n",
      "Episode 404 finished. Total reward: 100.0 (100 timesteps)\n",
      "Episode 405 finished. Total reward: 100.0 (100 timesteps)\n",
      "Episode 406 finished. Total reward: 100.0 (100 timesteps)\n",
      "Episode 407 finished. Total reward: 68.0 (68 timesteps)\n",
      "Episode 408 finished. Total reward: 100.0 (100 timesteps)\n",
      "Episode 409 finished. Total reward: 100.0 (100 timesteps)\n",
      "Episode 410 finished. Total reward: 100.0 (100 timesteps)\n",
      "Episode 411 finished. Total reward: 100.0 (100 timesteps)\n",
      "Episode 412 finished. Total reward: 100.0 (100 timesteps)\n",
      "Episode 413 finished. Total reward: 100.0 (100 timesteps)\n",
      "Episode 414 finished. Total reward: 100.0 (100 timesteps)\n",
      "Episode 415 finished. Total reward: 100.0 (100 timesteps)\n",
      "Episode 416 finished. Total reward: 100.0 (100 timesteps)\n",
      "Episode 417 finished. Total reward: 100.0 (100 timesteps)\n",
      "Episode 418 finished. Total reward: 100.0 (100 timesteps)\n",
      "Updating the policy...\n",
      "Updating finished!\n",
      "Episode 419 finished. Total reward: 100.0 (100 timesteps)\n",
      "Episode 420 finished. Total reward: 100.0 (100 timesteps)\n",
      "Episode 421 finished. Total reward: 100.0 (100 timesteps)\n",
      "Episode 422 finished. Total reward: 100.0 (100 timesteps)\n",
      "Episode 423 finished. Total reward: 100.0 (100 timesteps)\n",
      "Episode 424 finished. Total reward: 100.0 (100 timesteps)\n",
      "Episode 425 finished. Total reward: 100.0 (100 timesteps)\n",
      "Episode 426 finished. Total reward: 100.0 (100 timesteps)\n",
      "Episode 427 finished. Total reward: 100.0 (100 timesteps)\n",
      "Episode 428 finished. Total reward: 100.0 (100 timesteps)\n",
      "Episode 429 finished. Total reward: 100.0 (100 timesteps)\n",
      "Episode 430 finished. Total reward: 100.0 (100 timesteps)\n",
      "Episode 431 finished. Total reward: 27.0 (27 timesteps)\n",
      "Episode 432 finished. Total reward: 100.0 (100 timesteps)\n",
      "Episode 433 finished. Total reward: 20.0 (20 timesteps)\n",
      "Episode 434 finished. Total reward: 100.0 (100 timesteps)\n",
      "Episode 435 finished. Total reward: 100.0 (100 timesteps)\n",
      "Episode 436 finished. Total reward: 100.0 (100 timesteps)\n",
      "Episode 437 finished. Total reward: 100.0 (100 timesteps)\n",
      "Episode 438 finished. Total reward: 100.0 (100 timesteps)\n",
      "Episode 439 finished. Total reward: 100.0 (100 timesteps)\n",
      "Episode 440 finished. Total reward: 100.0 (100 timesteps)\n",
      "Updating the policy...\n",
      "Updating finished!\n",
      "Episode 441 finished. Total reward: 100.0 (100 timesteps)\n",
      "Episode 442 finished. Total reward: 44.0 (44 timesteps)\n",
      "Episode 443 finished. Total reward: 77.0 (77 timesteps)\n",
      "Episode 444 finished. Total reward: 100.0 (100 timesteps)\n",
      "Episode 445 finished. Total reward: 100.0 (100 timesteps)\n",
      "Episode 446 finished. Total reward: 100.0 (100 timesteps)\n",
      "Episode 447 finished. Total reward: 100.0 (100 timesteps)\n",
      "Episode 448 finished. Total reward: 100.0 (100 timesteps)\n",
      "Episode 449 finished. Total reward: 100.0 (100 timesteps)\n",
      "Episode 450 finished. Total reward: 100.0 (100 timesteps)\n",
      "Episode 451 finished. Total reward: 100.0 (100 timesteps)\n",
      "Episode 452 finished. Total reward: 100.0 (100 timesteps)\n",
      "Episode 453 finished. Total reward: 100.0 (100 timesteps)\n",
      "Episode 454 finished. Total reward: 100.0 (100 timesteps)\n",
      "Episode 455 finished. Total reward: 100.0 (100 timesteps)\n",
      "Episode 456 finished. Total reward: 100.0 (100 timesteps)\n",
      "Episode 457 finished. Total reward: 100.0 (100 timesteps)\n",
      "Episode 458 finished. Total reward: 100.0 (100 timesteps)\n",
      "Episode 459 finished. Total reward: 100.0 (100 timesteps)\n",
      "Episode 460 finished. Total reward: 100.0 (100 timesteps)\n",
      "Episode 461 finished. Total reward: 100.0 (100 timesteps)\n",
      "Updating the policy...\n",
      "Updating finished!\n",
      "Episode 462 finished. Total reward: 100.0 (100 timesteps)\n",
      "Episode 463 finished. Total reward: 100.0 (100 timesteps)\n",
      "Episode 464 finished. Total reward: 100.0 (100 timesteps)\n",
      "Episode 465 finished. Total reward: 100.0 (100 timesteps)\n",
      "Episode 466 finished. Total reward: 19.0 (19 timesteps)\n",
      "Episode 467 finished. Total reward: 100.0 (100 timesteps)\n",
      "Episode 468 finished. Total reward: 100.0 (100 timesteps)\n",
      "Episode 469 finished. Total reward: 100.0 (100 timesteps)\n",
      "Episode 470 finished. Total reward: 100.0 (100 timesteps)\n",
      "Episode 471 finished. Total reward: 100.0 (100 timesteps)\n",
      "Episode 472 finished. Total reward: 100.0 (100 timesteps)\n",
      "Episode 473 finished. Total reward: 100.0 (100 timesteps)\n",
      "Episode 474 finished. Total reward: 100.0 (100 timesteps)\n",
      "Episode 475 finished. Total reward: 100.0 (100 timesteps)\n",
      "Episode 476 finished. Total reward: 100.0 (100 timesteps)\n",
      "Episode 477 finished. Total reward: 100.0 (100 timesteps)\n",
      "Episode 478 finished. Total reward: 100.0 (100 timesteps)\n",
      "Episode 479 finished. Total reward: 100.0 (100 timesteps)\n",
      "Episode 480 finished. Total reward: 100.0 (100 timesteps)\n",
      "Episode 481 finished. Total reward: 100.0 (100 timesteps)\n",
      "Episode 482 finished. Total reward: 100.0 (100 timesteps)\n",
      "Updating the policy...\n",
      "Updating finished!\n",
      "Episode 483 finished. Total reward: 100.0 (100 timesteps)\n",
      "Episode 484 finished. Total reward: 100.0 (100 timesteps)\n",
      "Episode 485 finished. Total reward: 100.0 (100 timesteps)\n",
      "Episode 486 finished. Total reward: 100.0 (100 timesteps)\n",
      "Episode 487 finished. Total reward: 100.0 (100 timesteps)\n",
      "Episode 488 finished. Total reward: 100.0 (100 timesteps)\n",
      "Episode 489 finished. Total reward: 100.0 (100 timesteps)\n",
      "Episode 490 finished. Total reward: 100.0 (100 timesteps)\n",
      "Episode 491 finished. Total reward: 100.0 (100 timesteps)\n",
      "Episode 492 finished. Total reward: 100.0 (100 timesteps)\n",
      "Episode 493 finished. Total reward: 100.0 (100 timesteps)\n",
      "Episode 494 finished. Total reward: 100.0 (100 timesteps)\n",
      "Episode 495 finished. Total reward: 100.0 (100 timesteps)\n",
      "Episode 496 finished. Total reward: 100.0 (100 timesteps)\n",
      "Episode 497 finished. Total reward: 100.0 (100 timesteps)\n",
      "Episode 498 finished. Total reward: 100.0 (100 timesteps)\n",
      "Episode 499 finished. Total reward: 100.0 (100 timesteps)\n",
      "Episode 500 finished. Total reward: 100.0 (100 timesteps)\n",
      "Model saved to /notebooks/rl2023/ex1/results/model/CartPole-v1_params.pt\n",
      "------Training finished.------\n"
     ]
    }
   ],
   "source": [
    "t.train(cfg_path=Path().cwd()/'cfg'/'cartpole_v1.yaml', \n",
    "        cfg_args=dict(seed=1, max_episode_steps=100)) # < 5 mins"
   ]
  },
  {
   "cell_type": "markdown",
   "id": "1d967ec4",
   "metadata": {},
   "source": [
    "<figure>\n",
    "<img src=\"imgs/cartpole-reward.png\" width=\"400px\">\n",
    "<figcaption style=\"text-align: center\"> Figure x: Rewards for Cartpole  </figcaption>\n",
    "</figure>"
   ]
  },
  {
   "cell_type": "markdown",
   "id": "b0230ba0",
   "metadata": {},
   "source": [
    "The command below will evaluate the trained model in 10 episodes and report the average reward (and episode length) for these 10 episodes."
   ]
  },
  {
   "cell_type": "code",
   "execution_count": 4,
   "id": "95418d8d",
   "metadata": {
    "tags": []
   },
   "outputs": [
    {
     "name": "stdout",
     "output_type": "stream",
     "text": [
      "Numpy/Torch/Random Seed:  501\n",
      "Loading model from /notebooks/rl2023/ex1/results/model/CartPole-v1_params.pt ...\n",
      "Testing...\n"
     ]
    },
    {
     "name": "stderr",
     "output_type": "stream",
     "text": [
      "/opt/software/lib/python3.10/site-packages/gymnasium/wrappers/record_video.py:94: UserWarning: \u001b[33mWARN: Overwriting existing videos at /notebooks/rl2023/ex1/results/video/CartPole-v1/test folder (try specifying a different `video_folder` for the `RecordVideo` wrapper if this is not desired)\u001b[0m\n",
      "  logger.warn(\n"
     ]
    },
    {
     "name": "stdout",
     "output_type": "stream",
     "text": [
      "Test ep reward: 137.0 seed: 88\n",
      "Test ep reward: 127.0 seed: 672\n",
      "Test ep reward: 131.0 seed: 680\n",
      "Test ep reward: 127.0 seed: 592\n",
      "Test ep reward: 135.0 seed: 481\n",
      "Test ep reward: 137.0 seed: 78\n",
      "Test ep reward: 147.0 seed: 735\n",
      "Test ep reward: 156.0 seed: 852\n",
      "Test ep reward: 132.0 seed: 694\n",
      "Test ep reward: 126.0 seed: 965\n",
      "Average test reward: 135.5 episode length: 135.5\n"
     ]
    }
   ],
   "source": [
    "t.test(episodes=10, \n",
    "       cfg_path=Path().cwd()/'cfg'/'cartpole_v1.yaml', \n",
    "       cfg_args=dict(testing=True, seed=None, max_episode_steps=1000, use_wandb=False))"
   ]
  },
  {
   "cell_type": "markdown",
   "id": "18da8596",
   "metadata": {},
   "source": [
    "Average test reward: 135.5"
   ]
  },
  {
   "cell_type": "markdown",
   "id": "65a689b7",
   "metadata": {},
   "source": [
    "The agent acting in the environment can be seen using the following command. Change the ```path``` to pick the episode you want to visualize. Bear in mind by default video saving for training is taken every 50 episodes."
   ]
  },
  {
   "cell_type": "code",
   "execution_count": 30,
   "id": "d41d0186-5ac9-4240-ada4-2f15286c13da",
   "metadata": {
    "tags": []
   },
   "outputs": [],
   "source": [
    "#! pip install html\n",
    "from IPython.display import Video, display, HTML"
   ]
  },
  {
   "cell_type": "code",
   "execution_count": 31,
   "id": "ee7bc0ff",
   "metadata": {
    "tags": []
   },
   "outputs": [
    {
     "name": "stdout",
     "output_type": "stream",
     "text": [
      "test/ ex1-episode-0.mp4\n"
     ]
    },
    {
     "data": {
      "text/html": [
       "<div style=\"width: 200px; height: 100px;; border: 1px solid #FF5733;\"><video loop autoplay  width=\"200\"  height=\"100\">\n",
       " <source src=\"data:video/mp4;base64,AAAAIGZ0eXBpc29tAAACAGlzb21pc28yYXZjMW1wNDEAAAAIZnJlZQAACUBtZGF0AAACrwYF//+r3EXpvebZSLeWLNgg2SPu73gyNjQgLSBjb3JlIDE2NCByMzA5NSBiYWVlNDAwIC0gSC4yNjQvTVBFRy00IEFWQyBjb2RlYyAtIENvcHlsZWZ0IDIwMDMtMjAyMiAtIGh0dHA6Ly93d3cudmlkZW9sYW4ub3JnL3gyNjQuaHRtbCAtIG9wdGlvbnM6IGNhYmFjPTEgcmVmPTMgZGVibG9jaz0xOjA6MCBhbmFseXNlPTB4MzoweDExMyBtZT1oZXggc3VibWU9NyBwc3k9MSBwc3lfcmQ9MS4wMDowLjAwIG1peGVkX3JlZj0xIG1lX3JhbmdlPTE2IGNocm9tYV9tZT0xIHRyZWxsaXM9MSA4eDhkY3Q9MSBjcW09MCBkZWFkem9uZT0yMSwxMSBmYXN0X3Bza2lwPTEgY2hyb21hX3FwX29mZnNldD0tMiB0aHJlYWRzPTEyIGxvb2thaGVhZF90aHJlYWRzPTIgc2xpY2VkX3RocmVhZHM9MCBucj0wIGRlY2ltYXRlPTEgaW50ZXJsYWNlZD0wIGJsdXJheV9jb21wYXQ9MCBjb25zdHJhaW5lZF9pbnRyYT0wIGJmcmFtZXM9MyBiX3B5cmFtaWQ9MiBiX2FkYXB0PTEgYl9iaWFzPTAgZGlyZWN0PTEgd2VpZ2h0Yj0xIG9wZW5fZ29wPTAgd2VpZ2h0cD0yIGtleWludD0yNTAga2V5aW50X21pbj0yNSBzY2VuZWN1dD00MCBpbnRyYV9yZWZyZXNoPTAgcmNfbG9va2FoZWFkPTQwIHJjPWNyZiBtYnRyZWU9MSBjcmY9MjMuMCBxY29tcD0wLjYwIHFwbWluPTAgcXBtYXg9NjkgcXBzdGVwPTQgaXBfcmF0aW89MS40MCBhcT0xOjEuMDAAgAAAAgxliIQAK//+9nN8CmtHM5UuBXb3ZqPl0JLl+xBg+tAAAAMAAAMAAE3FRM6LCmPE2QAAAwBcQBHgsAjwlQthIR9jpDJwTG7YAFAcja04/9NgL4LHd3c9BlfETKVssN6MfPT2bCTCnaglc7XW6F+lCLOjXNV8GnYFYIsn+vtnwMqiQSuwI2m6Pg381+DRUVgDkA3zDL3roYvkgWS8cWm2BQbXlrwAKtzIxOPd+7TknSAn9PStCe6Ex++HiJUFm68sjnEKtZND2X8ofQphjyeoLy3Bdgwq0GfeGgd+RQ3ELmYaJAc1/UmFipvK7BzBTQBVh38FB17NHPpAKgsP36JsoabYbAp0hMABUF0qWYOHlZXjyYWnTB4E1JTJ4sxNO8N90/yrHTKe2Abgng6kAAF/fBInASj6OL834/+AUPDgggRRL8/3w3rbF4QH4RR8sN/w6gWqm9V2VxEBAU//9Hz7wAAECUuBj1u7tavI0rJFZIJV+mqy/DA6lM//yZs3xmkx/dH/ztEnKyDoAOqWWwtqBpzWhSgksOLemJhRkd1SIpCb/Pbub2aQJ0fx8TGWHPn09f7W7efroG7xwll4WhFKWs8bVs162tJVBHCk6AAALcj0Jt4SCLdRedeq6igu7ga5cvqiaIv7dNlQuRxvAm60T3EOOzRIHyWlyCJsG6uwLgAXWAAAAwAAAwAAAwABZQAAAClBmiRsQn/98QAAAwDynm6AHOubzOejJNNtvXEa14GlWxnhqOy8bZKZWAAAADZBnkJ4hH8AAAgsCh6I+3Af8anaAg/ZAQAkfLEusl243kxkqegPVistbu53ltDYAswuhfZVAj8AAAAXAZ5hdEf/AAANLhLzX4/ww7vaqEONggIAAAAWAZ5jakf/AAADAAo+eQzBQRiEx2W1iwAAAPFBmmhJqEFomUwIR//94QAABBY5OzsSYLPn4ph73AArkVR2d7dzvDf9gtPN/Vib7jE3TvC0z+582J0cIpfS+rOULfHcKsMx65IIcyAzLp8qda6JV2Cmfh/+5/GB/WKF3ksl3bfiixu5zgycnIiHuhQc1Xpb1JlWBIqkjCcsSD4LmqUwMsXJqgoG8DkZ86YJ13ciDFjWGo3E00YR6zdRuPe8UjUyA/MMHsv//FKm/v/y1yyRxSczw53tBA5vFG96DfSxeujgxew2GvRF2Z39/XDqEx3P5nZTBgnWSVePNVXSplLuc0wAhWFF9QuhGRx1mWxNAAAAbEGehkURLCP/AAAWsqxFySbJgIQm1AnQaMjls5iH8VL2jJTJ3gsBWCCy3XIynzOkb7QQumEIK2AEKNxPRxzt+bMMpWmnj/uJz8eP/aDHBiE+XAScoeiy8m7Q0oAAAAMAAAMBX0ACJGMKcIDUgQAAADoBnqV0R/8AACPAmTJuXE5WhveNSpSGmhVfIt+Pha+Ig2Y9m8zhE9nphT3q04JXe6v6EOfCviGCMLbhAAAAVQGep2pH/wAAIz1vc4kgMhzv0Hj7Tr9XkRc3yZeHiYHUnCYJyvcAB9kUK7Onx9yhwRROsP6zJNf7Br7Q3l8QsRxLU/xFFHOtB6ZeQm32r2VT0ii/OLAAAACQQZqsSahBbJlMCP/8hAAAD92bxWt0XyzMsdFb1Fg8+SwrmO6YAhBGz1vakGVxJ6RFGczjnokFymrj9urgAGuV4ozfm5jL3An1SwxOYgSZiyCWqOZgUmevgudcxgtuSHTETKvno7Pm+fy+WDqcAGE/f0Z6zug2elo31NV/k0oVWjtsGaunYbnIQ5JXMG+FbwO+AAAAfkGeykUVLCP/AAAWwDeAUjb538ZacPOHEtFNKlSI1exIcGygXldjtJRemENhpKv7ok16XMFOCACWLSWSoc/kMmgzWwKa5O++m4UkUifpRP1lhUgAql6HWPm6hVIQ3IWpYJN1UEFmw9QkYsdm4rqgA+RSIwAAAwABTxhiyqgHzQAAADsBnul0R/8AACOZUgEgD5nDbnShVDT7A7HDr+yKOQO94xucHhp6ajjoiQSNRTN+1wU8KN5zDOyLmqBWwAAAAD0BnutqR/8AACOZJ+WWNa6qK4LUd9i7LROtbQ0NX+fPj2WcSu2+aaNMXoiMpW5a+W97KfjBzifYjCOxS5uCAAAAQ0Ga7UmoQWyZTAj//IQAAA/UGlj/hHwV1fKymtZhIyVoLlo1rhYETYsHaU+MFJFvxYxnSQAfXuIp3M8LJXRrNNDkKz0AAAPTbW9vdgAAAGxtdmhkAAAAAAAAAAAAAAAAAAAD6AAAARgAAQAAAQAAAAAAAAAAAAAAAAEAAAAAAAAAAAAAAAAAAAABAAAAAAAAAAAAAAAAAABAAAAAAAAAAAAAAAAAAAAAAAAAAAAAAAAAAAAAAAAAAgAAAv10cmFrAAAAXHRraGQAAAADAAAAAAAAAAAAAAABAAAAAAAAARgAAAAAAAAAAAAAAAAAAAAAAAEAAAAAAAAAAAAAAAAAAAABAAAAAAAAAAAAAAAAAABAAAAAAlgAAAGQAAAAAAAkZWR0cwAAABxlbHN0AAAAAAAAAAEAAAEYAAACAAABAAAAAAJ1bWRpYQAAACBtZGhkAAAAAAAAAAAAAAAAAAAyAAAADgBVxAAAAAAALWhkbHIAAAAAAAAAAHZpZGUAAAAAAAAAAAAAAABWaWRlb0hhbmRsZXIAAAACIG1pbmYAAAAUdm1oZAAAAAEAAAAAAAAAAAAAACRkaW5mAAAAHGRyZWYAAAAAAAAAAQAAAAx1cmwgAAAAAQAAAeBzdGJsAAAAsHN0c2QAAAAAAAAAAQAAAKBhdmMxAAAAAAAAAAEAAAAAAAAAAAAAAAAAAAAAAlgBkABIAAAASAAAAAAAAAABAAAAAAAAAAAAAAAAAAAAAAAAAAAAAAAAAAAAAAAAAAAAGP//AAAANmF2Y0MBZAAf/+EAGWdkAB+s2UCYM+XhAAADAAEAAAMAZA8YMZYBAAZo6+PLIsD9+PgAAAAAFGJ0cnQAAAAAAAEHZAABB2QAAAAYc3R0cwAAAAAAAAABAAAADgAAAQAAAAAUc3RzcwAAAAAAAAABAAAAAQAAAIBjdHRzAAAAAAAAAA4AAAABAAACAAAAAAEAAAUAAAAAAQAAAgAAAAABAAAAAAAAAAEAAAEAAAAAAQAABQAAAAABAAACAAAAAAEAAAAAAAAAAQAAAQAAAAABAAAFAAAAAAEAAAIAAAAAAQAAAAAAAAABAAABAAAAAAEAAAIAAAAAHHN0c2MAAAAAAAAAAQAAAAEAAAAOAAAAAQAAAExzdHN6AAAAAAAAAAAAAAAOAAAEwwAAAC0AAAA6AAAAGwAAABoAAAD1AAAAcAAAAD4AAABZAAAAlAAAAIIAAAA/AAAAQQAAAEcAAAAUc3RjbwAAAAAAAAABAAAAMAAAAGJ1ZHRhAAAAWm1ldGEAAAAAAAAAIWhkbHIAAAAAAAAAAG1kaXJhcHBsAAAAAAAAAAAAAAAALWlsc3QAAAAlqXRvbwAAAB1kYXRhAAAAAQAAAABMYXZmNTguNzYuMTAw\" type=\"video/mp4\">\n",
       " Your browser does not support the video tag.\n",
       " </video></div>"
      ],
      "text/plain": [
       "<IPython.core.display.HTML object>"
      ]
     },
     "metadata": {},
     "output_type": "display_data"
    },
    {
     "name": "stdout",
     "output_type": "stream",
     "text": [
      "test/ ex1-episode-50.mp4\n"
     ]
    },
    {
     "data": {
      "text/html": [
       "<div style=\"width: 200px; height: 100px;; border: 1px solid #FF5733;\"><video loop autoplay  width=\"200\"  height=\"100\">\n",
       " <source src=\"data:video/mp4;base64,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\" type=\"video/mp4\">\n",
       " Your browser does not support the video tag.\n",
       " </video></div>"
      ],
      "text/plain": [
       "<IPython.core.display.HTML object>"
      ]
     },
     "metadata": {},
     "output_type": "display_data"
    },
    {
     "name": "stdout",
     "output_type": "stream",
     "text": [
      "test/ ex1-episode-100.mp4\n"
     ]
    },
    {
     "data": {
      "text/html": [
       "<div style=\"width: 200px; height: 100px;; border: 1px solid #FF5733;\"><video loop autoplay  width=\"200\"  height=\"100\">\n",
       " <source src=\"data:video/mp4;base64,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\" type=\"video/mp4\">\n",
       " Your browser does not support the video tag.\n",
       " </video></div>"
      ],
      "text/plain": [
       "<IPython.core.display.HTML object>"
      ]
     },
     "metadata": {},
     "output_type": "display_data"
    },
    {
     "name": "stdout",
     "output_type": "stream",
     "text": [
      "test/ ex1-episode-150.mp4\n"
     ]
    },
    {
     "data": {
      "text/html": [
       "<div style=\"width: 200px; height: 100px;; border: 1px solid #FF5733;\"><video loop autoplay  width=\"200\"  height=\"100\">\n",
       " <source src=\"data:video/mp4;base64,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\" type=\"video/mp4\">\n",
       " Your browser does not support the video tag.\n",
       " </video></div>"
      ],
      "text/plain": [
       "<IPython.core.display.HTML object>"
      ]
     },
     "metadata": {},
     "output_type": "display_data"
    },
    {
     "name": "stdout",
     "output_type": "stream",
     "text": [
      "test/ ex1-episode-200.mp4\n"
     ]
    },
    {
     "data": {
      "text/html": [
       "<div style=\"width: 200px; height: 100px;; border: 1px solid #FF5733;\"><video loop autoplay  width=\"200\"  height=\"100\">\n",
       " <source src=\"data:video/mp4;base64,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\" type=\"video/mp4\">\n",
       " Your browser does not support the video tag.\n",
       " </video></div>"
      ],
      "text/plain": [
       "<IPython.core.display.HTML object>"
      ]
     },
     "metadata": {},
     "output_type": "display_data"
    },
    {
     "name": "stdout",
     "output_type": "stream",
     "text": [
      "test/ ex1-episode-250.mp4\n"
     ]
    },
    {
     "data": {
      "text/html": [
       "<div style=\"width: 200px; height: 100px;; border: 1px solid #FF5733;\"><video loop autoplay  width=\"200\"  height=\"100\">\n",
       " <source src=\"data:video/mp4;base64,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\" type=\"video/mp4\">\n",
       " Your browser does not support the video tag.\n",
       " </video></div>"
      ],
      "text/plain": [
       "<IPython.core.display.HTML object>"
      ]
     },
     "metadata": {},
     "output_type": "display_data"
    },
    {
     "name": "stdout",
     "output_type": "stream",
     "text": [
      "test/ ex1-episode-300.mp4\n"
     ]
    },
    {
     "data": {
      "text/html": [
       "<div style=\"width: 200px; height: 100px;; border: 1px solid #FF5733;\"><video loop autoplay  width=\"200\"  height=\"100\">\n",
       " <source src=\"data:video/mp4;base64,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\" type=\"video/mp4\">\n",
       " Your browser does not support the video tag.\n",
       " </video></div>"
      ],
      "text/plain": [
       "<IPython.core.display.HTML object>"
      ]
     },
     "metadata": {},
     "output_type": "display_data"
    },
    {
     "name": "stdout",
     "output_type": "stream",
     "text": [
      "test/ ex1-episode-350.mp4\n"
     ]
    },
    {
     "data": {
      "text/html": [
       "<div style=\"width: 200px; height: 100px;; border: 1px solid #FF5733;\"><video loop autoplay  width=\"200\"  height=\"100\">\n",
       " <source src=\"data:video/mp4;base64,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\" type=\"video/mp4\">\n",
       " Your browser does not support the video tag.\n",
       " </video></div>"
      ],
      "text/plain": [
       "<IPython.core.display.HTML object>"
      ]
     },
     "metadata": {},
     "output_type": "display_data"
    },
    {
     "name": "stdout",
     "output_type": "stream",
     "text": [
      "test/ ex1-episode-400.mp4\n"
     ]
    },
    {
     "data": {
      "text/html": [
       "<div style=\"width: 200px; height: 100px;; border: 1px solid #FF5733;\"><video loop autoplay  width=\"200\"  height=\"100\">\n",
       " <source src=\"data:video/mp4;base64,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\" type=\"video/mp4\">\n",
       " Your browser does not support the video tag.\n",
       " </video></div>"
      ],
      "text/plain": [
       "<IPython.core.display.HTML object>"
      ]
     },
     "metadata": {},
     "output_type": "display_data"
    },
    {
     "name": "stdout",
     "output_type": "stream",
     "text": [
      "test/ ex1-episode-450.mp4\n"
     ]
    },
    {
     "data": {
      "text/html": [
       "<div style=\"width: 200px; height: 100px;; border: 1px solid #FF5733;\"><video loop autoplay  width=\"200\"  height=\"100\">\n",
       " <source src=\"data:video/mp4;base64,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\" type=\"video/mp4\">\n",
       " Your browser does not support the video tag.\n",
       " </video></div>"
      ],
      "text/plain": [
       "<IPython.core.display.HTML object>"
      ]
     },
     "metadata": {},
     "output_type": "display_data"
    },
    {
     "name": "stdout",
     "output_type": "stream",
     "text": [
      "test/ ex1-episode-500.mp4\n"
     ]
    },
    {
     "data": {
      "text/html": [
       "<div style=\"width: 200px; height: 100px;; border: 1px solid #FF5733;\"><video loop autoplay  width=\"200\"  height=\"100\">\n",
       " <source src=\"data:video/mp4;base64,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\" type=\"video/mp4\">\n",
       " Your browser does not support the video tag.\n",
       " </video></div>"
      ],
      "text/plain": [
       "<IPython.core.display.HTML object>"
      ]
     },
     "metadata": {},
     "output_type": "display_data"
    }
   ],
   "source": [
    "# Train Result\n",
    "video_dir = work_dir/'video'/'CartPole-v1'/'train'\n",
    "\n",
    "# List all MP4 files in the directory\n",
    "mp4_files = [file for file in os.listdir(video_dir) if file.endswith(\".mp4\")]\n",
    "frame_colors = ['#FF5733', '#33FF57', '#5733FF', '#FFFF33', '#33FFFF', '#FF33FF']\n",
    "# Display each MP4 file\n",
    "for i, mp4_file in enumerate(mp4_files):\n",
    "    video_path = os.path.join(video_dir, mp4_file)\n",
    "    video = Video(video_path, embed=True, html_attributes=\"loop autoplay\", width=200, height=100)\n",
    "    frame_color = frame_colors[i % len(frame_colors)]\n",
    "    video_frame = HTML(f'<div style=\"width: 200px; height: 100px;; border: 1px solid #FF5733;\">{video._repr_html_()}</div>')\n",
    "    print(\"test/\",mp4_file)\n",
    "    display(video_frame)"
   ]
  },
  {
   "cell_type": "code",
   "execution_count": 6,
   "id": "47f0e835-79ad-47c7-9984-bfc705927d7b",
   "metadata": {
    "tags": []
   },
   "outputs": [
    {
     "ename": "NameError",
     "evalue": "name 'HTML' is not defined",
     "output_type": "error",
     "traceback": [
      "\u001b[0;31m---------------------------------------------------------------------------\u001b[0m",
      "\u001b[0;31mNameError\u001b[0m                                 Traceback (most recent call last)",
      "Cell \u001b[0;32mIn[6], line 13\u001b[0m\n\u001b[1;32m     11\u001b[0m video \u001b[38;5;241m=\u001b[39m Video(video_path, embed\u001b[38;5;241m=\u001b[39m\u001b[38;5;28;01mTrue\u001b[39;00m, html_attributes\u001b[38;5;241m=\u001b[39m\u001b[38;5;124m\"\u001b[39m\u001b[38;5;124mloop autoplay\u001b[39m\u001b[38;5;124m\"\u001b[39m, width\u001b[38;5;241m=\u001b[39m\u001b[38;5;241m200\u001b[39m, height\u001b[38;5;241m=\u001b[39m\u001b[38;5;241m100\u001b[39m)\n\u001b[1;32m     12\u001b[0m frame_color \u001b[38;5;241m=\u001b[39m frame_colors[i \u001b[38;5;241m%\u001b[39m \u001b[38;5;28mlen\u001b[39m(frame_colors)]\n\u001b[0;32m---> 13\u001b[0m video_frame \u001b[38;5;241m=\u001b[39m \u001b[43mHTML\u001b[49m(\u001b[38;5;124mf\u001b[39m\u001b[38;5;124m'\u001b[39m\u001b[38;5;124m<div style=\u001b[39m\u001b[38;5;124m\"\u001b[39m\u001b[38;5;124mwidth: 200px; height: 100px;; border: 1px solid #5733FF;\u001b[39m\u001b[38;5;124m\"\u001b[39m\u001b[38;5;124m>\u001b[39m\u001b[38;5;132;01m{\u001b[39;00mvideo\u001b[38;5;241m.\u001b[39m_repr_html_()\u001b[38;5;132;01m}\u001b[39;00m\u001b[38;5;124m</div>\u001b[39m\u001b[38;5;124m'\u001b[39m)\n\u001b[1;32m     14\u001b[0m \u001b[38;5;28mprint\u001b[39m(\u001b[38;5;124m\"\u001b[39m\u001b[38;5;124mtest/\u001b[39m\u001b[38;5;124m\"\u001b[39m,mp4_file)\n\u001b[1;32m     15\u001b[0m display(video_frame)\n",
      "\u001b[0;31mNameError\u001b[0m: name 'HTML' is not defined"
     ]
    }
   ],
   "source": [
    "# Test Result\n",
    "\n",
    "video_dir = work_dir/'video'/'CartPole-v1'/'test'\n",
    "\n",
    "# List all MP4 files in the directory\n",
    "mp4_files = [file for file in os.listdir(video_dir) if file.endswith(\".mp4\")]\n",
    "frame_colors = ['#FF5733', '#33FF57', '#5733FF', '#FFFF33', '#33FFFF', '#FF33FF']\n",
    "# Display each MP4 file\n",
    "for i, mp4_file in enumerate(mp4_files):\n",
    "    video_path = os.path.join(video_dir, mp4_file)\n",
    "    video = Video(video_path, embed=True, html_attributes=\"loop autoplay\", width=200, height=100)\n",
    "    frame_color = frame_colors[i % len(frame_colors)]\n",
    "    video_frame = HTML(f'<div style=\"width: 200px; height: 100px;; border: 1px solid #5733FF;\">{video._repr_html_()}</div>')\n",
    "    print(\"test/\",mp4_file)\n",
    "    display(video_frame)"
   ]
  },
  {
   "cell_type": "markdown",
   "id": "b9298a34",
   "metadata": {
    "tags": []
   },
   "source": [
    "<a id='Q1'></a>\n",
    "<div class=\" alert alert-warning\">\n",
    "    <h3><b>Student Question 1.1</b> Learning (10 points) </h3> \n",
    "\n",
    "Test the trained model from Task 1 five times with different random seeds. Did the same model, trained to balance for 100 timesteps, learn to always balance the pole for 1000 timesteps? Why/why not?\n",
    "    \n",
    "🔝\t<a href='#TOC'><b>Table of Contents</b></a>\n",
    "</div>\n"
   ]
  },
  {
   "cell_type": "code",
   "execution_count": 4,
   "id": "c5678a7d",
   "metadata": {},
   "outputs": [
    {
     "name": "stdout",
     "output_type": "stream",
     "text": [
      "Numpy/Torch/Random Seed:  693\n",
      "Loading model from /notebooks/rl2023/ex1/results/model/CartPole-v1_params.pt ...\n",
      "Testing...\n"
     ]
    },
    {
     "name": "stderr",
     "output_type": "stream",
     "text": [
      "/opt/software/lib/python3.10/site-packages/gymnasium/wrappers/record_video.py:94: UserWarning: \u001b[33mWARN: Overwriting existing videos at /notebooks/rl2023/ex1/results/video/CartPole-v1/test folder (try specifying a different `video_folder` for the `RecordVideo` wrapper if this is not desired)\u001b[0m\n",
      "  logger.warn(\n"
     ]
    },
    {
     "name": "stdout",
     "output_type": "stream",
     "text": [
      "Test ep reward: 143.0 seed: 243\n",
      "Test ep reward: 138.0 seed: 273\n",
      "Test ep reward: 144.0 seed: 438\n",
      "Test ep reward: 125.0 seed: 962\n",
      "Test ep reward: 127.0 seed: 461\n",
      "Test ep reward: 129.0 seed: 242\n",
      "Test ep reward: 131.0 seed: 756\n",
      "Test ep reward: 123.0 seed: 926\n",
      "Test ep reward: 141.0 seed: 165\n",
      "Test ep reward: 146.0 seed: 565\n",
      "Average test reward: 134.7 episode length: 134.7\n"
     ]
    }
   ],
   "source": [
    "t.test(episodes=10, \n",
    "       cfg_path=Path().cwd()/'cfg'/'cartpole_v1.yaml', \n",
    "       cfg_args=dict(testing=True, seed=None, max_episode_steps=1000, use_wandb=False))"
   ]
  },
  {
   "cell_type": "code",
   "execution_count": 5,
   "id": "690c1270-e056-4272-8a9f-0f3a6f917ad8",
   "metadata": {},
   "outputs": [
    {
     "name": "stdout",
     "output_type": "stream",
     "text": [
      "Numpy/Torch/Random Seed:  762\n",
      "Loading model from /notebooks/rl2023/ex1/results/model/CartPole-v1_params.pt ...\n",
      "Testing...\n"
     ]
    },
    {
     "name": "stderr",
     "output_type": "stream",
     "text": [
      "/opt/software/lib/python3.10/site-packages/gymnasium/wrappers/record_video.py:94: UserWarning: \u001b[33mWARN: Overwriting existing videos at /notebooks/rl2023/ex1/results/video/CartPole-v1/test folder (try specifying a different `video_folder` for the `RecordVideo` wrapper if this is not desired)\u001b[0m\n",
      "  logger.warn(\n"
     ]
    },
    {
     "name": "stdout",
     "output_type": "stream",
     "text": [
      "Test ep reward: 131.0 seed: 55\n",
      "Test ep reward: 134.0 seed: 649\n",
      "Test ep reward: 125.0 seed: 470\n",
      "Test ep reward: 127.0 seed: 351\n",
      "Test ep reward: 125.0 seed: 874\n",
      "Test ep reward: 137.0 seed: 929\n",
      "Test ep reward: 143.0 seed: 225\n",
      "Test ep reward: 140.0 seed: 495\n",
      "Test ep reward: 134.0 seed: 337\n",
      "Test ep reward: 134.0 seed: 397\n",
      "Average test reward: 133.0 episode length: 133.0\n"
     ]
    }
   ],
   "source": [
    "t.test(episodes=10, \n",
    "       cfg_path=Path().cwd()/'cfg'/'cartpole_v1.yaml', \n",
    "       cfg_args=dict(testing=True, seed=None, max_episode_steps=1000, use_wandb=False))"
   ]
  },
  {
   "cell_type": "code",
   "execution_count": 6,
   "id": "ea23484e-fa4e-4024-88cb-55f086199e8c",
   "metadata": {},
   "outputs": [
    {
     "name": "stdout",
     "output_type": "stream",
     "text": [
      "Numpy/Torch/Random Seed:  757\n",
      "Loading model from /notebooks/rl2023/ex1/results/model/CartPole-v1_params.pt ...\n",
      "Testing...\n",
      "Test ep reward: 136.0 seed: 291\n",
      "Test ep reward: 124.0 seed: 796\n",
      "Test ep reward: 133.0 seed: 535\n",
      "Test ep reward: 138.0 seed: 398\n",
      "Test ep reward: 127.0 seed: 970\n",
      "Test ep reward: 126.0 seed: 127\n",
      "Test ep reward: 127.0 seed: 519\n",
      "Test ep reward: 147.0 seed: 768\n",
      "Test ep reward: 122.0 seed: 730\n",
      "Test ep reward: 131.0 seed: 332\n",
      "Average test reward: 131.1 episode length: 131.1\n"
     ]
    }
   ],
   "source": [
    "t.test(episodes=10, \n",
    "       cfg_path=Path().cwd()/'cfg'/'cartpole_v1.yaml', \n",
    "       cfg_args=dict(testing=True, seed=None, max_episode_steps=1000, use_wandb=False))"
   ]
  },
  {
   "cell_type": "code",
   "execution_count": 7,
   "id": "dadbcbb3-160a-4730-b110-00e4fb9ce438",
   "metadata": {},
   "outputs": [
    {
     "name": "stdout",
     "output_type": "stream",
     "text": [
      "Numpy/Torch/Random Seed:  912\n",
      "Loading model from /notebooks/rl2023/ex1/results/model/CartPole-v1_params.pt ...\n",
      "Testing...\n",
      "Test ep reward: 130.0 seed: 854\n",
      "Test ep reward: 138.0 seed: 641\n",
      "Test ep reward: 129.0 seed: 77\n",
      "Test ep reward: 137.0 seed: 600\n",
      "Test ep reward: 137.0 seed: 392\n",
      "Test ep reward: 135.0 seed: 181\n",
      "Test ep reward: 126.0 seed: 844\n",
      "Test ep reward: 135.0 seed: 443\n",
      "Test ep reward: 137.0 seed: 715\n",
      "Test ep reward: 149.0 seed: 262\n",
      "Average test reward: 135.3 episode length: 135.3\n"
     ]
    }
   ],
   "source": [
    "t.test(episodes=10, \n",
    "       cfg_path=Path().cwd()/'cfg'/'cartpole_v1.yaml', \n",
    "       cfg_args=dict(testing=True, seed=None, max_episode_steps=1000, use_wandb=False))"
   ]
  },
  {
   "cell_type": "code",
   "execution_count": 8,
   "id": "633fe708-9004-4607-8ec2-43b40c78e669",
   "metadata": {},
   "outputs": [
    {
     "name": "stdout",
     "output_type": "stream",
     "text": [
      "Numpy/Torch/Random Seed:  612\n",
      "Loading model from /notebooks/rl2023/ex1/results/model/CartPole-v1_params.pt ...\n",
      "Testing...\n",
      "Test ep reward: 121.0 seed: 646\n",
      "Test ep reward: 137.0 seed: 906\n",
      "Test ep reward: 143.0 seed: 243\n",
      "Test ep reward: 125.0 seed: 248\n",
      "Test ep reward: 128.0 seed: 570\n",
      "Test ep reward: 132.0 seed: 694\n",
      "Test ep reward: 136.0 seed: 2\n",
      "Test ep reward: 142.0 seed: 390\n",
      "Test ep reward: 130.0 seed: 391\n",
      "Test ep reward: 127.0 seed: 505\n",
      "Average test reward: 132.1 episode length: 132.1\n"
     ]
    }
   ],
   "source": [
    "t.test(episodes=10, \n",
    "       cfg_path=Path().cwd()/'cfg'/'cartpole_v1.yaml', \n",
    "       cfg_args=dict(testing=True, seed=None, max_episode_steps=1000, use_wandb=False))"
   ]
  },
  {
   "cell_type": "markdown",
   "id": "5d817076",
   "metadata": {},
   "source": [
    "Tested with random seeds 693, 762, 757, 912, 612, the model always fail to balance in 1000 timesteps. It seems the policy only tries to maximize rewards until around 100 timesteps."
   ]
  },
  {
   "cell_type": "markdown",
   "id": "9f3b5ed9",
   "metadata": {
    "tags": []
   },
   "source": [
    "<a id='T2'></a>\n",
    "<div class=\" alert alert-warning\">\n",
    "    <h3><b>Student Task 2.</b> Investigating Training Performance (10 points) </h3> \n",
    "\n",
    "Repeat the experiment in Task 1 five times, each time training the model from scratch with 100 timesteps and testing it for 1000 timesteps. Use a different seed number for each training/testing cycle. You can use the box below to write a small script to do this. Use the result textbox below to report the average test reward for each repeat. \n",
    "    \n",
    "🔝\t<a href='#TOC'><b>Table of Contents</b></a>\n",
    "</div>\n"
   ]
  },
  {
   "cell_type": "code",
   "execution_count": 12,
   "id": "453e1980-f2ed-4f5f-a4bb-8bed249bb2d7",
   "metadata": {},
   "outputs": [
    {
     "name": "stdout",
     "output_type": "stream",
     "text": [
      "[42.85313597 36.96944454 94.75821371  9.29509878 66.03556487]\n"
     ]
    }
   ],
   "source": [
    "seeds = np.random.rand(5,) * 100\n",
    "print(seeds)"
   ]
  },
  {
   "cell_type": "code",
   "execution_count": 17,
   "id": "cac44ae3-4926-4f96-8e00-51e96bd027f7",
   "metadata": {
    "scrolled": true,
    "tags": []
   },
   "outputs": [
    {
     "name": "stdout",
     "output_type": "stream",
     "text": [
      "Numpy/Torch/Random Seed:  42\n"
     ]
    },
    {
     "data": {
      "text/html": [
       "Changes to your `wandb` environment variables will be ignored because your `wandb` session has already started. For more information on how to modify your settings with `wandb.init()` arguments, please refer to <a href='https://wandb.me/wandb-init' target=\"_blank\">the W&B docs</a>."
      ],
      "text/plain": [
       "<IPython.core.display.HTML object>"
      ]
     },
     "metadata": {},
     "output_type": "display_data"
    },
    {
     "data": {
      "text/html": [
       "Finishing last run (ID:g4as84as) before initializing another..."
      ],
      "text/plain": [
       "<IPython.core.display.HTML object>"
      ]
     },
     "metadata": {},
     "output_type": "display_data"
    },
    {
     "data": {
      "text/html": [
       "Waiting for W&B process to finish... <strong style=\"color:green\">(success).</strong>"
      ],
      "text/plain": [
       "<IPython.core.display.HTML object>"
      ]
     },
     "metadata": {},
     "output_type": "display_data"
    },
    {
     "data": {
      "application/vnd.jupyter.widget-view+json": {
       "model_id": "a37fc1f19798487ea1772727118def20",
       "version_major": 2,
       "version_minor": 0
      },
      "text/plain": [
       "VBox(children=(Label(value='0.002 MB of 0.002 MB uploaded (0.000 MB deduped)\\r'), FloatProgress(value=1.0, max…"
      ]
     },
     "metadata": {},
     "output_type": "display_data"
    },
    {
     "data": {
      "text/html": [
       "<style>\n",
       "    table.wandb td:nth-child(1) { padding: 0 10px; text-align: left ; width: auto;} td:nth-child(2) {text-align: left ; width: 100%}\n",
       "    .wandb-row { display: flex; flex-direction: row; flex-wrap: wrap; justify-content: flex-start; width: 100% }\n",
       "    .wandb-col { display: flex; flex-direction: column; flex-basis: 100%; flex: 1; padding: 10px; }\n",
       "    </style>\n",
       "<div class=\"wandb-row\"><div class=\"wandb-col\"><h3>Run history:</h3><br/><table class=\"wandb\"><tr><td>ep_reward</td><td>▂▃▂▂▂▁▄▂▁▄▄▁▃▃▁▂▁▇▃▁▇▄▂▁▄▁▆▄▂▂▆▁▂▂▂▄▅▂█▁</td></tr><tr><td>episodes</td><td>▁▁▁▁▂▂▂▂▂▃▃▃▃▃▃▄▄▄▄▄▅▅▅▅▅▅▆▆▆▆▆▇▇▇▇▇▇███</td></tr><tr><td>num_updates</td><td>▁▁▁▁▁▁▁▁▁▁▁▁▁▁▁▁▁▁█▁▁▁▁▁▁▁▁▁▁▁▁▁▁▁▁▁▁▁▁▁</td></tr><tr><td>timesteps</td><td>▂▃▂▂▂▁▄▂▁▄▄▁▃▃▁▂▁▇▃▁▇▄▂▁▄▁▆▄▂▂▆▁▂▂▂▄▅▂█▁</td></tr></table><br/></div><div class=\"wandb-col\"><h3>Run summary:</h3><br/><table class=\"wandb\"><tr><td>ep_reward</td><td>30.0</td></tr><tr><td>episodes</td><td>200</td></tr><tr><td>num_updates</td><td>0</td></tr><tr><td>timesteps</td><td>30</td></tr></table><br/></div></div>"
      ],
      "text/plain": [
       "<IPython.core.display.HTML object>"
      ]
     },
     "metadata": {},
     "output_type": "display_data"
    },
    {
     "data": {
      "text/html": [
       " View run <strong style=\"color:#cdcd00\">ex1-CartPole-v1-42-1694670381</strong> at: <a href='https://wandb.ai/r-l/rl_aalto/runs/g4as84as' target=\"_blank\">https://wandb.ai/r-l/rl_aalto/runs/g4as84as</a><br/>Synced 6 W&B file(s), 0 media file(s), 0 artifact file(s) and 0 other file(s)"
      ],
      "text/plain": [
       "<IPython.core.display.HTML object>"
      ]
     },
     "metadata": {},
     "output_type": "display_data"
    },
    {
     "data": {
      "text/html": [
       "Find logs at: <code>./wandb/run-20230914_084621-g4as84as/logs</code>"
      ],
      "text/plain": [
       "<IPython.core.display.HTML object>"
      ]
     },
     "metadata": {},
     "output_type": "display_data"
    },
    {
     "data": {
      "text/html": [
       "Successfully finished last run (ID:g4as84as). Initializing new run:<br/>"
      ],
      "text/plain": [
       "<IPython.core.display.HTML object>"
      ]
     },
     "metadata": {},
     "output_type": "display_data"
    },
    {
     "data": {
      "application/vnd.jupyter.widget-view+json": {
       "model_id": "4064dee96fc94d6da473a0997331cb4f",
       "version_major": 2,
       "version_minor": 0
      },
      "text/plain": [
       "VBox(children=(Label(value='Waiting for wandb.init()...\\r'), FloatProgress(value=0.016669614737232528, max=1.0…"
      ]
     },
     "metadata": {},
     "output_type": "display_data"
    },
    {
     "data": {
      "text/html": [
       "wandb version 0.15.10 is available!  To upgrade, please run:\n",
       " $ pip install wandb --upgrade"
      ],
      "text/plain": [
       "<IPython.core.display.HTML object>"
      ]
     },
     "metadata": {},
     "output_type": "display_data"
    },
    {
     "data": {
      "text/html": [
       "Tracking run with wandb version 0.15.9"
      ],
      "text/plain": [
       "<IPython.core.display.HTML object>"
      ]
     },
     "metadata": {},
     "output_type": "display_data"
    },
    {
     "data": {
      "text/html": [
       "Run data is saved locally in <code>/notebooks/rl2023/ex1/wandb/run-20230914_084741-tk7mx9cv</code>"
      ],
      "text/plain": [
       "<IPython.core.display.HTML object>"
      ]
     },
     "metadata": {},
     "output_type": "display_data"
    },
    {
     "data": {
      "text/html": [
       "Syncing run <strong><a href='https://wandb.ai/r-l/rl_aalto/runs/tk7mx9cv' target=\"_blank\">ex1-CartPole-v1-42-1694670461</a></strong> to <a href='https://wandb.ai/r-l/rl_aalto' target=\"_blank\">Weights & Biases</a> (<a href='https://wandb.me/run' target=\"_blank\">docs</a>)<br/>"
      ],
      "text/plain": [
       "<IPython.core.display.HTML object>"
      ]
     },
     "metadata": {},
     "output_type": "display_data"
    },
    {
     "data": {
      "text/html": [
       " View project at <a href='https://wandb.ai/r-l/rl_aalto' target=\"_blank\">https://wandb.ai/r-l/rl_aalto</a>"
      ],
      "text/plain": [
       "<IPython.core.display.HTML object>"
      ]
     },
     "metadata": {},
     "output_type": "display_data"
    },
    {
     "data": {
      "text/html": [
       " View run at <a href='https://wandb.ai/r-l/rl_aalto/runs/tk7mx9cv' target=\"_blank\">https://wandb.ai/r-l/rl_aalto/runs/tk7mx9cv</a>"
      ],
      "text/plain": [
       "<IPython.core.display.HTML object>"
      ]
     },
     "metadata": {},
     "output_type": "display_data"
    },
    {
     "name": "stdout",
     "output_type": "stream",
     "text": [
      "Configuration Settings: {'exp_name': 'ex1', 'seed': 42, 'env_name': 'CartPole-v1', 'max_episode_steps': 100, 'train_episodes': 500, 'batch_size': 64, 'min_update_samples': 2000, 'testing': False, 'model_path': 'default', 'save_video': True, 'save_model': True, 'save_logging': True, 'silent': False, 'use_wandb': True, 'run_suffix': 0}\n",
      "Training device: cpu\n",
      "Observation space dimensions: 4\n",
      "Action space dimensions: 2\n",
      "\n",
      "Episode 0 finished. Total reward: 23.0 (23 timesteps)\n",
      "Episode 1 finished. Total reward: 25.0 (25 timesteps)\n",
      "Episode 2 finished. Total reward: 19.0 (19 timesteps)\n",
      "Episode 3 finished. Total reward: 15.0 (15 timesteps)\n",
      "Episode 4 finished. Total reward: 26.0 (26 timesteps)\n",
      "Episode 5 finished. Total reward: 26.0 (26 timesteps)\n",
      "Episode 6 finished. Total reward: 16.0 (16 timesteps)\n",
      "Episode 7 finished. Total reward: 26.0 (26 timesteps)\n",
      "Episode 8 finished. Total reward: 29.0 (29 timesteps)\n",
      "Episode 9 finished. Total reward: 20.0 (20 timesteps)\n",
      "Episode 10 finished. Total reward: 21.0 (21 timesteps)\n",
      "Episode 11 finished. Total reward: 22.0 (22 timesteps)\n",
      "Episode 12 finished. Total reward: 17.0 (17 timesteps)\n",
      "Episode 13 finished. Total reward: 11.0 (11 timesteps)\n",
      "Episode 14 finished. Total reward: 19.0 (19 timesteps)\n",
      "Episode 15 finished. Total reward: 25.0 (25 timesteps)\n",
      "Episode 16 finished. Total reward: 13.0 (13 timesteps)\n",
      "Episode 17 finished. Total reward: 22.0 (22 timesteps)\n",
      "Episode 18 finished. Total reward: 36.0 (36 timesteps)\n",
      "Episode 19 finished. Total reward: 54.0 (54 timesteps)\n",
      "Episode 20 finished. Total reward: 16.0 (16 timesteps)\n",
      "Episode 21 finished. Total reward: 18.0 (18 timesteps)\n",
      "Episode 22 finished. Total reward: 14.0 (14 timesteps)\n",
      "Episode 23 finished. Total reward: 12.0 (12 timesteps)\n",
      "Episode 24 finished. Total reward: 28.0 (28 timesteps)\n",
      "Episode 25 finished. Total reward: 15.0 (15 timesteps)\n",
      "Episode 26 finished. Total reward: 17.0 (17 timesteps)\n",
      "Episode 27 finished. Total reward: 41.0 (41 timesteps)\n",
      "Episode 28 finished. Total reward: 12.0 (12 timesteps)\n",
      "Episode 29 finished. Total reward: 23.0 (23 timesteps)\n",
      "Episode 30 finished. Total reward: 10.0 (10 timesteps)\n",
      "Episode 31 finished. Total reward: 36.0 (36 timesteps)\n",
      "Episode 32 finished. Total reward: 17.0 (17 timesteps)\n",
      "Episode 33 finished. Total reward: 28.0 (28 timesteps)\n",
      "Episode 34 finished. Total reward: 11.0 (11 timesteps)\n",
      "Episode 35 finished. Total reward: 21.0 (21 timesteps)\n",
      "Episode 36 finished. Total reward: 11.0 (11 timesteps)\n",
      "Episode 37 finished. Total reward: 35.0 (35 timesteps)\n",
      "Episode 38 finished. Total reward: 34.0 (34 timesteps)\n",
      "Episode 39 finished. Total reward: 15.0 (15 timesteps)\n",
      "Episode 40 finished. Total reward: 10.0 (10 timesteps)\n",
      "Episode 41 finished. Total reward: 13.0 (13 timesteps)\n",
      "Episode 42 finished. Total reward: 18.0 (18 timesteps)\n",
      "Episode 43 finished. Total reward: 11.0 (11 timesteps)\n",
      "Episode 44 finished. Total reward: 22.0 (22 timesteps)\n",
      "Episode 45 finished. Total reward: 35.0 (35 timesteps)\n",
      "Episode 46 finished. Total reward: 14.0 (14 timesteps)\n",
      "Episode 47 finished. Total reward: 21.0 (21 timesteps)\n",
      "Episode 48 finished. Total reward: 17.0 (17 timesteps)\n",
      "Episode 49 finished. Total reward: 12.0 (12 timesteps)\n",
      "Episode 50 finished. Total reward: 11.0 (11 timesteps)\n",
      "Episode 51 finished. Total reward: 41.0 (41 timesteps)\n",
      "Episode 52 finished. Total reward: 22.0 (22 timesteps)\n",
      "Episode 53 finished. Total reward: 14.0 (14 timesteps)\n",
      "Episode 54 finished. Total reward: 20.0 (20 timesteps)\n",
      "Episode 55 finished. Total reward: 15.0 (15 timesteps)\n",
      "Episode 56 finished. Total reward: 28.0 (28 timesteps)\n",
      "Episode 57 finished. Total reward: 19.0 (19 timesteps)\n",
      "Episode 58 finished. Total reward: 18.0 (18 timesteps)\n",
      "Episode 59 finished. Total reward: 26.0 (26 timesteps)\n",
      "Episode 60 finished. Total reward: 14.0 (14 timesteps)\n",
      "Episode 61 finished. Total reward: 33.0 (33 timesteps)\n",
      "Episode 62 finished. Total reward: 15.0 (15 timesteps)\n",
      "Episode 63 finished. Total reward: 17.0 (17 timesteps)\n",
      "Episode 64 finished. Total reward: 13.0 (13 timesteps)\n",
      "Episode 65 finished. Total reward: 11.0 (11 timesteps)\n",
      "Episode 66 finished. Total reward: 30.0 (30 timesteps)\n",
      "Episode 67 finished. Total reward: 26.0 (26 timesteps)\n",
      "Episode 68 finished. Total reward: 15.0 (15 timesteps)\n",
      "Episode 69 finished. Total reward: 23.0 (23 timesteps)\n",
      "Episode 70 finished. Total reward: 17.0 (17 timesteps)\n",
      "Episode 71 finished. Total reward: 16.0 (16 timesteps)\n",
      "Episode 72 finished. Total reward: 43.0 (43 timesteps)\n",
      "Episode 73 finished. Total reward: 37.0 (37 timesteps)\n",
      "Episode 74 finished. Total reward: 14.0 (14 timesteps)\n",
      "Episode 75 finished. Total reward: 68.0 (68 timesteps)\n",
      "Episode 76 finished. Total reward: 25.0 (25 timesteps)\n",
      "Episode 77 finished. Total reward: 18.0 (18 timesteps)\n",
      "Episode 78 finished. Total reward: 14.0 (14 timesteps)\n",
      "Episode 79 finished. Total reward: 29.0 (29 timesteps)\n",
      "Episode 80 finished. Total reward: 15.0 (15 timesteps)\n",
      "Episode 81 finished. Total reward: 12.0 (12 timesteps)\n",
      "Episode 82 finished. Total reward: 34.0 (34 timesteps)\n",
      "Episode 83 finished. Total reward: 9.0 (9 timesteps)\n",
      "Episode 84 finished. Total reward: 21.0 (21 timesteps)\n",
      "Episode 85 finished. Total reward: 17.0 (17 timesteps)\n",
      "Episode 86 finished. Total reward: 29.0 (29 timesteps)\n",
      "Episode 87 finished. Total reward: 64.0 (64 timesteps)\n",
      "Episode 88 finished. Total reward: 15.0 (15 timesteps)\n",
      "Episode 89 finished. Total reward: 14.0 (14 timesteps)\n",
      "Episode 90 finished. Total reward: 22.0 (22 timesteps)\n",
      "Updating the policy...\n",
      "Updating finished!\n",
      "Episode 91 finished. Total reward: 26.0 (26 timesteps)\n",
      "Episode 92 finished. Total reward: 53.0 (53 timesteps)\n",
      "Episode 93 finished. Total reward: 14.0 (14 timesteps)\n",
      "Episode 94 finished. Total reward: 31.0 (31 timesteps)\n",
      "Episode 95 finished. Total reward: 14.0 (14 timesteps)\n",
      "Episode 96 finished. Total reward: 19.0 (19 timesteps)\n",
      "Episode 97 finished. Total reward: 16.0 (16 timesteps)\n",
      "Episode 98 finished. Total reward: 15.0 (15 timesteps)\n",
      "Episode 99 finished. Total reward: 21.0 (21 timesteps)\n",
      "Episode 100 finished. Total reward: 51.0 (51 timesteps)\n",
      "Episode 101 finished. Total reward: 67.0 (67 timesteps)\n",
      "Episode 102 finished. Total reward: 22.0 (22 timesteps)\n",
      "Episode 103 finished. Total reward: 66.0 (66 timesteps)\n",
      "Episode 104 finished. Total reward: 20.0 (20 timesteps)\n",
      "Episode 105 finished. Total reward: 59.0 (59 timesteps)\n",
      "Episode 106 finished. Total reward: 29.0 (29 timesteps)\n",
      "Episode 107 finished. Total reward: 37.0 (37 timesteps)\n",
      "Episode 108 finished. Total reward: 29.0 (29 timesteps)\n",
      "Episode 109 finished. Total reward: 25.0 (25 timesteps)\n",
      "Episode 110 finished. Total reward: 50.0 (50 timesteps)\n",
      "Episode 111 finished. Total reward: 19.0 (19 timesteps)\n",
      "Episode 112 finished. Total reward: 37.0 (37 timesteps)\n",
      "Episode 113 finished. Total reward: 11.0 (11 timesteps)\n",
      "Episode 114 finished. Total reward: 11.0 (11 timesteps)\n",
      "Episode 115 finished. Total reward: 28.0 (28 timesteps)\n",
      "Episode 116 finished. Total reward: 62.0 (62 timesteps)\n",
      "Episode 117 finished. Total reward: 15.0 (15 timesteps)\n",
      "Episode 118 finished. Total reward: 21.0 (21 timesteps)\n",
      "Episode 119 finished. Total reward: 14.0 (14 timesteps)\n",
      "Episode 120 finished. Total reward: 12.0 (12 timesteps)\n",
      "Episode 121 finished. Total reward: 37.0 (37 timesteps)\n",
      "Episode 122 finished. Total reward: 29.0 (29 timesteps)\n",
      "Episode 123 finished. Total reward: 43.0 (43 timesteps)\n",
      "Episode 124 finished. Total reward: 15.0 (15 timesteps)\n",
      "Episode 125 finished. Total reward: 13.0 (13 timesteps)\n",
      "Episode 126 finished. Total reward: 26.0 (26 timesteps)\n",
      "Episode 127 finished. Total reward: 14.0 (14 timesteps)\n",
      "Episode 128 finished. Total reward: 29.0 (29 timesteps)\n",
      "Episode 129 finished. Total reward: 17.0 (17 timesteps)\n",
      "Episode 130 finished. Total reward: 22.0 (22 timesteps)\n",
      "Episode 131 finished. Total reward: 42.0 (42 timesteps)\n",
      "Episode 132 finished. Total reward: 21.0 (21 timesteps)\n",
      "Episode 133 finished. Total reward: 58.0 (58 timesteps)\n",
      "Episode 134 finished. Total reward: 57.0 (57 timesteps)\n",
      "Episode 135 finished. Total reward: 28.0 (28 timesteps)\n",
      "Episode 136 finished. Total reward: 45.0 (45 timesteps)\n",
      "Episode 137 finished. Total reward: 41.0 (41 timesteps)\n",
      "Episode 138 finished. Total reward: 21.0 (21 timesteps)\n",
      "Episode 139 finished. Total reward: 45.0 (45 timesteps)\n",
      "Episode 140 finished. Total reward: 10.0 (10 timesteps)\n",
      "Episode 141 finished. Total reward: 15.0 (15 timesteps)\n",
      "Episode 142 finished. Total reward: 31.0 (31 timesteps)\n",
      "Episode 143 finished. Total reward: 19.0 (19 timesteps)\n",
      "Episode 144 finished. Total reward: 14.0 (14 timesteps)\n",
      "Episode 145 finished. Total reward: 40.0 (40 timesteps)\n",
      "Episode 146 finished. Total reward: 33.0 (33 timesteps)\n",
      "Episode 147 finished. Total reward: 23.0 (23 timesteps)\n",
      "Episode 148 finished. Total reward: 38.0 (38 timesteps)\n",
      "Episode 149 finished. Total reward: 34.0 (34 timesteps)\n",
      "Episode 150 finished. Total reward: 15.0 (15 timesteps)\n",
      "Episode 151 finished. Total reward: 36.0 (36 timesteps)\n",
      "Episode 152 finished. Total reward: 17.0 (17 timesteps)\n",
      "Episode 153 finished. Total reward: 60.0 (60 timesteps)\n",
      "Episode 154 finished. Total reward: 19.0 (19 timesteps)\n",
      "Episode 155 finished. Total reward: 34.0 (34 timesteps)\n",
      "Episode 156 finished. Total reward: 12.0 (12 timesteps)\n",
      "Episode 157 finished. Total reward: 12.0 (12 timesteps)\n",
      "Updating the policy...\n",
      "Updating finished!\n",
      "Episode 158 finished. Total reward: 54.0 (54 timesteps)\n",
      "Episode 159 finished. Total reward: 27.0 (27 timesteps)\n",
      "Episode 160 finished. Total reward: 56.0 (56 timesteps)\n",
      "Episode 161 finished. Total reward: 22.0 (22 timesteps)\n",
      "Episode 162 finished. Total reward: 81.0 (81 timesteps)\n",
      "Episode 163 finished. Total reward: 24.0 (24 timesteps)\n",
      "Episode 164 finished. Total reward: 100.0 (100 timesteps)\n",
      "Episode 165 finished. Total reward: 50.0 (50 timesteps)\n",
      "Episode 166 finished. Total reward: 25.0 (25 timesteps)\n",
      "Episode 167 finished. Total reward: 25.0 (25 timesteps)\n",
      "Episode 168 finished. Total reward: 48.0 (48 timesteps)\n",
      "Episode 169 finished. Total reward: 27.0 (27 timesteps)\n",
      "Episode 170 finished. Total reward: 10.0 (10 timesteps)\n",
      "Episode 171 finished. Total reward: 15.0 (15 timesteps)\n",
      "Episode 172 finished. Total reward: 63.0 (63 timesteps)\n",
      "Episode 173 finished. Total reward: 24.0 (24 timesteps)\n",
      "Episode 174 finished. Total reward: 100.0 (100 timesteps)\n",
      "Episode 175 finished. Total reward: 46.0 (46 timesteps)\n",
      "Episode 176 finished. Total reward: 85.0 (85 timesteps)\n",
      "Episode 177 finished. Total reward: 41.0 (41 timesteps)\n",
      "Episode 178 finished. Total reward: 23.0 (23 timesteps)\n",
      "Episode 179 finished. Total reward: 100.0 (100 timesteps)\n",
      "Episode 180 finished. Total reward: 82.0 (82 timesteps)\n",
      "Episode 181 finished. Total reward: 34.0 (34 timesteps)\n",
      "Episode 182 finished. Total reward: 13.0 (13 timesteps)\n",
      "Episode 183 finished. Total reward: 46.0 (46 timesteps)\n",
      "Episode 184 finished. Total reward: 11.0 (11 timesteps)\n",
      "Episode 185 finished. Total reward: 69.0 (69 timesteps)\n",
      "Episode 186 finished. Total reward: 100.0 (100 timesteps)\n",
      "Episode 187 finished. Total reward: 18.0 (18 timesteps)\n",
      "Episode 188 finished. Total reward: 63.0 (63 timesteps)\n",
      "Episode 189 finished. Total reward: 17.0 (17 timesteps)\n",
      "Episode 190 finished. Total reward: 42.0 (42 timesteps)\n",
      "Episode 191 finished. Total reward: 68.0 (68 timesteps)\n",
      "Episode 192 finished. Total reward: 61.0 (61 timesteps)\n",
      "Episode 193 finished. Total reward: 74.0 (74 timesteps)\n",
      "Episode 194 finished. Total reward: 25.0 (25 timesteps)\n",
      "Episode 195 finished. Total reward: 20.0 (20 timesteps)\n",
      "Episode 196 finished. Total reward: 68.0 (68 timesteps)\n",
      "Episode 197 finished. Total reward: 31.0 (31 timesteps)\n",
      "Episode 198 finished. Total reward: 100.0 (100 timesteps)\n",
      "Episode 199 finished. Total reward: 14.0 (14 timesteps)\n",
      "Episode 200 finished. Total reward: 30.0 (30 timesteps)\n",
      "Updating the policy...\n",
      "Updating finished!\n",
      "Episode 201 finished. Total reward: 86.0 (86 timesteps)\n",
      "Episode 202 finished. Total reward: 66.0 (66 timesteps)\n",
      "Episode 203 finished. Total reward: 100.0 (100 timesteps)\n",
      "Episode 204 finished. Total reward: 13.0 (13 timesteps)\n",
      "Episode 205 finished. Total reward: 59.0 (59 timesteps)\n",
      "Episode 206 finished. Total reward: 79.0 (79 timesteps)\n",
      "Episode 207 finished. Total reward: 100.0 (100 timesteps)\n",
      "Episode 208 finished. Total reward: 43.0 (43 timesteps)\n",
      "Episode 209 finished. Total reward: 21.0 (21 timesteps)\n",
      "Episode 210 finished. Total reward: 53.0 (53 timesteps)\n",
      "Episode 211 finished. Total reward: 100.0 (100 timesteps)\n",
      "Episode 212 finished. Total reward: 100.0 (100 timesteps)\n",
      "Episode 213 finished. Total reward: 61.0 (61 timesteps)\n",
      "Episode 214 finished. Total reward: 15.0 (15 timesteps)\n",
      "Episode 215 finished. Total reward: 76.0 (76 timesteps)\n",
      "Episode 216 finished. Total reward: 30.0 (30 timesteps)\n",
      "Episode 217 finished. Total reward: 20.0 (20 timesteps)\n",
      "Episode 218 finished. Total reward: 100.0 (100 timesteps)\n",
      "Episode 219 finished. Total reward: 50.0 (50 timesteps)\n",
      "Episode 220 finished. Total reward: 49.0 (49 timesteps)\n",
      "Episode 221 finished. Total reward: 71.0 (71 timesteps)\n",
      "Episode 222 finished. Total reward: 100.0 (100 timesteps)\n",
      "Episode 223 finished. Total reward: 13.0 (13 timesteps)\n",
      "Episode 224 finished. Total reward: 100.0 (100 timesteps)\n",
      "Episode 225 finished. Total reward: 73.0 (73 timesteps)\n",
      "Episode 226 finished. Total reward: 28.0 (28 timesteps)\n",
      "Episode 227 finished. Total reward: 34.0 (34 timesteps)\n",
      "Episode 228 finished. Total reward: 15.0 (15 timesteps)\n",
      "Episode 229 finished. Total reward: 40.0 (40 timesteps)\n",
      "Episode 230 finished. Total reward: 100.0 (100 timesteps)\n",
      "Episode 231 finished. Total reward: 45.0 (45 timesteps)\n",
      "Episode 232 finished. Total reward: 49.0 (49 timesteps)\n",
      "Episode 233 finished. Total reward: 19.0 (19 timesteps)\n",
      "Episode 234 finished. Total reward: 54.0 (54 timesteps)\n",
      "Episode 235 finished. Total reward: 12.0 (12 timesteps)\n",
      "Updating the policy...\n",
      "Updating finished!\n",
      "Episode 236 finished. Total reward: 100.0 (100 timesteps)\n",
      "Episode 237 finished. Total reward: 49.0 (49 timesteps)\n",
      "Episode 238 finished. Total reward: 100.0 (100 timesteps)\n",
      "Episode 239 finished. Total reward: 49.0 (49 timesteps)\n",
      "Episode 240 finished. Total reward: 99.0 (99 timesteps)\n",
      "Episode 241 finished. Total reward: 100.0 (100 timesteps)\n",
      "Episode 242 finished. Total reward: 100.0 (100 timesteps)\n",
      "Episode 243 finished. Total reward: 100.0 (100 timesteps)\n",
      "Episode 244 finished. Total reward: 70.0 (70 timesteps)\n",
      "Episode 245 finished. Total reward: 21.0 (21 timesteps)\n",
      "Episode 246 finished. Total reward: 100.0 (100 timesteps)\n",
      "Episode 247 finished. Total reward: 100.0 (100 timesteps)\n",
      "Episode 248 finished. Total reward: 41.0 (41 timesteps)\n",
      "Episode 249 finished. Total reward: 47.0 (47 timesteps)\n",
      "Episode 250 finished. Total reward: 50.0 (50 timesteps)\n",
      "Episode 251 finished. Total reward: 79.0 (79 timesteps)\n",
      "Episode 252 finished. Total reward: 100.0 (100 timesteps)\n",
      "Episode 253 finished. Total reward: 100.0 (100 timesteps)\n",
      "Episode 254 finished. Total reward: 68.0 (68 timesteps)\n",
      "Episode 255 finished. Total reward: 75.0 (75 timesteps)\n",
      "Episode 256 finished. Total reward: 100.0 (100 timesteps)\n",
      "Episode 257 finished. Total reward: 100.0 (100 timesteps)\n",
      "Episode 258 finished. Total reward: 63.0 (63 timesteps)\n",
      "Episode 259 finished. Total reward: 100.0 (100 timesteps)\n",
      "Episode 260 finished. Total reward: 100.0 (100 timesteps)\n",
      "Updating the policy...\n",
      "Updating finished!\n",
      "Episode 261 finished. Total reward: 100.0 (100 timesteps)\n",
      "Episode 262 finished. Total reward: 42.0 (42 timesteps)\n",
      "Episode 263 finished. Total reward: 100.0 (100 timesteps)\n",
      "Episode 264 finished. Total reward: 100.0 (100 timesteps)\n",
      "Episode 265 finished. Total reward: 100.0 (100 timesteps)\n",
      "Episode 266 finished. Total reward: 100.0 (100 timesteps)\n",
      "Episode 267 finished. Total reward: 100.0 (100 timesteps)\n",
      "Episode 268 finished. Total reward: 100.0 (100 timesteps)\n",
      "Episode 269 finished. Total reward: 74.0 (74 timesteps)\n",
      "Episode 270 finished. Total reward: 34.0 (34 timesteps)\n",
      "Episode 271 finished. Total reward: 47.0 (47 timesteps)\n",
      "Episode 272 finished. Total reward: 100.0 (100 timesteps)\n",
      "Episode 273 finished. Total reward: 53.0 (53 timesteps)\n",
      "Episode 274 finished. Total reward: 100.0 (100 timesteps)\n",
      "Episode 275 finished. Total reward: 100.0 (100 timesteps)\n",
      "Episode 276 finished. Total reward: 100.0 (100 timesteps)\n",
      "Episode 277 finished. Total reward: 57.0 (57 timesteps)\n",
      "Episode 278 finished. Total reward: 100.0 (100 timesteps)\n",
      "Episode 279 finished. Total reward: 100.0 (100 timesteps)\n",
      "Episode 280 finished. Total reward: 100.0 (100 timesteps)\n",
      "Episode 281 finished. Total reward: 100.0 (100 timesteps)\n",
      "Episode 282 finished. Total reward: 38.0 (38 timesteps)\n",
      "Episode 283 finished. Total reward: 100.0 (100 timesteps)\n",
      "Updating the policy...\n",
      "Updating finished!\n",
      "Episode 284 finished. Total reward: 100.0 (100 timesteps)\n",
      "Episode 285 finished. Total reward: 32.0 (32 timesteps)\n",
      "Episode 286 finished. Total reward: 92.0 (92 timesteps)\n",
      "Episode 287 finished. Total reward: 87.0 (87 timesteps)\n",
      "Episode 288 finished. Total reward: 100.0 (100 timesteps)\n",
      "Episode 289 finished. Total reward: 100.0 (100 timesteps)\n",
      "Episode 290 finished. Total reward: 81.0 (81 timesteps)\n",
      "Episode 291 finished. Total reward: 100.0 (100 timesteps)\n",
      "Episode 292 finished. Total reward: 91.0 (91 timesteps)\n",
      "Episode 293 finished. Total reward: 100.0 (100 timesteps)\n",
      "Episode 294 finished. Total reward: 86.0 (86 timesteps)\n",
      "Episode 295 finished. Total reward: 100.0 (100 timesteps)\n",
      "Episode 296 finished. Total reward: 100.0 (100 timesteps)\n",
      "Episode 297 finished. Total reward: 100.0 (100 timesteps)\n",
      "Episode 298 finished. Total reward: 100.0 (100 timesteps)\n",
      "Episode 299 finished. Total reward: 100.0 (100 timesteps)\n",
      "Episode 300 finished. Total reward: 64.0 (64 timesteps)\n",
      "Episode 301 finished. Total reward: 100.0 (100 timesteps)\n",
      "Episode 302 finished. Total reward: 100.0 (100 timesteps)\n",
      "Episode 303 finished. Total reward: 100.0 (100 timesteps)\n",
      "Episode 304 finished. Total reward: 100.0 (100 timesteps)\n",
      "Episode 305 finished. Total reward: 100.0 (100 timesteps)\n",
      "Updating the policy...\n",
      "Updating finished!\n",
      "Episode 306 finished. Total reward: 100.0 (100 timesteps)\n",
      "Episode 307 finished. Total reward: 100.0 (100 timesteps)\n",
      "Episode 308 finished. Total reward: 100.0 (100 timesteps)\n",
      "Episode 309 finished. Total reward: 100.0 (100 timesteps)\n",
      "Episode 310 finished. Total reward: 100.0 (100 timesteps)\n",
      "Episode 311 finished. Total reward: 100.0 (100 timesteps)\n",
      "Episode 312 finished. Total reward: 100.0 (100 timesteps)\n",
      "Episode 313 finished. Total reward: 100.0 (100 timesteps)\n",
      "Episode 314 finished. Total reward: 100.0 (100 timesteps)\n",
      "Episode 315 finished. Total reward: 100.0 (100 timesteps)\n",
      "Episode 316 finished. Total reward: 100.0 (100 timesteps)\n",
      "Episode 317 finished. Total reward: 100.0 (100 timesteps)\n",
      "Episode 318 finished. Total reward: 100.0 (100 timesteps)\n",
      "Episode 319 finished. Total reward: 100.0 (100 timesteps)\n",
      "Episode 320 finished. Total reward: 100.0 (100 timesteps)\n",
      "Episode 321 finished. Total reward: 100.0 (100 timesteps)\n",
      "Episode 322 finished. Total reward: 100.0 (100 timesteps)\n",
      "Episode 323 finished. Total reward: 96.0 (96 timesteps)\n",
      "Episode 324 finished. Total reward: 100.0 (100 timesteps)\n",
      "Episode 325 finished. Total reward: 100.0 (100 timesteps)\n",
      "Updating the policy...\n",
      "Updating finished!\n",
      "Episode 326 finished. Total reward: 100.0 (100 timesteps)\n",
      "Episode 327 finished. Total reward: 100.0 (100 timesteps)\n",
      "Episode 328 finished. Total reward: 100.0 (100 timesteps)\n",
      "Episode 329 finished. Total reward: 100.0 (100 timesteps)\n",
      "Episode 330 finished. Total reward: 100.0 (100 timesteps)\n",
      "Episode 331 finished. Total reward: 100.0 (100 timesteps)\n",
      "Episode 332 finished. Total reward: 100.0 (100 timesteps)\n",
      "Episode 333 finished. Total reward: 100.0 (100 timesteps)\n",
      "Episode 334 finished. Total reward: 100.0 (100 timesteps)\n",
      "Episode 335 finished. Total reward: 100.0 (100 timesteps)\n",
      "Episode 336 finished. Total reward: 100.0 (100 timesteps)\n",
      "Episode 337 finished. Total reward: 100.0 (100 timesteps)\n",
      "Episode 338 finished. Total reward: 100.0 (100 timesteps)\n",
      "Episode 339 finished. Total reward: 100.0 (100 timesteps)\n",
      "Episode 340 finished. Total reward: 100.0 (100 timesteps)\n",
      "Episode 341 finished. Total reward: 100.0 (100 timesteps)\n",
      "Episode 342 finished. Total reward: 100.0 (100 timesteps)\n",
      "Episode 343 finished. Total reward: 100.0 (100 timesteps)\n",
      "Episode 344 finished. Total reward: 100.0 (100 timesteps)\n",
      "Episode 345 finished. Total reward: 100.0 (100 timesteps)\n",
      "Updating the policy...\n",
      "Updating finished!\n",
      "Episode 346 finished. Total reward: 100.0 (100 timesteps)\n",
      "Episode 347 finished. Total reward: 100.0 (100 timesteps)\n",
      "Episode 348 finished. Total reward: 100.0 (100 timesteps)\n",
      "Episode 349 finished. Total reward: 100.0 (100 timesteps)\n",
      "Episode 350 finished. Total reward: 69.0 (69 timesteps)\n",
      "Episode 351 finished. Total reward: 93.0 (93 timesteps)\n",
      "Episode 352 finished. Total reward: 16.0 (16 timesteps)\n",
      "Episode 353 finished. Total reward: 100.0 (100 timesteps)\n",
      "Episode 354 finished. Total reward: 33.0 (33 timesteps)\n",
      "Episode 355 finished. Total reward: 100.0 (100 timesteps)\n",
      "Episode 356 finished. Total reward: 75.0 (75 timesteps)\n",
      "Episode 357 finished. Total reward: 64.0 (64 timesteps)\n",
      "Episode 358 finished. Total reward: 15.0 (15 timesteps)\n",
      "Episode 359 finished. Total reward: 100.0 (100 timesteps)\n",
      "Episode 360 finished. Total reward: 38.0 (38 timesteps)\n",
      "Episode 361 finished. Total reward: 100.0 (100 timesteps)\n",
      "Episode 362 finished. Total reward: 26.0 (26 timesteps)\n",
      "Episode 363 finished. Total reward: 100.0 (100 timesteps)\n",
      "Episode 364 finished. Total reward: 93.0 (93 timesteps)\n",
      "Episode 365 finished. Total reward: 68.0 (68 timesteps)\n",
      "Episode 366 finished. Total reward: 99.0 (99 timesteps)\n",
      "Episode 367 finished. Total reward: 70.0 (70 timesteps)\n",
      "Episode 368 finished. Total reward: 100.0 (100 timesteps)\n",
      "Episode 369 finished. Total reward: 100.0 (100 timesteps)\n",
      "Episode 370 finished. Total reward: 82.0 (82 timesteps)\n",
      "Episode 371 finished. Total reward: 100.0 (100 timesteps)\n",
      "Episode 372 finished. Total reward: 13.0 (13 timesteps)\n",
      "Updating the policy...\n",
      "Updating finished!\n",
      "Episode 373 finished. Total reward: 100.0 (100 timesteps)\n",
      "Episode 374 finished. Total reward: 100.0 (100 timesteps)\n",
      "Episode 375 finished. Total reward: 100.0 (100 timesteps)\n",
      "Episode 376 finished. Total reward: 100.0 (100 timesteps)\n",
      "Episode 377 finished. Total reward: 100.0 (100 timesteps)\n",
      "Episode 378 finished. Total reward: 100.0 (100 timesteps)\n",
      "Episode 379 finished. Total reward: 100.0 (100 timesteps)\n",
      "Episode 380 finished. Total reward: 75.0 (75 timesteps)\n",
      "Episode 381 finished. Total reward: 100.0 (100 timesteps)\n",
      "Episode 382 finished. Total reward: 100.0 (100 timesteps)\n",
      "Episode 383 finished. Total reward: 100.0 (100 timesteps)\n",
      "Episode 384 finished. Total reward: 100.0 (100 timesteps)\n",
      "Episode 385 finished. Total reward: 100.0 (100 timesteps)\n",
      "Episode 386 finished. Total reward: 100.0 (100 timesteps)\n",
      "Episode 387 finished. Total reward: 65.0 (65 timesteps)\n",
      "Episode 388 finished. Total reward: 100.0 (100 timesteps)\n",
      "Episode 389 finished. Total reward: 100.0 (100 timesteps)\n",
      "Episode 390 finished. Total reward: 100.0 (100 timesteps)\n",
      "Episode 391 finished. Total reward: 100.0 (100 timesteps)\n",
      "Episode 392 finished. Total reward: 100.0 (100 timesteps)\n",
      "Updating the policy...\n",
      "Updating finished!\n",
      "Episode 393 finished. Total reward: 100.0 (100 timesteps)\n",
      "Episode 394 finished. Total reward: 42.0 (42 timesteps)\n",
      "Episode 395 finished. Total reward: 100.0 (100 timesteps)\n",
      "Episode 396 finished. Total reward: 100.0 (100 timesteps)\n",
      "Episode 397 finished. Total reward: 100.0 (100 timesteps)\n",
      "Episode 398 finished. Total reward: 100.0 (100 timesteps)\n",
      "Episode 399 finished. Total reward: 100.0 (100 timesteps)\n",
      "Episode 400 finished. Total reward: 100.0 (100 timesteps)\n",
      "Episode 401 finished. Total reward: 100.0 (100 timesteps)\n",
      "Episode 402 finished. Total reward: 100.0 (100 timesteps)\n",
      "Episode 403 finished. Total reward: 90.0 (90 timesteps)\n",
      "Episode 404 finished. Total reward: 100.0 (100 timesteps)\n",
      "Episode 405 finished. Total reward: 100.0 (100 timesteps)\n",
      "Episode 406 finished. Total reward: 65.0 (65 timesteps)\n",
      "Episode 407 finished. Total reward: 100.0 (100 timesteps)\n",
      "Episode 408 finished. Total reward: 100.0 (100 timesteps)\n",
      "Episode 409 finished. Total reward: 100.0 (100 timesteps)\n",
      "Episode 410 finished. Total reward: 100.0 (100 timesteps)\n",
      "Episode 411 finished. Total reward: 100.0 (100 timesteps)\n",
      "Episode 412 finished. Total reward: 100.0 (100 timesteps)\n",
      "Episode 413 finished. Total reward: 100.0 (100 timesteps)\n",
      "Updating the policy...\n",
      "Updating finished!\n",
      "Episode 414 finished. Total reward: 100.0 (100 timesteps)\n",
      "Episode 415 finished. Total reward: 100.0 (100 timesteps)\n",
      "Episode 416 finished. Total reward: 100.0 (100 timesteps)\n",
      "Episode 417 finished. Total reward: 100.0 (100 timesteps)\n",
      "Episode 418 finished. Total reward: 99.0 (99 timesteps)\n",
      "Episode 419 finished. Total reward: 100.0 (100 timesteps)\n",
      "Episode 420 finished. Total reward: 100.0 (100 timesteps)\n",
      "Episode 421 finished. Total reward: 100.0 (100 timesteps)\n",
      "Episode 422 finished. Total reward: 100.0 (100 timesteps)\n",
      "Episode 423 finished. Total reward: 100.0 (100 timesteps)\n",
      "Episode 424 finished. Total reward: 100.0 (100 timesteps)\n",
      "Episode 425 finished. Total reward: 100.0 (100 timesteps)\n",
      "Episode 426 finished. Total reward: 100.0 (100 timesteps)\n",
      "Episode 427 finished. Total reward: 100.0 (100 timesteps)\n",
      "Episode 428 finished. Total reward: 100.0 (100 timesteps)\n",
      "Episode 429 finished. Total reward: 100.0 (100 timesteps)\n",
      "Episode 430 finished. Total reward: 78.0 (78 timesteps)\n",
      "Episode 431 finished. Total reward: 100.0 (100 timesteps)\n",
      "Episode 432 finished. Total reward: 34.0 (34 timesteps)\n",
      "Episode 433 finished. Total reward: 100.0 (100 timesteps)\n",
      "Episode 434 finished. Total reward: 100.0 (100 timesteps)\n",
      "Updating the policy...\n",
      "Updating finished!\n",
      "Episode 435 finished. Total reward: 100.0 (100 timesteps)\n",
      "Episode 436 finished. Total reward: 100.0 (100 timesteps)\n",
      "Episode 437 finished. Total reward: 100.0 (100 timesteps)\n",
      "Episode 438 finished. Total reward: 100.0 (100 timesteps)\n",
      "Episode 439 finished. Total reward: 100.0 (100 timesteps)\n",
      "Episode 440 finished. Total reward: 100.0 (100 timesteps)\n",
      "Episode 441 finished. Total reward: 100.0 (100 timesteps)\n",
      "Episode 442 finished. Total reward: 100.0 (100 timesteps)\n",
      "Episode 443 finished. Total reward: 100.0 (100 timesteps)\n",
      "Episode 444 finished. Total reward: 100.0 (100 timesteps)\n",
      "Episode 445 finished. Total reward: 100.0 (100 timesteps)\n",
      "Episode 446 finished. Total reward: 100.0 (100 timesteps)\n",
      "Episode 447 finished. Total reward: 100.0 (100 timesteps)\n",
      "Episode 448 finished. Total reward: 100.0 (100 timesteps)\n",
      "Episode 449 finished. Total reward: 100.0 (100 timesteps)\n",
      "Episode 450 finished. Total reward: 100.0 (100 timesteps)\n",
      "Episode 451 finished. Total reward: 100.0 (100 timesteps)\n",
      "Episode 452 finished. Total reward: 100.0 (100 timesteps)\n",
      "Episode 453 finished. Total reward: 100.0 (100 timesteps)\n",
      "Episode 454 finished. Total reward: 22.0 (22 timesteps)\n",
      "Episode 455 finished. Total reward: 100.0 (100 timesteps)\n",
      "Updating the policy...\n",
      "Updating finished!\n",
      "Episode 456 finished. Total reward: 100.0 (100 timesteps)\n",
      "Episode 457 finished. Total reward: 100.0 (100 timesteps)\n",
      "Episode 458 finished. Total reward: 100.0 (100 timesteps)\n",
      "Episode 459 finished. Total reward: 100.0 (100 timesteps)\n",
      "Episode 460 finished. Total reward: 100.0 (100 timesteps)\n",
      "Episode 461 finished. Total reward: 100.0 (100 timesteps)\n",
      "Episode 462 finished. Total reward: 100.0 (100 timesteps)\n",
      "Episode 463 finished. Total reward: 83.0 (83 timesteps)\n",
      "Episode 464 finished. Total reward: 100.0 (100 timesteps)\n",
      "Episode 465 finished. Total reward: 100.0 (100 timesteps)\n",
      "Episode 466 finished. Total reward: 35.0 (35 timesteps)\n",
      "Episode 467 finished. Total reward: 100.0 (100 timesteps)\n",
      "Episode 468 finished. Total reward: 100.0 (100 timesteps)\n",
      "Episode 469 finished. Total reward: 100.0 (100 timesteps)\n",
      "Episode 470 finished. Total reward: 100.0 (100 timesteps)\n",
      "Episode 471 finished. Total reward: 100.0 (100 timesteps)\n",
      "Episode 472 finished. Total reward: 100.0 (100 timesteps)\n",
      "Episode 473 finished. Total reward: 100.0 (100 timesteps)\n",
      "Episode 474 finished. Total reward: 100.0 (100 timesteps)\n",
      "Episode 475 finished. Total reward: 100.0 (100 timesteps)\n",
      "Episode 476 finished. Total reward: 100.0 (100 timesteps)\n",
      "Updating the policy...\n",
      "Updating finished!\n",
      "Episode 477 finished. Total reward: 100.0 (100 timesteps)\n",
      "Episode 478 finished. Total reward: 100.0 (100 timesteps)\n",
      "Episode 479 finished. Total reward: 100.0 (100 timesteps)\n",
      "Episode 480 finished. Total reward: 100.0 (100 timesteps)\n",
      "Episode 481 finished. Total reward: 100.0 (100 timesteps)\n",
      "Episode 482 finished. Total reward: 100.0 (100 timesteps)\n",
      "Episode 483 finished. Total reward: 100.0 (100 timesteps)\n",
      "Episode 484 finished. Total reward: 100.0 (100 timesteps)\n",
      "Episode 485 finished. Total reward: 100.0 (100 timesteps)\n",
      "Episode 486 finished. Total reward: 100.0 (100 timesteps)\n",
      "Episode 487 finished. Total reward: 100.0 (100 timesteps)\n",
      "Episode 488 finished. Total reward: 100.0 (100 timesteps)\n",
      "Episode 489 finished. Total reward: 100.0 (100 timesteps)\n",
      "Episode 490 finished. Total reward: 100.0 (100 timesteps)\n",
      "Episode 491 finished. Total reward: 100.0 (100 timesteps)\n",
      "Episode 492 finished. Total reward: 100.0 (100 timesteps)\n",
      "Episode 493 finished. Total reward: 100.0 (100 timesteps)\n",
      "Episode 494 finished. Total reward: 100.0 (100 timesteps)\n",
      "Episode 495 finished. Total reward: 100.0 (100 timesteps)\n",
      "Episode 496 finished. Total reward: 100.0 (100 timesteps)\n",
      "Updating the policy...\n",
      "Updating finished!\n",
      "Episode 497 finished. Total reward: 100.0 (100 timesteps)\n",
      "Episode 498 finished. Total reward: 100.0 (100 timesteps)\n",
      "Episode 499 finished. Total reward: 100.0 (100 timesteps)\n",
      "Episode 500 finished. Total reward: 98.0 (98 timesteps)\n",
      "Model saved to /notebooks/rl2023/ex1/results/model/CartPole-v1_params.pt\n",
      "------Training finished.------\n",
      "Numpy/Torch/Random Seed:  658\n",
      "Loading model from /notebooks/rl2023/ex1/results/model/CartPole-v1_params.pt ...\n",
      "Testing...\n",
      "Test ep reward: 144.0 seed: 455\n",
      "Test ep reward: 131.0 seed: 397\n",
      "Test ep reward: 137.0 seed: 698\n",
      "Test ep reward: 123.0 seed: 450\n",
      "Test ep reward: 124.0 seed: 661\n",
      "Test ep reward: 137.0 seed: 58\n",
      "Test ep reward: 140.0 seed: 924\n",
      "Test ep reward: 121.0 seed: 74\n",
      "Test ep reward: 144.0 seed: 636\n",
      "Test ep reward: 114.0 seed: 174\n",
      "Average test reward: 131.5 episode length: 131.5\n",
      "Numpy/Torch/Random Seed:  36\n"
     ]
    },
    {
     "data": {
      "text/html": [
       "Changes to your `wandb` environment variables will be ignored because your `wandb` session has already started. For more information on how to modify your settings with `wandb.init()` arguments, please refer to <a href='https://wandb.me/wandb-init' target=\"_blank\">the W&B docs</a>."
      ],
      "text/plain": [
       "<IPython.core.display.HTML object>"
      ]
     },
     "metadata": {},
     "output_type": "display_data"
    },
    {
     "data": {
      "text/html": [
       "Finishing last run (ID:tk7mx9cv) before initializing another..."
      ],
      "text/plain": [
       "<IPython.core.display.HTML object>"
      ]
     },
     "metadata": {},
     "output_type": "display_data"
    },
    {
     "data": {
      "text/html": [
       "Waiting for W&B process to finish... <strong style=\"color:green\">(success).</strong>"
      ],
      "text/plain": [
       "<IPython.core.display.HTML object>"
      ]
     },
     "metadata": {},
     "output_type": "display_data"
    },
    {
     "data": {
      "application/vnd.jupyter.widget-view+json": {
       "model_id": "d79342238c80428ba0c14f830da2962c",
       "version_major": 2,
       "version_minor": 0
      },
      "text/plain": [
       "VBox(children=(Label(value='0.002 MB of 0.002 MB uploaded (0.000 MB deduped)\\r'), FloatProgress(value=1.0, max…"
      ]
     },
     "metadata": {},
     "output_type": "display_data"
    },
    {
     "data": {
      "text/html": [
       "<style>\n",
       "    table.wandb td:nth-child(1) { padding: 0 10px; text-align: left ; width: auto;} td:nth-child(2) {text-align: left ; width: 100%}\n",
       "    .wandb-row { display: flex; flex-direction: row; flex-wrap: wrap; justify-content: flex-start; width: 100% }\n",
       "    .wandb-col { display: flex; flex-direction: column; flex-basis: 100%; flex: 1; padding: 10px; }\n",
       "    </style>\n",
       "<div class=\"wandb-row\"><div class=\"wandb-col\"><h3>Run history:</h3><br/><table class=\"wandb\"><tr><td>ep_reward</td><td>▁▂▃▁▃▁▂▂▅▂▁▄▃▂█▅█▄▄█▆███████████████████</td></tr><tr><td>episodes</td><td>▁▁▁▂▂▂▂▂▂▃▃▃▃▃▄▄▄▄▄▄▅▅▅▅▅▅▆▆▆▆▆▇▇▇▇▇▇███</td></tr><tr><td>num_updates</td><td>▁▁▁▁▁▁▁█▁▁▁▁▁▁▁▁▁▁▁▁▁▁▁▁▁▁▁▁▁▁▁▁▁▁█▁▁▁▁▁</td></tr><tr><td>timesteps</td><td>▁▂▃▁▃▁▂▂▅▂▁▄▃▂█▅█▄▄█▆███████████████████</td></tr></table><br/></div><div class=\"wandb-col\"><h3>Run summary:</h3><br/><table class=\"wandb\"><tr><td>ep_reward</td><td>98.0</td></tr><tr><td>episodes</td><td>500</td></tr><tr><td>num_updates</td><td>0</td></tr><tr><td>timesteps</td><td>98</td></tr></table><br/></div></div>"
      ],
      "text/plain": [
       "<IPython.core.display.HTML object>"
      ]
     },
     "metadata": {},
     "output_type": "display_data"
    },
    {
     "data": {
      "text/html": [
       " View run <strong style=\"color:#cdcd00\">ex1-CartPole-v1-42-1694670461</strong> at: <a href='https://wandb.ai/r-l/rl_aalto/runs/tk7mx9cv' target=\"_blank\">https://wandb.ai/r-l/rl_aalto/runs/tk7mx9cv</a><br/>Synced 6 W&B file(s), 0 media file(s), 0 artifact file(s) and 0 other file(s)"
      ],
      "text/plain": [
       "<IPython.core.display.HTML object>"
      ]
     },
     "metadata": {},
     "output_type": "display_data"
    },
    {
     "data": {
      "text/html": [
       "Find logs at: <code>./wandb/run-20230914_084741-tk7mx9cv/logs</code>"
      ],
      "text/plain": [
       "<IPython.core.display.HTML object>"
      ]
     },
     "metadata": {},
     "output_type": "display_data"
    },
    {
     "data": {
      "text/html": [
       "Successfully finished last run (ID:tk7mx9cv). Initializing new run:<br/>"
      ],
      "text/plain": [
       "<IPython.core.display.HTML object>"
      ]
     },
     "metadata": {},
     "output_type": "display_data"
    },
    {
     "data": {
      "application/vnd.jupyter.widget-view+json": {
       "model_id": "0485451ae8054f328fd4296d40df689d",
       "version_major": 2,
       "version_minor": 0
      },
      "text/plain": [
       "VBox(children=(Label(value='Waiting for wandb.init()...\\r'), FloatProgress(value=0.016669374549140532, max=1.0…"
      ]
     },
     "metadata": {},
     "output_type": "display_data"
    },
    {
     "data": {
      "text/html": [
       "wandb version 0.15.10 is available!  To upgrade, please run:\n",
       " $ pip install wandb --upgrade"
      ],
      "text/plain": [
       "<IPython.core.display.HTML object>"
      ]
     },
     "metadata": {},
     "output_type": "display_data"
    },
    {
     "data": {
      "text/html": [
       "Tracking run with wandb version 0.15.9"
      ],
      "text/plain": [
       "<IPython.core.display.HTML object>"
      ]
     },
     "metadata": {},
     "output_type": "display_data"
    },
    {
     "data": {
      "text/html": [
       "Run data is saved locally in <code>/notebooks/rl2023/ex1/wandb/run-20230914_085125-ma6439by</code>"
      ],
      "text/plain": [
       "<IPython.core.display.HTML object>"
      ]
     },
     "metadata": {},
     "output_type": "display_data"
    },
    {
     "data": {
      "text/html": [
       "Syncing run <strong><a href='https://wandb.ai/r-l/rl_aalto/runs/ma6439by' target=\"_blank\">ex1-CartPole-v1-36-1694670685</a></strong> to <a href='https://wandb.ai/r-l/rl_aalto' target=\"_blank\">Weights & Biases</a> (<a href='https://wandb.me/run' target=\"_blank\">docs</a>)<br/>"
      ],
      "text/plain": [
       "<IPython.core.display.HTML object>"
      ]
     },
     "metadata": {},
     "output_type": "display_data"
    },
    {
     "data": {
      "text/html": [
       " View project at <a href='https://wandb.ai/r-l/rl_aalto' target=\"_blank\">https://wandb.ai/r-l/rl_aalto</a>"
      ],
      "text/plain": [
       "<IPython.core.display.HTML object>"
      ]
     },
     "metadata": {},
     "output_type": "display_data"
    },
    {
     "data": {
      "text/html": [
       " View run at <a href='https://wandb.ai/r-l/rl_aalto/runs/ma6439by' target=\"_blank\">https://wandb.ai/r-l/rl_aalto/runs/ma6439by</a>"
      ],
      "text/plain": [
       "<IPython.core.display.HTML object>"
      ]
     },
     "metadata": {},
     "output_type": "display_data"
    },
    {
     "name": "stdout",
     "output_type": "stream",
     "text": [
      "Configuration Settings: {'exp_name': 'ex1', 'seed': 36, 'env_name': 'CartPole-v1', 'max_episode_steps': 100, 'train_episodes': 500, 'batch_size': 64, 'min_update_samples': 2000, 'testing': False, 'model_path': 'default', 'save_video': True, 'save_model': True, 'save_logging': True, 'silent': False, 'use_wandb': True, 'run_suffix': 0}\n",
      "Training device: cpu\n",
      "Observation space dimensions: 4\n",
      "Action space dimensions: 2\n",
      "\n",
      "Episode 0 finished. Total reward: 23.0 (23 timesteps)\n",
      "Episode 1 finished. Total reward: 24.0 (24 timesteps)\n",
      "Episode 2 finished. Total reward: 14.0 (14 timesteps)\n",
      "Episode 3 finished. Total reward: 19.0 (19 timesteps)\n",
      "Episode 4 finished. Total reward: 19.0 (19 timesteps)\n",
      "Episode 5 finished. Total reward: 21.0 (21 timesteps)\n",
      "Episode 6 finished. Total reward: 19.0 (19 timesteps)\n",
      "Episode 7 finished. Total reward: 31.0 (31 timesteps)\n",
      "Episode 8 finished. Total reward: 12.0 (12 timesteps)\n",
      "Episode 9 finished. Total reward: 9.0 (9 timesteps)\n",
      "Episode 10 finished. Total reward: 30.0 (30 timesteps)\n",
      "Episode 11 finished. Total reward: 13.0 (13 timesteps)\n",
      "Episode 12 finished. Total reward: 16.0 (16 timesteps)\n",
      "Episode 13 finished. Total reward: 23.0 (23 timesteps)\n",
      "Episode 14 finished. Total reward: 10.0 (10 timesteps)\n",
      "Episode 15 finished. Total reward: 11.0 (11 timesteps)\n",
      "Episode 16 finished. Total reward: 18.0 (18 timesteps)\n",
      "Episode 17 finished. Total reward: 26.0 (26 timesteps)\n",
      "Episode 18 finished. Total reward: 14.0 (14 timesteps)\n",
      "Episode 19 finished. Total reward: 11.0 (11 timesteps)\n",
      "Episode 20 finished. Total reward: 23.0 (23 timesteps)\n",
      "Episode 21 finished. Total reward: 10.0 (10 timesteps)\n",
      "Episode 22 finished. Total reward: 19.0 (19 timesteps)\n",
      "Episode 23 finished. Total reward: 13.0 (13 timesteps)\n",
      "Episode 24 finished. Total reward: 21.0 (21 timesteps)\n",
      "Episode 25 finished. Total reward: 16.0 (16 timesteps)\n",
      "Episode 26 finished. Total reward: 37.0 (37 timesteps)\n",
      "Episode 27 finished. Total reward: 20.0 (20 timesteps)\n",
      "Episode 28 finished. Total reward: 32.0 (32 timesteps)\n",
      "Episode 29 finished. Total reward: 19.0 (19 timesteps)\n",
      "Episode 30 finished. Total reward: 15.0 (15 timesteps)\n",
      "Episode 31 finished. Total reward: 16.0 (16 timesteps)\n",
      "Episode 32 finished. Total reward: 18.0 (18 timesteps)\n",
      "Episode 33 finished. Total reward: 11.0 (11 timesteps)\n",
      "Episode 34 finished. Total reward: 11.0 (11 timesteps)\n",
      "Episode 35 finished. Total reward: 17.0 (17 timesteps)\n",
      "Episode 36 finished. Total reward: 32.0 (32 timesteps)\n",
      "Episode 37 finished. Total reward: 11.0 (11 timesteps)\n",
      "Episode 38 finished. Total reward: 27.0 (27 timesteps)\n",
      "Episode 39 finished. Total reward: 67.0 (67 timesteps)\n",
      "Episode 40 finished. Total reward: 10.0 (10 timesteps)\n",
      "Episode 41 finished. Total reward: 16.0 (16 timesteps)\n",
      "Episode 42 finished. Total reward: 19.0 (19 timesteps)\n",
      "Episode 43 finished. Total reward: 18.0 (18 timesteps)\n",
      "Episode 44 finished. Total reward: 21.0 (21 timesteps)\n",
      "Episode 45 finished. Total reward: 30.0 (30 timesteps)\n",
      "Episode 46 finished. Total reward: 22.0 (22 timesteps)\n",
      "Episode 47 finished. Total reward: 23.0 (23 timesteps)\n",
      "Episode 48 finished. Total reward: 13.0 (13 timesteps)\n",
      "Episode 49 finished. Total reward: 20.0 (20 timesteps)\n",
      "Episode 50 finished. Total reward: 54.0 (54 timesteps)\n",
      "Episode 51 finished. Total reward: 17.0 (17 timesteps)\n",
      "Episode 52 finished. Total reward: 18.0 (18 timesteps)\n",
      "Episode 53 finished. Total reward: 39.0 (39 timesteps)\n",
      "Episode 54 finished. Total reward: 25.0 (25 timesteps)\n",
      "Episode 55 finished. Total reward: 14.0 (14 timesteps)\n",
      "Episode 56 finished. Total reward: 14.0 (14 timesteps)\n",
      "Episode 57 finished. Total reward: 23.0 (23 timesteps)\n",
      "Episode 58 finished. Total reward: 14.0 (14 timesteps)\n",
      "Episode 59 finished. Total reward: 38.0 (38 timesteps)\n",
      "Episode 60 finished. Total reward: 25.0 (25 timesteps)\n",
      "Episode 61 finished. Total reward: 9.0 (9 timesteps)\n",
      "Episode 62 finished. Total reward: 16.0 (16 timesteps)\n",
      "Episode 63 finished. Total reward: 22.0 (22 timesteps)\n",
      "Episode 64 finished. Total reward: 20.0 (20 timesteps)\n",
      "Episode 65 finished. Total reward: 37.0 (37 timesteps)\n",
      "Episode 66 finished. Total reward: 23.0 (23 timesteps)\n",
      "Episode 67 finished. Total reward: 45.0 (45 timesteps)\n",
      "Episode 68 finished. Total reward: 21.0 (21 timesteps)\n",
      "Episode 69 finished. Total reward: 35.0 (35 timesteps)\n",
      "Episode 70 finished. Total reward: 18.0 (18 timesteps)\n",
      "Episode 71 finished. Total reward: 29.0 (29 timesteps)\n",
      "Episode 72 finished. Total reward: 21.0 (21 timesteps)\n",
      "Episode 73 finished. Total reward: 39.0 (39 timesteps)\n",
      "Episode 74 finished. Total reward: 50.0 (50 timesteps)\n",
      "Episode 75 finished. Total reward: 29.0 (29 timesteps)\n",
      "Episode 76 finished. Total reward: 17.0 (17 timesteps)\n",
      "Episode 77 finished. Total reward: 11.0 (11 timesteps)\n",
      "Episode 78 finished. Total reward: 19.0 (19 timesteps)\n",
      "Episode 79 finished. Total reward: 11.0 (11 timesteps)\n",
      "Episode 80 finished. Total reward: 12.0 (12 timesteps)\n",
      "Episode 81 finished. Total reward: 13.0 (13 timesteps)\n",
      "Episode 82 finished. Total reward: 18.0 (18 timesteps)\n",
      "Episode 83 finished. Total reward: 13.0 (13 timesteps)\n",
      "Episode 84 finished. Total reward: 11.0 (11 timesteps)\n",
      "Episode 85 finished. Total reward: 16.0 (16 timesteps)\n",
      "Episode 86 finished. Total reward: 17.0 (17 timesteps)\n",
      "Episode 87 finished. Total reward: 33.0 (33 timesteps)\n",
      "Episode 88 finished. Total reward: 21.0 (21 timesteps)\n",
      "Episode 89 finished. Total reward: 17.0 (17 timesteps)\n",
      "Episode 90 finished. Total reward: 20.0 (20 timesteps)\n",
      "Episode 91 finished. Total reward: 11.0 (11 timesteps)\n",
      "Episode 92 finished. Total reward: 17.0 (17 timesteps)\n",
      "Episode 93 finished. Total reward: 11.0 (11 timesteps)\n",
      "Episode 94 finished. Total reward: 21.0 (21 timesteps)\n",
      "Updating the policy...\n",
      "Updating finished!\n",
      "Episode 95 finished. Total reward: 12.0 (12 timesteps)\n",
      "Episode 96 finished. Total reward: 13.0 (13 timesteps)\n",
      "Episode 97 finished. Total reward: 19.0 (19 timesteps)\n",
      "Episode 98 finished. Total reward: 26.0 (26 timesteps)\n",
      "Episode 99 finished. Total reward: 15.0 (15 timesteps)\n",
      "Episode 100 finished. Total reward: 16.0 (16 timesteps)\n",
      "Episode 101 finished. Total reward: 16.0 (16 timesteps)\n",
      "Episode 102 finished. Total reward: 19.0 (19 timesteps)\n",
      "Episode 103 finished. Total reward: 26.0 (26 timesteps)\n",
      "Episode 104 finished. Total reward: 17.0 (17 timesteps)\n",
      "Episode 105 finished. Total reward: 24.0 (24 timesteps)\n",
      "Episode 106 finished. Total reward: 15.0 (15 timesteps)\n",
      "Episode 107 finished. Total reward: 34.0 (34 timesteps)\n",
      "Episode 108 finished. Total reward: 57.0 (57 timesteps)\n",
      "Episode 109 finished. Total reward: 31.0 (31 timesteps)\n",
      "Episode 110 finished. Total reward: 23.0 (23 timesteps)\n",
      "Episode 111 finished. Total reward: 11.0 (11 timesteps)\n",
      "Episode 112 finished. Total reward: 37.0 (37 timesteps)\n",
      "Episode 113 finished. Total reward: 18.0 (18 timesteps)\n",
      "Episode 114 finished. Total reward: 31.0 (31 timesteps)\n",
      "Episode 115 finished. Total reward: 22.0 (22 timesteps)\n",
      "Episode 116 finished. Total reward: 14.0 (14 timesteps)\n",
      "Episode 117 finished. Total reward: 24.0 (24 timesteps)\n",
      "Episode 118 finished. Total reward: 13.0 (13 timesteps)\n",
      "Episode 119 finished. Total reward: 26.0 (26 timesteps)\n",
      "Episode 120 finished. Total reward: 15.0 (15 timesteps)\n",
      "Episode 121 finished. Total reward: 74.0 (74 timesteps)\n",
      "Episode 122 finished. Total reward: 27.0 (27 timesteps)\n",
      "Episode 123 finished. Total reward: 25.0 (25 timesteps)\n",
      "Episode 124 finished. Total reward: 43.0 (43 timesteps)\n",
      "Episode 125 finished. Total reward: 29.0 (29 timesteps)\n",
      "Episode 126 finished. Total reward: 15.0 (15 timesteps)\n",
      "Episode 127 finished. Total reward: 11.0 (11 timesteps)\n",
      "Episode 128 finished. Total reward: 20.0 (20 timesteps)\n",
      "Episode 129 finished. Total reward: 14.0 (14 timesteps)\n",
      "Episode 130 finished. Total reward: 19.0 (19 timesteps)\n",
      "Episode 131 finished. Total reward: 16.0 (16 timesteps)\n",
      "Episode 132 finished. Total reward: 32.0 (32 timesteps)\n",
      "Episode 133 finished. Total reward: 15.0 (15 timesteps)\n",
      "Episode 134 finished. Total reward: 22.0 (22 timesteps)\n",
      "Episode 135 finished. Total reward: 26.0 (26 timesteps)\n",
      "Episode 136 finished. Total reward: 15.0 (15 timesteps)\n",
      "Episode 137 finished. Total reward: 28.0 (28 timesteps)\n",
      "Episode 138 finished. Total reward: 16.0 (16 timesteps)\n",
      "Episode 139 finished. Total reward: 25.0 (25 timesteps)\n",
      "Episode 140 finished. Total reward: 13.0 (13 timesteps)\n",
      "Episode 141 finished. Total reward: 16.0 (16 timesteps)\n",
      "Episode 142 finished. Total reward: 32.0 (32 timesteps)\n",
      "Episode 143 finished. Total reward: 33.0 (33 timesteps)\n",
      "Episode 144 finished. Total reward: 68.0 (68 timesteps)\n",
      "Episode 145 finished. Total reward: 41.0 (41 timesteps)\n",
      "Episode 146 finished. Total reward: 10.0 (10 timesteps)\n",
      "Episode 147 finished. Total reward: 67.0 (67 timesteps)\n",
      "Episode 148 finished. Total reward: 19.0 (19 timesteps)\n",
      "Episode 149 finished. Total reward: 28.0 (28 timesteps)\n",
      "Episode 150 finished. Total reward: 66.0 (66 timesteps)\n",
      "Episode 151 finished. Total reward: 52.0 (52 timesteps)\n",
      "Episode 152 finished. Total reward: 31.0 (31 timesteps)\n",
      "Episode 153 finished. Total reward: 23.0 (23 timesteps)\n",
      "Episode 154 finished. Total reward: 25.0 (25 timesteps)\n",
      "Episode 155 finished. Total reward: 65.0 (65 timesteps)\n",
      "Episode 156 finished. Total reward: 31.0 (31 timesteps)\n",
      "Episode 157 finished. Total reward: 39.0 (39 timesteps)\n",
      "Episode 158 finished. Total reward: 16.0 (16 timesteps)\n",
      "Episode 159 finished. Total reward: 40.0 (40 timesteps)\n",
      "Episode 160 finished. Total reward: 16.0 (16 timesteps)\n",
      "Episode 161 finished. Total reward: 28.0 (28 timesteps)\n",
      "Episode 162 finished. Total reward: 42.0 (42 timesteps)\n",
      "Episode 163 finished. Total reward: 27.0 (27 timesteps)\n",
      "Episode 164 finished. Total reward: 37.0 (37 timesteps)\n",
      "Episode 165 finished. Total reward: 45.0 (45 timesteps)\n",
      "Episode 166 finished. Total reward: 18.0 (18 timesteps)\n",
      "Episode 167 finished. Total reward: 22.0 (22 timesteps)\n",
      "Updating the policy...\n",
      "Updating finished!\n",
      "Episode 168 finished. Total reward: 46.0 (46 timesteps)\n",
      "Episode 169 finished. Total reward: 72.0 (72 timesteps)\n",
      "Episode 170 finished. Total reward: 56.0 (56 timesteps)\n",
      "Episode 171 finished. Total reward: 32.0 (32 timesteps)\n",
      "Episode 172 finished. Total reward: 55.0 (55 timesteps)\n",
      "Episode 173 finished. Total reward: 35.0 (35 timesteps)\n",
      "Episode 174 finished. Total reward: 13.0 (13 timesteps)\n",
      "Episode 175 finished. Total reward: 63.0 (63 timesteps)\n",
      "Episode 176 finished. Total reward: 36.0 (36 timesteps)\n",
      "Episode 177 finished. Total reward: 28.0 (28 timesteps)\n",
      "Episode 178 finished. Total reward: 16.0 (16 timesteps)\n",
      "Episode 179 finished. Total reward: 11.0 (11 timesteps)\n",
      "Episode 180 finished. Total reward: 46.0 (46 timesteps)\n",
      "Episode 181 finished. Total reward: 46.0 (46 timesteps)\n",
      "Episode 182 finished. Total reward: 34.0 (34 timesteps)\n",
      "Episode 183 finished. Total reward: 18.0 (18 timesteps)\n",
      "Episode 184 finished. Total reward: 52.0 (52 timesteps)\n",
      "Episode 185 finished. Total reward: 24.0 (24 timesteps)\n",
      "Episode 186 finished. Total reward: 19.0 (19 timesteps)\n",
      "Episode 187 finished. Total reward: 34.0 (34 timesteps)\n",
      "Episode 188 finished. Total reward: 41.0 (41 timesteps)\n",
      "Episode 189 finished. Total reward: 100.0 (100 timesteps)\n",
      "Episode 190 finished. Total reward: 44.0 (44 timesteps)\n",
      "Episode 191 finished. Total reward: 15.0 (15 timesteps)\n",
      "Episode 192 finished. Total reward: 39.0 (39 timesteps)\n",
      "Episode 193 finished. Total reward: 22.0 (22 timesteps)\n",
      "Episode 194 finished. Total reward: 68.0 (68 timesteps)\n",
      "Episode 195 finished. Total reward: 67.0 (67 timesteps)\n",
      "Episode 196 finished. Total reward: 22.0 (22 timesteps)\n",
      "Episode 197 finished. Total reward: 33.0 (33 timesteps)\n",
      "Episode 198 finished. Total reward: 40.0 (40 timesteps)\n",
      "Episode 199 finished. Total reward: 33.0 (33 timesteps)\n",
      "Episode 200 finished. Total reward: 10.0 (10 timesteps)\n",
      "Episode 201 finished. Total reward: 24.0 (24 timesteps)\n",
      "Episode 202 finished. Total reward: 40.0 (40 timesteps)\n",
      "Episode 203 finished. Total reward: 77.0 (77 timesteps)\n",
      "Episode 204 finished. Total reward: 100.0 (100 timesteps)\n",
      "Episode 205 finished. Total reward: 66.0 (66 timesteps)\n",
      "Episode 206 finished. Total reward: 69.0 (69 timesteps)\n",
      "Episode 207 finished. Total reward: 20.0 (20 timesteps)\n",
      "Episode 208 finished. Total reward: 48.0 (48 timesteps)\n",
      "Episode 209 finished. Total reward: 52.0 (52 timesteps)\n",
      "Episode 210 finished. Total reward: 12.0 (12 timesteps)\n",
      "Episode 211 finished. Total reward: 60.0 (60 timesteps)\n",
      "Episode 212 finished. Total reward: 51.0 (51 timesteps)\n",
      "Episode 213 finished. Total reward: 20.0 (20 timesteps)\n",
      "Episode 214 finished. Total reward: 18.0 (18 timesteps)\n",
      "Episode 215 finished. Total reward: 30.0 (30 timesteps)\n",
      "Episode 216 finished. Total reward: 33.0 (33 timesteps)\n",
      "Updating the policy...\n",
      "Updating finished!\n",
      "Episode 217 finished. Total reward: 66.0 (66 timesteps)\n",
      "Episode 218 finished. Total reward: 49.0 (49 timesteps)\n",
      "Episode 219 finished. Total reward: 38.0 (38 timesteps)\n",
      "Episode 220 finished. Total reward: 83.0 (83 timesteps)\n",
      "Episode 221 finished. Total reward: 88.0 (88 timesteps)\n",
      "Episode 222 finished. Total reward: 23.0 (23 timesteps)\n",
      "Episode 223 finished. Total reward: 33.0 (33 timesteps)\n",
      "Episode 224 finished. Total reward: 49.0 (49 timesteps)\n",
      "Episode 225 finished. Total reward: 50.0 (50 timesteps)\n",
      "Episode 226 finished. Total reward: 48.0 (48 timesteps)\n",
      "Episode 227 finished. Total reward: 100.0 (100 timesteps)\n",
      "Episode 228 finished. Total reward: 31.0 (31 timesteps)\n",
      "Episode 229 finished. Total reward: 67.0 (67 timesteps)\n",
      "Episode 230 finished. Total reward: 100.0 (100 timesteps)\n",
      "Episode 231 finished. Total reward: 72.0 (72 timesteps)\n",
      "Episode 232 finished. Total reward: 74.0 (74 timesteps)\n",
      "Episode 233 finished. Total reward: 26.0 (26 timesteps)\n",
      "Episode 234 finished. Total reward: 28.0 (28 timesteps)\n",
      "Episode 235 finished. Total reward: 31.0 (31 timesteps)\n",
      "Episode 236 finished. Total reward: 100.0 (100 timesteps)\n",
      "Episode 237 finished. Total reward: 88.0 (88 timesteps)\n",
      "Episode 238 finished. Total reward: 90.0 (90 timesteps)\n",
      "Episode 239 finished. Total reward: 76.0 (76 timesteps)\n",
      "Episode 240 finished. Total reward: 100.0 (100 timesteps)\n",
      "Episode 241 finished. Total reward: 44.0 (44 timesteps)\n",
      "Episode 242 finished. Total reward: 17.0 (17 timesteps)\n",
      "Episode 243 finished. Total reward: 77.0 (77 timesteps)\n",
      "Episode 244 finished. Total reward: 39.0 (39 timesteps)\n",
      "Episode 245 finished. Total reward: 54.0 (54 timesteps)\n",
      "Episode 246 finished. Total reward: 25.0 (25 timesteps)\n",
      "Episode 247 finished. Total reward: 20.0 (20 timesteps)\n",
      "Episode 248 finished. Total reward: 19.0 (19 timesteps)\n",
      "Episode 249 finished. Total reward: 96.0 (96 timesteps)\n",
      "Episode 250 finished. Total reward: 100.0 (100 timesteps)\n",
      "Updating the policy...\n",
      "Updating finished!\n",
      "Episode 251 finished. Total reward: 93.0 (93 timesteps)\n",
      "Episode 252 finished. Total reward: 100.0 (100 timesteps)\n",
      "Episode 253 finished. Total reward: 100.0 (100 timesteps)\n",
      "Episode 254 finished. Total reward: 54.0 (54 timesteps)\n",
      "Episode 255 finished. Total reward: 100.0 (100 timesteps)\n",
      "Episode 256 finished. Total reward: 100.0 (100 timesteps)\n",
      "Episode 257 finished. Total reward: 73.0 (73 timesteps)\n",
      "Episode 258 finished. Total reward: 100.0 (100 timesteps)\n",
      "Episode 259 finished. Total reward: 86.0 (86 timesteps)\n",
      "Episode 260 finished. Total reward: 28.0 (28 timesteps)\n",
      "Episode 261 finished. Total reward: 100.0 (100 timesteps)\n",
      "Episode 262 finished. Total reward: 100.0 (100 timesteps)\n",
      "Episode 263 finished. Total reward: 99.0 (99 timesteps)\n",
      "Episode 264 finished. Total reward: 100.0 (100 timesteps)\n",
      "Episode 265 finished. Total reward: 76.0 (76 timesteps)\n",
      "Episode 266 finished. Total reward: 62.0 (62 timesteps)\n",
      "Episode 267 finished. Total reward: 100.0 (100 timesteps)\n",
      "Episode 268 finished. Total reward: 76.0 (76 timesteps)\n",
      "Episode 269 finished. Total reward: 100.0 (100 timesteps)\n",
      "Episode 270 finished. Total reward: 53.0 (53 timesteps)\n",
      "Episode 271 finished. Total reward: 100.0 (100 timesteps)\n",
      "Episode 272 finished. Total reward: 30.0 (30 timesteps)\n",
      "Episode 273 finished. Total reward: 64.0 (64 timesteps)\n",
      "Episode 274 finished. Total reward: 100.0 (100 timesteps)\n",
      "Episode 275 finished. Total reward: 27.0 (27 timesteps)\n",
      "Updating the policy...\n",
      "Updating finished!\n",
      "Episode 276 finished. Total reward: 100.0 (100 timesteps)\n",
      "Episode 277 finished. Total reward: 100.0 (100 timesteps)\n",
      "Episode 278 finished. Total reward: 100.0 (100 timesteps)\n",
      "Episode 279 finished. Total reward: 90.0 (90 timesteps)\n",
      "Episode 280 finished. Total reward: 100.0 (100 timesteps)\n",
      "Episode 281 finished. Total reward: 95.0 (95 timesteps)\n",
      "Episode 282 finished. Total reward: 100.0 (100 timesteps)\n",
      "Episode 283 finished. Total reward: 100.0 (100 timesteps)\n",
      "Episode 284 finished. Total reward: 100.0 (100 timesteps)\n",
      "Episode 285 finished. Total reward: 100.0 (100 timesteps)\n",
      "Episode 286 finished. Total reward: 100.0 (100 timesteps)\n",
      "Episode 287 finished. Total reward: 43.0 (43 timesteps)\n",
      "Episode 288 finished. Total reward: 100.0 (100 timesteps)\n",
      "Episode 289 finished. Total reward: 100.0 (100 timesteps)\n",
      "Episode 290 finished. Total reward: 100.0 (100 timesteps)\n",
      "Episode 291 finished. Total reward: 100.0 (100 timesteps)\n",
      "Episode 292 finished. Total reward: 84.0 (84 timesteps)\n",
      "Episode 293 finished. Total reward: 100.0 (100 timesteps)\n",
      "Episode 294 finished. Total reward: 100.0 (100 timesteps)\n",
      "Episode 295 finished. Total reward: 79.0 (79 timesteps)\n",
      "Episode 296 finished. Total reward: 100.0 (100 timesteps)\n",
      "Updating the policy...\n",
      "Updating finished!\n",
      "Episode 297 finished. Total reward: 100.0 (100 timesteps)\n",
      "Episode 298 finished. Total reward: 100.0 (100 timesteps)\n",
      "Episode 299 finished. Total reward: 100.0 (100 timesteps)\n",
      "Episode 300 finished. Total reward: 100.0 (100 timesteps)\n",
      "Episode 301 finished. Total reward: 100.0 (100 timesteps)\n",
      "Episode 302 finished. Total reward: 96.0 (96 timesteps)\n",
      "Episode 303 finished. Total reward: 100.0 (100 timesteps)\n",
      "Episode 304 finished. Total reward: 100.0 (100 timesteps)\n",
      "Episode 305 finished. Total reward: 100.0 (100 timesteps)\n",
      "Episode 306 finished. Total reward: 93.0 (93 timesteps)\n",
      "Episode 307 finished. Total reward: 100.0 (100 timesteps)\n",
      "Episode 308 finished. Total reward: 100.0 (100 timesteps)\n",
      "Episode 309 finished. Total reward: 100.0 (100 timesteps)\n",
      "Episode 310 finished. Total reward: 100.0 (100 timesteps)\n",
      "Episode 311 finished. Total reward: 100.0 (100 timesteps)\n",
      "Episode 312 finished. Total reward: 100.0 (100 timesteps)\n",
      "Episode 313 finished. Total reward: 100.0 (100 timesteps)\n",
      "Episode 314 finished. Total reward: 100.0 (100 timesteps)\n",
      "Episode 315 finished. Total reward: 100.0 (100 timesteps)\n",
      "Episode 316 finished. Total reward: 100.0 (100 timesteps)\n",
      "Updating the policy...\n",
      "Updating finished!\n",
      "Episode 317 finished. Total reward: 100.0 (100 timesteps)\n",
      "Episode 318 finished. Total reward: 100.0 (100 timesteps)\n",
      "Episode 319 finished. Total reward: 100.0 (100 timesteps)\n",
      "Episode 320 finished. Total reward: 100.0 (100 timesteps)\n",
      "Episode 321 finished. Total reward: 100.0 (100 timesteps)\n",
      "Episode 322 finished. Total reward: 100.0 (100 timesteps)\n",
      "Episode 323 finished. Total reward: 81.0 (81 timesteps)\n",
      "Episode 324 finished. Total reward: 100.0 (100 timesteps)\n",
      "Episode 325 finished. Total reward: 100.0 (100 timesteps)\n",
      "Episode 326 finished. Total reward: 100.0 (100 timesteps)\n",
      "Episode 327 finished. Total reward: 100.0 (100 timesteps)\n",
      "Episode 328 finished. Total reward: 100.0 (100 timesteps)\n",
      "Episode 329 finished. Total reward: 100.0 (100 timesteps)\n",
      "Episode 330 finished. Total reward: 100.0 (100 timesteps)\n",
      "Episode 331 finished. Total reward: 77.0 (77 timesteps)\n",
      "Episode 332 finished. Total reward: 100.0 (100 timesteps)\n",
      "Episode 333 finished. Total reward: 36.0 (36 timesteps)\n",
      "Episode 334 finished. Total reward: 100.0 (100 timesteps)\n",
      "Episode 335 finished. Total reward: 100.0 (100 timesteps)\n",
      "Episode 336 finished. Total reward: 100.0 (100 timesteps)\n",
      "Episode 337 finished. Total reward: 100.0 (100 timesteps)\n",
      "Updating the policy...\n",
      "Updating finished!\n",
      "Episode 338 finished. Total reward: 100.0 (100 timesteps)\n",
      "Episode 339 finished. Total reward: 100.0 (100 timesteps)\n",
      "Episode 340 finished. Total reward: 100.0 (100 timesteps)\n",
      "Episode 341 finished. Total reward: 100.0 (100 timesteps)\n",
      "Episode 342 finished. Total reward: 100.0 (100 timesteps)\n",
      "Episode 343 finished. Total reward: 100.0 (100 timesteps)\n",
      "Episode 344 finished. Total reward: 100.0 (100 timesteps)\n",
      "Episode 345 finished. Total reward: 100.0 (100 timesteps)\n",
      "Episode 346 finished. Total reward: 100.0 (100 timesteps)\n",
      "Episode 347 finished. Total reward: 100.0 (100 timesteps)\n",
      "Episode 348 finished. Total reward: 100.0 (100 timesteps)\n",
      "Episode 349 finished. Total reward: 100.0 (100 timesteps)\n",
      "Episode 350 finished. Total reward: 100.0 (100 timesteps)\n",
      "Episode 351 finished. Total reward: 49.0 (49 timesteps)\n",
      "Episode 352 finished. Total reward: 74.0 (74 timesteps)\n",
      "Episode 353 finished. Total reward: 100.0 (100 timesteps)\n",
      "Episode 354 finished. Total reward: 100.0 (100 timesteps)\n",
      "Episode 355 finished. Total reward: 90.0 (90 timesteps)\n",
      "Episode 356 finished. Total reward: 100.0 (100 timesteps)\n",
      "Episode 357 finished. Total reward: 100.0 (100 timesteps)\n",
      "Episode 358 finished. Total reward: 100.0 (100 timesteps)\n",
      "Updating the policy...\n",
      "Updating finished!\n",
      "Episode 359 finished. Total reward: 100.0 (100 timesteps)\n",
      "Episode 360 finished. Total reward: 100.0 (100 timesteps)\n",
      "Episode 361 finished. Total reward: 100.0 (100 timesteps)\n",
      "Episode 362 finished. Total reward: 100.0 (100 timesteps)\n",
      "Episode 363 finished. Total reward: 100.0 (100 timesteps)\n",
      "Episode 364 finished. Total reward: 100.0 (100 timesteps)\n",
      "Episode 365 finished. Total reward: 100.0 (100 timesteps)\n",
      "Episode 366 finished. Total reward: 100.0 (100 timesteps)\n",
      "Episode 367 finished. Total reward: 100.0 (100 timesteps)\n",
      "Episode 368 finished. Total reward: 100.0 (100 timesteps)\n",
      "Episode 369 finished. Total reward: 100.0 (100 timesteps)\n",
      "Episode 370 finished. Total reward: 100.0 (100 timesteps)\n",
      "Episode 371 finished. Total reward: 100.0 (100 timesteps)\n",
      "Episode 372 finished. Total reward: 100.0 (100 timesteps)\n",
      "Episode 373 finished. Total reward: 100.0 (100 timesteps)\n",
      "Episode 374 finished. Total reward: 100.0 (100 timesteps)\n",
      "Episode 375 finished. Total reward: 100.0 (100 timesteps)\n",
      "Episode 376 finished. Total reward: 100.0 (100 timesteps)\n",
      "Episode 377 finished. Total reward: 100.0 (100 timesteps)\n",
      "Episode 378 finished. Total reward: 100.0 (100 timesteps)\n",
      "Updating the policy...\n",
      "Updating finished!\n",
      "Episode 379 finished. Total reward: 100.0 (100 timesteps)\n",
      "Episode 380 finished. Total reward: 100.0 (100 timesteps)\n",
      "Episode 381 finished. Total reward: 100.0 (100 timesteps)\n",
      "Episode 382 finished. Total reward: 100.0 (100 timesteps)\n",
      "Episode 383 finished. Total reward: 100.0 (100 timesteps)\n",
      "Episode 384 finished. Total reward: 100.0 (100 timesteps)\n",
      "Episode 385 finished. Total reward: 100.0 (100 timesteps)\n",
      "Episode 386 finished. Total reward: 100.0 (100 timesteps)\n",
      "Episode 387 finished. Total reward: 100.0 (100 timesteps)\n",
      "Episode 388 finished. Total reward: 100.0 (100 timesteps)\n",
      "Episode 389 finished. Total reward: 100.0 (100 timesteps)\n",
      "Episode 390 finished. Total reward: 100.0 (100 timesteps)\n",
      "Episode 391 finished. Total reward: 100.0 (100 timesteps)\n",
      "Episode 392 finished. Total reward: 100.0 (100 timesteps)\n",
      "Episode 393 finished. Total reward: 100.0 (100 timesteps)\n",
      "Episode 394 finished. Total reward: 100.0 (100 timesteps)\n",
      "Episode 395 finished. Total reward: 100.0 (100 timesteps)\n",
      "Episode 396 finished. Total reward: 40.0 (40 timesteps)\n",
      "Episode 397 finished. Total reward: 100.0 (100 timesteps)\n",
      "Episode 398 finished. Total reward: 100.0 (100 timesteps)\n",
      "Updating the policy...\n",
      "Updating finished!\n",
      "Episode 399 finished. Total reward: 100.0 (100 timesteps)\n",
      "Episode 400 finished. Total reward: 48.0 (48 timesteps)\n",
      "Episode 401 finished. Total reward: 100.0 (100 timesteps)\n",
      "Episode 402 finished. Total reward: 100.0 (100 timesteps)\n",
      "Episode 403 finished. Total reward: 100.0 (100 timesteps)\n",
      "Episode 404 finished. Total reward: 100.0 (100 timesteps)\n",
      "Episode 405 finished. Total reward: 100.0 (100 timesteps)\n",
      "Episode 406 finished. Total reward: 100.0 (100 timesteps)\n",
      "Episode 407 finished. Total reward: 100.0 (100 timesteps)\n",
      "Episode 408 finished. Total reward: 100.0 (100 timesteps)\n",
      "Episode 409 finished. Total reward: 100.0 (100 timesteps)\n",
      "Episode 410 finished. Total reward: 100.0 (100 timesteps)\n",
      "Episode 411 finished. Total reward: 100.0 (100 timesteps)\n",
      "Episode 412 finished. Total reward: 100.0 (100 timesteps)\n",
      "Episode 413 finished. Total reward: 100.0 (100 timesteps)\n",
      "Episode 414 finished. Total reward: 100.0 (100 timesteps)\n",
      "Episode 415 finished. Total reward: 100.0 (100 timesteps)\n",
      "Episode 416 finished. Total reward: 100.0 (100 timesteps)\n",
      "Episode 417 finished. Total reward: 100.0 (100 timesteps)\n",
      "Episode 418 finished. Total reward: 100.0 (100 timesteps)\n",
      "Episode 419 finished. Total reward: 100.0 (100 timesteps)\n",
      "Updating the policy...\n",
      "Updating finished!\n",
      "Episode 420 finished. Total reward: 100.0 (100 timesteps)\n",
      "Episode 421 finished. Total reward: 100.0 (100 timesteps)\n",
      "Episode 422 finished. Total reward: 100.0 (100 timesteps)\n",
      "Episode 423 finished. Total reward: 100.0 (100 timesteps)\n",
      "Episode 424 finished. Total reward: 100.0 (100 timesteps)\n",
      "Episode 425 finished. Total reward: 100.0 (100 timesteps)\n",
      "Episode 426 finished. Total reward: 100.0 (100 timesteps)\n",
      "Episode 427 finished. Total reward: 100.0 (100 timesteps)\n",
      "Episode 428 finished. Total reward: 100.0 (100 timesteps)\n",
      "Episode 429 finished. Total reward: 100.0 (100 timesteps)\n",
      "Episode 430 finished. Total reward: 63.0 (63 timesteps)\n",
      "Episode 431 finished. Total reward: 100.0 (100 timesteps)\n",
      "Episode 432 finished. Total reward: 100.0 (100 timesteps)\n",
      "Episode 433 finished. Total reward: 100.0 (100 timesteps)\n",
      "Episode 434 finished. Total reward: 100.0 (100 timesteps)\n",
      "Episode 435 finished. Total reward: 100.0 (100 timesteps)\n",
      "Episode 436 finished. Total reward: 100.0 (100 timesteps)\n",
      "Episode 437 finished. Total reward: 100.0 (100 timesteps)\n",
      "Episode 438 finished. Total reward: 100.0 (100 timesteps)\n",
      "Episode 439 finished. Total reward: 100.0 (100 timesteps)\n",
      "Updating the policy...\n",
      "Updating finished!\n",
      "Episode 440 finished. Total reward: 100.0 (100 timesteps)\n",
      "Episode 441 finished. Total reward: 58.0 (58 timesteps)\n",
      "Episode 442 finished. Total reward: 100.0 (100 timesteps)\n",
      "Episode 443 finished. Total reward: 100.0 (100 timesteps)\n",
      "Episode 444 finished. Total reward: 100.0 (100 timesteps)\n",
      "Episode 445 finished. Total reward: 100.0 (100 timesteps)\n",
      "Episode 446 finished. Total reward: 100.0 (100 timesteps)\n",
      "Episode 447 finished. Total reward: 99.0 (99 timesteps)\n",
      "Episode 448 finished. Total reward: 79.0 (79 timesteps)\n",
      "Episode 449 finished. Total reward: 100.0 (100 timesteps)\n",
      "Episode 450 finished. Total reward: 100.0 (100 timesteps)\n",
      "Episode 451 finished. Total reward: 100.0 (100 timesteps)\n",
      "Episode 452 finished. Total reward: 80.0 (80 timesteps)\n",
      "Episode 453 finished. Total reward: 100.0 (100 timesteps)\n",
      "Episode 454 finished. Total reward: 100.0 (100 timesteps)\n",
      "Episode 455 finished. Total reward: 93.0 (93 timesteps)\n",
      "Episode 456 finished. Total reward: 100.0 (100 timesteps)\n",
      "Episode 457 finished. Total reward: 94.0 (94 timesteps)\n",
      "Episode 458 finished. Total reward: 100.0 (100 timesteps)\n",
      "Episode 459 finished. Total reward: 100.0 (100 timesteps)\n",
      "Episode 460 finished. Total reward: 100.0 (100 timesteps)\n",
      "Episode 461 finished. Total reward: 65.0 (65 timesteps)\n",
      "Updating the policy...\n",
      "Updating finished!\n",
      "Episode 462 finished. Total reward: 100.0 (100 timesteps)\n",
      "Episode 463 finished. Total reward: 100.0 (100 timesteps)\n",
      "Episode 464 finished. Total reward: 100.0 (100 timesteps)\n",
      "Episode 465 finished. Total reward: 100.0 (100 timesteps)\n",
      "Episode 466 finished. Total reward: 100.0 (100 timesteps)\n",
      "Episode 467 finished. Total reward: 100.0 (100 timesteps)\n",
      "Episode 468 finished. Total reward: 100.0 (100 timesteps)\n",
      "Episode 469 finished. Total reward: 100.0 (100 timesteps)\n",
      "Episode 470 finished. Total reward: 100.0 (100 timesteps)\n",
      "Episode 471 finished. Total reward: 100.0 (100 timesteps)\n",
      "Episode 472 finished. Total reward: 100.0 (100 timesteps)\n",
      "Episode 473 finished. Total reward: 86.0 (86 timesteps)\n",
      "Episode 474 finished. Total reward: 100.0 (100 timesteps)\n",
      "Episode 475 finished. Total reward: 100.0 (100 timesteps)\n",
      "Episode 476 finished. Total reward: 100.0 (100 timesteps)\n",
      "Episode 477 finished. Total reward: 100.0 (100 timesteps)\n",
      "Episode 478 finished. Total reward: 79.0 (79 timesteps)\n",
      "Episode 479 finished. Total reward: 100.0 (100 timesteps)\n",
      "Episode 480 finished. Total reward: 100.0 (100 timesteps)\n",
      "Episode 481 finished. Total reward: 100.0 (100 timesteps)\n",
      "Updating the policy...\n",
      "Updating finished!\n",
      "Episode 482 finished. Total reward: 100.0 (100 timesteps)\n",
      "Episode 483 finished. Total reward: 100.0 (100 timesteps)\n",
      "Episode 484 finished. Total reward: 100.0 (100 timesteps)\n",
      "Episode 485 finished. Total reward: 100.0 (100 timesteps)\n",
      "Episode 486 finished. Total reward: 100.0 (100 timesteps)\n",
      "Episode 487 finished. Total reward: 100.0 (100 timesteps)\n",
      "Episode 488 finished. Total reward: 100.0 (100 timesteps)\n",
      "Episode 489 finished. Total reward: 100.0 (100 timesteps)\n",
      "Episode 490 finished. Total reward: 100.0 (100 timesteps)\n",
      "Episode 491 finished. Total reward: 100.0 (100 timesteps)\n",
      "Episode 492 finished. Total reward: 100.0 (100 timesteps)\n",
      "Episode 493 finished. Total reward: 100.0 (100 timesteps)\n",
      "Episode 494 finished. Total reward: 100.0 (100 timesteps)\n",
      "Episode 495 finished. Total reward: 100.0 (100 timesteps)\n",
      "Episode 496 finished. Total reward: 100.0 (100 timesteps)\n",
      "Episode 497 finished. Total reward: 100.0 (100 timesteps)\n",
      "Episode 498 finished. Total reward: 100.0 (100 timesteps)\n",
      "Episode 499 finished. Total reward: 100.0 (100 timesteps)\n",
      "Episode 500 finished. Total reward: 100.0 (100 timesteps)\n",
      "Model saved to /notebooks/rl2023/ex1/results/model/CartPole-v1_params.pt\n",
      "------Training finished.------\n",
      "Numpy/Torch/Random Seed:  421\n",
      "Loading model from /notebooks/rl2023/ex1/results/model/CartPole-v1_params.pt ...\n",
      "Testing...\n",
      "Test ep reward: 130.0 seed: 344\n",
      "Test ep reward: 168.0 seed: 566\n",
      "Test ep reward: 136.0 seed: 493\n",
      "Test ep reward: 197.0 seed: 20\n",
      "Test ep reward: 138.0 seed: 978\n",
      "Test ep reward: 173.0 seed: 592\n",
      "Test ep reward: 138.0 seed: 799\n",
      "Test ep reward: 139.0 seed: 821\n",
      "Test ep reward: 173.0 seed: 935\n",
      "Test ep reward: 154.0 seed: 466\n",
      "Average test reward: 154.6 episode length: 154.6\n",
      "Numpy/Torch/Random Seed:  94\n"
     ]
    },
    {
     "data": {
      "text/html": [
       "Changes to your `wandb` environment variables will be ignored because your `wandb` session has already started. For more information on how to modify your settings with `wandb.init()` arguments, please refer to <a href='https://wandb.me/wandb-init' target=\"_blank\">the W&B docs</a>."
      ],
      "text/plain": [
       "<IPython.core.display.HTML object>"
      ]
     },
     "metadata": {},
     "output_type": "display_data"
    },
    {
     "data": {
      "text/html": [
       "Finishing last run (ID:ma6439by) before initializing another..."
      ],
      "text/plain": [
       "<IPython.core.display.HTML object>"
      ]
     },
     "metadata": {},
     "output_type": "display_data"
    },
    {
     "data": {
      "text/html": [
       "Waiting for W&B process to finish... <strong style=\"color:green\">(success).</strong>"
      ],
      "text/plain": [
       "<IPython.core.display.HTML object>"
      ]
     },
     "metadata": {},
     "output_type": "display_data"
    },
    {
     "data": {
      "application/vnd.jupyter.widget-view+json": {
       "model_id": "f0ec7daa54b7439fa2d4bbb5fa19bbd8",
       "version_major": 2,
       "version_minor": 0
      },
      "text/plain": [
       "VBox(children=(Label(value='0.002 MB of 0.037 MB uploaded (0.000 MB deduped)\\r'), FloatProgress(value=0.063605…"
      ]
     },
     "metadata": {},
     "output_type": "display_data"
    },
    {
     "data": {
      "text/html": [
       "<style>\n",
       "    table.wandb td:nth-child(1) { padding: 0 10px; text-align: left ; width: auto;} td:nth-child(2) {text-align: left ; width: 100%}\n",
       "    .wandb-row { display: flex; flex-direction: row; flex-wrap: wrap; justify-content: flex-start; width: 100% }\n",
       "    .wandb-col { display: flex; flex-direction: column; flex-basis: 100%; flex: 1; padding: 10px; }\n",
       "    </style>\n",
       "<div class=\"wandb-row\"><div class=\"wandb-col\"><h3>Run history:</h3><br/><table class=\"wandb\"><tr><td>ep_reward</td><td>▂▁▂▅▁▂▁▁▂▂▁▂▅▂▁▁▆▃▆▆██▇▆██▆█████████████</td></tr><tr><td>episodes</td><td>▁▁▁▂▂▂▂▂▂▃▃▃▃▃▄▄▄▄▄▄▅▅▅▅▅▅▆▆▆▆▆▇▇▇▇▇▇███</td></tr><tr><td>num_updates</td><td>▁▁▁▁▁▁▁▁▁▁▁▁▁▁▁▁▁▁▁▁▁▁▁▁▁▁▁▁█▁▁▁▁▁▁▁▁▁▁▁</td></tr><tr><td>timesteps</td><td>▂▁▂▅▁▂▁▁▂▂▁▂▅▂▁▁▆▃▆▆██▇▆██▆█████████████</td></tr></table><br/></div><div class=\"wandb-col\"><h3>Run summary:</h3><br/><table class=\"wandb\"><tr><td>ep_reward</td><td>100.0</td></tr><tr><td>episodes</td><td>500</td></tr><tr><td>num_updates</td><td>0</td></tr><tr><td>timesteps</td><td>100</td></tr></table><br/></div></div>"
      ],
      "text/plain": [
       "<IPython.core.display.HTML object>"
      ]
     },
     "metadata": {},
     "output_type": "display_data"
    },
    {
     "data": {
      "text/html": [
       " View run <strong style=\"color:#cdcd00\">ex1-CartPole-v1-36-1694670685</strong> at: <a href='https://wandb.ai/r-l/rl_aalto/runs/ma6439by' target=\"_blank\">https://wandb.ai/r-l/rl_aalto/runs/ma6439by</a><br/>Synced 6 W&B file(s), 0 media file(s), 0 artifact file(s) and 0 other file(s)"
      ],
      "text/plain": [
       "<IPython.core.display.HTML object>"
      ]
     },
     "metadata": {},
     "output_type": "display_data"
    },
    {
     "data": {
      "text/html": [
       "Find logs at: <code>./wandb/run-20230914_085125-ma6439by/logs</code>"
      ],
      "text/plain": [
       "<IPython.core.display.HTML object>"
      ]
     },
     "metadata": {},
     "output_type": "display_data"
    },
    {
     "data": {
      "text/html": [
       "Successfully finished last run (ID:ma6439by). Initializing new run:<br/>"
      ],
      "text/plain": [
       "<IPython.core.display.HTML object>"
      ]
     },
     "metadata": {},
     "output_type": "display_data"
    },
    {
     "data": {
      "application/vnd.jupyter.widget-view+json": {
       "model_id": "aa181422e6db41a5847d2a473ddbff12",
       "version_major": 2,
       "version_minor": 0
      },
      "text/plain": [
       "VBox(children=(Label(value='Waiting for wandb.init()...\\r'), FloatProgress(value=0.016669603809714318, max=1.0…"
      ]
     },
     "metadata": {},
     "output_type": "display_data"
    },
    {
     "data": {
      "text/html": [
       "wandb version 0.15.10 is available!  To upgrade, please run:\n",
       " $ pip install wandb --upgrade"
      ],
      "text/plain": [
       "<IPython.core.display.HTML object>"
      ]
     },
     "metadata": {},
     "output_type": "display_data"
    },
    {
     "data": {
      "text/html": [
       "Tracking run with wandb version 0.15.9"
      ],
      "text/plain": [
       "<IPython.core.display.HTML object>"
      ]
     },
     "metadata": {},
     "output_type": "display_data"
    },
    {
     "data": {
      "text/html": [
       "Run data is saved locally in <code>/notebooks/rl2023/ex1/wandb/run-20230914_085504-tede0wyu</code>"
      ],
      "text/plain": [
       "<IPython.core.display.HTML object>"
      ]
     },
     "metadata": {},
     "output_type": "display_data"
    },
    {
     "data": {
      "text/html": [
       "Syncing run <strong><a href='https://wandb.ai/r-l/rl_aalto/runs/tede0wyu' target=\"_blank\">ex1-CartPole-v1-94-1694670904</a></strong> to <a href='https://wandb.ai/r-l/rl_aalto' target=\"_blank\">Weights & Biases</a> (<a href='https://wandb.me/run' target=\"_blank\">docs</a>)<br/>"
      ],
      "text/plain": [
       "<IPython.core.display.HTML object>"
      ]
     },
     "metadata": {},
     "output_type": "display_data"
    },
    {
     "data": {
      "text/html": [
       " View project at <a href='https://wandb.ai/r-l/rl_aalto' target=\"_blank\">https://wandb.ai/r-l/rl_aalto</a>"
      ],
      "text/plain": [
       "<IPython.core.display.HTML object>"
      ]
     },
     "metadata": {},
     "output_type": "display_data"
    },
    {
     "data": {
      "text/html": [
       " View run at <a href='https://wandb.ai/r-l/rl_aalto/runs/tede0wyu' target=\"_blank\">https://wandb.ai/r-l/rl_aalto/runs/tede0wyu</a>"
      ],
      "text/plain": [
       "<IPython.core.display.HTML object>"
      ]
     },
     "metadata": {},
     "output_type": "display_data"
    },
    {
     "name": "stdout",
     "output_type": "stream",
     "text": [
      "Configuration Settings: {'exp_name': 'ex1', 'seed': 94, 'env_name': 'CartPole-v1', 'max_episode_steps': 100, 'train_episodes': 500, 'batch_size': 64, 'min_update_samples': 2000, 'testing': False, 'model_path': 'default', 'save_video': True, 'save_model': True, 'save_logging': True, 'silent': False, 'use_wandb': True, 'run_suffix': 0}\n",
      "Training device: cpu\n",
      "Observation space dimensions: 4\n",
      "Action space dimensions: 2\n",
      "\n",
      "Episode 0 finished. Total reward: 30.0 (30 timesteps)\n",
      "Episode 1 finished. Total reward: 27.0 (27 timesteps)\n",
      "Episode 2 finished. Total reward: 20.0 (20 timesteps)\n",
      "Episode 3 finished. Total reward: 23.0 (23 timesteps)\n",
      "Episode 4 finished. Total reward: 27.0 (27 timesteps)\n",
      "Episode 5 finished. Total reward: 19.0 (19 timesteps)\n",
      "Episode 6 finished. Total reward: 16.0 (16 timesteps)\n",
      "Episode 7 finished. Total reward: 11.0 (11 timesteps)\n",
      "Episode 8 finished. Total reward: 40.0 (40 timesteps)\n",
      "Episode 9 finished. Total reward: 41.0 (41 timesteps)\n",
      "Episode 10 finished. Total reward: 70.0 (70 timesteps)\n",
      "Episode 11 finished. Total reward: 17.0 (17 timesteps)\n",
      "Episode 12 finished. Total reward: 25.0 (25 timesteps)\n",
      "Episode 13 finished. Total reward: 15.0 (15 timesteps)\n",
      "Episode 14 finished. Total reward: 46.0 (46 timesteps)\n",
      "Episode 15 finished. Total reward: 19.0 (19 timesteps)\n",
      "Episode 16 finished. Total reward: 17.0 (17 timesteps)\n",
      "Episode 17 finished. Total reward: 25.0 (25 timesteps)\n",
      "Episode 18 finished. Total reward: 36.0 (36 timesteps)\n",
      "Episode 19 finished. Total reward: 36.0 (36 timesteps)\n",
      "Episode 20 finished. Total reward: 32.0 (32 timesteps)\n",
      "Episode 21 finished. Total reward: 11.0 (11 timesteps)\n",
      "Episode 22 finished. Total reward: 17.0 (17 timesteps)\n",
      "Episode 23 finished. Total reward: 20.0 (20 timesteps)\n",
      "Episode 24 finished. Total reward: 15.0 (15 timesteps)\n",
      "Episode 25 finished. Total reward: 34.0 (34 timesteps)\n",
      "Episode 26 finished. Total reward: 17.0 (17 timesteps)\n",
      "Episode 27 finished. Total reward: 16.0 (16 timesteps)\n",
      "Episode 28 finished. Total reward: 16.0 (16 timesteps)\n",
      "Episode 29 finished. Total reward: 17.0 (17 timesteps)\n",
      "Episode 30 finished. Total reward: 9.0 (9 timesteps)\n",
      "Episode 31 finished. Total reward: 11.0 (11 timesteps)\n",
      "Episode 32 finished. Total reward: 29.0 (29 timesteps)\n",
      "Episode 33 finished. Total reward: 40.0 (40 timesteps)\n",
      "Episode 34 finished. Total reward: 14.0 (14 timesteps)\n",
      "Episode 35 finished. Total reward: 14.0 (14 timesteps)\n",
      "Episode 36 finished. Total reward: 48.0 (48 timesteps)\n",
      "Episode 37 finished. Total reward: 24.0 (24 timesteps)\n",
      "Episode 38 finished. Total reward: 46.0 (46 timesteps)\n",
      "Episode 39 finished. Total reward: 22.0 (22 timesteps)\n",
      "Episode 40 finished. Total reward: 12.0 (12 timesteps)\n",
      "Episode 41 finished. Total reward: 14.0 (14 timesteps)\n",
      "Episode 42 finished. Total reward: 18.0 (18 timesteps)\n",
      "Episode 43 finished. Total reward: 27.0 (27 timesteps)\n",
      "Episode 44 finished. Total reward: 12.0 (12 timesteps)\n",
      "Episode 45 finished. Total reward: 17.0 (17 timesteps)\n",
      "Episode 46 finished. Total reward: 39.0 (39 timesteps)\n",
      "Episode 47 finished. Total reward: 12.0 (12 timesteps)\n",
      "Episode 48 finished. Total reward: 40.0 (40 timesteps)\n",
      "Episode 49 finished. Total reward: 32.0 (32 timesteps)\n",
      "Episode 50 finished. Total reward: 13.0 (13 timesteps)\n",
      "Episode 51 finished. Total reward: 18.0 (18 timesteps)\n",
      "Episode 52 finished. Total reward: 49.0 (49 timesteps)\n",
      "Episode 53 finished. Total reward: 14.0 (14 timesteps)\n",
      "Episode 54 finished. Total reward: 14.0 (14 timesteps)\n",
      "Episode 55 finished. Total reward: 30.0 (30 timesteps)\n",
      "Episode 56 finished. Total reward: 18.0 (18 timesteps)\n",
      "Episode 57 finished. Total reward: 18.0 (18 timesteps)\n",
      "Episode 58 finished. Total reward: 22.0 (22 timesteps)\n",
      "Episode 59 finished. Total reward: 15.0 (15 timesteps)\n",
      "Episode 60 finished. Total reward: 13.0 (13 timesteps)\n",
      "Episode 61 finished. Total reward: 11.0 (11 timesteps)\n",
      "Episode 62 finished. Total reward: 17.0 (17 timesteps)\n",
      "Episode 63 finished. Total reward: 18.0 (18 timesteps)\n",
      "Episode 64 finished. Total reward: 18.0 (18 timesteps)\n",
      "Episode 65 finished. Total reward: 13.0 (13 timesteps)\n",
      "Episode 66 finished. Total reward: 31.0 (31 timesteps)\n",
      "Episode 67 finished. Total reward: 39.0 (39 timesteps)\n",
      "Episode 68 finished. Total reward: 20.0 (20 timesteps)\n",
      "Episode 69 finished. Total reward: 14.0 (14 timesteps)\n",
      "Episode 70 finished. Total reward: 18.0 (18 timesteps)\n",
      "Episode 71 finished. Total reward: 14.0 (14 timesteps)\n",
      "Episode 72 finished. Total reward: 37.0 (37 timesteps)\n",
      "Episode 73 finished. Total reward: 28.0 (28 timesteps)\n",
      "Episode 74 finished. Total reward: 19.0 (19 timesteps)\n",
      "Episode 75 finished. Total reward: 18.0 (18 timesteps)\n",
      "Episode 76 finished. Total reward: 14.0 (14 timesteps)\n",
      "Episode 77 finished. Total reward: 16.0 (16 timesteps)\n",
      "Episode 78 finished. Total reward: 17.0 (17 timesteps)\n",
      "Episode 79 finished. Total reward: 24.0 (24 timesteps)\n",
      "Episode 80 finished. Total reward: 13.0 (13 timesteps)\n",
      "Episode 81 finished. Total reward: 23.0 (23 timesteps)\n",
      "Episode 82 finished. Total reward: 29.0 (29 timesteps)\n",
      "Episode 83 finished. Total reward: 22.0 (22 timesteps)\n",
      "Episode 84 finished. Total reward: 13.0 (13 timesteps)\n",
      "Episode 85 finished. Total reward: 21.0 (21 timesteps)\n",
      "Episode 86 finished. Total reward: 20.0 (20 timesteps)\n",
      "Updating the policy...\n",
      "Updating finished!\n",
      "Episode 87 finished. Total reward: 24.0 (24 timesteps)\n",
      "Episode 88 finished. Total reward: 12.0 (12 timesteps)\n",
      "Episode 89 finished. Total reward: 16.0 (16 timesteps)\n",
      "Episode 90 finished. Total reward: 23.0 (23 timesteps)\n",
      "Episode 91 finished. Total reward: 15.0 (15 timesteps)\n",
      "Episode 92 finished. Total reward: 15.0 (15 timesteps)\n",
      "Episode 93 finished. Total reward: 12.0 (12 timesteps)\n",
      "Episode 94 finished. Total reward: 41.0 (41 timesteps)\n",
      "Episode 95 finished. Total reward: 22.0 (22 timesteps)\n",
      "Episode 96 finished. Total reward: 17.0 (17 timesteps)\n",
      "Episode 97 finished. Total reward: 16.0 (16 timesteps)\n",
      "Episode 98 finished. Total reward: 32.0 (32 timesteps)\n",
      "Episode 99 finished. Total reward: 14.0 (14 timesteps)\n",
      "Episode 100 finished. Total reward: 19.0 (19 timesteps)\n",
      "Episode 101 finished. Total reward: 37.0 (37 timesteps)\n",
      "Episode 102 finished. Total reward: 14.0 (14 timesteps)\n",
      "Episode 103 finished. Total reward: 13.0 (13 timesteps)\n",
      "Episode 104 finished. Total reward: 39.0 (39 timesteps)\n",
      "Episode 105 finished. Total reward: 9.0 (9 timesteps)\n",
      "Episode 106 finished. Total reward: 24.0 (24 timesteps)\n",
      "Episode 107 finished. Total reward: 25.0 (25 timesteps)\n",
      "Episode 108 finished. Total reward: 22.0 (22 timesteps)\n",
      "Episode 109 finished. Total reward: 49.0 (49 timesteps)\n",
      "Episode 110 finished. Total reward: 21.0 (21 timesteps)\n",
      "Episode 111 finished. Total reward: 100.0 (100 timesteps)\n",
      "Episode 112 finished. Total reward: 73.0 (73 timesteps)\n",
      "Episode 113 finished. Total reward: 28.0 (28 timesteps)\n",
      "Episode 114 finished. Total reward: 21.0 (21 timesteps)\n",
      "Episode 115 finished. Total reward: 37.0 (37 timesteps)\n",
      "Episode 116 finished. Total reward: 78.0 (78 timesteps)\n",
      "Episode 117 finished. Total reward: 12.0 (12 timesteps)\n",
      "Episode 118 finished. Total reward: 35.0 (35 timesteps)\n",
      "Episode 119 finished. Total reward: 44.0 (44 timesteps)\n",
      "Episode 120 finished. Total reward: 16.0 (16 timesteps)\n",
      "Episode 121 finished. Total reward: 37.0 (37 timesteps)\n",
      "Episode 122 finished. Total reward: 26.0 (26 timesteps)\n",
      "Episode 123 finished. Total reward: 18.0 (18 timesteps)\n",
      "Episode 124 finished. Total reward: 45.0 (45 timesteps)\n",
      "Episode 125 finished. Total reward: 52.0 (52 timesteps)\n",
      "Episode 126 finished. Total reward: 15.0 (15 timesteps)\n",
      "Episode 127 finished. Total reward: 44.0 (44 timesteps)\n",
      "Episode 128 finished. Total reward: 15.0 (15 timesteps)\n",
      "Episode 129 finished. Total reward: 20.0 (20 timesteps)\n",
      "Episode 130 finished. Total reward: 17.0 (17 timesteps)\n",
      "Episode 131 finished. Total reward: 14.0 (14 timesteps)\n",
      "Episode 132 finished. Total reward: 21.0 (21 timesteps)\n",
      "Episode 133 finished. Total reward: 30.0 (30 timesteps)\n",
      "Episode 134 finished. Total reward: 36.0 (36 timesteps)\n",
      "Episode 135 finished. Total reward: 12.0 (12 timesteps)\n",
      "Episode 136 finished. Total reward: 24.0 (24 timesteps)\n",
      "Episode 137 finished. Total reward: 44.0 (44 timesteps)\n",
      "Episode 138 finished. Total reward: 24.0 (24 timesteps)\n",
      "Episode 139 finished. Total reward: 12.0 (12 timesteps)\n",
      "Episode 140 finished. Total reward: 56.0 (56 timesteps)\n",
      "Episode 141 finished. Total reward: 14.0 (14 timesteps)\n",
      "Episode 142 finished. Total reward: 44.0 (44 timesteps)\n",
      "Episode 143 finished. Total reward: 31.0 (31 timesteps)\n",
      "Episode 144 finished. Total reward: 14.0 (14 timesteps)\n",
      "Episode 145 finished. Total reward: 12.0 (12 timesteps)\n",
      "Episode 146 finished. Total reward: 24.0 (24 timesteps)\n",
      "Episode 147 finished. Total reward: 17.0 (17 timesteps)\n",
      "Episode 148 finished. Total reward: 18.0 (18 timesteps)\n",
      "Episode 149 finished. Total reward: 38.0 (38 timesteps)\n",
      "Episode 150 finished. Total reward: 47.0 (47 timesteps)\n",
      "Episode 151 finished. Total reward: 39.0 (39 timesteps)\n",
      "Episode 152 finished. Total reward: 24.0 (24 timesteps)\n",
      "Episode 153 finished. Total reward: 32.0 (32 timesteps)\n",
      "Episode 154 finished. Total reward: 19.0 (19 timesteps)\n",
      "Episode 155 finished. Total reward: 86.0 (86 timesteps)\n",
      "Episode 156 finished. Total reward: 19.0 (19 timesteps)\n",
      "Updating the policy...\n",
      "Updating finished!\n",
      "Episode 157 finished. Total reward: 52.0 (52 timesteps)\n",
      "Episode 158 finished. Total reward: 20.0 (20 timesteps)\n",
      "Episode 159 finished. Total reward: 23.0 (23 timesteps)\n",
      "Episode 160 finished. Total reward: 22.0 (22 timesteps)\n",
      "Episode 161 finished. Total reward: 32.0 (32 timesteps)\n",
      "Episode 162 finished. Total reward: 25.0 (25 timesteps)\n",
      "Episode 163 finished. Total reward: 30.0 (30 timesteps)\n",
      "Episode 164 finished. Total reward: 47.0 (47 timesteps)\n",
      "Episode 165 finished. Total reward: 66.0 (66 timesteps)\n",
      "Episode 166 finished. Total reward: 97.0 (97 timesteps)\n",
      "Episode 167 finished. Total reward: 100.0 (100 timesteps)\n",
      "Episode 168 finished. Total reward: 19.0 (19 timesteps)\n",
      "Episode 169 finished. Total reward: 61.0 (61 timesteps)\n",
      "Episode 170 finished. Total reward: 21.0 (21 timesteps)\n",
      "Episode 171 finished. Total reward: 36.0 (36 timesteps)\n",
      "Episode 172 finished. Total reward: 87.0 (87 timesteps)\n",
      "Episode 173 finished. Total reward: 12.0 (12 timesteps)\n",
      "Episode 174 finished. Total reward: 29.0 (29 timesteps)\n",
      "Episode 175 finished. Total reward: 57.0 (57 timesteps)\n",
      "Episode 176 finished. Total reward: 65.0 (65 timesteps)\n",
      "Episode 177 finished. Total reward: 28.0 (28 timesteps)\n",
      "Episode 178 finished. Total reward: 19.0 (19 timesteps)\n",
      "Episode 179 finished. Total reward: 25.0 (25 timesteps)\n",
      "Episode 180 finished. Total reward: 27.0 (27 timesteps)\n",
      "Episode 181 finished. Total reward: 33.0 (33 timesteps)\n",
      "Episode 182 finished. Total reward: 20.0 (20 timesteps)\n",
      "Episode 183 finished. Total reward: 21.0 (21 timesteps)\n",
      "Episode 184 finished. Total reward: 79.0 (79 timesteps)\n",
      "Episode 185 finished. Total reward: 39.0 (39 timesteps)\n",
      "Episode 186 finished. Total reward: 12.0 (12 timesteps)\n",
      "Episode 187 finished. Total reward: 22.0 (22 timesteps)\n",
      "Episode 188 finished. Total reward: 28.0 (28 timesteps)\n",
      "Episode 189 finished. Total reward: 81.0 (81 timesteps)\n",
      "Episode 190 finished. Total reward: 27.0 (27 timesteps)\n",
      "Episode 191 finished. Total reward: 13.0 (13 timesteps)\n",
      "Episode 192 finished. Total reward: 19.0 (19 timesteps)\n",
      "Episode 193 finished. Total reward: 26.0 (26 timesteps)\n",
      "Episode 194 finished. Total reward: 41.0 (41 timesteps)\n",
      "Episode 195 finished. Total reward: 20.0 (20 timesteps)\n",
      "Episode 196 finished. Total reward: 23.0 (23 timesteps)\n",
      "Episode 197 finished. Total reward: 50.0 (50 timesteps)\n",
      "Episode 198 finished. Total reward: 11.0 (11 timesteps)\n",
      "Episode 199 finished. Total reward: 28.0 (28 timesteps)\n",
      "Episode 200 finished. Total reward: 54.0 (54 timesteps)\n",
      "Episode 201 finished. Total reward: 25.0 (25 timesteps)\n",
      "Episode 202 finished. Total reward: 34.0 (34 timesteps)\n",
      "Episode 203 finished. Total reward: 27.0 (27 timesteps)\n",
      "Episode 204 finished. Total reward: 34.0 (34 timesteps)\n",
      "Episode 205 finished. Total reward: 60.0 (60 timesteps)\n",
      "Episode 206 finished. Total reward: 33.0 (33 timesteps)\n",
      "Episode 207 finished. Total reward: 89.0 (89 timesteps)\n",
      "Episode 208 finished. Total reward: 32.0 (32 timesteps)\n",
      "Updating the policy...\n",
      "Updating finished!\n",
      "Episode 209 finished. Total reward: 58.0 (58 timesteps)\n",
      "Episode 210 finished. Total reward: 46.0 (46 timesteps)\n",
      "Episode 211 finished. Total reward: 100.0 (100 timesteps)\n",
      "Episode 212 finished. Total reward: 100.0 (100 timesteps)\n",
      "Episode 213 finished. Total reward: 57.0 (57 timesteps)\n",
      "Episode 214 finished. Total reward: 38.0 (38 timesteps)\n",
      "Episode 215 finished. Total reward: 72.0 (72 timesteps)\n",
      "Episode 216 finished. Total reward: 52.0 (52 timesteps)\n",
      "Episode 217 finished. Total reward: 100.0 (100 timesteps)\n",
      "Episode 218 finished. Total reward: 23.0 (23 timesteps)\n",
      "Episode 219 finished. Total reward: 77.0 (77 timesteps)\n",
      "Episode 220 finished. Total reward: 100.0 (100 timesteps)\n",
      "Episode 221 finished. Total reward: 17.0 (17 timesteps)\n",
      "Episode 222 finished. Total reward: 94.0 (94 timesteps)\n",
      "Episode 223 finished. Total reward: 87.0 (87 timesteps)\n",
      "Episode 224 finished. Total reward: 100.0 (100 timesteps)\n",
      "Episode 225 finished. Total reward: 100.0 (100 timesteps)\n",
      "Episode 226 finished. Total reward: 47.0 (47 timesteps)\n",
      "Episode 227 finished. Total reward: 97.0 (97 timesteps)\n",
      "Episode 228 finished. Total reward: 100.0 (100 timesteps)\n",
      "Episode 229 finished. Total reward: 55.0 (55 timesteps)\n",
      "Episode 230 finished. Total reward: 25.0 (25 timesteps)\n",
      "Episode 231 finished. Total reward: 15.0 (15 timesteps)\n",
      "Episode 232 finished. Total reward: 61.0 (61 timesteps)\n",
      "Episode 233 finished. Total reward: 25.0 (25 timesteps)\n",
      "Episode 234 finished. Total reward: 89.0 (89 timesteps)\n",
      "Episode 235 finished. Total reward: 45.0 (45 timesteps)\n",
      "Episode 236 finished. Total reward: 24.0 (24 timesteps)\n",
      "Episode 237 finished. Total reward: 86.0 (86 timesteps)\n",
      "Episode 238 finished. Total reward: 19.0 (19 timesteps)\n",
      "Episode 239 finished. Total reward: 65.0 (65 timesteps)\n",
      "Updating the policy...\n",
      "Updating finished!\n",
      "Episode 240 finished. Total reward: 100.0 (100 timesteps)\n",
      "Episode 241 finished. Total reward: 51.0 (51 timesteps)\n",
      "Episode 242 finished. Total reward: 83.0 (83 timesteps)\n",
      "Episode 243 finished. Total reward: 100.0 (100 timesteps)\n",
      "Episode 244 finished. Total reward: 74.0 (74 timesteps)\n",
      "Episode 245 finished. Total reward: 100.0 (100 timesteps)\n",
      "Episode 246 finished. Total reward: 100.0 (100 timesteps)\n",
      "Episode 247 finished. Total reward: 27.0 (27 timesteps)\n",
      "Episode 248 finished. Total reward: 85.0 (85 timesteps)\n",
      "Episode 249 finished. Total reward: 27.0 (27 timesteps)\n",
      "Episode 250 finished. Total reward: 100.0 (100 timesteps)\n",
      "Episode 251 finished. Total reward: 100.0 (100 timesteps)\n",
      "Episode 252 finished. Total reward: 100.0 (100 timesteps)\n",
      "Episode 253 finished. Total reward: 13.0 (13 timesteps)\n",
      "Episode 254 finished. Total reward: 100.0 (100 timesteps)\n",
      "Episode 255 finished. Total reward: 100.0 (100 timesteps)\n",
      "Episode 256 finished. Total reward: 100.0 (100 timesteps)\n",
      "Episode 257 finished. Total reward: 51.0 (51 timesteps)\n",
      "Episode 258 finished. Total reward: 38.0 (38 timesteps)\n",
      "Episode 259 finished. Total reward: 100.0 (100 timesteps)\n",
      "Episode 260 finished. Total reward: 100.0 (100 timesteps)\n",
      "Episode 261 finished. Total reward: 100.0 (100 timesteps)\n",
      "Episode 262 finished. Total reward: 100.0 (100 timesteps)\n",
      "Episode 263 finished. Total reward: 100.0 (100 timesteps)\n",
      "Episode 264 finished. Total reward: 39.0 (39 timesteps)\n",
      "Updating the policy...\n",
      "Updating finished!\n",
      "Episode 265 finished. Total reward: 100.0 (100 timesteps)\n",
      "Episode 266 finished. Total reward: 100.0 (100 timesteps)\n",
      "Episode 267 finished. Total reward: 63.0 (63 timesteps)\n",
      "Episode 268 finished. Total reward: 100.0 (100 timesteps)\n",
      "Episode 269 finished. Total reward: 100.0 (100 timesteps)\n",
      "Episode 270 finished. Total reward: 65.0 (65 timesteps)\n",
      "Episode 271 finished. Total reward: 100.0 (100 timesteps)\n",
      "Episode 272 finished. Total reward: 78.0 (78 timesteps)\n",
      "Episode 273 finished. Total reward: 100.0 (100 timesteps)\n",
      "Episode 274 finished. Total reward: 100.0 (100 timesteps)\n",
      "Episode 275 finished. Total reward: 100.0 (100 timesteps)\n",
      "Episode 276 finished. Total reward: 59.0 (59 timesteps)\n",
      "Episode 277 finished. Total reward: 100.0 (100 timesteps)\n",
      "Episode 278 finished. Total reward: 100.0 (100 timesteps)\n",
      "Episode 279 finished. Total reward: 70.0 (70 timesteps)\n",
      "Episode 280 finished. Total reward: 100.0 (100 timesteps)\n",
      "Episode 281 finished. Total reward: 100.0 (100 timesteps)\n",
      "Episode 282 finished. Total reward: 100.0 (100 timesteps)\n",
      "Episode 283 finished. Total reward: 100.0 (100 timesteps)\n",
      "Episode 284 finished. Total reward: 100.0 (100 timesteps)\n",
      "Episode 285 finished. Total reward: 100.0 (100 timesteps)\n",
      "Episode 286 finished. Total reward: 100.0 (100 timesteps)\n",
      "Updating the policy...\n",
      "Updating finished!\n",
      "Episode 287 finished. Total reward: 100.0 (100 timesteps)\n",
      "Episode 288 finished. Total reward: 100.0 (100 timesteps)\n",
      "Episode 289 finished. Total reward: 100.0 (100 timesteps)\n",
      "Episode 290 finished. Total reward: 100.0 (100 timesteps)\n",
      "Episode 291 finished. Total reward: 100.0 (100 timesteps)\n",
      "Episode 292 finished. Total reward: 100.0 (100 timesteps)\n",
      "Episode 293 finished. Total reward: 76.0 (76 timesteps)\n",
      "Episode 294 finished. Total reward: 100.0 (100 timesteps)\n",
      "Episode 295 finished. Total reward: 100.0 (100 timesteps)\n",
      "Episode 296 finished. Total reward: 100.0 (100 timesteps)\n",
      "Episode 297 finished. Total reward: 87.0 (87 timesteps)\n",
      "Episode 298 finished. Total reward: 52.0 (52 timesteps)\n",
      "Episode 299 finished. Total reward: 100.0 (100 timesteps)\n",
      "Episode 300 finished. Total reward: 100.0 (100 timesteps)\n",
      "Episode 301 finished. Total reward: 100.0 (100 timesteps)\n",
      "Episode 302 finished. Total reward: 100.0 (100 timesteps)\n",
      "Episode 303 finished. Total reward: 100.0 (100 timesteps)\n",
      "Episode 304 finished. Total reward: 100.0 (100 timesteps)\n",
      "Episode 305 finished. Total reward: 81.0 (81 timesteps)\n",
      "Episode 306 finished. Total reward: 100.0 (100 timesteps)\n",
      "Episode 307 finished. Total reward: 42.0 (42 timesteps)\n",
      "Updating the policy...\n",
      "Updating finished!\n",
      "Episode 308 finished. Total reward: 100.0 (100 timesteps)\n",
      "Episode 309 finished. Total reward: 100.0 (100 timesteps)\n",
      "Episode 310 finished. Total reward: 100.0 (100 timesteps)\n",
      "Episode 311 finished. Total reward: 100.0 (100 timesteps)\n",
      "Episode 312 finished. Total reward: 100.0 (100 timesteps)\n",
      "Episode 313 finished. Total reward: 100.0 (100 timesteps)\n",
      "Episode 314 finished. Total reward: 100.0 (100 timesteps)\n",
      "Episode 315 finished. Total reward: 100.0 (100 timesteps)\n",
      "Episode 316 finished. Total reward: 100.0 (100 timesteps)\n",
      "Episode 317 finished. Total reward: 100.0 (100 timesteps)\n",
      "Episode 318 finished. Total reward: 100.0 (100 timesteps)\n",
      "Episode 319 finished. Total reward: 100.0 (100 timesteps)\n",
      "Episode 320 finished. Total reward: 100.0 (100 timesteps)\n",
      "Episode 321 finished. Total reward: 100.0 (100 timesteps)\n",
      "Episode 322 finished. Total reward: 81.0 (81 timesteps)\n",
      "Episode 323 finished. Total reward: 100.0 (100 timesteps)\n",
      "Episode 324 finished. Total reward: 100.0 (100 timesteps)\n",
      "Episode 325 finished. Total reward: 100.0 (100 timesteps)\n",
      "Episode 326 finished. Total reward: 100.0 (100 timesteps)\n",
      "Episode 327 finished. Total reward: 100.0 (100 timesteps)\n",
      "Episode 328 finished. Total reward: 100.0 (100 timesteps)\n",
      "Updating the policy...\n",
      "Updating finished!\n",
      "Episode 329 finished. Total reward: 100.0 (100 timesteps)\n",
      "Episode 330 finished. Total reward: 100.0 (100 timesteps)\n",
      "Episode 331 finished. Total reward: 100.0 (100 timesteps)\n",
      "Episode 332 finished. Total reward: 100.0 (100 timesteps)\n",
      "Episode 333 finished. Total reward: 100.0 (100 timesteps)\n",
      "Episode 334 finished. Total reward: 100.0 (100 timesteps)\n",
      "Episode 335 finished. Total reward: 100.0 (100 timesteps)\n",
      "Episode 336 finished. Total reward: 100.0 (100 timesteps)\n",
      "Episode 337 finished. Total reward: 100.0 (100 timesteps)\n",
      "Episode 338 finished. Total reward: 100.0 (100 timesteps)\n",
      "Episode 339 finished. Total reward: 100.0 (100 timesteps)\n",
      "Episode 340 finished. Total reward: 100.0 (100 timesteps)\n",
      "Episode 341 finished. Total reward: 100.0 (100 timesteps)\n",
      "Episode 342 finished. Total reward: 100.0 (100 timesteps)\n",
      "Episode 343 finished. Total reward: 100.0 (100 timesteps)\n",
      "Episode 344 finished. Total reward: 100.0 (100 timesteps)\n",
      "Episode 345 finished. Total reward: 100.0 (100 timesteps)\n",
      "Episode 346 finished. Total reward: 100.0 (100 timesteps)\n",
      "Episode 347 finished. Total reward: 100.0 (100 timesteps)\n",
      "Episode 348 finished. Total reward: 100.0 (100 timesteps)\n",
      "Updating the policy...\n",
      "Updating finished!\n",
      "Episode 349 finished. Total reward: 100.0 (100 timesteps)\n",
      "Episode 350 finished. Total reward: 53.0 (53 timesteps)\n",
      "Episode 351 finished. Total reward: 56.0 (56 timesteps)\n",
      "Episode 352 finished. Total reward: 100.0 (100 timesteps)\n",
      "Episode 353 finished. Total reward: 60.0 (60 timesteps)\n",
      "Episode 354 finished. Total reward: 100.0 (100 timesteps)\n",
      "Episode 355 finished. Total reward: 100.0 (100 timesteps)\n",
      "Episode 356 finished. Total reward: 100.0 (100 timesteps)\n",
      "Episode 357 finished. Total reward: 21.0 (21 timesteps)\n",
      "Episode 358 finished. Total reward: 100.0 (100 timesteps)\n",
      "Episode 359 finished. Total reward: 100.0 (100 timesteps)\n",
      "Episode 360 finished. Total reward: 100.0 (100 timesteps)\n",
      "Episode 361 finished. Total reward: 100.0 (100 timesteps)\n",
      "Episode 362 finished. Total reward: 100.0 (100 timesteps)\n",
      "Episode 363 finished. Total reward: 100.0 (100 timesteps)\n",
      "Episode 364 finished. Total reward: 100.0 (100 timesteps)\n",
      "Episode 365 finished. Total reward: 100.0 (100 timesteps)\n",
      "Episode 366 finished. Total reward: 59.0 (59 timesteps)\n",
      "Episode 367 finished. Total reward: 100.0 (100 timesteps)\n",
      "Episode 368 finished. Total reward: 88.0 (88 timesteps)\n",
      "Episode 369 finished. Total reward: 47.0 (47 timesteps)\n",
      "Episode 370 finished. Total reward: 100.0 (100 timesteps)\n",
      "Episode 371 finished. Total reward: 100.0 (100 timesteps)\n",
      "Updating the policy...\n",
      "Updating finished!\n",
      "Episode 372 finished. Total reward: 100.0 (100 timesteps)\n",
      "Episode 373 finished. Total reward: 86.0 (86 timesteps)\n",
      "Episode 374 finished. Total reward: 100.0 (100 timesteps)\n",
      "Episode 375 finished. Total reward: 100.0 (100 timesteps)\n",
      "Episode 376 finished. Total reward: 100.0 (100 timesteps)\n",
      "Episode 377 finished. Total reward: 100.0 (100 timesteps)\n",
      "Episode 378 finished. Total reward: 100.0 (100 timesteps)\n",
      "Episode 379 finished. Total reward: 100.0 (100 timesteps)\n",
      "Episode 380 finished. Total reward: 100.0 (100 timesteps)\n",
      "Episode 381 finished. Total reward: 100.0 (100 timesteps)\n",
      "Episode 382 finished. Total reward: 100.0 (100 timesteps)\n",
      "Episode 383 finished. Total reward: 100.0 (100 timesteps)\n",
      "Episode 384 finished. Total reward: 100.0 (100 timesteps)\n",
      "Episode 385 finished. Total reward: 100.0 (100 timesteps)\n",
      "Episode 386 finished. Total reward: 100.0 (100 timesteps)\n",
      "Episode 387 finished. Total reward: 100.0 (100 timesteps)\n",
      "Episode 388 finished. Total reward: 100.0 (100 timesteps)\n",
      "Episode 389 finished. Total reward: 100.0 (100 timesteps)\n",
      "Episode 390 finished. Total reward: 100.0 (100 timesteps)\n",
      "Episode 391 finished. Total reward: 100.0 (100 timesteps)\n",
      "Updating the policy...\n",
      "Updating finished!\n",
      "Episode 392 finished. Total reward: 100.0 (100 timesteps)\n",
      "Episode 393 finished. Total reward: 57.0 (57 timesteps)\n",
      "Episode 394 finished. Total reward: 100.0 (100 timesteps)\n",
      "Episode 395 finished. Total reward: 100.0 (100 timesteps)\n",
      "Episode 396 finished. Total reward: 100.0 (100 timesteps)\n",
      "Episode 397 finished. Total reward: 100.0 (100 timesteps)\n",
      "Episode 398 finished. Total reward: 100.0 (100 timesteps)\n",
      "Episode 399 finished. Total reward: 63.0 (63 timesteps)\n",
      "Episode 400 finished. Total reward: 100.0 (100 timesteps)\n",
      "Episode 401 finished. Total reward: 100.0 (100 timesteps)\n",
      "Episode 402 finished. Total reward: 100.0 (100 timesteps)\n",
      "Episode 403 finished. Total reward: 100.0 (100 timesteps)\n",
      "Episode 404 finished. Total reward: 100.0 (100 timesteps)\n",
      "Episode 405 finished. Total reward: 100.0 (100 timesteps)\n",
      "Episode 406 finished. Total reward: 100.0 (100 timesteps)\n",
      "Episode 407 finished. Total reward: 100.0 (100 timesteps)\n",
      "Episode 408 finished. Total reward: 100.0 (100 timesteps)\n",
      "Episode 409 finished. Total reward: 100.0 (100 timesteps)\n",
      "Episode 410 finished. Total reward: 100.0 (100 timesteps)\n",
      "Episode 411 finished. Total reward: 100.0 (100 timesteps)\n",
      "Episode 412 finished. Total reward: 100.0 (100 timesteps)\n",
      "Updating the policy...\n",
      "Updating finished!\n",
      "Episode 413 finished. Total reward: 100.0 (100 timesteps)\n",
      "Episode 414 finished. Total reward: 100.0 (100 timesteps)\n",
      "Episode 415 finished. Total reward: 100.0 (100 timesteps)\n",
      "Episode 416 finished. Total reward: 100.0 (100 timesteps)\n",
      "Episode 417 finished. Total reward: 100.0 (100 timesteps)\n",
      "Episode 418 finished. Total reward: 100.0 (100 timesteps)\n",
      "Episode 419 finished. Total reward: 100.0 (100 timesteps)\n",
      "Episode 420 finished. Total reward: 100.0 (100 timesteps)\n",
      "Episode 421 finished. Total reward: 100.0 (100 timesteps)\n",
      "Episode 422 finished. Total reward: 100.0 (100 timesteps)\n",
      "Episode 423 finished. Total reward: 100.0 (100 timesteps)\n",
      "Episode 424 finished. Total reward: 100.0 (100 timesteps)\n",
      "Episode 425 finished. Total reward: 100.0 (100 timesteps)\n",
      "Episode 426 finished. Total reward: 100.0 (100 timesteps)\n",
      "Episode 427 finished. Total reward: 100.0 (100 timesteps)\n",
      "Episode 428 finished. Total reward: 100.0 (100 timesteps)\n",
      "Episode 429 finished. Total reward: 100.0 (100 timesteps)\n",
      "Episode 430 finished. Total reward: 100.0 (100 timesteps)\n",
      "Episode 431 finished. Total reward: 100.0 (100 timesteps)\n",
      "Episode 432 finished. Total reward: 100.0 (100 timesteps)\n",
      "Updating the policy...\n",
      "Updating finished!\n",
      "Episode 433 finished. Total reward: 68.0 (68 timesteps)\n",
      "Episode 434 finished. Total reward: 100.0 (100 timesteps)\n",
      "Episode 435 finished. Total reward: 100.0 (100 timesteps)\n",
      "Episode 436 finished. Total reward: 100.0 (100 timesteps)\n",
      "Episode 437 finished. Total reward: 100.0 (100 timesteps)\n",
      "Episode 438 finished. Total reward: 100.0 (100 timesteps)\n",
      "Episode 439 finished. Total reward: 82.0 (82 timesteps)\n",
      "Episode 440 finished. Total reward: 100.0 (100 timesteps)\n",
      "Episode 441 finished. Total reward: 29.0 (29 timesteps)\n",
      "Episode 442 finished. Total reward: 100.0 (100 timesteps)\n",
      "Episode 443 finished. Total reward: 83.0 (83 timesteps)\n",
      "Episode 444 finished. Total reward: 94.0 (94 timesteps)\n",
      "Episode 445 finished. Total reward: 95.0 (95 timesteps)\n",
      "Episode 446 finished. Total reward: 100.0 (100 timesteps)\n",
      "Episode 447 finished. Total reward: 84.0 (84 timesteps)\n",
      "Episode 448 finished. Total reward: 100.0 (100 timesteps)\n",
      "Episode 449 finished. Total reward: 100.0 (100 timesteps)\n",
      "Episode 450 finished. Total reward: 92.0 (92 timesteps)\n",
      "Episode 451 finished. Total reward: 100.0 (100 timesteps)\n",
      "Episode 452 finished. Total reward: 88.0 (88 timesteps)\n",
      "Episode 453 finished. Total reward: 48.0 (48 timesteps)\n",
      "Episode 454 finished. Total reward: 57.0 (57 timesteps)\n",
      "Episode 455 finished. Total reward: 100.0 (100 timesteps)\n",
      "Updating the policy...\n",
      "Updating finished!\n",
      "Episode 456 finished. Total reward: 100.0 (100 timesteps)\n",
      "Episode 457 finished. Total reward: 100.0 (100 timesteps)\n",
      "Episode 458 finished. Total reward: 100.0 (100 timesteps)\n",
      "Episode 459 finished. Total reward: 100.0 (100 timesteps)\n",
      "Episode 460 finished. Total reward: 100.0 (100 timesteps)\n",
      "Episode 461 finished. Total reward: 100.0 (100 timesteps)\n",
      "Episode 462 finished. Total reward: 100.0 (100 timesteps)\n",
      "Episode 463 finished. Total reward: 100.0 (100 timesteps)\n",
      "Episode 464 finished. Total reward: 100.0 (100 timesteps)\n",
      "Episode 465 finished. Total reward: 100.0 (100 timesteps)\n",
      "Episode 466 finished. Total reward: 100.0 (100 timesteps)\n",
      "Episode 467 finished. Total reward: 93.0 (93 timesteps)\n",
      "Episode 468 finished. Total reward: 100.0 (100 timesteps)\n",
      "Episode 469 finished. Total reward: 100.0 (100 timesteps)\n",
      "Episode 470 finished. Total reward: 100.0 (100 timesteps)\n",
      "Episode 471 finished. Total reward: 100.0 (100 timesteps)\n",
      "Episode 472 finished. Total reward: 100.0 (100 timesteps)\n",
      "Episode 473 finished. Total reward: 100.0 (100 timesteps)\n",
      "Episode 474 finished. Total reward: 100.0 (100 timesteps)\n",
      "Episode 475 finished. Total reward: 100.0 (100 timesteps)\n",
      "Updating the policy...\n",
      "Updating finished!\n",
      "Episode 476 finished. Total reward: 100.0 (100 timesteps)\n",
      "Episode 477 finished. Total reward: 100.0 (100 timesteps)\n",
      "Episode 478 finished. Total reward: 30.0 (30 timesteps)\n",
      "Episode 479 finished. Total reward: 100.0 (100 timesteps)\n",
      "Episode 480 finished. Total reward: 100.0 (100 timesteps)\n",
      "Episode 481 finished. Total reward: 100.0 (100 timesteps)\n",
      "Episode 482 finished. Total reward: 100.0 (100 timesteps)\n",
      "Episode 483 finished. Total reward: 100.0 (100 timesteps)\n",
      "Episode 484 finished. Total reward: 100.0 (100 timesteps)\n",
      "Episode 485 finished. Total reward: 100.0 (100 timesteps)\n",
      "Episode 486 finished. Total reward: 100.0 (100 timesteps)\n",
      "Episode 487 finished. Total reward: 100.0 (100 timesteps)\n",
      "Episode 488 finished. Total reward: 100.0 (100 timesteps)\n",
      "Episode 489 finished. Total reward: 100.0 (100 timesteps)\n",
      "Episode 490 finished. Total reward: 44.0 (44 timesteps)\n",
      "Episode 491 finished. Total reward: 100.0 (100 timesteps)\n",
      "Episode 492 finished. Total reward: 69.0 (69 timesteps)\n",
      "Episode 493 finished. Total reward: 100.0 (100 timesteps)\n",
      "Episode 494 finished. Total reward: 100.0 (100 timesteps)\n",
      "Episode 495 finished. Total reward: 100.0 (100 timesteps)\n",
      "Episode 496 finished. Total reward: 100.0 (100 timesteps)\n",
      "Updating the policy...\n",
      "Updating finished!\n",
      "Episode 497 finished. Total reward: 100.0 (100 timesteps)\n",
      "Episode 498 finished. Total reward: 100.0 (100 timesteps)\n",
      "Episode 499 finished. Total reward: 100.0 (100 timesteps)\n",
      "Episode 500 finished. Total reward: 100.0 (100 timesteps)\n",
      "Model saved to /notebooks/rl2023/ex1/results/model/CartPole-v1_params.pt\n",
      "------Training finished.------\n",
      "Numpy/Torch/Random Seed:  405\n",
      "Loading model from /notebooks/rl2023/ex1/results/model/CartPole-v1_params.pt ...\n",
      "Testing...\n",
      "Test ep reward: 115.0 seed: 622\n",
      "Test ep reward: 143.0 seed: 420\n",
      "Test ep reward: 128.0 seed: 492\n",
      "Test ep reward: 130.0 seed: 647\n",
      "Test ep reward: 111.0 seed: 633\n",
      "Test ep reward: 117.0 seed: 130\n",
      "Test ep reward: 142.0 seed: 925\n",
      "Test ep reward: 124.0 seed: 761\n",
      "Test ep reward: 120.0 seed: 519\n",
      "Test ep reward: 131.0 seed: 601\n",
      "Average test reward: 126.1 episode length: 126.1\n",
      "Numpy/Torch/Random Seed:  9\n"
     ]
    },
    {
     "data": {
      "text/html": [
       "Changes to your `wandb` environment variables will be ignored because your `wandb` session has already started. For more information on how to modify your settings with `wandb.init()` arguments, please refer to <a href='https://wandb.me/wandb-init' target=\"_blank\">the W&B docs</a>."
      ],
      "text/plain": [
       "<IPython.core.display.HTML object>"
      ]
     },
     "metadata": {},
     "output_type": "display_data"
    },
    {
     "data": {
      "text/html": [
       "Finishing last run (ID:tede0wyu) before initializing another..."
      ],
      "text/plain": [
       "<IPython.core.display.HTML object>"
      ]
     },
     "metadata": {},
     "output_type": "display_data"
    },
    {
     "data": {
      "text/html": [
       "Waiting for W&B process to finish... <strong style=\"color:green\">(success).</strong>"
      ],
      "text/plain": [
       "<IPython.core.display.HTML object>"
      ]
     },
     "metadata": {},
     "output_type": "display_data"
    },
    {
     "data": {
      "application/vnd.jupyter.widget-view+json": {
       "model_id": "1373f8d8f89b476fb6d5f4628caf1bab",
       "version_major": 2,
       "version_minor": 0
      },
      "text/plain": [
       "VBox(children=(Label(value='0.002 MB of 0.037 MB uploaded (0.000 MB deduped)\\r'), FloatProgress(value=0.063850…"
      ]
     },
     "metadata": {},
     "output_type": "display_data"
    },
    {
     "data": {
      "text/html": [
       "<style>\n",
       "    table.wandb td:nth-child(1) { padding: 0 10px; text-align: left ; width: auto;} td:nth-child(2) {text-align: left ; width: 100%}\n",
       "    .wandb-row { display: flex; flex-direction: row; flex-wrap: wrap; justify-content: flex-start; width: 100% }\n",
       "    .wandb-col { display: flex; flex-direction: column; flex-basis: 100%; flex: 1; padding: 10px; }\n",
       "    </style>\n",
       "<div class=\"wandb-row\"><div class=\"wandb-col\"><h3>Run history:</h3><br/><table class=\"wandb\"><tr><td>ep_reward</td><td>▂▂▁▂▁▁▂▁▁▃▄▁▇█▂▁▂▆▁██▅▆█▃██████████▇████</td></tr><tr><td>episodes</td><td>▁▁▁▂▂▂▂▂▂▃▃▃▃▃▄▄▄▄▄▄▅▅▅▅▅▅▆▆▆▆▆▇▇▇▇▇▇███</td></tr><tr><td>num_updates</td><td>▁▁▁▁▁▁▁▁▁▁▁▁▁▁▁▁▁▁▁▁▁▁▁▁▁▁▁▁▁▁▁▁▁▁▁▁▁▁▁▁</td></tr><tr><td>timesteps</td><td>▂▂▁▂▁▁▂▁▁▃▄▁▇█▂▁▂▆▁██▅▆█▃██████████▇████</td></tr></table><br/></div><div class=\"wandb-col\"><h3>Run summary:</h3><br/><table class=\"wandb\"><tr><td>ep_reward</td><td>100.0</td></tr><tr><td>episodes</td><td>500</td></tr><tr><td>num_updates</td><td>0</td></tr><tr><td>timesteps</td><td>100</td></tr></table><br/></div></div>"
      ],
      "text/plain": [
       "<IPython.core.display.HTML object>"
      ]
     },
     "metadata": {},
     "output_type": "display_data"
    },
    {
     "data": {
      "text/html": [
       " View run <strong style=\"color:#cdcd00\">ex1-CartPole-v1-94-1694670904</strong> at: <a href='https://wandb.ai/r-l/rl_aalto/runs/tede0wyu' target=\"_blank\">https://wandb.ai/r-l/rl_aalto/runs/tede0wyu</a><br/>Synced 6 W&B file(s), 0 media file(s), 0 artifact file(s) and 0 other file(s)"
      ],
      "text/plain": [
       "<IPython.core.display.HTML object>"
      ]
     },
     "metadata": {},
     "output_type": "display_data"
    },
    {
     "data": {
      "text/html": [
       "Find logs at: <code>./wandb/run-20230914_085504-tede0wyu/logs</code>"
      ],
      "text/plain": [
       "<IPython.core.display.HTML object>"
      ]
     },
     "metadata": {},
     "output_type": "display_data"
    },
    {
     "data": {
      "text/html": [
       "Successfully finished last run (ID:tede0wyu). Initializing new run:<br/>"
      ],
      "text/plain": [
       "<IPython.core.display.HTML object>"
      ]
     },
     "metadata": {},
     "output_type": "display_data"
    },
    {
     "data": {
      "application/vnd.jupyter.widget-view+json": {
       "model_id": "14c31cb82b634c39a6ef0e9560ba75ec",
       "version_major": 2,
       "version_minor": 0
      },
      "text/plain": [
       "VBox(children=(Label(value='Waiting for wandb.init()...\\r'), FloatProgress(value=0.016669316310435535, max=1.0…"
      ]
     },
     "metadata": {},
     "output_type": "display_data"
    },
    {
     "data": {
      "text/html": [
       "wandb version 0.15.10 is available!  To upgrade, please run:\n",
       " $ pip install wandb --upgrade"
      ],
      "text/plain": [
       "<IPython.core.display.HTML object>"
      ]
     },
     "metadata": {},
     "output_type": "display_data"
    },
    {
     "data": {
      "text/html": [
       "Tracking run with wandb version 0.15.9"
      ],
      "text/plain": [
       "<IPython.core.display.HTML object>"
      ]
     },
     "metadata": {},
     "output_type": "display_data"
    },
    {
     "data": {
      "text/html": [
       "Run data is saved locally in <code>/notebooks/rl2023/ex1/wandb/run-20230914_085858-vkkhv3x2</code>"
      ],
      "text/plain": [
       "<IPython.core.display.HTML object>"
      ]
     },
     "metadata": {},
     "output_type": "display_data"
    },
    {
     "data": {
      "text/html": [
       "Syncing run <strong><a href='https://wandb.ai/r-l/rl_aalto/runs/vkkhv3x2' target=\"_blank\">ex1-CartPole-v1-9-1694671138</a></strong> to <a href='https://wandb.ai/r-l/rl_aalto' target=\"_blank\">Weights & Biases</a> (<a href='https://wandb.me/run' target=\"_blank\">docs</a>)<br/>"
      ],
      "text/plain": [
       "<IPython.core.display.HTML object>"
      ]
     },
     "metadata": {},
     "output_type": "display_data"
    },
    {
     "data": {
      "text/html": [
       " View project at <a href='https://wandb.ai/r-l/rl_aalto' target=\"_blank\">https://wandb.ai/r-l/rl_aalto</a>"
      ],
      "text/plain": [
       "<IPython.core.display.HTML object>"
      ]
     },
     "metadata": {},
     "output_type": "display_data"
    },
    {
     "data": {
      "text/html": [
       " View run at <a href='https://wandb.ai/r-l/rl_aalto/runs/vkkhv3x2' target=\"_blank\">https://wandb.ai/r-l/rl_aalto/runs/vkkhv3x2</a>"
      ],
      "text/plain": [
       "<IPython.core.display.HTML object>"
      ]
     },
     "metadata": {},
     "output_type": "display_data"
    },
    {
     "name": "stdout",
     "output_type": "stream",
     "text": [
      "Configuration Settings: {'exp_name': 'ex1', 'seed': 9, 'env_name': 'CartPole-v1', 'max_episode_steps': 100, 'train_episodes': 500, 'batch_size': 64, 'min_update_samples': 2000, 'testing': False, 'model_path': 'default', 'save_video': True, 'save_model': True, 'save_logging': True, 'silent': False, 'use_wandb': True, 'run_suffix': 0}\n",
      "Training device: cpu\n",
      "Observation space dimensions: 4\n",
      "Action space dimensions: 2\n",
      "\n",
      "Episode 0 finished. Total reward: 15.0 (15 timesteps)\n",
      "Episode 1 finished. Total reward: 21.0 (21 timesteps)\n",
      "Episode 2 finished. Total reward: 19.0 (19 timesteps)\n",
      "Episode 3 finished. Total reward: 11.0 (11 timesteps)\n",
      "Episode 4 finished. Total reward: 13.0 (13 timesteps)\n",
      "Episode 5 finished. Total reward: 14.0 (14 timesteps)\n",
      "Episode 6 finished. Total reward: 61.0 (61 timesteps)\n",
      "Episode 7 finished. Total reward: 13.0 (13 timesteps)\n",
      "Episode 8 finished. Total reward: 44.0 (44 timesteps)\n",
      "Episode 9 finished. Total reward: 14.0 (14 timesteps)\n",
      "Episode 10 finished. Total reward: 23.0 (23 timesteps)\n",
      "Episode 11 finished. Total reward: 41.0 (41 timesteps)\n",
      "Episode 12 finished. Total reward: 13.0 (13 timesteps)\n",
      "Episode 13 finished. Total reward: 15.0 (15 timesteps)\n",
      "Episode 14 finished. Total reward: 10.0 (10 timesteps)\n",
      "Episode 15 finished. Total reward: 14.0 (14 timesteps)\n",
      "Episode 16 finished. Total reward: 15.0 (15 timesteps)\n",
      "Episode 17 finished. Total reward: 46.0 (46 timesteps)\n",
      "Episode 18 finished. Total reward: 20.0 (20 timesteps)\n",
      "Episode 19 finished. Total reward: 27.0 (27 timesteps)\n",
      "Episode 20 finished. Total reward: 12.0 (12 timesteps)\n",
      "Episode 21 finished. Total reward: 24.0 (24 timesteps)\n",
      "Episode 22 finished. Total reward: 9.0 (9 timesteps)\n",
      "Episode 23 finished. Total reward: 19.0 (19 timesteps)\n",
      "Episode 24 finished. Total reward: 14.0 (14 timesteps)\n",
      "Episode 25 finished. Total reward: 43.0 (43 timesteps)\n",
      "Episode 26 finished. Total reward: 66.0 (66 timesteps)\n",
      "Episode 27 finished. Total reward: 21.0 (21 timesteps)\n",
      "Episode 28 finished. Total reward: 14.0 (14 timesteps)\n",
      "Episode 29 finished. Total reward: 28.0 (28 timesteps)\n",
      "Episode 30 finished. Total reward: 23.0 (23 timesteps)\n",
      "Episode 31 finished. Total reward: 13.0 (13 timesteps)\n",
      "Episode 32 finished. Total reward: 64.0 (64 timesteps)\n",
      "Episode 33 finished. Total reward: 14.0 (14 timesteps)\n",
      "Episode 34 finished. Total reward: 48.0 (48 timesteps)\n",
      "Episode 35 finished. Total reward: 17.0 (17 timesteps)\n",
      "Episode 36 finished. Total reward: 12.0 (12 timesteps)\n",
      "Episode 37 finished. Total reward: 56.0 (56 timesteps)\n",
      "Episode 38 finished. Total reward: 17.0 (17 timesteps)\n",
      "Episode 39 finished. Total reward: 12.0 (12 timesteps)\n",
      "Episode 40 finished. Total reward: 20.0 (20 timesteps)\n",
      "Episode 41 finished. Total reward: 18.0 (18 timesteps)\n",
      "Episode 42 finished. Total reward: 12.0 (12 timesteps)\n",
      "Episode 43 finished. Total reward: 17.0 (17 timesteps)\n",
      "Episode 44 finished. Total reward: 11.0 (11 timesteps)\n",
      "Episode 45 finished. Total reward: 28.0 (28 timesteps)\n",
      "Episode 46 finished. Total reward: 18.0 (18 timesteps)\n",
      "Episode 47 finished. Total reward: 18.0 (18 timesteps)\n",
      "Episode 48 finished. Total reward: 11.0 (11 timesteps)\n",
      "Episode 49 finished. Total reward: 10.0 (10 timesteps)\n",
      "Episode 50 finished. Total reward: 31.0 (31 timesteps)\n",
      "Episode 51 finished. Total reward: 12.0 (12 timesteps)\n",
      "Episode 52 finished. Total reward: 17.0 (17 timesteps)\n",
      "Episode 53 finished. Total reward: 13.0 (13 timesteps)\n",
      "Episode 54 finished. Total reward: 13.0 (13 timesteps)\n",
      "Episode 55 finished. Total reward: 19.0 (19 timesteps)\n",
      "Episode 56 finished. Total reward: 14.0 (14 timesteps)\n",
      "Episode 57 finished. Total reward: 14.0 (14 timesteps)\n",
      "Episode 58 finished. Total reward: 31.0 (31 timesteps)\n",
      "Episode 59 finished. Total reward: 22.0 (22 timesteps)\n",
      "Episode 60 finished. Total reward: 15.0 (15 timesteps)\n",
      "Episode 61 finished. Total reward: 22.0 (22 timesteps)\n",
      "Episode 62 finished. Total reward: 23.0 (23 timesteps)\n",
      "Episode 63 finished. Total reward: 15.0 (15 timesteps)\n",
      "Episode 64 finished. Total reward: 21.0 (21 timesteps)\n",
      "Episode 65 finished. Total reward: 11.0 (11 timesteps)\n",
      "Episode 66 finished. Total reward: 24.0 (24 timesteps)\n",
      "Episode 67 finished. Total reward: 22.0 (22 timesteps)\n",
      "Episode 68 finished. Total reward: 11.0 (11 timesteps)\n",
      "Episode 69 finished. Total reward: 30.0 (30 timesteps)\n",
      "Episode 70 finished. Total reward: 22.0 (22 timesteps)\n",
      "Episode 71 finished. Total reward: 10.0 (10 timesteps)\n",
      "Episode 72 finished. Total reward: 22.0 (22 timesteps)\n",
      "Episode 73 finished. Total reward: 13.0 (13 timesteps)\n",
      "Episode 74 finished. Total reward: 18.0 (18 timesteps)\n",
      "Episode 75 finished. Total reward: 54.0 (54 timesteps)\n",
      "Episode 76 finished. Total reward: 19.0 (19 timesteps)\n",
      "Episode 77 finished. Total reward: 12.0 (12 timesteps)\n",
      "Episode 78 finished. Total reward: 27.0 (27 timesteps)\n",
      "Episode 79 finished. Total reward: 31.0 (31 timesteps)\n",
      "Episode 80 finished. Total reward: 16.0 (16 timesteps)\n",
      "Episode 81 finished. Total reward: 16.0 (16 timesteps)\n",
      "Episode 82 finished. Total reward: 25.0 (25 timesteps)\n",
      "Episode 83 finished. Total reward: 36.0 (36 timesteps)\n",
      "Episode 84 finished. Total reward: 16.0 (16 timesteps)\n",
      "Episode 85 finished. Total reward: 10.0 (10 timesteps)\n",
      "Episode 86 finished. Total reward: 22.0 (22 timesteps)\n",
      "Episode 87 finished. Total reward: 12.0 (12 timesteps)\n",
      "Episode 88 finished. Total reward: 24.0 (24 timesteps)\n",
      "Episode 89 finished. Total reward: 12.0 (12 timesteps)\n",
      "Episode 90 finished. Total reward: 14.0 (14 timesteps)\n",
      "Episode 91 finished. Total reward: 27.0 (27 timesteps)\n",
      "Updating the policy...\n",
      "Updating finished!\n",
      "Episode 92 finished. Total reward: 35.0 (35 timesteps)\n",
      "Episode 93 finished. Total reward: 27.0 (27 timesteps)\n",
      "Episode 94 finished. Total reward: 43.0 (43 timesteps)\n",
      "Episode 95 finished. Total reward: 29.0 (29 timesteps)\n",
      "Episode 96 finished. Total reward: 31.0 (31 timesteps)\n",
      "Episode 97 finished. Total reward: 25.0 (25 timesteps)\n",
      "Episode 98 finished. Total reward: 40.0 (40 timesteps)\n",
      "Episode 99 finished. Total reward: 33.0 (33 timesteps)\n",
      "Episode 100 finished. Total reward: 17.0 (17 timesteps)\n",
      "Episode 101 finished. Total reward: 14.0 (14 timesteps)\n",
      "Episode 102 finished. Total reward: 65.0 (65 timesteps)\n",
      "Episode 103 finished. Total reward: 39.0 (39 timesteps)\n",
      "Episode 104 finished. Total reward: 34.0 (34 timesteps)\n",
      "Episode 105 finished. Total reward: 26.0 (26 timesteps)\n",
      "Episode 106 finished. Total reward: 33.0 (33 timesteps)\n",
      "Episode 107 finished. Total reward: 24.0 (24 timesteps)\n",
      "Episode 108 finished. Total reward: 49.0 (49 timesteps)\n",
      "Episode 109 finished. Total reward: 31.0 (31 timesteps)\n",
      "Episode 110 finished. Total reward: 38.0 (38 timesteps)\n",
      "Episode 111 finished. Total reward: 14.0 (14 timesteps)\n",
      "Episode 112 finished. Total reward: 23.0 (23 timesteps)\n",
      "Episode 113 finished. Total reward: 29.0 (29 timesteps)\n",
      "Episode 114 finished. Total reward: 23.0 (23 timesteps)\n",
      "Episode 115 finished. Total reward: 14.0 (14 timesteps)\n",
      "Episode 116 finished. Total reward: 14.0 (14 timesteps)\n",
      "Episode 117 finished. Total reward: 14.0 (14 timesteps)\n",
      "Episode 118 finished. Total reward: 18.0 (18 timesteps)\n",
      "Episode 119 finished. Total reward: 73.0 (73 timesteps)\n",
      "Episode 120 finished. Total reward: 18.0 (18 timesteps)\n",
      "Episode 121 finished. Total reward: 16.0 (16 timesteps)\n",
      "Episode 122 finished. Total reward: 48.0 (48 timesteps)\n",
      "Episode 123 finished. Total reward: 21.0 (21 timesteps)\n",
      "Episode 124 finished. Total reward: 18.0 (18 timesteps)\n",
      "Episode 125 finished. Total reward: 48.0 (48 timesteps)\n",
      "Episode 126 finished. Total reward: 13.0 (13 timesteps)\n",
      "Episode 127 finished. Total reward: 52.0 (52 timesteps)\n",
      "Episode 128 finished. Total reward: 14.0 (14 timesteps)\n",
      "Episode 129 finished. Total reward: 69.0 (69 timesteps)\n",
      "Episode 130 finished. Total reward: 13.0 (13 timesteps)\n",
      "Episode 131 finished. Total reward: 19.0 (19 timesteps)\n",
      "Episode 132 finished. Total reward: 12.0 (12 timesteps)\n",
      "Episode 133 finished. Total reward: 12.0 (12 timesteps)\n",
      "Episode 134 finished. Total reward: 45.0 (45 timesteps)\n",
      "Episode 135 finished. Total reward: 23.0 (23 timesteps)\n",
      "Episode 136 finished. Total reward: 15.0 (15 timesteps)\n",
      "Episode 137 finished. Total reward: 13.0 (13 timesteps)\n",
      "Episode 138 finished. Total reward: 23.0 (23 timesteps)\n",
      "Episode 139 finished. Total reward: 22.0 (22 timesteps)\n",
      "Episode 140 finished. Total reward: 13.0 (13 timesteps)\n",
      "Episode 141 finished. Total reward: 19.0 (19 timesteps)\n",
      "Episode 142 finished. Total reward: 22.0 (22 timesteps)\n",
      "Episode 143 finished. Total reward: 27.0 (27 timesteps)\n",
      "Episode 144 finished. Total reward: 28.0 (28 timesteps)\n",
      "Episode 145 finished. Total reward: 20.0 (20 timesteps)\n",
      "Episode 146 finished. Total reward: 12.0 (12 timesteps)\n",
      "Episode 147 finished. Total reward: 18.0 (18 timesteps)\n",
      "Episode 148 finished. Total reward: 17.0 (17 timesteps)\n",
      "Episode 149 finished. Total reward: 88.0 (88 timesteps)\n",
      "Episode 150 finished. Total reward: 78.0 (78 timesteps)\n",
      "Episode 151 finished. Total reward: 23.0 (23 timesteps)\n",
      "Episode 152 finished. Total reward: 42.0 (42 timesteps)\n",
      "Episode 153 finished. Total reward: 42.0 (42 timesteps)\n",
      "Episode 154 finished. Total reward: 21.0 (21 timesteps)\n",
      "Episode 155 finished. Total reward: 25.0 (25 timesteps)\n",
      "Episode 156 finished. Total reward: 13.0 (13 timesteps)\n",
      "Episode 157 finished. Total reward: 10.0 (10 timesteps)\n",
      "Episode 158 finished. Total reward: 100.0 (100 timesteps)\n",
      "Episode 159 finished. Total reward: 23.0 (23 timesteps)\n",
      "Episode 160 finished. Total reward: 14.0 (14 timesteps)\n",
      "Updating the policy...\n",
      "Updating finished!\n",
      "Episode 161 finished. Total reward: 19.0 (19 timesteps)\n",
      "Episode 162 finished. Total reward: 22.0 (22 timesteps)\n",
      "Episode 163 finished. Total reward: 80.0 (80 timesteps)\n",
      "Episode 164 finished. Total reward: 43.0 (43 timesteps)\n",
      "Episode 165 finished. Total reward: 93.0 (93 timesteps)\n",
      "Episode 166 finished. Total reward: 49.0 (49 timesteps)\n",
      "Episode 167 finished. Total reward: 21.0 (21 timesteps)\n",
      "Episode 168 finished. Total reward: 100.0 (100 timesteps)\n",
      "Episode 169 finished. Total reward: 61.0 (61 timesteps)\n",
      "Episode 170 finished. Total reward: 16.0 (16 timesteps)\n",
      "Episode 171 finished. Total reward: 65.0 (65 timesteps)\n",
      "Episode 172 finished. Total reward: 48.0 (48 timesteps)\n",
      "Episode 173 finished. Total reward: 19.0 (19 timesteps)\n",
      "Episode 174 finished. Total reward: 33.0 (33 timesteps)\n",
      "Episode 175 finished. Total reward: 40.0 (40 timesteps)\n",
      "Episode 176 finished. Total reward: 61.0 (61 timesteps)\n",
      "Episode 177 finished. Total reward: 15.0 (15 timesteps)\n",
      "Episode 178 finished. Total reward: 11.0 (11 timesteps)\n",
      "Episode 179 finished. Total reward: 56.0 (56 timesteps)\n",
      "Episode 180 finished. Total reward: 58.0 (58 timesteps)\n",
      "Episode 181 finished. Total reward: 17.0 (17 timesteps)\n",
      "Episode 182 finished. Total reward: 48.0 (48 timesteps)\n",
      "Episode 183 finished. Total reward: 75.0 (75 timesteps)\n",
      "Episode 184 finished. Total reward: 32.0 (32 timesteps)\n",
      "Episode 185 finished. Total reward: 22.0 (22 timesteps)\n",
      "Episode 186 finished. Total reward: 77.0 (77 timesteps)\n",
      "Episode 187 finished. Total reward: 86.0 (86 timesteps)\n",
      "Episode 188 finished. Total reward: 65.0 (65 timesteps)\n",
      "Episode 189 finished. Total reward: 28.0 (28 timesteps)\n",
      "Episode 190 finished. Total reward: 55.0 (55 timesteps)\n",
      "Episode 191 finished. Total reward: 15.0 (15 timesteps)\n",
      "Episode 192 finished. Total reward: 100.0 (100 timesteps)\n",
      "Episode 193 finished. Total reward: 77.0 (77 timesteps)\n",
      "Episode 194 finished. Total reward: 30.0 (30 timesteps)\n",
      "Episode 195 finished. Total reward: 13.0 (13 timesteps)\n",
      "Episode 196 finished. Total reward: 17.0 (17 timesteps)\n",
      "Episode 197 finished. Total reward: 72.0 (72 timesteps)\n",
      "Episode 198 finished. Total reward: 16.0 (16 timesteps)\n",
      "Episode 199 finished. Total reward: 39.0 (39 timesteps)\n",
      "Episode 200 finished. Total reward: 41.0 (41 timesteps)\n",
      "Episode 201 finished. Total reward: 30.0 (30 timesteps)\n",
      "Episode 202 finished. Total reward: 26.0 (26 timesteps)\n",
      "Episode 203 finished. Total reward: 21.0 (21 timesteps)\n",
      "Episode 204 finished. Total reward: 14.0 (14 timesteps)\n",
      "Updating the policy...\n",
      "Updating finished!\n",
      "Episode 205 finished. Total reward: 86.0 (86 timesteps)\n",
      "Episode 206 finished. Total reward: 100.0 (100 timesteps)\n",
      "Episode 207 finished. Total reward: 100.0 (100 timesteps)\n",
      "Episode 208 finished. Total reward: 22.0 (22 timesteps)\n",
      "Episode 209 finished. Total reward: 24.0 (24 timesteps)\n",
      "Episode 210 finished. Total reward: 100.0 (100 timesteps)\n",
      "Episode 211 finished. Total reward: 100.0 (100 timesteps)\n",
      "Episode 212 finished. Total reward: 27.0 (27 timesteps)\n",
      "Episode 213 finished. Total reward: 20.0 (20 timesteps)\n",
      "Episode 214 finished. Total reward: 30.0 (30 timesteps)\n",
      "Episode 215 finished. Total reward: 78.0 (78 timesteps)\n",
      "Episode 216 finished. Total reward: 29.0 (29 timesteps)\n",
      "Episode 217 finished. Total reward: 64.0 (64 timesteps)\n",
      "Episode 218 finished. Total reward: 56.0 (56 timesteps)\n",
      "Episode 219 finished. Total reward: 100.0 (100 timesteps)\n",
      "Episode 220 finished. Total reward: 89.0 (89 timesteps)\n",
      "Episode 221 finished. Total reward: 100.0 (100 timesteps)\n",
      "Episode 222 finished. Total reward: 76.0 (76 timesteps)\n",
      "Episode 223 finished. Total reward: 56.0 (56 timesteps)\n",
      "Episode 224 finished. Total reward: 74.0 (74 timesteps)\n",
      "Episode 225 finished. Total reward: 85.0 (85 timesteps)\n",
      "Episode 226 finished. Total reward: 12.0 (12 timesteps)\n",
      "Episode 227 finished. Total reward: 100.0 (100 timesteps)\n",
      "Episode 228 finished. Total reward: 20.0 (20 timesteps)\n",
      "Episode 229 finished. Total reward: 100.0 (100 timesteps)\n",
      "Episode 230 finished. Total reward: 100.0 (100 timesteps)\n",
      "Episode 231 finished. Total reward: 43.0 (43 timesteps)\n",
      "Episode 232 finished. Total reward: 85.0 (85 timesteps)\n",
      "Episode 233 finished. Total reward: 83.0 (83 timesteps)\n",
      "Episode 234 finished. Total reward: 100.0 (100 timesteps)\n",
      "Updating the policy...\n",
      "Updating finished!\n",
      "Episode 235 finished. Total reward: 100.0 (100 timesteps)\n",
      "Episode 236 finished. Total reward: 71.0 (71 timesteps)\n",
      "Episode 237 finished. Total reward: 100.0 (100 timesteps)\n",
      "Episode 238 finished. Total reward: 100.0 (100 timesteps)\n",
      "Episode 239 finished. Total reward: 59.0 (59 timesteps)\n",
      "Episode 240 finished. Total reward: 49.0 (49 timesteps)\n",
      "Episode 241 finished. Total reward: 100.0 (100 timesteps)\n",
      "Episode 242 finished. Total reward: 20.0 (20 timesteps)\n",
      "Episode 243 finished. Total reward: 59.0 (59 timesteps)\n",
      "Episode 244 finished. Total reward: 100.0 (100 timesteps)\n",
      "Episode 245 finished. Total reward: 100.0 (100 timesteps)\n",
      "Episode 246 finished. Total reward: 100.0 (100 timesteps)\n",
      "Episode 247 finished. Total reward: 100.0 (100 timesteps)\n",
      "Episode 248 finished. Total reward: 20.0 (20 timesteps)\n",
      "Episode 249 finished. Total reward: 100.0 (100 timesteps)\n",
      "Episode 250 finished. Total reward: 100.0 (100 timesteps)\n",
      "Episode 251 finished. Total reward: 100.0 (100 timesteps)\n",
      "Episode 252 finished. Total reward: 100.0 (100 timesteps)\n",
      "Episode 253 finished. Total reward: 100.0 (100 timesteps)\n",
      "Episode 254 finished. Total reward: 100.0 (100 timesteps)\n",
      "Episode 255 finished. Total reward: 34.0 (34 timesteps)\n",
      "Episode 256 finished. Total reward: 100.0 (100 timesteps)\n",
      "Episode 257 finished. Total reward: 95.0 (95 timesteps)\n",
      "Episode 258 finished. Total reward: 100.0 (100 timesteps)\n",
      "Updating the policy...\n",
      "Updating finished!\n",
      "Episode 259 finished. Total reward: 100.0 (100 timesteps)\n",
      "Episode 260 finished. Total reward: 97.0 (97 timesteps)\n",
      "Episode 261 finished. Total reward: 100.0 (100 timesteps)\n",
      "Episode 262 finished. Total reward: 100.0 (100 timesteps)\n",
      "Episode 263 finished. Total reward: 100.0 (100 timesteps)\n",
      "Episode 264 finished. Total reward: 100.0 (100 timesteps)\n",
      "Episode 265 finished. Total reward: 100.0 (100 timesteps)\n",
      "Episode 266 finished. Total reward: 100.0 (100 timesteps)\n",
      "Episode 267 finished. Total reward: 100.0 (100 timesteps)\n",
      "Episode 268 finished. Total reward: 100.0 (100 timesteps)\n",
      "Episode 269 finished. Total reward: 100.0 (100 timesteps)\n",
      "Episode 270 finished. Total reward: 100.0 (100 timesteps)\n",
      "Episode 271 finished. Total reward: 70.0 (70 timesteps)\n",
      "Episode 272 finished. Total reward: 23.0 (23 timesteps)\n",
      "Episode 273 finished. Total reward: 19.0 (19 timesteps)\n",
      "Episode 274 finished. Total reward: 100.0 (100 timesteps)\n",
      "Episode 275 finished. Total reward: 100.0 (100 timesteps)\n",
      "Episode 276 finished. Total reward: 100.0 (100 timesteps)\n",
      "Episode 277 finished. Total reward: 100.0 (100 timesteps)\n",
      "Episode 278 finished. Total reward: 100.0 (100 timesteps)\n",
      "Episode 279 finished. Total reward: 100.0 (100 timesteps)\n",
      "Episode 280 finished. Total reward: 100.0 (100 timesteps)\n",
      "Updating the policy...\n",
      "Updating finished!\n",
      "Episode 281 finished. Total reward: 100.0 (100 timesteps)\n",
      "Episode 282 finished. Total reward: 100.0 (100 timesteps)\n",
      "Episode 283 finished. Total reward: 100.0 (100 timesteps)\n",
      "Episode 284 finished. Total reward: 100.0 (100 timesteps)\n",
      "Episode 285 finished. Total reward: 100.0 (100 timesteps)\n",
      "Episode 286 finished. Total reward: 100.0 (100 timesteps)\n",
      "Episode 287 finished. Total reward: 100.0 (100 timesteps)\n",
      "Episode 288 finished. Total reward: 100.0 (100 timesteps)\n",
      "Episode 289 finished. Total reward: 77.0 (77 timesteps)\n",
      "Episode 290 finished. Total reward: 100.0 (100 timesteps)\n",
      "Episode 291 finished. Total reward: 94.0 (94 timesteps)\n",
      "Episode 292 finished. Total reward: 45.0 (45 timesteps)\n",
      "Episode 293 finished. Total reward: 100.0 (100 timesteps)\n",
      "Episode 294 finished. Total reward: 75.0 (75 timesteps)\n",
      "Episode 295 finished. Total reward: 83.0 (83 timesteps)\n",
      "Episode 296 finished. Total reward: 100.0 (100 timesteps)\n",
      "Episode 297 finished. Total reward: 100.0 (100 timesteps)\n",
      "Episode 298 finished. Total reward: 100.0 (100 timesteps)\n",
      "Episode 299 finished. Total reward: 100.0 (100 timesteps)\n",
      "Episode 300 finished. Total reward: 100.0 (100 timesteps)\n",
      "Episode 301 finished. Total reward: 100.0 (100 timesteps)\n",
      "Updating the policy...\n",
      "Updating finished!\n",
      "Episode 302 finished. Total reward: 100.0 (100 timesteps)\n",
      "Episode 303 finished. Total reward: 100.0 (100 timesteps)\n",
      "Episode 304 finished. Total reward: 100.0 (100 timesteps)\n",
      "Episode 305 finished. Total reward: 100.0 (100 timesteps)\n",
      "Episode 306 finished. Total reward: 100.0 (100 timesteps)\n",
      "Episode 307 finished. Total reward: 100.0 (100 timesteps)\n",
      "Episode 308 finished. Total reward: 100.0 (100 timesteps)\n",
      "Episode 309 finished. Total reward: 100.0 (100 timesteps)\n",
      "Episode 310 finished. Total reward: 100.0 (100 timesteps)\n",
      "Episode 311 finished. Total reward: 100.0 (100 timesteps)\n",
      "Episode 312 finished. Total reward: 100.0 (100 timesteps)\n",
      "Episode 313 finished. Total reward: 100.0 (100 timesteps)\n",
      "Episode 314 finished. Total reward: 100.0 (100 timesteps)\n",
      "Episode 315 finished. Total reward: 100.0 (100 timesteps)\n",
      "Episode 316 finished. Total reward: 100.0 (100 timesteps)\n",
      "Episode 317 finished. Total reward: 100.0 (100 timesteps)\n",
      "Episode 318 finished. Total reward: 100.0 (100 timesteps)\n",
      "Episode 319 finished. Total reward: 100.0 (100 timesteps)\n",
      "Episode 320 finished. Total reward: 100.0 (100 timesteps)\n",
      "Episode 321 finished. Total reward: 100.0 (100 timesteps)\n",
      "Updating the policy...\n",
      "Updating finished!\n",
      "Episode 322 finished. Total reward: 100.0 (100 timesteps)\n",
      "Episode 323 finished. Total reward: 100.0 (100 timesteps)\n",
      "Episode 324 finished. Total reward: 100.0 (100 timesteps)\n",
      "Episode 325 finished. Total reward: 100.0 (100 timesteps)\n",
      "Episode 326 finished. Total reward: 100.0 (100 timesteps)\n",
      "Episode 327 finished. Total reward: 100.0 (100 timesteps)\n",
      "Episode 328 finished. Total reward: 100.0 (100 timesteps)\n",
      "Episode 329 finished. Total reward: 100.0 (100 timesteps)\n",
      "Episode 330 finished. Total reward: 100.0 (100 timesteps)\n",
      "Episode 331 finished. Total reward: 100.0 (100 timesteps)\n",
      "Episode 332 finished. Total reward: 100.0 (100 timesteps)\n",
      "Episode 333 finished. Total reward: 100.0 (100 timesteps)\n",
      "Episode 334 finished. Total reward: 100.0 (100 timesteps)\n",
      "Episode 335 finished. Total reward: 100.0 (100 timesteps)\n",
      "Episode 336 finished. Total reward: 68.0 (68 timesteps)\n",
      "Episode 337 finished. Total reward: 100.0 (100 timesteps)\n",
      "Episode 338 finished. Total reward: 100.0 (100 timesteps)\n",
      "Episode 339 finished. Total reward: 64.0 (64 timesteps)\n",
      "Episode 340 finished. Total reward: 100.0 (100 timesteps)\n",
      "Episode 341 finished. Total reward: 100.0 (100 timesteps)\n",
      "Episode 342 finished. Total reward: 100.0 (100 timesteps)\n",
      "Updating the policy...\n",
      "Updating finished!\n",
      "Episode 343 finished. Total reward: 100.0 (100 timesteps)\n",
      "Episode 344 finished. Total reward: 100.0 (100 timesteps)\n",
      "Episode 345 finished. Total reward: 21.0 (21 timesteps)\n",
      "Episode 346 finished. Total reward: 100.0 (100 timesteps)\n",
      "Episode 347 finished. Total reward: 100.0 (100 timesteps)\n",
      "Episode 348 finished. Total reward: 100.0 (100 timesteps)\n",
      "Episode 349 finished. Total reward: 100.0 (100 timesteps)\n",
      "Episode 350 finished. Total reward: 100.0 (100 timesteps)\n",
      "Episode 351 finished. Total reward: 100.0 (100 timesteps)\n",
      "Episode 352 finished. Total reward: 52.0 (52 timesteps)\n",
      "Episode 353 finished. Total reward: 98.0 (98 timesteps)\n",
      "Episode 354 finished. Total reward: 100.0 (100 timesteps)\n",
      "Episode 355 finished. Total reward: 100.0 (100 timesteps)\n",
      "Episode 356 finished. Total reward: 100.0 (100 timesteps)\n",
      "Episode 357 finished. Total reward: 100.0 (100 timesteps)\n",
      "Episode 358 finished. Total reward: 100.0 (100 timesteps)\n",
      "Episode 359 finished. Total reward: 90.0 (90 timesteps)\n",
      "Episode 360 finished. Total reward: 100.0 (100 timesteps)\n",
      "Episode 361 finished. Total reward: 100.0 (100 timesteps)\n",
      "Episode 362 finished. Total reward: 100.0 (100 timesteps)\n",
      "Episode 363 finished. Total reward: 100.0 (100 timesteps)\n",
      "Updating the policy...\n",
      "Updating finished!\n",
      "Episode 364 finished. Total reward: 100.0 (100 timesteps)\n",
      "Episode 365 finished. Total reward: 100.0 (100 timesteps)\n",
      "Episode 366 finished. Total reward: 100.0 (100 timesteps)\n",
      "Episode 367 finished. Total reward: 100.0 (100 timesteps)\n",
      "Episode 368 finished. Total reward: 100.0 (100 timesteps)\n",
      "Episode 369 finished. Total reward: 100.0 (100 timesteps)\n",
      "Episode 370 finished. Total reward: 100.0 (100 timesteps)\n",
      "Episode 371 finished. Total reward: 100.0 (100 timesteps)\n",
      "Episode 372 finished. Total reward: 100.0 (100 timesteps)\n",
      "Episode 373 finished. Total reward: 100.0 (100 timesteps)\n",
      "Episode 374 finished. Total reward: 100.0 (100 timesteps)\n",
      "Episode 375 finished. Total reward: 100.0 (100 timesteps)\n",
      "Episode 376 finished. Total reward: 100.0 (100 timesteps)\n",
      "Episode 377 finished. Total reward: 100.0 (100 timesteps)\n",
      "Episode 378 finished. Total reward: 100.0 (100 timesteps)\n",
      "Episode 379 finished. Total reward: 100.0 (100 timesteps)\n",
      "Episode 380 finished. Total reward: 100.0 (100 timesteps)\n",
      "Episode 381 finished. Total reward: 100.0 (100 timesteps)\n",
      "Episode 382 finished. Total reward: 100.0 (100 timesteps)\n",
      "Episode 383 finished. Total reward: 100.0 (100 timesteps)\n",
      "Updating the policy...\n",
      "Updating finished!\n",
      "Episode 384 finished. Total reward: 100.0 (100 timesteps)\n",
      "Episode 385 finished. Total reward: 100.0 (100 timesteps)\n",
      "Episode 386 finished. Total reward: 55.0 (55 timesteps)\n",
      "Episode 387 finished. Total reward: 79.0 (79 timesteps)\n",
      "Episode 388 finished. Total reward: 100.0 (100 timesteps)\n",
      "Episode 389 finished. Total reward: 46.0 (46 timesteps)\n",
      "Episode 390 finished. Total reward: 27.0 (27 timesteps)\n",
      "Episode 391 finished. Total reward: 100.0 (100 timesteps)\n",
      "Episode 392 finished. Total reward: 32.0 (32 timesteps)\n",
      "Episode 393 finished. Total reward: 100.0 (100 timesteps)\n",
      "Episode 394 finished. Total reward: 100.0 (100 timesteps)\n",
      "Episode 395 finished. Total reward: 23.0 (23 timesteps)\n",
      "Episode 396 finished. Total reward: 92.0 (92 timesteps)\n",
      "Episode 397 finished. Total reward: 100.0 (100 timesteps)\n",
      "Episode 398 finished. Total reward: 100.0 (100 timesteps)\n",
      "Episode 399 finished. Total reward: 100.0 (100 timesteps)\n",
      "Episode 400 finished. Total reward: 100.0 (100 timesteps)\n",
      "Episode 401 finished. Total reward: 100.0 (100 timesteps)\n",
      "Episode 402 finished. Total reward: 100.0 (100 timesteps)\n",
      "Episode 403 finished. Total reward: 97.0 (97 timesteps)\n",
      "Episode 404 finished. Total reward: 100.0 (100 timesteps)\n",
      "Episode 405 finished. Total reward: 38.0 (38 timesteps)\n",
      "Episode 406 finished. Total reward: 59.0 (59 timesteps)\n",
      "Episode 407 finished. Total reward: 100.0 (100 timesteps)\n",
      "Updating the policy...\n",
      "Updating finished!\n",
      "Episode 408 finished. Total reward: 100.0 (100 timesteps)\n",
      "Episode 409 finished. Total reward: 100.0 (100 timesteps)\n",
      "Episode 410 finished. Total reward: 100.0 (100 timesteps)\n",
      "Episode 411 finished. Total reward: 100.0 (100 timesteps)\n",
      "Episode 412 finished. Total reward: 100.0 (100 timesteps)\n",
      "Episode 413 finished. Total reward: 100.0 (100 timesteps)\n",
      "Episode 414 finished. Total reward: 100.0 (100 timesteps)\n",
      "Episode 415 finished. Total reward: 100.0 (100 timesteps)\n",
      "Episode 416 finished. Total reward: 100.0 (100 timesteps)\n",
      "Episode 417 finished. Total reward: 100.0 (100 timesteps)\n",
      "Episode 418 finished. Total reward: 100.0 (100 timesteps)\n",
      "Episode 419 finished. Total reward: 100.0 (100 timesteps)\n",
      "Episode 420 finished. Total reward: 100.0 (100 timesteps)\n",
      "Episode 421 finished. Total reward: 100.0 (100 timesteps)\n",
      "Episode 422 finished. Total reward: 94.0 (94 timesteps)\n",
      "Episode 423 finished. Total reward: 100.0 (100 timesteps)\n",
      "Episode 424 finished. Total reward: 100.0 (100 timesteps)\n",
      "Episode 425 finished. Total reward: 100.0 (100 timesteps)\n",
      "Episode 426 finished. Total reward: 83.0 (83 timesteps)\n",
      "Episode 427 finished. Total reward: 100.0 (100 timesteps)\n",
      "Episode 428 finished. Total reward: 100.0 (100 timesteps)\n",
      "Updating the policy...\n",
      "Updating finished!\n",
      "Episode 429 finished. Total reward: 100.0 (100 timesteps)\n",
      "Episode 430 finished. Total reward: 100.0 (100 timesteps)\n",
      "Episode 431 finished. Total reward: 100.0 (100 timesteps)\n",
      "Episode 432 finished. Total reward: 100.0 (100 timesteps)\n",
      "Episode 433 finished. Total reward: 100.0 (100 timesteps)\n",
      "Episode 434 finished. Total reward: 100.0 (100 timesteps)\n",
      "Episode 435 finished. Total reward: 100.0 (100 timesteps)\n",
      "Episode 436 finished. Total reward: 100.0 (100 timesteps)\n",
      "Episode 437 finished. Total reward: 100.0 (100 timesteps)\n",
      "Episode 438 finished. Total reward: 100.0 (100 timesteps)\n",
      "Episode 439 finished. Total reward: 100.0 (100 timesteps)\n",
      "Episode 440 finished. Total reward: 100.0 (100 timesteps)\n",
      "Episode 441 finished. Total reward: 100.0 (100 timesteps)\n",
      "Episode 442 finished. Total reward: 100.0 (100 timesteps)\n",
      "Episode 443 finished. Total reward: 100.0 (100 timesteps)\n",
      "Episode 444 finished. Total reward: 100.0 (100 timesteps)\n",
      "Episode 445 finished. Total reward: 100.0 (100 timesteps)\n",
      "Episode 446 finished. Total reward: 100.0 (100 timesteps)\n",
      "Episode 447 finished. Total reward: 100.0 (100 timesteps)\n",
      "Episode 448 finished. Total reward: 100.0 (100 timesteps)\n",
      "Updating the policy...\n",
      "Updating finished!\n",
      "Episode 449 finished. Total reward: 100.0 (100 timesteps)\n",
      "Episode 450 finished. Total reward: 24.0 (24 timesteps)\n",
      "Episode 451 finished. Total reward: 100.0 (100 timesteps)\n",
      "Episode 452 finished. Total reward: 100.0 (100 timesteps)\n",
      "Episode 453 finished. Total reward: 26.0 (26 timesteps)\n",
      "Episode 454 finished. Total reward: 100.0 (100 timesteps)\n",
      "Episode 455 finished. Total reward: 100.0 (100 timesteps)\n",
      "Episode 456 finished. Total reward: 48.0 (48 timesteps)\n",
      "Episode 457 finished. Total reward: 22.0 (22 timesteps)\n",
      "Episode 458 finished. Total reward: 100.0 (100 timesteps)\n",
      "Episode 459 finished. Total reward: 100.0 (100 timesteps)\n",
      "Episode 460 finished. Total reward: 30.0 (30 timesteps)\n",
      "Episode 461 finished. Total reward: 100.0 (100 timesteps)\n",
      "Episode 462 finished. Total reward: 23.0 (23 timesteps)\n",
      "Episode 463 finished. Total reward: 100.0 (100 timesteps)\n",
      "Episode 464 finished. Total reward: 100.0 (100 timesteps)\n",
      "Episode 465 finished. Total reward: 100.0 (100 timesteps)\n",
      "Episode 466 finished. Total reward: 96.0 (96 timesteps)\n",
      "Episode 467 finished. Total reward: 100.0 (100 timesteps)\n",
      "Episode 468 finished. Total reward: 100.0 (100 timesteps)\n",
      "Episode 469 finished. Total reward: 100.0 (100 timesteps)\n",
      "Episode 470 finished. Total reward: 100.0 (100 timesteps)\n",
      "Episode 471 finished. Total reward: 100.0 (100 timesteps)\n",
      "Episode 472 finished. Total reward: 100.0 (100 timesteps)\n",
      "Episode 473 finished. Total reward: 37.0 (37 timesteps)\n",
      "Updating the policy...\n",
      "Updating finished!\n",
      "Episode 474 finished. Total reward: 100.0 (100 timesteps)\n",
      "Episode 475 finished. Total reward: 100.0 (100 timesteps)\n",
      "Episode 476 finished. Total reward: 100.0 (100 timesteps)\n",
      "Episode 477 finished. Total reward: 100.0 (100 timesteps)\n",
      "Episode 478 finished. Total reward: 100.0 (100 timesteps)\n",
      "Episode 479 finished. Total reward: 100.0 (100 timesteps)\n",
      "Episode 480 finished. Total reward: 33.0 (33 timesteps)\n",
      "Episode 481 finished. Total reward: 100.0 (100 timesteps)\n",
      "Episode 482 finished. Total reward: 100.0 (100 timesteps)\n",
      "Episode 483 finished. Total reward: 100.0 (100 timesteps)\n",
      "Episode 484 finished. Total reward: 100.0 (100 timesteps)\n",
      "Episode 485 finished. Total reward: 100.0 (100 timesteps)\n",
      "Episode 486 finished. Total reward: 23.0 (23 timesteps)\n",
      "Episode 487 finished. Total reward: 100.0 (100 timesteps)\n",
      "Episode 488 finished. Total reward: 100.0 (100 timesteps)\n",
      "Episode 489 finished. Total reward: 100.0 (100 timesteps)\n",
      "Episode 490 finished. Total reward: 100.0 (100 timesteps)\n",
      "Episode 491 finished. Total reward: 100.0 (100 timesteps)\n",
      "Episode 492 finished. Total reward: 100.0 (100 timesteps)\n",
      "Episode 493 finished. Total reward: 100.0 (100 timesteps)\n",
      "Episode 494 finished. Total reward: 100.0 (100 timesteps)\n",
      "Episode 495 finished. Total reward: 46.0 (46 timesteps)\n",
      "Updating the policy...\n",
      "Updating finished!\n",
      "Episode 496 finished. Total reward: 100.0 (100 timesteps)\n",
      "Episode 497 finished. Total reward: 100.0 (100 timesteps)\n",
      "Episode 498 finished. Total reward: 100.0 (100 timesteps)\n",
      "Episode 499 finished. Total reward: 100.0 (100 timesteps)\n",
      "Episode 500 finished. Total reward: 100.0 (100 timesteps)\n",
      "Model saved to /notebooks/rl2023/ex1/results/model/CartPole-v1_params.pt\n",
      "------Training finished.------\n",
      "Numpy/Torch/Random Seed:  367\n",
      "Loading model from /notebooks/rl2023/ex1/results/model/CartPole-v1_params.pt ...\n",
      "Testing...\n",
      "Test ep reward: 134.0 seed: 431\n",
      "Test ep reward: 131.0 seed: 752\n",
      "Test ep reward: 130.0 seed: 445\n",
      "Test ep reward: 149.0 seed: 156\n",
      "Test ep reward: 134.0 seed: 193\n",
      "Test ep reward: 126.0 seed: 747\n",
      "Test ep reward: 126.0 seed: 999\n",
      "Test ep reward: 135.0 seed: 6\n",
      "Test ep reward: 127.0 seed: 255\n",
      "Test ep reward: 123.0 seed: 708\n",
      "Average test reward: 131.5 episode length: 131.5\n",
      "Numpy/Torch/Random Seed:  66\n"
     ]
    },
    {
     "data": {
      "text/html": [
       "Changes to your `wandb` environment variables will be ignored because your `wandb` session has already started. For more information on how to modify your settings with `wandb.init()` arguments, please refer to <a href='https://wandb.me/wandb-init' target=\"_blank\">the W&B docs</a>."
      ],
      "text/plain": [
       "<IPython.core.display.HTML object>"
      ]
     },
     "metadata": {},
     "output_type": "display_data"
    },
    {
     "data": {
      "text/html": [
       "Finishing last run (ID:vkkhv3x2) before initializing another..."
      ],
      "text/plain": [
       "<IPython.core.display.HTML object>"
      ]
     },
     "metadata": {},
     "output_type": "display_data"
    },
    {
     "data": {
      "text/html": [
       "Waiting for W&B process to finish... <strong style=\"color:green\">(success).</strong>"
      ],
      "text/plain": [
       "<IPython.core.display.HTML object>"
      ]
     },
     "metadata": {},
     "output_type": "display_data"
    },
    {
     "data": {
      "application/vnd.jupyter.widget-view+json": {
       "model_id": "a156d77404634a41bbcffdbf6484ca67",
       "version_major": 2,
       "version_minor": 0
      },
      "text/plain": [
       "VBox(children=(Label(value='0.002 MB of 0.002 MB uploaded (0.000 MB deduped)\\r'), FloatProgress(value=1.0, max…"
      ]
     },
     "metadata": {},
     "output_type": "display_data"
    },
    {
     "data": {
      "text/html": [
       "<style>\n",
       "    table.wandb td:nth-child(1) { padding: 0 10px; text-align: left ; width: auto;} td:nth-child(2) {text-align: left ; width: 100%}\n",
       "    .wandb-row { display: flex; flex-direction: row; flex-wrap: wrap; justify-content: flex-start; width: 100% }\n",
       "    .wandb-col { display: flex; flex-direction: column; flex-basis: 100%; flex: 1; padding: 10px; }\n",
       "    </style>\n",
       "<div class=\"wandb-row\"><div class=\"wandb-col\"><h3>Run history:</h3><br/><table class=\"wandb\"><tr><td>ep_reward</td><td>▁▁▂▁▁▁▃▂▃▁▄▂▂▂▅▁▂█▄▅▃██▇████▇██▂███████▄</td></tr><tr><td>episodes</td><td>▁▁▁▂▂▂▂▂▂▃▃▃▃▃▄▄▄▄▄▄▅▅▅▅▅▅▆▆▆▆▆▇▇▇▇▇▇███</td></tr><tr><td>num_updates</td><td>▁▁▁▁▁▁▁▁▁▁▁▁▁▁▁▁▁▁▁▁▁▁▁▁▁▁▁█▁▁▁▁▁▁▁▁▁▁▁▁</td></tr><tr><td>timesteps</td><td>▁▁▂▁▁▁▃▂▃▁▄▂▂▂▅▁▂█▄▅▃██▇████▇██▂███████▄</td></tr></table><br/></div><div class=\"wandb-col\"><h3>Run summary:</h3><br/><table class=\"wandb\"><tr><td>ep_reward</td><td>100.0</td></tr><tr><td>episodes</td><td>500</td></tr><tr><td>num_updates</td><td>0</td></tr><tr><td>timesteps</td><td>100</td></tr></table><br/></div></div>"
      ],
      "text/plain": [
       "<IPython.core.display.HTML object>"
      ]
     },
     "metadata": {},
     "output_type": "display_data"
    },
    {
     "data": {
      "text/html": [
       " View run <strong style=\"color:#cdcd00\">ex1-CartPole-v1-9-1694671138</strong> at: <a href='https://wandb.ai/r-l/rl_aalto/runs/vkkhv3x2' target=\"_blank\">https://wandb.ai/r-l/rl_aalto/runs/vkkhv3x2</a><br/>Synced 6 W&B file(s), 0 media file(s), 0 artifact file(s) and 0 other file(s)"
      ],
      "text/plain": [
       "<IPython.core.display.HTML object>"
      ]
     },
     "metadata": {},
     "output_type": "display_data"
    },
    {
     "data": {
      "text/html": [
       "Find logs at: <code>./wandb/run-20230914_085858-vkkhv3x2/logs</code>"
      ],
      "text/plain": [
       "<IPython.core.display.HTML object>"
      ]
     },
     "metadata": {},
     "output_type": "display_data"
    },
    {
     "data": {
      "text/html": [
       "Successfully finished last run (ID:vkkhv3x2). Initializing new run:<br/>"
      ],
      "text/plain": [
       "<IPython.core.display.HTML object>"
      ]
     },
     "metadata": {},
     "output_type": "display_data"
    },
    {
     "data": {
      "application/vnd.jupyter.widget-view+json": {
       "model_id": "821685129a1a499791d94aedc5854dc6",
       "version_major": 2,
       "version_minor": 0
      },
      "text/plain": [
       "VBox(children=(Label(value='Waiting for wandb.init()...\\r'), FloatProgress(value=0.016669726154456537, max=1.0…"
      ]
     },
     "metadata": {},
     "output_type": "display_data"
    },
    {
     "data": {
      "text/html": [
       "wandb version 0.15.10 is available!  To upgrade, please run:\n",
       " $ pip install wandb --upgrade"
      ],
      "text/plain": [
       "<IPython.core.display.HTML object>"
      ]
     },
     "metadata": {},
     "output_type": "display_data"
    },
    {
     "data": {
      "text/html": [
       "Tracking run with wandb version 0.15.9"
      ],
      "text/plain": [
       "<IPython.core.display.HTML object>"
      ]
     },
     "metadata": {},
     "output_type": "display_data"
    },
    {
     "data": {
      "text/html": [
       "Run data is saved locally in <code>/notebooks/rl2023/ex1/wandb/run-20230914_090252-98myc4kd</code>"
      ],
      "text/plain": [
       "<IPython.core.display.HTML object>"
      ]
     },
     "metadata": {},
     "output_type": "display_data"
    },
    {
     "data": {
      "text/html": [
       "Syncing run <strong><a href='https://wandb.ai/r-l/rl_aalto/runs/98myc4kd' target=\"_blank\">ex1-CartPole-v1-66-1694671372</a></strong> to <a href='https://wandb.ai/r-l/rl_aalto' target=\"_blank\">Weights & Biases</a> (<a href='https://wandb.me/run' target=\"_blank\">docs</a>)<br/>"
      ],
      "text/plain": [
       "<IPython.core.display.HTML object>"
      ]
     },
     "metadata": {},
     "output_type": "display_data"
    },
    {
     "data": {
      "text/html": [
       " View project at <a href='https://wandb.ai/r-l/rl_aalto' target=\"_blank\">https://wandb.ai/r-l/rl_aalto</a>"
      ],
      "text/plain": [
       "<IPython.core.display.HTML object>"
      ]
     },
     "metadata": {},
     "output_type": "display_data"
    },
    {
     "data": {
      "text/html": [
       " View run at <a href='https://wandb.ai/r-l/rl_aalto/runs/98myc4kd' target=\"_blank\">https://wandb.ai/r-l/rl_aalto/runs/98myc4kd</a>"
      ],
      "text/plain": [
       "<IPython.core.display.HTML object>"
      ]
     },
     "metadata": {},
     "output_type": "display_data"
    },
    {
     "name": "stdout",
     "output_type": "stream",
     "text": [
      "Configuration Settings: {'exp_name': 'ex1', 'seed': 66, 'env_name': 'CartPole-v1', 'max_episode_steps': 100, 'train_episodes': 500, 'batch_size': 64, 'min_update_samples': 2000, 'testing': False, 'model_path': 'default', 'save_video': True, 'save_model': True, 'save_logging': True, 'silent': False, 'use_wandb': True, 'run_suffix': 0}\n",
      "Training device: cpu\n",
      "Observation space dimensions: 4\n",
      "Action space dimensions: 2\n",
      "\n",
      "Episode 0 finished. Total reward: 13.0 (13 timesteps)\n",
      "Episode 1 finished. Total reward: 18.0 (18 timesteps)\n",
      "Episode 2 finished. Total reward: 18.0 (18 timesteps)\n",
      "Episode 3 finished. Total reward: 32.0 (32 timesteps)\n",
      "Episode 4 finished. Total reward: 16.0 (16 timesteps)\n",
      "Episode 5 finished. Total reward: 10.0 (10 timesteps)\n",
      "Episode 6 finished. Total reward: 9.0 (9 timesteps)\n",
      "Episode 7 finished. Total reward: 17.0 (17 timesteps)\n",
      "Episode 8 finished. Total reward: 14.0 (14 timesteps)\n",
      "Episode 9 finished. Total reward: 20.0 (20 timesteps)\n",
      "Episode 10 finished. Total reward: 12.0 (12 timesteps)\n",
      "Episode 11 finished. Total reward: 15.0 (15 timesteps)\n",
      "Episode 12 finished. Total reward: 26.0 (26 timesteps)\n",
      "Episode 13 finished. Total reward: 9.0 (9 timesteps)\n",
      "Episode 14 finished. Total reward: 27.0 (27 timesteps)\n",
      "Episode 15 finished. Total reward: 14.0 (14 timesteps)\n",
      "Episode 16 finished. Total reward: 29.0 (29 timesteps)\n",
      "Episode 17 finished. Total reward: 18.0 (18 timesteps)\n",
      "Episode 18 finished. Total reward: 38.0 (38 timesteps)\n",
      "Episode 19 finished. Total reward: 49.0 (49 timesteps)\n",
      "Episode 20 finished. Total reward: 17.0 (17 timesteps)\n",
      "Episode 21 finished. Total reward: 67.0 (67 timesteps)\n",
      "Episode 22 finished. Total reward: 16.0 (16 timesteps)\n",
      "Episode 23 finished. Total reward: 20.0 (20 timesteps)\n",
      "Episode 24 finished. Total reward: 12.0 (12 timesteps)\n",
      "Episode 25 finished. Total reward: 18.0 (18 timesteps)\n",
      "Episode 26 finished. Total reward: 31.0 (31 timesteps)\n",
      "Episode 27 finished. Total reward: 14.0 (14 timesteps)\n",
      "Episode 28 finished. Total reward: 9.0 (9 timesteps)\n",
      "Episode 29 finished. Total reward: 16.0 (16 timesteps)\n",
      "Episode 30 finished. Total reward: 42.0 (42 timesteps)\n",
      "Episode 31 finished. Total reward: 9.0 (9 timesteps)\n",
      "Episode 32 finished. Total reward: 17.0 (17 timesteps)\n",
      "Episode 33 finished. Total reward: 27.0 (27 timesteps)\n",
      "Episode 34 finished. Total reward: 17.0 (17 timesteps)\n",
      "Episode 35 finished. Total reward: 10.0 (10 timesteps)\n",
      "Episode 36 finished. Total reward: 26.0 (26 timesteps)\n",
      "Episode 37 finished. Total reward: 14.0 (14 timesteps)\n",
      "Episode 38 finished. Total reward: 30.0 (30 timesteps)\n",
      "Episode 39 finished. Total reward: 37.0 (37 timesteps)\n",
      "Episode 40 finished. Total reward: 24.0 (24 timesteps)\n",
      "Episode 41 finished. Total reward: 24.0 (24 timesteps)\n",
      "Episode 42 finished. Total reward: 18.0 (18 timesteps)\n",
      "Episode 43 finished. Total reward: 13.0 (13 timesteps)\n",
      "Episode 44 finished. Total reward: 17.0 (17 timesteps)\n",
      "Episode 45 finished. Total reward: 14.0 (14 timesteps)\n",
      "Episode 46 finished. Total reward: 23.0 (23 timesteps)\n",
      "Episode 47 finished. Total reward: 34.0 (34 timesteps)\n",
      "Episode 48 finished. Total reward: 49.0 (49 timesteps)\n",
      "Episode 49 finished. Total reward: 21.0 (21 timesteps)\n",
      "Episode 50 finished. Total reward: 15.0 (15 timesteps)\n",
      "Episode 51 finished. Total reward: 17.0 (17 timesteps)\n",
      "Episode 52 finished. Total reward: 23.0 (23 timesteps)\n",
      "Episode 53 finished. Total reward: 29.0 (29 timesteps)\n",
      "Episode 54 finished. Total reward: 25.0 (25 timesteps)\n",
      "Episode 55 finished. Total reward: 11.0 (11 timesteps)\n",
      "Episode 56 finished. Total reward: 12.0 (12 timesteps)\n",
      "Episode 57 finished. Total reward: 26.0 (26 timesteps)\n",
      "Episode 58 finished. Total reward: 9.0 (9 timesteps)\n",
      "Episode 59 finished. Total reward: 10.0 (10 timesteps)\n",
      "Episode 60 finished. Total reward: 27.0 (27 timesteps)\n",
      "Episode 61 finished. Total reward: 36.0 (36 timesteps)\n",
      "Episode 62 finished. Total reward: 17.0 (17 timesteps)\n",
      "Episode 63 finished. Total reward: 19.0 (19 timesteps)\n",
      "Episode 64 finished. Total reward: 24.0 (24 timesteps)\n",
      "Episode 65 finished. Total reward: 16.0 (16 timesteps)\n",
      "Episode 66 finished. Total reward: 32.0 (32 timesteps)\n",
      "Episode 67 finished. Total reward: 16.0 (16 timesteps)\n",
      "Episode 68 finished. Total reward: 16.0 (16 timesteps)\n",
      "Episode 69 finished. Total reward: 14.0 (14 timesteps)\n",
      "Episode 70 finished. Total reward: 17.0 (17 timesteps)\n",
      "Episode 71 finished. Total reward: 13.0 (13 timesteps)\n",
      "Episode 72 finished. Total reward: 32.0 (32 timesteps)\n",
      "Episode 73 finished. Total reward: 16.0 (16 timesteps)\n",
      "Episode 74 finished. Total reward: 18.0 (18 timesteps)\n",
      "Episode 75 finished. Total reward: 25.0 (25 timesteps)\n",
      "Episode 76 finished. Total reward: 26.0 (26 timesteps)\n",
      "Episode 77 finished. Total reward: 21.0 (21 timesteps)\n",
      "Episode 78 finished. Total reward: 19.0 (19 timesteps)\n",
      "Episode 79 finished. Total reward: 18.0 (18 timesteps)\n",
      "Episode 80 finished. Total reward: 11.0 (11 timesteps)\n",
      "Episode 81 finished. Total reward: 28.0 (28 timesteps)\n",
      "Episode 82 finished. Total reward: 15.0 (15 timesteps)\n",
      "Episode 83 finished. Total reward: 38.0 (38 timesteps)\n",
      "Episode 84 finished. Total reward: 13.0 (13 timesteps)\n",
      "Episode 85 finished. Total reward: 20.0 (20 timesteps)\n",
      "Episode 86 finished. Total reward: 26.0 (26 timesteps)\n",
      "Episode 87 finished. Total reward: 22.0 (22 timesteps)\n",
      "Episode 88 finished. Total reward: 22.0 (22 timesteps)\n",
      "Episode 89 finished. Total reward: 16.0 (16 timesteps)\n",
      "Episode 90 finished. Total reward: 23.0 (23 timesteps)\n",
      "Episode 91 finished. Total reward: 22.0 (22 timesteps)\n",
      "Episode 92 finished. Total reward: 15.0 (15 timesteps)\n",
      "Episode 93 finished. Total reward: 13.0 (13 timesteps)\n",
      "Updating the policy...\n",
      "Updating finished!\n",
      "Episode 94 finished. Total reward: 28.0 (28 timesteps)\n",
      "Episode 95 finished. Total reward: 17.0 (17 timesteps)\n",
      "Episode 96 finished. Total reward: 32.0 (32 timesteps)\n",
      "Episode 97 finished. Total reward: 19.0 (19 timesteps)\n",
      "Episode 98 finished. Total reward: 13.0 (13 timesteps)\n",
      "Episode 99 finished. Total reward: 16.0 (16 timesteps)\n",
      "Episode 100 finished. Total reward: 25.0 (25 timesteps)\n",
      "Episode 101 finished. Total reward: 29.0 (29 timesteps)\n",
      "Episode 102 finished. Total reward: 22.0 (22 timesteps)\n",
      "Episode 103 finished. Total reward: 12.0 (12 timesteps)\n",
      "Episode 104 finished. Total reward: 23.0 (23 timesteps)\n",
      "Episode 105 finished. Total reward: 24.0 (24 timesteps)\n",
      "Episode 106 finished. Total reward: 50.0 (50 timesteps)\n",
      "Episode 107 finished. Total reward: 52.0 (52 timesteps)\n",
      "Episode 108 finished. Total reward: 19.0 (19 timesteps)\n",
      "Episode 109 finished. Total reward: 12.0 (12 timesteps)\n",
      "Episode 110 finished. Total reward: 27.0 (27 timesteps)\n",
      "Episode 111 finished. Total reward: 18.0 (18 timesteps)\n",
      "Episode 112 finished. Total reward: 28.0 (28 timesteps)\n",
      "Episode 113 finished. Total reward: 77.0 (77 timesteps)\n",
      "Episode 114 finished. Total reward: 20.0 (20 timesteps)\n",
      "Episode 115 finished. Total reward: 32.0 (32 timesteps)\n",
      "Episode 116 finished. Total reward: 20.0 (20 timesteps)\n",
      "Episode 117 finished. Total reward: 21.0 (21 timesteps)\n",
      "Episode 118 finished. Total reward: 14.0 (14 timesteps)\n",
      "Episode 119 finished. Total reward: 33.0 (33 timesteps)\n",
      "Episode 120 finished. Total reward: 31.0 (31 timesteps)\n",
      "Episode 121 finished. Total reward: 19.0 (19 timesteps)\n",
      "Episode 122 finished. Total reward: 28.0 (28 timesteps)\n",
      "Episode 123 finished. Total reward: 26.0 (26 timesteps)\n",
      "Episode 124 finished. Total reward: 82.0 (82 timesteps)\n",
      "Episode 125 finished. Total reward: 25.0 (25 timesteps)\n",
      "Episode 126 finished. Total reward: 30.0 (30 timesteps)\n",
      "Episode 127 finished. Total reward: 19.0 (19 timesteps)\n",
      "Episode 128 finished. Total reward: 12.0 (12 timesteps)\n",
      "Episode 129 finished. Total reward: 47.0 (47 timesteps)\n",
      "Episode 130 finished. Total reward: 39.0 (39 timesteps)\n",
      "Episode 131 finished. Total reward: 19.0 (19 timesteps)\n",
      "Episode 132 finished. Total reward: 20.0 (20 timesteps)\n",
      "Episode 133 finished. Total reward: 37.0 (37 timesteps)\n",
      "Episode 134 finished. Total reward: 46.0 (46 timesteps)\n",
      "Episode 135 finished. Total reward: 52.0 (52 timesteps)\n",
      "Episode 136 finished. Total reward: 12.0 (12 timesteps)\n",
      "Episode 137 finished. Total reward: 17.0 (17 timesteps)\n",
      "Episode 138 finished. Total reward: 15.0 (15 timesteps)\n",
      "Episode 139 finished. Total reward: 25.0 (25 timesteps)\n",
      "Episode 140 finished. Total reward: 11.0 (11 timesteps)\n",
      "Episode 141 finished. Total reward: 18.0 (18 timesteps)\n",
      "Episode 142 finished. Total reward: 10.0 (10 timesteps)\n",
      "Episode 143 finished. Total reward: 13.0 (13 timesteps)\n",
      "Episode 144 finished. Total reward: 45.0 (45 timesteps)\n",
      "Episode 145 finished. Total reward: 41.0 (41 timesteps)\n",
      "Episode 146 finished. Total reward: 18.0 (18 timesteps)\n",
      "Episode 147 finished. Total reward: 10.0 (10 timesteps)\n",
      "Episode 148 finished. Total reward: 16.0 (16 timesteps)\n",
      "Episode 149 finished. Total reward: 75.0 (75 timesteps)\n",
      "Episode 150 finished. Total reward: 49.0 (49 timesteps)\n",
      "Episode 151 finished. Total reward: 39.0 (39 timesteps)\n",
      "Episode 152 finished. Total reward: 16.0 (16 timesteps)\n",
      "Episode 153 finished. Total reward: 16.0 (16 timesteps)\n",
      "Episode 154 finished. Total reward: 19.0 (19 timesteps)\n",
      "Episode 155 finished. Total reward: 45.0 (45 timesteps)\n",
      "Episode 156 finished. Total reward: 17.0 (17 timesteps)\n",
      "Episode 157 finished. Total reward: 19.0 (19 timesteps)\n",
      "Episode 158 finished. Total reward: 20.0 (20 timesteps)\n",
      "Episode 159 finished. Total reward: 23.0 (23 timesteps)\n",
      "Episode 160 finished. Total reward: 32.0 (32 timesteps)\n",
      "Episode 161 finished. Total reward: 11.0 (11 timesteps)\n",
      "Episode 162 finished. Total reward: 44.0 (44 timesteps)\n",
      "Episode 163 finished. Total reward: 14.0 (14 timesteps)\n",
      "Episode 164 finished. Total reward: 17.0 (17 timesteps)\n",
      "Episode 165 finished. Total reward: 12.0 (12 timesteps)\n",
      "Episode 166 finished. Total reward: 15.0 (15 timesteps)\n",
      "Episode 167 finished. Total reward: 25.0 (25 timesteps)\n",
      "Episode 168 finished. Total reward: 18.0 (18 timesteps)\n",
      "Episode 169 finished. Total reward: 22.0 (22 timesteps)\n",
      "Updating the policy...\n",
      "Updating finished!\n",
      "Episode 170 finished. Total reward: 19.0 (19 timesteps)\n",
      "Episode 171 finished. Total reward: 25.0 (25 timesteps)\n",
      "Episode 172 finished. Total reward: 15.0 (15 timesteps)\n",
      "Episode 173 finished. Total reward: 23.0 (23 timesteps)\n",
      "Episode 174 finished. Total reward: 80.0 (80 timesteps)\n",
      "Episode 175 finished. Total reward: 33.0 (33 timesteps)\n",
      "Episode 176 finished. Total reward: 53.0 (53 timesteps)\n",
      "Episode 177 finished. Total reward: 16.0 (16 timesteps)\n",
      "Episode 178 finished. Total reward: 15.0 (15 timesteps)\n",
      "Episode 179 finished. Total reward: 44.0 (44 timesteps)\n",
      "Episode 180 finished. Total reward: 56.0 (56 timesteps)\n",
      "Episode 181 finished. Total reward: 20.0 (20 timesteps)\n",
      "Episode 182 finished. Total reward: 37.0 (37 timesteps)\n",
      "Episode 183 finished. Total reward: 51.0 (51 timesteps)\n",
      "Episode 184 finished. Total reward: 14.0 (14 timesteps)\n",
      "Episode 185 finished. Total reward: 29.0 (29 timesteps)\n",
      "Episode 186 finished. Total reward: 28.0 (28 timesteps)\n",
      "Episode 187 finished. Total reward: 56.0 (56 timesteps)\n",
      "Episode 188 finished. Total reward: 44.0 (44 timesteps)\n",
      "Episode 189 finished. Total reward: 17.0 (17 timesteps)\n",
      "Episode 190 finished. Total reward: 42.0 (42 timesteps)\n",
      "Episode 191 finished. Total reward: 18.0 (18 timesteps)\n",
      "Episode 192 finished. Total reward: 52.0 (52 timesteps)\n",
      "Episode 193 finished. Total reward: 46.0 (46 timesteps)\n",
      "Episode 194 finished. Total reward: 25.0 (25 timesteps)\n",
      "Episode 195 finished. Total reward: 11.0 (11 timesteps)\n",
      "Episode 196 finished. Total reward: 41.0 (41 timesteps)\n",
      "Episode 197 finished. Total reward: 51.0 (51 timesteps)\n",
      "Episode 198 finished. Total reward: 16.0 (16 timesteps)\n",
      "Episode 199 finished. Total reward: 61.0 (61 timesteps)\n",
      "Episode 200 finished. Total reward: 29.0 (29 timesteps)\n",
      "Episode 201 finished. Total reward: 44.0 (44 timesteps)\n",
      "Episode 202 finished. Total reward: 70.0 (70 timesteps)\n",
      "Episode 203 finished. Total reward: 39.0 (39 timesteps)\n",
      "Episode 204 finished. Total reward: 42.0 (42 timesteps)\n",
      "Episode 205 finished. Total reward: 10.0 (10 timesteps)\n",
      "Episode 206 finished. Total reward: 41.0 (41 timesteps)\n",
      "Episode 207 finished. Total reward: 34.0 (34 timesteps)\n",
      "Episode 208 finished. Total reward: 41.0 (41 timesteps)\n",
      "Episode 209 finished. Total reward: 42.0 (42 timesteps)\n",
      "Episode 210 finished. Total reward: 45.0 (45 timesteps)\n",
      "Episode 211 finished. Total reward: 21.0 (21 timesteps)\n",
      "Episode 212 finished. Total reward: 11.0 (11 timesteps)\n",
      "Episode 213 finished. Total reward: 14.0 (14 timesteps)\n",
      "Episode 214 finished. Total reward: 38.0 (38 timesteps)\n",
      "Episode 215 finished. Total reward: 29.0 (29 timesteps)\n",
      "Episode 216 finished. Total reward: 47.0 (47 timesteps)\n",
      "Episode 217 finished. Total reward: 45.0 (45 timesteps)\n",
      "Episode 218 finished. Total reward: 48.0 (48 timesteps)\n",
      "Episode 219 finished. Total reward: 80.0 (80 timesteps)\n",
      "Episode 220 finished. Total reward: 15.0 (15 timesteps)\n",
      "Episode 221 finished. Total reward: 22.0 (22 timesteps)\n",
      "Episode 222 finished. Total reward: 87.0 (87 timesteps)\n",
      "Episode 223 finished. Total reward: 27.0 (27 timesteps)\n",
      "Episode 224 finished. Total reward: 33.0 (33 timesteps)\n",
      "Episode 225 finished. Total reward: 16.0 (16 timesteps)\n",
      "Updating the policy...\n",
      "Updating finished!\n",
      "Episode 226 finished. Total reward: 27.0 (27 timesteps)\n",
      "Episode 227 finished. Total reward: 100.0 (100 timesteps)\n",
      "Episode 228 finished. Total reward: 29.0 (29 timesteps)\n",
      "Episode 229 finished. Total reward: 58.0 (58 timesteps)\n",
      "Episode 230 finished. Total reward: 100.0 (100 timesteps)\n",
      "Episode 231 finished. Total reward: 41.0 (41 timesteps)\n",
      "Episode 232 finished. Total reward: 28.0 (28 timesteps)\n",
      "Episode 233 finished. Total reward: 100.0 (100 timesteps)\n",
      "Episode 234 finished. Total reward: 49.0 (49 timesteps)\n",
      "Episode 235 finished. Total reward: 100.0 (100 timesteps)\n",
      "Episode 236 finished. Total reward: 63.0 (63 timesteps)\n",
      "Episode 237 finished. Total reward: 34.0 (34 timesteps)\n",
      "Episode 238 finished. Total reward: 42.0 (42 timesteps)\n",
      "Episode 239 finished. Total reward: 27.0 (27 timesteps)\n",
      "Episode 240 finished. Total reward: 97.0 (97 timesteps)\n",
      "Episode 241 finished. Total reward: 100.0 (100 timesteps)\n",
      "Episode 242 finished. Total reward: 35.0 (35 timesteps)\n",
      "Episode 243 finished. Total reward: 100.0 (100 timesteps)\n",
      "Episode 244 finished. Total reward: 86.0 (86 timesteps)\n",
      "Episode 245 finished. Total reward: 100.0 (100 timesteps)\n",
      "Episode 246 finished. Total reward: 64.0 (64 timesteps)\n",
      "Episode 247 finished. Total reward: 62.0 (62 timesteps)\n",
      "Episode 248 finished. Total reward: 45.0 (45 timesteps)\n",
      "Episode 249 finished. Total reward: 43.0 (43 timesteps)\n",
      "Episode 250 finished. Total reward: 48.0 (48 timesteps)\n",
      "Episode 251 finished. Total reward: 100.0 (100 timesteps)\n",
      "Episode 252 finished. Total reward: 100.0 (100 timesteps)\n",
      "Episode 253 finished. Total reward: 100.0 (100 timesteps)\n",
      "Episode 254 finished. Total reward: 27.0 (27 timesteps)\n",
      "Episode 255 finished. Total reward: 82.0 (82 timesteps)\n",
      "Updating the policy...\n",
      "Updating finished!\n",
      "Episode 256 finished. Total reward: 100.0 (100 timesteps)\n",
      "Episode 257 finished. Total reward: 72.0 (72 timesteps)\n",
      "Episode 258 finished. Total reward: 24.0 (24 timesteps)\n",
      "Episode 259 finished. Total reward: 45.0 (45 timesteps)\n",
      "Episode 260 finished. Total reward: 100.0 (100 timesteps)\n",
      "Episode 261 finished. Total reward: 84.0 (84 timesteps)\n",
      "Episode 262 finished. Total reward: 64.0 (64 timesteps)\n",
      "Episode 263 finished. Total reward: 85.0 (85 timesteps)\n",
      "Episode 264 finished. Total reward: 66.0 (66 timesteps)\n",
      "Episode 265 finished. Total reward: 47.0 (47 timesteps)\n",
      "Episode 266 finished. Total reward: 58.0 (58 timesteps)\n",
      "Episode 267 finished. Total reward: 100.0 (100 timesteps)\n",
      "Episode 268 finished. Total reward: 65.0 (65 timesteps)\n",
      "Episode 269 finished. Total reward: 53.0 (53 timesteps)\n",
      "Episode 270 finished. Total reward: 27.0 (27 timesteps)\n",
      "Episode 271 finished. Total reward: 100.0 (100 timesteps)\n",
      "Episode 272 finished. Total reward: 94.0 (94 timesteps)\n",
      "Episode 273 finished. Total reward: 62.0 (62 timesteps)\n",
      "Episode 274 finished. Total reward: 68.0 (68 timesteps)\n",
      "Episode 275 finished. Total reward: 72.0 (72 timesteps)\n",
      "Episode 276 finished. Total reward: 35.0 (35 timesteps)\n",
      "Episode 277 finished. Total reward: 22.0 (22 timesteps)\n",
      "Episode 278 finished. Total reward: 50.0 (50 timesteps)\n",
      "Episode 279 finished. Total reward: 29.0 (29 timesteps)\n",
      "Episode 280 finished. Total reward: 100.0 (100 timesteps)\n",
      "Episode 281 finished. Total reward: 62.0 (62 timesteps)\n",
      "Episode 282 finished. Total reward: 42.0 (42 timesteps)\n",
      "Episode 283 finished. Total reward: 23.0 (23 timesteps)\n",
      "Episode 284 finished. Total reward: 83.0 (83 timesteps)\n",
      "Episode 285 finished. Total reward: 67.0 (67 timesteps)\n",
      "Episode 286 finished. Total reward: 100.0 (100 timesteps)\n",
      "Updating the policy...\n",
      "Updating finished!\n",
      "Episode 287 finished. Total reward: 100.0 (100 timesteps)\n",
      "Episode 288 finished. Total reward: 100.0 (100 timesteps)\n",
      "Episode 289 finished. Total reward: 100.0 (100 timesteps)\n",
      "Episode 290 finished. Total reward: 100.0 (100 timesteps)\n",
      "Episode 291 finished. Total reward: 56.0 (56 timesteps)\n",
      "Episode 292 finished. Total reward: 100.0 (100 timesteps)\n",
      "Episode 293 finished. Total reward: 100.0 (100 timesteps)\n",
      "Episode 294 finished. Total reward: 100.0 (100 timesteps)\n",
      "Episode 295 finished. Total reward: 100.0 (100 timesteps)\n",
      "Episode 296 finished. Total reward: 100.0 (100 timesteps)\n",
      "Episode 297 finished. Total reward: 96.0 (96 timesteps)\n",
      "Episode 298 finished. Total reward: 100.0 (100 timesteps)\n",
      "Episode 299 finished. Total reward: 100.0 (100 timesteps)\n",
      "Episode 300 finished. Total reward: 72.0 (72 timesteps)\n",
      "Episode 301 finished. Total reward: 51.0 (51 timesteps)\n",
      "Episode 302 finished. Total reward: 100.0 (100 timesteps)\n",
      "Episode 303 finished. Total reward: 87.0 (87 timesteps)\n",
      "Episode 304 finished. Total reward: 100.0 (100 timesteps)\n",
      "Episode 305 finished. Total reward: 74.0 (74 timesteps)\n",
      "Episode 306 finished. Total reward: 75.0 (75 timesteps)\n",
      "Episode 307 finished. Total reward: 100.0 (100 timesteps)\n",
      "Episode 308 finished. Total reward: 100.0 (100 timesteps)\n",
      "Updating the policy...\n",
      "Updating finished!\n",
      "Episode 309 finished. Total reward: 100.0 (100 timesteps)\n",
      "Episode 310 finished. Total reward: 100.0 (100 timesteps)\n",
      "Episode 311 finished. Total reward: 100.0 (100 timesteps)\n",
      "Episode 312 finished. Total reward: 100.0 (100 timesteps)\n",
      "Episode 313 finished. Total reward: 100.0 (100 timesteps)\n",
      "Episode 314 finished. Total reward: 100.0 (100 timesteps)\n",
      "Episode 315 finished. Total reward: 100.0 (100 timesteps)\n",
      "Episode 316 finished. Total reward: 99.0 (99 timesteps)\n",
      "Episode 317 finished. Total reward: 100.0 (100 timesteps)\n",
      "Episode 318 finished. Total reward: 100.0 (100 timesteps)\n",
      "Episode 319 finished. Total reward: 100.0 (100 timesteps)\n",
      "Episode 320 finished. Total reward: 100.0 (100 timesteps)\n",
      "Episode 321 finished. Total reward: 100.0 (100 timesteps)\n",
      "Episode 322 finished. Total reward: 100.0 (100 timesteps)\n",
      "Episode 323 finished. Total reward: 100.0 (100 timesteps)\n",
      "Episode 324 finished. Total reward: 100.0 (100 timesteps)\n",
      "Episode 325 finished. Total reward: 100.0 (100 timesteps)\n",
      "Episode 326 finished. Total reward: 100.0 (100 timesteps)\n",
      "Episode 327 finished. Total reward: 100.0 (100 timesteps)\n",
      "Episode 328 finished. Total reward: 100.0 (100 timesteps)\n",
      "Updating the policy...\n",
      "Updating finished!\n",
      "Episode 329 finished. Total reward: 47.0 (47 timesteps)\n",
      "Episode 330 finished. Total reward: 100.0 (100 timesteps)\n",
      "Episode 331 finished. Total reward: 97.0 (97 timesteps)\n",
      "Episode 332 finished. Total reward: 49.0 (49 timesteps)\n",
      "Episode 333 finished. Total reward: 75.0 (75 timesteps)\n",
      "Episode 334 finished. Total reward: 81.0 (81 timesteps)\n",
      "Episode 335 finished. Total reward: 64.0 (64 timesteps)\n",
      "Episode 336 finished. Total reward: 100.0 (100 timesteps)\n",
      "Episode 337 finished. Total reward: 100.0 (100 timesteps)\n",
      "Episode 338 finished. Total reward: 100.0 (100 timesteps)\n",
      "Episode 339 finished. Total reward: 100.0 (100 timesteps)\n",
      "Episode 340 finished. Total reward: 100.0 (100 timesteps)\n",
      "Episode 341 finished. Total reward: 22.0 (22 timesteps)\n",
      "Episode 342 finished. Total reward: 91.0 (91 timesteps)\n",
      "Episode 343 finished. Total reward: 100.0 (100 timesteps)\n",
      "Episode 344 finished. Total reward: 100.0 (100 timesteps)\n",
      "Episode 345 finished. Total reward: 52.0 (52 timesteps)\n",
      "Episode 346 finished. Total reward: 100.0 (100 timesteps)\n",
      "Episode 347 finished. Total reward: 50.0 (50 timesteps)\n",
      "Episode 348 finished. Total reward: 100.0 (100 timesteps)\n",
      "Episode 349 finished. Total reward: 100.0 (100 timesteps)\n",
      "Episode 350 finished. Total reward: 73.0 (73 timesteps)\n",
      "Episode 351 finished. Total reward: 100.0 (100 timesteps)\n",
      "Episode 352 finished. Total reward: 59.0 (59 timesteps)\n",
      "Updating the policy...\n",
      "Updating finished!\n",
      "Episode 353 finished. Total reward: 100.0 (100 timesteps)\n",
      "Episode 354 finished. Total reward: 92.0 (92 timesteps)\n",
      "Episode 355 finished. Total reward: 100.0 (100 timesteps)\n",
      "Episode 356 finished. Total reward: 100.0 (100 timesteps)\n",
      "Episode 357 finished. Total reward: 100.0 (100 timesteps)\n",
      "Episode 358 finished. Total reward: 100.0 (100 timesteps)\n",
      "Episode 359 finished. Total reward: 100.0 (100 timesteps)\n",
      "Episode 360 finished. Total reward: 84.0 (84 timesteps)\n",
      "Episode 361 finished. Total reward: 100.0 (100 timesteps)\n",
      "Episode 362 finished. Total reward: 100.0 (100 timesteps)\n",
      "Episode 363 finished. Total reward: 91.0 (91 timesteps)\n",
      "Episode 364 finished. Total reward: 85.0 (85 timesteps)\n",
      "Episode 365 finished. Total reward: 100.0 (100 timesteps)\n",
      "Episode 366 finished. Total reward: 100.0 (100 timesteps)\n",
      "Episode 367 finished. Total reward: 100.0 (100 timesteps)\n",
      "Episode 368 finished. Total reward: 100.0 (100 timesteps)\n",
      "Episode 369 finished. Total reward: 100.0 (100 timesteps)\n",
      "Episode 370 finished. Total reward: 100.0 (100 timesteps)\n",
      "Episode 371 finished. Total reward: 100.0 (100 timesteps)\n",
      "Episode 372 finished. Total reward: 100.0 (100 timesteps)\n",
      "Episode 373 finished. Total reward: 100.0 (100 timesteps)\n",
      "Updating the policy...\n",
      "Updating finished!\n",
      "Episode 374 finished. Total reward: 100.0 (100 timesteps)\n",
      "Episode 375 finished. Total reward: 100.0 (100 timesteps)\n",
      "Episode 376 finished. Total reward: 100.0 (100 timesteps)\n",
      "Episode 377 finished. Total reward: 100.0 (100 timesteps)\n",
      "Episode 378 finished. Total reward: 100.0 (100 timesteps)\n",
      "Episode 379 finished. Total reward: 100.0 (100 timesteps)\n",
      "Episode 380 finished. Total reward: 100.0 (100 timesteps)\n",
      "Episode 381 finished. Total reward: 100.0 (100 timesteps)\n",
      "Episode 382 finished. Total reward: 100.0 (100 timesteps)\n",
      "Episode 383 finished. Total reward: 100.0 (100 timesteps)\n",
      "Episode 384 finished. Total reward: 100.0 (100 timesteps)\n",
      "Episode 385 finished. Total reward: 100.0 (100 timesteps)\n",
      "Episode 386 finished. Total reward: 98.0 (98 timesteps)\n",
      "Episode 387 finished. Total reward: 100.0 (100 timesteps)\n",
      "Episode 388 finished. Total reward: 100.0 (100 timesteps)\n",
      "Episode 389 finished. Total reward: 100.0 (100 timesteps)\n",
      "Episode 390 finished. Total reward: 100.0 (100 timesteps)\n",
      "Episode 391 finished. Total reward: 100.0 (100 timesteps)\n",
      "Episode 392 finished. Total reward: 100.0 (100 timesteps)\n",
      "Episode 393 finished. Total reward: 100.0 (100 timesteps)\n",
      "Updating the policy...\n",
      "Updating finished!\n",
      "Episode 394 finished. Total reward: 100.0 (100 timesteps)\n",
      "Episode 395 finished. Total reward: 100.0 (100 timesteps)\n",
      "Episode 396 finished. Total reward: 100.0 (100 timesteps)\n",
      "Episode 397 finished. Total reward: 100.0 (100 timesteps)\n",
      "Episode 398 finished. Total reward: 100.0 (100 timesteps)\n",
      "Episode 399 finished. Total reward: 100.0 (100 timesteps)\n",
      "Episode 400 finished. Total reward: 100.0 (100 timesteps)\n",
      "Episode 401 finished. Total reward: 100.0 (100 timesteps)\n",
      "Episode 402 finished. Total reward: 100.0 (100 timesteps)\n",
      "Episode 403 finished. Total reward: 69.0 (69 timesteps)\n",
      "Episode 404 finished. Total reward: 100.0 (100 timesteps)\n",
      "Episode 405 finished. Total reward: 100.0 (100 timesteps)\n",
      "Episode 406 finished. Total reward: 100.0 (100 timesteps)\n",
      "Episode 407 finished. Total reward: 100.0 (100 timesteps)\n",
      "Episode 408 finished. Total reward: 100.0 (100 timesteps)\n",
      "Episode 409 finished. Total reward: 45.0 (45 timesteps)\n",
      "Episode 410 finished. Total reward: 100.0 (100 timesteps)\n",
      "Episode 411 finished. Total reward: 100.0 (100 timesteps)\n",
      "Episode 412 finished. Total reward: 100.0 (100 timesteps)\n",
      "Episode 413 finished. Total reward: 100.0 (100 timesteps)\n",
      "Updating the policy...\n",
      "Updating finished!\n",
      "Episode 414 finished. Total reward: 100.0 (100 timesteps)\n",
      "Episode 415 finished. Total reward: 100.0 (100 timesteps)\n",
      "Episode 416 finished. Total reward: 100.0 (100 timesteps)\n",
      "Episode 417 finished. Total reward: 100.0 (100 timesteps)\n",
      "Episode 418 finished. Total reward: 100.0 (100 timesteps)\n",
      "Episode 419 finished. Total reward: 100.0 (100 timesteps)\n",
      "Episode 420 finished. Total reward: 100.0 (100 timesteps)\n",
      "Episode 421 finished. Total reward: 100.0 (100 timesteps)\n",
      "Episode 422 finished. Total reward: 100.0 (100 timesteps)\n",
      "Episode 423 finished. Total reward: 100.0 (100 timesteps)\n",
      "Episode 424 finished. Total reward: 81.0 (81 timesteps)\n",
      "Episode 425 finished. Total reward: 100.0 (100 timesteps)\n",
      "Episode 426 finished. Total reward: 100.0 (100 timesteps)\n",
      "Episode 427 finished. Total reward: 100.0 (100 timesteps)\n",
      "Episode 428 finished. Total reward: 100.0 (100 timesteps)\n",
      "Episode 429 finished. Total reward: 100.0 (100 timesteps)\n",
      "Episode 430 finished. Total reward: 100.0 (100 timesteps)\n",
      "Episode 431 finished. Total reward: 100.0 (100 timesteps)\n",
      "Episode 432 finished. Total reward: 100.0 (100 timesteps)\n",
      "Episode 433 finished. Total reward: 100.0 (100 timesteps)\n",
      "Episode 434 finished. Total reward: 100.0 (100 timesteps)\n",
      "Updating the policy...\n",
      "Updating finished!\n",
      "Episode 435 finished. Total reward: 100.0 (100 timesteps)\n",
      "Episode 436 finished. Total reward: 100.0 (100 timesteps)\n",
      "Episode 437 finished. Total reward: 100.0 (100 timesteps)\n",
      "Episode 438 finished. Total reward: 81.0 (81 timesteps)\n",
      "Episode 439 finished. Total reward: 100.0 (100 timesteps)\n",
      "Episode 440 finished. Total reward: 100.0 (100 timesteps)\n",
      "Episode 441 finished. Total reward: 100.0 (100 timesteps)\n",
      "Episode 442 finished. Total reward: 100.0 (100 timesteps)\n",
      "Episode 443 finished. Total reward: 79.0 (79 timesteps)\n",
      "Episode 444 finished. Total reward: 100.0 (100 timesteps)\n",
      "Episode 445 finished. Total reward: 100.0 (100 timesteps)\n",
      "Episode 446 finished. Total reward: 82.0 (82 timesteps)\n",
      "Episode 447 finished. Total reward: 100.0 (100 timesteps)\n",
      "Episode 448 finished. Total reward: 100.0 (100 timesteps)\n",
      "Episode 449 finished. Total reward: 100.0 (100 timesteps)\n",
      "Episode 450 finished. Total reward: 100.0 (100 timesteps)\n",
      "Episode 451 finished. Total reward: 100.0 (100 timesteps)\n",
      "Episode 452 finished. Total reward: 100.0 (100 timesteps)\n",
      "Episode 453 finished. Total reward: 100.0 (100 timesteps)\n",
      "Episode 454 finished. Total reward: 100.0 (100 timesteps)\n",
      "Episode 455 finished. Total reward: 64.0 (64 timesteps)\n",
      "Updating the policy...\n",
      "Updating finished!\n",
      "Episode 456 finished. Total reward: 100.0 (100 timesteps)\n",
      "Episode 457 finished. Total reward: 100.0 (100 timesteps)\n",
      "Episode 458 finished. Total reward: 37.0 (37 timesteps)\n",
      "Episode 459 finished. Total reward: 100.0 (100 timesteps)\n",
      "Episode 460 finished. Total reward: 100.0 (100 timesteps)\n",
      "Episode 461 finished. Total reward: 78.0 (78 timesteps)\n",
      "Episode 462 finished. Total reward: 100.0 (100 timesteps)\n",
      "Episode 463 finished. Total reward: 45.0 (45 timesteps)\n",
      "Episode 464 finished. Total reward: 100.0 (100 timesteps)\n",
      "Episode 465 finished. Total reward: 100.0 (100 timesteps)\n",
      "Episode 466 finished. Total reward: 100.0 (100 timesteps)\n",
      "Episode 467 finished. Total reward: 100.0 (100 timesteps)\n",
      "Episode 468 finished. Total reward: 100.0 (100 timesteps)\n",
      "Episode 469 finished. Total reward: 100.0 (100 timesteps)\n",
      "Episode 470 finished. Total reward: 100.0 (100 timesteps)\n",
      "Episode 471 finished. Total reward: 100.0 (100 timesteps)\n",
      "Episode 472 finished. Total reward: 100.0 (100 timesteps)\n",
      "Episode 473 finished. Total reward: 100.0 (100 timesteps)\n",
      "Episode 474 finished. Total reward: 100.0 (100 timesteps)\n",
      "Episode 475 finished. Total reward: 100.0 (100 timesteps)\n",
      "Episode 476 finished. Total reward: 25.0 (25 timesteps)\n",
      "Episode 477 finished. Total reward: 100.0 (100 timesteps)\n",
      "Updating the policy...\n",
      "Updating finished!\n",
      "Episode 478 finished. Total reward: 100.0 (100 timesteps)\n",
      "Episode 479 finished. Total reward: 100.0 (100 timesteps)\n",
      "Episode 480 finished. Total reward: 100.0 (100 timesteps)\n",
      "Episode 481 finished. Total reward: 100.0 (100 timesteps)\n",
      "Episode 482 finished. Total reward: 87.0 (87 timesteps)\n",
      "Episode 483 finished. Total reward: 100.0 (100 timesteps)\n",
      "Episode 484 finished. Total reward: 100.0 (100 timesteps)\n",
      "Episode 485 finished. Total reward: 100.0 (100 timesteps)\n",
      "Episode 486 finished. Total reward: 100.0 (100 timesteps)\n",
      "Episode 487 finished. Total reward: 100.0 (100 timesteps)\n",
      "Episode 488 finished. Total reward: 100.0 (100 timesteps)\n",
      "Episode 489 finished. Total reward: 100.0 (100 timesteps)\n",
      "Episode 490 finished. Total reward: 100.0 (100 timesteps)\n",
      "Episode 491 finished. Total reward: 100.0 (100 timesteps)\n",
      "Episode 492 finished. Total reward: 100.0 (100 timesteps)\n",
      "Episode 493 finished. Total reward: 100.0 (100 timesteps)\n",
      "Episode 494 finished. Total reward: 100.0 (100 timesteps)\n",
      "Episode 495 finished. Total reward: 100.0 (100 timesteps)\n",
      "Episode 496 finished. Total reward: 100.0 (100 timesteps)\n",
      "Episode 497 finished. Total reward: 100.0 (100 timesteps)\n",
      "Updating the policy...\n",
      "Updating finished!\n",
      "Episode 498 finished. Total reward: 100.0 (100 timesteps)\n",
      "Episode 499 finished. Total reward: 100.0 (100 timesteps)\n",
      "Episode 500 finished. Total reward: 100.0 (100 timesteps)\n",
      "Model saved to /notebooks/rl2023/ex1/results/model/CartPole-v1_params.pt\n",
      "------Training finished.------\n",
      "Numpy/Torch/Random Seed:  468\n",
      "Loading model from /notebooks/rl2023/ex1/results/model/CartPole-v1_params.pt ...\n",
      "Testing...\n",
      "Test ep reward: 166.0 seed: 494\n",
      "Test ep reward: 183.0 seed: 181\n",
      "Test ep reward: 219.0 seed: 928\n",
      "Test ep reward: 251.0 seed: 778\n",
      "Test ep reward: 211.0 seed: 740\n",
      "Test ep reward: 177.0 seed: 210\n",
      "Test ep reward: 179.0 seed: 792\n",
      "Test ep reward: 195.0 seed: 706\n",
      "Test ep reward: 220.0 seed: 343\n",
      "Test ep reward: 176.0 seed: 503\n",
      "Average test reward: 197.7 episode length: 197.7\n"
     ]
    }
   ],
   "source": [
    "for seed in seeds:\n",
    "    t.train(cfg_path=Path().cwd()/'cfg'/'cartpole_v1.yaml', \n",
    "        cfg_args=dict(seed=int(seed), max_episode_steps=100)) # < 5 mins\n",
    "    t.test(episodes=10, \n",
    "           cfg_path=Path().cwd()/'cfg'/'cartpole_v1.yaml', \n",
    "           cfg_args=dict(testing=True, seed=None, max_episode_steps=1000, use_wandb=False))"
   ]
  },
  {
   "cell_type": "markdown",
   "id": "5f15cc05",
   "metadata": {},
   "source": [
    "Numpy/Torch/Random Seed: 42, Average test reward: 131.5 episode length: 131.5\n",
    "Numpy/Torch/Random Seed: 36, Average test reward: 154.6 episode length: 154.6\n",
    "Numpy/Torch/Random Seed:  94, Average test reward: 126.1 episode length: 126.1\n",
    "Numpy/Torch/Random Seed:  9, Average test reward: 131.5 episode length: 131.5\n",
    "Numpy/Torch/Random Seed:  66, Average test reward: 197.7 episode length: 197.7"
   ]
  },
  {
   "cell_type": "markdown",
   "id": "95ff4274",
   "metadata": {},
   "source": [
    "<a id='Q2'></a>\n",
    "<div class=\" alert alert-warning\">\n",
    "    <h3><b>Student Question 2.1</b> Analysis of Training Performance (15 points) </h3> \n",
    "\n",
    "Are the behavior and performance of the trained models the same every time? Why/why not? Analyze the causes briefly.\n",
    "    \n",
    "🔝\t<a href='#TOC'><b>Table of Contents</b></a>\n",
    "</div>\n"
   ]
  },
  {
   "cell_type": "markdown",
   "id": "eee2bcdb",
   "metadata": {},
   "source": [
    "The results are all different with small SD. With more episodes the results might converge."
   ]
  },
  {
   "cell_type": "markdown",
   "id": "8b248abf",
   "metadata": {},
   "source": [
    "<a id='Q3'></a>\n",
    "<div class=\" alert alert-warning\">\n",
    "    <h3><b>Student Question 2.2</b> Stochasticity (10 points) </h3> \n",
    "\n",
    "What are the implications of this stochasticity, when it comes to comparing reinforcement learning algorithms to each other? Please explain.\n",
    "    \n",
    "🔝\t<a href='#TOC'><b>Table of Contents</b></a>\n",
    "</div>\n"
   ]
  },
  {
   "cell_type": "markdown",
   "id": "b7b41e22",
   "metadata": {},
   "source": [
    "The outcome of each learning will be different."
   ]
  },
  {
   "cell_type": "markdown",
   "id": "842afa68",
   "metadata": {},
   "source": [
    "# Reacher <a id='3.'></a>\n",
    "\n",
    "Now we will focus on designing a reward function for a different environment, the Reacher environment, where a two-joint manipulator needs to reach a goal (see Figure 2).\n",
    "\n",
    "<figure>\n",
    "<img src=\"imgs/reacher.png\" width=\"200px\">\n",
    "<figcaption style=\"text-align: center\"> Figure 2: The Reacher environment  </figcaption>\n",
    "</figure>\n",
    "\n",
    "The Cartesian ($x$, $y$) position of the end-effector of the manipulator can be determined following the equation:\n",
    "\n",
    "$$\n",
    " x = L_1 \\sin(\\theta_0)+L_2 \\sin(\\theta_0+\\theta_1)\\\\\n",
    " y = -L_1 \\cos(\\theta_0)-L_2 \\cos(\\theta_0+\\theta_1)\n",
    "$$\n",
    "\n",
    "where $L1 = 1$, $L2 = 1$ are the lengths, and $\\theta_0$, $\\theta_1$ the joint angles of the first and second links respectively. The state (and observation) in this environment is the two element vector:\n",
    "\n",
    "$$\n",
    "o=s=\\left(\\begin{array}{c}\n",
    "\\theta_0 \\\\\n",
    "\\theta_1 \\\\\n",
    "\\end{array}\\right) \\text {, }\n",
    "$$\n",
    "\n",
    "The action space now consists of 5 \"options\"; 4 correspond rotating the first/second joint left/right, and the final one performs no motion at all (the configuration doesn’t change). The episode terminates when the agent reaches the target position, marked in red. Now, let us design a custom reward function and use it for training the RL agent."
   ]
  },
  {
   "cell_type": "markdown",
   "id": "e138b75d",
   "metadata": {},
   "source": [
    "<a id='T3'></a>\n",
    "<div class=\" alert alert-warning\">\n",
    "    <h3><b>Student Task 3.</b> Reward Functions (20 points) </h3> \n",
    "\n",
    "Below two classes are shown that modify the reward function of the reacher function provided in ```reacher.py```. Edit the function ```get_reward``` _below_ (not in ```reacher.py```) in both classes. For each class, write a reward function to incentivise the agent to learn the following behaviors:\n",
    "\n",
    "Class 1) ```SpinningReacherEnv```: Keep the manipulator rotating clockwise continuously (w.r.t. angle θ_0). You can use a lower number of training episodes for this, e.g. train(cfg_args=dict(env_name='SpinningReacher-v0', train_episodes=200), overrides=['env=reacher_v1'])\n",
    "\n",
    "Class 2) ```TargetReacherEnv```: Reach the goal point located in x = [1.0,1.0] (marked in red). Use at least 500 training episodes.\n",
    "    \n",
    "Train one model for each behavior. \n",
    "\n",
    "**Hint:** Use the observation vector to get the quantities required to compute the new reward (such as the position of the manipulator). You can get the Cartesian position of the end-effector with ```self.get_cartesian_pos(state)```.\n",
    "            \n",
    "🔝\t<a href='#TOC'><b>Table of Contents</b></a>\n",
    "</div>\n"
   ]
  },
  {
   "cell_type": "markdown",
   "id": "4fa70b97",
   "metadata": {},
   "source": []
  },
  {
   "cell_type": "code",
   "execution_count": 91,
   "id": "32bf76fe",
   "metadata": {
    "tags": []
   },
   "outputs": [],
   "source": [
    "from reacher import ReacherEnv\n",
    "from typing import Optional\n",
    "from gymnasium.envs.registration import register\n",
    "\n",
    "class SpinningReacherEnv(ReacherEnv):\n",
    "    def __init__(self, render_mode: Optional[str] = None, max_episode_steps=200):\n",
    "        super().__init__(render_mode=render_mode, max_episode_steps=max_episode_steps)\n",
    "        \n",
    "    def get_reward(self, prev_state, action, next_state):\n",
    "        # TODO: Task 3: Implement and test the first reward function\n",
    "        ########## Your code starts here ##########\n",
    "        if next_state[0] < prev_state[0]:\n",
    "            return 1\n",
    "        else:\n",
    "            return -1\n",
    "        ########## Your codes end here ########## \n",
    "        \n",
    "    \n",
    "register(\"SpinningReacher-v0\",\n",
    "        entry_point=\"%s:SpinningReacherEnv\"%__name__,\n",
    "        max_episode_steps=200)\n",
    "\n",
    "class TargetReacherEnv(ReacherEnv):\n",
    "    def __init__(self, render_mode: Optional[str] = None, max_episode_steps=200):\n",
    "        super().__init__(render_mode=render_mode, max_episode_steps=max_episode_steps)\n",
    "        \n",
    "    def get_reward(self, prev_state, action, next_state):\n",
    "        # TODO: Task 3: Implement and test the second reward function\n",
    "        ########## Your code starts here ##########\n",
    "        pos = self.get_cartesian_pos(prev_state)\n",
    "        nextPos = self.get_cartesian_pos(next_state)\n",
    "        distance = np.square(pos[0]-1) + np.square(pos[1]-1)\n",
    "        nextDistance = np.square(nextPos[0]-1) + np.square(nextPos[1]-1)\n",
    "        # if nextDistance < distance:\n",
    "        #     return 1\n",
    "        # else: \n",
    "        #     return -1\n",
    "        return -sqrt(nextDistance)\n",
    "        ########## Your codes end here ########## \n",
    "        \n",
    "register(\"TargetReacher-v0\",\n",
    "        entry_point=\"%s:TargetReacherEnv\"%__name__,\n",
    "        max_episode_steps=200)"
   ]
  },
  {
   "cell_type": "code",
   "execution_count": 47,
   "id": "765ea45c",
   "metadata": {
    "scrolled": true,
    "tags": []
   },
   "outputs": [
    {
     "name": "stdout",
     "output_type": "stream",
     "text": [
      "Numpy/Torch/Random Seed:  259\n"
     ]
    },
    {
     "data": {
      "text/html": [
       "Changes to your `wandb` environment variables will be ignored because your `wandb` session has already started. For more information on how to modify your settings with `wandb.init()` arguments, please refer to <a href='https://wandb.me/wandb-init' target=\"_blank\">the W&B docs</a>."
      ],
      "text/plain": [
       "<IPython.core.display.HTML object>"
      ]
     },
     "metadata": {},
     "output_type": "display_data"
    },
    {
     "data": {
      "text/html": [
       "Finishing last run (ID:zx70x25i) before initializing another..."
      ],
      "text/plain": [
       "<IPython.core.display.HTML object>"
      ]
     },
     "metadata": {},
     "output_type": "display_data"
    },
    {
     "data": {
      "text/html": [
       "Waiting for W&B process to finish... <strong style=\"color:green\">(success).</strong>"
      ],
      "text/plain": [
       "<IPython.core.display.HTML object>"
      ]
     },
     "metadata": {},
     "output_type": "display_data"
    },
    {
     "data": {
      "application/vnd.jupyter.widget-view+json": {
       "model_id": "07f0fe0e2bec4490b3d82c7602d4787c",
       "version_major": 2,
       "version_minor": 0
      },
      "text/plain": [
       "VBox(children=(Label(value='0.002 MB of 0.002 MB uploaded (0.000 MB deduped)\\r'), FloatProgress(value=1.0, max…"
      ]
     },
     "metadata": {},
     "output_type": "display_data"
    },
    {
     "data": {
      "text/html": [
       "<style>\n",
       "    table.wandb td:nth-child(1) { padding: 0 10px; text-align: left ; width: auto;} td:nth-child(2) {text-align: left ; width: 100%}\n",
       "    .wandb-row { display: flex; flex-direction: row; flex-wrap: wrap; justify-content: flex-start; width: 100% }\n",
       "    .wandb-col { display: flex; flex-direction: column; flex-basis: 100%; flex: 1; padding: 10px; }\n",
       "    </style>\n",
       "<div class=\"wandb-row\"><div class=\"wandb-col\"><h3>Run history:</h3><br/><table class=\"wandb\"><tr><td>ep_reward</td><td>▁▂▂▂▂▂▂▄▃▄▄▄▄▅▆▅▅▆▅▆▆▇▇█████▇▇██▇███████</td></tr><tr><td>episodes</td><td>▁▁▁▁▂▂▂▂▂▃▃▃▃▃▃▄▄▄▄▄▅▅▅▅▅▅▆▆▆▆▆▇▇▇▇▇▇███</td></tr><tr><td>num_updates</td><td>▁▁▁▁▁▁█▁▁▁▁▁▁▁▁▁▁▁▁█▁▁▁▁▁▁▁▁▁▁▁▁▁▁▁▁▁▁▁█</td></tr><tr><td>timesteps</td><td>███▇███▆██▃▃▂██▁▁▇▃▆▄▆██████████████████</td></tr></table><br/></div><div class=\"wandb-col\"><h3>Run summary:</h3><br/><table class=\"wandb\"><tr><td>ep_reward</td><td>186</td></tr><tr><td>episodes</td><td>200</td></tr><tr><td>num_updates</td><td>0</td></tr><tr><td>timesteps</td><td>200</td></tr></table><br/></div></div>"
      ],
      "text/plain": [
       "<IPython.core.display.HTML object>"
      ]
     },
     "metadata": {},
     "output_type": "display_data"
    },
    {
     "data": {
      "text/html": [
       " View run <strong style=\"color:#cdcd00\">ex1-SpinningReacher-v0-None-1694682415</strong> at: <a href='https://wandb.ai/r-l/rl_aalto/runs/zx70x25i' target=\"_blank\">https://wandb.ai/r-l/rl_aalto/runs/zx70x25i</a><br/>Synced 6 W&B file(s), 0 media file(s), 0 artifact file(s) and 0 other file(s)"
      ],
      "text/plain": [
       "<IPython.core.display.HTML object>"
      ]
     },
     "metadata": {},
     "output_type": "display_data"
    },
    {
     "data": {
      "text/html": [
       "Find logs at: <code>./wandb/run-20230914_120655-zx70x25i/logs</code>"
      ],
      "text/plain": [
       "<IPython.core.display.HTML object>"
      ]
     },
     "metadata": {},
     "output_type": "display_data"
    },
    {
     "data": {
      "text/html": [
       "Successfully finished last run (ID:zx70x25i). Initializing new run:<br/>"
      ],
      "text/plain": [
       "<IPython.core.display.HTML object>"
      ]
     },
     "metadata": {},
     "output_type": "display_data"
    },
    {
     "data": {
      "application/vnd.jupyter.widget-view+json": {
       "model_id": "a80e757fd58e42c9a229f28f43712093",
       "version_major": 2,
       "version_minor": 0
      },
      "text/plain": [
       "VBox(children=(Label(value='Waiting for wandb.init()...\\r'), FloatProgress(value=0.01666919862230619, max=1.0)…"
      ]
     },
     "metadata": {},
     "output_type": "display_data"
    },
    {
     "data": {
      "text/html": [
       "wandb version 0.15.10 is available!  To upgrade, please run:\n",
       " $ pip install wandb --upgrade"
      ],
      "text/plain": [
       "<IPython.core.display.HTML object>"
      ]
     },
     "metadata": {},
     "output_type": "display_data"
    },
    {
     "data": {
      "text/html": [
       "Tracking run with wandb version 0.15.9"
      ],
      "text/plain": [
       "<IPython.core.display.HTML object>"
      ]
     },
     "metadata": {},
     "output_type": "display_data"
    },
    {
     "data": {
      "text/html": [
       "Run data is saved locally in <code>/notebooks/rl2023/ex1/wandb/run-20230914_134327-b9lossql</code>"
      ],
      "text/plain": [
       "<IPython.core.display.HTML object>"
      ]
     },
     "metadata": {},
     "output_type": "display_data"
    },
    {
     "data": {
      "text/html": [
       "Syncing run <strong><a href='https://wandb.ai/r-l/rl_aalto/runs/b9lossql' target=\"_blank\">ex1-SpinningReacher-v0-None-1694688206</a></strong> to <a href='https://wandb.ai/r-l/rl_aalto' target=\"_blank\">Weights & Biases</a> (<a href='https://wandb.me/run' target=\"_blank\">docs</a>)<br/>"
      ],
      "text/plain": [
       "<IPython.core.display.HTML object>"
      ]
     },
     "metadata": {},
     "output_type": "display_data"
    },
    {
     "data": {
      "text/html": [
       " View project at <a href='https://wandb.ai/r-l/rl_aalto' target=\"_blank\">https://wandb.ai/r-l/rl_aalto</a>"
      ],
      "text/plain": [
       "<IPython.core.display.HTML object>"
      ]
     },
     "metadata": {},
     "output_type": "display_data"
    },
    {
     "data": {
      "text/html": [
       " View run at <a href='https://wandb.ai/r-l/rl_aalto/runs/b9lossql' target=\"_blank\">https://wandb.ai/r-l/rl_aalto/runs/b9lossql</a>"
      ],
      "text/plain": [
       "<IPython.core.display.HTML object>"
      ]
     },
     "metadata": {},
     "output_type": "display_data"
    },
    {
     "name": "stdout",
     "output_type": "stream",
     "text": [
      "Configuration Settings: {'exp_name': 'ex1', 'seed': None, 'env_name': 'SpinningReacher-v0', 'max_episode_steps': 200, 'train_episodes': 200, 'batch_size': 64, 'min_update_samples': 2000, 'testing': False, 'model_path': 'default', 'save_video': True, 'save_model': True, 'save_logging': True, 'silent': False, 'use_wandb': True, 'run_suffix': 0}\n",
      "Training device: cpu\n",
      "Observation space dimensions: 2\n",
      "Action space dimensions: 5\n",
      "\n",
      "Episode 0 finished. Total reward: -122 (200 timesteps)\n",
      "Episode 1 finished. Total reward: -122 (200 timesteps)\n",
      "Episode 2 finished. Total reward: -94 (200 timesteps)\n",
      "Episode 3 finished. Total reward: -98 (200 timesteps)\n",
      "Episode 4 finished. Total reward: -122 (200 timesteps)\n",
      "Episode 5 finished. Total reward: -108 (200 timesteps)\n",
      "Episode 6 finished. Total reward: -112 (200 timesteps)\n",
      "Episode 7 finished. Total reward: -124 (200 timesteps)\n",
      "Episode 8 finished. Total reward: -116 (200 timesteps)\n",
      "Episode 9 finished. Total reward: -98 (200 timesteps)\n",
      "Updating the policy...\n",
      "Updating finished!\n",
      "Episode 10 finished. Total reward: -122 (200 timesteps)\n",
      "Episode 11 finished. Total reward: -82 (174 timesteps)\n",
      "Episode 12 finished. Total reward: -116 (200 timesteps)\n",
      "Episode 13 finished. Total reward: -68 (200 timesteps)\n",
      "Episode 14 finished. Total reward: -94 (200 timesteps)\n",
      "Episode 15 finished. Total reward: -80 (200 timesteps)\n",
      "Episode 16 finished. Total reward: -102 (200 timesteps)\n",
      "Episode 17 finished. Total reward: -112 (200 timesteps)\n",
      "Episode 18 finished. Total reward: -114 (200 timesteps)\n",
      "Episode 19 finished. Total reward: -90 (200 timesteps)\n",
      "Updating the policy...\n"
     ]
    },
    {
     "ename": "KeyboardInterrupt",
     "evalue": "",
     "output_type": "error",
     "traceback": [
      "\u001b[0;31m---------------------------------------------------------------------------\u001b[0m",
      "\u001b[0;31mKeyboardInterrupt\u001b[0m                         Traceback (most recent call last)",
      "Cell \u001b[0;32mIn[47], line 1\u001b[0m\n\u001b[0;32m----> 1\u001b[0m \u001b[43mt\u001b[49m\u001b[38;5;241;43m.\u001b[39;49m\u001b[43mtrain\u001b[49m\u001b[43m(\u001b[49m\u001b[43mcfg_path\u001b[49m\u001b[38;5;241;43m=\u001b[39;49m\u001b[43mPath\u001b[49m\u001b[43m(\u001b[49m\u001b[43m)\u001b[49m\u001b[38;5;241;43m.\u001b[39;49m\u001b[43mcwd\u001b[49m\u001b[43m(\u001b[49m\u001b[43m)\u001b[49m\u001b[38;5;241;43m/\u001b[39;49m\u001b[38;5;124;43m'\u001b[39;49m\u001b[38;5;124;43mcfg\u001b[39;49m\u001b[38;5;124;43m'\u001b[39;49m\u001b[38;5;241;43m/\u001b[39;49m\u001b[38;5;124;43m'\u001b[39;49m\u001b[38;5;124;43mreacher_v1.yaml\u001b[39;49m\u001b[38;5;124;43m'\u001b[39;49m\u001b[43m,\u001b[49m\u001b[43m \u001b[49m\n\u001b[1;32m      2\u001b[0m \u001b[43m      \u001b[49m\u001b[43mcfg_args\u001b[49m\u001b[38;5;241;43m=\u001b[39;49m\u001b[38;5;28;43mdict\u001b[39;49m\u001b[43m(\u001b[49m\u001b[43menv_name\u001b[49m\u001b[38;5;241;43m=\u001b[39;49m\u001b[38;5;124;43m'\u001b[39;49m\u001b[38;5;124;43mSpinningReacher-v0\u001b[39;49m\u001b[38;5;124;43m'\u001b[39;49m\u001b[43m,\u001b[49m\u001b[43m \u001b[49m\u001b[43mtrain_episodes\u001b[49m\u001b[38;5;241;43m=\u001b[39;49m\u001b[38;5;241;43m200\u001b[39;49m\u001b[43m)\u001b[49m\u001b[43m)\u001b[49m \u001b[38;5;66;03m# < 5 mins\u001b[39;00m\n",
      "File \u001b[0;32m/notebooks/rl2023/ex1/train.py:130\u001b[0m, in \u001b[0;36mtrain\u001b[0;34m(cfg_path, cfg_args)\u001b[0m\n\u001b[1;32m    127\u001b[0m     L \u001b[38;5;241m=\u001b[39m u\u001b[38;5;241m.\u001b[39mLogger() \u001b[38;5;66;03m# create a simple logger to record stats\u001b[39;00m\n\u001b[1;32m    129\u001b[0m \u001b[38;5;28;01mfor\u001b[39;00m ep \u001b[38;5;129;01min\u001b[39;00m \u001b[38;5;28mrange\u001b[39m(cfg\u001b[38;5;241m.\u001b[39mtrain_episodes\u001b[38;5;241m+\u001b[39m\u001b[38;5;241m1\u001b[39m):\n\u001b[0;32m--> 130\u001b[0m     train_info \u001b[38;5;241m=\u001b[39m \u001b[43mtrain_iteration\u001b[49m\u001b[43m(\u001b[49m\u001b[43magent\u001b[49m\u001b[43m,\u001b[49m\u001b[43m \u001b[49m\u001b[43menv\u001b[49m\u001b[43m,\u001b[49m\u001b[43m \u001b[49m\u001b[43mmin_update_samples\u001b[49m\u001b[38;5;241;43m=\u001b[39;49m\u001b[43mcfg\u001b[49m\u001b[38;5;241;43m.\u001b[39;49m\u001b[43mmin_update_samples\u001b[49m\u001b[43m,\u001b[49m\u001b[43m \u001b[49m\u001b[43mmax_episode_steps\u001b[49m\u001b[38;5;241;43m=\u001b[39;49m\u001b[43mcfg\u001b[49m\u001b[38;5;241;43m.\u001b[39;49m\u001b[43mmax_episode_steps\u001b[49m\u001b[43m,\u001b[49m\u001b[43m \u001b[49m\u001b[43mseed\u001b[49m\u001b[38;5;241;43m=\u001b[39;49m\u001b[43mcfg\u001b[49m\u001b[38;5;241;43m.\u001b[39;49m\u001b[43mseed\u001b[49m\u001b[43m)\u001b[49m\n\u001b[1;32m    131\u001b[0m     train_info\u001b[38;5;241m.\u001b[39mupdate({\u001b[38;5;124m'\u001b[39m\u001b[38;5;124mepisodes\u001b[39m\u001b[38;5;124m'\u001b[39m: ep})\n\u001b[1;32m    133\u001b[0m     \u001b[38;5;28;01mif\u001b[39;00m \u001b[38;5;129;01mnot\u001b[39;00m cfg\u001b[38;5;241m.\u001b[39msilent:\n",
      "File \u001b[0;32m/notebooks/rl2023/ex1/train.py:112\u001b[0m, in \u001b[0;36mtrain_iteration\u001b[0;34m(agent, env, min_update_samples, max_episode_steps, seed)\u001b[0m\n\u001b[1;32m    110\u001b[0m     \u001b[38;5;66;03m# Update the policy, if we have enough data\u001b[39;00m\n\u001b[1;32m    111\u001b[0m     \u001b[38;5;28;01mif\u001b[39;00m \u001b[38;5;28mlen\u001b[39m(agent\u001b[38;5;241m.\u001b[39mstates) \u001b[38;5;241m>\u001b[39m min_update_samples:\n\u001b[0;32m--> 112\u001b[0m         \u001b[43magent\u001b[49m\u001b[38;5;241;43m.\u001b[39;49m\u001b[43mupdate_policy\u001b[49m\u001b[43m(\u001b[49m\u001b[43m)\u001b[49m\n\u001b[1;32m    113\u001b[0m         num_updates \u001b[38;5;241m+\u001b[39m\u001b[38;5;241m=\u001b[39m \u001b[38;5;241m1\u001b[39m\n\u001b[1;32m    115\u001b[0m \u001b[38;5;66;03m# Return stats of training\u001b[39;00m\n",
      "File \u001b[0;32m/notebooks/rl2023/ex1/agent.py:79\u001b[0m, in \u001b[0;36mAgent.update_policy\u001b[0;34m(self)\u001b[0m\n\u001b[1;32m     76\u001b[0m \u001b[38;5;28mself\u001b[39m\u001b[38;5;241m.\u001b[39maction_log_probs \u001b[38;5;241m=\u001b[39m torch\u001b[38;5;241m.\u001b[39mstack(\u001b[38;5;28mself\u001b[39m\u001b[38;5;241m.\u001b[39maction_log_probs)\u001b[38;5;241m.\u001b[39msqueeze()\n\u001b[1;32m     78\u001b[0m \u001b[38;5;28;01mfor\u001b[39;00m e \u001b[38;5;129;01min\u001b[39;00m \u001b[38;5;28mrange\u001b[39m(\u001b[38;5;28mself\u001b[39m\u001b[38;5;241m.\u001b[39mepochs):\n\u001b[0;32m---> 79\u001b[0m     \u001b[38;5;28;43mself\u001b[39;49m\u001b[38;5;241;43m.\u001b[39;49m\u001b[43mppo_epoch\u001b[49m\u001b[43m(\u001b[49m\u001b[43m)\u001b[49m\n\u001b[1;32m     81\u001b[0m \u001b[38;5;66;03m# Clear the replay buffer\u001b[39;00m\n\u001b[1;32m     82\u001b[0m \u001b[38;5;28mself\u001b[39m\u001b[38;5;241m.\u001b[39mstates \u001b[38;5;241m=\u001b[39m []\n",
      "File \u001b[0;32m/notebooks/rl2023/ex1/agent.py:110\u001b[0m, in \u001b[0;36mAgent.ppo_epoch\u001b[0;34m(self)\u001b[0m\n\u001b[1;32m    108\u001b[0m \u001b[38;5;28;01mdef\u001b[39;00m \u001b[38;5;21mppo_epoch\u001b[39m(\u001b[38;5;28mself\u001b[39m):\n\u001b[1;32m    109\u001b[0m     indices \u001b[38;5;241m=\u001b[39m \u001b[38;5;28mlist\u001b[39m(\u001b[38;5;28mrange\u001b[39m(\u001b[38;5;28mlen\u001b[39m(\u001b[38;5;28mself\u001b[39m\u001b[38;5;241m.\u001b[39mstates)))\n\u001b[0;32m--> 110\u001b[0m     returns \u001b[38;5;241m=\u001b[39m \u001b[38;5;28;43mself\u001b[39;49m\u001b[38;5;241;43m.\u001b[39;49m\u001b[43mcompute_returns\u001b[49m\u001b[43m(\u001b[49m\u001b[43m)\u001b[49m\n\u001b[1;32m    111\u001b[0m     \u001b[38;5;28;01mwhile\u001b[39;00m \u001b[38;5;28mlen\u001b[39m(indices) \u001b[38;5;241m>\u001b[39m\u001b[38;5;241m=\u001b[39m \u001b[38;5;28mself\u001b[39m\u001b[38;5;241m.\u001b[39mbatch_size:\n\u001b[1;32m    112\u001b[0m         \u001b[38;5;66;03m# Sample a minibatch\u001b[39;00m\n\u001b[1;32m    113\u001b[0m         batch_indices \u001b[38;5;241m=\u001b[39m np\u001b[38;5;241m.\u001b[39mrandom\u001b[38;5;241m.\u001b[39mchoice(indices, \u001b[38;5;28mself\u001b[39m\u001b[38;5;241m.\u001b[39mbatch_size,\n\u001b[1;32m    114\u001b[0m                 replace\u001b[38;5;241m=\u001b[39m\u001b[38;5;28;01mFalse\u001b[39;00m)\n",
      "File \u001b[0;32m/notebooks/rl2023/ex1/agent.py:104\u001b[0m, in \u001b[0;36mAgent.compute_returns\u001b[0;34m(self)\u001b[0m\n\u001b[1;32m    101\u001b[0m     deltas \u001b[38;5;241m=\u001b[39m \u001b[38;5;28mself\u001b[39m\u001b[38;5;241m.\u001b[39mrewards[t] \u001b[38;5;241m+\u001b[39m \u001b[38;5;28mself\u001b[39m\u001b[38;5;241m.\u001b[39mgamma \u001b[38;5;241m*\u001b[39m next_values[t] \u001b[38;5;241m*\u001b[39m\\\n\u001b[1;32m    102\u001b[0m              (\u001b[38;5;241m1\u001b[39m\u001b[38;5;241m-\u001b[39m\u001b[38;5;28mself\u001b[39m\u001b[38;5;241m.\u001b[39mdones[t]) \u001b[38;5;241m-\u001b[39m values[t]\n\u001b[1;32m    103\u001b[0m     gaes \u001b[38;5;241m=\u001b[39m deltas \u001b[38;5;241m+\u001b[39m \u001b[38;5;28mself\u001b[39m\u001b[38;5;241m.\u001b[39mgamma\u001b[38;5;241m*\u001b[39m\u001b[38;5;28mself\u001b[39m\u001b[38;5;241m.\u001b[39mtau\u001b[38;5;241m*\u001b[39m(\u001b[38;5;241m1\u001b[39m\u001b[38;5;241m-\u001b[39m\u001b[38;5;28mself\u001b[39m\u001b[38;5;241m.\u001b[39mdones[t])\u001b[38;5;241m*\u001b[39mgaes\n\u001b[0;32m--> 104\u001b[0m     \u001b[43mreturns\u001b[49m\u001b[38;5;241;43m.\u001b[39;49m\u001b[43mappend\u001b[49m\u001b[43m(\u001b[49m\u001b[43mgaes\u001b[49m\u001b[43m \u001b[49m\u001b[38;5;241;43m+\u001b[39;49m\u001b[43m \u001b[49m\u001b[43mvalues\u001b[49m\u001b[43m[\u001b[49m\u001b[43mt\u001b[49m\u001b[43m]\u001b[49m\u001b[43m)\u001b[49m\n\u001b[1;32m    106\u001b[0m \u001b[38;5;28;01mreturn\u001b[39;00m torch\u001b[38;5;241m.\u001b[39mTensor(\u001b[38;5;28mlist\u001b[39m(\u001b[38;5;28mreversed\u001b[39m(returns)))\n",
      "\u001b[0;31mKeyboardInterrupt\u001b[0m: "
     ]
    }
   ],
   "source": [
    "t.train(cfg_path=Path().cwd()/'cfg'/'reacher_v1.yaml', \n",
    "      cfg_args=dict(env_name='SpinningReacher-v0', train_episodes=200)) # < 5 mins"
   ]
  },
  {
   "cell_type": "code",
   "execution_count": 41,
   "id": "2d4cb332",
   "metadata": {
    "tags": []
   },
   "outputs": [
    {
     "name": "stdout",
     "output_type": "stream",
     "text": [
      "Numpy/Torch/Random Seed:  831\n",
      "Loading model from /notebooks/rl2023/ex1/results/model/SpinningReacher-v0_params.pt ...\n",
      "Testing...\n",
      "Test ep reward: 200 seed: 91\n",
      "Test ep reward: 200 seed: 660\n",
      "Test ep reward: 200 seed: 10\n",
      "Test ep reward: 200 seed: 738\n",
      "Test ep reward: 200 seed: 548\n",
      "Test ep reward: 200 seed: 993\n",
      "Test ep reward: 200 seed: 713\n",
      "Test ep reward: 200 seed: 803\n",
      "Test ep reward: 200 seed: 833\n",
      "Test ep reward: 200 seed: 915\n",
      "Average test reward: 200.0 episode length: 200.0\n"
     ]
    }
   ],
   "source": [
    "t.test(episodes=10, cfg_path=Path().cwd()/'cfg'/'reacher_v1.yaml', \n",
    "       cfg_args=dict(env_name='SpinningReacher-v0', testing=True, use_wandb=False))"
   ]
  },
  {
   "cell_type": "markdown",
   "id": "383507bc",
   "metadata": {},
   "source": [
    "The agent acting in the environment can be seen using the following command. Change the ```path``` to pick the episode you want to visualize. Bear in mind by default video saving for training is taken every 50 episodes."
   ]
  },
  {
   "cell_type": "code",
   "execution_count": 44,
   "id": "555bc002",
   "metadata": {
    "tags": []
   },
   "outputs": [
    {
     "data": {
      "text/html": [
       "<video loop autoplay  >\n",
       " <source src=\"data:video/mp4;base64,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\" type=\"video/mp4\">\n",
       " Your browser does not support the video tag.\n",
       " </video>"
      ],
      "text/plain": [
       "<IPython.core.display.Video object>"
      ]
     },
     "execution_count": 44,
     "metadata": {},
     "output_type": "execute_result"
    }
   ],
   "source": [
    "Video(work_dir/'video'/'SpinningReacher-v0'/'test'/f'ex1-episode-7.mp4',\n",
    "      embed=True, html_attributes=\"loop autoplay\") # Set html_attributes=\"controls\" for video control"
   ]
  },
  {
   "cell_type": "code",
   "execution_count": null,
   "id": "663c258a",
   "metadata": {
    "scrolled": true,
    "tags": []
   },
   "outputs": [],
   "source": [
    "t.train(cfg_path=Path().cwd()/'cfg'/'reacher_v1.yaml', \n",
    "      cfg_args=dict(env_name='TargetReacher-v0', train_episodes=200)) # < 5 mins"
   ]
  },
  {
   "cell_type": "code",
   "execution_count": 50,
   "id": "4714194c",
   "metadata": {},
   "outputs": [
    {
     "name": "stdout",
     "output_type": "stream",
     "text": [
      "Numpy/Torch/Random Seed:  685\n",
      "Loading model from /notebooks/rl2023/ex1/results/model/TargetReacher-v0_params.pt ...\n",
      "Testing...\n",
      "Test ep reward: 15 seed: 978\n",
      "Test ep reward: 15 seed: 161\n",
      "Test ep reward: 15 seed: 709\n",
      "Test ep reward: 16 seed: 35\n",
      "Test ep reward: 15 seed: 746\n",
      "Test ep reward: 15 seed: 215\n",
      "Test ep reward: 15 seed: 553\n",
      "Test ep reward: 15 seed: 685\n",
      "Test ep reward: 10 seed: 615\n",
      "Test ep reward: 12 seed: 460\n",
      "Average test reward: 14.3 episode length: 52.1\n"
     ]
    }
   ],
   "source": [
    "t.test(episodes=10, cfg_path=Path().cwd()/'cfg'/'reacher_v1.yaml', \n",
    "       cfg_args=dict(env_name='TargetReacher-v0', seed=None, testing=True, use_wandb=False))"
   ]
  },
  {
   "cell_type": "code",
   "execution_count": 56,
   "id": "67152513",
   "metadata": {},
   "outputs": [
    {
     "data": {
      "text/html": [
       "<video loop autoplay  >\n",
       " <source src=\"data:video/mp4;base64,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\" type=\"video/mp4\">\n",
       " Your browser does not support the video tag.\n",
       " </video>"
      ],
      "text/plain": [
       "<IPython.core.display.Video object>"
      ]
     },
     "execution_count": 56,
     "metadata": {},
     "output_type": "execute_result"
    }
   ],
   "source": [
    "Video(work_dir/'video'/'TargetReacher-v0'/'test'/f'ex1-episode-7.mp4',\n",
    "      embed=True, html_attributes=\"loop autoplay\") # Set html_attributes=\"controls\" for video control"
   ]
  },
  {
   "cell_type": "markdown",
   "id": "c384e863",
   "metadata": {},
   "source": [
    "<a id='T4'></a>\n",
    "<div class=\" alert alert-warning\">\n",
    "    <h3><b>Student Task 4.</b> Visualizing Behavior (10 points) </h3> \n",
    "\n",
    "Now, let us visualize the reward function for the second behavior (reaching the goal [1,1]). Plot the values of the second reward function from Task 3 and the learned best action as a function of the state (the joint positions). Use the code below as a starting point. After plotting, answer the questions below.\n",
    "            \n",
    "🔝\t<a href='#TOC'><b>Table of Contents</b></a>\n",
    "</div>\n"
   ]
  },
  {
   "cell_type": "code",
   "execution_count": 59,
   "id": "139b3387",
   "metadata": {
    "tags": []
   },
   "outputs": [],
   "source": [
    "import matplotlib.pyplot as plt\n",
    "import seaborn as sns\n",
    "import gymnasium as gym\n",
    "from agent import Agent, Policy"
   ]
  },
  {
   "cell_type": "code",
   "execution_count": 74,
   "id": "0035a7f8",
   "metadata": {},
   "outputs": [
    {
     "name": "stdout",
     "output_type": "stream",
     "text": [
      "Loading policy from /notebooks/rl2023/ex1/results/model/TargetReacher-v0_params.pt\n"
     ]
    }
   ],
   "source": [
    "env_name = \"TargetReacher-v0\" \n",
    "resolution = 101  # Resolution of the policy/reward image\n",
    "\n",
    "# Load policy from default path to plot\n",
    "policy_dir = Path().cwd()/'results'/'model'/f'{env_name}_params.pt'\n",
    "\n",
    "sns.set()\n",
    "\n",
    "# Create a gym environment\n",
    "env = gym.make(env_name)\n",
    "\n",
    "action_space_dim = u.get_space_dim(env.action_space)\n",
    "observation_space_dim = u.get_space_dim(env.observation_space)\n",
    "policy = Policy(observation_space_dim, action_space_dim)\n",
    "\n",
    "if policy_dir:\n",
    "    policy.load_state_dict(torch.load(policy_dir))\n",
    "    print(\"Loading policy from\", policy_dir)\n",
    "else:\n",
    "    print(\"Plotting a random policy\")"
   ]
  },
  {
   "cell_type": "code",
   "execution_count": 81,
   "id": "170a06be",
   "metadata": {},
   "outputs": [],
   "source": [
    "# Create a grid and initialize arrays to store rewards and actions\n",
    "npoints = resolution\n",
    "state_range = np.linspace(-np.pi, np.pi, npoints)\n",
    "rewards = np.zeros((npoints, npoints))\n",
    "actions = np.zeros((npoints, npoints), dtype=np.int32)\n",
    "\n",
    "# Loop through state[0] and state[1]\n",
    "for i,th1 in enumerate(state_range):\n",
    "    for j,th2 in enumerate(state_range):\n",
    "        # Create the state vector from th1, th2\n",
    "        state = np.array([th1, th2])\n",
    "\n",
    "        # Query the policy and find the most probable action\n",
    "        with torch.no_grad():\n",
    "            action_dist, _ = policy(torch.from_numpy(state).float().unsqueeze(0))\n",
    "        action_probs = action_dist.probs.numpy()\n",
    "        # if i == 1 & j == 1:\n",
    "        #     print(action_probs)\n",
    "\n",
    "        # TODO: Task 4: 1. What's the best action, according to the policy?\n",
    "        # .             2. Compute the reward given state\n",
    "        ########## Your code starts here ##########\n",
    "        # Use the action probabilities in the action_probs vector\n",
    "        # (it's a numpy array)\n",
    "        actions[i, j] = action_probs.argmax()\n",
    "        x = np.sin(th1) + np.sin(th1+th2)\n",
    "        y = -np.cos(th1) - np.cos(th1+th2)\n",
    "        x2 = np.square(x-1)\n",
    "        y2 = np.square(y-2)\n",
    "        rewards[i, j] = -np.sqrt(x2+y2)\n",
    "        ########## Your code ends here ##########\n"
   ]
  },
  {
   "cell_type": "code",
   "execution_count": 66,
   "id": "741474e8-8e6c-4257-808f-e3633e8d6e96",
   "metadata": {
    "tags": []
   },
   "outputs": [
    {
     "name": "stdout",
     "output_type": "stream",
     "text": [
      "[[0 0 0 ... 0 0 0]\n",
      " [0 0 0 ... 0 0 0]\n",
      " [0 0 0 ... 0 0 0]\n",
      " ...\n",
      " [2 2 2 ... 2 2 2]\n",
      " [2 2 2 ... 2 2 2]\n",
      " [2 2 2 ... 2 2 2]]\n"
     ]
    }
   ],
   "source": [
    "print(actions)"
   ]
  },
  {
   "cell_type": "code",
   "execution_count": 82,
   "id": "ea36aa9a",
   "metadata": {},
   "outputs": [
    {
     "data": {
      "image/png": "[encoded data removed]",
      "text/plain": [
       "<Figure size 640x480 with 2 Axes>"
      ]
     },
     "metadata": {},
     "output_type": "display_data"
    }
   ],
   "source": [
    "# Create the reward plot\n",
    "num_ticks = 10\n",
    "tick_skip = max(1, npoints // num_ticks)\n",
    "tick_shift = 2*np.pi/npoints/2\n",
    "tick_points = np.arange(npoints)[::tick_skip] + tick_shift\n",
    "tick_labels = state_range.round(2)[::tick_skip]\n",
    "\n",
    "sns.heatmap(rewards)\n",
    "plt.xticks(tick_points, tick_labels, rotation=45)\n",
    "plt.yticks(tick_points, tick_labels, rotation=45)\n",
    "plt.xlabel(\"J2\")\n",
    "plt.ylabel(\"J1\")\n",
    "plt.title(\"Reward\")\n",
    "plt.suptitle(\"Rewards in %s\" % env_name)\n",
    "plt.show()\n"
   ]
  },
  {
   "cell_type": "code",
   "execution_count": 72,
   "id": "99f6c89a",
   "metadata": {},
   "outputs": [
    {
     "data": {
      "image/png": "[encoded data removed]",
      "text/plain": [
       "<Figure size 640x480 with 2 Axes>"
      ]
     },
     "metadata": {},
     "output_type": "display_data"
    }
   ],
   "source": [
    "# # Create the policy plot\n",
    "cmap = sns.color_palette(\"deep\", action_space_dim)\n",
    "sns.heatmap(actions, cmap=cmap, vmin=0, vmax=action_space_dim-1)\n",
    "plt.xticks(tick_points, tick_labels, rotation=45)\n",
    "plt.yticks(tick_points, tick_labels, rotation=45)\n",
    "colorbar = plt.gca().collections[0].colorbar\n",
    "ticks = np.array(range(action_space_dim))*((action_space_dim-1)/action_space_dim)+0.5\n",
    "colorbar.set_ticks(ticks)\n",
    "if env.spec.id == \"Reacher-v1\":\n",
    "    # In Reacher, we can replace 0..4 with more readable labels\n",
    "    labels = [\"J1+\", \"J1-\", \"J2+\", \"J2-\", \"Stop\"]\n",
    "else:\n",
    "    labels = list(map(str, range(action_space_dim)))\n",
    "colorbar.set_ticklabels(labels)\n",
    "plt.xlabel(\"J2\")\n",
    "plt.ylabel(\"J1\")\n",
    "plt.title(\"Best action\")\n",
    "plt.suptitle(\"Best action in %s\" % env_name)\n",
    "plt.show()"
   ]
  },
  {
   "cell_type": "markdown",
   "id": "c45dc911",
   "metadata": {},
   "source": [
    "<a id='3.2.1'></a>\n",
    "<div class=\" alert alert-warning\">\n",
    "    <h3><b>Student Question 4.1</b> Achieved Performance (5 points) </h3> \n",
    "\n",
    "Where are the highest and lowest reward achieved?\n",
    "            \n",
    "🔝\t<a href='#TOC'><b>Table of Contents</b></a>\n",
    "</div>\n"
   ]
  },
  {
   "cell_type": "code",
   "execution_count": 85,
   "id": "3bfcb44f-7369-48f9-b0f1-3242fdec3fd1",
   "metadata": {
    "tags": []
   },
   "outputs": [
    {
     "name": "stdout",
     "output_type": "stream",
     "text": [
      "lowest reward: -4.235768358395965, highest reward: -0.23759754940536468\n"
     ]
    }
   ],
   "source": [
    "print(f'lowest reward: {rewards.min()}, highest reward: {rewards.max()}')"
   ]
  },
  {
   "cell_type": "markdown",
   "id": "f77cbd95",
   "metadata": {},
   "source": [
    "<a id='Q5'></a>\n",
    "<div class=\" alert alert-warning\">\n",
    "    <h3><b>Student Question 4.2</b> Analysis of Behaviour (10 points) </h3> \n",
    "\n",
    "Did the policy learn to reach the goal from every possible state (manipulator configuration) in an optimal way (i.e. with lowest possible number of steps)? Why/why not?\n",
    "            \n",
    "🔝\t<a href='#TOC'><b>Table of Contents</b></a>\n",
    "</div>"
   ]
  },
  {
   "cell_type": "markdown",
   "id": "f5b2b7fd",
   "metadata": {},
   "source": [
    "From the video it seems that the robot is choosing the shortest path towards the target and the negative distance rewards design encourage the agent to choose the shortest path so I'd argue it's using the optimal policy."
   ]
  },
  {
   "cell_type": "markdown",
   "id": "4c50da4d",
   "metadata": {},
   "source": [
    "# 4. Submitting <a id='4.'></a>\n",
    "Ensure all tasks and questions (in ```ex1.ipynb```) are answered and the relevant plots are recorded in the relevant places. Details about attaching images and figures can be found below. The relevant graphs to be included for this assignment are:\n",
    "- Task 1, WandB CartPole ```episodesep_reward``` plot\n",
    "- x2 Task 4 reward plots\n",
    "\n",
    "Ensure the correct model files are saved:\n",
    "- results/model/CartPole-v1_params.pt\n",
    "- results/model/SpinningReacher-v0_params.pt\n",
    "- results/model/TargetReacher-v0_params.pt"
   ]
  },
  {
   "cell_type": "markdown",
   "id": "ad098b5f",
   "metadata": {},
   "source": [
    "## 4.1 Feedback <a id='4.1'></a>\n",
    "In order to help the staff of the course as well as the forthcoming students, it would be great if you could\n",
    "answer feedback questionnaire in ```feedback.ipynb```"
   ]
  },
  {
   "cell_type": "markdown",
   "id": "e3f5f8d4",
   "metadata": {},
   "source": [
    "Please use the following section to record references.\n",
    "# References <a id='5.'></a>"
   ]
  },
  {
   "cell_type": "code",
   "execution_count": null,
   "id": "77d46fb7",
   "metadata": {},
   "outputs": [],
   "source": []
  }
 ],
 "metadata": {
  "kernelspec": {
   "display_name": "Python 3",
   "language": "python",
   "name": "python3"
  },
  "language_info": {
   "codemirror_mode": {
    "name": "ipython",
    "version": 3
   },
   "file_extension": ".py",
   "mimetype": "text/x-python",
   "name": "python",
   "nbconvert_exporter": "python",
   "pygments_lexer": "ipython3",
   "version": "3.10.8"
  }
 },
 "nbformat": 4,
 "nbformat_minor": 5
}
