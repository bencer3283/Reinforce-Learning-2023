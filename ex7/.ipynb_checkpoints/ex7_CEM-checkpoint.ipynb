{
 "cells": [
  {
   "cell_type": "markdown",
   "id": "332ba632",
   "metadata": {},
   "source": [
    "\n",
    "<div class=\"alert alert-block alert-info\">\n",
    "   <h2 align=\"center\"> <center><b> Reinforcement Learning Assignment 7 - Model Based Reinforcement Learning </b></center></h2>\n",
    "\n",
    "<br>\n",
    "<center><font size=\"3\">This notebook is a part of teaching material for ELEC-E8125</font></center>\n",
    "<center><font size=\"3\">Sep 4, 2023 - Nov 30, 2023</font></center>\n",
    "<center><font size=\"3\">Aalto University</font></center>\n",
    "</div>\n",
    "\n",
    "\n",
    "<a id='TOC'></a>\n",
    "\n",
    "<div class=\"alert alert-block alert-success\">\n",
    "    \n",
    "# Table of contents\n",
    "* <a href='#1.'> 1. Introduction </a>\n",
    "* <a href='#1.1'> 1.1 Learning Objectives </a>\n",
    "* <a href='#1.2'> 1.2 Code Structure & Files </a>\n",
    "* <a href='#2.'> 2. Cross Entropy Method (CEM) </a>\n",
    "* <a href='#3.'> 3. Submitting </a>\n",
    "* <a href='#3.1'> 3.1 Feedback </a>\n",
    "* <a href='#4.'> References</a>\n",
    "\n",
    "<a href='#T1'><b>Student Task 1.</b> Implementing CEM (30 points)</a>\\\n",
    "<a href='#Q1'><b>Student Question 1.1</b> Changing Number of Samples (10 points)</a>\\\n",
    "<a href='#Q2'><b>Student Question 1.2</b> Model-free vs Mode-based RL (20 points)</a>\n",
    "    \n",
    "**Total Points:** 60"
   ]
  },
  {
   "cell_type": "markdown",
   "id": "013318a6",
   "metadata": {},
   "source": [
    "# 1. Introduction <a id='1.'></a>\n",
    "In this exercise we will dive into model-based reinforcement learning. We will implement planning over several time steps. We will use the cross entropy method (CEM) to choose actions at each time step. CEM is often used in model-based reinforcement learning for choosing actions. The main working principles of CEM were explained during the lecture \"Model-based RL\". We use the simulator to simulate state transitions (another possibility would be to learn a dynamics model $s_{t+1} = f(s_t, a_t)$ to simulate state transitions if access to the system dynamics is not available).\n",
    "\n",
    "## 1.1 Learning Objectives: <a id='1.1'></a>\n",
    "- Understand how to get CEM planning working in practice\n",
    "- Understand limitations and advantages of model-based RL using CEM\n",
    "\n",
    "## 1.2 Code Structure & Files <a id='1.2'></a>\n",
    "\n",
    "You don’t have to edit any other file other than ```ex7.ipynb``` to complete this exercise.\n",
    "\n",
    "```\n",
    "├───imgs                 # Images used in notebook\n",
    "│   ex7_CEM.ipynb        # Main assignment file containing tasks <---------\n",
    "│   env.py               # Wrappers for the environment\n",
    "|   simulator.py         # Using the exact environment as the model (simulator)\n",
    "```"
   ]
  },
  {
   "cell_type": "markdown",
   "id": "5197a537",
   "metadata": {},
   "source": [
    "# 2. Cross Entropy Method (CEM) <a id='2.'></a>\n",
    "\n",
    "In this section, we will try to solve the **Cup-Catch** environment from the [DeepMind Control Suite](https://github.com/deepmind/dm_control/tree/main/dm_control/suite) by planning using CEM. \n",
    "\n",
    "In **Cup-Catch**, a ball is attached to a string which hangs from a cup. The goal is to swing the ball into the cup by moving the cup vertically up and down. The task has a sparse reward: 1 when the ball is in the cup, 0 otherwise. In order to save computation time we select an action every six time steps and use a wrapper to repeat the same action 6 times. Therefore, the maximum reward for each actual time step is 6.\n",
    "\n",
    "<br>\n",
    "\n",
    "<div style=\"text-align: center;\">\n",
    "    <img src=\"imgs/cup_catcher.png\" width=\"400px\">\n",
    "    <figcaption> Figure 1: Cup-Catch environment </figcaption>\n",
    "</div>"
   ]
  },
  {
   "cell_type": "markdown",
   "id": "3e72ec92",
   "metadata": {},
   "source": [
    "<a id='T1'></a>\n",
    "<div class=\" alert alert-warning\">\n",
    "    <h3><b>Student Task 1.</b> Implementing CEM (30 points) </h3> \n",
    "\n",
    "You need to complete the planning part in the code marked as ```TODO```. The code takes advantage of multiple processor cores by parallelizing the code. For more information about parallelizing, please check [Joblib](https://joblib.readthedocs.io/en/latest/generated/joblib.Parallel.html). <br>\n",
    "    \n",
    "**Ensure that the notebook contains the reward plot.** \n",
    "\n",
    "The reference training plot is as Figure 2:\n",
    "\n",
    "<div style=\"text-align: center;\">\n",
    "    <img src=\"imgs/cem_reward.png\">\n",
    "    <figcaption> Figure 2: Reward function at each time step in CEM </figcaption>\n",
    "</div>\n",
    "            \n",
    "🔝\t<a href='#TOC'><b>Table of Contents</b></a>\n",
    "</div>\n"
   ]
  },
  {
   "cell_type": "code",
   "execution_count": 1,
   "id": "eb546a87",
   "metadata": {
    "tags": []
   },
   "outputs": [],
   "source": [
    "from pathlib import Path # to find directory\n",
    "import sys, os\n",
    "sys.path.append(\"..\")\n",
    "\n",
    "from typing import Sequence, Tuple, Dict, Callable, List\n",
    "from functools import partial\n",
    "import copy, torch, time\n",
    "from joblib import Parallel, delayed\n",
    "import numpy as np\n",
    "\n",
    "from env import make_env\n",
    "from simulator import SimulatorWrapper\n",
    "import matplotlib.pyplot as plt"
   ]
  },
  {
   "cell_type": "code",
   "execution_count": 2,
   "id": "60671443-30df-4a7c-bffc-2e88a1fb70c7",
   "metadata": {
    "tags": []
   },
   "outputs": [],
   "source": [
    "%%capture\n",
    "!pip install mediapy # install a package required for video visualization"
   ]
  },
  {
   "cell_type": "code",
   "execution_count": 102,
   "id": "47668253",
   "metadata": {
    "tags": []
   },
   "outputs": [],
   "source": [
    "class CEM(object):\n",
    "    def __init__(\n",
    "        self, \n",
    "        model,\n",
    "        action_shape,\n",
    "        num_samples,\n",
    "        num_topk,\n",
    "        plan_horizon,\n",
    "        iteration,\n",
    "        keep_last_solution,\n",
    "        expl_noise\n",
    "    ):\n",
    "\n",
    "        self.model = model # the dynamics model\n",
    "\n",
    "        self.action_dim = action_shape[0]\n",
    "        self.num_samples = num_samples\n",
    "        self.num_topk = num_topk\n",
    "        self.plan_horizon = plan_horizon\n",
    "        self.iteration = iteration\n",
    "        self.keep_last_solution = keep_last_solution\n",
    "        self.expl_noise = expl_noise\n",
    "\n",
    "        # init simulator\n",
    "        o = self.model.reset()\n",
    "        self.model.save_checkpoint()\n",
    "        \n",
    "    def plan(self, obs, t0, eval_mode=False):\n",
    "        if obs.ndim == 1: obs = obs[None] # add batch dim\n",
    "        # initialize paramters\n",
    "        mean = np.zeros((self.plan_horizon, self.action_dim))\n",
    "        std = np.ones_like(mean)\n",
    "        # use previous plan as start point if not at the first step\n",
    "        if not t0 and hasattr(self, \"_prev_mean\"):\n",
    "            mean[:-1] = copy.copy(self._prev_mean[1:])\n",
    "        with Parallel(n_jobs=-1,) as parallel:  # we use joblib.Parallel to parallel the evaluation.\n",
    "            # Iterate CEM\n",
    "            for _ in range(self.iteration):\n",
    "                # TODO: Implement Cross-Entropy Method\n",
    "                \n",
    "                # Hints: \n",
    "                # 1. Generate random actions using Gaussian distribution with mean and std as parameters. \n",
    "                #    Use self.num_samples as the number of samples. Clip the samples to (-1, 1).\n",
    "                # 2. Perform Monte Carlo evaluation by computing the episode return for each sample using self.model as follows:\n",
    "                #    2.1. Use parallel(delayed(rollout_simulator)(self.model, action_sample) for each sample from 1.\n",
    "                # 3. Select top self.num_topk actions (elite actions) using episode returns from 2.1. Use numpy.argpartition.\n",
    "                # 4. Compute mean and std of elite actions and assign it to mean and std used in 1.\n",
    "                \n",
    "                ########## Your code starts here. ##########\n",
    "                actions = np.random.normal(mean, std, (self.num_samples, mean.shape[0], mean.shape[1]))\n",
    "                np.clip(actions, -1, 1, actions)\n",
    "                returns = parallel(delayed(rollout_simulator)(self.model, action) for action in actions)\n",
    "                returns = np.array(returns)\n",
    "                topk_actions = actions[np.argpartition(returns, -self.num_topk)[-self.num_topk:]]\n",
    "                mean = topk_actions.mean(axis=0)\n",
    "                std = topk_actions.std(axis=0)\n",
    "                #print(returns, '\\n', topk_actions, '\\n', mean, '\\n', std, '\\n')\n",
    "                ########## Your code ends here. ##########\n",
    "\n",
    "        if self.keep_last_solution:\n",
    "            self._prev_mean = mean\n",
    "\n",
    "        # select the first action in the planed horizon\n",
    "        action, std = mean[0], std[0]\n",
    "\n",
    "        if not eval_mode:\n",
    "            action += self.expl_noise * np.random.randn(action.shape)\n",
    "\n",
    "        # update the simulator state since simulator is used to do planning\n",
    "        next_obs, reward, done, info = self.model.step(action)\n",
    "        self.model.save_checkpoint()\n",
    "        \n",
    "        return action, info  \n",
    "        \n",
    "\n",
    "def rollout_simulator(model, traj):\n",
    "    model.load_checkpoint()\n",
    "\n",
    "    terminated, episode_return = False, 0\n",
    "    for act in traj:\n",
    "        obs, reward, done, _ = model.step(act)\n",
    "        reward = 0 if terminated else reward\n",
    "\n",
    "        terminated |= bool(done)\n",
    "        episode_return += reward\n",
    "        \n",
    "        if done: \n",
    "            break\n",
    "        \n",
    "    return episode_return"
   ]
  },
  {
   "cell_type": "code",
   "execution_count": 103,
   "id": "ee0dfc4a",
   "metadata": {
    "scrolled": true,
    "tags": []
   },
   "outputs": [],
   "source": [
    "# Note because of the action repeat a reward of 6 can be achieved from multiple steps being taken where the ball in the cup\n",
    "eval_env = make_env(\n",
    "    env_name='cup-catch',\n",
    "    seed=1,\n",
    "    action_repeat=6,\n",
    "    modality='pixels', \n",
    "    frame_stack=1,\n",
    "    img_size=(240, 320)\n",
    ")\n",
    "\n",
    "model_env = make_env(\n",
    "    env_name='cup-catch',\n",
    "    seed=1,\n",
    "    action_repeat=6\n",
    ")\n",
    "\n",
    "obs_shape = tuple(int(x) for x in eval_env.observation_space.shape)\n",
    "action_shape = tuple(int(x)  for x in eval_env.action_space.shape)\n",
    "\n",
    "model = SimulatorWrapper(model_env)\n",
    "\n",
    "agent = CEM(\n",
    "    model=model,\n",
    "    action_shape = action_shape,\n",
    "    num_samples=50,\n",
    "    num_topk=5,\n",
    "    plan_horizon=12,\n",
    "    iteration=5,\n",
    "    keep_last_solution=True,\n",
    "    expl_noise=0.3\n",
    ")"
   ]
  },
  {
   "cell_type": "code",
   "execution_count": 104,
   "id": "d2c5bdc7-3a44-4c6e-9f27-d9550b9cc0a8",
   "metadata": {
    "scrolled": true,
    "tags": []
   },
   "outputs": [
    {
     "name": "stdout",
     "output_type": "stream",
     "text": [
      "Timestep: 0 Reward: 0.0\n",
      "Timestep: 1 Reward: 0.0\n",
      "Timestep: 2 Reward: 0.0\n",
      "Timestep: 3 Reward: 0.0\n",
      "Timestep: 4 Reward: 0.0\n",
      "Timestep: 5 Reward: 0.0\n",
      "Timestep: 6 Reward: 6.0\n",
      "Timestep: 7 Reward: 6.0\n",
      "Timestep: 8 Reward: 6.0\n",
      "Timestep: 9 Reward: 6.0\n",
      "Timestep: 10 Reward: 6.0\n",
      "Timestep: 11 Reward: 6.0\n",
      "Timestep: 12 Reward: 6.0\n",
      "Timestep: 13 Reward: 6.0\n",
      "Timestep: 14 Reward: 6.0\n",
      "Timestep: 15 Reward: 6.0\n",
      "Timestep: 16 Reward: 6.0\n",
      "Timestep: 17 Reward: 6.0\n",
      "Timestep: 18 Reward: 6.0\n",
      "Timestep: 19 Reward: 6.0\n"
     ]
    }
   ],
   "source": [
    "obs, done, ep_reward, t = eval_env.reset(), False, 0, 0\n",
    "rewards, observations = [], []\n",
    "while not done and t < 20:\n",
    "    action, info = agent.plan(obs, eval_mode=True, t0=(t==0))\n",
    "    obs, reward, done, _ = eval_env.step(action)\n",
    "    rewards.append(reward)\n",
    "    observations.append(obs)\n",
    "    \n",
    "    print(f'Timestep: {t} Reward: {reward}')\n",
    "    ep_reward += reward\n",
    "\n",
    "    t += 1"
   ]
  },
  {
   "cell_type": "code",
   "execution_count": 105,
   "id": "b4399036-8ac8-450e-8abc-924b7cdb0d04",
   "metadata": {
    "tags": []
   },
   "outputs": [],
   "source": [
    "import mediapy \n",
    "mediapy.write_video('video.mp4', [observations[i].transpose(1, 2, 0) for i in range(len(observations))], fps=10)"
   ]
  },
  {
   "cell_type": "code",
   "execution_count": 107,
   "id": "04b4f167-2f92-4239-aca4-da38c0923882",
   "metadata": {
    "tags": []
   },
   "outputs": [
    {
     "data": {
      "text/html": [
       "<video controls  >\n",
       " <source src=\"data:video/mp4;base64,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\" type=\"video/mp4\">\n",
       " Your browser does not support the video tag.\n",
       " </video>"
      ],
      "text/plain": [
       "<IPython.core.display.Video object>"
      ]
     },
     "execution_count": 107,
     "metadata": {},
     "output_type": "execute_result"
    }
   ],
   "source": [
    "from IPython.display import Video # to display videos\n",
    "Video(Path().cwd()/'video.mp4', embed=True)"
   ]
  },
  {
   "cell_type": "code",
   "execution_count": 108,
   "id": "1aabdf29-028e-41af-b8fc-57e5eee59c08",
   "metadata": {
    "tags": []
   },
   "outputs": [
    {
     "data": {
      "image/png": "[encoded data removed]",
      "text/plain": [
       "<Figure size 600x400 with 1 Axes>"
      ]
     },
     "metadata": {},
     "output_type": "display_data"
    }
   ],
   "source": [
    "plt.figure(figsize=(6, 4))\n",
    "plt.plot(rewards, linewidth=1.2, color='b')\n",
    "plt.xticks(list(range(0, len(rewards), 2)))\n",
    "plt.xlabel('Time step', fontsize=10)\n",
    "plt.ylabel('Reward', fontsize=10)\n",
    "plt.show()"
   ]
  },
  {
   "cell_type": "markdown",
   "id": "5f76b6fa",
   "metadata": {},
   "source": [
    "<a id='Q1'></a>\n",
    "<div class=\" alert alert-warning\">\n",
    "    <h3><b>Student Question 1</b> Changing Number of Samples (5 points)</h3> \n",
    "\n",
    "Discuss the effect of changing the __number of samples__. How can this affect the performance and running time?            \n",
    "🔝\t<a href='#TOC'><b>Table of Contents</b></a>\n",
    "</div>"
   ]
  },
  {
   "cell_type": "markdown",
   "id": "9496c2df",
   "metadata": {},
   "source": [
    "Increasing the number of smaples have a potential benefit of choosing a better action and thus improve the performance. However, the computation cost will be higher.  "
   ]
  },
  {
   "cell_type": "markdown",
   "id": "0611beaf",
   "metadata": {},
   "source": [
    "<a id='Q2'></a>\n",
    "<div class=\" alert alert-warning\">\n",
    "    <h3><b>Student Question 1.2</b> Model-free vs Mode-based RL (20 points)</h3> \n",
    "\n",
    "Assume that the dynamics model $s_{t+1} = f(s_t, a_t)$ (when using a probabilistic dynamics model $P(s_{t+1}| s_t, a_t)$) and reward model $R(s_t, a_t)$ are learned from data during training. CEM with learned models can be used to solve similar tasks as model-free reinforcement learning methods such as DDPG.\n",
    "<br>\n",
    "In what kind of tasks do you expect CEM with learned models to work better than DDPG? In which kind of tasks do you expect DDPG to work better than CEM with learned models in terms of performance and training time? Why?\n",
    "<br>\n",
    "Which parts of CEM with a learned dynamics model need to be taken into account when considering computation time and why?\n",
    "    \n",
    "🔝\t<a href='#TOC'><b>Table of Contents</b></a>\n",
    "</div>"
   ]
  },
  {
   "cell_type": "markdown",
   "id": "6a3d8a7e-4bb1-463e-88ab-62270e20d05e",
   "metadata": {},
   "source": [
    "In case where the dynamics model is relatively simple to learn i.e. have a small state space, CEM with learned model can be much more efficient and have better performance than model-free methods like DDPG.\n",
    "If the model has a very big state space and its transitionreward is very complex to calculate, CEM with learned model will struggle to learn the model well and the evaluation of reward through the model will also be time consuming. In this case model-free learning will be more efficient and better."
   ]
  },
  {
   "cell_type": "markdown",
   "id": "7e950c66-7183-4d2e-afad-76d44e87ea7e",
   "metadata": {
    "tags": []
   },
   "source": [
    "# 3. Submitting <a id='3.'></a>\n",
    "Ensure all tasks and questions (in ```ex7_MCTS.ipynb```) are answered and the relevant plots are recorded in the relevant places. "
   ]
  },
  {
   "cell_type": "markdown",
   "id": "b3e25649-58a0-448c-9fbc-7e055b20bc84",
   "metadata": {},
   "source": [
    "## 3.1 Feedback <a id='3.1'></a>\n",
    "\n",
    "In order to help the staff of the course as well as the forthcoming students, it would be great if you could answer to the following questions in your submission:"
   ]
  },
  {
   "cell_type": "markdown",
   "id": "d7eb0232-db2a-4e14-b075-9ef187b43b4b",
   "metadata": {},
   "source": [
    "1) How much time did you spend solving this exercise? (change the ```hrs``` variable below to a floating point number representing the number of hours taken e.g. 5.43)\n"
   ]
  },
  {
   "cell_type": "code",
   "execution_count": null,
   "id": "eac81f90-8902-4ed9-922b-b8ded5327c8f",
   "metadata": {},
   "outputs": [],
   "source": [
    "hrs = None"
   ]
  },
  {
   "cell_type": "markdown",
   "id": "52473cec-5ab3-439f-97ee-85c8796ec469",
   "metadata": {},
   "source": [
    "2) Difficulty of each task/question from 1-5 (int or float)"
   ]
  },
  {
   "cell_type": "code",
   "execution_count": null,
   "id": "d71b2268-cbe3-4df8-a6d0-665aa425f738",
   "metadata": {},
   "outputs": [],
   "source": [
    "T1 = None # Student Task 1. Implementing CEM\n",
    "Q1 = None # Question 1.1: Number of samples\n",
    "Q2 = None # Question 2.1: Model-free vs Model-based"
   ]
  },
  {
   "cell_type": "markdown",
   "id": "52f3e791-b9fc-479c-871d-df4c85ab7dce",
   "metadata": {},
   "source": [
    "3) How well did you understand the content of the task/question from 1-5? (int or float)\n"
   ]
  },
  {
   "cell_type": "code",
   "execution_count": null,
   "id": "62c8c9dd-26cb-4188-90e1-b7fad675da51",
   "metadata": {},
   "outputs": [],
   "source": [
    "T1 = None # Student Task 1. Implementing CEM\n",
    "Q1 = None # Question 1.1: Number of samples\n",
    "Q2 = None # Question 2.1: Model-free vs Model-based"
   ]
  },
  {
   "cell_type": "markdown",
   "id": "3f11c47c-3716-4642-adc5-c4569ac5fd8f",
   "metadata": {},
   "source": [
    "4) General feedback. Consider questions like:\n",
    "\n",
    "    - Did the content of the lecture relate well with the assignment?\n",
    "    - To what extent did you find the material to be potentially useful for your research and studies?\n",
    "    \n",
    "And other feedback you think is worth including. Type in the box below"
   ]
  },
  {
   "cell_type": "markdown",
   "id": "8f9fd0e4-b0fe-4b59-8c8a-c0a51c24d5fe",
   "metadata": {
    "tags": []
   },
   "source": [
    "Please use the following section to record references.\n",
    "# References <a id='4.'></a>\n",
    "\n"
   ]
  },
  {
   "cell_type": "markdown",
   "id": "2552605a-ecef-401e-ae00-7a7009725bd4",
   "metadata": {},
   "source": []
  },
  {
   "cell_type": "markdown",
   "id": "8cb61e66",
   "metadata": {},
   "source": [
    "## 3.1 Feedback <a id='3.1'></a>\n",
    "In order to help the staff of the course as well as the forthcoming students, it would be great if you could\n",
    "answer feedback questionnaire in ```feedback.ipynb```"
   ]
  }
 ],
 "metadata": {
  "kernelspec": {
   "display_name": "Python 3",
   "language": "python",
   "name": "python3"
  },
  "language_info": {
   "codemirror_mode": {
    "name": "ipython",
    "version": 3
   },
   "file_extension": ".py",
   "mimetype": "text/x-python",
   "name": "python",
   "nbconvert_exporter": "python",
   "pygments_lexer": "ipython3",
   "version": "3.10.8"
  }
 },
 "nbformat": 4,
 "nbformat_minor": 5
}
