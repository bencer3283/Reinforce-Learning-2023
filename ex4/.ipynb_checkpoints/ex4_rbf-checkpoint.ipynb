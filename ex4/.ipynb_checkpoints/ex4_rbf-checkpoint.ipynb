{
 "cells": [
  {
   "cell_type": "markdown",
   "id": "53274fb5",
   "metadata": {},
   "source": [
    "\n",
    "<div class=\"alert alert-block alert-info\">\n",
    "   <h2 align=\"center\"> <center><b> Reinforcement Learning Assignment 4 - Function Approximators Part 1: Radial Basis Functions </b></center></h2>\n",
    "\n",
    "<br>\n",
    "<center><font size=\"3\">This notebook is a part of teaching material for ELEC-E8125</font></center>\n",
    "<center><font size=\"3\">Sep 4, 2023 - Nov 30, 2023</font></center>\n",
    "<center><font size=\"3\">Aalto University</font></center>\n",
    "</div>\n",
    "\n",
    "\n",
    "<a id='TOC'></a>\n",
    "\n",
    "<div class=\"alert alert-block alert-success\">\n",
    "    \n",
    "# Table of contents\n",
    "* <a href='#1.'> 1. Introduction </a>\n",
    "* <a href='#1.1'> 1.1 Task environments </a>\n",
    "* <a href='#1.2'> 1.2 Learning Objectives </a>\n",
    "* <a href='#1.3'> 1.3 Code Structure & Files </a>\n",
    "* <a href='#2.'> 2. Approximate with non-linear features</a>\n",
    "* <a href='#2.1'> 2.1 Radial Basis Functions</a>\n",
    "* <a href='#2.2'> 2.2 Sklearn RBF function</a>\n",
    "* <a href='#3.'> 3. Submitting </a>\n",
    "* <a href='#3.1'> 3.1 Feedback </a>\n",
    "\n",
    "<a href='#T1'><b>Student Task 1.</b> Implementing Q-learning using Function Approximation (20 points) </a>\\\n",
    "<a href='#Q1'><b>Student Question 1.1</b> Considering Linear Features (10 points) </a>\\\n",
    "<a href='#Q2'><b>Student Question 1.2</b> Experience Replay Buffer (10 points) </a>\\\n",
    "<a href='#Q3'><b>Student Question 1.3</b> Grid-based vs Function Approximators (10 points) </a>\\\n",
    "<a href='#T2'><b>Student Task 2.</b> Visualizing the Policy (10 points)</a>\n",
    "    \n",
    "**Total Points:** 60"
   ]
  },
  {
   "cell_type": "markdown",
   "id": "c30395ea",
   "metadata": {},
   "source": [
    "# 1. Introduction <a id='1.'></a>\n",
    "\n",
    "In many real world scenarios, the dimensionality of the state space may be too high to compute and store the Q-values for each possible state and action in a Q-table. Instead, the state value and action value functions can be learned by using a function approximator, such as a radial basis functions (RBFs). In this exercise, you will start with handcrafted features and then move to radial basis functions in the **Cartpole** environment.\n",
    "\n",
    "\n",
    "<figure style=\"text-align: center\">\n",
    "<img src=\"imgs/cartpole.png\" width=\"300px\">\n",
    "<figcaption style=\"text-align: center\"> Figure 1: The Cartpole environment. </figcaption>\n",
    "</figure>\n",
    "\n",
    "Useful Sources:\n",
    "\n",
    "- Sutton, Richard S., and Andrew G. Barto. \"Reinforcement Learning: An Introduction (in progress).\" London, England (2017). http://incompleteideas.net/book/RLbook2018.pdf\n",
    "\n",
    "## 1.1 Task environments <a id='1.1'></a>\n",
    "\n",
    "In this part, we will specifically use RBF-based Q-learning to solve cartpole task. In this environment, a pole is attached by an un-actuated joint to a cart, which moves along a frictionless track. The pendulum is placed upright on the cart and the goal is to balance the pole by applying forces in the left and right direction on the cart. \n",
    "\n",
    "You can find the detailed description of the task through this link: https://gymnasium.farama.org/environments/classic_control/cart_pole/\n",
    "\n",
    "\n",
    "## 1.2 Learning Objectives: <a id='1.2'></a>\n",
    "- Understand why and how function approximators can be used for Q-learning\n",
    "- Develop intuition behind function approximators: radial basis functions\n",
    "\n",
    "## 1.3 Code Structure & Files <a id='1.3'></a>\n",
    "\n",
    "```ex4_rbf.ipynb``` is the file needed to be modified for this part of the assignment. \n",
    "\n",
    "<span style=\"color:red\"> **# IMPORTANT: DO NOT FORGET ANOTHER TASK IN ```ex4_dqn.ipynb```** </span>\n",
    "\n",
    "```\n",
    "├───cfg                            # Config files for environments\n",
    "├───imgs                           # Images used in notebook\n",
    "├───results\n",
    "│   └───CartPole-v1\n",
    "│   │   ├───logging                \n",
    "│   │   │    └───logging.pkl        # Contains logged data\n",
    "│   │   ├───model              \n",
    "│   │   │    └───*dqn.pt            # Contains trained model for dqn task\n",
    "│   │   │    └───*rbf.pkl           # Contains trained model for rbf task\n",
    "│   │   └───video                   # Videos saved\n",
    "│   │   └───*cartpole_rbf.png       # Contains training performance plot for rbd\n",
    "│   │   └───*cartpole_hd.png        # Contains training performance plot for handcrafted feature\n",
    "│   └───LunarLander-v2\n",
    "│   ex4_dqn.ipynb                   # 2nd assignment file containing tasks <---------\n",
    "│   ex4_rbf.ipynb                   # 1st assignment file containing tasks <---------This task\n",
    "│   train.py                        # Contains train and test functions \n",
    "│   utils.py                        # Contains useful functions \n",
    "└───buffer.py                       # Contains buffer functions\n",
    "```\n",
    "\n"
   ]
  },
  {
   "cell_type": "markdown",
   "id": "5b3c5f5c",
   "metadata": {
    "tags": []
   },
   "source": [
    "# 2. Approximate with non-linear features <a id='2.'></a>\n",
    "## 2.1 Radial Basis Functions <a id='2.1'></a>\n",
    "A radial basis function (RBF) is a real-valued function $\\phi$ that maps a vector $\\boldsymbol{x} \\in \\mathbb{R}^d$ into a real-value $\\phi : \\mathbb{R}^d \\mapsto \\mathbb{R}$. The RBF $\\phi(\\boldsymbol{x} )$ = $\\phi(||\\boldsymbol{x} ||)$ acts on a distance (radial) and a basis function $\\phi$ (e.g. Gaussian function). The RBFs are commonly used as kernels in machine learning. The RBF kernel is defined as a $K(\\boldsymbol{x} , \\boldsymbol{x} ′) = 〈\\phi(\\boldsymbol{x}),\\phi(\\boldsymbol{x}′)〉$, where $\\phi$ is the Gaussian function. Therefore, the RBF kernel is defined as\n",
    "\n",
    "$$\n",
    "K\\left(\\boldsymbol{x}, \\boldsymbol{x}^{\\prime}\\right)=\\exp \\left(-\\frac{-\\left\\|\\boldsymbol{x}-\\boldsymbol{x}^{\\prime}\\right\\|^2}{2 \\sigma^2}\\right)\n",
    "$$\n",
    "\n",
    "where the parameter $\\phi^2$ is the variance and gives shape to the Gaussian function. \n",
    "\n",
    "On the exercise you are given a ```featurizer``` which uses an ```RBFSampler```. The ```RBFSampler``` uses a Monte Carlo approximation of the RBF kernel and generates samples with the specified variance. The ```RBFSampler``` has been trained on a predefined dataset. Thus, the RBF kernel will map the state $x \\in \\mathbb{R}$ d to the distance to the trained dataset. Therefore, an input state will be transformed to as many features as samples $N$ are specified in the ```RBFSampler``` $\\phi : \\mathbb{R}^d \\mapsto \\mathbb{R}^N $. \n",
    "\n",
    "In a nutshell, the ```featurizer``` function maps low-dimensional states to a high-dimensional representation, which reveals properties that haven’t been shown in the original low-dimensional space, e.g., for the Cartpole environment, it maps the original four-dimensional states to a 230-dimensional vector.\n",
    "\n",
    "## 2.2 Sklearn RBF function<a id='2.2'></a>\n",
    "In this excercise, we use scikit-learn library to implement the RBF approximation by doing following steps:\n",
    "\n",
    "- RBFSampler: A RBF kernel will map feature into higher dimensions using random Fourier features.\n",
    "- FeatureUnion: Concatenates results of multiple transformer objects.\n",
    "- SGDRegressor: Linear model fitted by minimizing a regularized empirical loss with SGD.\n",
    "\n",
    "\n"
   ]
  },
  {
   "cell_type": "markdown",
   "id": "5511d36c",
   "metadata": {},
   "source": [
    "<a id='T1'></a>\n",
    "<div class=\" alert alert-warning\">\n",
    "    <h3><b>Student Task 1.</b> Implementing Q-learning using Function Approximation (20 points) </h3> \n",
    "\n",
    "Implement Q-learning using function approximation. Also implement $\\epsilon$-greedy action selection. Test two different features for state representations:\n",
    "\n",
    "&nbsp;&nbsp;&nbsp;&nbsp;&nbsp;(a) handcrafted feature vector $\\phi(s) = [s, |s|]^T$,(use the ```featurizer``` inside the ```RBFAgent``` class).\n",
    "\n",
    "&nbsp;&nbsp;&nbsp;&nbsp;&nbsp;(b) radial basis function representations (use the ```featurizer``` inside the ```RBFAgent``` class).\n",
    "\n",
    "For this task you need to modify functions ```featurize```, ```get_action```, and ```update``` inside the ```RBFAgent``` class. Test the implementation on the Cartpole environment by running the ```train(agent)``` script with default configs. You can test the trained model with the ```test(agent, cfg_args=dict(save_video=true))``` script. \n",
    "    \n",
    "**See Figure 2 for an example training performance plot for Task1(b). Save the training performance plots for both (a) and (b), and check if they are in the right place (the paths please refer to <a href='#3.'>Submitting<a>).**\n",
    "\n",
    "<figure style=\"text-align: center\">\n",
    "<img src=\"imgs/rbf.png\" width=\"300px\">\n",
    "<figcaption style=\"text-align: center\">Figure 2: The training performance plot for Task 1 (b) might look something like this.</figcaption>\n",
    "</figure>\n",
    "    \n",
    "🔝\t<a href='#TOC'><b>Table of Contents</b></a>\n",
    "</div>\n"
   ]
  },
  {
   "cell_type": "code",
   "execution_count": 1,
   "id": "62817342",
   "metadata": {
    "tags": []
   },
   "outputs": [],
   "source": [
    "import sys, os\n",
    "sys.path.insert(0, os.path.abspath(\"..\"))\n",
    "\n",
    "import yaml\n",
    "import numpy as np\n",
    "from pathlib import Path\n",
    "\n",
    "from sklearn.linear_model import SGDRegressor\n",
    "from sklearn.kernel_approximation import RBFSampler\n",
    "from sklearn.preprocessing import StandardScaler\n",
    "from sklearn.pipeline import FeatureUnion\n",
    "\n",
    "from buffer import Batch\n",
    "import utils as u\n",
    "import train as t\n",
    "\n",
    "from IPython.display import Video # to display videos"
   ]
  },
  {
   "cell_type": "code",
   "execution_count": 12,
   "id": "9ee3fb4e",
   "metadata": {
    "tags": []
   },
   "outputs": [],
   "source": [
    "class RBFAgent(object):\n",
    "    def __init__(self, n_actions, gamma=0.98, batch_size=32):\n",
    "        self.scaler = None\n",
    "        self.featurizer = None\n",
    "        self.q_functions = None\n",
    "        self.gamma = gamma\n",
    "        self.batch_size = batch_size\n",
    "        self.n_actions = n_actions\n",
    "        self.sample_state = None\n",
    "        self._initialize_model()\n",
    "\n",
    "    def _initialize_model(self):\n",
    "        # Draw some samples from the observation range and initialize the scaler (used to normalize data)\n",
    "        obs_limit = np.array([4.8, 5, 0.5, 5])\n",
    "        samples = np.random.uniform(-obs_limit, obs_limit, (1000, obs_limit.shape[0]))\n",
    "        self.sample_state = samples\n",
    "        \n",
    "        # calculate the mean and var of samples, used later to normalize training data\n",
    "        self.scaler = StandardScaler().fit(samples) \n",
    "\n",
    "        # Initialize the RBF featurizer\n",
    "        self.featurizer = FeatureUnion([\n",
    "            (\"rbf1\", RBFSampler(gamma=5.0, n_components=100)),\n",
    "            (\"rbf2\", RBFSampler(gamma=2.0, n_components=80)),\n",
    "            (\"rbf3\", RBFSampler(gamma=1.0, n_components=50)),\n",
    "        ])\n",
    "        self.featurizer.fit(self.scaler.transform(samples))\n",
    "\n",
    "        # Create a value approximator for each action dimension\n",
    "        self.q_functions = [SGDRegressor(learning_rate=\"constant\", max_iter=500, tol=1e-3)\n",
    "                       for _ in range(self.n_actions)]\n",
    "\n",
    "        # Initialize it to whatever values; implementation detail\n",
    "        for q_a in self.q_functions:\n",
    "            q_a.partial_fit(self.featurize(samples), np.zeros((samples.shape[0],)))\n",
    "            \n",
    "        #print('q_func', self.q_functions)\n",
    "\n",
    "    def featurize(self, state):\n",
    "        \"\"\" Map state to a higher dimension for better representation.\"\"\"\n",
    "        if len(state.shape) == 1:\n",
    "            state = state.reshape(1, -1)\n",
    "        \n",
    "        # TODO: Task 1, choose which feature to use. \n",
    "        # Task 1a: implement the manual features here \n",
    "        ########## You code starts here #########\n",
    "        #print(np.shape(state))\n",
    "        state_shape = np.shape(state)\n",
    "        manual_feature = np.zeros([state_shape[0], state_shape[1]+1])\n",
    "        for i, the_state in enumerate(state):\n",
    "            manual_feature[i] = np.append(the_state, np.sqrt(np.sum(np.square(the_state))))\n",
    "        #print(manual_feature)\n",
    "        ########## You code ends here #########\n",
    "\n",
    "        \n",
    "        # Task 1b: implement the RBF features transformation here \n",
    "        # it will map a state to a higher dimension (100+80+50)\n",
    "        ########## You code starts here #########\n",
    "        # rbf1 = RBFSampler(n_components=230)\n",
    "        rbf_feature = self.featurizer.transform(self.scaler.transform(state))\n",
    "        # print(np.shape(state), np.shape(rbf_feature))\n",
    "        ########## You code ends here #########\n",
    "\n",
    "        #Task 1:return manual_feature or return rbf_feature\n",
    "        ########## You code starts here #########\n",
    "        # feature = manual_feature #(task 1 a)\n",
    "        feature = rbf_feature #(task 1 b)\n",
    "        # feature = state\n",
    "        ########## You code ends here #########\n",
    "        \n",
    "        return feature\n",
    "    \n",
    "    def get_action(self, state, epsilon=0.0):\n",
    "        # TODO: Task 1: Implement epsilon-greedy policy\n",
    "        # Hints:\n",
    "        # 1. self.q_functions is a list which defines a q function for each action dimension\n",
    "        # 2. for each q function, use predict(feature) to obtain the q value\n",
    "        ########## Your code starts here ##########\n",
    "        if len(state.shape) == 1:\n",
    "            state = state.reshape(1, -1)\n",
    "        # print('state:', state)\n",
    "        feature = self.featurize(state)\n",
    "        # print('feature', feature)\n",
    "        actions = np.zeros(np.shape(state)[0])\n",
    "        q0 = self.q_functions[0].predict(feature)\n",
    "        q1 = self.q_functions[1].predict(feature)\n",
    "        # print('predicted value:', np.shape(q0))\n",
    "        # print(np.max([q0, q1], axis=0))\n",
    "        for i, action in enumerate(actions):\n",
    "            max_action = np.argmax([q0[i], q1[i]])\n",
    "            random_action = 1 if np.random.rand(1)[0] > 0.5 else 0\n",
    "            actions[i] = random_action if np.random.rand(1)[0] < epsilon else max_action        \n",
    "        ########## Your code ends here #########\n",
    "        return actions.astype(int)\n",
    "\n",
    "\n",
    "    def _to_squeezed_np(self, batch:Batch) -> Batch:\n",
    "        \"\"\" A simple helper function squeeze data dimension and cover data format from tensor to np.ndarray.\"\"\"\n",
    "        _ret = {}\n",
    "        for name, value in batch._asdict().items():\n",
    "            if isinstance(value, dict): # this is for extra, which is a dict\n",
    "                for k, v in value.items():\n",
    "                    value[k] = v.squeeze().numpy()\n",
    "                _ret[name] = value\n",
    "            else:\n",
    "                _ret[name] = value.squeeze().numpy()\n",
    "        return Batch(**_ret)\n",
    "        \n",
    "    def update(self, buffer):\n",
    "        # batch is a namedtuple, which has state, action, next_state, not_done, reward\n",
    "        # you can access the value be batch.<name>, e.g, batch.state\n",
    "        batch = buffer.sample(self.batch_size) \n",
    "        # Hint:\n",
    "        #    state = batch.state\n",
    "        #    action = batch.action \n",
    "        #    next_state = batch.next_state\n",
    "        #    reward = batch.reward \n",
    "        #    not_done = batch.not_done \n",
    "        \n",
    "        # the returned batch is a namedtuple, where the data is torch.Tensor\n",
    "        # we first squeeze dim and then covert it to Numpy array.\n",
    "        batch = self._to_squeezed_np(batch)\n",
    "\n",
    "        # TODO: Task 1, update q_functions\n",
    "        # Hints: \n",
    "        # 1. featurize the state and next_state\n",
    "        # 2. calculate q_target (check q-learning)\n",
    "        # 3. self.q_functions is a list which defines a q function for each action dimension\n",
    "        #    for each q function, use q.predict(featurized_state) to obtain the q value \n",
    "        # 4. remember to use not_done to mask out the q values at terminal states (treat them as 0)\n",
    "        ########## You code starts here #########\n",
    "        feature = self.featurize(batch.state)\n",
    "        next_feature = self.featurize(batch.next_state)\n",
    "        q_tar = batch.reward + self.gamma * np.max([self.q_functions[0].predict(next_feature), self.q_functions[1].predict(next_feature)], axis=0) * batch.not_done\n",
    "        # for i, q_function in enumerate(self.q_functions):\n",
    "        #     self.q_functions[i].fit(feature, q_tar)\n",
    "        f_state = feature\n",
    "        ########## You code ends here #########\n",
    "        \n",
    "        # Get new weights for each action separately\n",
    "        for a in range(self.n_actions):\n",
    "            # Find states where `a` was taken\n",
    "            idx = batch.action == a\n",
    "            # print(np.shape(f_state[idx]), np.shape(q_tar[idx]))\n",
    "            # If a not present in the batch, skip and move to the next action\n",
    "            if np.any(idx):\n",
    "                act_states = f_state[idx]\n",
    "                act_targets = q_tar[idx]\n",
    "\n",
    "                # Perform a single SGD step on the Q-function params to update the q_function corresponding to action a\n",
    "                self.q_functions[a].partial_fit(act_states, act_targets)\n",
    "\n",
    "        return {}\n",
    "\n",
    "    def save(self, fp):\n",
    "        path = fp/'rbf.pkl'\n",
    "        u.save_object(\n",
    "            {'q': self.q_functions, 'featurizer': self.featurizer},\n",
    "            path\n",
    "        )\n",
    "\n",
    "    def load(self, fp):\n",
    "        path = fp/'rbf.pkl'\n",
    "        d = u.load_object(path)\n",
    "\n",
    "        self.q_functions = d['q']\n",
    "        self.featurizer = d['featurizer']"
   ]
  },
  {
   "cell_type": "markdown",
   "id": "bb219433-160a-4c5b-b1bf-6c654a57e703",
   "metadata": {
    "tags": []
   },
   "source": [
    "<a id='T1'></a>\n",
    "<div class=\" alert alert-warning\">\n",
    "    <h4><b>Student Task 1.(a)</b> Linear model with handcraft feature </h4> \n",
    "\n",
    "First, let's test Q-learning with handcrafted features. We define the feature as :\n",
    "    \n",
    "&nbsp;&nbsp;&nbsp;&nbsp;&nbsp;&nbsp;&nbsp;&nbsp;&nbsp;&nbsp;&nbsp;&nbsp;&nbsp;&nbsp;&nbsp;&nbsp;&nbsp;&nbsp;&nbsp;&nbsp;&nbsp;&nbsp;&nbsp;&nbsp;&nbsp;&nbsp;&nbsp;&nbsp;&nbsp;&nbsp;$\\phi(s) = [s, |s|]^T$\n",
    "\n",
    "Then we will feed this feature into a linear model to predict corresponding Q-values.\n",
    "\n",
    "For this Task, implement the code in ```class RBFAgent```:\n",
    "    \n",
    "1. First, you need to modify functions ```featurize```, to convert the state $s$ from encironment to $[s, |s|]^T$.\n",
    "2. Modify the function ```get_action```, use ```self.q_functions``` to select the action has the highest return.\n",
    "3. Modify the function ```update```, based on the Q-learning objective to update the Q-function (linear models).\n",
    "\n",
    "After the modifying, test the implementation on the Cartpole environment by running the ```train(agent)``` script with default configs. You can test the trained model with the ```test(agent, cfg_args=dict(save_video=true))``` script. \n",
    "</div>"
   ]
  },
  {
   "cell_type": "code",
   "execution_count": 11,
   "id": "d9dd6467",
   "metadata": {
    "tags": []
   },
   "outputs": [],
   "source": [
    "# After the modifying, run\n",
    "# init agent\n",
    "with open(Path().cwd()/'cfg'/'cartpole_rbf.yaml', 'r') as f:\n",
    "    cfg = t.Struct(**yaml.safe_load(f))\n",
    "        \n",
    "agent = RBFAgent(n_actions=cfg.n_actions, gamma=cfg.gamma, batch_size=cfg.batch_size)\n",
    "# print(agent.get_action(agent.sample_state, epsilon=0))"
   ]
  },
  {
   "cell_type": "code",
   "execution_count": 66,
   "id": "d78c6566",
   "metadata": {
    "tags": []
   },
   "outputs": [
    {
     "name": "stdout",
     "output_type": "stream",
     "text": [
      "Numpy/Torch/Random Seed:  436\n",
      "{'ep_reward': 20.0, 'episode': 0, 'epsilon': 1.0, 'ep_avr': 0.00792202353477478, 'ts_avr': 0.00036024022847414017}\n",
      "{'ep_reward': 56.0, 'episode': 100, 'epsilon': 0.3333333333333333, 'ep_avr': 0.11236726604402066, 'ts_avr': 0.0032652732377103626}\n",
      "{'ep_reward': 40.0, 'episode': 200, 'epsilon': 0.2, 'ep_avr': 0.19100145433098079, 'ts_avr': 0.003403252528315879}\n",
      "{'ep_reward': 88.0, 'episode': 300, 'epsilon': 0.14285714285714285, 'ep_avr': 0.24701239977031947, 'ts_avr': 0.003437143763065438}\n",
      "{'ep_reward': 63.0, 'episode': 400, 'epsilon': 0.1111111111111111, 'ep_avr': 0.2530365002900362, 'ts_avr': 0.003479101900500729}\n",
      "{'ep_reward': 40.0, 'episode': 500, 'epsilon': 0.09090909090909091, 'ep_avr': 0.22053703024983407, 'ts_avr': 0.002955836866266273}\n",
      "{'ep_reward': 98.0, 'episode': 600, 'epsilon': 0.07692307692307693, 'ep_avr': 0.21916321378201245, 'ts_avr': 0.002900053554026004}\n",
      "{'ep_reward': 50.0, 'episode': 700, 'epsilon': 0.06666666666666667, 'ep_avr': 0.22059692487120627, 'ts_avr': 0.0027750553271356357}\n",
      "{'ep_reward': 81.0, 'episode': 800, 'epsilon': 0.058823529411764705, 'ep_avr': 0.22762265160679818, 'ts_avr': 0.0027344406586892614}\n",
      "{'ep_reward': 57.0, 'episode': 900, 'epsilon': 0.05263157894736842, 'ep_avr': 0.20938061270862818, 'ts_avr': 0.002733310119637221}\n",
      "{'ep_reward': 78.0, 'episode': 1000, 'epsilon': 0.05, 'ep_avr': 0.2358408545702696, 'ts_avr': 0.002948316489069666}\n",
      "{'ep_reward': 61.0, 'episode': 1100, 'epsilon': 0.05, 'ep_avr': 0.23815537985414267, 'ts_avr': 0.0029963132529542947}\n",
      "{'ep_reward': 88.0, 'episode': 1200, 'epsilon': 0.05, 'ep_avr': 0.27345264501869676, 'ts_avr': 0.003301415245956176}\n",
      "{'ep_reward': 75.0, 'episode': 1300, 'epsilon': 0.05, 'ep_avr': 0.287987721785903, 'ts_avr': 0.003498769824742778}\n",
      "{'ep_reward': 103.0, 'episode': 1400, 'epsilon': 0.05, 'ep_avr': 0.2733910382911563, 'ts_avr': 0.003357447085586047}\n",
      "{'ep_reward': 84.0, 'episode': 1500, 'epsilon': 0.05, 'ep_avr': 0.23959843508899212, 'ts_avr': 0.0029566021898278483}\n",
      "{'ep_reward': 85.0, 'episode': 1600, 'epsilon': 0.05, 'ep_avr': 0.24463796198368074, 'ts_avr': 0.003023278069038508}\n",
      "{'ep_reward': 82.0, 'episode': 1700, 'epsilon': 0.05, 'ep_avr': 0.2932644898816943, 'ts_avr': 0.00341198493817288}\n",
      "{'ep_reward': 72.0, 'episode': 1800, 'epsilon': 0.05, 'ep_avr': 0.2600745999440551, 'ts_avr': 0.0030802666597109806}\n",
      "{'ep_reward': 46.0, 'episode': 1900, 'epsilon': 0.05, 'ep_avr': 0.24075447600334882, 'ts_avr': 0.0029815336279252575}\n",
      "------ Training Finished ------\n"
     ]
    }
   ],
   "source": [
    "t.train(agent, cfg_path=Path().cwd()/'cfg'/'cartpole_rbf.yaml', cfg_args={}) # < 10 mins"
   ]
  },
  {
   "cell_type": "code",
   "execution_count": 67,
   "id": "4d57a812",
   "metadata": {
    "tags": []
   },
   "outputs": [
    {
     "name": "stdout",
     "output_type": "stream",
     "text": [
      "Numpy/Torch/Random Seed:  436\n"
     ]
    },
    {
     "name": "stderr",
     "output_type": "stream",
     "text": [
      "error: XDG_RUNTIME_DIR not set in the environment.\n"
     ]
    },
    {
     "name": "stdout",
     "output_type": "stream",
     "text": [
      "{'episode': 0, 'ep_reward': 82.0}\n",
      "{'episode': 1, 'ep_reward': 63.0}\n",
      "{'episode': 2, 'ep_reward': 118.0}\n",
      "{'episode': 3, 'ep_reward': 66.0}\n",
      "{'episode': 4, 'ep_reward': 54.0}\n",
      "{'episode': 5, 'ep_reward': 199.0}\n",
      "{'episode': 6, 'ep_reward': 94.0}\n",
      "{'episode': 7, 'ep_reward': 110.0}\n",
      "{'episode': 8, 'ep_reward': 64.0}\n",
      "{'episode': 9, 'ep_reward': 57.0}\n"
     ]
    }
   ],
   "source": [
    "t.test(agent, cfg_path=Path().cwd()/'cfg'/'cartpole_rbf.yaml', cfg_args=dict(save_video=True)) "
   ]
  },
  {
   "cell_type": "code",
   "execution_count": 68,
   "id": "4e9ba558-6057-4142-804b-d6bc43d0d709",
   "metadata": {
    "tags": []
   },
   "outputs": [
    {
     "name": "stdout",
     "output_type": "stream",
     "text": [
      "Numpy/Torch/Random Seed:  436\n"
     ]
    },
    {
     "data": {
      "image/png": "[encoded data removed]",
      "text/plain": [
       "<Figure size 640x480 with 1 Axes>"
      ]
     },
     "metadata": {},
     "output_type": "display_data"
    }
   ],
   "source": [
    "t.plot(save_name='cartpole_hd.png', cfg_path=Path().cwd()/'cfg'/'cartpole_rbf.yaml', cfg_args={}) # < 15 mins"
   ]
  },
  {
   "cell_type": "markdown",
   "id": "05fb6b18",
   "metadata": {},
   "source": [
    "The agent acting in the environment can be seen using the following command. Change the path to pick the episode you want to visualize. Bear in mind by default video saving for training is taken every 500 episodes"
   ]
  },
  {
   "cell_type": "code",
   "execution_count": 3,
   "id": "69b48c8a",
   "metadata": {
    "tags": []
   },
   "outputs": [
    {
     "data": {
      "text/html": [
       "<video loop autoplay  >\n",
       " <source src=\"data:video/mp4;base64,AAAAIGZ0eXBpc29tAAACAGlzb21pc28yYXZjMW1wNDEAAAAIZnJlZQAACTxtZGF0AAACrwYF//+r3EXpvebZSLeWLNgg2SPu73gyNjQgLSBjb3JlIDE2NCByMzA5NSBiYWVlNDAwIC0gSC4yNjQvTVBFRy00IEFWQyBjb2RlYyAtIENvcHlsZWZ0IDIwMDMtMjAyMiAtIGh0dHA6Ly93d3cudmlkZW9sYW4ub3JnL3gyNjQuaHRtbCAtIG9wdGlvbnM6IGNhYmFjPTEgcmVmPTMgZGVibG9jaz0xOjA6MCBhbmFseXNlPTB4MzoweDExMyBtZT1oZXggc3VibWU9NyBwc3k9MSBwc3lfcmQ9MS4wMDowLjAwIG1peGVkX3JlZj0xIG1lX3JhbmdlPTE2IGNocm9tYV9tZT0xIHRyZWxsaXM9MSA4eDhkY3Q9MSBjcW09MCBkZWFkem9uZT0yMSwxMSBmYXN0X3Bza2lwPTEgY2hyb21hX3FwX29mZnNldD0tMiB0aHJlYWRzPTEyIGxvb2thaGVhZF90aHJlYWRzPTIgc2xpY2VkX3RocmVhZHM9MCBucj0wIGRlY2ltYXRlPTEgaW50ZXJsYWNlZD0wIGJsdXJheV9jb21wYXQ9MCBjb25zdHJhaW5lZF9pbnRyYT0wIGJmcmFtZXM9MyBiX3B5cmFtaWQ9MiBiX2FkYXB0PTEgYl9iaWFzPTAgZGlyZWN0PTEgd2VpZ2h0Yj0xIG9wZW5fZ29wPTAgd2VpZ2h0cD0yIGtleWludD0yNTAga2V5aW50X21pbj0yNSBzY2VuZWN1dD00MCBpbnRyYV9yZWZyZXNoPTAgcmNfbG9va2FoZWFkPTQwIHJjPWNyZiBtYnRyZWU9MSBjcmY9MjMuMCBxY29tcD0wLjYwIHFwbWluPTAgcXBtYXg9NjkgcXBzdGVwPTQgaXBfcmF0aW89MS40MCBhcT0xOjEuMDAAgAAAAc1liIQAJ//+9bF8CmrJ84oM6DIu4Zckya62IuJtAMAAJUAAAAMAAEsmUJbMgHJl3QAAAwBMgA4ofQZQeYiYqxUCV4g4GauIAE16+MIHYzUFtMdXFCN4l5Jv0srzIMB8apmfjgv6rMo4JLSnnpKjBTxv6Q1fDWpYRmP17gKcBqvPWFsOX7uXskfnOrfTI8ASqm6DeXp9WP/KgupLfwpqlkojCgDjftAlLyHonyqBHi0TZe0Idi/fXUYAxyk81fvXRVJq6eiqzUQvAS2sIbtTTT8UhGwY07Jv8SWmvfM2dhielkeVHdSWu5xcr4nGmX3u85KLBvSWNKBwiAM2/0vd/vXU6QVOTQAR5WWJw1tglp8eGbq6QDEitX0OB/cD/7MsiwdW+0mHqtu/MqIFccYE2mlulnfLvaWV5Ug9DgVtlIKXyxPKCapQ5wVrU8PG6yp9gR3uEj+IlV9+XVwcYJHltuMt2MDvRcwOGJagvkvrIOP39devrpPEvOcn67rj293/QJzHm7YIx++iAAAX71v/hNvdds8Nsl31doYBLHI5rHpcgiiniD/2uj70ifLM4d0e1ilaAds0+UETmAALcAHt5AAAAwAAAwAAAwAAAwCWgQAAAIpBmiRsQj/94QAAAwGT79fVM9ZY6k7aW4mZpONWCnz+FcZI6zeaQqpz/KI7XpRWhwfcnsByoejqEglYJ7cTrqL/JJ8uEO5CmgupFJ28GPZURADEHbZNBQeYza7aD8bmlDzKOtZScL9NHdBSw6bkaN+Z4OfeQBYfhx+L1aa4XHTKFUEcpGgCIUmS3TAAAAA6QZ5CeIR/AAAIMCvZIf8lz6zxd3+QABxT88T8fD1QOLyWg5IJFGLgnstjzPaogCpqomLvC4k8DhqK2QAAACEBnmF0R/8AAAUcUmlSMHopnXnPmLOUDtTQMqTLV0rp+2AAAAAtAZ5jakf/AAANNJ+WpUt3byDVOs6yxUX5KP3UYUsEbe2ZqLSu9SzonvzFww2ZAAAAtEGaZkmoQWiZTBTwj/3hAAAEFkeqc26CQBf3noxkmT1WJL3sN96n/H0oTjuCqnTOpxrEb5GS4/0aHNs3/eC6AChgFiahhrm0qBvqjZASoejjIySpXbKKaO5+jiMyElyXaJxeZ366/MkGK79w24mT+SFJkcvZ+meFHusUBNUXlP17xCfh3+P33x0WZeZFIPFBFbdt6GHNwLzzk5kT8Lz/XiA2p3cZWQpJ88tmS6FYQpdz598VgQAAAEoBnoVqR/8AACPHK9VnwbS5FLKKNxTtOrTnxsQwfubAJ2pM5Rcdc6Hue1efpXxq9gAIU18YTbZTcl9/ggavz6vYkOv/qmB8/Go58QAAANVBmopJ4QpSZTAj//yEAAAP0nPzzgCt45P3mKYOD6a1De3DmzsvbIRCu7VS/N7HywFJLIou7kPN1MgkLpoO9r35jyyxOztUR0ByL08evmrcWQ+gbqmShHWhpH0DY1epkdJQDuV9XZlclkLc9blc7G06uJh08tqA488F1URzTacIwT/zbDPdZ5GpwyaNGuvYO9Q6LGP7d9109PKK6S/nBkGFqgSCJlISixvt7tJZApmlb6RY93gRXguZZNS4og5YWFgHr21bj2PGcUYWvkQwOsqM0aWyVsEAAAB2QZ6oRTRMI/8AABayCJRDH4Iyj3cGECi0/qXIa+jxcef7MgsZrn9Yx9qOVkAHBiqNHc/vfiXnWl/QPWIbRBsvTGb7vNKaaFBeps6YVQ23uHyKAwgf4LRMDdgMlf+Ty98I4VdInTW4vWyHvodcPJqFL2VCsYFSsAAAAFIBnsd0R/8AACPAmTJgMZVL1tuyp2KUu5E5Y+wnf0MYgzC3H56wYJS4KJ/BRgvbe9CTyoL9+DLbtG2LDVbalYV3qAD98+vx6dvMI5Y5o6kozmLAAAAATQGeyWpH/wAAI8bbRPWZy1cWxylSPVvJ5QIViFlijPSKySmR0dO/gHWnwfr7dLGTo4ghaXbjjsuU/3NEi4kWJrXRPExqxYXIzOi/xs8FAAAAikGay0moQWiZTAj//IQAAA/XbBVGATSDV+ajOv7mNzQofIC9XUbo91RkYKYL0JEUIHlmoGpIHCECFaDMiEmuBEGO278Tz9Rn+rK7W1+qo8r/Hij/5i7gJ7f21wlIwn6ZzSY5hDbbbzczWPuLZFuQ50ULteemSTW/hOeqJSgqkvWhwGIN1qJLdulWwAAAA7ttb292AAAAbG12aGQAAAAAAAAAAAAAAAAAAAPoAAAA8AABAAABAAAAAAAAAAAAAAAAAQAAAAAAAAAAAAAAAAAAAAEAAAAAAAAAAAAAAAAAAEAAAAAAAAAAAAAAAAAAAAAAAAAAAAAAAAAAAAAAAAACAAAC5XRyYWsAAABcdGtoZAAAAAMAAAAAAAAAAAAAAAEAAAAAAAAA8AAAAAAAAAAAAAAAAAAAAAAAAQAAAAAAAAAAAAAAAAAAAAEAAAAAAAAAAAAAAAAAAEAAAAACWAAAAZAAAAAAACRlZHRzAAAAHGVsc3QAAAAAAAAAAQAAAPAAAAIAAAEAAAAAAl1tZGlhAAAAIG1kaGQAAAAAAAAAAAAAAAAAADIAAAAMAFXEAAAAAAAtaGRscgAAAAAAAAAAdmlkZQAAAAAAAAAAAAAAAFZpZGVvSGFuZGxlcgAAAAIIbWluZgAAABR2bWhkAAAAAQAAAAAAAAAAAAAAJGRpbmYAAAAcZHJlZgAAAAAAAAABAAAADHVybCAAAAABAAAByHN0YmwAAACwc3RzZAAAAAAAAAABAAAAoGF2YzEAAAAAAAAAAQAAAAAAAAAAAAAAAAAAAAACWAGQAEgAAABIAAAAAAAAAAEAAAAAAAAAAAAAAAAAAAAAAAAAAAAAAAAAAAAAAAAAAAAY//8AAAA2YXZjQwFkAB//4QAZZ2QAH6zZQJgz5eEAAAMAAQAAAwBkDxgxlgEABmjr48siwP34+AAAAAAUYnRydAAAAAAAATLFAAEyxQAAABhzdHRzAAAAAAAAAAEAAAAMAAABAAAAABRzdHNzAAAAAAAAAAEAAAABAAAAcGN0dHMAAAAAAAAADAAAAAEAAAIAAAAAAQAABQAAAAABAAACAAAAAAEAAAAAAAAAAQAAAQAAAAABAAADAAAAAAEAAAEAAAAAAQAABQAAAAABAAACAAAAAAEAAAAAAAAAAQAAAQAAAAABAAACAAAAABxzdHNjAAAAAAAAAAEAAAABAAAADAAAAAEAAABEc3RzegAAAAAAAAAAAAAADAAABIQAAACOAAAAPgAAACUAAAAxAAAAuAAAAE4AAADZAAAAegAAAFYAAABRAAAAjgAAABRzdGNvAAAAAAAAAAEAAAAwAAAAYnVkdGEAAABabWV0YQAAAAAAAAAhaGRscgAAAAAAAAAAbWRpcmFwcGwAAAAAAAAAAAAAAAAtaWxzdAAAACWpdG9vAAAAHWRhdGEAAAABAAAAAExhdmY1OC43Ni4xMDA=\" type=\"video/mp4\">\n",
       " Your browser does not support the video tag.\n",
       " </video>"
      ],
      "text/plain": [
       "<IPython.core.display.Video object>"
      ]
     },
     "execution_count": 3,
     "metadata": {},
     "output_type": "execute_result"
    }
   ],
   "source": [
    "Video(Path().cwd()/'results'/'CartPole-v1'/'video'/'test'/'ex4_rbf-episode-5.mp4',\n",
    "      embed=True, html_attributes=\"loop autoplay\") # Set html_attributes=\"controls\" for video control"
   ]
  },
  {
   "cell_type": "markdown",
   "id": "571f48c8-9ab6-43fb-bce0-19719ce2c9e2",
   "metadata": {
    "tags": []
   },
   "source": [
    "<a id='T1'></a>\n",
    "<div class=\" alert alert-warning\">\n",
    "    <h4><b>Student Task 1.(b)</b> RBF approximation </h4> \n",
    "\n",
    "Now, let's test Q-learning with RBF approximation. In this task, we will do a feature transform using the Radial Basis Function. An input state will be transformed to as many features as samples $N$ are specified in the ```RBFSampler``` $\\phi : \\mathbb{R}^d \\mapsto \\mathbb{R}^N $. Then we will feed this $\\mathbb{R}^N $ feature into a linear model to predict corresponding Q-values.\n",
    "\n",
    "For this Task:\n",
    "    \n",
    "1. You need to modify functions ```featurize```, to **convert the state $s$ to a higher dimensional feature using** ```RBFSampler```.\n",
    "\n",
    "2. Run the cell of ```class RBFAgent``` to update the class function\n",
    "\n",
    "3. <span style=\"color:red\"> **IMPORTANT: Directly come to this cell after the modifications, DO NOT RUN the handcraft feature cells again!!!** </span>\n",
    "\n",
    "4. Run the cells below to check the performances of Q-learning with RBF approximation.\n",
    "    \n",
    "After the modifying, test the implementation on the Cartpole environment by running the ```train(agent)``` script with default configs. You can test the trained model with the ```test(agent, cfg_args=dict(save_video=true))``` script. \n",
    "</div>"
   ]
  },
  {
   "cell_type": "code",
   "execution_count": 13,
   "id": "ab43c155-a9a9-4d7c-8829-0b472d25314e",
   "metadata": {
    "tags": []
   },
   "outputs": [],
   "source": [
    "# After modifying the function 'featurize', \n",
    "# 1. run the cell of class RBFAgent(object) to update the class\n",
    "# 2. After update the class, directly run this cell (Skip the cells above of training hadncraft feature) \n",
    "# 2. now let's rerun the agent\n",
    "\n",
    "with open(Path().cwd()/'cfg'/'cartpole_rbf.yaml', 'r') as f:\n",
    "    cfg = t.Struct(**yaml.safe_load(f))        \n",
    "agent = RBFAgent(n_actions=cfg.n_actions, gamma=cfg.gamma, batch_size=cfg.batch_size)\n",
    "#print(agent.get_action(agent.sample_state, epsilon=1))"
   ]
  },
  {
   "cell_type": "code",
   "execution_count": 14,
   "id": "793f3d51-0bc1-469e-a889-86f217668c02",
   "metadata": {
    "tags": []
   },
   "outputs": [
    {
     "name": "stdout",
     "output_type": "stream",
     "text": [
      "Numpy/Torch/Random Seed:  436\n",
      "{'ep_reward': 51.0, 'episode': 0, 'epsilon': 1.0, 'ep_avr': 0.005774717777967453, 'ts_avr': 0.0001049795571495505}\n",
      "{'ep_reward': 172.0, 'episode': 100, 'epsilon': 0.3333333333333333, 'ep_avr': 0.21866763059049846, 'ts_avr': 0.0024317558467328478}\n",
      "{'ep_reward': 200.0, 'episode': 200, 'epsilon': 0.2, 'ep_avr': 0.39986314743757245, 'ts_avr': 0.002440389382879956}\n",
      "{'ep_reward': 176.0, 'episode': 300, 'epsilon': 0.14285714285714285, 'ep_avr': 0.4245172641053796, 'ts_avr': 0.0024522365583007325}\n",
      "{'ep_reward': 200.0, 'episode': 400, 'epsilon': 0.1111111111111111, 'ep_avr': 0.4764613144472241, 'ts_avr': 0.002458554244810535}\n",
      "{'ep_reward': 200.0, 'episode': 500, 'epsilon': 0.09090909090909091, 'ep_avr': 0.4725944569706917, 'ts_avr': 0.002447272583650861}\n",
      "{'ep_reward': 200.0, 'episode': 600, 'epsilon': 0.07692307692307693, 'ep_avr': 0.47194811783730983, 'ts_avr': 0.00242480436685164}\n",
      "{'ep_reward': 200.0, 'episode': 700, 'epsilon': 0.06666666666666667, 'ep_avr': 0.4882820435985923, 'ts_avr': 0.0024460084443655153}\n",
      "{'ep_reward': 200.0, 'episode': 800, 'epsilon': 0.058823529411764705, 'ep_avr': 0.4876321265846491, 'ts_avr': 0.002454032031634038}\n",
      "{'ep_reward': 200.0, 'episode': 900, 'epsilon': 0.05263157894736842, 'ep_avr': 0.4874676940962672, 'ts_avr': 0.002436715552210808}\n",
      "{'ep_reward': 200.0, 'episode': 1000, 'epsilon': 0.05, 'ep_avr': 0.4887205881625414, 'ts_avr': 0.0024430029064416887}\n",
      "{'ep_reward': 200.0, 'episode': 1100, 'epsilon': 0.05, 'ep_avr': 0.48531836092472075, 'ts_avr': 0.0024259376350790262}\n",
      "{'ep_reward': 200.0, 'episode': 1200, 'epsilon': 0.05, 'ep_avr': 0.48187002174556254, 'ts_avr': 0.0024086979469284415}\n",
      "{'ep_reward': 200.0, 'episode': 1300, 'epsilon': 0.05, 'ep_avr': 0.48677108988165857, 'ts_avr': 0.0024332110166549684}\n",
      "{'ep_reward': 200.0, 'episode': 1400, 'epsilon': 0.05, 'ep_avr': 0.48344147618860006, 'ts_avr': 0.0024165682436898353}\n",
      "{'ep_reward': 200.0, 'episode': 1500, 'epsilon': 0.05, 'ep_avr': 0.485839287340641, 'ts_avr': 0.002428575653396547}\n",
      "{'ep_reward': 200.0, 'episode': 1600, 'epsilon': 0.05, 'ep_avr': 0.48573020365089176, 'ts_avr': 0.0024280575355514885}\n",
      "{'ep_reward': 200.0, 'episode': 1700, 'epsilon': 0.05, 'ep_avr': 0.48565719678997993, 'ts_avr': 0.002427661115303636}\n",
      "{'ep_reward': 200.0, 'episode': 1800, 'epsilon': 0.05, 'ep_avr': 0.4863418715819716, 'ts_avr': 0.0024310926588252185}\n",
      "{'ep_reward': 200.0, 'episode': 1900, 'epsilon': 0.05, 'ep_avr': 0.48680387500673533, 'ts_avr': 0.0024333951156586407}\n",
      "------ Training Finished ------\n"
     ]
    }
   ],
   "source": [
    "t.train(agent, cfg_path=Path().cwd()/'cfg'/'cartpole_rbf.yaml', cfg_args={}) # < 5 mins"
   ]
  },
  {
   "cell_type": "code",
   "execution_count": 5,
   "id": "88396eef-a80e-41dd-bdc7-c5cb67a2e75f",
   "metadata": {
    "tags": []
   },
   "outputs": [
    {
     "name": "stdout",
     "output_type": "stream",
     "text": [
      "Numpy/Torch/Random Seed:  436\n"
     ]
    },
    {
     "name": "stderr",
     "output_type": "stream",
     "text": [
      "error: XDG_RUNTIME_DIR not set in the environment.\n"
     ]
    },
    {
     "name": "stdout",
     "output_type": "stream",
     "text": [
      "{'episode': 0, 'ep_reward': 200.0}\n",
      "{'episode': 1, 'ep_reward': 200.0}\n",
      "{'episode': 2, 'ep_reward': 200.0}\n",
      "{'episode': 3, 'ep_reward': 200.0}\n",
      "{'episode': 4, 'ep_reward': 200.0}\n",
      "{'episode': 5, 'ep_reward': 200.0}\n",
      "{'episode': 6, 'ep_reward': 200.0}\n",
      "{'episode': 7, 'ep_reward': 200.0}\n",
      "{'episode': 8, 'ep_reward': 200.0}\n",
      "{'episode': 9, 'ep_reward': 200.0}\n"
     ]
    }
   ],
   "source": [
    "t.test(agent, cfg_path=Path().cwd()/'cfg'/'cartpole_rbf.yaml', cfg_args=dict(save_video=True)) "
   ]
  },
  {
   "cell_type": "code",
   "execution_count": 28,
   "id": "4b5fd3b7-ee1d-46c7-830f-54b295ececa3",
   "metadata": {
    "tags": []
   },
   "outputs": [
    {
     "name": "stdout",
     "output_type": "stream",
     "text": [
      "Numpy/Torch/Random Seed:  436\n"
     ]
    },
    {
     "data": {
      "image/png": "[encoded data removed]",
      "text/plain": [
       "<Figure size 640x480 with 1 Axes>"
      ]
     },
     "metadata": {},
     "output_type": "display_data"
    }
   ],
   "source": [
    "t.plot(save_name='cartpole_rbf.png', cfg_path=Path().cwd()/'cfg'/'cartpole_rbf.yaml', cfg_args={}) # < 5 mins"
   ]
  },
  {
   "cell_type": "markdown",
   "id": "445eb823-f602-442f-b4b3-ed6806c18ffe",
   "metadata": {
    "tags": []
   },
   "source": [
    "The agent acting in the environment can be seen using the following command. Change the path to pick the episode you want to visualize. Bear in mind by default video saving for training is taken every 500 episodes"
   ]
  },
  {
   "cell_type": "code",
   "execution_count": 7,
   "id": "cd524780-6930-4de3-ae4b-9157e89760d7",
   "metadata": {
    "tags": []
   },
   "outputs": [
    {
     "data": {
      "text/html": [
       "<video loop autoplay  >\n",
       " <source src=\"data:video/mp4;base64,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\" type=\"video/mp4\">\n",
       " Your browser does not support the video tag.\n",
       " </video>"
      ],
      "text/plain": [
       "<IPython.core.display.Video object>"
      ]
     },
     "execution_count": 7,
     "metadata": {},
     "output_type": "execute_result"
    }
   ],
   "source": [
    "Video(Path().cwd()/'results'/'CartPole-v1'/'video'/'test'/'ex4_rbf-episode-0.mp4',\n",
    "      embed=True, html_attributes=\"loop autoplay\") # Set html_attributes=\"controls\" for video control"
   ]
  },
  {
   "cell_type": "markdown",
   "id": "8f725b2e",
   "metadata": {},
   "source": [
    "<a id='Q1'></a>\n",
    "<div class=\" alert alert-warning\">\n",
    "    <h3><b>Student Question 1.1</b> Considering Linear Features (10 points) </h3> \n",
    "\n",
    "Would it be possible to learn accurately Q-values for the Cartpole problem using linear features (by passing the state directly to a linear regressor)? Why/why not?\n",
    "    \n",
    "**Hint: directly return 'state' in function 'featurize'**\n",
    "    \n",
    "🔝\t<a href='#TOC'><b>Table of Contents</b></a>\n",
    "</div>\n"
   ]
  },
  {
   "cell_type": "code",
   "execution_count": 9,
   "id": "fc21c14f-7701-4436-af89-88d35c2ea8bc",
   "metadata": {
    "tags": []
   },
   "outputs": [],
   "source": [
    "# feature = state\n",
    "\n",
    "with open(Path().cwd()/'cfg'/'cartpole_rbf.yaml', 'r') as f:\n",
    "    cfg = t.Struct(**yaml.safe_load(f))        \n",
    "agent = RBFAgent(n_actions=cfg.n_actions, gamma=cfg.gamma, batch_size=cfg.batch_size)\n",
    "#print(agent.get_action(agent.sample_state, epsilon=1))"
   ]
  },
  {
   "cell_type": "code",
   "execution_count": 10,
   "id": "355cf124-7cf7-42a1-91ff-cf97fadd2fab",
   "metadata": {
    "tags": []
   },
   "outputs": [
    {
     "name": "stdout",
     "output_type": "stream",
     "text": [
      "Numpy/Torch/Random Seed:  436\n",
      "{'ep_reward': 22.0, 'episode': 0, 'epsilon': 1.0, 'ep_avr': 0.023995667695999146, 'ts_avr': 0.0010772318663922224}\n",
      "{'ep_reward': 27.0, 'episode': 100, 'epsilon': 0.3333333333333333, 'ep_avr': 0.040501072593033316, 'ts_avr': 0.0023162451364274837}\n",
      "{'ep_reward': 11.0, 'episode': 200, 'epsilon': 0.2, 'ep_avr': 0.044125706925988196, 'ts_avr': 0.002602885847794686}\n",
      "{'ep_reward': 9.0, 'episode': 300, 'epsilon': 0.14285714285714285, 'ep_avr': 0.04792358804494143, 'ts_avr': 0.002605228959476338}\n",
      "{'ep_reward': 8.0, 'episode': 400, 'epsilon': 0.1111111111111111, 'ep_avr': 0.04864747766405344, 'ts_avr': 0.00263033773411404}\n",
      "{'ep_reward': 25.0, 'episode': 500, 'epsilon': 0.09090909090909091, 'ep_avr': 0.046067979075014594, 'ts_avr': 0.002627206519756415}\n",
      "{'ep_reward': 10.0, 'episode': 600, 'epsilon': 0.07692307692307693, 'ep_avr': 0.053183209300041195, 'ts_avr': 0.002545273868131569}\n",
      "{'ep_reward': 14.0, 'episode': 700, 'epsilon': 0.06666666666666667, 'ep_avr': 0.04318925868719816, 'ts_avr': 0.0026200429989340526}\n",
      "{'ep_reward': 10.0, 'episode': 800, 'epsilon': 0.058823529411764705, 'ep_avr': 0.048571639992296696, 'ts_avr': 0.0025925418067500633}\n",
      "{'ep_reward': 9.0, 'episode': 900, 'epsilon': 0.05263157894736842, 'ep_avr': 0.04284416262060404, 'ts_avr': 0.0026823371826183227}\n",
      "{'ep_reward': 44.0, 'episode': 1000, 'epsilon': 0.05, 'ep_avr': 0.050358898043632506, 'ts_avr': 0.002580425691528198}\n",
      "{'ep_reward': 49.0, 'episode': 1100, 'epsilon': 0.05, 'ep_avr': 0.05479349233210087, 'ts_avr': 0.00258521138355347}\n",
      "{'ep_reward': 10.0, 'episode': 1200, 'epsilon': 0.05, 'ep_avr': 0.05740914855152369, 'ts_avr': 0.0025533029256686137}\n",
      "{'ep_reward': 10.0, 'episode': 1300, 'epsilon': 0.05, 'ep_avr': 0.046474246755242345, 'ts_avr': 0.0026981993115689435}\n",
      "{'ep_reward': 12.0, 'episode': 1400, 'epsilon': 0.05, 'ep_avr': 0.03644859042018652, 'ts_avr': 0.002705281315285596}\n",
      "{'ep_reward': 13.0, 'episode': 1500, 'epsilon': 0.05, 'ep_avr': 0.037677954249083996, 'ts_avr': 0.0026560253927046425}\n",
      "{'ep_reward': 10.0, 'episode': 1600, 'epsilon': 0.05, 'ep_avr': 0.048509408943355085, 'ts_avr': 0.0025960642088206616}\n",
      "{'ep_reward': 14.0, 'episode': 1700, 'epsilon': 0.05, 'ep_avr': 0.056380467750132085, 'ts_avr': 0.0026143418076143466}\n",
      "{'ep_reward': 21.0, 'episode': 1800, 'epsilon': 0.05, 'ep_avr': 0.04605446796864271, 'ts_avr': 0.0026491146017816056}\n",
      "{'ep_reward': 9.0, 'episode': 1900, 'epsilon': 0.05, 'ep_avr': 0.044646166115999225, 'ts_avr': 0.0026458702751679494}\n",
      "------ Training Finished ------\n"
     ]
    }
   ],
   "source": [
    "t.train(agent, cfg_path=Path().cwd()/'cfg'/'cartpole_rbf.yaml', cfg_args={}) # < 5 mins"
   ]
  },
  {
   "cell_type": "markdown",
   "id": "cecc979f",
   "metadata": {},
   "source": [
    "A linear model apparently can not model the value of each state-action pair. For example, the abrupt change of value when the angle of pole exceed the threshold can not be approximated by linear model. "
   ]
  },
  {
   "cell_type": "markdown",
   "id": "c5a8edc7",
   "metadata": {},
   "source": [
    "<a id='Q2'></a>\n",
    "<div class=\" alert alert-warning\">\n",
    "    <h3><b>Student Question 1.2</b> Experience Replay Buffer (10 points) </h3> \n",
    "\n",
    "In Task 1, we collect observed states, actions, and rewards into an experience replay buffer. During training we randomly sample mini-batches from this buffer. \n",
    "    \n",
    "1.Why do we use the experience replay buffer, how does it affect the learning performance? \n",
    "    \n",
    "2.Why do we sample the mini-batches randomly?\n",
    "\n",
    "**Hint:** In machine learning, when training a model, we usually assume dataset includes i.i.d(independent and identically distributed) samples from a unknown distribution.\n",
    "    \n",
    "🔝\t<a href='#TOC'><b>Table of Contents</b></a>\n",
    "</div>\n"
   ]
  },
  {
   "cell_type": "markdown",
   "id": "494cdd70",
   "metadata": {},
   "source": [
    "1. Learning with experience replay is much more efficient, faster and require less data, and the performance is stabler.\n",
    "2. Random sampling ensure that the learning data is a i.i.d, which means successive updates were not correlated with one another as they would be with standard Q-learning. Therefore, the variance of the experience replay updates is smaller. And by removing the dependence of successive experiences on the current weights, experience replay eliminated one source of instability."
   ]
  },
  {
   "cell_type": "markdown",
   "id": "2a4793b0",
   "metadata": {},
   "source": [
    "<a id='Q3'></a>\n",
    "<div class=\" alert alert-warning\">\n",
    "    <h3><b>Student Question 1.3</b> Grid-based vs Function Approximators (10 points) </h3> \n",
    "\n",
    "In Exercise 3, we used grid-based Q-learning to balance the Cartpole. Are grid-based methods sample-efficient compared to the RBF function approximation methods? Why/why not?\n",
    "\n",
    "**Hint:** An algorithm is said to be sample-efficient when it requires less samples (data) to reach\n",
    "an optimal performance\n",
    "    \n",
    "🔝\t<a href='#TOC'><b>Table of Contents</b></a>\n",
    "</div>\n"
   ]
  },
  {
   "cell_type": "markdown",
   "id": "ed64fa0e",
   "metadata": {},
   "source": [
    "Grid-based method with appropriate model specification, like a high initial value, can achieve optimal performance in not too many no. of episodes. However, the RBF method here can achieve optimal performance much quicker than grid-based methods thus requires less data(episodes) and is the more sample-efficient one."
   ]
  },
  {
   "cell_type": "markdown",
   "id": "223b9e0c",
   "metadata": {},
   "source": [
    "<a id='T2'></a>\n",
    "<div class=\" alert alert-warning\">\n",
    "    <h3><b>Student Task 2.</b> Visualizing the Policy (10 points) </h3> \n",
    "\n",
    "Create a 2D plot of policy (best action in terms of state) learned with RBF in terms of $x$ and θ for $\\dot{x} = 0$ and $\\dot{\\theta} = 0$, such that θ is on the horizontal axis and $x$ is on the vertical axis. The plot will be visualized below.\n",
    "\n",
    "**Hint 1 :** You can fix $\\dot{x} = 0$ and $\\dot{\\theta} = 0$ and discretize the state-space for $x$ and $\\theta$.\n",
    "\n",
    "**Hint 2 :** You can directly use the code in ***excercise 1 Task 4*** to visualize the policy.\n",
    "    \n",
    "**Hint 3 :** For CartPole environment state specifications, find them here https://gymnasium.farama.org/environments/classic_control/cart_pole/\n",
    "    \n",
    "🔝\t<a href='#TOC'><b>Table of Contents</b></a>\n",
    "</div>\n"
   ]
  },
  {
   "cell_type": "code",
   "execution_count": 29,
   "id": "797754bd-2a91-4b68-ab12-84dab27f100a",
   "metadata": {
    "tags": []
   },
   "outputs": [
    {
     "data": {
      "text/plain": [
       "<Axes: >"
      ]
     },
     "execution_count": 29,
     "metadata": {},
     "output_type": "execute_result"
    },
    {
     "data": {
      "image/png": "[encoded data removed]",
      "text/plain": [
       "<Figure size 640x480 with 2 Axes>"
      ]
     },
     "metadata": {},
     "output_type": "display_data"
    }
   ],
   "source": [
    "import matplotlib.pyplot as plt\n",
    "import seaborn as sns\n",
    "\n",
    "# define and reload the RBF agent, which is trained with RBF feature!!!!\n",
    "with open(Path().cwd()/'cfg'/'cartpole_rbf.yaml', 'r') as f:\n",
    "    cfg = t.Struct(**yaml.safe_load(f))        \n",
    "agent = RBFAgent(n_actions=cfg.n_actions, gamma=cfg.gamma, batch_size=cfg.batch_size)\n",
    "agent.load(Path().cwd()/'results/CartPole-v1/model/')\n",
    "\n",
    "########## Your code starts here ##########\n",
    "n = 100\n",
    "states = np.zeros((n, n, 4))\n",
    "for (x, theta, i), state in np.ndenumerate(states):\n",
    "    if i == 0:\n",
    "        states[x][theta][i] = -4.8 + x*9.6/n\n",
    "    elif i == 1:\n",
    "        states[x][theta][i] = 0\n",
    "    elif i == 2:\n",
    "        states[x][theta][i] = -0.418 + theta*0.836/n\n",
    "    elif i == 3:\n",
    "        states[x][theta][i] = 0\n",
    "# print(states)\n",
    "policy = np.zeros((n, n))\n",
    "for (x, theta), action in np.ndenumerate(policy):\n",
    "    #print(states[x][theta])\n",
    "    policy[x][theta] = agent.get_action(states[x][theta])\n",
    "#print(policy)\n",
    "sns.heatmap(policy)\n",
    "########## Your code ends here #############\n",
    "\n"
   ]
  },
  {
   "cell_type": "markdown",
   "id": "c88aa5e4-757d-49c8-9bec-3f23e7bc2f9f",
   "metadata": {
    "tags": []
   },
   "source": [
    "# 3. Submitting <a id='3.'></a>\n",
    "Ensure all tasks and questions (in ```ex4_dpn.ipynb``` and ```ex4_rbf.ipynb```) are answered and the necessary plots are saved in the appropriate locations. The relevant plots and files need to be included for this part of assignment are:\n",
    "\n",
    "\n",
    "- Training performance plots:\n",
    "  - `cartpole_hd.png`: Training performance of handcrafted feature plots in terms of episode and episodic reward\n",
    "  - `cartpole_rbf.png`: training performance of rbf feature plots in terms of episode and episodic reward \n",
    "<br>\n",
    "<br>\n",
    "\n",
    "  \n",
    "\n",
    "- Model files:\n",
    "  - `rbf.kpl`: Trained model\n",
    "\n",
    "\n",
    "Ensure the correct model files and plots are saved in paths:\n",
    "- ```results/CartPole-v1/cartpole_rbf.png``` Training result for Cartpole environment\n",
    "- ```results/CartPole-v1/cartpole_hd.png```  Training result for Cartpole environment\n",
    "- ```results/CartPole-v1/model/rbf.kpl``` Model for Cartpole environment\n",
    "\n",
    "\n",
    "<span style=\"color:red\"> **# IMPORTANT: DO NOT FORGET ANOTHER TASK IN ```ex4_dqn.ipynb```** </span>"
   ]
  },
  {
   "cell_type": "markdown",
   "id": "7dbc83ca-dbb0-4024-868e-6718a83e9bb2",
   "metadata": {
    "tags": []
   },
   "source": [
    "## 3.1 Feedback <a id='3.1'></a>\n",
    "\n",
    "In order to help the staff of the course as well as the forthcoming students, it would be great if you could answer to the following questions in your submission:"
   ]
  },
  {
   "cell_type": "markdown",
   "id": "eee27da8-ac20-488b-9d05-c03ed1f0f837",
   "metadata": {},
   "source": [
    "1) How much time did you spend solving this exercise? (change the ```hrs``` variable below to a floating point number representing the number of hours taken e.g. 5.43)"
   ]
  },
  {
   "cell_type": "code",
   "execution_count": null,
   "id": "f4a4e19d-39b6-466a-8fea-b63f91916cf5",
   "metadata": {
    "tags": []
   },
   "outputs": [],
   "source": [
    "hrs = "
   ]
  },
  {
   "cell_type": "markdown",
   "id": "dc128a60-a227-41b5-b6e0-531de2c3df1b",
   "metadata": {},
   "source": [
    "2) Difficulty of each task/question from 1-5 (int or float)"
   ]
  },
  {
   "cell_type": "code",
   "execution_count": null,
   "id": "c797f06b-bf2d-4305-abe2-e2773c6fb3d8",
   "metadata": {
    "tags": []
   },
   "outputs": [],
   "source": [
    "T1_a = 2   # Implementing Hand feature \n",
    "T2_b = None   # Implementing RBF feature \n",
    "Q1_1 = None # Question 1.1 Considering linear features (10 points)\n",
    "Q1_2 = None # Question 1.2 Experience replay (10 points)\n",
    "Q1_3 = None # Question 1.3 Grid vs Function (10 points)\n",
    "Q2 = None # Question 2 Policy visualization (10 points)"
   ]
  },
  {
   "cell_type": "markdown",
   "id": "e6612842-e130-4658-adef-181218023449",
   "metadata": {},
   "source": [
    "3) How well did you understand the content of the task/question from 1-5? (int or float)"
   ]
  },
  {
   "cell_type": "code",
   "execution_count": null,
   "id": "5a5ea255-ca3f-4ee2-860c-147ff88373f7",
   "metadata": {
    "tags": []
   },
   "outputs": [],
   "source": [
    "T1_a = 1   # Implementing Hand feature \n",
    "T2_b = None   # Implementing RBF feature \n",
    "Q1_1 = None # Question 1.1 Considering linear features (10 points)\n",
    "Q1_2 = None # Question 1.2 Experience replay (10 points)\n",
    "Q1_3 = None # Question 1.3 Grid vs Function (10 points)\n",
    "Q2 = None # Question 2 Policy visualization (10 points)"
   ]
  },
  {
   "cell_type": "markdown",
   "id": "77831fe1-f18d-4036-97a9-ad6d1adadfa2",
   "metadata": {},
   "source": [
    "4) General feedback. Consider questions like:\n",
    "\n",
    "    - Did the content of the lecture relate well with the assignment?\n",
    "    - To what extent did you find the material to be potentially useful for your research and studies?\n",
    "    \n",
    "Please share any additional feedback, suggestions, or comments you have about the lecture, assignment, or course content. Your input is valuable in helping us improve the learning experience."
   ]
  },
  {
   "cell_type": "markdown",
   "id": "6c8038fb-e038-4eac-87f3-ff28e0f94e9d",
   "metadata": {
    "tags": []
   },
   "source": [
    "The instruction for Task 1 is super unclear. For example, from the text I would think that I should update the q_function myself but it turns out that the code for `SGDRegressor.partial_fit` is already written. Also, we won't know from the instruction how we provide te correct arguments for the pre-written `SGDRegressor.partial_fit` code. \n",
    "And it is also very wierd that there is no mention of the fact that we are using experience replay in the instruction and I didn't know how to implement experience replay with states of shape `[1000, 4]`. It was so confusing."
   ]
  }
 ],
 "metadata": {
  "kernelspec": {
   "display_name": "Python 3",
   "language": "python",
   "name": "python3"
  },
  "language_info": {
   "codemirror_mode": {
    "name": "ipython",
    "version": 3
   },
   "file_extension": ".py",
   "mimetype": "text/x-python",
   "name": "python",
   "nbconvert_exporter": "python",
   "pygments_lexer": "ipython3",
   "version": "3.10.8"
  }
 },
 "nbformat": 4,
 "nbformat_minor": 5
}
