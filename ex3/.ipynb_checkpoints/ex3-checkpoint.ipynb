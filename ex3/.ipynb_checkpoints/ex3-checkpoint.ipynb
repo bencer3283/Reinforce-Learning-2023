{
 "cells": [
  {
   "cell_type": "markdown",
   "id": "53274fb5",
   "metadata": {
    "jp-MarkdownHeadingCollapsed": true,
    "tags": []
   },
   "source": [
    "\n",
    "<div class=\"alert alert-block alert-info\">\n",
    "   <h2 align=\"center\"> <center><b> Reinforcement Learning Assignment 3 - Q Learning </b></center></h2>\n",
    "\n",
    "<br>\n",
    "<center><font size=\"3\">This notebook is a part of teaching material for ELEC-E8125</font></center>\n",
    "<center><font size=\"3\">Sep 4, 2023 - Nov 30, 2023</font></center>\n",
    "<center><font size=\"3\">Aalto University</font></center>\n",
    "</div>\n",
    "\n",
    "\n",
    "<a id='TOC'></a>\n",
    "\n",
    "<div class=\"alert alert-block alert-success\">\n",
    "    \n",
    "# Table of contents\n",
    "* <a href='#1.'> 1. Introduction </a>\n",
    "* <a href='#1.1'> 1.1 Learning Objectives </a>\n",
    "* <a href='#1.2'> 1.2 Code Structure & Files </a>\n",
    "* <a href='#2.'> 2. Cartpole </a>\n",
    "* <a href='#2.'> 3. Lunar Lander </a>\n",
    "* <a href='#4.'> 4. Submitting </a>\n",
    "* <a href='#4.1'> 4.1 Feedback </a>\n",
    "* <a href='#5'> References</a>\n",
    "\n",
    "<a href='#T1'><b>Student Task 1.</b> Implementing Q-Learning  (25 points) </a>\\\n",
    "<a href='#T2'><b>Student Task 2.</b> Visualizing the Value Function (10 points) </a>\\\n",
    "<a href='#Q1'><b>Student Question 2.1</b> Analyzing the Value Function Heatmap (15 points) </a>\\\n",
    "<a href='#T3'><b>Student Task 3.</b> Investigating Initial Values (10 points) </a>\\\n",
    "<a href='#Q2'><b>Student Question 3.1</b> Analyzing Initial Values (5 points) </a>\\\n",
    "<a href='#Q3'><b>Student Question 3.2</b> Exploration (15 points) </a>\\\n",
    "<a href='#T4'><b>Student Task 4.</b> Using Q-Learning on the Lunar Lander Environment (5 points) </a>\\\n",
    "<a href='#Q4'><b>Student Question 4.1</b> Lunar Lander Performance (15 points) </a>\n",
    "\n",
    "**Total Points:** 100"
   ]
  },
  {
   "cell_type": "markdown",
   "id": "e845acab",
   "metadata": {
    "jp-MarkdownHeadingCollapsed": true,
    "tags": []
   },
   "source": [
    "## 1. Introduction <a id='1.'></a>\n",
    "\n",
    "In this exercise, you'll be applying grid-based Q-learning to the **Cartpole** and **LunarLander** environments.\n",
    "\n",
    "## 1.1 Learning Objectives: <a id='1.1'></a>\n",
    "- To understand and develop intuition about Q-learning.\n",
    "- To understand simple exploration methods like GLIE and how exploration effects learning\n",
    "\n",
    "## 1.2 Code Structure & Files <a id='1.2'></a>\n",
    "\n",
    "You don’t have to edit any other file other than ```ex3.ipynb``` to complete this exercise.\n",
    "\n",
    "```\n",
    "├───cfg                           # Config files for environments e.g. define the maximum number of steps in an episode.\n",
    "├───imgs                          # Images used in notebook\n",
    "├───results\n",
    "│   ├───CartPole-v1\n",
    "│   │   └───video                  # Videos saved\n",
    "│   │   │   logging.pkl            # Contains logged data\n",
    "│   │   │   *q_table_e.pkl         # Contains qtable data for epsilon fixed\n",
    "│   │   │   *q_table_glie.pkl      # Contains qtable data for glie\n",
    "│   │   │   *e.png                 # Contains training performance plot for epsilon fixed\n",
    "│   │   │   *glie.png              # Contains training performance plot for glie\n",
    "│   ├───LunarLander-v2\n",
    "│   │   └───video\n",
    "│   │   │   logging.pkl\n",
    "│   │   │   *q_table_e.pkl\n",
    "│   │   │   *q_table_glie.pkl\n",
    "│   │   │   *e.png                 \n",
    "│   │   │   *glie.png              \n",
    "│   ex3.ipynb                      # Main assignment file containing tasks <---------\n",
    "│   setup.py                       # Contains setup function\n",
    "│   utils.py                       # Contains useful functions \n",
    "```\n"
   ]
  },
  {
   "cell_type": "markdown",
   "id": "0c999cc7",
   "metadata": {
    "tags": []
   },
   "source": [
    "## 2. Cartpole <a id='2.'></a>\n",
    "\n",
    "Recall the Cartpole environment from Exercise 1.\n"
   ]
  },
  {
   "cell_type": "markdown",
   "id": "88cfe17b",
   "metadata": {
    "tags": []
   },
   "source": [
    "<a id='T1'></a>\n",
    "<div class=\" alert alert-warning\">\n",
    "    <h3><b>Student Task 1.</b> Implementing Q-Learning  (25 points) </h3> \n",
    "\n",
    "Implement Q-learning as presented in [Sutton and Barto, 2017, Section 6.5][1] for the Cartpole environment. Once you've successfully implemented the `get_action` and `update_q_value` functions,\n",
    "you can compare the two exploration methods:\n",
    "\n",
    "1. Use a constant value of $\\epsilon = 0.1$:\n",
    "    \n",
    "- Training:\n",
    "    ```python\n",
    "    # Training with constant epsilon 0.1\n",
    "    cfg_args = dict(epsilon=0.1, save_video=False)\n",
    "    train(cfg_path=Path().cwd() / 'cfg' / 'cartpole_v1.yaml', cfg_args=cfg_args)\n",
    "    ```\n",
    "- Testing:\n",
    "    ```python\n",
    "    # Testing with constant epsilon 0.1\n",
    "    cfg_args = dict(epsilon=0.1, save_video=True)\n",
    "    test(cfg_path=Path().cwd() / 'cfg' / 'cartpole_v1.yaml', cfg_args=cfg_args)\n",
    "    ```\n",
    "- Visualization: To record and visualize the agent's performance, you could set `save_video=True` and run the following:\n",
    "\n",
    "    ```python\n",
    "    Video(Path().cwd()/'results' / 'CartPole-v1' / 'video' / 'test' / 'ex3-episode-0.mp4', embed=True, html_attributes=\"loop autoplay\")\n",
    "    ```\n",
    "\n",
    "2. Implement **GLIE** (i.e., *Greedy in the Limit with Infinite Exploration*), which reduces the value of $\\epsilon$ over time. For **GLIE**, the goal is to reach $\\epsilon = 0.1$ after 20,000 episodes. Round the value of constant `glie_b` to the nearest integer. For details on the formula, refer to **[Lecture 3]**.\n",
    "    \n",
    "- Training (Ensure you've determined the correct value for `glie_b`):  \n",
    "    ```python\n",
    "    # Training with GLIE\n",
    "    cfg_args = dict(epsilon='glie', glie_b=<insert-correct-value>, save_video=False) # insert correct value for glie_b\n",
    "    train(cfg_path=Path().cwd() / 'cfg' / 'cartpole_v1.yaml', cfg_args=cfg_args) # < 30 mins\n",
    "    ```\n",
    "- Testing:\n",
    " \n",
    "    ```python\n",
    "    # Testing with GLIE\n",
    "    cfg_args = dict(epsilon='glie', save_video=True)\n",
    "    test(cfg_path=Path().cwd() / 'cfg' / 'cartpole_v1.yaml', cfg_args=cfg_args)\n",
    "    ```\n",
    "- Visualization: To record and visualize the agent's performance, you could set `save_video=True` and run the following:\n",
    "\n",
    "    ```python\n",
    "    Video(Path().cwd() / 'results' / 'CartPole-v1' / 'video' / 'test' / 'ex3-episode-0.mp4', embed=True, html_attributes=\"loop autoplay\")\n",
    "    ```\n",
    "    \n",
    "These videos will be stored in the **results** folder.\n",
    "\n",
    "**Note:** Before you proceed with the \"Training with GLIE\" method, ensure you have completed the \"Training with a constant epsilon\" steps. Since the video save path is the same, the results will be overwritten.\n",
    "\n",
    "---\n",
    "\n",
    "**Please attach the following files to your submission:**\n",
    "\n",
    "- Training performance plots:\n",
    "  - `task1_e.png`: This file represents the episode versus the smoothed episodic reward for the constant exploration rate.\n",
    "  - `task1_glie.png`: This file represents the episode versus the smoothed episodic reward for GLIE.\n",
    "\n",
    "- Q-table files:\n",
    "  - `task1_q_table_e.pkl`: Q-table for the constant exploration rate.\n",
    "  - `task1_q_table_glie.pkl`: Q-table for GLIE.\n",
    "\n",
    "Ensure all files are correctly named and included.\n",
    "\n",
    "\n",
    "<figure style=\"text-align: center\">\n",
    "<img src=\"imgs/ep_reward.png\" width=\"600px\">\n",
    "<figcaption style=\"text-align: center\"> Figure 1: The training performance plot should look similar to the one presented here when using GLIE  </figcaption>\n",
    "</figure>\n",
    "\n",
    "### References\n",
    "[1]: http://incompleteideas.net/book/RLbook2018.pdf\n",
    "[Sutton and Barto, 2017]: Sutton, Richard S., and Andrew G. Barto. \"Reinforcement Learning: An Introduction (in progress).\" London, England (2017).\n",
    "    \n",
    "🔝\t<a href='#TOC'><b>Table of Contents</b></a>\n",
    "</div>\n",
    "\n"
   ]
  },
  {
   "cell_type": "code",
   "execution_count": 67,
   "id": "47d6ce86",
   "metadata": {
    "tags": []
   },
   "outputs": [],
   "source": [
    "# --- Standard Libraries ---\n",
    "from pathlib import Path\n",
    "from collections import deque\n",
    "import warnings\n",
    "import os\n",
    "\n",
    "# --- Third-party Libraries ---\n",
    "import numpy as np  # Fundamental package for scientific computing\n",
    "from IPython.display import Video  # For displaying videos in the notebook\n",
    "import seaborn as sns\n",
    "import matplotlib.pyplot as plt\n",
    "import pandas as pd\n",
    "\n",
    "# --- Custom Modules ---\n",
    "from setup import setup  # Setup functions for training\n",
    "import utils as u  # Helper functions for the notebook\n",
    "\n",
    "# --- Configurations ---\n",
    "# Set working directory to 'results'\n",
    "work_dir = Path().cwd() / 'results'\n",
    "\n",
    "# Suppress DeprecationWarnings\n",
    "warnings.filterwarnings(\"ignore\", category=DeprecationWarning)"
   ]
  },
  {
   "cell_type": "code",
   "execution_count": 68,
   "id": "b91287ed",
   "metadata": {
    "tags": []
   },
   "outputs": [],
   "source": [
    "def init_q_table(observation_space, action_dim, discr, bool_position=None, init_q=0.):\n",
    "    \"\"\"\n",
    "    Initialize a Q-table for the given observation space and actions.\n",
    "    \n",
    "    Parameters:\n",
    "    - observation_space: The state space of the environment.\n",
    "    - action_dim: The number of possible actions.\n",
    "    - discr: The number of divisions for discretization.\n",
    "    - bool_position: Indexes where the observation space has boolean values.\n",
    "    - init_q: Initial value for the Q-table.\n",
    "    \n",
    "    Returns:\n",
    "    - axis: A list of numpy arrays representing the discrete states. \n",
    "            Each array's length corresponds to either 'discr' or 2 (for boolean values).\n",
    "    - q_table: The initialized Q-table. Its shape is determined by [*axis dimensions, action_dim].\n",
    "               For example, if the axis dimensions were [10, 10] and action_dim was 3, \n",
    "               the q_table shape would be [10, 10, 3].\n",
    "    \"\"\"\n",
    "    high_values = observation_space.high\n",
    "    low_values = observation_space.low\n",
    "    axis = []\n",
    "    for idx, (low_val, high_val) in enumerate(zip(low_values, high_values)):\n",
    "        # here to avoid inf boundary, we truncate the value to [-4, 4] \n",
    "        if low_val < -1e10: low_val = -4\n",
    "        if high_val > 1e10: high_val = 4\n",
    "        \n",
    "        if (bool_position is not None) and (idx in bool_position):\n",
    "            axis.append(np.linspace(low_val, high_val, 2, dtype=np.float32)) # for boolean, we only have two values: 1., 0.\n",
    "        else:\n",
    "            axis.append(np.linspace(low_val, high_val, discr, dtype=np.float32))\n",
    "    _shape = [ax.shape[0] for ax in axis] + [action_dim]\n",
    "    q_table = np.zeros(_shape) + init_q\n",
    "    return axis, q_table\n",
    "\n",
    "def get_table_idx(state, axis):\n",
    "    \"\"\"\n",
    "    Give a state, discretize it, and return the index in each dimension (axis). \n",
    "    With the returned index, you can access q(s,.) with q_table[idx].\n",
    "    \n",
    "    Parameters:\n",
    "    - state: The state to be discretized. \n",
    "    - axis: The discrete state space as a list of numpy arrays. \n",
    "    \n",
    "    Returns:\n",
    "    - idx: A tuple representing the index of the discretized state in the Q-table. \n",
    "           Its shape matches the dimensions of the provided 'axis'.\n",
    "    \"\"\"\n",
    "    def _get_ax_idx(ax, value):\n",
    "        return np.argmin(np.abs(ax - value))\n",
    "    return tuple([_get_ax_idx(ax, value) for ax, value in zip(axis, state)])"
   ]
  },
  {
   "cell_type": "code",
   "execution_count": 105,
   "id": "a6b139b4",
   "metadata": {
    "tags": []
   },
   "outputs": [],
   "source": [
    "def get_action(state, q_axis, q_table, epsilon=0.0):\n",
    "    \"\"\"\n",
    "    Determine the action to take based on epsilon-greedy strategy.\n",
    "    \n",
    "    Parameters:\n",
    "    - state: The current state of the agent.\n",
    "    - q_axis: The discrete state space as a list of numpy arrays.\n",
    "    - q_table: The Q-table with learned values.\n",
    "    - epsilon: The probability with which a random action is taken (exploration). \n",
    "               Default is 0 (purely greedy).\n",
    "    \n",
    "    Returns:\n",
    "    - action: The chosen action, either greedily or randomly based on epsilon.\n",
    "    \"\"\"\n",
    "    # if epsilon == 0.0, the policy will be greedy -- always choose the best action\n",
    "\n",
    "    # TODO: Task 1, implement epsilon-greedy\n",
    "    # 1. Discretize the given state by using the get_table_idx(state, axis) function\n",
    "    # 2. Use the discretized state's index to access the Q-table\n",
    "    # 3. Generate a random number between 0 and 1.\n",
    "    # 4. Compare this number to `epsilon`\n",
    "    # 5. If the random number is less than `epsilon`, choose a random action.\n",
    "    # 6. Otherwise, choose the best action (greedy action)\n",
    "    ########## Your code starts here ##########\n",
    "    s_t = get_table_idx(state, q_axis)\n",
    "    q_t = q_table[s_t]\n",
    "    max_action = q_t.argmax()\n",
    "    random_action = 1 if np.random.rand(1)[0] > 0.5 else 0\n",
    "    ########## Your code ends here #########\n",
    "    return random_action if np.random.rand(1)[0] < epsilon else max_action\n",
    "\n",
    "\n",
    "def update_q_value(old_state, action, new_state, gamma, reward, done, alpha, q_axis, q_table):\n",
    "    \"\"\"\n",
    "    Update the Q-value for a state-action pair based on the Q-learning update rule.\n",
    "    \n",
    "    Parameters:\n",
    "    - old_state: The original state before taking the action.\n",
    "    - action: The action taken.\n",
    "    - new_state: The state after taking the action.\n",
    "    - gamma: Discount factor.\n",
    "    - reward: Immediate reward for taking the action.\n",
    "    - done: Boolean indicating if the episode is done.\n",
    "    - alpha: Learning rate.\n",
    "    - q_axis: The discrete state space as a list of numpy arrays.\n",
    "    - q_table: The Q-table with learned values.\n",
    "    \n",
    "    Returns:\n",
    "    - q_table: Updated Q-table.\n",
    "    \"\"\"\n",
    "\n",
    "    # q_table contains discretized state-action space (16, 16, 16, 16, 2) values\n",
    "    # Each observation is discritized 16 times and the last dimension are the two\n",
    "    # actions that can be taken. \n",
    "    \n",
    "    # TODO: Task 1, update q value\n",
    "    # 1. Retrieve Old Q-Value\n",
    "    # 2. Determine the Next Action\n",
    "    # 3. Retrieve New Q-Value\n",
    "    #     If the episode isn't done, get the Q-value for the new_state and next_action.\n",
    "    #     If the episode is done, set the new Q-value to zero.\n",
    "    # 4. Compute the Updated Q-Value\n",
    "    # 5. Update the Q-Table \n",
    "    # 6. Return the Updated Q-Table\n",
    "\n",
    "    ########## Your code starts here ##########\n",
    "    s_t = get_table_idx(old_state, q_axis) # idx of q(s_old, *)\n",
    "    q_t = q_table[s_t][action]\n",
    "    s_t1 = get_table_idx(new_state, q_axis) # idx of q(s_new, *)\n",
    "    max_q_t1 = q_table[s_t1].max() if not done else 0\n",
    "    q_table[s_t][action] = q_t + alpha * (reward + gamma * max_q_t1 - q_t)\n",
    "    ########### Your code ends here ########## \n",
    "    return q_table"
   ]
  },
  {
   "cell_type": "code",
   "execution_count": 106,
   "id": "cbac9220-4285-457e-aa9a-f41278b7c32c",
   "metadata": {
    "tags": []
   },
   "outputs": [
    {
     "name": "stdout",
     "output_type": "stream",
     "text": [
      "Numpy/Torch/Random Seed:  409\n",
      "(16, 16, 16, 16, 2)\n"
     ]
    }
   ],
   "source": [
    "cfg_args = dict(epsilon=0.1, save_video=False)\n",
    "env, cfg = setup(Path.cwd()/'cfg'/'debug.yaml', cfg_args=cfg_args)\n",
    "(state, _), done, ep_reward, timesteps = env.reset(seed=cfg.seed), False, 0, 0\n",
    "q_axis, q_table = init_q_table(env.observation_space, \n",
    "                               env.action_space.n, cfg.discr, bool_position=cfg.bool_position, init_q=cfg.initial_q)\n",
    "print(np.shape(q_table))"
   ]
  },
  {
   "cell_type": "code",
   "execution_count": 109,
   "id": "86d5c0aa-50f3-42e5-96aa-656562944a79",
   "metadata": {
    "tags": []
   },
   "outputs": [
    {
     "name": "stdout",
     "output_type": "stream",
     "text": [
      "[-0.01897487 -0.01454413 -0.04894708  0.03716917]\n",
      "0 0.19\n",
      "[-0.03151107 -0.59784526 -0.03010107  0.87030363]\n",
      "0.271\n"
     ]
    }
   ],
   "source": [
    "print(state)\n",
    "action = get_action(state, q_axis, q_table, 0)\n",
    "print(action, q_table[get_table_idx(state, q_axis)][action])\n",
    "new_state, reward, done, _, _ = env.step(action)\n",
    "print(new_state)\n",
    "q_table = update_q_value(state, action, new_state, cfg.gamma, reward, done, cfg.alpha,\n",
    "                                        q_axis, q_table)\n",
    "print(q_table[get_table_idx(state, q_axis)][action])"
   ]
  },
  {
   "cell_type": "code",
   "execution_count": 82,
   "id": "62297b95-5f55-4dcc-827b-ff984ae99bd2",
   "metadata": {
    "tags": []
   },
   "outputs": [],
   "source": [
    "def plot_training_data(training_data, save_path):\n",
    "    df = pd.DataFrame(training_data)\n",
    "    plt.figure(figsize=(5, 3.5))\n",
    "    sns.lineplot(data=df, x='episode', y='ep_reward_avg')\n",
    "    plt.title('Training Performance')\n",
    "    plt.savefig(save_path)\n",
    "    plt.show()\n",
    "\n",
    "def train(cfg_path, cfg_args={}):\n",
    "    env, cfg = setup(cfg_path, cfg_args=cfg_args)\n",
    "    performance_data = []\n",
    "\n",
    "    # init q_table with zeros\n",
    "    q_axis, q_table = init_q_table(env.observation_space, \n",
    "        env.action_space.n, cfg.discr, bool_position=cfg.bool_position, init_q=cfg.initial_q)\n",
    "\n",
    "    # begin training and testing\n",
    "    ep_reward_deque = deque([], maxlen=500)  # used to calculate the smoothed (avg over recent 500 episodes) ep_reward\n",
    "    for ep in range(cfg.train_episodes + 1):\n",
    "        # set epsilon value\n",
    "        if cfg.epsilon == 'glie':\n",
    "            epsilon = cfg.glie_b / (cfg.glie_b + ep)  \n",
    "        elif isinstance(cfg.epsilon, (int, float)):\n",
    "            epsilon = cfg.epsilon\n",
    "        else: \n",
    "            raise ValueError\n",
    "        \n",
    "        (state, _), done, ep_reward, timesteps = env.reset(seed=cfg.seed), False, 0, 0\n",
    "        while not done:\n",
    "            action = get_action(state, q_axis, q_table, epsilon=epsilon) \n",
    "            new_state, reward, done, _, _ = env.step(action)\n",
    "            q_table = update_q_value(state, action, new_state, cfg.gamma, reward, done, cfg.alpha,\n",
    "                                        q_axis, q_table)\n",
    "    \n",
    "            state = new_state\n",
    "            ep_reward += reward\n",
    "            timesteps += 1\n",
    "            if timesteps >= env.spec.max_episode_steps:\n",
    "                done = True\n",
    "                \n",
    "        ep_reward_deque.append(ep_reward)\n",
    "        info = {\n",
    "            'episode': ep,\n",
    "            'epsilon': epsilon,\n",
    "            'ep_reward': ep_reward,\n",
    "            'timesteps': timesteps,\n",
    "            'ep_reward_avg': np.mean(list(ep_reward_deque))\n",
    "        }\n",
    "\n",
    "        performance_data.append(info)\n",
    "        \n",
    "\n",
    "        if (not cfg.silent) and (ep % 500 == 0): print(info)\n",
    "    \n",
    "    work_dir = Path().cwd()/'results'/f'{cfg.env_name}'\n",
    "      \n",
    "    # save the q-value table and q_axis\n",
    "    file_pre = f\"{cfg.task_no}_\" if hasattr(cfg, 'task_no') else \"\"\n",
    "    file = file_pre + 'q_table_glie.pkl' if cfg.epsilon == 'glie' else file_pre + 'q_table_e.pkl'\n",
    "    u.save_object({'q_table': q_table, 'axis': q_axis},\n",
    "                        work_dir/file)\n",
    "    png_file = file_pre + '_glie.png' if cfg.epsilon == 'glie' else file_pre + '_e.png'\n",
    "    plot_training_data(performance_data, work_dir/png_file)\n",
    "    print('Training done!')\n",
    "\n",
    "    \n",
    "def test(cfg_path, cfg_args={'testing':True}):\n",
    "    # test under random seed for each episode\n",
    "    seed = np.random.randint(0, 10000)\n",
    "    \n",
    "    cfg_args.update({'testing':True})\n",
    "    env, cfg = setup(cfg_path, cfg_args=cfg_args)\n",
    "    \n",
    "    work_dir = Path().cwd()/'results'/f'{cfg.env_name}'\n",
    "    \n",
    "    # load q_table\n",
    "    file_pre = f\"{cfg.task_no}_\" if hasattr(cfg, 'task_no') else \"\"\n",
    "    file = file_pre + 'q_table_glie.pkl' if cfg.epsilon == 'glie' else file_pre + 'q_table_e.pkl'\n",
    "    data = u.load_object(work_dir/file)\n",
    "    q_axis, q_table = data['axis'], data['q_table']\n",
    "\n",
    "    # begin testing\n",
    "    avg_ep_reward = 0\n",
    "    for ep in range(cfg.test_episodes):\n",
    "        (state, _), done, ep_reward, timesteps = env.reset(seed=seed + ep), False, 0, 0\n",
    "        while not done:\n",
    "            action = get_action(state, q_axis, q_table, epsilon=0.0) # be greedy during testing\n",
    "            new_state, reward, done, _, _ = env.step(action)\n",
    "\n",
    "            state = new_state\n",
    "            ep_reward += reward\n",
    "            timesteps += 1\n",
    "            if timesteps >= env.spec.max_episode_steps:\n",
    "                done = True\n",
    "        \n",
    "        info = {\n",
    "            'test_episode': ep,\n",
    "            'test_ep_reward': ep_reward,\n",
    "            'timesteps': timesteps,\n",
    "        }\n",
    "        avg_ep_reward += ep_reward\n",
    "   \n",
    "        if not cfg.silent: \n",
    "            print(info)\n",
    "    \n",
    "    print(f'Testing done! Average test reward is {avg_ep_reward / cfg.test_episodes}')"
   ]
  },
  {
   "cell_type": "code",
   "execution_count": 110,
   "id": "dace84a6-031e-4b0d-9d99-511af93202eb",
   "metadata": {
    "tags": []
   },
   "outputs": [
    {
     "name": "stdout",
     "output_type": "stream",
     "text": [
      "Numpy/Torch/Random Seed:  409\n",
      "{'episode': 0, 'epsilon': 0.1, 'ep_reward': 10.0, 'timesteps': 10, 'ep_reward_avg': 10.0}\n",
      "{'episode': 500, 'epsilon': 0.1, 'ep_reward': 11.0, 'timesteps': 11, 'ep_reward_avg': 11.028}\n",
      "{'episode': 1000, 'epsilon': 0.1, 'ep_reward': 17.0, 'timesteps': 17, 'ep_reward_avg': 14.138}\n",
      "{'episode': 1500, 'epsilon': 0.1, 'ep_reward': 95.0, 'timesteps': 95, 'ep_reward_avg': 55.098}\n",
      "{'episode': 2000, 'epsilon': 0.1, 'ep_reward': 87.0, 'timesteps': 87, 'ep_reward_avg': 92.17}\n",
      "{'episode': 2500, 'epsilon': 0.1, 'ep_reward': 102.0, 'timesteps': 102, 'ep_reward_avg': 91.5}\n",
      "{'episode': 3000, 'epsilon': 0.1, 'ep_reward': 98.0, 'timesteps': 98, 'ep_reward_avg': 92.634}\n",
      "{'episode': 3500, 'epsilon': 0.1, 'ep_reward': 116.0, 'timesteps': 116, 'ep_reward_avg': 112.504}\n",
      "{'episode': 4000, 'epsilon': 0.1, 'ep_reward': 149.0, 'timesteps': 149, 'ep_reward_avg': 124.804}\n",
      "{'episode': 4500, 'epsilon': 0.1, 'ep_reward': 123.0, 'timesteps': 123, 'ep_reward_avg': 129.216}\n",
      "{'episode': 5000, 'epsilon': 0.1, 'ep_reward': 140.0, 'timesteps': 140, 'ep_reward_avg': 128.97}\n",
      "{'episode': 5500, 'epsilon': 0.1, 'ep_reward': 151.0, 'timesteps': 151, 'ep_reward_avg': 124.242}\n",
      "{'episode': 6000, 'epsilon': 0.1, 'ep_reward': 151.0, 'timesteps': 151, 'ep_reward_avg': 127.724}\n",
      "{'episode': 6500, 'epsilon': 0.1, 'ep_reward': 126.0, 'timesteps': 126, 'ep_reward_avg': 129.298}\n",
      "{'episode': 7000, 'epsilon': 0.1, 'ep_reward': 124.0, 'timesteps': 124, 'ep_reward_avg': 141.926}\n",
      "{'episode': 7500, 'epsilon': 0.1, 'ep_reward': 138.0, 'timesteps': 138, 'ep_reward_avg': 134.172}\n",
      "{'episode': 8000, 'epsilon': 0.1, 'ep_reward': 98.0, 'timesteps': 98, 'ep_reward_avg': 127.988}\n",
      "{'episode': 8500, 'epsilon': 0.1, 'ep_reward': 126.0, 'timesteps': 126, 'ep_reward_avg': 138.762}\n",
      "{'episode': 9000, 'epsilon': 0.1, 'ep_reward': 124.0, 'timesteps': 124, 'ep_reward_avg': 127.606}\n",
      "{'episode': 9500, 'epsilon': 0.1, 'ep_reward': 161.0, 'timesteps': 161, 'ep_reward_avg': 126.774}\n",
      "{'episode': 10000, 'epsilon': 0.1, 'ep_reward': 159.0, 'timesteps': 159, 'ep_reward_avg': 135.53}\n",
      "{'episode': 10500, 'epsilon': 0.1, 'ep_reward': 120.0, 'timesteps': 120, 'ep_reward_avg': 131.282}\n",
      "{'episode': 11000, 'epsilon': 0.1, 'ep_reward': 116.0, 'timesteps': 116, 'ep_reward_avg': 133.456}\n",
      "{'episode': 11500, 'epsilon': 0.1, 'ep_reward': 41.0, 'timesteps': 41, 'ep_reward_avg': 136.318}\n",
      "{'episode': 12000, 'epsilon': 0.1, 'ep_reward': 158.0, 'timesteps': 158, 'ep_reward_avg': 132.612}\n",
      "{'episode': 12500, 'epsilon': 0.1, 'ep_reward': 103.0, 'timesteps': 103, 'ep_reward_avg': 129.814}\n",
      "{'episode': 13000, 'epsilon': 0.1, 'ep_reward': 149.0, 'timesteps': 149, 'ep_reward_avg': 129.7}\n",
      "{'episode': 13500, 'epsilon': 0.1, 'ep_reward': 215.0, 'timesteps': 215, 'ep_reward_avg': 138.536}\n",
      "{'episode': 14000, 'epsilon': 0.1, 'ep_reward': 146.0, 'timesteps': 146, 'ep_reward_avg': 141.592}\n",
      "{'episode': 14500, 'epsilon': 0.1, 'ep_reward': 136.0, 'timesteps': 136, 'ep_reward_avg': 130.024}\n",
      "{'episode': 15000, 'epsilon': 0.1, 'ep_reward': 121.0, 'timesteps': 121, 'ep_reward_avg': 126.234}\n",
      "{'episode': 15500, 'epsilon': 0.1, 'ep_reward': 109.0, 'timesteps': 109, 'ep_reward_avg': 129.43}\n",
      "{'episode': 16000, 'epsilon': 0.1, 'ep_reward': 140.0, 'timesteps': 140, 'ep_reward_avg': 121.57}\n",
      "{'episode': 16500, 'epsilon': 0.1, 'ep_reward': 355.0, 'timesteps': 355, 'ep_reward_avg': 138.21}\n",
      "{'episode': 17000, 'epsilon': 0.1, 'ep_reward': 150.0, 'timesteps': 150, 'ep_reward_avg': 151.494}\n",
      "{'episode': 17500, 'epsilon': 0.1, 'ep_reward': 157.0, 'timesteps': 157, 'ep_reward_avg': 149.258}\n",
      "{'episode': 18000, 'epsilon': 0.1, 'ep_reward': 126.0, 'timesteps': 126, 'ep_reward_avg': 141.904}\n",
      "{'episode': 18500, 'epsilon': 0.1, 'ep_reward': 147.0, 'timesteps': 147, 'ep_reward_avg': 152.724}\n",
      "{'episode': 19000, 'epsilon': 0.1, 'ep_reward': 108.0, 'timesteps': 108, 'ep_reward_avg': 145.954}\n",
      "{'episode': 19500, 'epsilon': 0.1, 'ep_reward': 80.0, 'timesteps': 80, 'ep_reward_avg': 138.724}\n",
      "{'episode': 20000, 'epsilon': 0.1, 'ep_reward': 123.0, 'timesteps': 123, 'ep_reward_avg': 132.88}\n"
     ]
    },
    {
     "data": {
      "image/png": "[encoded data removed]",
      "text/plain": [
       "<Figure size 500x350 with 1 Axes>"
      ]
     },
     "metadata": {},
     "output_type": "display_data"
    },
    {
     "name": "stdout",
     "output_type": "stream",
     "text": [
      "Training done!\n"
     ]
    }
   ],
   "source": [
    "# Training with constant epsilon 0.1\n",
    "cfg_args = dict(epsilon=0.1, save_video=False)\n",
    "train(cfg_path=Path().cwd()/'cfg'/'cartpole_v1.yaml', cfg_args=cfg_args) # < 30 mins"
   ]
  },
  {
   "cell_type": "code",
   "execution_count": 111,
   "id": "8d603c2a-5582-4a7b-a04b-7b6ba03fc89d",
   "metadata": {
    "tags": []
   },
   "outputs": [
    {
     "name": "stdout",
     "output_type": "stream",
     "text": [
      "Numpy/Torch/Random Seed:  409\n"
     ]
    },
    {
     "name": "stderr",
     "output_type": "stream",
     "text": [
      "/opt/software/lib/python3.10/site-packages/gymnasium/wrappers/record_video.py:94: UserWarning: \u001b[33mWARN: Overwriting existing videos at /notebooks/rl2023/ex3/results/CartPole-v1/video/test folder (try specifying a different `video_folder` for the `RecordVideo` wrapper if this is not desired)\u001b[0m\n",
      "  logger.warn(\n"
     ]
    },
    {
     "name": "stdout",
     "output_type": "stream",
     "text": [
      "{'test_episode': 0, 'test_ep_reward': 82.0, 'timesteps': 82}\n",
      "{'test_episode': 1, 'test_ep_reward': 96.0, 'timesteps': 96}\n",
      "{'test_episode': 2, 'test_ep_reward': 139.0, 'timesteps': 139}\n",
      "{'test_episode': 3, 'test_ep_reward': 119.0, 'timesteps': 119}\n",
      "{'test_episode': 4, 'test_ep_reward': 28.0, 'timesteps': 28}\n",
      "{'test_episode': 5, 'test_ep_reward': 36.0, 'timesteps': 36}\n",
      "{'test_episode': 6, 'test_ep_reward': 43.0, 'timesteps': 43}\n",
      "{'test_episode': 7, 'test_ep_reward': 40.0, 'timesteps': 40}\n",
      "{'test_episode': 8, 'test_ep_reward': 172.0, 'timesteps': 172}\n",
      "{'test_episode': 9, 'test_ep_reward': 126.0, 'timesteps': 126}\n",
      "Testing done! Average test reward is 88.1\n"
     ]
    }
   ],
   "source": [
    "# Testing with constant epsilon 0.1\n",
    "cfg_args = dict(epsilon=0.1, save_video=True)\n",
    "test(cfg_path=Path().cwd() / 'cfg' / 'cartpole_v1.yaml', cfg_args=cfg_args)"
   ]
  },
  {
   "cell_type": "markdown",
   "id": "2f6dd079-2502-4c2c-bd8e-0ac321b5826d",
   "metadata": {},
   "source": [
    "To visualize how the agent acts within the environment, execute the cell below. **Modify the path** to select the episode you'd like to observe. Remember, by default, videos are saved every 500 episodes during training."
   ]
  },
  {
   "cell_type": "code",
   "execution_count": 112,
   "id": "356b9226-601e-4ba3-ae3b-05f5ea36d3ca",
   "metadata": {
    "tags": []
   },
   "outputs": [
    {
     "data": {
      "text/html": [
       "<video loop autoplay  >\n",
       " <source src=\"data:video/mp4;base64,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\" type=\"video/mp4\">\n",
       " Your browser does not support the video tag.\n",
       " </video>"
      ],
      "text/plain": [
       "<IPython.core.display.Video object>"
      ]
     },
     "execution_count": 112,
     "metadata": {},
     "output_type": "execute_result"
    }
   ],
   "source": [
    "# Visualizing the results with constant epsilon 0.1\n",
    "Video(Path().cwd()/'results'/'CartPole-v1'/'video'/'test'/'ex3-episode-8.mp4',\n",
    "      embed=True, html_attributes=\"loop autoplay\") # Set html_attributes=\"controls\" for video control"
   ]
  },
  {
   "cell_type": "markdown",
   "id": "9f187979-feb2-4833-a11a-68cfacc62080",
   "metadata": {},
   "source": [
    "\n",
    "**Important Reminder:** Before initiating the \"Training with GLIE\" process, make sure you've fully executed the steps under \"Training with a constant epsilon\". Be cautious, as the video save path remains identical; thus, any previous results will be overwritten.\n"
   ]
  },
  {
   "cell_type": "code",
   "execution_count": 113,
   "id": "4f5da29e-f3f3-4b23-b879-a7786eb25c94",
   "metadata": {
    "tags": []
   },
   "outputs": [
    {
     "name": "stdout",
     "output_type": "stream",
     "text": [
      "Numpy/Torch/Random Seed:  409\n",
      "{'episode': 0, 'epsilon': 1.0, 'ep_reward': 20.0, 'timesteps': 20, 'ep_reward_avg': 20.0}\n",
      "{'episode': 500, 'epsilon': 0.8163265291128696, 'ep_reward': 78.0, 'timesteps': 78, 'ep_reward_avg': 23.758}\n",
      "{'episode': 1000, 'epsilon': 0.689655170273484, 'ep_reward': 20.0, 'timesteps': 20, 'ep_reward_avg': 33.952}\n",
      "{'episode': 1500, 'epsilon': 0.5970149229672533, 'ep_reward': 30.0, 'timesteps': 30, 'ep_reward_avg': 47.13}\n",
      "{'episode': 2000, 'epsilon': 0.5263157869806094, 'ep_reward': 95.0, 'timesteps': 95, 'ep_reward_avg': 63.398}\n",
      "{'episode': 2500, 'epsilon': 0.4705882328027682, 'ep_reward': 121.0, 'timesteps': 121, 'ep_reward_avg': 81.182}\n",
      "{'episode': 3000, 'epsilon': 0.42553191244907196, 'ep_reward': 110.0, 'timesteps': 110, 'ep_reward_avg': 86.722}\n",
      "{'episode': 3500, 'epsilon': 0.3883495121877651, 'ep_reward': 70.0, 'timesteps': 70, 'ep_reward_avg': 92.416}\n",
      "{'episode': 4000, 'epsilon': 0.3571428548469388, 'ep_reward': 176.0, 'timesteps': 176, 'ep_reward_avg': 114.574}\n",
      "{'episode': 4500, 'epsilon': 0.33057851018373063, 'ep_reward': 183.0, 'timesteps': 183, 'ep_reward_avg': 119.678}\n",
      "{'episode': 5000, 'epsilon': 0.3076923055621302, 'ep_reward': 189.0, 'timesteps': 189, 'ep_reward_avg': 123.586}\n",
      "{'episode': 5500, 'epsilon': 0.2877697821230785, 'ep_reward': 99.0, 'timesteps': 99, 'ep_reward_avg': 128.238}\n",
      "{'episode': 6000, 'epsilon': 0.27027026829802775, 'ep_reward': 136.0, 'timesteps': 136, 'ep_reward_avg': 128.558}\n",
      "{'episode': 6500, 'epsilon': 0.25477706816503715, 'ep_reward': 334.0, 'timesteps': 334, 'ep_reward_avg': 135.768}\n",
      "{'episode': 7000, 'epsilon': 0.240963853592684, 'ep_reward': 359.0, 'timesteps': 359, 'ep_reward_avg': 166.698}\n",
      "{'episode': 7500, 'epsilon': 0.22857142680816328, 'ep_reward': 205.0, 'timesteps': 205, 'ep_reward_avg': 169.346}\n",
      "{'episode': 8000, 'epsilon': 0.21739130264650283, 'ep_reward': 234.0, 'timesteps': 234, 'ep_reward_avg': 190.558}\n",
      "{'episode': 8500, 'epsilon': 0.20725388436736558, 'ep_reward': 144.0, 'timesteps': 144, 'ep_reward_avg': 183.79}\n",
      "{'episode': 9000, 'epsilon': 0.19801980039211842, 'ep_reward': 210.0, 'timesteps': 210, 'ep_reward_avg': 188.762}\n",
      "{'episode': 9500, 'epsilon': 0.1895734581792862, 'ep_reward': 218.0, 'timesteps': 218, 'ep_reward_avg': 195.454}\n",
      "{'episode': 10000, 'epsilon': 0.18181818033057853, 'ep_reward': 237.0, 'timesteps': 237, 'ep_reward_avg': 199.144}\n",
      "{'episode': 10500, 'epsilon': 0.17467248764134932, 'ep_reward': 253.0, 'timesteps': 253, 'ep_reward_avg': 209.454}\n",
      "{'episode': 11000, 'epsilon': 0.16806722549254996, 'ep_reward': 485.0, 'timesteps': 485, 'ep_reward_avg': 208.866}\n",
      "{'episode': 11500, 'epsilon': 0.16194331848087987, 'ep_reward': 204.0, 'timesteps': 204, 'ep_reward_avg': 219.282}\n",
      "{'episode': 12000, 'epsilon': 0.15624999868164063, 'ep_reward': 285.0, 'timesteps': 285, 'ep_reward_avg': 220.524}\n",
      "{'episode': 12500, 'epsilon': 0.15094339494482023, 'ep_reward': 439.0, 'timesteps': 439, 'ep_reward_avg': 215.238}\n",
      "{'episode': 13000, 'epsilon': 0.14598540021311737, 'ep_reward': 82.0, 'timesteps': 82, 'ep_reward_avg': 255.704}\n",
      "{'episode': 13500, 'epsilon': 0.14134275497009577, 'ep_reward': 190.0, 'timesteps': 190, 'ep_reward_avg': 190.12}\n",
      "{'episode': 14000, 'epsilon': 0.13698630018765248, 'ep_reward': 346.0, 'timesteps': 346, 'ep_reward_avg': 232.67}\n",
      "{'episode': 14500, 'epsilon': 0.13289036429619983, 'ep_reward': 112.0, 'timesteps': 112, 'ep_reward_avg': 214.174}\n",
      "{'episode': 15000, 'epsilon': 0.1290322569406868, 'ep_reward': 142.0, 'timesteps': 142, 'ep_reward_avg': 219.692}\n",
      "{'episode': 15500, 'epsilon': 0.12539184843309323, 'ep_reward': 198.0, 'timesteps': 198, 'ep_reward_avg': 256.218}\n",
      "{'episode': 16000, 'epsilon': 0.12195121844140393, 'ep_reward': 335.0, 'timesteps': 335, 'ep_reward_avg': 260.09}\n",
      "{'episode': 16500, 'epsilon': 0.11869436097174406, 'ep_reward': 210.0, 'timesteps': 210, 'ep_reward_avg': 269.514}\n",
      "{'episode': 17000, 'epsilon': 0.11560693539376525, 'ep_reward': 500.0, 'timesteps': 500, 'ep_reward_avg': 297.132}\n",
      "{'episode': 17500, 'epsilon': 0.11267605533822656, 'ep_reward': 259.0, 'timesteps': 259, 'ep_reward_avg': 236.87}\n",
      "{'episode': 18000, 'epsilon': 0.10989010891196715, 'ep_reward': 208.0, 'timesteps': 208, 'ep_reward_avg': 285.026}\n",
      "{'episode': 18500, 'epsilon': 0.10723860494073846, 'ep_reward': 126.0, 'timesteps': 126, 'ep_reward_avg': 302.588}\n",
      "{'episode': 19000, 'epsilon': 0.10471204094734246, 'ep_reward': 162.0, 'timesteps': 162, 'ep_reward_avg': 328.506}\n",
      "{'episode': 19500, 'epsilon': 0.10230178936296859, 'ep_reward': 104.0, 'timesteps': 104, 'ep_reward_avg': 274.472}\n",
      "{'episode': 20000, 'epsilon': 0.0999999991, 'ep_reward': 445.0, 'timesteps': 445, 'ep_reward_avg': 255.296}\n"
     ]
    },
    {
     "data": {
      "image/png": "[encoded data removed]",
      "text/plain": [
       "<Figure size 500x350 with 1 Axes>"
      ]
     },
     "metadata": {},
     "output_type": "display_data"
    },
    {
     "name": "stdout",
     "output_type": "stream",
     "text": [
      "Training done!\n"
     ]
    }
   ],
   "source": [
    "# Training with GLIE\n",
    "cfg_args = dict(epsilon='glie', glie_b=2222.2222, save_video=False) # insert correct value for glie_b\n",
    "train(cfg_path=Path().cwd() / 'cfg' / 'cartpole_v1.yaml', cfg_args=cfg_args) # < 30 mins"
   ]
  },
  {
   "cell_type": "code",
   "execution_count": 114,
   "id": "a77aea8d-2c8c-4e8f-baec-a3fd68fead5b",
   "metadata": {
    "tags": []
   },
   "outputs": [
    {
     "name": "stdout",
     "output_type": "stream",
     "text": [
      "Numpy/Torch/Random Seed:  409\n"
     ]
    },
    {
     "name": "stderr",
     "output_type": "stream",
     "text": [
      "/opt/software/lib/python3.10/site-packages/gymnasium/wrappers/record_video.py:94: UserWarning: \u001b[33mWARN: Overwriting existing videos at /notebooks/rl2023/ex3/results/CartPole-v1/video/test folder (try specifying a different `video_folder` for the `RecordVideo` wrapper if this is not desired)\u001b[0m\n",
      "  logger.warn(\n"
     ]
    },
    {
     "name": "stdout",
     "output_type": "stream",
     "text": [
      "{'test_episode': 0, 'test_ep_reward': 250.0, 'timesteps': 250}\n",
      "{'test_episode': 1, 'test_ep_reward': 382.0, 'timesteps': 382}\n",
      "{'test_episode': 2, 'test_ep_reward': 233.0, 'timesteps': 233}\n",
      "{'test_episode': 3, 'test_ep_reward': 266.0, 'timesteps': 266}\n",
      "{'test_episode': 4, 'test_ep_reward': 246.0, 'timesteps': 246}\n",
      "{'test_episode': 5, 'test_ep_reward': 261.0, 'timesteps': 261}\n",
      "{'test_episode': 6, 'test_ep_reward': 265.0, 'timesteps': 265}\n",
      "{'test_episode': 7, 'test_ep_reward': 192.0, 'timesteps': 192}\n",
      "{'test_episode': 8, 'test_ep_reward': 230.0, 'timesteps': 230}\n",
      "{'test_episode': 9, 'test_ep_reward': 496.0, 'timesteps': 496}\n",
      "Testing done! Average test reward is 282.1\n"
     ]
    }
   ],
   "source": [
    "# Testing with GLIE\n",
    "cfg_args = dict(epsilon='glie', save_video=True)\n",
    "test(cfg_path=Path().cwd() / 'cfg' / 'cartpole_v1.yaml', cfg_args=cfg_args)"
   ]
  },
  {
   "cell_type": "markdown",
   "id": "bdec32a0-acec-46fb-80cb-72bf8b6c5843",
   "metadata": {},
   "source": [
    "Just as in the \"visualize the results with constant epsilon 0.1\" section, **modify the path** to select the episode you'd like to observe. Remember, videos are saved every 500 episodes during training."
   ]
  },
  {
   "cell_type": "code",
   "execution_count": 115,
   "id": "c6204544",
   "metadata": {
    "tags": []
   },
   "outputs": [
    {
     "data": {
      "text/html": [
       "<video loop autoplay  >\n",
       " <source src=\"data:video/mp4;base64,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\" type=\"video/mp4\">\n",
       " Your browser does not support the video tag.\n",
       " </video>"
      ],
      "text/plain": [
       "<IPython.core.display.Video object>"
      ]
     },
     "execution_count": 115,
     "metadata": {},
     "output_type": "execute_result"
    }
   ],
   "source": [
    "# Visualizing the results with GLIE\n",
    "Video(Path().cwd()/'results'/'CartPole-v1'/'video'/'test'/'ex3-episode-9.mp4',\n",
    "      embed=True, html_attributes=\"loop autoplay\") # Set html_attributes=\"controls\" for video control"
   ]
  },
  {
   "cell_type": "markdown",
   "id": "c86e2e61",
   "metadata": {
    "tags": []
   },
   "source": [
    "<a id='T2'></a>\n",
    "<div class=\" alert alert-warning\">\n",
    "    <h3><b>Student Task 2.</b> Visualizing the Value Function (10 points) </h3> \n",
    "\n",
    "Use your Q-function values estimated with GLIE to calculate the optimal value function of each state. Complete the ```display_heatmap_vf()``` function below to plot the heatmap of the value function in terms of $x$ and $\\theta$, such that $\\theta$ is on horizontal and $x$ is on vertical axis. For plotting, average the values over $\\dot{x}$ and $\\dot{\\theta}$. Attach the heatmap in your report.\n",
    "\n",
    "**Hint:** For plotting the heatmap you can use Matplotlib-pyplot: ```pyplot.imshow(values_array)``` or Seaborn: ```seaborn.heatmap(values_array)```\n",
    "    \n",
    "🔝\t<a href='#TOC'><b>Table of Contents</b></a>\n",
    "</div>\n"
   ]
  },
  {
   "cell_type": "code",
   "execution_count": null,
   "id": "a4e7567c",
   "metadata": {
    "tags": []
   },
   "outputs": [],
   "source": [
    "# --- Standard Libraries ---\n",
    "from pathlib import Path    # For handling filesystem paths in a more intuitive way\n",
    "\n",
    "# --- Third-party Libraries ---\n",
    "import matplotlib.pyplot as plt  # For creating static, interactive, and animated visualizations\n",
    "import seaborn as sns            # A data visualization library based on matplotlib"
   ]
  },
  {
   "cell_type": "code",
   "execution_count": null,
   "id": "d18d44fc",
   "metadata": {
    "tags": []
   },
   "outputs": [],
   "source": [
    "def display_heatmap_vf(env_name=\"CartPole-v1\", q_table_name='task1_q_table_glie.pkl'):\n",
    "    \"\"\"\n",
    "    Displays a heatmap of the value function for a given environment and Q-table.\n",
    "\n",
    "    Input:\n",
    "    - env_name (str): Name of the environment, default is \"CartPole-v1\".\n",
    "    - q_table_name (str): Name of the saved Q-table file, default is 'q_table_glie.pkl'.\n",
    "\n",
    "    Output:\n",
    "    - Visual display of the heatmap.\n",
    "\n",
    "    \"\"\"\n",
    "    \n",
    "    # load the Q-value array\n",
    "    work_dir = Path().cwd()/'results'/f'{env_name}'\n",
    "    \n",
    "    data = u.load_object(work_dir/q_table_name) # load q_table \n",
    "    q_axis, q_table = data['axis'], data['q_table'] \n",
    "    x_axis, th_axis = q_axis[0], q_axis[2]  # get the axis for x and \\theta\n",
    "\n",
    "    discr = q_table.shape[0] # get the number of discretized bins for a state variable in the Q-table\n",
    "\n",
    "    # TODO: Task 2 Plot the heatmap of the value function\n",
    "    # 1. Compute the maximum Q-value for each state, which gives the value function of that state\n",
    "    # 2. Uses Seaborn and Matplotlib to display the heatmap.  \n",
    "    ########## Your code begins here. ##########\n",
    "\n",
    "    ########## Your code ends here. ##########"
   ]
  },
  {
   "cell_type": "code",
   "execution_count": null,
   "id": "eab4bd9c",
   "metadata": {
    "tags": []
   },
   "outputs": [],
   "source": [
    "# Visual display of the heatmap of the value function\n",
    "display_heatmap_vf()"
   ]
  },
  {
   "cell_type": "markdown",
   "id": "bbba1c47",
   "metadata": {},
   "source": [
    "<a id='Q1'></a>\n",
    "<div class=\" alert alert-warning\">\n",
    "    <h3><b>Student Question 2.1</b> Analyzing the Value Function Heatmap (15 points) </h3> \n",
    "\n",
    "What do you think the heatmap would have looked like:\n",
    "1) before the training?\n",
    "2) after a single episode?\n",
    "3) halfway through the training?\n",
    "\n",
    "***Justify why for all the cases. Attaching the plots is not required.*** \n",
    "    \n",
    "🔝\t<a href='#TOC'><b>Table of Contents</b></a>\n",
    "</div>\n"
   ]
  },
  {
   "cell_type": "markdown",
   "id": "02200ecc",
   "metadata": {},
   "source": [
    "DOUBLE CLICK HERE TO EDIT, CLEAR THIS TEXT AND ANSWER HERE"
   ]
  },
  {
   "cell_type": "markdown",
   "id": "87fb7b90",
   "metadata": {
    "tags": []
   },
   "source": [
    "<a id='T3'></a>\n",
    "<div class=\" alert alert-warning\">\n",
    "    <h3><b>Student Task 3.</b> Investigating Initial Values (10 points) </h3> \n",
    "\n",
    "Set $\\epsilon$ to zero, effectively making the policy greedy w.r.t. current Q-value estimates. Run the training again while\n",
    "1) keeping the initial estimates of the Q function at 0,\n",
    "2) setting the initial estimates of the Q function to 50 for all states and actions.\n",
    "\n",
    "You can change the initial Q value estimates by passing ```initial_q=<value>``` in the following cells. \n",
    "\n",
    "**Attach training performance plots of both initializations in your report.**\n",
    "\n",
    "🔝\t<a href='#TOC'><b>Table of Contents</b></a>\n",
    "</div>\n"
   ]
  },
  {
   "cell_type": "code",
   "execution_count": null,
   "id": "39cf3dd6",
   "metadata": {
    "tags": []
   },
   "outputs": [],
   "source": [
    "# Initialize the Q function with a value of 0 and begin training\n",
    "cfg_args = dict(epsilon=0, initial_q=<insert-q-value>, task_no='task3.1') # set the initial estimates of the Q function to 0\n",
    "train(cfg_path=Path().cwd()/'cfg'/'cartpole_v1.yaml', cfg_args=cfg_args)"
   ]
  },
  {
   "cell_type": "code",
   "execution_count": null,
   "id": "ee238f34",
   "metadata": {
    "tags": []
   },
   "outputs": [],
   "source": [
    "# Visual display of the heatmap of the value function\n",
    "display_heatmap_vf('CartPole-v1', 'task3.1_q_table_e.pkl')"
   ]
  },
  {
   "cell_type": "code",
   "execution_count": null,
   "id": "3cc746ac",
   "metadata": {
    "tags": []
   },
   "outputs": [],
   "source": [
    "# Initialize the Q function with a value of 50 and begin training\n",
    "cfg_args = dict(epsilon=0, initial_q=<insert-q-value>, task_no='task3.2') # set the initial estimates of the Q function to 50\n",
    "train(cfg_path=Path().cwd() / 'cfg' / 'cartpole_v1.yaml', cfg_args=cfg_args)"
   ]
  },
  {
   "cell_type": "code",
   "execution_count": null,
   "id": "d9ed3aaf",
   "metadata": {
    "tags": []
   },
   "outputs": [],
   "source": [
    "# Visual display of the heatmap of the value function\n",
    "display_heatmap_vf('CartPole-v1', 'task3.2_q_table_e.pkl')"
   ]
  },
  {
   "cell_type": "markdown",
   "id": "fbea9f8b",
   "metadata": {},
   "source": [
    "Based on the results you observed in Task 3, answer the following questions:"
   ]
  },
  {
   "cell_type": "markdown",
   "id": "2f97da87",
   "metadata": {},
   "source": [
    "<a id='Q2'></a>\n",
    "<div class=\" alert alert-warning\">\n",
    "    <h3><b>Student Question 3.1</b> Analyzing Initial Values (5 points) </h3> \n",
    "\n",
    "In which case does the model perform better?\n",
    "    \n",
    "🔝\t<a href='#TOC'><b>Table of Contents</b></a>\n",
    "</div>\n"
   ]
  },
  {
   "cell_type": "markdown",
   "id": "38fcbcf9",
   "metadata": {},
   "source": [
    "DOUBLE CLICK HERE TO EDIT, CLEAR THIS TEXT AND ANSWER HERE"
   ]
  },
  {
   "cell_type": "markdown",
   "id": "9a200626",
   "metadata": {},
   "source": [
    "<a id='Q3'></a>\n",
    "<div class=\" alert alert-warning\">\n",
    "    <h3><b>Student Question 3.2</b> Exploration (15 points) </h3> \n",
    "\n",
    "Why is this the case, and how does the initialization of Q values affect exploration?\n",
    "    \n",
    "🔝\t<a href='#TOC'><b>Table of Contents</b></a>\n",
    "</div>\n"
   ]
  },
  {
   "cell_type": "markdown",
   "id": "05b77508",
   "metadata": {},
   "source": [
    "DOUBLE CLICK HERE TO EDIT, CLEAR THIS TEXT AND ANSWER HERE"
   ]
  },
  {
   "cell_type": "markdown",
   "id": "6176d62f",
   "metadata": {},
   "source": [
    "## 3. Lunar lander <a id='3.'></a>"
   ]
  },
  {
   "cell_type": "markdown",
   "id": "95724c44",
   "metadata": {},
   "source": [
    "<figure style=\"text-align: center\">\n",
    "<img src=\"imgs/lunar_lander.png\" width=\"600px\">\n",
    "<figcaption style=\"text-align: center\"> Figure 2: The Lunar lander environment. </figcaption>\n",
    "</figure>\n",
    "\n",
    "The ***Lunar lander*** environment is shown in Figure 2. The goal is to make the lunar lander land on the ground between two flag poles. The agent receives a positive reward for moving towards the landing pad, landing, etc. A negative reward is given for firing the main engine (more fuel-efficient policies are better) and for crashing. Four actions are available: firing the left/right/main engines, or doing nothing (free fall). The observation vector consists of 6 continuous and 2 discrete values:\n",
    "\n",
    "$$\n",
    "o=\\left(\\begin{array}{llllllll}\n",
    "x & y & \\dot{x} & \\dot{y} & \\theta & \\dot{\\theta} & c_l & c_r\n",
    "\\end{array}\\right)^T,\n",
    "$$\n",
    "\n",
    "where $x$ and $y$ are the coordinates of the lander, $\\dot{x}$ and $\\dot{y}$ its velocities, $\\theta$ represents the rotation angle and $\\dot{\\theta}$ the angular velocity of the lander. Two discrete values $c_l$ and $c_r$  indicate whether the lander’s legs are in contact with the ground (0 or 1).\n"
   ]
  },
  {
   "cell_type": "markdown",
   "id": "3636f10e",
   "metadata": {},
   "source": [
    "<a id='T4'></a>\n",
    "<div class=\" alert alert-warning\">\n",
    "    <h3><b>Student Task 4.</b> Using Q-Learning on the Lunar Lander Environment (5 points) </h3> \n",
    "\n",
    "1) Run the training for Lunar Lander environment by executing the following:\n",
    "```python \n",
    "cfg_args = dict(epsilon='glie', glie_b=<insert-glie-from-task1>, save_video=False, discr=12) # insert correct value for glie_b\n",
    "train(cfg_path=Path().cwd()/'cfg'/'lunarlander_v2.yaml', cfg_args=cfg_args)\n",
    "```\n",
    "2) Run it for 20000 episodes (which was enough for the Cartpole to learn). **Attach the training performance plot in your submission.**\n",
    "\n",
    "**Heads Up:** The generated file `task4_q_table.pkl` is sizeable, approximately 2 GB. Ensure you **delete** it before submitting.\n",
    "    \n",
    "🔝\t<a href='#TOC'><b>Table of Contents</b></a>\n",
    "</div>\n"
   ]
  },
  {
   "cell_type": "code",
   "execution_count": null,
   "id": "ec43485e",
   "metadata": {
    "tags": []
   },
   "outputs": [],
   "source": [
    "# Training on the Lunar Lander Environment\n",
    "cfg_args = dict(epsilon='glie', glie_b=<insert-glie-from-task1>, save_video=False, discr=12) # insert correct value for glie_b\n",
    "train(cfg_path=Path().cwd()/'cfg'/'lunarlander_v2.yaml', cfg_args=cfg_args)"
   ]
  },
  {
   "cell_type": "code",
   "execution_count": null,
   "id": "d7d4481f",
   "metadata": {
    "tags": []
   },
   "outputs": [],
   "source": [
    "cfg_args = dict(epsilon='glie', save_video=True, test_episodes=5)\n",
    "test(cfg_path=Path().cwd()/'cfg'/'lunarlander_v2.yaml', cfg_args=cfg_args)"
   ]
  },
  {
   "cell_type": "code",
   "execution_count": null,
   "id": "b2f33113",
   "metadata": {
    "tags": []
   },
   "outputs": [],
   "source": [
    "Video(Path().cwd()/'results'/'LunarLander-v2'/'video'/'test'/'ex3-episode-4.mp4',\n",
    "      embed=True, html_attributes=\"loop autoplay\") # Set html_attributes=\"controls\" for video control"
   ]
  },
  {
   "cell_type": "markdown",
   "id": "39cd6a58",
   "metadata": {},
   "source": [
    "<a id='Q4'></a>\n",
    "<div class=\" alert alert-warning\">\n",
    "    <h3><b>Student Question 4.1</b> Lunar Lander Performance (15 points) </h3> \n",
    "\n",
    "Does the lander learn to land between the flag poles? Why/why not?\n",
    "    \n",
    "🔝\t<a href='#TOC'><b>Table of Contents</b></a>\n",
    "</div>\n"
   ]
  },
  {
   "cell_type": "markdown",
   "id": "94efbd2d",
   "metadata": {},
   "source": [
    "DOUBLE CLICK HERE TO EDIT, CLEAR THIS TEXT AND ANSWER HERE"
   ]
  },
  {
   "cell_type": "markdown",
   "id": "714c516e-fa77-4fdb-9ff7-9b85c74555ac",
   "metadata": {
    "tags": []
   },
   "source": [
    "## 4. Submitting <a id='4.'></a>\n",
    "Ensure all tasks and questions (in ```ex3.ipynb```) are answered and the relevant plots are recorded in the relevant places. Details about attaching images and figures can be found below. The relevant graphs to be included for this assignment are:\n",
    "\n",
    "\n",
    "- Training performance plots:\n",
    "  - `task1_e.png`: Cartpole, constant value of $\\epsilon$ training performance plots in terms of episode and smoothed episodic reward\n",
    "  - `task1_glie.png`: Cartpole, GLIE training performance plots in terms of episode and smoothed episodic reward\n",
    "  - `task3.1_e.png`: Cartpole, training performance plots of the initial estimates of the Q function at 0 \n",
    "  - `task3.2_e.png`: Cartpole, training performance plots of the initial estimates of the Q function at 50\n",
    "  - `task4_glie.png`: Luner Lander, training performance plots in terms of episode and smoothed episodic reward\n",
    "- Q-table files:\n",
    "  - `task1_q_table_e.pkl`: Cartpole, Q-table for the constant exploration rate.\n",
    "  - `task1_q_table_glie.pkl`: Cartpole, Q-table for GLIE.\n",
    "\n",
    "\n",
    "Ensure the correct model files and plots are saved:\n",
    "- ```results/CartPole-v1/task1_e.png``` From Task 1\n",
    "- ```results/CartPole-v1/task1_glie.png``` From Task 1\n",
    "- ```results/CartPole-v1/task1_q_table_e.pkl``` From Task 1\n",
    "- ```results/CartPole-v1/task1_q_table_glie.pkl``` From Task 1\n",
    "- ```results/CartPole-v1/task3.1_e.png``` From Task 3\n",
    "- ```results/CartPole-v1/task3.2_e.png``` From Task 3\n",
    "- ```results/LunarLander-v2/task4_glie.png``` From Task 4"
   ]
  },
  {
   "cell_type": "markdown",
   "id": "4fdb3823",
   "metadata": {},
   "source": [
    "## 4.1 Feedback <a id='4.1'></a>\n",
    "\n",
    "In order to help the staff of the course as well as the forthcoming students, it would be great if you could answer to the following questions in your submission:"
   ]
  },
  {
   "cell_type": "markdown",
   "id": "1a19aa8d-6ce6-4688-b6f8-db0ae3caa596",
   "metadata": {},
   "source": [
    "1) How much time did you spend solving this exercise? (change the ```hrs``` variable below to a floating point number representing the number of hours taken e.g. 5.43)"
   ]
  },
  {
   "cell_type": "code",
   "execution_count": null,
   "id": "5b7c8370-ff84-4dc9-aab8-596782c55d62",
   "metadata": {
    "tags": []
   },
   "outputs": [],
   "source": [
    "hrs = None"
   ]
  },
  {
   "cell_type": "markdown",
   "id": "75d254d1-ad16-4c10-87a6-72afb79d49fe",
   "metadata": {},
   "source": [
    "2) Difficulty of each task/question from 1-5 (int or float)"
   ]
  },
  {
   "cell_type": "code",
   "execution_count": null,
   "id": "58193777-64de-4d7c-be84-249d34e1c027",
   "metadata": {
    "tags": []
   },
   "outputs": [],
   "source": [
    "T1 = None   # Student Task 1. Implementing Q-Learning (25 points)\n",
    "T2 = None   # Student Task 2. Visualizing the Value Function (10 points)\n",
    "Q2_1 = None # Student Question 2.1 Analyzing the Value Function Heatmap (15 points)\n",
    "T3 = None   # Student Task 3. Investigating Initial Values (10 points)\n",
    "Q3_1 = None # Student Question 3.1 Analyzing Initial Values (5 points)\n",
    "Q3_2 = None # Student Question 3.2 Exploration (15 points)\n",
    "T4 = None   # Student Task 4. Using Q-Learning on the Lunar Lander Environment (5 points)\n",
    "Q4_1 = None # Student Question 4.1 Lunar Lander Performance (15 points)"
   ]
  },
  {
   "cell_type": "markdown",
   "id": "af146c4d-9475-4c0b-8b43-823fc345a584",
   "metadata": {},
   "source": [
    "3) How well did you understand the content of the task/question from 1-5? (int or float)"
   ]
  },
  {
   "cell_type": "code",
   "execution_count": null,
   "id": "0f5a460a-eb5b-45e4-a091-7153416dbd43",
   "metadata": {
    "tags": []
   },
   "outputs": [],
   "source": [
    "T1 = None   # Student Task 1. Implementing Q-Learning (25 points)\n",
    "T2 = None   # Student Task 2. Visualizing the Value Function (10 points)\n",
    "Q2_1 = None # Student Question 2.1 Analyzing the Value Function Heatmap (15 points)\n",
    "T3 = None   # Student Task 3. Investigating Initial Values (10 points)\n",
    "Q3_1 = None # Student Question 3.1 Analyzing Initial Values (5 points)\n",
    "Q3_2 = None # Student Question 3.2 Exploration (15 points)\n",
    "T4 = None   # Student Task 4. Using Q-Learning on the Lunar Lander Environment (5 points)\n",
    "Q4_1 = None # Student Question 4.1 Lunar Lander Performance (15 points)"
   ]
  },
  {
   "cell_type": "markdown",
   "id": "3de4ebe0-4012-42fd-90ae-2c8e386afa4f",
   "metadata": {},
   "source": [
    "4) General feedback. Consider questions like:\n",
    "\n",
    "    - Did the content of the lecture relate well with the assignment?\n",
    "    - To what extent did you find the material to be potentially useful for your research and studies?\n",
    "    \n",
    "And other feedback you think is worth including. Type in the box below"
   ]
  },
  {
   "cell_type": "markdown",
   "id": "d67c9543-3652-4311-ad4d-6b6a087e5587",
   "metadata": {
    "tags": []
   },
   "source": [
    "DOUBLE CLICK HERE TO EDIT, CLEAR THIS TEXT AND ANSWER HERE"
   ]
  },
  {
   "cell_type": "markdown",
   "id": "5a9618d7-d671-4951-b9c6-523a72362e68",
   "metadata": {},
   "source": [
    "## References <a id='5'></a>\n",
    "[1]: http://incompleteideas.net/book/RLbook2018.pdf\n",
    "[Sutton and Barto, 2017]: Sutton, Richard S., and Andrew G. Barto. \"Reinforcement Learning: An Introduction (in progress).\" London, England (2017)."
   ]
  },
  {
   "cell_type": "code",
   "execution_count": null,
   "id": "d60309fa-2971-4d5b-afa9-2e352e7834b6",
   "metadata": {},
   "outputs": [],
   "source": []
  }
 ],
 "metadata": {
  "kernelspec": {
   "display_name": "Python 3",
   "language": "python",
   "name": "python3"
  },
  "language_info": {
   "codemirror_mode": {
    "name": "ipython",
    "version": 3
   },
   "file_extension": ".py",
   "mimetype": "text/x-python",
   "name": "python",
   "nbconvert_exporter": "python",
   "pygments_lexer": "ipython3",
   "version": "3.10.8"
  }
 },
 "nbformat": 4,
 "nbformat_minor": 5
}
