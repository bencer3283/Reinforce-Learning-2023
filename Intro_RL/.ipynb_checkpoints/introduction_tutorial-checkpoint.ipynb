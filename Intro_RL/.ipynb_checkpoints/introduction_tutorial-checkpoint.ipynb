{
 "cells": [
  {
   "cell_type": "markdown",
   "metadata": {
    "id": "-ll4Cf0c5S44"
   },
   "source": [
    "# Preliminary to reinforcement learning course (Aalto University)\n",
    "## Gentle introduction to Numpy, Pytorch, wandb, Markdown, and LaTeX\n",
    "\n",
    "Inspired from below reference:\n",
    "* [CS 285 at UC Berkeley](https://rail.eecs.berkeley.edu/deeprlcourse/)\n",
    "* [CS 224R at Stanford](https://cs224r.stanford.edu/)\n",
    "* [Pytorch Tutorials](https://pytorch.org/tutorials/)\n",
    "* [Numpy Tutorials](https://numpy.org/doc/stable/user/absolute_beginners.html)\n",
    "* Also special thanks to **Yi Zhao** for providing previous version of this tutorial"
   ]
  },
  {
   "cell_type": "markdown",
   "metadata": {
    "id": "xR-ZrEQb5S47"
   },
   "source": [
    "## Part 1: Numpy\n",
    "Numpy arrays are objects that allow you to store and manipulate matrices.\n",
    "\n",
    "Numpy is *much* faster than pure Python:"
   ]
  },
  {
   "cell_type": "code",
   "execution_count": 1,
   "metadata": {
    "id": "RCQYfXSw5S47",
    "tags": []
   },
   "outputs": [],
   "source": [
    "import numpy as np"
   ]
  },
  {
   "cell_type": "code",
   "execution_count": 2,
   "metadata": {
    "id": "-pUSVA8B5S48",
    "tags": []
   },
   "outputs": [
    {
     "name": "stdout",
     "output_type": "stream",
     "text": [
      "x, shape=(6,):\n",
      "[1 2 3 4 5 6]\n",
      "\n",
      "y, shape=(2, 3):\n",
      "[[8 0 7]\n",
      " [3 0 1]]\n",
      "\n",
      "z, shape=(3, 2, 3):\n",
      "[[[0.03796599 0.55211468 0.8733292 ]\n",
      "  [0.82594906 0.01822966 0.49472381]]\n",
      "\n",
      " [[0.54544868 0.13242842 0.25918675]\n",
      "  [0.40549184 0.85191096 0.29613023]]\n",
      "\n",
      " [[0.54451426 0.90978247 0.89698902]\n",
      "  [0.79374479 0.23236971 0.11709148]]]\n",
      "\n",
      "Python:\n",
      "9.69 ms ± 101 µs per loop (mean ± std. dev. of 7 runs, 100 loops each)\n",
      "Python Expression:\n",
      "7.98 ms ± 336 µs per loop (mean ± std. dev. of 7 runs, 100 loops each)\n",
      "Numpy:\n",
      "29 µs ± 1.64 µs per loop (mean ± std. dev. of 7 runs, 10,000 loops each)\n"
     ]
    }
   ],
   "source": [
    "x = np.array([1, 2, 3, 4, 5, 6])\n",
    "y = np.array([[8, 0, 7], [3, 0, 1]])\n",
    "z = np.random.rand(3, 2, 3) #uniform distribution\n",
    "\n",
    "print(f\"x, shape={x.shape}:\\n{x}\\n\")\n",
    "print(f\"y, shape={y.shape}:\\n{y}\\n\")\n",
    "print(f\"z, shape={z.shape}:\\n{z}\\n\")\n",
    "\n",
    "def benchmark_python_add(list_a: list, list_b: list):\n",
    "    result = []\n",
    "    for a, b in zip(list_a, list_b):\n",
    "      result.append(a + b)\n",
    "    return result\n",
    "\n",
    "def benchmark_python_add_expression(list_a: list, list_b: list):\n",
    "    result = [a+b for a, b in zip(list_a, list_b)]\n",
    "    return result\n",
    "\n",
    "def benchmark_numpy_add(array_a: np.ndarray, array_b: np.ndarray):\n",
    "    return array_a + array_b\n",
    "\n",
    "arr_a = np.random.normal(size=(100000,))\n",
    "list_a = list(arr_a)\n",
    "arr_b = np.random.normal(size=(100000,))\n",
    "list_b = list(arr_b)\n",
    "print(\"Python:\")\n",
    "%timeit benchmark_python_add(list_a, list_b)\n",
    "print(\"Python Expression:\")\n",
    "%timeit benchmark_python_add_expression(list_a, list_b)\n",
    "print(\"Numpy:\")\n",
    "%timeit benchmark_numpy_add(arr_a, arr_b)"
   ]
  },
  {
   "cell_type": "markdown",
   "metadata": {
    "id": "EKDIV-Rq5S48"
   },
   "source": [
    "### Numpy arithmetic and broadcasting\n",
    "You can add/subtract/multiple/divide numpy arrays, as long as their dimensions match.\n",
    "\n",
    "You can also sometimes do arithmetic operations on arrays whose dimensions don't match exactly. Whenever possible, values will be \"copied\" so that the dimensions match. This is called [broadcasting](https://numpy.org/doc/stable/user/basics.broadcasting.html), and it has some benefits:\n",
    "* More concise code\n",
    "* Duplicated values aren't explicitly created/stored in memory\n",
    "* Repeated operations are optimized to run faster\n",
    "\n",
    "But at the same time, you need to be careful not to misuse it and create bugs that cannot be easily traced."
   ]
  },
  {
   "cell_type": "code",
   "execution_count": 3,
   "metadata": {
    "id": "twKamck65S49",
    "tags": []
   },
   "outputs": [
    {
     "name": "stdout",
     "output_type": "stream",
     "text": [
      "[[1. 1. 1.]\n",
      " [1. 1. 1.]]\n",
      "+\n",
      "[[8 0 7]\n",
      " [3 0 1]]\n",
      "=\n",
      "[[9. 1. 8.]\n",
      " [4. 1. 2.]]\n",
      "3\n",
      "*\n",
      "[[1. 1. 1.]\n",
      " [1. 1. 1.]]\n",
      "=\n",
      "[[3. 3. 3.]\n",
      " [3. 3. 3.]]\n",
      "\n",
      "[1 2 3]\n",
      "+\n",
      "[[8 0 7]\n",
      " [3 0 1]]\n",
      "=\n",
      "[[ 9  2 10]\n",
      " [ 4  2  4]]\n"
     ]
    }
   ],
   "source": [
    "a = np.ones((2, 3))\n",
    "y = np.array([[8, 0, 7], [3, 0, 1]])\n",
    "\n",
    "print(a)\n",
    "print(\"+\")\n",
    "print(y)\n",
    "print(\"=\")\n",
    "print(a + y)\n",
    "\n",
    "print(f\"3\\n*\\n{a}\\n=\\n{3*a}\\n\")\n",
    "\n",
    "a = np.array([1, 2, 3])\n",
    "print(f\"{a}\\n+\\n{y}\\n=\\n{a+y}\")"
   ]
  },
  {
   "cell_type": "markdown",
   "metadata": {
    "id": "AQNPdV1s5S49",
    "tags": []
   },
   "source": [
    "### Axes"
   ]
  },
  {
   "cell_type": "markdown",
   "metadata": {
    "id": "mKG5F2Is5S49"
   },
   "source": [
    "Numpy arrays have **axes**, which are like the \"directions\" along which you can do things."
   ]
  },
  {
   "cell_type": "code",
   "execution_count": 4,
   "metadata": {
    "id": "VM3YmxgE5S4-",
    "tags": []
   },
   "outputs": [
    {
     "name": "stdout",
     "output_type": "stream",
     "text": [
      "tensor:\n",
      "[[8 7 4]\n",
      " [5 2 2]\n",
      " [1 6 3]]\n",
      "\n",
      "sum operations: \n",
      "38\n",
      "[14 15  9]\n",
      "[19  9 10]\n",
      "\n",
      "max operations: \n",
      "8\n",
      "[8 7 4]\n",
      "[8 5 6]\n"
     ]
    }
   ],
   "source": [
    "x = np.array([[8, 7, 4], [5, 2, 2], [1, 6, 3]])\n",
    "print('tensor:')\n",
    "print(x)\n",
    "print()\n",
    "print('sum operations: ')\n",
    "print(np.sum(x))\n",
    "print(np.sum(x, axis=0))\n",
    "print(np.sum(x, axis=1))\n",
    "print()\n",
    "print('max operations: ')\n",
    "\n",
    "print(np.max(x))\n",
    "print(np.max(x, axis=0))\n",
    "print(np.max(x, axis=1))"
   ]
  },
  {
   "cell_type": "markdown",
   "metadata": {
    "id": "6HsmwBBd5S4-"
   },
   "source": [
    "More generally, you can think of an axis as the index of one of the values in the array's `shape`. If you do a reduction operation (e.g. sum, max) on a certain axis, that axis will disappear from the array's shape:"
   ]
  },
  {
   "cell_type": "code",
   "execution_count": 5,
   "metadata": {
    "id": "P3772bdL5S4-",
    "tags": []
   },
   "outputs": [
    {
     "name": "stdout",
     "output_type": "stream",
     "text": [
      "(3, 2, 5)\n",
      "(2, 5)\n"
     ]
    }
   ],
   "source": [
    "z = np.random.randint(10, size=(3, 2, 4, 5))\n",
    "print(np.sum(z, axis=2).shape)\n",
    "print(np.sum(z, axis=(0, 2)).shape)"
   ]
  },
  {
   "cell_type": "markdown",
   "metadata": {
    "id": "4bk_SfQw5S4-"
   },
   "source": [
    "### Shapes and reshaping"
   ]
  },
  {
   "cell_type": "markdown",
   "metadata": {
    "id": "bRY7sqiK5S4-"
   },
   "source": [
    "Be careful about the shape of your numpy arrays, especially when you're working with vectors (where one of the dimensions is 1)!"
   ]
  },
  {
   "cell_type": "code",
   "execution_count": 7,
   "metadata": {
    "id": "ltPJVogA5S4-",
    "tags": []
   },
   "outputs": [
    {
     "name": "stdout",
     "output_type": "stream",
     "text": [
      "[0 9 8 4 5 7 1 0 8 5]\n",
      "[[3]\n",
      " [1]\n",
      " [2]\n",
      " [0]\n",
      " [8]\n",
      " [1]\n",
      " [7]\n",
      " [5]\n",
      " [8]\n",
      " [1]]\n",
      "[[4 2 5 1 9 9 8 8 7 8]]\n"
     ]
    }
   ],
   "source": [
    "# These two are different things!\n",
    "x = np.random.randint(10, size=(10,))\n",
    "y = np.random.randint(10, size=(10, 1))\n",
    "z = np.random.randint(10, size=(1, 10))\n",
    "print(x)\n",
    "print(y)\n",
    "print(z)"
   ]
  },
  {
   "cell_type": "code",
   "execution_count": 9,
   "metadata": {
    "id": "TcuHY0gR5S4-",
    "tags": []
   },
   "outputs": [
    {
     "name": "stdout",
     "output_type": "stream",
     "text": [
      "[0 9 8 4 5 7 1 0 8 5]\n",
      "*\n",
      "[[3]\n",
      " [1]\n",
      " [2]\n",
      " [0]\n",
      " [8]\n",
      " [1]\n",
      " [7]\n",
      " [5]\n",
      " [8]\n",
      " [1]]\n",
      "=\n",
      "[[ 0 27 24 12 15 21  3  0 24 15]\n",
      " [ 0  9  8  4  5  7  1  0  8  5]\n",
      " [ 0 18 16  8 10 14  2  0 16 10]\n",
      " [ 0  0  0  0  0  0  0  0  0  0]\n",
      " [ 0 72 64 32 40 56  8  0 64 40]\n",
      " [ 0  9  8  4  5  7  1  0  8  5]\n",
      " [ 0 63 56 28 35 49  7  0 56 35]\n",
      " [ 0 45 40 20 25 35  5  0 40 25]\n",
      " [ 0 72 64 32 40 56  8  0 64 40]\n",
      " [ 0  9  8  4  5  7  1  0  8  5]]\n",
      "[[12  6 15  3 27 27 24 24 21 24]\n",
      " [ 4  2  5  1  9  9  8  8  7  8]\n",
      " [ 8  4 10  2 18 18 16 16 14 16]\n",
      " [ 0  0  0  0  0  0  0  0  0  0]\n",
      " [32 16 40  8 72 72 64 64 56 64]\n",
      " [ 4  2  5  1  9  9  8  8  7  8]\n",
      " [28 14 35  7 63 63 56 56 49 56]\n",
      " [20 10 25  5 45 45 40 40 35 40]\n",
      " [32 16 40  8 72 72 64 64 56 64]\n",
      " [ 4  2  5  1  9  9  8  8  7  8]]\n"
     ]
    }
   ],
   "source": [
    "# If you multiply a shape (n,) array with a (n,1) array, you actually get a shape (n,n) matrix:\n",
    "print(x)\n",
    "print(\"*\")\n",
    "print(y)\n",
    "print(\"=\")\n",
    "print(x * y)\n",
    "print(y * z)"
   ]
  },
  {
   "cell_type": "markdown",
   "metadata": {
    "id": "WwrrepXc5S4_"
   },
   "source": [
    "When writing numpy code, you should **always** keep track of the expected shape of each array and what each axis corresponds to. There are a few ways to do this:\n",
    " * Asserts (`assert x.shape == (batch_size, hidden_dim)`)\n",
    " * Comments (`# shape (B, C, W, H)`)"
   ]
  },
  {
   "cell_type": "code",
   "execution_count": 10,
   "metadata": {
    "id": "J66HoEXh5S4_",
    "tags": []
   },
   "outputs": [
    {
     "ename": "AssertionError",
     "evalue": "Expected x*y to have shape (10,) but got (10, 10)",
     "output_type": "error",
     "traceback": [
      "\u001b[0;31m---------------------------------------------------------------------------\u001b[0m",
      "\u001b[0;31mAssertionError\u001b[0m                            Traceback (most recent call last)",
      "Cell \u001b[0;32mIn[10], line 2\u001b[0m\n\u001b[1;32m      1\u001b[0m z \u001b[38;5;241m=\u001b[39m x \u001b[38;5;241m*\u001b[39m y\n\u001b[0;32m----> 2\u001b[0m \u001b[38;5;28;01massert\u001b[39;00m z\u001b[38;5;241m.\u001b[39mshape \u001b[38;5;241m==\u001b[39m x\u001b[38;5;241m.\u001b[39mshape, \u001b[38;5;124mf\u001b[39m\u001b[38;5;124m\"\u001b[39m\u001b[38;5;124mExpected x*y to have shape \u001b[39m\u001b[38;5;132;01m{\u001b[39;00mx\u001b[38;5;241m.\u001b[39mshape\u001b[38;5;132;01m}\u001b[39;00m\u001b[38;5;124m but got \u001b[39m\u001b[38;5;132;01m{\u001b[39;00mz\u001b[38;5;241m.\u001b[39mshape\u001b[38;5;132;01m}\u001b[39;00m\u001b[38;5;124m\"\u001b[39m\n",
      "\u001b[0;31mAssertionError\u001b[0m: Expected x*y to have shape (10,) but got (10, 10)"
     ]
    }
   ],
   "source": [
    "z = x * y\n",
    "assert z.shape == x.shape, f\"Expected x*y to have shape {x.shape} but got {z.shape}\""
   ]
  },
  {
   "cell_type": "code",
   "execution_count": 11,
   "metadata": {
    "id": "DoG_CEy35S4_",
    "tags": []
   },
   "outputs": [
    {
     "name": "stdout",
     "output_type": "stream",
     "text": [
      "\n",
      "[[0]\n",
      " [9]\n",
      " [8]\n",
      " [4]\n",
      " [5]\n",
      " [7]\n",
      " [1]\n",
      " [0]\n",
      " [8]\n",
      " [5]]\n",
      "*\n",
      "[[3]\n",
      " [1]\n",
      " [2]\n",
      " [0]\n",
      " [8]\n",
      " [1]\n",
      " [7]\n",
      " [5]\n",
      " [8]\n",
      " [1]]\n",
      "=\n",
      "[[ 0]\n",
      " [ 9]\n",
      " [16]\n",
      " [ 0]\n",
      " [40]\n",
      " [ 7]\n",
      " [ 7]\n",
      " [ 0]\n",
      " [64]\n",
      " [ 5]]\n"
     ]
    }
   ],
   "source": [
    "# If your intention is to multiply the two vectors element-wise, you need to reshape one of them first!\n",
    "x_reshaped = x.reshape(-1, 1) # -1 means \"infer this dimension\"\n",
    "print()\n",
    "print(x_reshaped)\n",
    "print(\"*\")\n",
    "print(y)\n",
    "print(\"=\")\n",
    "print(x_reshaped * y)"
   ]
  },
  {
   "cell_type": "markdown",
   "metadata": {
    "id": "KpwQVDQO5S4_"
   },
   "source": [
    "### Array Multiplication"
   ]
  },
  {
   "cell_type": "markdown",
   "metadata": {
    "id": "mgqe-B4w5S4_"
   },
   "source": [
    "Numpy has two multiplication operators: `*` and `@`.\n",
    "- `*` does **element-wise** multiplication.\n",
    "- `@` does **matrix** multiplication."
   ]
  },
  {
   "cell_type": "code",
   "execution_count": 12,
   "metadata": {
    "id": "C3UOiMdW5S4_",
    "tags": []
   },
   "outputs": [
    {
     "name": "stdout",
     "output_type": "stream",
     "text": [
      "[[4]\n",
      " [7]\n",
      " [0]\n",
      " [4]\n",
      " [8]]\n",
      "*\n",
      "[4 7 0 4 8]\n",
      "=\n",
      "[[16 28  0 16 32]\n",
      " [28 49  0 28 56]\n",
      " [ 0  0  0  0  0]\n",
      " [16 28  0 16 32]\n",
      " [32 56  0 32 64]]\n"
     ]
    }
   ],
   "source": [
    "matrix = np.random.randint(10, size=(5, 5))\n",
    "row_vec = np.random.randint(10, size=(5,))\n",
    "col_vec = row_vec.reshape(5, 1)\n",
    "\n",
    "# Outer product\n",
    "print(col_vec)\n",
    "print(\"*\")\n",
    "print(row_vec)\n",
    "print(\"=\")\n",
    "print(col_vec * row_vec)"
   ]
  },
  {
   "cell_type": "code",
   "execution_count": 13,
   "metadata": {
    "id": "xwN5_kLM5S4_",
    "tags": []
   },
   "outputs": [
    {
     "name": "stdout",
     "output_type": "stream",
     "text": [
      "[4 7 0 4 8]\n",
      "@\n",
      "[[4]\n",
      " [7]\n",
      " [0]\n",
      " [4]\n",
      " [8]]\n",
      "=\n",
      "145\n"
     ]
    }
   ],
   "source": [
    "# Dot product\n",
    "print(row_vec)\n",
    "print(\"@\")\n",
    "print(col_vec)\n",
    "print(\"=\")\n",
    "# print((row_vec @ col_vec)) # Result will be a shape (1,) array\n",
    "# print(row_vec.dot(col_vec).squeeze()) # Same as above\n",
    "print(row_vec @ col_vec.squeeze()) # Works on arrays with same shape too (to get scalar)"
   ]
  },
  {
   "cell_type": "markdown",
   "metadata": {
    "id": "XjRJq5k65S4_"
   },
   "source": [
    "Below are some other common Numpy operations you'll probably find useful at some point in this class:"
   ]
  },
  {
   "cell_type": "code",
   "execution_count": null,
   "metadata": {
    "id": "hGamS7_L5S4_"
   },
   "outputs": [],
   "source": [
    "# transpose: reorders the axes of the array\n",
    "z = np.random.rand(28, 28, 3)\n",
    "z_transposed = z.transpose((2, 0, 1))\n",
    "assert z_transposed.shape == (3, 28, 28)\n",
    "print(\"Orig shape:\", z.shape)\n",
    "print(\"New shape: \", z_transposed.shape)\n"
   ]
  },
  {
   "cell_type": "markdown",
   "metadata": {
    "id": "z1N5dCy45S4_"
   },
   "source": [
    "### Random Sampling"
   ]
  },
  {
   "cell_type": "code",
   "execution_count": 14,
   "metadata": {
    "id": "RIrJotqM5S4_",
    "tags": []
   },
   "outputs": [
    {
     "name": "stdout",
     "output_type": "stream",
     "text": [
      "[[0.42785833 0.36589052]\n",
      " [0.64575744 0.61555466]]\n",
      "\n",
      "[[-1.36954752  0.64463443]\n",
      " [ 0.97523335 -0.09766514]]\n",
      "\n",
      "4.787794578900957\n",
      "\n",
      "[[2]\n",
      " [8]\n",
      " [2]\n",
      " [6]\n",
      " [3]]\n",
      "Before shuffling\n",
      "[0 2 4 6 8]\n",
      "After shuffling\n",
      "[4 6 2 8 0]\n",
      "\n",
      "[8 2]\n",
      "\n",
      "[[[-4.23582804e-01  1.27636247e+00]\n",
      "  [ 6.72950719e-01  8.07573566e+00]\n",
      "  [ 1.01419087e+00 -4.16859241e+00]]\n",
      "\n",
      " [[ 1.53895636e-01  9.04903067e+00]\n",
      "  [ 1.25613835e+00 -1.18615825e+01]\n",
      "  [ 4.30655048e-01 -1.67289251e+00]]\n",
      "\n",
      " [[-1.31625151e+00 -1.01835492e+01]\n",
      "  [ 1.29210912e-02  1.47695329e+01]\n",
      "  [-6.58715595e-01  1.35475792e+01]]] (3, 3, 2)\n"
     ]
    }
   ],
   "source": [
    "x = np.random.rand(2,2) # uniform sampling, arguments are dimensions\n",
    "print(x)\n",
    "\n",
    "x = np.random.randn(2,2) # normal distribution, arguments are dimensions\n",
    "print()\n",
    "print(x)\n",
    "\n",
    "x = 5+0.5*np.random.randn() # Gaussian distribution with 5 as mean and 0.5 as std\n",
    "print()\n",
    "print(x)\n",
    "\n",
    "x = np.random.randint(0, 10, size=(5,1)) # unifrom integers between low and high, also can determine size\n",
    "print()\n",
    "print(x)\n",
    "\n",
    "x = np.arange(0,10,2) # similar to python range, but create numpy array\n",
    "print('Before shuffling')\n",
    "print(x)\n",
    "np.random.shuffle(x)\n",
    "print('After shuffling')\n",
    "print(x)\n",
    "\n",
    "print()\n",
    "print(np.random.choice(x, 2)) # randomly select k element from an array\n",
    "\n",
    "# multivariate gaussian\n",
    "mean = [0, 0]\n",
    "cov = [[1, 0], [0, 100]]  # diagonal covariance\n",
    "x = np.random.multivariate_normal(mean, cov, (3, 3))\n",
    "print()\n",
    "print(x, x.shape) # notice the shape"
   ]
  },
  {
   "cell_type": "markdown",
   "metadata": {
    "id": "lhvrz9Gs5S4_"
   },
   "source": [
    "## Part2: Pytorch"
   ]
  },
  {
   "cell_type": "markdown",
   "metadata": {
    "id": "_xEJDTWY5S4_"
   },
   "source": [
    "* Similar to Numpy, allow fast tensor operation, but also supports GPU computation\n",
    "* Support autodiff by computation graph\n",
    "* Different neural network architectures and operations\n",
    "* Build-in optimizer and tools for datasets and data loading"
   ]
  },
  {
   "cell_type": "code",
   "execution_count": 15,
   "metadata": {
    "id": "WD-oYQVq5S4_",
    "tags": []
   },
   "outputs": [
    {
     "name": "stdout",
     "output_type": "stream",
     "text": [
      "tensor([[0., 0., 0.],\n",
      "        [0., 0., 0.]])\n",
      "+\n",
      "tensor([[1., 1., 1.],\n",
      "        [1., 1., 1.]])\n",
      "=\n",
      "tensor([[1., 1., 1.],\n",
      "        [1., 1., 1.]])\n"
     ]
    }
   ],
   "source": [
    "import torch\n",
    "\n",
    "x = torch.zeros(2, 3)\n",
    "y = torch.ones(2, 3)\n",
    "z = x + y\n",
    "\n",
    "print(x)\n",
    "print(\"+\")\n",
    "print(y)\n",
    "print(\"=\")\n",
    "print(z)"
   ]
  },
  {
   "cell_type": "markdown",
   "metadata": {
    "id": "M-AEdBC45S4_"
   },
   "source": [
    "Reduction operations work the same way as they do in Numpy, except we use the argument `dim` instead of `axis`:"
   ]
  },
  {
   "cell_type": "code",
   "execution_count": 16,
   "metadata": {
    "id": "enbfAm3f5S4_",
    "tags": []
   },
   "outputs": [
    {
     "name": "stdout",
     "output_type": "stream",
     "text": [
      "tensor([3., 3.])\n",
      "tensor([2., 2., 2.])\n"
     ]
    }
   ],
   "source": [
    "print(torch.sum(z, dim=1))\n",
    "print(torch.sum(z, dim=0))"
   ]
  },
  {
   "cell_type": "markdown",
   "metadata": {
    "id": "qN1S2LIv5S4_"
   },
   "source": [
    "Also like Numpy, PyTorch will try to broadcast operations:"
   ]
  },
  {
   "cell_type": "code",
   "execution_count": null,
   "metadata": {
    "id": "3OLJZM9n5S5A"
   },
   "outputs": [],
   "source": [
    "x = torch.ones((3, 1))\n",
    "y = torch.ones((1, 3))\n",
    "z = x + y\n",
    "\n",
    "print(x)\n",
    "print(\"+\")\n",
    "print(y)\n",
    "print(\"=\")\n",
    "print(z)"
   ]
  },
  {
   "cell_type": "markdown",
   "metadata": {
    "id": "x0SftU2X5S5A"
   },
   "source": [
    "### Moving between numpy and PyTorch"
   ]
  },
  {
   "cell_type": "code",
   "execution_count": 18,
   "metadata": {
    "id": "hN7pHAhv5S5A",
    "tags": []
   },
   "outputs": [
    {
     "name": "stdout",
     "output_type": "stream",
     "text": [
      "[[ 0.35222511  1.74250133  0.21129645]\n",
      " [ 0.42019027  1.56280043 -0.57300945]]\n"
     ]
    }
   ],
   "source": [
    "x_np = np.random.randn(2, 3)\n",
    "print(x_np)"
   ]
  },
  {
   "cell_type": "markdown",
   "metadata": {
    "id": "iDzRsjx75S5A"
   },
   "source": [
    "Use `torch.from_numpy` to convert from numpy array -> PyTorch tensor. The resulting tensor shares the same memory as the numpy array:"
   ]
  },
  {
   "cell_type": "code",
   "execution_count": 19,
   "metadata": {
    "id": "YyaD40zx5S5A",
    "tags": []
   },
   "outputs": [
    {
     "name": "stdout",
     "output_type": "stream",
     "text": [
      "tensor([[ 0.3522,  1.7425,  0.2113],\n",
      "        [ 0.4202,  1.5628, -0.5730]], dtype=torch.float64)\n",
      "tensor([[0., 0., 0.],\n",
      "        [0., 0., 0.]], dtype=torch.float64)\n"
     ]
    }
   ],
   "source": [
    "x = torch.from_numpy(x_np)\n",
    "print(x)\n",
    "\n",
    "x_np[:] = 0\n",
    "print(x)"
   ]
  },
  {
   "cell_type": "markdown",
   "metadata": {
    "id": "Ijw5U4-G5S5A"
   },
   "source": [
    "By default, numpy arrays are float64. You'll probably want to convert arrays to float32, as most tensors in pytorch are float32."
   ]
  },
  {
   "cell_type": "code",
   "execution_count": 20,
   "metadata": {
    "id": "-iLZbvDt5S5A",
    "tags": []
   },
   "outputs": [
    {
     "name": "stdout",
     "output_type": "stream",
     "text": [
      "tensor([[0., 0., 0.],\n",
      "        [0., 0., 0.]])\n"
     ]
    }
   ],
   "source": [
    "x = torch.from_numpy(x_np).float()\n",
    "print(x)"
   ]
  },
  {
   "cell_type": "markdown",
   "metadata": {
    "id": "PbF1DW5v5S5E"
   },
   "source": [
    "Use `.numpy()` to convert from PyTorch tensor -> numpy array:"
   ]
  },
  {
   "cell_type": "code",
   "execution_count": null,
   "metadata": {
    "id": "EtLpukP_5S5E"
   },
   "outputs": [],
   "source": [
    "print(x.numpy())"
   ]
  },
  {
   "cell_type": "markdown",
   "metadata": {
    "id": "OT2_xeyz5S5E"
   },
   "source": [
    "### Let's start with linear regression\n",
    "Suppose we have a bunch of data points generated from a linear model $y_i = wx_i + b$ with additive noise. Our task is to decide the linear model's weight $w$ and bias $b$ using these data on hand."
   ]
  },
  {
   "cell_type": "code",
   "execution_count": 21,
   "metadata": {
    "id": "yuOMa2lW5S5E",
    "tags": []
   },
   "outputs": [],
   "source": [
    "# generate synthetic data\n",
    "def synthetic_data(w, b, num_examples):  #@save\n",
    "    \"\"\"Generate y = Xw + b + noise.\"\"\"\n",
    "    X = torch.normal(0, 1, (num_examples, len(w)))\n",
    "    y = torch.matmul(X, w) + b\n",
    "    y += torch.normal(0, 0.5, y.shape)  # additive noise\n",
    "    return X, y.reshape((-1, 1))\n",
    "\n",
    "true_w = torch.tensor([-3.4])\n",
    "true_b = torch.tensor([4.2])\n",
    "\n",
    "# generate data\n",
    "features, labels = synthetic_data(true_w, true_b, 1000) # generate 1000 data points"
   ]
  },
  {
   "cell_type": "code",
   "execution_count": 22,
   "metadata": {
    "id": "qG6hakKC5S5E",
    "tags": []
   },
   "outputs": [
    {
     "data": {
      "text/plain": [
       "<matplotlib.collections.PathCollection at 0x7fd79a6fa350>"
      ]
     },
     "execution_count": 22,
     "metadata": {},
     "output_type": "execute_result"
    },
    {
     "data": {
      "image/png": "[encoded data removed]",
      "text/plain": [
       "<Figure size 640x480 with 1 Axes>"
      ]
     },
     "metadata": {},
     "output_type": "display_data"
    }
   ],
   "source": [
    "import matplotlib.pyplot as plt\n",
    "# plot data\n",
    "plt.scatter(features, labels)"
   ]
  },
  {
   "cell_type": "code",
   "execution_count": 23,
   "metadata": {
    "id": "Wp7FTres5S5E",
    "tags": []
   },
   "outputs": [],
   "source": [
    "# process the training data\n",
    "def data_iter(batch_size, features, labels):\n",
    "    num_examples = len(features)\n",
    "    indices = np.arange(num_examples)\n",
    "    # The examples are read at random, in no particular order\n",
    "    np.random.shuffle(indices)\n",
    "    for i in range(0, num_examples, batch_size):\n",
    "        batch_indices = torch.tensor(indices[i:min(i +\n",
    "                                                   batch_size, num_examples)])\n",
    "        yield features[batch_indices], labels[batch_indices]"
   ]
  },
  {
   "cell_type": "markdown",
   "metadata": {
    "id": "rQyqXARI5S5E"
   },
   "source": [
    "### Initialize model parameters and define the model\n",
    "To learn a model from data points, let's first define the model form as $y = wx + b$ and initialize our model."
   ]
  },
  {
   "cell_type": "code",
   "execution_count": 24,
   "metadata": {
    "id": "8Cj8Py4s5S5E",
    "tags": []
   },
   "outputs": [
    {
     "name": "stdout",
     "output_type": "stream",
     "text": [
      "The initial weight is: tensor([0.0113]), the intial bias is tensor([0.])\n"
     ]
    }
   ],
   "source": [
    "w = torch.normal(mean=torch.tensor([0.0]), std=torch.tensor([0.1]))\n",
    "b = torch.zeros(1)\n",
    "print(f'The initial weight is: {w}, the intial bias is {b}')"
   ]
  },
  {
   "cell_type": "markdown",
   "metadata": {
    "id": "kjHti2LL5S5E"
   },
   "source": [
    "However, this is not enough! If we want to calculate the gradient w.r.t $w$ and $b$, we have to define it explicitly by setting `requires_grad=True`. This is important, otherwise, we can't optimize these parameters by the optimizer. In practice, you should always take care of which parameter should be set `requires_grad` as `True` and when to set them. Also, in some cases, we need to set `requires_grad` as `False`, and we will discuss it in Part 2."
   ]
  },
  {
   "cell_type": "code",
   "execution_count": 25,
   "metadata": {
    "id": "q1gAGXzx5S5E",
    "tags": []
   },
   "outputs": [
    {
     "name": "stdout",
     "output_type": "stream",
     "text": [
      "After set requires_grad=Ture, the w is: tensor([0.0113], requires_grad=True), and b is tensor([0.], requires_grad=True)\n"
     ]
    }
   ],
   "source": [
    "w.requires_grad = True\n",
    "b.requires_grad = True\n",
    "print(f'After set requires_grad=Ture, the w is: {w}, and b is {b}')"
   ]
  },
  {
   "cell_type": "code",
   "execution_count": 26,
   "metadata": {
    "id": "BF_XbM7g5S5E",
    "tags": []
   },
   "outputs": [],
   "source": [
    "def model(x, w, b):\n",
    "    \"\"\" Define the linear regression model.\"\"\"\n",
    "    return w * x + b"
   ]
  },
  {
   "cell_type": "markdown",
   "metadata": {
    "id": "ocpnF37L5S5E"
   },
   "source": [
    "### Define the loss function and define the optimization algorithm\n",
    "The optimization objective we used here is the **mean square error**: $L = \\frac{1}{N} \\sum_{i=1}^N \\frac{1}{2}(y_i - \\hat{y_i})^2$"
   ]
  },
  {
   "cell_type": "code",
   "execution_count": 27,
   "metadata": {
    "id": "-Fsmsq4B5S5F",
    "tags": []
   },
   "outputs": [],
   "source": [
    "def loss_fn(y_hat, y):\n",
    "    return (y - y_hat)**2 * 0.5"
   ]
  },
  {
   "cell_type": "markdown",
   "metadata": {
    "id": "95KFFTDu5S5F"
   },
   "source": [
    "Once we define the model and the loss function, there are many methods to define the parameters $w$ and $b$ to minimize the loss function. For example, we can calculate the optimal parameters analytically, or we perform the optimization with gradient descent. This tutorial will use the second one.\n",
    "\n",
    "In order to use the gradient descent method, we need to first calculate the gradient as:\n",
    "\n",
    "$$\\frac{dL}{dw} = \\frac{1}{N}\\sum_{i=1}^N -x_i(y_i - w x_i - b) = \\frac{1}{N}\\sum_{i=1}^N(w x_i^2 + b x_i - x_i y_i)$$\n",
    "\n",
    "$$\\frac{dL}{db} = \\frac{1}{N} \\sum_{i=1}^N -(y_i - w x_i - b) = \\frac{1}{N} \\sum_{i=1}^N (w x_i + b - y_i)$$\n",
    "\n",
    "With the gradient w.r.t $w$ and $b$, we finally perform the gradient descent step:\n",
    "\n",
    "$$ w \\leftarrow w - \\alpha \\frac{dL}{dw}$$\n",
    "\n",
    "$$ b \\leftarrow b - \\alpha \\frac{dL}{db}$$\n",
    "\n",
    "Notice that the gradient is estimated using the whole training set. This is fine when the training set is small, but when the training set is large, e.g., ImageNet, calculating over the whole training set to perform one gradient step is expensive. Thus, the simple yet efficient solution is estimating the gradient with a mini batch of training data, we call this method as stochastic gradient descent (SGD)."
   ]
  },
  {
   "cell_type": "code",
   "execution_count": 28,
   "metadata": {
    "id": "1qWBzWy75S5F",
    "tags": []
   },
   "outputs": [],
   "source": [
    "def sgd(params, lr, batch_size):\n",
    "    with torch.no_grad(): # freeze params for saving resources\n",
    "        for param in params:\n",
    "            param -= lr * param.grad / batch_size\n",
    "            param.grad.zero_()  # reset the gradient as 0 !!"
   ]
  },
  {
   "cell_type": "markdown",
   "metadata": {
    "id": "e4obGica5S5F"
   },
   "source": [
    "### Training\n",
    "Now, we can finally perform the training process. But there is still something we should take care of, that is the hyperparameters. Specifically, in our toy linear regression example, we should define the learning rate $\\alpha$ and *batch size*. Hyperparameters are important for machine learning since they hugely influence the training results. So you should always tune them carefully."
   ]
  },
  {
   "cell_type": "code",
   "execution_count": 29,
   "metadata": {
    "id": "RTmej8GB5S5F",
    "tags": []
   },
   "outputs": [],
   "source": [
    "# hyperparameters\n",
    "learning_rate = 0.01\n",
    "batch_size = 10\n",
    "num_epoch = 10"
   ]
  },
  {
   "cell_type": "code",
   "execution_count": 30,
   "metadata": {
    "id": "ZGm7KrzK5S5F",
    "tags": []
   },
   "outputs": [
    {
     "name": "stdout",
     "output_type": "stream",
     "text": [
      "epoch 1, loss 2.0730233192443848\n",
      "epoch 2, loss 0.38818731904029846\n",
      "epoch 3, loss 0.15901444852352142\n",
      "epoch 4, loss 0.1268923133611679\n",
      "epoch 5, loss 0.12283371388912201\n",
      "epoch 6, loss 0.1223670020699501\n",
      "epoch 7, loss 0.12231838703155518\n",
      "epoch 8, loss 0.12231822311878204\n",
      "epoch 9, loss 0.1223115548491478\n",
      "epoch 10, loss 0.12231376767158508\n"
     ]
    }
   ],
   "source": [
    "# training\n",
    "for epoch in range(num_epoch):\n",
    "    for x, y in data_iter(batch_size, features, labels):\n",
    "        y_hat = model(x, w, b)\n",
    "        loss = loss_fn(y_hat, y).sum()\n",
    "        # compute gradient on loss w.r.t w and b\n",
    "        loss.backward()\n",
    "        sgd([w, b], learning_rate, batch_size)\n",
    "\n",
    "    # print\n",
    "    with torch.no_grad():\n",
    "        train_loss = loss_fn(model(features, w, b), labels)\n",
    "        print(f'epoch {epoch+1}, loss {float(train_loss.mean())}')"
   ]
  },
  {
   "cell_type": "markdown",
   "metadata": {
    "id": "H0M3g8pK5S5F"
   },
   "source": [
    "Notice that instead of calcuating the gradient w.r.t $w$ and $b$, we directly call the function `.backward()` on loss. The function is to calculate the gradient w.r.t parameters with `requires_grad=True`. The resulting gradient for each parameter is stored in `param.grad`, see our `sgd()` function. For more detail, please check the document https://pytorch.org/tutorials/beginner/basics/autogradqs_tutorial.html"
   ]
  },
  {
   "cell_type": "code",
   "execution_count": 31,
   "metadata": {
    "id": "r0k9YhEz5S5F",
    "tags": []
   },
   "outputs": [
    {
     "name": "stdout",
     "output_type": "stream",
     "text": [
      "The estimated w is -3.416959047317505, the true w is -3.4000000953674316;\n",
      "The estimated b is 4.194075584411621, the true b is 4.199999809265137\n"
     ]
    },
    {
     "data": {
      "text/plain": [
       "[<matplotlib.lines.Line2D at 0x7fd79a44a980>]"
      ]
     },
     "execution_count": 31,
     "metadata": {},
     "output_type": "execute_result"
    },
    {
     "data": {
      "image/png": "[encoded data removed]",
      "text/plain": [
       "<Figure size 640x480 with 1 Axes>"
      ]
     },
     "metadata": {},
     "output_type": "display_data"
    }
   ],
   "source": [
    "# compare w and b with the ground truth\n",
    "print(f'The estimated w is {w.item()}, the true w is {true_w.item()};')\n",
    "print(f'The estimated b is {b.item()}, the true b is {true_b.item()}')\n",
    "\n",
    "# plot it\n",
    "plt.scatter(features, labels)\n",
    "x = range(-4, 5)\n",
    "y = [model(i,w,b).detach().numpy() for i in x]\n",
    "plt.plot(x, y, 'r')"
   ]
  },
  {
   "cell_type": "markdown",
   "metadata": {
    "id": "bpv-GY9v5S5F"
   },
   "source": [
    "### Change different optimizers\n",
    "In the above example, we define the `sgd()` optimizer by ourselves. However, Pytorch already offers a lot of different optimizers, see https://pytorch.org/docs/stable/optim.html#how-to-use-an-optimizer. Here, we will show how to use the `Adam` optimizer offered by Pytorch. We will show it by keeping the model the same, but change the training loop."
   ]
  },
  {
   "cell_type": "code",
   "execution_count": 32,
   "metadata": {
    "id": "TbICbfKe5S5F",
    "tags": []
   },
   "outputs": [],
   "source": [
    "# let's first define the adam optimizer\n",
    "optimizer = torch.optim.Adam([w, b], lr=learning_rate)"
   ]
  },
  {
   "cell_type": "markdown",
   "metadata": {
    "id": "tOJko7xl5S5F"
   },
   "source": [
    "Again, let's first initialize the parameters. Since we already define the $w$ and $b$, we can easily modify their data by changing `w.data` and `b.data`. Notice that"
   ]
  },
  {
   "cell_type": "code",
   "execution_count": 33,
   "metadata": {
    "id": "ZQalw-YI5S5F",
    "tags": []
   },
   "outputs": [],
   "source": [
    "# Because we want to show\n",
    "w.data = torch.normal(mean=torch.tensor([0.]), std=torch.tensor([0.1]))\n",
    "b.data = torch.zeros(1)"
   ]
  },
  {
   "cell_type": "code",
   "execution_count": 34,
   "metadata": {
    "id": "0orl0C445S5F",
    "tags": []
   },
   "outputs": [
    {
     "name": "stdout",
     "output_type": "stream",
     "text": [
      "epoch 1, loss 8.483393669128418\n",
      "epoch 2, loss 4.691322326660156\n",
      "epoch 3, loss 2.4280025959014893\n",
      "epoch 4, loss 1.185926914215088\n",
      "epoch 5, loss 0.5673758387565613\n",
      "epoch 6, loss 0.2891180217266083\n",
      "epoch 7, loss 0.17881383001804352\n",
      "epoch 8, loss 0.1389768123626709\n",
      "epoch 9, loss 0.12689784169197083\n",
      "epoch 10, loss 0.12351416051387787\n"
     ]
    }
   ],
   "source": [
    "# training loop\n",
    "for epoch in range(num_epoch):\n",
    "    for x, y in data_iter(batch_size, features, labels):\n",
    "        optimizer.zero_grad() # ! Remember to call zero_grad()\n",
    "        y_hat = model(x, w, b)\n",
    "        loss = loss_fn(y_hat, y).sum()\n",
    "\n",
    "        # calculat gradient on loss w.r.t w and b\n",
    "        loss.backward()\n",
    "        # preform the gradient descent step to update parameters\n",
    "        optimizer.step()\n",
    "\n",
    "    # print\n",
    "    with torch.no_grad():\n",
    "        train_loss = loss_fn(model(features, w, b), labels)\n",
    "        print(f'epoch {epoch+1}, loss {float(train_loss.mean())}')"
   ]
  },
  {
   "cell_type": "markdown",
   "metadata": {
    "id": "Tti1npx-5S5F"
   },
   "source": [
    "Here, we want to stress the `optimizer.zero_grad()` function. The `backward()` function, by default, accumulates gradients in the `.grad` buffer. This means that every call to `backward` **adds the gradient** to what is currently stored in the buffer, instead of overwriting it. This is useful when dealing with large models and dataset/batch sizes, where the whole data doesn't fit into memory and the gradients have to be calculated for a larger number of samples and averaged. In our case, we want to calcualte the current gradient value at each iteration, so we have to manually zero out the gradients by calling `optimizer.zero_grad()`.\n"
   ]
  },
  {
   "cell_type": "code",
   "execution_count": 35,
   "metadata": {
    "id": "gBVCnBPJ5S5F",
    "tags": []
   },
   "outputs": [
    {
     "name": "stdout",
     "output_type": "stream",
     "text": [
      "The estimated w is -3.3975579738616943, the true w is -3.4000000953674316;\n",
      "The esimated b is 4.1493330001831055, the true b is 4.199999809265137\n"
     ]
    }
   ],
   "source": [
    "# compare w and b with the ground truth\n",
    "print(f'The estimated w is {w.item()}, the true w is {true_w.item()};')\n",
    "print(f'The esimated b is {b.item()}, the true b is {true_b.item()}')"
   ]
  },
  {
   "cell_type": "markdown",
   "metadata": {
    "id": "O-INR8Fp5S5F"
   },
   "source": [
    "## 2. Basic Neural Network\n",
    "In our assignments, we will use very basic neural networks, especially multilayer perceptrons (MLPs). \"For certain choices of the activation function, it is widely known that MLPs are **universal approximators**. Even with a single-hidden-layer network, given enough nodes (possibly absurdly many), and the right set of weights, **we can model any function**, though actually learning that function is the hard part.\" MLPs are vastly adopted in reinforcement learning to represent the policy, the value function or the dynamic model. In this tutorial, we will quickly go through how to define MLPs and how to train it. For more detail, please check http://www.d2l.ai/chapter_multilayer-perceptrons/mlp.html"
   ]
  },
  {
   "cell_type": "markdown",
   "metadata": {
    "id": "l4dT6Ris5S5G"
   },
   "source": [
    "### Define the network"
   ]
  },
  {
   "cell_type": "code",
   "execution_count": 36,
   "metadata": {
    "id": "rvYo0AQU5S5G",
    "tags": []
   },
   "outputs": [
    {
     "name": "stdout",
     "output_type": "stream",
     "text": [
      "Net(\n",
      "  (layer1): Linear(in_features=1, out_features=10, bias=True)\n",
      "  (layer2): Linear(in_features=10, out_features=10, bias=True)\n",
      "  (output_layer): Linear(in_features=10, out_features=1, bias=True)\n",
      ")\n"
     ]
    }
   ],
   "source": [
    "import torch.nn as nn\n",
    "import torch.nn.functional as F\n",
    "\n",
    "class Net(nn.Module):\n",
    "    def __init__(self, input_dim, output_dim, hidden_dim):\n",
    "        super(Net, self).__init__()\n",
    "        self.layer1 = nn.Linear(input_dim, hidden_dim)\n",
    "        self.layer2 = nn.Linear(hidden_dim, hidden_dim)\n",
    "        self.output_layer = nn.Linear(hidden_dim, output_dim)\n",
    "\n",
    "    def forward(self, x):\n",
    "        x = self.layer1(x)\n",
    "        x = F.relu(x)\n",
    "        x = self.layer2(x)\n",
    "        x = F.relu(x)\n",
    "        x = self.output_layer(x)\n",
    "        return x\n",
    "\n",
    "net = Net(1, 1, 10)\n",
    "print(net)"
   ]
  },
  {
   "cell_type": "markdown",
   "metadata": {
    "id": "iV8GiQmV5S5G"
   },
   "source": [
    "The above `Net` class defines a simple two-layer neural network. In `__init__` function, you can initialize the network, and the operations on inputs are implemented in the `forward` function. As a subclass of `nn.Module`, the backpropagation is automatically built after implementing the `forward` function.\n",
    "\n",
    "`nn.Linear()` is used to define the linear layer $y = w x + b$, and `F.relu()` is the activition function, defined as $relu(x) = max(x, 0)$."
   ]
  },
  {
   "cell_type": "markdown",
   "metadata": {
    "id": "qtTnUg2Z5S5G"
   },
   "source": [
    "### Train the network\n",
    "To be concise, we will use the defined MLPs to approximate a linear model similar to our linear regression example. Please remember that the MLPs is a powerful function approximator, so they can represent much more complex models. We will use the neural network to solve a more complex task later.\n",
    "\n",
    "In this toy example, we will use the same loss function, the same dataset as above, the only difference is instead of using the linear model, we use two-layer MLPs here."
   ]
  },
  {
   "cell_type": "markdown",
   "metadata": {
    "id": "Y2CPeb3v5S5G"
   },
   "source": [
    "The parameters of the MLPs are automatically initialized when defining them. The default initialized values depend on the type of layers. Specifically, for linear layers, the initialized value is given by $U(-\\sqrt{k}, \\sqrt{k})$, where $k = \\frac{1}{in\\_features}$ (see https://github.com/pytorch/pytorch/blob/master/torch/nn/modules/linear.py#L435-L68).\n",
    "\n",
    "The initialized values are:"
   ]
  },
  {
   "cell_type": "code",
   "execution_count": 37,
   "metadata": {
    "id": "U8ZvQtBr5S5G",
    "tags": []
   },
   "outputs": [
    {
     "name": "stdout",
     "output_type": "stream",
     "text": [
      "Parameter containing:\n",
      "tensor([[ 0.1510],\n",
      "        [ 0.4706],\n",
      "        [ 0.6330],\n",
      "        [-0.8542],\n",
      "        [-0.3207],\n",
      "        [ 0.3013],\n",
      "        [ 0.4166],\n",
      "        [-0.8617],\n",
      "        [-0.9125],\n",
      "        [-0.7288]], requires_grad=True)\n",
      "Parameter containing:\n",
      "tensor([-0.5731,  0.6690, -0.7233, -0.5137, -0.6680, -0.2047, -0.8700, -0.9743,\n",
      "         0.2265, -0.4883], requires_grad=True)\n",
      "Parameter containing:\n",
      "tensor([[ 0.2596, -0.0941, -0.2742,  0.1739,  0.2956, -0.2146, -0.2668,  0.0597,\n",
      "          0.2047,  0.2898],\n",
      "        [ 0.2833, -0.0937,  0.1684,  0.0931,  0.0827,  0.3073, -0.3082, -0.2631,\n",
      "          0.2221,  0.0719],\n",
      "        [-0.3152,  0.0108,  0.1226, -0.1071,  0.1809, -0.0356, -0.2793, -0.2030,\n",
      "          0.1467,  0.1900],\n",
      "        [ 0.1049, -0.2585,  0.1980, -0.2419,  0.1056, -0.0875,  0.2965, -0.1445,\n",
      "          0.0815,  0.1009],\n",
      "        [ 0.2717, -0.1023, -0.3041, -0.1490,  0.0037, -0.1751,  0.1044, -0.0887,\n",
      "          0.1570, -0.1213],\n",
      "        [ 0.1460, -0.0672, -0.0652,  0.0056,  0.1778, -0.0943,  0.3161, -0.1681,\n",
      "          0.2767, -0.1895],\n",
      "        [ 0.1072, -0.1398,  0.0856, -0.2362,  0.1519,  0.1285, -0.0008,  0.2942,\n",
      "          0.1547, -0.0829],\n",
      "        [ 0.1676, -0.2973,  0.2433, -0.1586, -0.1877, -0.0693,  0.1108,  0.0620,\n",
      "          0.3144,  0.2639],\n",
      "        [ 0.1204, -0.1910, -0.1897, -0.2397,  0.2038,  0.0045, -0.0746,  0.1555,\n",
      "          0.2381, -0.3018],\n",
      "        [ 0.2396,  0.0750,  0.1878,  0.2664,  0.2707, -0.1720,  0.0643,  0.1004,\n",
      "         -0.2594,  0.2949]], requires_grad=True)\n",
      "Parameter containing:\n",
      "tensor([ 0.0977,  0.1135, -0.0323, -0.1621, -0.2528,  0.0167,  0.1738, -0.1636,\n",
      "        -0.1477,  0.2197], requires_grad=True)\n",
      "Parameter containing:\n",
      "tensor([[-0.0143,  0.1577, -0.1530, -0.1901, -0.0264, -0.3086, -0.0991, -0.1097,\n",
      "         -0.2849, -0.2745]], requires_grad=True)\n",
      "Parameter containing:\n",
      "tensor([0.0229], requires_grad=True)\n"
     ]
    }
   ],
   "source": [
    "for w in net.parameters():\n",
    "    print(w)"
   ]
  },
  {
   "cell_type": "markdown",
   "metadata": {
    "id": "NFTSdX-G5S5G"
   },
   "source": [
    "Now, let's train our network similar to the above example."
   ]
  },
  {
   "cell_type": "code",
   "execution_count": 38,
   "metadata": {
    "id": "B8OTAEqc5S5G",
    "tags": []
   },
   "outputs": [
    {
     "name": "stdout",
     "output_type": "stream",
     "text": [
      "epoch 1, loss 0.17794007062911987\n",
      "epoch 2, loss 0.13621686398983002\n",
      "epoch 3, loss 0.12360986322164536\n",
      "epoch 4, loss 0.12375422567129135\n",
      "epoch 5, loss 0.12568721175193787\n",
      "epoch 6, loss 0.12464092671871185\n",
      "epoch 7, loss 0.12280609458684921\n",
      "epoch 8, loss 0.13173994421958923\n",
      "epoch 9, loss 0.12905775010585785\n",
      "epoch 10, loss 0.12480589002370834\n",
      "epoch 11, loss 0.12306027859449387\n",
      "epoch 12, loss 0.12547044456005096\n",
      "epoch 13, loss 0.13130256533622742\n",
      "epoch 14, loss 0.13728559017181396\n",
      "epoch 15, loss 0.1259937584400177\n"
     ]
    }
   ],
   "source": [
    "# Define the optimizer,\n",
    "num_epoch=15\n",
    "optimizer = torch.optim.Adam(net.parameters(), lr=0.01)\n",
    "# training loop\n",
    "for epoch in range(num_epoch):\n",
    "    for x, y in data_iter(batch_size, features, labels):\n",
    "        optimizer.zero_grad() # ! Remember to call zero_grad()\n",
    "        y_hat = net(x)\n",
    "        loss = loss_fn(y_hat, y).sum()\n",
    "\n",
    "        # calculat gradient on loss w.r.t w and b\n",
    "        loss.backward()\n",
    "        # preform the gradient descent step to update parameters\n",
    "        optimizer.step()\n",
    "\n",
    "    # print\n",
    "    with torch.no_grad():\n",
    "        net.eval()\n",
    "        train_loss = loss_fn(net(features), labels)\n",
    "        print(f'epoch {epoch+1}, loss {float(train_loss.mean())}')\n",
    "        net.train()"
   ]
  },
  {
   "cell_type": "code",
   "execution_count": 39,
   "metadata": {
    "id": "tXGEjJE25S5G",
    "tags": []
   },
   "outputs": [
    {
     "data": {
      "text/plain": [
       "[<matplotlib.lines.Line2D at 0x7fd79a4cb310>]"
      ]
     },
     "execution_count": 39,
     "metadata": {},
     "output_type": "execute_result"
    },
    {
     "data": {
      "image/png": "[encoded data removed]",
      "text/plain": [
       "<Figure size 640x480 with 1 Axes>"
      ]
     },
     "metadata": {},
     "output_type": "display_data"
    }
   ],
   "source": [
    "# plot it\n",
    "plt.scatter(features, labels)\n",
    "x = torch.tensor(range(-4, 5), dtype=torch.float32).unsqueeze(-1)\n",
    "y = [net(i).detach().numpy() for i in x]\n",
    "plt.plot(x, y, 'r')"
   ]
  },
  {
   "cell_type": "markdown",
   "metadata": {
    "id": "lTh4Rah95S5G"
   },
   "source": [
    "#### The `detach()` operator\n",
    "It might be more straightforward to understand the `detach()` operator by showing how it influences the `w` parameter."
   ]
  },
  {
   "cell_type": "code",
   "execution_count": 40,
   "metadata": {
    "id": "SlfZ4cVk5S5G",
    "tags": []
   },
   "outputs": [
    {
     "name": "stdout",
     "output_type": "stream",
     "text": [
      "Before calling detach(), w is Parameter containing:\n",
      "tensor([0.5640], requires_grad=True)\n",
      "After calling detach(), w is tensor([0.5640])\n"
     ]
    }
   ],
   "source": [
    "print(f'Before calling detach(), w is {w}')\n",
    "print(f'After calling detach(), w is {w.detach()}')"
   ]
  },
  {
   "cell_type": "markdown",
   "metadata": {
    "id": "t8tIfYIo5S5G"
   },
   "source": [
    "Obviously, by calling the `detach()` on the parameter `w`, the returned new Tensor doesn't require grad anymore, such its value won't be updated by the optimizer.\n",
    "\n",
    "Notice that the `w.detach()` returns a new Tensor, but the original `w` is not modified, which means the `w` still requires grad."
   ]
  },
  {
   "cell_type": "code",
   "execution_count": 41,
   "metadata": {
    "id": "jTtecvgu5S5G",
    "tags": []
   },
   "outputs": [
    {
     "data": {
      "text/plain": [
       "Parameter containing:\n",
       "tensor([0.5640], requires_grad=True)"
      ]
     },
     "execution_count": 41,
     "metadata": {},
     "output_type": "execute_result"
    }
   ],
   "source": [
    "w"
   ]
  },
  {
   "cell_type": "markdown",
   "metadata": {
    "id": "CqmO11C85S5G"
   },
   "source": [
    "### Distributions\n",
    "PyTorch has a very convenient [distributions](https://pytorch.org/docs/stable/distributions.html) package for probability distributions. This is useful since in RL we often work with stochastic policies (e.g. $\\pi(a|s_0)= $ some Gaussian distribution)."
   ]
  },
  {
   "cell_type": "code",
   "execution_count": 42,
   "metadata": {
    "id": "ZT6B6XVU5S5G",
    "tags": []
   },
   "outputs": [],
   "source": [
    "from torch import distributions"
   ]
  },
  {
   "cell_type": "markdown",
   "metadata": {
    "id": "8LXPKYZR5S5G"
   },
   "source": [
    "You create distributions by passing the parameters of the distribution."
   ]
  },
  {
   "cell_type": "code",
   "execution_count": 43,
   "metadata": {
    "id": "OjONCqIN5S5G",
    "tags": []
   },
   "outputs": [],
   "source": [
    "# Univariate Gaussian with mean 0, std 1\n",
    "mean = torch.zeros(1, requires_grad=True)\n",
    "std = torch.ones(1, requires_grad=True)\n",
    "gaussian = distributions.Normal(mean, std)"
   ]
  },
  {
   "cell_type": "markdown",
   "metadata": {
    "id": "Dp5pWU3L5S5G"
   },
   "source": [
    "These distributions are instances of the more general `Distribution` class, which you can read more about [here](https://pytorch.org/docs/stable/distributions.html#distribution).\n",
    "\n",
    "The two most useful operations you can do with `Distribution` objects are `sample` and `log_prob`:"
   ]
  },
  {
   "cell_type": "code",
   "execution_count": 44,
   "metadata": {
    "id": "kRkc-I6k5S5H",
    "tags": []
   },
   "outputs": [
    {
     "name": "stdout",
     "output_type": "stream",
     "text": [
      "tensor([[0.6909]])\n",
      "tensor([[2.5293]], grad_fn=<AddBackward0>)\n"
     ]
    }
   ],
   "source": [
    "sample = gaussian.sample((1,))\n",
    "print(sample)\n",
    "sample_grad = gaussian.rsample((1,))\n",
    "print(sample_grad)"
   ]
  },
  {
   "cell_type": "code",
   "execution_count": 45,
   "metadata": {
    "id": "YvsNbgNI5S5H",
    "tags": []
   },
   "outputs": [],
   "source": [
    "log_prob = gaussian.log_prob(sample)"
   ]
  },
  {
   "cell_type": "markdown",
   "metadata": {
    "id": "X39JfI9m5S5H"
   },
   "source": [
    "The log probability depends on the the parameters of the distribution. So, calling `backward` on a loss that depends on `log_prob` will back-propagate gradients into the parameters of the distribution.\n",
    "\n",
    "NOTE: this won't back-propagate through the samples (the \"reparameterization trick''), unless you use `rsample`, which is only implemented for some distributions."
   ]
  },
  {
   "cell_type": "markdown",
   "metadata": {
    "id": "3VGDxNxh5S5H"
   },
   "source": [
    "$$s_1, a_1, s_2, a_2, ...$$"
   ]
  },
  {
   "cell_type": "code",
   "execution_count": 46,
   "metadata": {
    "id": "7e68z4JD5S5H",
    "tags": []
   },
   "outputs": [],
   "source": [
    "loss = -log_prob.sum()"
   ]
  },
  {
   "cell_type": "code",
   "execution_count": 47,
   "metadata": {
    "id": "wUc6iKLj5S5H",
    "tags": []
   },
   "outputs": [],
   "source": [
    "loss.backward()"
   ]
  },
  {
   "cell_type": "code",
   "execution_count": 48,
   "metadata": {
    "id": "QvRNbMzD5S5H",
    "tags": []
   },
   "outputs": [
    {
     "name": "stdout",
     "output_type": "stream",
     "text": [
      "tensor([-0.6909])\n"
     ]
    }
   ],
   "source": [
    "print(mean.grad)"
   ]
  },
  {
   "cell_type": "markdown",
   "metadata": {
    "id": "OxNVAW3G5S5H"
   },
   "source": [
    "### Batch-Wise distribution"
   ]
  },
  {
   "cell_type": "markdown",
   "metadata": {
    "id": "fQUdzPSA5S5H"
   },
   "source": [
    "The distributions also support batch-operations. In this case, all the operations (`sample`, `log_prob`, etc.) are batch-wise."
   ]
  },
  {
   "cell_type": "code",
   "execution_count": 49,
   "metadata": {
    "id": "M2i4yfws5S5H",
    "tags": []
   },
   "outputs": [],
   "source": [
    "mean = torch.zeros(10)\n",
    "std = torch.ones(10)\n",
    "gaussian = distributions.Normal(mean, std)"
   ]
  },
  {
   "cell_type": "code",
   "execution_count": 50,
   "metadata": {
    "id": "wRWk3auU5S5H",
    "tags": []
   },
   "outputs": [
    {
     "name": "stdout",
     "output_type": "stream",
     "text": [
      "Normal(loc: torch.Size([10]), scale: torch.Size([10]))\n",
      "torch.Size([10])\n"
     ]
    }
   ],
   "source": [
    "print(gaussian)\n",
    "print(gaussian.batch_shape)"
   ]
  },
  {
   "cell_type": "code",
   "execution_count": 51,
   "metadata": {
    "id": "Fr4jL_Fk5S5H",
    "tags": []
   },
   "outputs": [
    {
     "name": "stdout",
     "output_type": "stream",
     "text": [
      "tensor([[-0.0449, -1.2001, -0.0260, -0.1908,  1.1845, -0.7841,  0.1699,  0.1721,\n",
      "          0.8211,  1.0485],\n",
      "        [-0.2575,  0.8343,  0.2454,  0.6140, -0.3455, -0.4210, -0.7024, -0.1172,\n",
      "         -2.1657, -0.8394],\n",
      "        [ 0.2943,  0.0474,  1.3557,  0.2076, -0.6971, -0.4372, -0.1941, -3.3098,\n",
      "         -0.8188, -0.5069]])\n"
     ]
    }
   ],
   "source": [
    "sample = gaussian.sample((3,))\n",
    "print(sample)"
   ]
  },
  {
   "cell_type": "code",
   "execution_count": 52,
   "metadata": {
    "id": "KNrji_Iw5S5H",
    "tags": []
   },
   "outputs": [
    {
     "data": {
      "text/plain": [
       "tensor([[-0.9199, -1.6391, -0.9193, -0.9371, -1.6205, -1.2263, -0.9334, -0.9337,\n",
       "         -1.2560, -1.4686],\n",
       "        [-0.9521, -1.2670, -0.9491, -1.1074, -0.9786, -1.0075, -1.1656, -0.9258,\n",
       "         -3.2640, -1.2713],\n",
       "        [-0.9622, -0.9201, -1.8379, -0.9405, -1.1619, -1.0145, -0.9378, -6.3962,\n",
       "         -1.2542, -1.0474]])"
      ]
     },
     "execution_count": 52,
     "metadata": {},
     "output_type": "execute_result"
    }
   ],
   "source": [
    "gaussian.log_prob(sample)"
   ]
  },
  {
   "cell_type": "markdown",
   "metadata": {
    "id": "_7UkgzFP5S5H"
   },
   "source": [
    "### Multivariate Normal"
   ]
  },
  {
   "cell_type": "markdown",
   "metadata": {
    "id": "fFPmVK4u5S5H"
   },
   "source": [
    "You can also define a multivariate normal distribution, which allows you to use nondiagonal covariance matrices."
   ]
  },
  {
   "cell_type": "code",
   "execution_count": 53,
   "metadata": {
    "id": "zBjXci3_5S5H",
    "tags": []
   },
   "outputs": [],
   "source": [
    "mean = torch.zeros(2)\n",
    "covariance = torch.tensor(\n",
    "    [[1, 0.8],\n",
    "     [0.8, 1]]\n",
    ")\n",
    "gaussian = distributions.MultivariateNormal(mean, covariance) # can model dependencies between different components"
   ]
  },
  {
   "cell_type": "code",
   "execution_count": 54,
   "metadata": {
    "id": "bAXNEHya5S5H",
    "tags": []
   },
   "outputs": [
    {
     "data": {
      "text/plain": [
       "tensor([[-1.9261, -2.0732]])"
      ]
     },
     "execution_count": 54,
     "metadata": {},
     "output_type": "execute_result"
    }
   ],
   "source": [
    "gaussian.sample((1,))"
   ]
  },
  {
   "cell_type": "code",
   "execution_count": 55,
   "metadata": {
    "id": "GqI41pH45S5H",
    "tags": []
   },
   "outputs": [
    {
     "data": {
      "text/plain": [
       "<matplotlib.collections.PathCollection at 0x7fd799343a00>"
      ]
     },
     "execution_count": 55,
     "metadata": {},
     "output_type": "execute_result"
    },
    {
     "data": {
      "image/png": "[encoded data removed]",
      "text/plain": [
       "<Figure size 640x480 with 1 Axes>"
      ]
     },
     "metadata": {},
     "output_type": "display_data"
    }
   ],
   "source": [
    "samples = gaussian.sample((500,))\n",
    "plt.gca().set_aspect(\"equal\")\n",
    "plt.scatter(samples[:, 0].numpy(), samples[:, 1].numpy())"
   ]
  },
  {
   "cell_type": "markdown",
   "metadata": {
    "id": "izQAKONq5S5I"
   },
   "source": [
    "## Part3: wandb\n",
    "1. Create an account\n",
    "2. Login to the account (put authorize key)\n",
    "3. Use it to log information\n",
    "4. Exporting plots"
   ]
  },
  {
   "cell_type": "code",
   "execution_count": 56,
   "metadata": {
    "id": "iYYfo0ob5ckL",
    "tags": []
   },
   "outputs": [
    {
     "name": "stdout",
     "output_type": "stream",
     "text": [
      "Requirement already satisfied: wandb in /opt/software/lib/python3.10/site-packages (0.15.9)\n",
      "Requirement already satisfied: Click!=8.0.0,>=7.1 in /opt/software/lib/python3.10/site-packages (from wandb) (8.1.4)\n",
      "Requirement already satisfied: GitPython!=3.1.29,>=1.0.0 in /opt/software/lib/python3.10/site-packages (from wandb) (3.1.32)\n",
      "Requirement already satisfied: requests<3,>=2.0.0 in /opt/software/lib/python3.10/site-packages (from wandb) (2.31.0)\n",
      "Requirement already satisfied: psutil>=5.0.0 in /opt/software/lib/python3.10/site-packages (from wandb) (5.9.5)\n",
      "Requirement already satisfied: sentry-sdk>=1.0.0 in /opt/software/lib/python3.10/site-packages (from wandb) (1.29.2)\n",
      "Requirement already satisfied: docker-pycreds>=0.4.0 in /opt/software/lib/python3.10/site-packages (from wandb) (0.4.0)\n",
      "Requirement already satisfied: PyYAML in /opt/software/lib/python3.10/site-packages (from wandb) (6.0)\n",
      "Requirement already satisfied: pathtools in /opt/software/lib/python3.10/site-packages (from wandb) (0.1.2)\n",
      "Requirement already satisfied: setproctitle in /opt/software/lib/python3.10/site-packages (from wandb) (1.3.2)\n",
      "Requirement already satisfied: setuptools in /opt/software/lib/python3.10/site-packages (from wandb) (68.0.0)\n",
      "Requirement already satisfied: appdirs>=1.4.3 in /opt/software/lib/python3.10/site-packages (from wandb) (1.4.4)\n",
      "Requirement already satisfied: protobuf!=4.21.0,<5,>=3.19.0 in /opt/software/lib/python3.10/site-packages (from wandb) (3.20.3)\n",
      "Requirement already satisfied: six>=1.4.0 in /opt/software/lib/python3.10/site-packages (from docker-pycreds>=0.4.0->wandb) (1.16.0)\n",
      "Requirement already satisfied: gitdb<5,>=4.0.1 in /opt/software/lib/python3.10/site-packages (from GitPython!=3.1.29,>=1.0.0->wandb) (4.0.10)\n",
      "Requirement already satisfied: charset-normalizer<4,>=2 in /opt/software/lib/python3.10/site-packages (from requests<3,>=2.0.0->wandb) (3.1.0)\n",
      "Requirement already satisfied: idna<4,>=2.5 in /opt/software/lib/python3.10/site-packages (from requests<3,>=2.0.0->wandb) (3.4)\n",
      "Requirement already satisfied: urllib3<3,>=1.21.1 in /opt/software/lib/python3.10/site-packages (from requests<3,>=2.0.0->wandb) (2.0.3)\n",
      "Requirement already satisfied: certifi>=2017.4.17 in /opt/software/lib/python3.10/site-packages (from requests<3,>=2.0.0->wandb) (2023.5.7)\n",
      "Requirement already satisfied: smmap<6,>=3.0.1 in /opt/software/lib/python3.10/site-packages (from gitdb<5,>=4.0.1->GitPython!=3.1.29,>=1.0.0->wandb) (3.0.5)\n"
     ]
    }
   ],
   "source": [
    "!pip install wandb"
   ]
  },
  {
   "cell_type": "code",
   "execution_count": null,
   "metadata": {
    "id": "Pec_Wfh05S5I",
    "tags": []
   },
   "outputs": [
    {
     "name": "stderr",
     "output_type": "stream",
     "text": [
      "Failed to detect the name of this notebook, you can set it manually with the WANDB_NOTEBOOK_NAME environment variable to enable code saving.\n",
      "\u001b[34m\u001b[1mwandb\u001b[0m: Logging into wandb.ai. (Learn how to deploy a W&B server locally: https://wandb.me/wandb-server)\n",
      "\u001b[34m\u001b[1mwandb\u001b[0m: You can find your API key in your browser here: https://wandb.ai/authorize\n",
      "\u001b[34m\u001b[1mwandb\u001b[0m: Paste an API key from your profile and hit enter, or press ctrl+c to quit:"
     ]
    }
   ],
   "source": [
    "import wandb\n",
    "wandb.login()\n",
    "\n",
    "\n"
   ]
  },
  {
   "cell_type": "code",
   "execution_count": null,
   "metadata": {
    "id": "aJmCtaWC5S5I"
   },
   "outputs": [],
   "source": [
    "wandb.init(\n",
    "        project='Aalto-Demonstration',\n",
    "        group='Ex1-Demonstration',\n",
    "        name='my-first try',\n",
    "        config={}\n",
    "    )\n"
   ]
  },
  {
   "cell_type": "code",
   "execution_count": null,
   "metadata": {
    "id": "WNZu7Hur5S5I"
   },
   "outputs": [],
   "source": [
    "x = np.linspace(0, 2*np.pi)\n",
    "y1 = np.cos(x)\n",
    "y2 = np.sin(x)\n",
    "\n",
    "for t in range(len(x)):\n",
    "    wandb.log({\n",
    "        'x': x[t],\n",
    "        'cos': y1[t],\n",
    "        'sin': y2[t]\n",
    "    })"
   ]
  },
  {
   "cell_type": "code",
   "execution_count": null,
   "metadata": {
    "id": "VwyM4oNE5S5I"
   },
   "outputs": [],
   "source": [
    "wandb.finish()"
   ]
  }
 ],
 "metadata": {
  "colab": {
   "provenance": []
  },
  "kernelspec": {
   "display_name": "Python 3",
   "language": "python",
   "name": "python3"
  },
  "language_info": {
   "codemirror_mode": {
    "name": "ipython",
    "version": 3
   },
   "file_extension": ".py",
   "mimetype": "text/x-python",
   "name": "python",
   "nbconvert_exporter": "python",
   "pygments_lexer": "ipython3",
   "version": "3.10.8"
  }
 },
 "nbformat": 4,
 "nbformat_minor": 4
}
